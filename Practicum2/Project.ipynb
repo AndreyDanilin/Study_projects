{
 "cells": [
  {
   "cell_type": "markdown",
   "metadata": {
    "toc": true
   },
   "source": [
    "<h1>Содержание<span class=\"tocSkip\"></span></h1>\n",
    "<div class=\"toc\"><ul class=\"toc-item\"><li><span><a href=\"#Первичый-осмотр\" data-toc-modified-id=\"Первичый-осмотр-1\"><span class=\"toc-item-num\">1&nbsp;&nbsp;</span>Первичый осмотр</a></span></li><li><span><a href=\"#Подготовка-данных\" data-toc-modified-id=\"Подготовка-данных-2\"><span class=\"toc-item-num\">2&nbsp;&nbsp;</span>Подготовка данных</a></span></li><li><span><a href=\"#Анализ-данных\" data-toc-modified-id=\"Анализ-данных-3\"><span class=\"toc-item-num\">3&nbsp;&nbsp;</span>Анализ данных</a></span></li><li><span><a href=\"#Модель\" data-toc-modified-id=\"Модель-4\"><span class=\"toc-item-num\">4&nbsp;&nbsp;</span>Модель</a></span></li><li><span><a href=\"#Финальный-тест\" data-toc-modified-id=\"Финальный-тест-5\"><span class=\"toc-item-num\">5&nbsp;&nbsp;</span>Финальный тест</a></span></li><li><span><a href=\"#Чек-лист-готовности-проекта\" data-toc-modified-id=\"Чек-лист-готовности-проекта-6\"><span class=\"toc-item-num\">6&nbsp;&nbsp;</span>Чек-лист готовности проекта</a></span></li></ul></div>"
   ]
  },
  {
   "cell_type": "markdown",
   "metadata": {},
   "source": [
    "# Восстановление золота из руды"
   ]
  },
  {
   "cell_type": "markdown",
   "metadata": {},
   "source": [
    "Подготовьте прототип модели машинного обучения для «Цифры». Компания разрабатывает решения для эффективной работы промышленных предприятий.\n",
    "\n",
    "Модель должна предсказать коэффициент восстановления золота из золотосодержащей руды. Используйте данные с параметрами добычи и очистки. \n",
    "\n",
    "Модель поможет оптимизировать производство, чтобы не запускать предприятие с убыточными характеристиками.\n",
    "\n",
    "Вам нужно:\n",
    "\n",
    "1. Подготовить данные;\n",
    "2. Провести исследовательский анализ данных;\n",
    "3. Построить и обучить модель.\n",
    "\n",
    "Чтобы выполнить проект, обращайтесь к библиотекам *pandas*, *matplotlib* и *sklearn.* Вам поможет их документация."
   ]
  },
  {
   "cell_type": "code",
   "execution_count": 1,
   "metadata": {},
   "outputs": [],
   "source": [
    "#Импортирую всё, что мне понадобится\n",
    "import numpy as np\n",
    "import pandas as pd\n",
    "from sklearn.metrics import mean_absolute_error, make_scorer\n",
    "from sklearn.linear_model import LinearRegression\n",
    "from sklearn.ensemble import RandomForestRegressor\n",
    "from sklearn.dummy import DummyRegressor\n",
    "from sklearn.tree import DecisionTreeRegressor\n",
    "from sklearn.model_selection import cross_val_score, GridSearchCV\n",
    "from sklearn.ensemble import RandomForestRegressor\n",
    "import matplotlib.pyplot as plt"
   ]
  },
  {
   "cell_type": "markdown",
   "metadata": {},
   "source": [
    "## Первичый осмотр"
   ]
  },
  {
   "cell_type": "code",
   "execution_count": 2,
   "metadata": {},
   "outputs": [],
   "source": [
    "df_train = pd.read_csv('/datasets/gold_recovery_train_new.csv')\n",
    "df_test = pd.read_csv('/datasets/gold_recovery_test_new.csv')\n",
    "df_full = pd.read_csv('/datasets/gold_recovery_full_new.csv')"
   ]
  },
  {
   "cell_type": "code",
   "execution_count": 3,
   "metadata": {},
   "outputs": [
    {
     "data": {
      "text/html": [
       "<div>\n",
       "<style scoped>\n",
       "    .dataframe tbody tr th:only-of-type {\n",
       "        vertical-align: middle;\n",
       "    }\n",
       "\n",
       "    .dataframe tbody tr th {\n",
       "        vertical-align: top;\n",
       "    }\n",
       "\n",
       "    .dataframe thead th {\n",
       "        text-align: right;\n",
       "    }\n",
       "</style>\n",
       "<table border=\"1\" class=\"dataframe\">\n",
       "  <thead>\n",
       "    <tr style=\"text-align: right;\">\n",
       "      <th></th>\n",
       "      <th>date</th>\n",
       "      <th>final.output.concentrate_ag</th>\n",
       "      <th>final.output.concentrate_pb</th>\n",
       "      <th>final.output.concentrate_sol</th>\n",
       "      <th>final.output.concentrate_au</th>\n",
       "      <th>final.output.recovery</th>\n",
       "      <th>final.output.tail_ag</th>\n",
       "      <th>final.output.tail_pb</th>\n",
       "      <th>final.output.tail_sol</th>\n",
       "      <th>final.output.tail_au</th>\n",
       "      <th>...</th>\n",
       "      <th>secondary_cleaner.state.floatbank4_a_air</th>\n",
       "      <th>secondary_cleaner.state.floatbank4_a_level</th>\n",
       "      <th>secondary_cleaner.state.floatbank4_b_air</th>\n",
       "      <th>secondary_cleaner.state.floatbank4_b_level</th>\n",
       "      <th>secondary_cleaner.state.floatbank5_a_air</th>\n",
       "      <th>secondary_cleaner.state.floatbank5_a_level</th>\n",
       "      <th>secondary_cleaner.state.floatbank5_b_air</th>\n",
       "      <th>secondary_cleaner.state.floatbank5_b_level</th>\n",
       "      <th>secondary_cleaner.state.floatbank6_a_air</th>\n",
       "      <th>secondary_cleaner.state.floatbank6_a_level</th>\n",
       "    </tr>\n",
       "  </thead>\n",
       "  <tbody>\n",
       "    <tr>\n",
       "      <th>0</th>\n",
       "      <td>2016-01-15 00:00:00</td>\n",
       "      <td>6.055403</td>\n",
       "      <td>9.889648</td>\n",
       "      <td>5.507324</td>\n",
       "      <td>42.192020</td>\n",
       "      <td>70.541216</td>\n",
       "      <td>10.411962</td>\n",
       "      <td>0.895447</td>\n",
       "      <td>16.904297</td>\n",
       "      <td>2.143149</td>\n",
       "      <td>...</td>\n",
       "      <td>14.016835</td>\n",
       "      <td>-502.488007</td>\n",
       "      <td>12.099931</td>\n",
       "      <td>-504.715942</td>\n",
       "      <td>9.925633</td>\n",
       "      <td>-498.310211</td>\n",
       "      <td>8.079666</td>\n",
       "      <td>-500.470978</td>\n",
       "      <td>14.151341</td>\n",
       "      <td>-605.841980</td>\n",
       "    </tr>\n",
       "    <tr>\n",
       "      <th>1</th>\n",
       "      <td>2016-01-15 01:00:00</td>\n",
       "      <td>6.029369</td>\n",
       "      <td>9.968944</td>\n",
       "      <td>5.257781</td>\n",
       "      <td>42.701629</td>\n",
       "      <td>69.266198</td>\n",
       "      <td>10.462676</td>\n",
       "      <td>0.927452</td>\n",
       "      <td>16.634514</td>\n",
       "      <td>2.224930</td>\n",
       "      <td>...</td>\n",
       "      <td>13.992281</td>\n",
       "      <td>-505.503262</td>\n",
       "      <td>11.950531</td>\n",
       "      <td>-501.331529</td>\n",
       "      <td>10.039245</td>\n",
       "      <td>-500.169983</td>\n",
       "      <td>7.984757</td>\n",
       "      <td>-500.582168</td>\n",
       "      <td>13.998353</td>\n",
       "      <td>-599.787184</td>\n",
       "    </tr>\n",
       "    <tr>\n",
       "      <th>2</th>\n",
       "      <td>2016-01-15 02:00:00</td>\n",
       "      <td>6.055926</td>\n",
       "      <td>10.213995</td>\n",
       "      <td>5.383759</td>\n",
       "      <td>42.657501</td>\n",
       "      <td>68.116445</td>\n",
       "      <td>10.507046</td>\n",
       "      <td>0.953716</td>\n",
       "      <td>16.208849</td>\n",
       "      <td>2.257889</td>\n",
       "      <td>...</td>\n",
       "      <td>14.015015</td>\n",
       "      <td>-502.520901</td>\n",
       "      <td>11.912783</td>\n",
       "      <td>-501.133383</td>\n",
       "      <td>10.070913</td>\n",
       "      <td>-500.129135</td>\n",
       "      <td>8.013877</td>\n",
       "      <td>-500.517572</td>\n",
       "      <td>14.028663</td>\n",
       "      <td>-601.427363</td>\n",
       "    </tr>\n",
       "    <tr>\n",
       "      <th>3</th>\n",
       "      <td>2016-01-15 03:00:00</td>\n",
       "      <td>6.047977</td>\n",
       "      <td>9.977019</td>\n",
       "      <td>4.858634</td>\n",
       "      <td>42.689819</td>\n",
       "      <td>68.347543</td>\n",
       "      <td>10.422762</td>\n",
       "      <td>0.883763</td>\n",
       "      <td>16.532835</td>\n",
       "      <td>2.146849</td>\n",
       "      <td>...</td>\n",
       "      <td>14.036510</td>\n",
       "      <td>-500.857308</td>\n",
       "      <td>11.999550</td>\n",
       "      <td>-501.193686</td>\n",
       "      <td>9.970366</td>\n",
       "      <td>-499.201640</td>\n",
       "      <td>7.977324</td>\n",
       "      <td>-500.255908</td>\n",
       "      <td>14.005551</td>\n",
       "      <td>-599.996129</td>\n",
       "    </tr>\n",
       "    <tr>\n",
       "      <th>4</th>\n",
       "      <td>2016-01-15 04:00:00</td>\n",
       "      <td>6.148599</td>\n",
       "      <td>10.142511</td>\n",
       "      <td>4.939416</td>\n",
       "      <td>42.774141</td>\n",
       "      <td>66.927016</td>\n",
       "      <td>10.360302</td>\n",
       "      <td>0.792826</td>\n",
       "      <td>16.525686</td>\n",
       "      <td>2.055292</td>\n",
       "      <td>...</td>\n",
       "      <td>14.027298</td>\n",
       "      <td>-499.838632</td>\n",
       "      <td>11.953070</td>\n",
       "      <td>-501.053894</td>\n",
       "      <td>9.925709</td>\n",
       "      <td>-501.686727</td>\n",
       "      <td>7.894242</td>\n",
       "      <td>-500.356035</td>\n",
       "      <td>13.996647</td>\n",
       "      <td>-601.496691</td>\n",
       "    </tr>\n",
       "    <tr>\n",
       "      <th>...</th>\n",
       "      <td>...</td>\n",
       "      <td>...</td>\n",
       "      <td>...</td>\n",
       "      <td>...</td>\n",
       "      <td>...</td>\n",
       "      <td>...</td>\n",
       "      <td>...</td>\n",
       "      <td>...</td>\n",
       "      <td>...</td>\n",
       "      <td>...</td>\n",
       "      <td>...</td>\n",
       "      <td>...</td>\n",
       "      <td>...</td>\n",
       "      <td>...</td>\n",
       "      <td>...</td>\n",
       "      <td>...</td>\n",
       "      <td>...</td>\n",
       "      <td>...</td>\n",
       "      <td>...</td>\n",
       "      <td>...</td>\n",
       "      <td>...</td>\n",
       "    </tr>\n",
       "    <tr>\n",
       "      <th>14144</th>\n",
       "      <td>2018-08-18 06:59:59</td>\n",
       "      <td>3.224920</td>\n",
       "      <td>11.356233</td>\n",
       "      <td>6.803482</td>\n",
       "      <td>46.713954</td>\n",
       "      <td>73.755150</td>\n",
       "      <td>8.769645</td>\n",
       "      <td>3.141541</td>\n",
       "      <td>10.403181</td>\n",
       "      <td>1.529220</td>\n",
       "      <td>...</td>\n",
       "      <td>23.031497</td>\n",
       "      <td>-501.167942</td>\n",
       "      <td>20.007571</td>\n",
       "      <td>-499.740028</td>\n",
       "      <td>18.006038</td>\n",
       "      <td>-499.834374</td>\n",
       "      <td>13.001114</td>\n",
       "      <td>-500.155694</td>\n",
       "      <td>20.007840</td>\n",
       "      <td>-501.296428</td>\n",
       "    </tr>\n",
       "    <tr>\n",
       "      <th>14145</th>\n",
       "      <td>2018-08-18 07:59:59</td>\n",
       "      <td>3.195978</td>\n",
       "      <td>11.349355</td>\n",
       "      <td>6.862249</td>\n",
       "      <td>46.866780</td>\n",
       "      <td>69.049291</td>\n",
       "      <td>8.897321</td>\n",
       "      <td>3.130493</td>\n",
       "      <td>10.549470</td>\n",
       "      <td>1.612542</td>\n",
       "      <td>...</td>\n",
       "      <td>22.960095</td>\n",
       "      <td>-501.612783</td>\n",
       "      <td>20.035660</td>\n",
       "      <td>-500.251357</td>\n",
       "      <td>17.998535</td>\n",
       "      <td>-500.395178</td>\n",
       "      <td>12.954048</td>\n",
       "      <td>-499.895163</td>\n",
       "      <td>19.968498</td>\n",
       "      <td>-501.041608</td>\n",
       "    </tr>\n",
       "    <tr>\n",
       "      <th>14146</th>\n",
       "      <td>2018-08-18 08:59:59</td>\n",
       "      <td>3.109998</td>\n",
       "      <td>11.434366</td>\n",
       "      <td>6.886013</td>\n",
       "      <td>46.795691</td>\n",
       "      <td>67.002189</td>\n",
       "      <td>8.529606</td>\n",
       "      <td>2.911418</td>\n",
       "      <td>11.115147</td>\n",
       "      <td>1.596616</td>\n",
       "      <td>...</td>\n",
       "      <td>23.015718</td>\n",
       "      <td>-501.711599</td>\n",
       "      <td>19.951231</td>\n",
       "      <td>-499.857027</td>\n",
       "      <td>18.019543</td>\n",
       "      <td>-500.451156</td>\n",
       "      <td>13.023431</td>\n",
       "      <td>-499.914391</td>\n",
       "      <td>19.990885</td>\n",
       "      <td>-501.518452</td>\n",
       "    </tr>\n",
       "    <tr>\n",
       "      <th>14147</th>\n",
       "      <td>2018-08-18 09:59:59</td>\n",
       "      <td>3.367241</td>\n",
       "      <td>11.625587</td>\n",
       "      <td>6.799433</td>\n",
       "      <td>46.408188</td>\n",
       "      <td>65.523246</td>\n",
       "      <td>8.777171</td>\n",
       "      <td>2.819214</td>\n",
       "      <td>10.463847</td>\n",
       "      <td>1.602879</td>\n",
       "      <td>...</td>\n",
       "      <td>23.024963</td>\n",
       "      <td>-501.153409</td>\n",
       "      <td>20.054122</td>\n",
       "      <td>-500.314711</td>\n",
       "      <td>17.979515</td>\n",
       "      <td>-499.272871</td>\n",
       "      <td>12.992404</td>\n",
       "      <td>-499.976268</td>\n",
       "      <td>20.013986</td>\n",
       "      <td>-500.625471</td>\n",
       "    </tr>\n",
       "    <tr>\n",
       "      <th>14148</th>\n",
       "      <td>2018-08-18 10:59:59</td>\n",
       "      <td>3.598375</td>\n",
       "      <td>11.737832</td>\n",
       "      <td>6.717509</td>\n",
       "      <td>46.299438</td>\n",
       "      <td>70.281454</td>\n",
       "      <td>8.406690</td>\n",
       "      <td>2.517518</td>\n",
       "      <td>10.652193</td>\n",
       "      <td>1.389434</td>\n",
       "      <td>...</td>\n",
       "      <td>23.018622</td>\n",
       "      <td>-500.492702</td>\n",
       "      <td>20.020205</td>\n",
       "      <td>-500.220296</td>\n",
       "      <td>17.963512</td>\n",
       "      <td>-499.939490</td>\n",
       "      <td>12.990306</td>\n",
       "      <td>-500.080993</td>\n",
       "      <td>19.990336</td>\n",
       "      <td>-499.191575</td>\n",
       "    </tr>\n",
       "  </tbody>\n",
       "</table>\n",
       "<p>14149 rows × 87 columns</p>\n",
       "</div>"
      ],
      "text/plain": [
       "                      date  final.output.concentrate_ag  \\\n",
       "0      2016-01-15 00:00:00                     6.055403   \n",
       "1      2016-01-15 01:00:00                     6.029369   \n",
       "2      2016-01-15 02:00:00                     6.055926   \n",
       "3      2016-01-15 03:00:00                     6.047977   \n",
       "4      2016-01-15 04:00:00                     6.148599   \n",
       "...                    ...                          ...   \n",
       "14144  2018-08-18 06:59:59                     3.224920   \n",
       "14145  2018-08-18 07:59:59                     3.195978   \n",
       "14146  2018-08-18 08:59:59                     3.109998   \n",
       "14147  2018-08-18 09:59:59                     3.367241   \n",
       "14148  2018-08-18 10:59:59                     3.598375   \n",
       "\n",
       "       final.output.concentrate_pb  final.output.concentrate_sol  \\\n",
       "0                         9.889648                      5.507324   \n",
       "1                         9.968944                      5.257781   \n",
       "2                        10.213995                      5.383759   \n",
       "3                         9.977019                      4.858634   \n",
       "4                        10.142511                      4.939416   \n",
       "...                            ...                           ...   \n",
       "14144                    11.356233                      6.803482   \n",
       "14145                    11.349355                      6.862249   \n",
       "14146                    11.434366                      6.886013   \n",
       "14147                    11.625587                      6.799433   \n",
       "14148                    11.737832                      6.717509   \n",
       "\n",
       "       final.output.concentrate_au  final.output.recovery  \\\n",
       "0                        42.192020              70.541216   \n",
       "1                        42.701629              69.266198   \n",
       "2                        42.657501              68.116445   \n",
       "3                        42.689819              68.347543   \n",
       "4                        42.774141              66.927016   \n",
       "...                            ...                    ...   \n",
       "14144                    46.713954              73.755150   \n",
       "14145                    46.866780              69.049291   \n",
       "14146                    46.795691              67.002189   \n",
       "14147                    46.408188              65.523246   \n",
       "14148                    46.299438              70.281454   \n",
       "\n",
       "       final.output.tail_ag  final.output.tail_pb  final.output.tail_sol  \\\n",
       "0                 10.411962              0.895447              16.904297   \n",
       "1                 10.462676              0.927452              16.634514   \n",
       "2                 10.507046              0.953716              16.208849   \n",
       "3                 10.422762              0.883763              16.532835   \n",
       "4                 10.360302              0.792826              16.525686   \n",
       "...                     ...                   ...                    ...   \n",
       "14144              8.769645              3.141541              10.403181   \n",
       "14145              8.897321              3.130493              10.549470   \n",
       "14146              8.529606              2.911418              11.115147   \n",
       "14147              8.777171              2.819214              10.463847   \n",
       "14148              8.406690              2.517518              10.652193   \n",
       "\n",
       "       final.output.tail_au  ...  secondary_cleaner.state.floatbank4_a_air  \\\n",
       "0                  2.143149  ...                                 14.016835   \n",
       "1                  2.224930  ...                                 13.992281   \n",
       "2                  2.257889  ...                                 14.015015   \n",
       "3                  2.146849  ...                                 14.036510   \n",
       "4                  2.055292  ...                                 14.027298   \n",
       "...                     ...  ...                                       ...   \n",
       "14144              1.529220  ...                                 23.031497   \n",
       "14145              1.612542  ...                                 22.960095   \n",
       "14146              1.596616  ...                                 23.015718   \n",
       "14147              1.602879  ...                                 23.024963   \n",
       "14148              1.389434  ...                                 23.018622   \n",
       "\n",
       "       secondary_cleaner.state.floatbank4_a_level  \\\n",
       "0                                     -502.488007   \n",
       "1                                     -505.503262   \n",
       "2                                     -502.520901   \n",
       "3                                     -500.857308   \n",
       "4                                     -499.838632   \n",
       "...                                           ...   \n",
       "14144                                 -501.167942   \n",
       "14145                                 -501.612783   \n",
       "14146                                 -501.711599   \n",
       "14147                                 -501.153409   \n",
       "14148                                 -500.492702   \n",
       "\n",
       "       secondary_cleaner.state.floatbank4_b_air  \\\n",
       "0                                     12.099931   \n",
       "1                                     11.950531   \n",
       "2                                     11.912783   \n",
       "3                                     11.999550   \n",
       "4                                     11.953070   \n",
       "...                                         ...   \n",
       "14144                                 20.007571   \n",
       "14145                                 20.035660   \n",
       "14146                                 19.951231   \n",
       "14147                                 20.054122   \n",
       "14148                                 20.020205   \n",
       "\n",
       "       secondary_cleaner.state.floatbank4_b_level  \\\n",
       "0                                     -504.715942   \n",
       "1                                     -501.331529   \n",
       "2                                     -501.133383   \n",
       "3                                     -501.193686   \n",
       "4                                     -501.053894   \n",
       "...                                           ...   \n",
       "14144                                 -499.740028   \n",
       "14145                                 -500.251357   \n",
       "14146                                 -499.857027   \n",
       "14147                                 -500.314711   \n",
       "14148                                 -500.220296   \n",
       "\n",
       "       secondary_cleaner.state.floatbank5_a_air  \\\n",
       "0                                      9.925633   \n",
       "1                                     10.039245   \n",
       "2                                     10.070913   \n",
       "3                                      9.970366   \n",
       "4                                      9.925709   \n",
       "...                                         ...   \n",
       "14144                                 18.006038   \n",
       "14145                                 17.998535   \n",
       "14146                                 18.019543   \n",
       "14147                                 17.979515   \n",
       "14148                                 17.963512   \n",
       "\n",
       "       secondary_cleaner.state.floatbank5_a_level  \\\n",
       "0                                     -498.310211   \n",
       "1                                     -500.169983   \n",
       "2                                     -500.129135   \n",
       "3                                     -499.201640   \n",
       "4                                     -501.686727   \n",
       "...                                           ...   \n",
       "14144                                 -499.834374   \n",
       "14145                                 -500.395178   \n",
       "14146                                 -500.451156   \n",
       "14147                                 -499.272871   \n",
       "14148                                 -499.939490   \n",
       "\n",
       "       secondary_cleaner.state.floatbank5_b_air  \\\n",
       "0                                      8.079666   \n",
       "1                                      7.984757   \n",
       "2                                      8.013877   \n",
       "3                                      7.977324   \n",
       "4                                      7.894242   \n",
       "...                                         ...   \n",
       "14144                                 13.001114   \n",
       "14145                                 12.954048   \n",
       "14146                                 13.023431   \n",
       "14147                                 12.992404   \n",
       "14148                                 12.990306   \n",
       "\n",
       "       secondary_cleaner.state.floatbank5_b_level  \\\n",
       "0                                     -500.470978   \n",
       "1                                     -500.582168   \n",
       "2                                     -500.517572   \n",
       "3                                     -500.255908   \n",
       "4                                     -500.356035   \n",
       "...                                           ...   \n",
       "14144                                 -500.155694   \n",
       "14145                                 -499.895163   \n",
       "14146                                 -499.914391   \n",
       "14147                                 -499.976268   \n",
       "14148                                 -500.080993   \n",
       "\n",
       "       secondary_cleaner.state.floatbank6_a_air  \\\n",
       "0                                     14.151341   \n",
       "1                                     13.998353   \n",
       "2                                     14.028663   \n",
       "3                                     14.005551   \n",
       "4                                     13.996647   \n",
       "...                                         ...   \n",
       "14144                                 20.007840   \n",
       "14145                                 19.968498   \n",
       "14146                                 19.990885   \n",
       "14147                                 20.013986   \n",
       "14148                                 19.990336   \n",
       "\n",
       "       secondary_cleaner.state.floatbank6_a_level  \n",
       "0                                     -605.841980  \n",
       "1                                     -599.787184  \n",
       "2                                     -601.427363  \n",
       "3                                     -599.996129  \n",
       "4                                     -601.496691  \n",
       "...                                           ...  \n",
       "14144                                 -501.296428  \n",
       "14145                                 -501.041608  \n",
       "14146                                 -501.518452  \n",
       "14147                                 -500.625471  \n",
       "14148                                 -499.191575  \n",
       "\n",
       "[14149 rows x 87 columns]"
      ]
     },
     "execution_count": 3,
     "metadata": {},
     "output_type": "execute_result"
    }
   ],
   "source": [
    "df_train"
   ]
  },
  {
   "cell_type": "code",
   "execution_count": 4,
   "metadata": {},
   "outputs": [
    {
     "data": {
      "text/html": [
       "<div>\n",
       "<style scoped>\n",
       "    .dataframe tbody tr th:only-of-type {\n",
       "        vertical-align: middle;\n",
       "    }\n",
       "\n",
       "    .dataframe tbody tr th {\n",
       "        vertical-align: top;\n",
       "    }\n",
       "\n",
       "    .dataframe thead th {\n",
       "        text-align: right;\n",
       "    }\n",
       "</style>\n",
       "<table border=\"1\" class=\"dataframe\">\n",
       "  <thead>\n",
       "    <tr style=\"text-align: right;\">\n",
       "      <th></th>\n",
       "      <th>date</th>\n",
       "      <th>primary_cleaner.input.sulfate</th>\n",
       "      <th>primary_cleaner.input.depressant</th>\n",
       "      <th>primary_cleaner.input.feed_size</th>\n",
       "      <th>primary_cleaner.input.xanthate</th>\n",
       "      <th>primary_cleaner.state.floatbank8_a_air</th>\n",
       "      <th>primary_cleaner.state.floatbank8_a_level</th>\n",
       "      <th>primary_cleaner.state.floatbank8_b_air</th>\n",
       "      <th>primary_cleaner.state.floatbank8_b_level</th>\n",
       "      <th>primary_cleaner.state.floatbank8_c_air</th>\n",
       "      <th>...</th>\n",
       "      <th>secondary_cleaner.state.floatbank4_a_air</th>\n",
       "      <th>secondary_cleaner.state.floatbank4_a_level</th>\n",
       "      <th>secondary_cleaner.state.floatbank4_b_air</th>\n",
       "      <th>secondary_cleaner.state.floatbank4_b_level</th>\n",
       "      <th>secondary_cleaner.state.floatbank5_a_air</th>\n",
       "      <th>secondary_cleaner.state.floatbank5_a_level</th>\n",
       "      <th>secondary_cleaner.state.floatbank5_b_air</th>\n",
       "      <th>secondary_cleaner.state.floatbank5_b_level</th>\n",
       "      <th>secondary_cleaner.state.floatbank6_a_air</th>\n",
       "      <th>secondary_cleaner.state.floatbank6_a_level</th>\n",
       "    </tr>\n",
       "  </thead>\n",
       "  <tbody>\n",
       "    <tr>\n",
       "      <th>0</th>\n",
       "      <td>2016-09-01 00:59:59</td>\n",
       "      <td>210.800909</td>\n",
       "      <td>14.993118</td>\n",
       "      <td>8.080000</td>\n",
       "      <td>1.005021</td>\n",
       "      <td>1398.981301</td>\n",
       "      <td>-500.225577</td>\n",
       "      <td>1399.144926</td>\n",
       "      <td>-499.919735</td>\n",
       "      <td>1400.102998</td>\n",
       "      <td>...</td>\n",
       "      <td>12.023554</td>\n",
       "      <td>-497.795834</td>\n",
       "      <td>8.016656</td>\n",
       "      <td>-501.289139</td>\n",
       "      <td>7.946562</td>\n",
       "      <td>-432.317850</td>\n",
       "      <td>4.872511</td>\n",
       "      <td>-500.037437</td>\n",
       "      <td>26.705889</td>\n",
       "      <td>-499.709414</td>\n",
       "    </tr>\n",
       "    <tr>\n",
       "      <th>1</th>\n",
       "      <td>2016-09-01 01:59:59</td>\n",
       "      <td>215.392455</td>\n",
       "      <td>14.987471</td>\n",
       "      <td>8.080000</td>\n",
       "      <td>0.990469</td>\n",
       "      <td>1398.777912</td>\n",
       "      <td>-500.057435</td>\n",
       "      <td>1398.055362</td>\n",
       "      <td>-499.778182</td>\n",
       "      <td>1396.151033</td>\n",
       "      <td>...</td>\n",
       "      <td>12.058140</td>\n",
       "      <td>-498.695773</td>\n",
       "      <td>8.130979</td>\n",
       "      <td>-499.634209</td>\n",
       "      <td>7.958270</td>\n",
       "      <td>-525.839648</td>\n",
       "      <td>4.878850</td>\n",
       "      <td>-500.162375</td>\n",
       "      <td>25.019940</td>\n",
       "      <td>-499.819438</td>\n",
       "    </tr>\n",
       "    <tr>\n",
       "      <th>2</th>\n",
       "      <td>2016-09-01 02:59:59</td>\n",
       "      <td>215.259946</td>\n",
       "      <td>12.884934</td>\n",
       "      <td>7.786667</td>\n",
       "      <td>0.996043</td>\n",
       "      <td>1398.493666</td>\n",
       "      <td>-500.868360</td>\n",
       "      <td>1398.860436</td>\n",
       "      <td>-499.764529</td>\n",
       "      <td>1398.075709</td>\n",
       "      <td>...</td>\n",
       "      <td>11.962366</td>\n",
       "      <td>-498.767484</td>\n",
       "      <td>8.096893</td>\n",
       "      <td>-500.827423</td>\n",
       "      <td>8.071056</td>\n",
       "      <td>-500.801673</td>\n",
       "      <td>4.905125</td>\n",
       "      <td>-499.828510</td>\n",
       "      <td>24.994862</td>\n",
       "      <td>-500.622559</td>\n",
       "    </tr>\n",
       "    <tr>\n",
       "      <th>3</th>\n",
       "      <td>2016-09-01 03:59:59</td>\n",
       "      <td>215.336236</td>\n",
       "      <td>12.006805</td>\n",
       "      <td>7.640000</td>\n",
       "      <td>0.863514</td>\n",
       "      <td>1399.618111</td>\n",
       "      <td>-498.863574</td>\n",
       "      <td>1397.440120</td>\n",
       "      <td>-499.211024</td>\n",
       "      <td>1400.129303</td>\n",
       "      <td>...</td>\n",
       "      <td>12.033091</td>\n",
       "      <td>-498.350935</td>\n",
       "      <td>8.074946</td>\n",
       "      <td>-499.474407</td>\n",
       "      <td>7.897085</td>\n",
       "      <td>-500.868509</td>\n",
       "      <td>4.931400</td>\n",
       "      <td>-499.963623</td>\n",
       "      <td>24.948919</td>\n",
       "      <td>-498.709987</td>\n",
       "    </tr>\n",
       "    <tr>\n",
       "      <th>4</th>\n",
       "      <td>2016-09-01 04:59:59</td>\n",
       "      <td>199.099327</td>\n",
       "      <td>10.682530</td>\n",
       "      <td>7.530000</td>\n",
       "      <td>0.805575</td>\n",
       "      <td>1401.268123</td>\n",
       "      <td>-500.808305</td>\n",
       "      <td>1398.128818</td>\n",
       "      <td>-499.504543</td>\n",
       "      <td>1402.172226</td>\n",
       "      <td>...</td>\n",
       "      <td>12.025367</td>\n",
       "      <td>-500.786497</td>\n",
       "      <td>8.054678</td>\n",
       "      <td>-500.397500</td>\n",
       "      <td>8.107890</td>\n",
       "      <td>-509.526725</td>\n",
       "      <td>4.957674</td>\n",
       "      <td>-500.360026</td>\n",
       "      <td>25.003331</td>\n",
       "      <td>-500.856333</td>\n",
       "    </tr>\n",
       "    <tr>\n",
       "      <th>...</th>\n",
       "      <td>...</td>\n",
       "      <td>...</td>\n",
       "      <td>...</td>\n",
       "      <td>...</td>\n",
       "      <td>...</td>\n",
       "      <td>...</td>\n",
       "      <td>...</td>\n",
       "      <td>...</td>\n",
       "      <td>...</td>\n",
       "      <td>...</td>\n",
       "      <td>...</td>\n",
       "      <td>...</td>\n",
       "      <td>...</td>\n",
       "      <td>...</td>\n",
       "      <td>...</td>\n",
       "      <td>...</td>\n",
       "      <td>...</td>\n",
       "      <td>...</td>\n",
       "      <td>...</td>\n",
       "      <td>...</td>\n",
       "      <td>...</td>\n",
       "    </tr>\n",
       "    <tr>\n",
       "      <th>5285</th>\n",
       "      <td>2017-12-31 19:59:59</td>\n",
       "      <td>173.957757</td>\n",
       "      <td>15.963399</td>\n",
       "      <td>8.070000</td>\n",
       "      <td>0.896701</td>\n",
       "      <td>1401.930554</td>\n",
       "      <td>-499.728848</td>\n",
       "      <td>1401.441445</td>\n",
       "      <td>-499.193423</td>\n",
       "      <td>1399.810313</td>\n",
       "      <td>...</td>\n",
       "      <td>13.995957</td>\n",
       "      <td>-500.157454</td>\n",
       "      <td>12.069155</td>\n",
       "      <td>-499.673279</td>\n",
       "      <td>7.977259</td>\n",
       "      <td>-499.516126</td>\n",
       "      <td>5.933319</td>\n",
       "      <td>-499.965973</td>\n",
       "      <td>8.987171</td>\n",
       "      <td>-499.755909</td>\n",
       "    </tr>\n",
       "    <tr>\n",
       "      <th>5286</th>\n",
       "      <td>2017-12-31 20:59:59</td>\n",
       "      <td>172.910270</td>\n",
       "      <td>16.002605</td>\n",
       "      <td>8.070000</td>\n",
       "      <td>0.896519</td>\n",
       "      <td>1447.075722</td>\n",
       "      <td>-494.716823</td>\n",
       "      <td>1448.851892</td>\n",
       "      <td>-465.963026</td>\n",
       "      <td>1443.890424</td>\n",
       "      <td>...</td>\n",
       "      <td>16.749781</td>\n",
       "      <td>-496.031539</td>\n",
       "      <td>13.365371</td>\n",
       "      <td>-499.122723</td>\n",
       "      <td>9.288553</td>\n",
       "      <td>-496.892967</td>\n",
       "      <td>7.372897</td>\n",
       "      <td>-499.942956</td>\n",
       "      <td>8.986832</td>\n",
       "      <td>-499.903761</td>\n",
       "    </tr>\n",
       "    <tr>\n",
       "      <th>5287</th>\n",
       "      <td>2017-12-31 21:59:59</td>\n",
       "      <td>171.135718</td>\n",
       "      <td>15.993669</td>\n",
       "      <td>8.070000</td>\n",
       "      <td>1.165996</td>\n",
       "      <td>1498.836182</td>\n",
       "      <td>-501.770403</td>\n",
       "      <td>1499.572353</td>\n",
       "      <td>-495.516347</td>\n",
       "      <td>1502.749213</td>\n",
       "      <td>...</td>\n",
       "      <td>19.994130</td>\n",
       "      <td>-499.791312</td>\n",
       "      <td>15.101425</td>\n",
       "      <td>-499.936252</td>\n",
       "      <td>10.989181</td>\n",
       "      <td>-498.347898</td>\n",
       "      <td>9.020944</td>\n",
       "      <td>-500.040448</td>\n",
       "      <td>8.982038</td>\n",
       "      <td>-497.789882</td>\n",
       "    </tr>\n",
       "    <tr>\n",
       "      <th>5288</th>\n",
       "      <td>2017-12-31 22:59:59</td>\n",
       "      <td>179.697158</td>\n",
       "      <td>15.438979</td>\n",
       "      <td>8.070000</td>\n",
       "      <td>1.501068</td>\n",
       "      <td>1498.466243</td>\n",
       "      <td>-500.483984</td>\n",
       "      <td>1497.986986</td>\n",
       "      <td>-519.200340</td>\n",
       "      <td>1496.569047</td>\n",
       "      <td>...</td>\n",
       "      <td>19.958760</td>\n",
       "      <td>-499.958750</td>\n",
       "      <td>15.026853</td>\n",
       "      <td>-499.723143</td>\n",
       "      <td>11.011607</td>\n",
       "      <td>-499.985046</td>\n",
       "      <td>9.009783</td>\n",
       "      <td>-499.937902</td>\n",
       "      <td>9.012660</td>\n",
       "      <td>-500.154284</td>\n",
       "    </tr>\n",
       "    <tr>\n",
       "      <th>5289</th>\n",
       "      <td>2017-12-31 23:59:59</td>\n",
       "      <td>181.556856</td>\n",
       "      <td>14.995850</td>\n",
       "      <td>8.070000</td>\n",
       "      <td>1.623454</td>\n",
       "      <td>1498.096303</td>\n",
       "      <td>-499.796922</td>\n",
       "      <td>1501.743791</td>\n",
       "      <td>-505.146931</td>\n",
       "      <td>1499.535978</td>\n",
       "      <td>...</td>\n",
       "      <td>20.034715</td>\n",
       "      <td>-500.728588</td>\n",
       "      <td>14.914199</td>\n",
       "      <td>-499.948518</td>\n",
       "      <td>10.986607</td>\n",
       "      <td>-500.658027</td>\n",
       "      <td>8.989497</td>\n",
       "      <td>-500.337588</td>\n",
       "      <td>8.988632</td>\n",
       "      <td>-500.764937</td>\n",
       "    </tr>\n",
       "  </tbody>\n",
       "</table>\n",
       "<p>5290 rows × 53 columns</p>\n",
       "</div>"
      ],
      "text/plain": [
       "                     date  primary_cleaner.input.sulfate  \\\n",
       "0     2016-09-01 00:59:59                     210.800909   \n",
       "1     2016-09-01 01:59:59                     215.392455   \n",
       "2     2016-09-01 02:59:59                     215.259946   \n",
       "3     2016-09-01 03:59:59                     215.336236   \n",
       "4     2016-09-01 04:59:59                     199.099327   \n",
       "...                   ...                            ...   \n",
       "5285  2017-12-31 19:59:59                     173.957757   \n",
       "5286  2017-12-31 20:59:59                     172.910270   \n",
       "5287  2017-12-31 21:59:59                     171.135718   \n",
       "5288  2017-12-31 22:59:59                     179.697158   \n",
       "5289  2017-12-31 23:59:59                     181.556856   \n",
       "\n",
       "      primary_cleaner.input.depressant  primary_cleaner.input.feed_size  \\\n",
       "0                            14.993118                         8.080000   \n",
       "1                            14.987471                         8.080000   \n",
       "2                            12.884934                         7.786667   \n",
       "3                            12.006805                         7.640000   \n",
       "4                            10.682530                         7.530000   \n",
       "...                                ...                              ...   \n",
       "5285                         15.963399                         8.070000   \n",
       "5286                         16.002605                         8.070000   \n",
       "5287                         15.993669                         8.070000   \n",
       "5288                         15.438979                         8.070000   \n",
       "5289                         14.995850                         8.070000   \n",
       "\n",
       "      primary_cleaner.input.xanthate  primary_cleaner.state.floatbank8_a_air  \\\n",
       "0                           1.005021                             1398.981301   \n",
       "1                           0.990469                             1398.777912   \n",
       "2                           0.996043                             1398.493666   \n",
       "3                           0.863514                             1399.618111   \n",
       "4                           0.805575                             1401.268123   \n",
       "...                              ...                                     ...   \n",
       "5285                        0.896701                             1401.930554   \n",
       "5286                        0.896519                             1447.075722   \n",
       "5287                        1.165996                             1498.836182   \n",
       "5288                        1.501068                             1498.466243   \n",
       "5289                        1.623454                             1498.096303   \n",
       "\n",
       "      primary_cleaner.state.floatbank8_a_level  \\\n",
       "0                                  -500.225577   \n",
       "1                                  -500.057435   \n",
       "2                                  -500.868360   \n",
       "3                                  -498.863574   \n",
       "4                                  -500.808305   \n",
       "...                                        ...   \n",
       "5285                               -499.728848   \n",
       "5286                               -494.716823   \n",
       "5287                               -501.770403   \n",
       "5288                               -500.483984   \n",
       "5289                               -499.796922   \n",
       "\n",
       "      primary_cleaner.state.floatbank8_b_air  \\\n",
       "0                                1399.144926   \n",
       "1                                1398.055362   \n",
       "2                                1398.860436   \n",
       "3                                1397.440120   \n",
       "4                                1398.128818   \n",
       "...                                      ...   \n",
       "5285                             1401.441445   \n",
       "5286                             1448.851892   \n",
       "5287                             1499.572353   \n",
       "5288                             1497.986986   \n",
       "5289                             1501.743791   \n",
       "\n",
       "      primary_cleaner.state.floatbank8_b_level  \\\n",
       "0                                  -499.919735   \n",
       "1                                  -499.778182   \n",
       "2                                  -499.764529   \n",
       "3                                  -499.211024   \n",
       "4                                  -499.504543   \n",
       "...                                        ...   \n",
       "5285                               -499.193423   \n",
       "5286                               -465.963026   \n",
       "5287                               -495.516347   \n",
       "5288                               -519.200340   \n",
       "5289                               -505.146931   \n",
       "\n",
       "      primary_cleaner.state.floatbank8_c_air  ...  \\\n",
       "0                                1400.102998  ...   \n",
       "1                                1396.151033  ...   \n",
       "2                                1398.075709  ...   \n",
       "3                                1400.129303  ...   \n",
       "4                                1402.172226  ...   \n",
       "...                                      ...  ...   \n",
       "5285                             1399.810313  ...   \n",
       "5286                             1443.890424  ...   \n",
       "5287                             1502.749213  ...   \n",
       "5288                             1496.569047  ...   \n",
       "5289                             1499.535978  ...   \n",
       "\n",
       "      secondary_cleaner.state.floatbank4_a_air  \\\n",
       "0                                    12.023554   \n",
       "1                                    12.058140   \n",
       "2                                    11.962366   \n",
       "3                                    12.033091   \n",
       "4                                    12.025367   \n",
       "...                                        ...   \n",
       "5285                                 13.995957   \n",
       "5286                                 16.749781   \n",
       "5287                                 19.994130   \n",
       "5288                                 19.958760   \n",
       "5289                                 20.034715   \n",
       "\n",
       "      secondary_cleaner.state.floatbank4_a_level  \\\n",
       "0                                    -497.795834   \n",
       "1                                    -498.695773   \n",
       "2                                    -498.767484   \n",
       "3                                    -498.350935   \n",
       "4                                    -500.786497   \n",
       "...                                          ...   \n",
       "5285                                 -500.157454   \n",
       "5286                                 -496.031539   \n",
       "5287                                 -499.791312   \n",
       "5288                                 -499.958750   \n",
       "5289                                 -500.728588   \n",
       "\n",
       "      secondary_cleaner.state.floatbank4_b_air  \\\n",
       "0                                     8.016656   \n",
       "1                                     8.130979   \n",
       "2                                     8.096893   \n",
       "3                                     8.074946   \n",
       "4                                     8.054678   \n",
       "...                                        ...   \n",
       "5285                                 12.069155   \n",
       "5286                                 13.365371   \n",
       "5287                                 15.101425   \n",
       "5288                                 15.026853   \n",
       "5289                                 14.914199   \n",
       "\n",
       "      secondary_cleaner.state.floatbank4_b_level  \\\n",
       "0                                    -501.289139   \n",
       "1                                    -499.634209   \n",
       "2                                    -500.827423   \n",
       "3                                    -499.474407   \n",
       "4                                    -500.397500   \n",
       "...                                          ...   \n",
       "5285                                 -499.673279   \n",
       "5286                                 -499.122723   \n",
       "5287                                 -499.936252   \n",
       "5288                                 -499.723143   \n",
       "5289                                 -499.948518   \n",
       "\n",
       "      secondary_cleaner.state.floatbank5_a_air  \\\n",
       "0                                     7.946562   \n",
       "1                                     7.958270   \n",
       "2                                     8.071056   \n",
       "3                                     7.897085   \n",
       "4                                     8.107890   \n",
       "...                                        ...   \n",
       "5285                                  7.977259   \n",
       "5286                                  9.288553   \n",
       "5287                                 10.989181   \n",
       "5288                                 11.011607   \n",
       "5289                                 10.986607   \n",
       "\n",
       "      secondary_cleaner.state.floatbank5_a_level  \\\n",
       "0                                    -432.317850   \n",
       "1                                    -525.839648   \n",
       "2                                    -500.801673   \n",
       "3                                    -500.868509   \n",
       "4                                    -509.526725   \n",
       "...                                          ...   \n",
       "5285                                 -499.516126   \n",
       "5286                                 -496.892967   \n",
       "5287                                 -498.347898   \n",
       "5288                                 -499.985046   \n",
       "5289                                 -500.658027   \n",
       "\n",
       "      secondary_cleaner.state.floatbank5_b_air  \\\n",
       "0                                     4.872511   \n",
       "1                                     4.878850   \n",
       "2                                     4.905125   \n",
       "3                                     4.931400   \n",
       "4                                     4.957674   \n",
       "...                                        ...   \n",
       "5285                                  5.933319   \n",
       "5286                                  7.372897   \n",
       "5287                                  9.020944   \n",
       "5288                                  9.009783   \n",
       "5289                                  8.989497   \n",
       "\n",
       "      secondary_cleaner.state.floatbank5_b_level  \\\n",
       "0                                    -500.037437   \n",
       "1                                    -500.162375   \n",
       "2                                    -499.828510   \n",
       "3                                    -499.963623   \n",
       "4                                    -500.360026   \n",
       "...                                          ...   \n",
       "5285                                 -499.965973   \n",
       "5286                                 -499.942956   \n",
       "5287                                 -500.040448   \n",
       "5288                                 -499.937902   \n",
       "5289                                 -500.337588   \n",
       "\n",
       "      secondary_cleaner.state.floatbank6_a_air  \\\n",
       "0                                    26.705889   \n",
       "1                                    25.019940   \n",
       "2                                    24.994862   \n",
       "3                                    24.948919   \n",
       "4                                    25.003331   \n",
       "...                                        ...   \n",
       "5285                                  8.987171   \n",
       "5286                                  8.986832   \n",
       "5287                                  8.982038   \n",
       "5288                                  9.012660   \n",
       "5289                                  8.988632   \n",
       "\n",
       "      secondary_cleaner.state.floatbank6_a_level  \n",
       "0                                    -499.709414  \n",
       "1                                    -499.819438  \n",
       "2                                    -500.622559  \n",
       "3                                    -498.709987  \n",
       "4                                    -500.856333  \n",
       "...                                          ...  \n",
       "5285                                 -499.755909  \n",
       "5286                                 -499.903761  \n",
       "5287                                 -497.789882  \n",
       "5288                                 -500.154284  \n",
       "5289                                 -500.764937  \n",
       "\n",
       "[5290 rows x 53 columns]"
      ]
     },
     "execution_count": 4,
     "metadata": {},
     "output_type": "execute_result"
    }
   ],
   "source": [
    "df_test"
   ]
  },
  {
   "cell_type": "code",
   "execution_count": 5,
   "metadata": {},
   "outputs": [
    {
     "data": {
      "text/html": [
       "<div>\n",
       "<style scoped>\n",
       "    .dataframe tbody tr th:only-of-type {\n",
       "        vertical-align: middle;\n",
       "    }\n",
       "\n",
       "    .dataframe tbody tr th {\n",
       "        vertical-align: top;\n",
       "    }\n",
       "\n",
       "    .dataframe thead th {\n",
       "        text-align: right;\n",
       "    }\n",
       "</style>\n",
       "<table border=\"1\" class=\"dataframe\">\n",
       "  <thead>\n",
       "    <tr style=\"text-align: right;\">\n",
       "      <th></th>\n",
       "      <th>date</th>\n",
       "      <th>final.output.concentrate_ag</th>\n",
       "      <th>final.output.concentrate_pb</th>\n",
       "      <th>final.output.concentrate_sol</th>\n",
       "      <th>final.output.concentrate_au</th>\n",
       "      <th>final.output.recovery</th>\n",
       "      <th>final.output.tail_ag</th>\n",
       "      <th>final.output.tail_pb</th>\n",
       "      <th>final.output.tail_sol</th>\n",
       "      <th>final.output.tail_au</th>\n",
       "      <th>...</th>\n",
       "      <th>secondary_cleaner.state.floatbank4_a_air</th>\n",
       "      <th>secondary_cleaner.state.floatbank4_a_level</th>\n",
       "      <th>secondary_cleaner.state.floatbank4_b_air</th>\n",
       "      <th>secondary_cleaner.state.floatbank4_b_level</th>\n",
       "      <th>secondary_cleaner.state.floatbank5_a_air</th>\n",
       "      <th>secondary_cleaner.state.floatbank5_a_level</th>\n",
       "      <th>secondary_cleaner.state.floatbank5_b_air</th>\n",
       "      <th>secondary_cleaner.state.floatbank5_b_level</th>\n",
       "      <th>secondary_cleaner.state.floatbank6_a_air</th>\n",
       "      <th>secondary_cleaner.state.floatbank6_a_level</th>\n",
       "    </tr>\n",
       "  </thead>\n",
       "  <tbody>\n",
       "    <tr>\n",
       "      <th>0</th>\n",
       "      <td>2016-01-15 00:00:00</td>\n",
       "      <td>6.055403</td>\n",
       "      <td>9.889648</td>\n",
       "      <td>5.507324</td>\n",
       "      <td>42.192020</td>\n",
       "      <td>70.541216</td>\n",
       "      <td>10.411962</td>\n",
       "      <td>0.895447</td>\n",
       "      <td>16.904297</td>\n",
       "      <td>2.143149</td>\n",
       "      <td>...</td>\n",
       "      <td>14.016835</td>\n",
       "      <td>-502.488007</td>\n",
       "      <td>12.099931</td>\n",
       "      <td>-504.715942</td>\n",
       "      <td>9.925633</td>\n",
       "      <td>-498.310211</td>\n",
       "      <td>8.079666</td>\n",
       "      <td>-500.470978</td>\n",
       "      <td>14.151341</td>\n",
       "      <td>-605.841980</td>\n",
       "    </tr>\n",
       "    <tr>\n",
       "      <th>1</th>\n",
       "      <td>2016-01-15 01:00:00</td>\n",
       "      <td>6.029369</td>\n",
       "      <td>9.968944</td>\n",
       "      <td>5.257781</td>\n",
       "      <td>42.701629</td>\n",
       "      <td>69.266198</td>\n",
       "      <td>10.462676</td>\n",
       "      <td>0.927452</td>\n",
       "      <td>16.634514</td>\n",
       "      <td>2.224930</td>\n",
       "      <td>...</td>\n",
       "      <td>13.992281</td>\n",
       "      <td>-505.503262</td>\n",
       "      <td>11.950531</td>\n",
       "      <td>-501.331529</td>\n",
       "      <td>10.039245</td>\n",
       "      <td>-500.169983</td>\n",
       "      <td>7.984757</td>\n",
       "      <td>-500.582168</td>\n",
       "      <td>13.998353</td>\n",
       "      <td>-599.787184</td>\n",
       "    </tr>\n",
       "    <tr>\n",
       "      <th>2</th>\n",
       "      <td>2016-01-15 02:00:00</td>\n",
       "      <td>6.055926</td>\n",
       "      <td>10.213995</td>\n",
       "      <td>5.383759</td>\n",
       "      <td>42.657501</td>\n",
       "      <td>68.116445</td>\n",
       "      <td>10.507046</td>\n",
       "      <td>0.953716</td>\n",
       "      <td>16.208849</td>\n",
       "      <td>2.257889</td>\n",
       "      <td>...</td>\n",
       "      <td>14.015015</td>\n",
       "      <td>-502.520901</td>\n",
       "      <td>11.912783</td>\n",
       "      <td>-501.133383</td>\n",
       "      <td>10.070913</td>\n",
       "      <td>-500.129135</td>\n",
       "      <td>8.013877</td>\n",
       "      <td>-500.517572</td>\n",
       "      <td>14.028663</td>\n",
       "      <td>-601.427363</td>\n",
       "    </tr>\n",
       "    <tr>\n",
       "      <th>3</th>\n",
       "      <td>2016-01-15 03:00:00</td>\n",
       "      <td>6.047977</td>\n",
       "      <td>9.977019</td>\n",
       "      <td>4.858634</td>\n",
       "      <td>42.689819</td>\n",
       "      <td>68.347543</td>\n",
       "      <td>10.422762</td>\n",
       "      <td>0.883763</td>\n",
       "      <td>16.532835</td>\n",
       "      <td>2.146849</td>\n",
       "      <td>...</td>\n",
       "      <td>14.036510</td>\n",
       "      <td>-500.857308</td>\n",
       "      <td>11.999550</td>\n",
       "      <td>-501.193686</td>\n",
       "      <td>9.970366</td>\n",
       "      <td>-499.201640</td>\n",
       "      <td>7.977324</td>\n",
       "      <td>-500.255908</td>\n",
       "      <td>14.005551</td>\n",
       "      <td>-599.996129</td>\n",
       "    </tr>\n",
       "    <tr>\n",
       "      <th>4</th>\n",
       "      <td>2016-01-15 04:00:00</td>\n",
       "      <td>6.148599</td>\n",
       "      <td>10.142511</td>\n",
       "      <td>4.939416</td>\n",
       "      <td>42.774141</td>\n",
       "      <td>66.927016</td>\n",
       "      <td>10.360302</td>\n",
       "      <td>0.792826</td>\n",
       "      <td>16.525686</td>\n",
       "      <td>2.055292</td>\n",
       "      <td>...</td>\n",
       "      <td>14.027298</td>\n",
       "      <td>-499.838632</td>\n",
       "      <td>11.953070</td>\n",
       "      <td>-501.053894</td>\n",
       "      <td>9.925709</td>\n",
       "      <td>-501.686727</td>\n",
       "      <td>7.894242</td>\n",
       "      <td>-500.356035</td>\n",
       "      <td>13.996647</td>\n",
       "      <td>-601.496691</td>\n",
       "    </tr>\n",
       "    <tr>\n",
       "      <th>...</th>\n",
       "      <td>...</td>\n",
       "      <td>...</td>\n",
       "      <td>...</td>\n",
       "      <td>...</td>\n",
       "      <td>...</td>\n",
       "      <td>...</td>\n",
       "      <td>...</td>\n",
       "      <td>...</td>\n",
       "      <td>...</td>\n",
       "      <td>...</td>\n",
       "      <td>...</td>\n",
       "      <td>...</td>\n",
       "      <td>...</td>\n",
       "      <td>...</td>\n",
       "      <td>...</td>\n",
       "      <td>...</td>\n",
       "      <td>...</td>\n",
       "      <td>...</td>\n",
       "      <td>...</td>\n",
       "      <td>...</td>\n",
       "      <td>...</td>\n",
       "    </tr>\n",
       "    <tr>\n",
       "      <th>19434</th>\n",
       "      <td>2018-08-18 06:59:59</td>\n",
       "      <td>3.224920</td>\n",
       "      <td>11.356233</td>\n",
       "      <td>6.803482</td>\n",
       "      <td>46.713954</td>\n",
       "      <td>73.755150</td>\n",
       "      <td>8.769645</td>\n",
       "      <td>3.141541</td>\n",
       "      <td>10.403181</td>\n",
       "      <td>1.529220</td>\n",
       "      <td>...</td>\n",
       "      <td>23.031497</td>\n",
       "      <td>-501.167942</td>\n",
       "      <td>20.007571</td>\n",
       "      <td>-499.740028</td>\n",
       "      <td>18.006038</td>\n",
       "      <td>-499.834374</td>\n",
       "      <td>13.001114</td>\n",
       "      <td>-500.155694</td>\n",
       "      <td>20.007840</td>\n",
       "      <td>-501.296428</td>\n",
       "    </tr>\n",
       "    <tr>\n",
       "      <th>19435</th>\n",
       "      <td>2018-08-18 07:59:59</td>\n",
       "      <td>3.195978</td>\n",
       "      <td>11.349355</td>\n",
       "      <td>6.862249</td>\n",
       "      <td>46.866780</td>\n",
       "      <td>69.049291</td>\n",
       "      <td>8.897321</td>\n",
       "      <td>3.130493</td>\n",
       "      <td>10.549470</td>\n",
       "      <td>1.612542</td>\n",
       "      <td>...</td>\n",
       "      <td>22.960095</td>\n",
       "      <td>-501.612783</td>\n",
       "      <td>20.035660</td>\n",
       "      <td>-500.251357</td>\n",
       "      <td>17.998535</td>\n",
       "      <td>-500.395178</td>\n",
       "      <td>12.954048</td>\n",
       "      <td>-499.895163</td>\n",
       "      <td>19.968498</td>\n",
       "      <td>-501.041608</td>\n",
       "    </tr>\n",
       "    <tr>\n",
       "      <th>19436</th>\n",
       "      <td>2018-08-18 08:59:59</td>\n",
       "      <td>3.109998</td>\n",
       "      <td>11.434366</td>\n",
       "      <td>6.886013</td>\n",
       "      <td>46.795691</td>\n",
       "      <td>67.002189</td>\n",
       "      <td>8.529606</td>\n",
       "      <td>2.911418</td>\n",
       "      <td>11.115147</td>\n",
       "      <td>1.596616</td>\n",
       "      <td>...</td>\n",
       "      <td>23.015718</td>\n",
       "      <td>-501.711599</td>\n",
       "      <td>19.951231</td>\n",
       "      <td>-499.857027</td>\n",
       "      <td>18.019543</td>\n",
       "      <td>-500.451156</td>\n",
       "      <td>13.023431</td>\n",
       "      <td>-499.914391</td>\n",
       "      <td>19.990885</td>\n",
       "      <td>-501.518452</td>\n",
       "    </tr>\n",
       "    <tr>\n",
       "      <th>19437</th>\n",
       "      <td>2018-08-18 09:59:59</td>\n",
       "      <td>3.367241</td>\n",
       "      <td>11.625587</td>\n",
       "      <td>6.799433</td>\n",
       "      <td>46.408188</td>\n",
       "      <td>65.523246</td>\n",
       "      <td>8.777171</td>\n",
       "      <td>2.819214</td>\n",
       "      <td>10.463847</td>\n",
       "      <td>1.602879</td>\n",
       "      <td>...</td>\n",
       "      <td>23.024963</td>\n",
       "      <td>-501.153409</td>\n",
       "      <td>20.054122</td>\n",
       "      <td>-500.314711</td>\n",
       "      <td>17.979515</td>\n",
       "      <td>-499.272871</td>\n",
       "      <td>12.992404</td>\n",
       "      <td>-499.976268</td>\n",
       "      <td>20.013986</td>\n",
       "      <td>-500.625471</td>\n",
       "    </tr>\n",
       "    <tr>\n",
       "      <th>19438</th>\n",
       "      <td>2018-08-18 10:59:59</td>\n",
       "      <td>3.598375</td>\n",
       "      <td>11.737832</td>\n",
       "      <td>6.717509</td>\n",
       "      <td>46.299438</td>\n",
       "      <td>70.281454</td>\n",
       "      <td>8.406690</td>\n",
       "      <td>2.517518</td>\n",
       "      <td>10.652193</td>\n",
       "      <td>1.389434</td>\n",
       "      <td>...</td>\n",
       "      <td>23.018622</td>\n",
       "      <td>-500.492702</td>\n",
       "      <td>20.020205</td>\n",
       "      <td>-500.220296</td>\n",
       "      <td>17.963512</td>\n",
       "      <td>-499.939490</td>\n",
       "      <td>12.990306</td>\n",
       "      <td>-500.080993</td>\n",
       "      <td>19.990336</td>\n",
       "      <td>-499.191575</td>\n",
       "    </tr>\n",
       "  </tbody>\n",
       "</table>\n",
       "<p>19439 rows × 87 columns</p>\n",
       "</div>"
      ],
      "text/plain": [
       "                      date  final.output.concentrate_ag  \\\n",
       "0      2016-01-15 00:00:00                     6.055403   \n",
       "1      2016-01-15 01:00:00                     6.029369   \n",
       "2      2016-01-15 02:00:00                     6.055926   \n",
       "3      2016-01-15 03:00:00                     6.047977   \n",
       "4      2016-01-15 04:00:00                     6.148599   \n",
       "...                    ...                          ...   \n",
       "19434  2018-08-18 06:59:59                     3.224920   \n",
       "19435  2018-08-18 07:59:59                     3.195978   \n",
       "19436  2018-08-18 08:59:59                     3.109998   \n",
       "19437  2018-08-18 09:59:59                     3.367241   \n",
       "19438  2018-08-18 10:59:59                     3.598375   \n",
       "\n",
       "       final.output.concentrate_pb  final.output.concentrate_sol  \\\n",
       "0                         9.889648                      5.507324   \n",
       "1                         9.968944                      5.257781   \n",
       "2                        10.213995                      5.383759   \n",
       "3                         9.977019                      4.858634   \n",
       "4                        10.142511                      4.939416   \n",
       "...                            ...                           ...   \n",
       "19434                    11.356233                      6.803482   \n",
       "19435                    11.349355                      6.862249   \n",
       "19436                    11.434366                      6.886013   \n",
       "19437                    11.625587                      6.799433   \n",
       "19438                    11.737832                      6.717509   \n",
       "\n",
       "       final.output.concentrate_au  final.output.recovery  \\\n",
       "0                        42.192020              70.541216   \n",
       "1                        42.701629              69.266198   \n",
       "2                        42.657501              68.116445   \n",
       "3                        42.689819              68.347543   \n",
       "4                        42.774141              66.927016   \n",
       "...                            ...                    ...   \n",
       "19434                    46.713954              73.755150   \n",
       "19435                    46.866780              69.049291   \n",
       "19436                    46.795691              67.002189   \n",
       "19437                    46.408188              65.523246   \n",
       "19438                    46.299438              70.281454   \n",
       "\n",
       "       final.output.tail_ag  final.output.tail_pb  final.output.tail_sol  \\\n",
       "0                 10.411962              0.895447              16.904297   \n",
       "1                 10.462676              0.927452              16.634514   \n",
       "2                 10.507046              0.953716              16.208849   \n",
       "3                 10.422762              0.883763              16.532835   \n",
       "4                 10.360302              0.792826              16.525686   \n",
       "...                     ...                   ...                    ...   \n",
       "19434              8.769645              3.141541              10.403181   \n",
       "19435              8.897321              3.130493              10.549470   \n",
       "19436              8.529606              2.911418              11.115147   \n",
       "19437              8.777171              2.819214              10.463847   \n",
       "19438              8.406690              2.517518              10.652193   \n",
       "\n",
       "       final.output.tail_au  ...  secondary_cleaner.state.floatbank4_a_air  \\\n",
       "0                  2.143149  ...                                 14.016835   \n",
       "1                  2.224930  ...                                 13.992281   \n",
       "2                  2.257889  ...                                 14.015015   \n",
       "3                  2.146849  ...                                 14.036510   \n",
       "4                  2.055292  ...                                 14.027298   \n",
       "...                     ...  ...                                       ...   \n",
       "19434              1.529220  ...                                 23.031497   \n",
       "19435              1.612542  ...                                 22.960095   \n",
       "19436              1.596616  ...                                 23.015718   \n",
       "19437              1.602879  ...                                 23.024963   \n",
       "19438              1.389434  ...                                 23.018622   \n",
       "\n",
       "       secondary_cleaner.state.floatbank4_a_level  \\\n",
       "0                                     -502.488007   \n",
       "1                                     -505.503262   \n",
       "2                                     -502.520901   \n",
       "3                                     -500.857308   \n",
       "4                                     -499.838632   \n",
       "...                                           ...   \n",
       "19434                                 -501.167942   \n",
       "19435                                 -501.612783   \n",
       "19436                                 -501.711599   \n",
       "19437                                 -501.153409   \n",
       "19438                                 -500.492702   \n",
       "\n",
       "       secondary_cleaner.state.floatbank4_b_air  \\\n",
       "0                                     12.099931   \n",
       "1                                     11.950531   \n",
       "2                                     11.912783   \n",
       "3                                     11.999550   \n",
       "4                                     11.953070   \n",
       "...                                         ...   \n",
       "19434                                 20.007571   \n",
       "19435                                 20.035660   \n",
       "19436                                 19.951231   \n",
       "19437                                 20.054122   \n",
       "19438                                 20.020205   \n",
       "\n",
       "       secondary_cleaner.state.floatbank4_b_level  \\\n",
       "0                                     -504.715942   \n",
       "1                                     -501.331529   \n",
       "2                                     -501.133383   \n",
       "3                                     -501.193686   \n",
       "4                                     -501.053894   \n",
       "...                                           ...   \n",
       "19434                                 -499.740028   \n",
       "19435                                 -500.251357   \n",
       "19436                                 -499.857027   \n",
       "19437                                 -500.314711   \n",
       "19438                                 -500.220296   \n",
       "\n",
       "       secondary_cleaner.state.floatbank5_a_air  \\\n",
       "0                                      9.925633   \n",
       "1                                     10.039245   \n",
       "2                                     10.070913   \n",
       "3                                      9.970366   \n",
       "4                                      9.925709   \n",
       "...                                         ...   \n",
       "19434                                 18.006038   \n",
       "19435                                 17.998535   \n",
       "19436                                 18.019543   \n",
       "19437                                 17.979515   \n",
       "19438                                 17.963512   \n",
       "\n",
       "       secondary_cleaner.state.floatbank5_a_level  \\\n",
       "0                                     -498.310211   \n",
       "1                                     -500.169983   \n",
       "2                                     -500.129135   \n",
       "3                                     -499.201640   \n",
       "4                                     -501.686727   \n",
       "...                                           ...   \n",
       "19434                                 -499.834374   \n",
       "19435                                 -500.395178   \n",
       "19436                                 -500.451156   \n",
       "19437                                 -499.272871   \n",
       "19438                                 -499.939490   \n",
       "\n",
       "       secondary_cleaner.state.floatbank5_b_air  \\\n",
       "0                                      8.079666   \n",
       "1                                      7.984757   \n",
       "2                                      8.013877   \n",
       "3                                      7.977324   \n",
       "4                                      7.894242   \n",
       "...                                         ...   \n",
       "19434                                 13.001114   \n",
       "19435                                 12.954048   \n",
       "19436                                 13.023431   \n",
       "19437                                 12.992404   \n",
       "19438                                 12.990306   \n",
       "\n",
       "       secondary_cleaner.state.floatbank5_b_level  \\\n",
       "0                                     -500.470978   \n",
       "1                                     -500.582168   \n",
       "2                                     -500.517572   \n",
       "3                                     -500.255908   \n",
       "4                                     -500.356035   \n",
       "...                                           ...   \n",
       "19434                                 -500.155694   \n",
       "19435                                 -499.895163   \n",
       "19436                                 -499.914391   \n",
       "19437                                 -499.976268   \n",
       "19438                                 -500.080993   \n",
       "\n",
       "       secondary_cleaner.state.floatbank6_a_air  \\\n",
       "0                                     14.151341   \n",
       "1                                     13.998353   \n",
       "2                                     14.028663   \n",
       "3                                     14.005551   \n",
       "4                                     13.996647   \n",
       "...                                         ...   \n",
       "19434                                 20.007840   \n",
       "19435                                 19.968498   \n",
       "19436                                 19.990885   \n",
       "19437                                 20.013986   \n",
       "19438                                 19.990336   \n",
       "\n",
       "       secondary_cleaner.state.floatbank6_a_level  \n",
       "0                                     -605.841980  \n",
       "1                                     -599.787184  \n",
       "2                                     -601.427363  \n",
       "3                                     -599.996129  \n",
       "4                                     -601.496691  \n",
       "...                                           ...  \n",
       "19434                                 -501.296428  \n",
       "19435                                 -501.041608  \n",
       "19436                                 -501.518452  \n",
       "19437                                 -500.625471  \n",
       "19438                                 -499.191575  \n",
       "\n",
       "[19439 rows x 87 columns]"
      ]
     },
     "execution_count": 5,
     "metadata": {},
     "output_type": "execute_result"
    }
   ],
   "source": [
    "df_full"
   ]
  },
  {
   "cell_type": "markdown",
   "metadata": {},
   "source": [
    "Слишком много столбцов, поэтому привычный мне первичный осмотр выглядит неуместным. Вместо этого я хочу уделить внимание столбцам, и их расхождению между предоставленными массивами"
   ]
  },
  {
   "cell_type": "code",
   "execution_count": 6,
   "metadata": {},
   "outputs": [
    {
     "name": "stdout",
     "output_type": "stream",
     "text": [
      "Количество столбцов в исходных данных - 87\n",
      "Количество столбцов в тренировочной выборке - 87\n",
      "Количество столбцов в тестовой выборке - 53\n"
     ]
    }
   ],
   "source": [
    "#вывожу количество столбцов\n",
    "print('Количество столбцов в исходных данных -',len(df_full.axes[1]))\n",
    "print('Количество столбцов в тренировочной выборке -',len(df_train.axes[1]))\n",
    "print('Количество столбцов в тестовой выборке -',len(df_test.axes[1]))"
   ]
  },
  {
   "cell_type": "markdown",
   "metadata": {},
   "source": [
    "В тестовой выборке отсутсвует 34 столбца, необходимо разобратся с этим"
   ]
  },
  {
   "cell_type": "markdown",
   "metadata": {},
   "source": [
    "Выводы по результатам осмотра: Отсутвует целевой параметр(rougher.output.recovery) его необходимо добавить, используя массив с исходными данными, остальные 33 столбца следует удалить из валидационной выборки, т.к лишние столбцы испортят процесс предсказания модели"
   ]
  },
  {
   "cell_type": "markdown",
   "metadata": {},
   "source": [
    "## Подготовка данных"
   ]
  },
  {
   "cell_type": "code",
   "execution_count": 7,
   "metadata": {},
   "outputs": [
    {
     "name": "stdout",
     "output_type": "stream",
     "text": [
      "MAE между фактической эффективностью обогащения и предсказанием - 9.874045668302637e-15\n"
     ]
    }
   ],
   "source": [
    "#Проверяю расчёт эффективности обогащения\n",
    "def recovery(c,f,t):\n",
    "    r_recovery = (c * (f - t)) / (f * (c - t)) * 100\n",
    "    return r_recovery\n",
    "total_recovery = []\n",
    "for i in range(len(df_full)):\n",
    "    single_recovery = recovery(df_full.loc[i, 'rougher.output.concentrate_au'],df_full.loc[i, 'rougher.input.feed_au'], df_full.loc[i, 'rougher.output.tail_au'])\n",
    "    total_recovery.append(single_recovery)\n",
    "print('MAE между фактической эффективностью обогащения и предсказанием -',mean_absolute_error(df_full['rougher.output.recovery'], total_recovery))"
   ]
  },
  {
   "cell_type": "raw",
   "metadata": {},
   "source": [
    "vect_recovery = recovery(df_train['rougher.output.concentrate_au'],\n",
    "                         df_train['rougher.input.feed_au'],\n",
    "                         df_train['rougher.output.tail_au'])\n",
    "mean_absolute_error(df_train['rougher.output.recovery'], vect_recovery)"
   ]
  },
  {
   "cell_type": "markdown",
   "metadata": {},
   "source": [
    "Данное число невероятно маленькое, что говорит о том, что расчёт эффективности обогащения производится правильно"
   ]
  },
  {
   "cell_type": "markdown",
   "metadata": {},
   "source": [
    "Теперь, я хочу изучить строки, которые отсутствуют в тестовой выборке "
   ]
  },
  {
   "cell_type": "code",
   "execution_count": 8,
   "metadata": {},
   "outputs": [
    {
     "name": "stdout",
     "output_type": "stream",
     "text": [
      "['final.output.concentrate_ag', 'final.output.concentrate_au', 'final.output.concentrate_pb', 'final.output.concentrate_sol', 'final.output.recovery', 'final.output.tail_ag', 'final.output.tail_au', 'final.output.tail_pb', 'final.output.tail_sol', 'primary_cleaner.output.concentrate_ag', 'primary_cleaner.output.concentrate_au', 'primary_cleaner.output.concentrate_pb', 'primary_cleaner.output.concentrate_sol', 'primary_cleaner.output.tail_ag', 'primary_cleaner.output.tail_au', 'primary_cleaner.output.tail_pb', 'primary_cleaner.output.tail_sol', 'rougher.calculation.au_pb_ratio', 'rougher.calculation.floatbank10_sulfate_to_au_feed', 'rougher.calculation.floatbank11_sulfate_to_au_feed', 'rougher.calculation.sulfate_to_au_concentrate', 'rougher.output.concentrate_ag', 'rougher.output.concentrate_au', 'rougher.output.concentrate_pb', 'rougher.output.concentrate_sol', 'rougher.output.recovery', 'rougher.output.tail_ag', 'rougher.output.tail_au', 'rougher.output.tail_pb', 'rougher.output.tail_sol', 'secondary_cleaner.output.tail_ag', 'secondary_cleaner.output.tail_au', 'secondary_cleaner.output.tail_pb', 'secondary_cleaner.output.tail_sol']\n"
     ]
    }
   ],
   "source": [
    "#Вывожу список пропущенных строк\n",
    "missing_cols = list(set(list(df_full.columns)) - set(list(df_test.columns)))\n",
    "missins_cols = missing_cols.sort()\n",
    "print(missing_cols)"
   ]
  },
  {
   "cell_type": "markdown",
   "metadata": {},
   "source": [
    "Выводы, которые можно сделать, изучая вышеприведённый список:\n",
    "\n",
    "1)Заметно преобладание типа параметра 'output', что указывает на то, что эти данные связаны с продуктом, а не с сырьём\n",
    "\n",
    "2)Около половины переменных имеют слово 'roughter' в названии, что указывает на то, что они связанны с процедурой флотации\n",
    "\n",
    "3)Также в этом списке можно заметить ключевые параметры rougher.output.recovery и final.output.recovery, которые необходимо добавить\n",
    "\n",
    "И ещё, я хочу подвести вывод и сказать что все эти данные относятся к технологическому процессу, и они становятся известны только спустя некоторое время после обогащения. Поэтому я считаю что нужно добавить два столбца с целевыми признаками, а все остальные - удалить"
   ]
  },
  {
   "cell_type": "code",
   "execution_count": 9,
   "metadata": {},
   "outputs": [
    {
     "name": "stdout",
     "output_type": "stream",
     "text": [
      "<class 'pandas.core.frame.DataFrame'>\n",
      "RangeIndex: 14149 entries, 0 to 14148\n",
      "Data columns (total 87 columns):\n",
      " #   Column                                              Non-Null Count  Dtype  \n",
      "---  ------                                              --------------  -----  \n",
      " 0   date                                                14149 non-null  object \n",
      " 1   final.output.concentrate_ag                         14148 non-null  float64\n",
      " 2   final.output.concentrate_pb                         14148 non-null  float64\n",
      " 3   final.output.concentrate_sol                        13938 non-null  float64\n",
      " 4   final.output.concentrate_au                         14149 non-null  float64\n",
      " 5   final.output.recovery                               14149 non-null  float64\n",
      " 6   final.output.tail_ag                                14149 non-null  float64\n",
      " 7   final.output.tail_pb                                14049 non-null  float64\n",
      " 8   final.output.tail_sol                               14144 non-null  float64\n",
      " 9   final.output.tail_au                                14149 non-null  float64\n",
      " 10  primary_cleaner.input.sulfate                       14129 non-null  float64\n",
      " 11  primary_cleaner.input.depressant                    14117 non-null  float64\n",
      " 12  primary_cleaner.input.feed_size                     14149 non-null  float64\n",
      " 13  primary_cleaner.input.xanthate                      14049 non-null  float64\n",
      " 14  primary_cleaner.output.concentrate_ag               14149 non-null  float64\n",
      " 15  primary_cleaner.output.concentrate_pb               14063 non-null  float64\n",
      " 16  primary_cleaner.output.concentrate_sol              13863 non-null  float64\n",
      " 17  primary_cleaner.output.concentrate_au               14149 non-null  float64\n",
      " 18  primary_cleaner.output.tail_ag                      14148 non-null  float64\n",
      " 19  primary_cleaner.output.tail_pb                      14134 non-null  float64\n",
      " 20  primary_cleaner.output.tail_sol                     14103 non-null  float64\n",
      " 21  primary_cleaner.output.tail_au                      14149 non-null  float64\n",
      " 22  primary_cleaner.state.floatbank8_a_air              14145 non-null  float64\n",
      " 23  primary_cleaner.state.floatbank8_a_level            14148 non-null  float64\n",
      " 24  primary_cleaner.state.floatbank8_b_air              14145 non-null  float64\n",
      " 25  primary_cleaner.state.floatbank8_b_level            14148 non-null  float64\n",
      " 26  primary_cleaner.state.floatbank8_c_air              14147 non-null  float64\n",
      " 27  primary_cleaner.state.floatbank8_c_level            14148 non-null  float64\n",
      " 28  primary_cleaner.state.floatbank8_d_air              14146 non-null  float64\n",
      " 29  primary_cleaner.state.floatbank8_d_level            14148 non-null  float64\n",
      " 30  rougher.calculation.sulfate_to_au_concentrate       14148 non-null  float64\n",
      " 31  rougher.calculation.floatbank10_sulfate_to_au_feed  14148 non-null  float64\n",
      " 32  rougher.calculation.floatbank11_sulfate_to_au_feed  14148 non-null  float64\n",
      " 33  rougher.calculation.au_pb_ratio                     14149 non-null  float64\n",
      " 34  rougher.input.feed_ag                               14149 non-null  float64\n",
      " 35  rougher.input.feed_pb                               14049 non-null  float64\n",
      " 36  rougher.input.feed_rate                             14141 non-null  float64\n",
      " 37  rougher.input.feed_size                             14005 non-null  float64\n",
      " 38  rougher.input.feed_sol                              14071 non-null  float64\n",
      " 39  rougher.input.feed_au                               14149 non-null  float64\n",
      " 40  rougher.input.floatbank10_sulfate                   14120 non-null  float64\n",
      " 41  rougher.input.floatbank10_xanthate                  14141 non-null  float64\n",
      " 42  rougher.input.floatbank11_sulfate                   14113 non-null  float64\n",
      " 43  rougher.input.floatbank11_xanthate                  13721 non-null  float64\n",
      " 44  rougher.output.concentrate_ag                       14149 non-null  float64\n",
      " 45  rougher.output.concentrate_pb                       14149 non-null  float64\n",
      " 46  rougher.output.concentrate_sol                      14127 non-null  float64\n",
      " 47  rougher.output.concentrate_au                       14149 non-null  float64\n",
      " 48  rougher.output.recovery                             14149 non-null  float64\n",
      " 49  rougher.output.tail_ag                              14148 non-null  float64\n",
      " 50  rougher.output.tail_pb                              14149 non-null  float64\n",
      " 51  rougher.output.tail_sol                             14149 non-null  float64\n",
      " 52  rougher.output.tail_au                              14149 non-null  float64\n",
      " 53  rougher.state.floatbank10_a_air                     14148 non-null  float64\n",
      " 54  rougher.state.floatbank10_a_level                   14148 non-null  float64\n",
      " 55  rougher.state.floatbank10_b_air                     14148 non-null  float64\n",
      " 56  rougher.state.floatbank10_b_level                   14148 non-null  float64\n",
      " 57  rougher.state.floatbank10_c_air                     14148 non-null  float64\n",
      " 58  rougher.state.floatbank10_c_level                   14148 non-null  float64\n",
      " 59  rougher.state.floatbank10_d_air                     14149 non-null  float64\n",
      " 60  rougher.state.floatbank10_d_level                   14149 non-null  float64\n",
      " 61  rougher.state.floatbank10_e_air                     13713 non-null  float64\n",
      " 62  rougher.state.floatbank10_e_level                   14149 non-null  float64\n",
      " 63  rougher.state.floatbank10_f_air                     14149 non-null  float64\n",
      " 64  rougher.state.floatbank10_f_level                   14149 non-null  float64\n",
      " 65  secondary_cleaner.output.tail_ag                    14147 non-null  float64\n",
      " 66  secondary_cleaner.output.tail_pb                    14139 non-null  float64\n",
      " 67  secondary_cleaner.output.tail_sol                   12544 non-null  float64\n",
      " 68  secondary_cleaner.output.tail_au                    14149 non-null  float64\n",
      " 69  secondary_cleaner.state.floatbank2_a_air            13932 non-null  float64\n",
      " 70  secondary_cleaner.state.floatbank2_a_level          14148 non-null  float64\n",
      " 71  secondary_cleaner.state.floatbank2_b_air            14128 non-null  float64\n",
      " 72  secondary_cleaner.state.floatbank2_b_level          14148 non-null  float64\n",
      " 73  secondary_cleaner.state.floatbank3_a_air            14145 non-null  float64\n",
      " 74  secondary_cleaner.state.floatbank3_a_level          14148 non-null  float64\n",
      " 75  secondary_cleaner.state.floatbank3_b_air            14148 non-null  float64\n",
      " 76  secondary_cleaner.state.floatbank3_b_level          14148 non-null  float64\n",
      " 77  secondary_cleaner.state.floatbank4_a_air            14143 non-null  float64\n",
      " 78  secondary_cleaner.state.floatbank4_a_level          14148 non-null  float64\n",
      " 79  secondary_cleaner.state.floatbank4_b_air            14148 non-null  float64\n",
      " 80  secondary_cleaner.state.floatbank4_b_level          14148 non-null  float64\n",
      " 81  secondary_cleaner.state.floatbank5_a_air            14148 non-null  float64\n",
      " 82  secondary_cleaner.state.floatbank5_a_level          14148 non-null  float64\n",
      " 83  secondary_cleaner.state.floatbank5_b_air            14148 non-null  float64\n",
      " 84  secondary_cleaner.state.floatbank5_b_level          14148 non-null  float64\n",
      " 85  secondary_cleaner.state.floatbank6_a_air            14147 non-null  float64\n",
      " 86  secondary_cleaner.state.floatbank6_a_level          14148 non-null  float64\n",
      "dtypes: float64(86), object(1)\n",
      "memory usage: 9.4+ MB\n"
     ]
    }
   ],
   "source": [
    "#Изучаю тип данных столбцов\n",
    "df_train.info()"
   ]
  },
  {
   "cell_type": "markdown",
   "metadata": {},
   "source": [
    "Столбец 'date' мне кажется лишним, тк информация в нём не нужна для предсказания, а также он имеет неподходящий тип данных('object')"
   ]
  },
  {
   "cell_type": "code",
   "execution_count": 10,
   "metadata": {},
   "outputs": [],
   "source": [
    "#Создаю список с совпадающими датами\n",
    "date_list = list(set(df_full['date']).intersection(df_test['date']))"
   ]
  },
  {
   "cell_type": "code",
   "execution_count": 11,
   "metadata": {},
   "outputs": [],
   "source": [
    "#Добавляю целевые столбцы\n",
    "date_data = df_full.query('date in @date_list')\n",
    "date_data = date_data.sort_values(by = 'date')\n",
    "date_data = date_data.reset_index(drop = True)\n",
    "df_test = df_test.sort_values(by = 'date')\n",
    "df_test = df_test.reset_index(drop = True)\n",
    "df_test['rougher.output.recovery'] = date_data['rougher.output.recovery']\n",
    "df_test['final.output.recovery'] = date_data['final.output.recovery']\n",
    "df_test = df_test.reset_index(drop = True)"
   ]
  },
  {
   "cell_type": "raw",
   "metadata": {},
   "source": [
    "data_full_merge = df_full[['date', 'rougher.output.recovery', 'final.output.recovery']]\n",
    "df_test = df_test.merge(data_full_merge, on='date', how= 'left')"
   ]
  },
  {
   "cell_type": "code",
   "execution_count": 12,
   "metadata": {},
   "outputs": [],
   "source": [
    "#Удаляю лишние столбцы\n",
    "missing_cols = list(set(list(df_train.columns)) - set(list(df_test.columns)))\n",
    "df_train = df_train.drop(columns = missing_cols)\n",
    "df_test = df_test.drop(['date'], axis = 1)\n",
    "df_train = df_train.drop(['date'], axis = 1)"
   ]
  },
  {
   "cell_type": "code",
   "execution_count": 13,
   "metadata": {},
   "outputs": [
    {
     "name": "stdout",
     "output_type": "stream",
     "text": [
      "final.output.recovery                           0\n",
      "primary_cleaner.input.sulfate                  20\n",
      "primary_cleaner.input.depressant               32\n",
      "primary_cleaner.input.feed_size                 0\n",
      "primary_cleaner.input.xanthate                100\n",
      "primary_cleaner.state.floatbank8_a_air          4\n",
      "primary_cleaner.state.floatbank8_a_level        1\n",
      "primary_cleaner.state.floatbank8_b_air          4\n",
      "primary_cleaner.state.floatbank8_b_level        1\n",
      "primary_cleaner.state.floatbank8_c_air          2\n",
      "primary_cleaner.state.floatbank8_c_level        1\n",
      "primary_cleaner.state.floatbank8_d_air          3\n",
      "primary_cleaner.state.floatbank8_d_level        1\n",
      "rougher.input.feed_ag                           0\n",
      "rougher.input.feed_pb                         100\n",
      "rougher.input.feed_rate                         8\n",
      "rougher.input.feed_size                       144\n",
      "rougher.input.feed_sol                         78\n",
      "rougher.input.feed_au                           0\n",
      "rougher.input.floatbank10_sulfate              29\n",
      "rougher.input.floatbank10_xanthate              8\n",
      "rougher.input.floatbank11_sulfate              36\n",
      "rougher.input.floatbank11_xanthate            428\n",
      "rougher.output.recovery                         0\n",
      "rougher.state.floatbank10_a_air                 1\n",
      "rougher.state.floatbank10_a_level               1\n",
      "rougher.state.floatbank10_b_air                 1\n",
      "rougher.state.floatbank10_b_level               1\n",
      "rougher.state.floatbank10_c_air                 1\n",
      "rougher.state.floatbank10_c_level               1\n",
      "rougher.state.floatbank10_d_air                 0\n",
      "rougher.state.floatbank10_d_level               0\n",
      "rougher.state.floatbank10_e_air               436\n",
      "rougher.state.floatbank10_e_level               0\n",
      "rougher.state.floatbank10_f_air                 0\n",
      "rougher.state.floatbank10_f_level               0\n",
      "secondary_cleaner.state.floatbank2_a_air      217\n",
      "secondary_cleaner.state.floatbank2_a_level      1\n",
      "secondary_cleaner.state.floatbank2_b_air       21\n",
      "secondary_cleaner.state.floatbank2_b_level      1\n",
      "secondary_cleaner.state.floatbank3_a_air        4\n",
      "secondary_cleaner.state.floatbank3_a_level      1\n",
      "secondary_cleaner.state.floatbank3_b_air        1\n",
      "secondary_cleaner.state.floatbank3_b_level      1\n",
      "secondary_cleaner.state.floatbank4_a_air        6\n",
      "secondary_cleaner.state.floatbank4_a_level      1\n",
      "secondary_cleaner.state.floatbank4_b_air        1\n",
      "secondary_cleaner.state.floatbank4_b_level      1\n",
      "secondary_cleaner.state.floatbank5_a_air        1\n",
      "secondary_cleaner.state.floatbank5_a_level      1\n",
      "secondary_cleaner.state.floatbank5_b_air        1\n",
      "secondary_cleaner.state.floatbank5_b_level      1\n",
      "secondary_cleaner.state.floatbank6_a_air        2\n",
      "secondary_cleaner.state.floatbank6_a_level      1\n",
      "dtype: int64\n"
     ]
    }
   ],
   "source": [
    "#ищу пропуски\n",
    "print(df_train.isna().sum())"
   ]
  },
  {
   "cell_type": "code",
   "execution_count": 14,
   "metadata": {},
   "outputs": [
    {
     "name": "stdout",
     "output_type": "stream",
     "text": [
      "primary_cleaner.input.sulfate                  4\n",
      "primary_cleaner.input.depressant               5\n",
      "primary_cleaner.input.feed_size                0\n",
      "primary_cleaner.input.xanthate                 4\n",
      "primary_cleaner.state.floatbank8_a_air         0\n",
      "primary_cleaner.state.floatbank8_a_level       0\n",
      "primary_cleaner.state.floatbank8_b_air         0\n",
      "primary_cleaner.state.floatbank8_b_level       0\n",
      "primary_cleaner.state.floatbank8_c_air         0\n",
      "primary_cleaner.state.floatbank8_c_level       0\n",
      "primary_cleaner.state.floatbank8_d_air         0\n",
      "primary_cleaner.state.floatbank8_d_level       0\n",
      "rougher.input.feed_ag                          0\n",
      "rougher.input.feed_pb                          0\n",
      "rougher.input.feed_rate                        3\n",
      "rougher.input.feed_size                        1\n",
      "rougher.input.feed_sol                        21\n",
      "rougher.input.feed_au                          0\n",
      "rougher.input.floatbank10_sulfate              5\n",
      "rougher.input.floatbank10_xanthate             0\n",
      "rougher.input.floatbank11_sulfate              8\n",
      "rougher.input.floatbank11_xanthate            25\n",
      "rougher.state.floatbank10_a_air                0\n",
      "rougher.state.floatbank10_a_level              0\n",
      "rougher.state.floatbank10_b_air                0\n",
      "rougher.state.floatbank10_b_level              0\n",
      "rougher.state.floatbank10_c_air                0\n",
      "rougher.state.floatbank10_c_level              0\n",
      "rougher.state.floatbank10_d_air                0\n",
      "rougher.state.floatbank10_d_level              0\n",
      "rougher.state.floatbank10_e_air                0\n",
      "rougher.state.floatbank10_e_level              0\n",
      "rougher.state.floatbank10_f_air                0\n",
      "rougher.state.floatbank10_f_level              0\n",
      "secondary_cleaner.state.floatbank2_a_air       3\n",
      "secondary_cleaner.state.floatbank2_a_level     0\n",
      "secondary_cleaner.state.floatbank2_b_air       2\n",
      "secondary_cleaner.state.floatbank2_b_level     0\n",
      "secondary_cleaner.state.floatbank3_a_air       9\n",
      "secondary_cleaner.state.floatbank3_a_level     0\n",
      "secondary_cleaner.state.floatbank3_b_air       0\n",
      "secondary_cleaner.state.floatbank3_b_level     0\n",
      "secondary_cleaner.state.floatbank4_a_air       0\n",
      "secondary_cleaner.state.floatbank4_a_level     0\n",
      "secondary_cleaner.state.floatbank4_b_air       0\n",
      "secondary_cleaner.state.floatbank4_b_level     0\n",
      "secondary_cleaner.state.floatbank5_a_air       0\n",
      "secondary_cleaner.state.floatbank5_a_level     0\n",
      "secondary_cleaner.state.floatbank5_b_air       0\n",
      "secondary_cleaner.state.floatbank5_b_level     0\n",
      "secondary_cleaner.state.floatbank6_a_air       0\n",
      "secondary_cleaner.state.floatbank6_a_level     0\n",
      "rougher.output.recovery                        0\n",
      "final.output.recovery                          0\n",
      "dtype: int64\n"
     ]
    }
   ],
   "source": [
    "print(df_test.isna().sum())"
   ]
  },
  {
   "cell_type": "markdown",
   "metadata": {},
   "source": [
    "Пропусков достаточно мало, поэтому я буду заполнять их значениями соседних ячеек"
   ]
  },
  {
   "cell_type": "code",
   "execution_count": 15,
   "metadata": {},
   "outputs": [],
   "source": [
    "for column_name, column_data in df_train.iteritems():\n",
    "    df_train[column_name] = df_train[column_name].fillna(method='ffill')\n",
    "for column_name, column_data in df_test.iteritems():\n",
    "    df_test[column_name] = df_test[column_name].fillna(method='ffill')"
   ]
  },
  {
   "cell_type": "code",
   "execution_count": 16,
   "metadata": {},
   "outputs": [
    {
     "name": "stdout",
     "output_type": "stream",
     "text": [
      "0\n",
      "0\n"
     ]
    }
   ],
   "source": [
    "#Ищу дубликаты\n",
    "print(df_train.duplicated().sum())\n",
    "print(df_test.duplicated().sum())"
   ]
  },
  {
   "cell_type": "markdown",
   "metadata": {},
   "source": [
    "## Анализ данных"
   ]
  },
  {
   "cell_type": "code",
   "execution_count": 17,
   "metadata": {},
   "outputs": [
    {
     "name": "stdout",
     "output_type": "stream",
     "text": [
      "<class 'pandas.core.frame.DataFrame'>\n",
      "RangeIndex: 19439 entries, 0 to 19438\n",
      "Data columns (total 87 columns):\n",
      " #   Column                                              Non-Null Count  Dtype  \n",
      "---  ------                                              --------------  -----  \n",
      " 0   date                                                19439 non-null  object \n",
      " 1   final.output.concentrate_ag                         19438 non-null  float64\n",
      " 2   final.output.concentrate_pb                         19438 non-null  float64\n",
      " 3   final.output.concentrate_sol                        19228 non-null  float64\n",
      " 4   final.output.concentrate_au                         19439 non-null  float64\n",
      " 5   final.output.recovery                               19439 non-null  float64\n",
      " 6   final.output.tail_ag                                19438 non-null  float64\n",
      " 7   final.output.tail_pb                                19338 non-null  float64\n",
      " 8   final.output.tail_sol                               19433 non-null  float64\n",
      " 9   final.output.tail_au                                19439 non-null  float64\n",
      " 10  primary_cleaner.input.sulfate                       19415 non-null  float64\n",
      " 11  primary_cleaner.input.depressant                    19402 non-null  float64\n",
      " 12  primary_cleaner.input.feed_size                     19439 non-null  float64\n",
      " 13  primary_cleaner.input.xanthate                      19335 non-null  float64\n",
      " 14  primary_cleaner.output.concentrate_ag               19439 non-null  float64\n",
      " 15  primary_cleaner.output.concentrate_pb               19323 non-null  float64\n",
      " 16  primary_cleaner.output.concentrate_sol              19069 non-null  float64\n",
      " 17  primary_cleaner.output.concentrate_au               19439 non-null  float64\n",
      " 18  primary_cleaner.output.tail_ag                      19435 non-null  float64\n",
      " 19  primary_cleaner.output.tail_pb                      19418 non-null  float64\n",
      " 20  primary_cleaner.output.tail_sol                     19377 non-null  float64\n",
      " 21  primary_cleaner.output.tail_au                      19439 non-null  float64\n",
      " 22  primary_cleaner.state.floatbank8_a_air              19435 non-null  float64\n",
      " 23  primary_cleaner.state.floatbank8_a_level            19438 non-null  float64\n",
      " 24  primary_cleaner.state.floatbank8_b_air              19435 non-null  float64\n",
      " 25  primary_cleaner.state.floatbank8_b_level            19438 non-null  float64\n",
      " 26  primary_cleaner.state.floatbank8_c_air              19437 non-null  float64\n",
      " 27  primary_cleaner.state.floatbank8_c_level            19438 non-null  float64\n",
      " 28  primary_cleaner.state.floatbank8_d_air              19436 non-null  float64\n",
      " 29  primary_cleaner.state.floatbank8_d_level            19438 non-null  float64\n",
      " 30  rougher.calculation.sulfate_to_au_concentrate       19437 non-null  float64\n",
      " 31  rougher.calculation.floatbank10_sulfate_to_au_feed  19437 non-null  float64\n",
      " 32  rougher.calculation.floatbank11_sulfate_to_au_feed  19437 non-null  float64\n",
      " 33  rougher.calculation.au_pb_ratio                     19439 non-null  float64\n",
      " 34  rougher.input.feed_ag                               19439 non-null  float64\n",
      " 35  rougher.input.feed_pb                               19339 non-null  float64\n",
      " 36  rougher.input.feed_rate                             19428 non-null  float64\n",
      " 37  rougher.input.feed_size                             19294 non-null  float64\n",
      " 38  rougher.input.feed_sol                              19340 non-null  float64\n",
      " 39  rougher.input.feed_au                               19439 non-null  float64\n",
      " 40  rougher.input.floatbank10_sulfate                   19405 non-null  float64\n",
      " 41  rougher.input.floatbank10_xanthate                  19431 non-null  float64\n",
      " 42  rougher.input.floatbank11_sulfate                   19395 non-null  float64\n",
      " 43  rougher.input.floatbank11_xanthate                  18986 non-null  float64\n",
      " 44  rougher.output.concentrate_ag                       19439 non-null  float64\n",
      " 45  rougher.output.concentrate_pb                       19439 non-null  float64\n",
      " 46  rougher.output.concentrate_sol                      19416 non-null  float64\n",
      " 47  rougher.output.concentrate_au                       19439 non-null  float64\n",
      " 48  rougher.output.recovery                             19439 non-null  float64\n",
      " 49  rougher.output.tail_ag                              19438 non-null  float64\n",
      " 50  rougher.output.tail_pb                              19439 non-null  float64\n",
      " 51  rougher.output.tail_sol                             19439 non-null  float64\n",
      " 52  rougher.output.tail_au                              19439 non-null  float64\n",
      " 53  rougher.state.floatbank10_a_air                     19438 non-null  float64\n",
      " 54  rougher.state.floatbank10_a_level                   19438 non-null  float64\n",
      " 55  rougher.state.floatbank10_b_air                     19438 non-null  float64\n",
      " 56  rougher.state.floatbank10_b_level                   19438 non-null  float64\n",
      " 57  rougher.state.floatbank10_c_air                     19438 non-null  float64\n",
      " 58  rougher.state.floatbank10_c_level                   19438 non-null  float64\n",
      " 59  rougher.state.floatbank10_d_air                     19439 non-null  float64\n",
      " 60  rougher.state.floatbank10_d_level                   19439 non-null  float64\n",
      " 61  rougher.state.floatbank10_e_air                     19003 non-null  float64\n",
      " 62  rougher.state.floatbank10_e_level                   19439 non-null  float64\n",
      " 63  rougher.state.floatbank10_f_air                     19439 non-null  float64\n",
      " 64  rougher.state.floatbank10_f_level                   19439 non-null  float64\n",
      " 65  secondary_cleaner.output.tail_ag                    19437 non-null  float64\n",
      " 66  secondary_cleaner.output.tail_pb                    19427 non-null  float64\n",
      " 67  secondary_cleaner.output.tail_sol                   17691 non-null  float64\n",
      " 68  secondary_cleaner.output.tail_au                    19439 non-null  float64\n",
      " 69  secondary_cleaner.state.floatbank2_a_air            19219 non-null  float64\n",
      " 70  secondary_cleaner.state.floatbank2_a_level          19438 non-null  float64\n",
      " 71  secondary_cleaner.state.floatbank2_b_air            19416 non-null  float64\n",
      " 72  secondary_cleaner.state.floatbank2_b_level          19438 non-null  float64\n",
      " 73  secondary_cleaner.state.floatbank3_a_air            19426 non-null  float64\n",
      " 74  secondary_cleaner.state.floatbank3_a_level          19438 non-null  float64\n",
      " 75  secondary_cleaner.state.floatbank3_b_air            19438 non-null  float64\n",
      " 76  secondary_cleaner.state.floatbank3_b_level          19438 non-null  float64\n",
      " 77  secondary_cleaner.state.floatbank4_a_air            19433 non-null  float64\n",
      " 78  secondary_cleaner.state.floatbank4_a_level          19438 non-null  float64\n",
      " 79  secondary_cleaner.state.floatbank4_b_air            19438 non-null  float64\n",
      " 80  secondary_cleaner.state.floatbank4_b_level          19438 non-null  float64\n",
      " 81  secondary_cleaner.state.floatbank5_a_air            19438 non-null  float64\n",
      " 82  secondary_cleaner.state.floatbank5_a_level          19438 non-null  float64\n",
      " 83  secondary_cleaner.state.floatbank5_b_air            19438 non-null  float64\n",
      " 84  secondary_cleaner.state.floatbank5_b_level          19438 non-null  float64\n",
      " 85  secondary_cleaner.state.floatbank6_a_air            19437 non-null  float64\n",
      " 86  secondary_cleaner.state.floatbank6_a_level          19438 non-null  float64\n",
      "dtypes: float64(86), object(1)\n",
      "memory usage: 12.9+ MB\n"
     ]
    }
   ],
   "source": [
    "#Осматриваю список столбцов в поиске нужной информации\n",
    "df_full.info()"
   ]
  },
  {
   "cell_type": "markdown",
   "metadata": {},
   "source": [
    "Необходимые столбцы с размерами гранул на примере золота:final.output.concentrate_au, primary_cleaner.output.concentrate_au, rougher.output.concentrate_au"
   ]
  },
  {
   "cell_type": "code",
   "execution_count": 18,
   "metadata": {},
   "outputs": [
    {
     "name": "stdout",
     "output_type": "stream",
     "text": [
      "Флотация, концетрация золота - 19.772000139486316 \n",
      " Первичная очистка, концетрация золота -  32.1194004078765 \n",
      " Финальная коцентрация золота - 44.0765129419528\n",
      "Флотация, концетрация серебра - 11.994759359873429 \n",
      " Первичная очистка, концетрация серебра -  8.44240807771906 \n",
      " Финальная коцентрация серебра - 5.168470373676801\n",
      "Флотация, концетрация свинца - 7.606272313195003 \n",
      " Первичная очистка, концетрация свинца -  9.829529774200518 \n",
      " Финальная коцентрация свинца - 9.978894911181722\n"
     ]
    }
   ],
   "source": [
    "#Исследую изменение концетрации элементов на каждом этапе\n",
    "print('Флотация, концетрация золота -',df_full['rougher.output.concentrate_au'].mean(),'\\n Первичная очистка, концетрация золота - ',df_full['primary_cleaner.output.concentrate_au'].mean(),'\\n Финальная коцентрация золота -',df_full['final.output.concentrate_au'].mean())\n",
    "print('Флотация, концетрация серебра -',df_full['rougher.output.concentrate_ag'].mean(),'\\n Первичная очистка, концетрация серебра - ',df_full['primary_cleaner.output.concentrate_ag'].mean(),'\\n Финальная коцентрация серебра -',df_full['final.output.concentrate_ag'].mean())\n",
    "print('Флотация, концетрация свинца -',df_full['rougher.output.concentrate_pb'].mean(),'\\n Первичная очистка, концетрация свинца - ',df_full['primary_cleaner.output.concentrate_pb'].mean(),'\\n Финальная коцентрация свинца -',df_full['final.output.concentrate_pb'].mean())"
   ]
  },
  {
   "cell_type": "markdown",
   "metadata": {},
   "source": [
    "Выводы из наблюдений за вышеприведёнными значениями:\n",
    "\n",
    "1)После каждой из процедур, концетрация золота приблизительно вырастала в на 12%, а концетрация серебра падала на 3.5%\n",
    "\n",
    "2)После флотации концетрация свинца выросла на 2%, я считаю, что это связанно со снижением доли металлов, которые более подверженны процедуре флотации"
   ]
  },
  {
   "cell_type": "code",
   "execution_count": 19,
   "metadata": {},
   "outputs": [
    {
     "data": {
      "image/png": "[encoded data removed]",
      "text/plain": [
       "<Figure size 432x288 with 2 Axes>"
      ]
     },
     "metadata": {
      "needs_background": "light"
     },
     "output_type": "display_data"
    }
   ],
   "source": [
    "#Анализирую распределение размеров гранул\n",
    "df_train['rougher.input.feed_size'].hist(ax = plt.subplot(1,2,1),density=True)\n",
    "plt.title('Обучающая выборка')\n",
    "df_test['rougher.input.feed_size'].hist(ax = plt.subplot(1,2,2),density=True)\n",
    "plt.title('Тестовая выборка')\n",
    "plt.suptitle('Распределение размера гранул')\n",
    "plt.show()"
   ]
  },
  {
   "cell_type": "markdown",
   "metadata": {},
   "source": [
    "Распределение схожее, оно не вызовет проблем с обучением модели "
   ]
  },
  {
   "cell_type": "code",
   "execution_count": 20,
   "metadata": {},
   "outputs": [
    {
     "data": {
      "image/png": "[encoded data removed]",
      "text/plain": [
       "<Figure size 432x288 with 1 Axes>"
      ]
     },
     "metadata": {
      "needs_background": "light"
     },
     "output_type": "display_data"
    }
   ],
   "source": [
    "rougher_input_feed_total = rougher_input_feed_total = df_full['rougher.input.feed_ag'] + df_full['rougher.input.feed_pb'] + df_full['rougher.input.feed_sol'] + df_full['rougher.input.feed_au']\n",
    "rougher_input_feed_total.hist(alpha = 0.5, bins = 50, label = 'Cырьевая концентрация')\n",
    "rougher_output_concentrate_total = df_full['rougher.output.concentrate_ag'] + df_full['rougher.output.concentrate_pb'] + df_full['rougher.output.concentrate_sol'] + df_full['rougher.output.concentrate_au']\n",
    "rougher_output_concentrate_total.hist(alpha = 0.5, bins = 50, label = 'Черновая концентрация')\n",
    "final_concentrate_total = df_full['final.output.concentrate_ag'] + df_full['final.output.concentrate_pb'] + df_full['final.output.concentrate_sol'] + df_full['final.output.concentrate_au']\n",
    "final_concentrate_total.hist(alpha = 0.5, bins = 50, label = 'Финальная концентрация')\n",
    "plt.title('Суммарное распределение всех веществ')\n",
    "plt.legend()\n",
    "plt.show()"
   ]
  },
  {
   "cell_type": "markdown",
   "metadata": {},
   "source": [
    "Обнаружены некорректные данные, произвожу их удаление из обучающего массива"
   ]
  },
  {
   "cell_type": "code",
   "execution_count": 21,
   "metadata": {},
   "outputs": [
    {
     "data": {
      "text/html": [
       "<div>\n",
       "<style scoped>\n",
       "    .dataframe tbody tr th:only-of-type {\n",
       "        vertical-align: middle;\n",
       "    }\n",
       "\n",
       "    .dataframe tbody tr th {\n",
       "        vertical-align: top;\n",
       "    }\n",
       "\n",
       "    .dataframe thead th {\n",
       "        text-align: right;\n",
       "    }\n",
       "</style>\n",
       "<table border=\"1\" class=\"dataframe\">\n",
       "  <thead>\n",
       "    <tr style=\"text-align: right;\">\n",
       "      <th></th>\n",
       "      <th>final.output.recovery</th>\n",
       "      <th>primary_cleaner.input.sulfate</th>\n",
       "      <th>primary_cleaner.input.depressant</th>\n",
       "      <th>primary_cleaner.input.feed_size</th>\n",
       "      <th>primary_cleaner.input.xanthate</th>\n",
       "      <th>primary_cleaner.state.floatbank8_a_air</th>\n",
       "      <th>primary_cleaner.state.floatbank8_a_level</th>\n",
       "      <th>primary_cleaner.state.floatbank8_b_air</th>\n",
       "      <th>primary_cleaner.state.floatbank8_b_level</th>\n",
       "      <th>primary_cleaner.state.floatbank8_c_air</th>\n",
       "      <th>...</th>\n",
       "      <th>secondary_cleaner.state.floatbank4_a_air</th>\n",
       "      <th>secondary_cleaner.state.floatbank4_a_level</th>\n",
       "      <th>secondary_cleaner.state.floatbank4_b_air</th>\n",
       "      <th>secondary_cleaner.state.floatbank4_b_level</th>\n",
       "      <th>secondary_cleaner.state.floatbank5_a_air</th>\n",
       "      <th>secondary_cleaner.state.floatbank5_a_level</th>\n",
       "      <th>secondary_cleaner.state.floatbank5_b_air</th>\n",
       "      <th>secondary_cleaner.state.floatbank5_b_level</th>\n",
       "      <th>secondary_cleaner.state.floatbank6_a_air</th>\n",
       "      <th>secondary_cleaner.state.floatbank6_a_level</th>\n",
       "    </tr>\n",
       "  </thead>\n",
       "  <tbody>\n",
       "    <tr>\n",
       "      <th>232</th>\n",
       "      <td>69.327805</td>\n",
       "      <td>235.362321</td>\n",
       "      <td>15.965913</td>\n",
       "      <td>7.25</td>\n",
       "      <td>1.411462</td>\n",
       "      <td>1547.519929</td>\n",
       "      <td>-499.001284</td>\n",
       "      <td>1553.385069</td>\n",
       "      <td>-501.017689</td>\n",
       "      <td>1499.302235</td>\n",
       "      <td>...</td>\n",
       "      <td>15.021547</td>\n",
       "      <td>-549.354766</td>\n",
       "      <td>12.929922</td>\n",
       "      <td>-550.109454</td>\n",
       "      <td>9.967843</td>\n",
       "      <td>-597.081983</td>\n",
       "      <td>8.021562</td>\n",
       "      <td>-599.602641</td>\n",
       "      <td>11.973194</td>\n",
       "      <td>-599.585535</td>\n",
       "    </tr>\n",
       "    <tr>\n",
       "      <th>234</th>\n",
       "      <td>67.533628</td>\n",
       "      <td>229.028598</td>\n",
       "      <td>17.002347</td>\n",
       "      <td>7.25</td>\n",
       "      <td>1.406746</td>\n",
       "      <td>1549.084159</td>\n",
       "      <td>-499.384263</td>\n",
       "      <td>1549.865198</td>\n",
       "      <td>-499.353058</td>\n",
       "      <td>1503.904702</td>\n",
       "      <td>...</td>\n",
       "      <td>15.068504</td>\n",
       "      <td>-549.945571</td>\n",
       "      <td>12.996740</td>\n",
       "      <td>-549.944931</td>\n",
       "      <td>10.055798</td>\n",
       "      <td>-599.466008</td>\n",
       "      <td>8.092485</td>\n",
       "      <td>-600.249114</td>\n",
       "      <td>12.015319</td>\n",
       "      <td>-601.613481</td>\n",
       "    </tr>\n",
       "    <tr>\n",
       "      <th>758</th>\n",
       "      <td>73.828410</td>\n",
       "      <td>218.247493</td>\n",
       "      <td>13.032054</td>\n",
       "      <td>7.51</td>\n",
       "      <td>1.494803</td>\n",
       "      <td>1802.407067</td>\n",
       "      <td>-349.699214</td>\n",
       "      <td>1801.059547</td>\n",
       "      <td>-351.758085</td>\n",
       "      <td>1804.792474</td>\n",
       "      <td>...</td>\n",
       "      <td>22.998875</td>\n",
       "      <td>-326.000930</td>\n",
       "      <td>22.007539</td>\n",
       "      <td>-240.994874</td>\n",
       "      <td>24.937551</td>\n",
       "      <td>-351.732542</td>\n",
       "      <td>21.020936</td>\n",
       "      <td>-398.647140</td>\n",
       "      <td>24.988094</td>\n",
       "      <td>-391.849916</td>\n",
       "    </tr>\n",
       "    <tr>\n",
       "      <th>759</th>\n",
       "      <td>80.041038</td>\n",
       "      <td>223.382947</td>\n",
       "      <td>13.069281</td>\n",
       "      <td>7.58</td>\n",
       "      <td>1.514161</td>\n",
       "      <td>1582.584178</td>\n",
       "      <td>-349.536384</td>\n",
       "      <td>1583.735630</td>\n",
       "      <td>-351.180108</td>\n",
       "      <td>1582.099962</td>\n",
       "      <td>...</td>\n",
       "      <td>23.709602</td>\n",
       "      <td>-412.029336</td>\n",
       "      <td>22.639733</td>\n",
       "      <td>-412.896304</td>\n",
       "      <td>25.021629</td>\n",
       "      <td>-428.537556</td>\n",
       "      <td>21.011542</td>\n",
       "      <td>-400.287375</td>\n",
       "      <td>30.004867</td>\n",
       "      <td>-396.683519</td>\n",
       "    </tr>\n",
       "    <tr>\n",
       "      <th>760</th>\n",
       "      <td>78.592693</td>\n",
       "      <td>226.251569</td>\n",
       "      <td>13.792951</td>\n",
       "      <td>7.58</td>\n",
       "      <td>1.509301</td>\n",
       "      <td>1601.017906</td>\n",
       "      <td>-350.526823</td>\n",
       "      <td>1597.270648</td>\n",
       "      <td>-347.354380</td>\n",
       "      <td>1598.642844</td>\n",
       "      <td>...</td>\n",
       "      <td>24.962970</td>\n",
       "      <td>-402.660058</td>\n",
       "      <td>23.976703</td>\n",
       "      <td>-412.144204</td>\n",
       "      <td>25.011534</td>\n",
       "      <td>-340.282788</td>\n",
       "      <td>20.968156</td>\n",
       "      <td>-399.810501</td>\n",
       "      <td>30.002489</td>\n",
       "      <td>-402.908411</td>\n",
       "    </tr>\n",
       "    <tr>\n",
       "      <th>...</th>\n",
       "      <td>...</td>\n",
       "      <td>...</td>\n",
       "      <td>...</td>\n",
       "      <td>...</td>\n",
       "      <td>...</td>\n",
       "      <td>...</td>\n",
       "      <td>...</td>\n",
       "      <td>...</td>\n",
       "      <td>...</td>\n",
       "      <td>...</td>\n",
       "      <td>...</td>\n",
       "      <td>...</td>\n",
       "      <td>...</td>\n",
       "      <td>...</td>\n",
       "      <td>...</td>\n",
       "      <td>...</td>\n",
       "      <td>...</td>\n",
       "      <td>...</td>\n",
       "      <td>...</td>\n",
       "      <td>...</td>\n",
       "      <td>...</td>\n",
       "    </tr>\n",
       "    <tr>\n",
       "      <th>14127</th>\n",
       "      <td>72.582287</td>\n",
       "      <td>105.880296</td>\n",
       "      <td>8.044041</td>\n",
       "      <td>6.66</td>\n",
       "      <td>0.598256</td>\n",
       "      <td>1648.845107</td>\n",
       "      <td>-400.124973</td>\n",
       "      <td>1650.440341</td>\n",
       "      <td>-400.182977</td>\n",
       "      <td>1650.279621</td>\n",
       "      <td>...</td>\n",
       "      <td>23.014369</td>\n",
       "      <td>-500.212424</td>\n",
       "      <td>19.992876</td>\n",
       "      <td>-499.888065</td>\n",
       "      <td>17.977496</td>\n",
       "      <td>-499.967811</td>\n",
       "      <td>12.954171</td>\n",
       "      <td>-500.260455</td>\n",
       "      <td>19.983515</td>\n",
       "      <td>-503.243695</td>\n",
       "    </tr>\n",
       "    <tr>\n",
       "      <th>14128</th>\n",
       "      <td>72.001394</td>\n",
       "      <td>108.127972</td>\n",
       "      <td>7.989871</td>\n",
       "      <td>6.66</td>\n",
       "      <td>0.595134</td>\n",
       "      <td>1649.405961</td>\n",
       "      <td>-399.645178</td>\n",
       "      <td>1650.788636</td>\n",
       "      <td>-399.857146</td>\n",
       "      <td>1649.707469</td>\n",
       "      <td>...</td>\n",
       "      <td>23.025088</td>\n",
       "      <td>-501.311668</td>\n",
       "      <td>20.031273</td>\n",
       "      <td>-500.674430</td>\n",
       "      <td>17.953446</td>\n",
       "      <td>-500.681679</td>\n",
       "      <td>13.013927</td>\n",
       "      <td>-500.258257</td>\n",
       "      <td>20.012671</td>\n",
       "      <td>-505.750254</td>\n",
       "    </tr>\n",
       "    <tr>\n",
       "      <th>14129</th>\n",
       "      <td>70.004249</td>\n",
       "      <td>108.436718</td>\n",
       "      <td>7.995342</td>\n",
       "      <td>6.66</td>\n",
       "      <td>0.592419</td>\n",
       "      <td>1647.373511</td>\n",
       "      <td>-399.718422</td>\n",
       "      <td>1649.170321</td>\n",
       "      <td>-400.119658</td>\n",
       "      <td>1650.330426</td>\n",
       "      <td>...</td>\n",
       "      <td>23.018880</td>\n",
       "      <td>-500.910903</td>\n",
       "      <td>19.973517</td>\n",
       "      <td>-499.414252</td>\n",
       "      <td>17.957036</td>\n",
       "      <td>-499.519333</td>\n",
       "      <td>12.995216</td>\n",
       "      <td>-500.030232</td>\n",
       "      <td>19.983372</td>\n",
       "      <td>-509.060146</td>\n",
       "    </tr>\n",
       "    <tr>\n",
       "      <th>14130</th>\n",
       "      <td>67.796293</td>\n",
       "      <td>111.336787</td>\n",
       "      <td>7.981744</td>\n",
       "      <td>6.66</td>\n",
       "      <td>0.659512</td>\n",
       "      <td>1651.326284</td>\n",
       "      <td>-399.878826</td>\n",
       "      <td>1649.375947</td>\n",
       "      <td>-399.827594</td>\n",
       "      <td>1649.519493</td>\n",
       "      <td>...</td>\n",
       "      <td>23.022083</td>\n",
       "      <td>-501.108490</td>\n",
       "      <td>20.018146</td>\n",
       "      <td>-500.739493</td>\n",
       "      <td>17.998088</td>\n",
       "      <td>-500.267224</td>\n",
       "      <td>12.995547</td>\n",
       "      <td>-500.179650</td>\n",
       "      <td>19.985572</td>\n",
       "      <td>-501.375774</td>\n",
       "    </tr>\n",
       "    <tr>\n",
       "      <th>14138</th>\n",
       "      <td>75.185602</td>\n",
       "      <td>127.007820</td>\n",
       "      <td>7.970326</td>\n",
       "      <td>6.24</td>\n",
       "      <td>1.285490</td>\n",
       "      <td>1647.218711</td>\n",
       "      <td>-399.708145</td>\n",
       "      <td>1648.401594</td>\n",
       "      <td>-400.608887</td>\n",
       "      <td>1649.739466</td>\n",
       "      <td>...</td>\n",
       "      <td>23.035611</td>\n",
       "      <td>-501.134671</td>\n",
       "      <td>19.984883</td>\n",
       "      <td>-501.051735</td>\n",
       "      <td>17.948892</td>\n",
       "      <td>-500.147451</td>\n",
       "      <td>13.009772</td>\n",
       "      <td>-500.081309</td>\n",
       "      <td>20.012084</td>\n",
       "      <td>-501.651764</td>\n",
       "    </tr>\n",
       "  </tbody>\n",
       "</table>\n",
       "<p>1421 rows × 54 columns</p>\n",
       "</div>"
      ],
      "text/plain": [
       "       final.output.recovery  primary_cleaner.input.sulfate  \\\n",
       "232                69.327805                     235.362321   \n",
       "234                67.533628                     229.028598   \n",
       "758                73.828410                     218.247493   \n",
       "759                80.041038                     223.382947   \n",
       "760                78.592693                     226.251569   \n",
       "...                      ...                            ...   \n",
       "14127              72.582287                     105.880296   \n",
       "14128              72.001394                     108.127972   \n",
       "14129              70.004249                     108.436718   \n",
       "14130              67.796293                     111.336787   \n",
       "14138              75.185602                     127.007820   \n",
       "\n",
       "       primary_cleaner.input.depressant  primary_cleaner.input.feed_size  \\\n",
       "232                           15.965913                             7.25   \n",
       "234                           17.002347                             7.25   \n",
       "758                           13.032054                             7.51   \n",
       "759                           13.069281                             7.58   \n",
       "760                           13.792951                             7.58   \n",
       "...                                 ...                              ...   \n",
       "14127                          8.044041                             6.66   \n",
       "14128                          7.989871                             6.66   \n",
       "14129                          7.995342                             6.66   \n",
       "14130                          7.981744                             6.66   \n",
       "14138                          7.970326                             6.24   \n",
       "\n",
       "       primary_cleaner.input.xanthate  primary_cleaner.state.floatbank8_a_air  \\\n",
       "232                          1.411462                             1547.519929   \n",
       "234                          1.406746                             1549.084159   \n",
       "758                          1.494803                             1802.407067   \n",
       "759                          1.514161                             1582.584178   \n",
       "760                          1.509301                             1601.017906   \n",
       "...                               ...                                     ...   \n",
       "14127                        0.598256                             1648.845107   \n",
       "14128                        0.595134                             1649.405961   \n",
       "14129                        0.592419                             1647.373511   \n",
       "14130                        0.659512                             1651.326284   \n",
       "14138                        1.285490                             1647.218711   \n",
       "\n",
       "       primary_cleaner.state.floatbank8_a_level  \\\n",
       "232                                 -499.001284   \n",
       "234                                 -499.384263   \n",
       "758                                 -349.699214   \n",
       "759                                 -349.536384   \n",
       "760                                 -350.526823   \n",
       "...                                         ...   \n",
       "14127                               -400.124973   \n",
       "14128                               -399.645178   \n",
       "14129                               -399.718422   \n",
       "14130                               -399.878826   \n",
       "14138                               -399.708145   \n",
       "\n",
       "       primary_cleaner.state.floatbank8_b_air  \\\n",
       "232                               1553.385069   \n",
       "234                               1549.865198   \n",
       "758                               1801.059547   \n",
       "759                               1583.735630   \n",
       "760                               1597.270648   \n",
       "...                                       ...   \n",
       "14127                             1650.440341   \n",
       "14128                             1650.788636   \n",
       "14129                             1649.170321   \n",
       "14130                             1649.375947   \n",
       "14138                             1648.401594   \n",
       "\n",
       "       primary_cleaner.state.floatbank8_b_level  \\\n",
       "232                                 -501.017689   \n",
       "234                                 -499.353058   \n",
       "758                                 -351.758085   \n",
       "759                                 -351.180108   \n",
       "760                                 -347.354380   \n",
       "...                                         ...   \n",
       "14127                               -400.182977   \n",
       "14128                               -399.857146   \n",
       "14129                               -400.119658   \n",
       "14130                               -399.827594   \n",
       "14138                               -400.608887   \n",
       "\n",
       "       primary_cleaner.state.floatbank8_c_air  ...  \\\n",
       "232                               1499.302235  ...   \n",
       "234                               1503.904702  ...   \n",
       "758                               1804.792474  ...   \n",
       "759                               1582.099962  ...   \n",
       "760                               1598.642844  ...   \n",
       "...                                       ...  ...   \n",
       "14127                             1650.279621  ...   \n",
       "14128                             1649.707469  ...   \n",
       "14129                             1650.330426  ...   \n",
       "14130                             1649.519493  ...   \n",
       "14138                             1649.739466  ...   \n",
       "\n",
       "       secondary_cleaner.state.floatbank4_a_air  \\\n",
       "232                                   15.021547   \n",
       "234                                   15.068504   \n",
       "758                                   22.998875   \n",
       "759                                   23.709602   \n",
       "760                                   24.962970   \n",
       "...                                         ...   \n",
       "14127                                 23.014369   \n",
       "14128                                 23.025088   \n",
       "14129                                 23.018880   \n",
       "14130                                 23.022083   \n",
       "14138                                 23.035611   \n",
       "\n",
       "       secondary_cleaner.state.floatbank4_a_level  \\\n",
       "232                                   -549.354766   \n",
       "234                                   -549.945571   \n",
       "758                                   -326.000930   \n",
       "759                                   -412.029336   \n",
       "760                                   -402.660058   \n",
       "...                                           ...   \n",
       "14127                                 -500.212424   \n",
       "14128                                 -501.311668   \n",
       "14129                                 -500.910903   \n",
       "14130                                 -501.108490   \n",
       "14138                                 -501.134671   \n",
       "\n",
       "       secondary_cleaner.state.floatbank4_b_air  \\\n",
       "232                                   12.929922   \n",
       "234                                   12.996740   \n",
       "758                                   22.007539   \n",
       "759                                   22.639733   \n",
       "760                                   23.976703   \n",
       "...                                         ...   \n",
       "14127                                 19.992876   \n",
       "14128                                 20.031273   \n",
       "14129                                 19.973517   \n",
       "14130                                 20.018146   \n",
       "14138                                 19.984883   \n",
       "\n",
       "       secondary_cleaner.state.floatbank4_b_level  \\\n",
       "232                                   -550.109454   \n",
       "234                                   -549.944931   \n",
       "758                                   -240.994874   \n",
       "759                                   -412.896304   \n",
       "760                                   -412.144204   \n",
       "...                                           ...   \n",
       "14127                                 -499.888065   \n",
       "14128                                 -500.674430   \n",
       "14129                                 -499.414252   \n",
       "14130                                 -500.739493   \n",
       "14138                                 -501.051735   \n",
       "\n",
       "       secondary_cleaner.state.floatbank5_a_air  \\\n",
       "232                                    9.967843   \n",
       "234                                   10.055798   \n",
       "758                                   24.937551   \n",
       "759                                   25.021629   \n",
       "760                                   25.011534   \n",
       "...                                         ...   \n",
       "14127                                 17.977496   \n",
       "14128                                 17.953446   \n",
       "14129                                 17.957036   \n",
       "14130                                 17.998088   \n",
       "14138                                 17.948892   \n",
       "\n",
       "       secondary_cleaner.state.floatbank5_a_level  \\\n",
       "232                                   -597.081983   \n",
       "234                                   -599.466008   \n",
       "758                                   -351.732542   \n",
       "759                                   -428.537556   \n",
       "760                                   -340.282788   \n",
       "...                                           ...   \n",
       "14127                                 -499.967811   \n",
       "14128                                 -500.681679   \n",
       "14129                                 -499.519333   \n",
       "14130                                 -500.267224   \n",
       "14138                                 -500.147451   \n",
       "\n",
       "       secondary_cleaner.state.floatbank5_b_air  \\\n",
       "232                                    8.021562   \n",
       "234                                    8.092485   \n",
       "758                                   21.020936   \n",
       "759                                   21.011542   \n",
       "760                                   20.968156   \n",
       "...                                         ...   \n",
       "14127                                 12.954171   \n",
       "14128                                 13.013927   \n",
       "14129                                 12.995216   \n",
       "14130                                 12.995547   \n",
       "14138                                 13.009772   \n",
       "\n",
       "       secondary_cleaner.state.floatbank5_b_level  \\\n",
       "232                                   -599.602641   \n",
       "234                                   -600.249114   \n",
       "758                                   -398.647140   \n",
       "759                                   -400.287375   \n",
       "760                                   -399.810501   \n",
       "...                                           ...   \n",
       "14127                                 -500.260455   \n",
       "14128                                 -500.258257   \n",
       "14129                                 -500.030232   \n",
       "14130                                 -500.179650   \n",
       "14138                                 -500.081309   \n",
       "\n",
       "       secondary_cleaner.state.floatbank6_a_air  \\\n",
       "232                                   11.973194   \n",
       "234                                   12.015319   \n",
       "758                                   24.988094   \n",
       "759                                   30.004867   \n",
       "760                                   30.002489   \n",
       "...                                         ...   \n",
       "14127                                 19.983515   \n",
       "14128                                 20.012671   \n",
       "14129                                 19.983372   \n",
       "14130                                 19.985572   \n",
       "14138                                 20.012084   \n",
       "\n",
       "       secondary_cleaner.state.floatbank6_a_level  \n",
       "232                                   -599.585535  \n",
       "234                                   -601.613481  \n",
       "758                                   -391.849916  \n",
       "759                                   -396.683519  \n",
       "760                                   -402.908411  \n",
       "...                                           ...  \n",
       "14127                                 -503.243695  \n",
       "14128                                 -505.750254  \n",
       "14129                                 -509.060146  \n",
       "14130                                 -501.375774  \n",
       "14138                                 -501.651764  \n",
       "\n",
       "[1421 rows x 54 columns]"
      ]
     },
     "execution_count": 21,
     "metadata": {},
     "output_type": "execute_result"
    }
   ],
   "source": [
    "df_train = df_train[df_train['rougher.input.feed_ag'] > 5]\n",
    "df_train = df_train[df_train['rougher.input.feed_pb'] > 5]\n",
    "df_train = df_train[df_train['rougher.input.feed_sol'] > 5]\n",
    "df_train = df_train[df_train['rougher.input.feed_au'] > 5]\n",
    "df_train"
   ]
  },
  {
   "cell_type": "markdown",
   "metadata": {},
   "source": [
    "Промежуточный вывод по вышеприведённому анализу: большая часть различных мелких примемесей отсеиваются на процедуре флотации, остальные металлы, такие как серебро, отсеиваются при последующих этапах. Но при этом, процент, которые занимают четыре главных минерала, практически неизменен, после того, как была пройдена процедура флотации"
   ]
  },
  {
   "cell_type": "markdown",
   "metadata": {},
   "source": [
    "## Модель"
   ]
  },
  {
   "cell_type": "code",
   "execution_count": 22,
   "metadata": {},
   "outputs": [],
   "source": [
    "def smape(target, predict):\n",
    "    temp = np.mean(np.abs(target - predict) / ((np.abs(target) + np.abs(predict)) / 2)) * 100\n",
    "    return(temp)\n",
    "smape_score = make_scorer(smape, greater_is_better=False)"
   ]
  },
  {
   "cell_type": "code",
   "execution_count": 23,
   "metadata": {},
   "outputs": [],
   "source": [
    "#Создаю функцию для вычисления итоговово sMAPE\n",
    "def total_smape(rougher_predictions, rougher_target, final_predictions, final_target):\n",
    "    total = smape(rougher_target, rougher_predictions) * 0.25 + smape(final_target, final_predictions) * 0.75\n",
    "    return(total)"
   ]
  },
  {
   "cell_type": "code",
   "execution_count": 24,
   "metadata": {},
   "outputs": [],
   "source": [
    "#Подготавливаю данные\n",
    "train_features = df_train.drop(['rougher.output.recovery','final.output.recovery'], axis = 1)\n",
    "train_target_rougher = df_train['rougher.output.recovery']\n",
    "train_target_final = df_train['final.output.recovery']\n",
    "test_features = df_test.drop(['rougher.output.recovery','final.output.recovery'], axis = 1)\n",
    "test_target_rougher = df_test['rougher.output.recovery']\n",
    "test_target_final = df_test['final.output.recovery']"
   ]
  },
  {
   "cell_type": "code",
   "execution_count": 25,
   "metadata": {},
   "outputs": [],
   "source": [
    "#Создаю функцию для теста кросс валидацией\n",
    "def cross_val_test(model, features, target_rougher, target_final):\n",
    "    rougher_scores = cross_val_score(model, features, target_rougher, scoring = smape_score, cv = 5)\n",
    "    print('Средняя оценка флотации - ',rougher_scores.mean())\n",
    "    final_scores = cross_val_score(model, features, target_final, scoring = smape_score, cv = 5)\n",
    "    print('Финальная средняя оценка - ',final_scores.mean())\n",
    "    print('Итоговый sMAPE - ',(rougher_scores * 0.25 + final_scores * 0.75).mean())"
   ]
  },
  {
   "cell_type": "code",
   "execution_count": 26,
   "metadata": {},
   "outputs": [
    {
     "name": "stdout",
     "output_type": "stream",
     "text": [
      "Лучшие гиперпараметры для флотации это: {'max_depth': 3, 'min_samples_leaf': 3}\n",
      "Лучший результат флотации - -12.146814045651341\n"
     ]
    }
   ],
   "source": [
    "#Тестирую древо\n",
    "grid_space={'max_depth':[3,5,10],\n",
    "            'min_samples_leaf':[1,2,3],\n",
    "           }\n",
    "model = DecisionTreeRegressor(random_state = 12345)\n",
    "grid = GridSearchCV(model,param_grid=grid_space,cv=3,scoring=smape_score)\n",
    "model_grid = grid.fit(train_features, train_target_rougher)\n",
    "print('Лучшие гиперпараметры для флотации это: '+str(model_grid.best_params_))\n",
    "print('Лучший результат флотации - '+str(model_grid.best_score_))"
   ]
  },
  {
   "cell_type": "code",
   "execution_count": 27,
   "metadata": {},
   "outputs": [
    {
     "name": "stdout",
     "output_type": "stream",
     "text": [
      "Лучшие гиперпараметры для финального результата это: {'max_depth': 3, 'min_samples_leaf': 1}\n",
      "Лучший результат для финальной концетрации - -12.017870112785815\n"
     ]
    }
   ],
   "source": [
    "model_grid = grid.fit(train_features, train_target_final)\n",
    "print('Лучшие гиперпараметры для финального результата это: '+str(model_grid.best_params_))\n",
    "print('Лучший результат для финальной концетрации - '+str(model_grid.best_score_))"
   ]
  },
  {
   "cell_type": "code",
   "execution_count": 28,
   "metadata": {},
   "outputs": [
    {
     "name": "stdout",
     "output_type": "stream",
     "text": [
      "Средняя оценка флотации -  -21.056847129470093\n",
      "Финальная средняя оценка -  -10.759181148411875\n",
      "Итоговый sMAPE -  -13.33359764367643\n"
     ]
    }
   ],
   "source": [
    "model = DecisionTreeRegressor(random_state = 12345, max_depth = 5, min_samples_leaf = 3)\n",
    "cross_val_test(model, train_features, train_target_rougher, train_target_final)"
   ]
  },
  {
   "cell_type": "code",
   "execution_count": 29,
   "metadata": {},
   "outputs": [
    {
     "name": "stdout",
     "output_type": "stream",
     "text": [
      "Средняя оценка флотации -  -33.23354710267902\n",
      "Финальная средняя оценка -  -17.248646215438345\n",
      "Итоговый sMAPE -  -21.244871437248513\n"
     ]
    }
   ],
   "source": [
    "#Тестирую лин.регрессию\n",
    "model = LinearRegression()\n",
    "cross_val_test(model, train_features, train_target_rougher, train_target_final)"
   ]
  },
  {
   "cell_type": "markdown",
   "metadata": {},
   "source": [
    "Древо решений показало себя лучше, его я и буду использовать далее"
   ]
  },
  {
   "cell_type": "markdown",
   "metadata": {},
   "source": [
    "Промежуточный вывод: Из двух выбранных алгоритмов линейная регрессия показала лучшие результаты. Также я хочу сообщить о том, что я отказался от использования рандомного леса т.к он требует слишком много ресурсов, и поэтому он не подходит для работы с настолько массивными данными"
   ]
  },
  {
   "cell_type": "markdown",
   "metadata": {},
   "source": [
    "## Финальный тест"
   ]
  },
  {
   "cell_type": "code",
   "execution_count": 30,
   "metadata": {},
   "outputs": [
    {
     "name": "stdout",
     "output_type": "stream",
     "text": [
      "Итоговый sMAPE -  12.448910477912037\n",
      "Итоговый sMAPE примитивного алгоритма -  8.934570630153388\n"
     ]
    }
   ],
   "source": [
    "model = DecisionTreeRegressor(random_state = 12345, max_depth = 5, min_samples_leaf = 3)\n",
    "model.fit(train_features, train_target_rougher)\n",
    "rougher_predictions = model.predict(test_features)\n",
    "model = DecisionTreeRegressor(random_state = 12345, max_depth = 5, min_samples_leaf = 2)\n",
    "model.fit(train_features, train_target_final)\n",
    "final_predictions = model.predict(test_features)\n",
    "print('Итоговый sMAPE - ',total_smape(rougher_predictions, test_target_rougher, final_predictions, test_target_final))\n",
    "model = DummyRegressor()\n",
    "model.fit(train_features, train_target_rougher)\n",
    "rougher_predictions = model.predict(test_features)\n",
    "model = DummyRegressor()\n",
    "model.fit(train_features, train_target_final)\n",
    "final_predictions = model.predict(test_features)\n",
    "print('Итоговый sMAPE примитивного алгоритма - ',total_smape(rougher_predictions, test_target_rougher, final_predictions, test_target_final))\n"
   ]
  },
  {
   "cell_type": "markdown",
   "metadata": {},
   "source": [
    "Итоговый вывод: В данном проекте я исследовал восстановление золота из золотосодержащей руды, я обработал массивы данных, сделал их пригодными для обучения модели. Также я провел исследовательский анализ, в исследовал концетрацию различных минералов, и то, как она меняется на различных этапах очистки. И под конец я обучил модель, которая должна предсказывать процент концетрации золота на этапе флотации и в самом конце процесса."
   ]
  }
 ],
 "metadata": {
  "ExecuteTimeLog": [
   {
    "duration": 417,
    "start_time": "2023-02-23T08:37:50.991Z"
   },
   {
    "duration": 100,
    "start_time": "2023-02-23T08:37:52.330Z"
   },
   {
    "duration": 1764,
    "start_time": "2023-02-23T08:38:40.305Z"
   },
   {
    "duration": 3,
    "start_time": "2023-02-23T09:42:44.264Z"
   },
   {
    "duration": 7,
    "start_time": "2023-02-23T09:43:45.741Z"
   },
   {
    "duration": 27,
    "start_time": "2023-02-23T09:44:07.877Z"
   },
   {
    "duration": 10,
    "start_time": "2023-02-23T09:44:21.026Z"
   },
   {
    "duration": 34,
    "start_time": "2023-02-23T09:44:33.026Z"
   },
   {
    "duration": 23,
    "start_time": "2023-02-23T09:45:11.704Z"
   },
   {
    "duration": 24,
    "start_time": "2023-02-23T09:45:39.630Z"
   },
   {
    "duration": 28,
    "start_time": "2023-02-23T11:58:30.199Z"
   },
   {
    "duration": 7,
    "start_time": "2023-02-23T12:05:33.187Z"
   },
   {
    "duration": 9,
    "start_time": "2023-02-23T12:05:39.028Z"
   },
   {
    "duration": 6,
    "start_time": "2023-02-23T12:05:58.593Z"
   },
   {
    "duration": 8,
    "start_time": "2023-02-23T12:06:06.903Z"
   },
   {
    "duration": 15,
    "start_time": "2023-02-23T12:06:49.370Z"
   },
   {
    "duration": 54,
    "start_time": "2023-02-25T12:58:57.695Z"
   },
   {
    "duration": 351,
    "start_time": "2023-02-25T12:59:02.978Z"
   },
   {
    "duration": 1851,
    "start_time": "2023-02-25T12:59:03.331Z"
   },
   {
    "duration": 37,
    "start_time": "2023-02-25T12:59:05.183Z"
   },
   {
    "duration": 28,
    "start_time": "2023-02-25T12:59:05.222Z"
   },
   {
    "duration": 28,
    "start_time": "2023-02-25T12:59:05.251Z"
   },
   {
    "duration": 3,
    "start_time": "2023-02-25T12:59:05.281Z"
   },
   {
    "duration": 67,
    "start_time": "2023-02-25T12:59:19.193Z"
   },
   {
    "duration": 4,
    "start_time": "2023-02-25T12:59:43.606Z"
   },
   {
    "duration": 7,
    "start_time": "2023-02-25T12:59:53.508Z"
   },
   {
    "duration": 4,
    "start_time": "2023-02-25T13:00:52.361Z"
   },
   {
    "duration": 3,
    "start_time": "2023-02-25T13:01:15.086Z"
   },
   {
    "duration": 4,
    "start_time": "2023-02-25T13:01:45.723Z"
   },
   {
    "duration": 5,
    "start_time": "2023-02-25T13:03:30.068Z"
   },
   {
    "duration": 4,
    "start_time": "2023-02-25T13:07:54.282Z"
   },
   {
    "duration": 38,
    "start_time": "2023-02-25T13:10:18.309Z"
   },
   {
    "duration": 7,
    "start_time": "2023-02-25T13:40:40.622Z"
   },
   {
    "duration": 435,
    "start_time": "2023-02-25T13:44:52.477Z"
   },
   {
    "duration": 665,
    "start_time": "2023-02-25T13:44:52.914Z"
   },
   {
    "duration": 35,
    "start_time": "2023-02-25T13:44:53.580Z"
   },
   {
    "duration": 33,
    "start_time": "2023-02-25T13:44:53.618Z"
   },
   {
    "duration": 30,
    "start_time": "2023-02-25T13:44:53.653Z"
   },
   {
    "duration": 5,
    "start_time": "2023-02-25T13:44:53.685Z"
   },
   {
    "duration": 43,
    "start_time": "2023-02-25T13:44:53.692Z"
   },
   {
    "duration": 69,
    "start_time": "2023-02-25T13:44:53.737Z"
   },
   {
    "duration": 3,
    "start_time": "2023-02-25T13:45:06.203Z"
   },
   {
    "duration": 8,
    "start_time": "2023-02-25T13:46:04.561Z"
   },
   {
    "duration": 3,
    "start_time": "2023-02-25T13:46:16.784Z"
   },
   {
    "duration": 4,
    "start_time": "2023-02-25T13:46:45.267Z"
   },
   {
    "duration": 17,
    "start_time": "2023-02-25T14:10:58.289Z"
   },
   {
    "duration": 17,
    "start_time": "2023-02-25T14:12:29.017Z"
   },
   {
    "duration": 14,
    "start_time": "2023-02-25T14:12:50.266Z"
   },
   {
    "duration": 368,
    "start_time": "2023-02-25T14:13:09.360Z"
   },
   {
    "duration": 462,
    "start_time": "2023-02-25T14:13:25.185Z"
   },
   {
    "duration": 1066,
    "start_time": "2023-02-25T14:24:57.385Z"
   },
   {
    "duration": 633,
    "start_time": "2023-02-25T14:24:58.454Z"
   },
   {
    "duration": 43,
    "start_time": "2023-02-25T14:24:59.088Z"
   },
   {
    "duration": 34,
    "start_time": "2023-02-25T14:24:59.133Z"
   },
   {
    "duration": 32,
    "start_time": "2023-02-25T14:24:59.169Z"
   },
   {
    "duration": 25,
    "start_time": "2023-02-25T14:24:59.203Z"
   },
   {
    "duration": 13,
    "start_time": "2023-02-25T14:24:59.230Z"
   },
   {
    "duration": 408,
    "start_time": "2023-02-25T14:24:59.244Z"
   },
   {
    "duration": 132,
    "start_time": "2023-02-25T15:35:00.289Z"
   },
   {
    "duration": 4,
    "start_time": "2023-02-25T15:35:08.412Z"
   },
   {
    "duration": 4,
    "start_time": "2023-02-25T15:35:38.474Z"
   },
   {
    "duration": 4,
    "start_time": "2023-02-25T15:36:41.782Z"
   },
   {
    "duration": 12,
    "start_time": "2023-02-25T15:37:59.679Z"
   },
   {
    "duration": 4,
    "start_time": "2023-02-25T15:38:05.462Z"
   },
   {
    "duration": 1157,
    "start_time": "2023-02-25T19:18:44.717Z"
   },
   {
    "duration": 2146,
    "start_time": "2023-02-25T19:18:45.876Z"
   },
   {
    "duration": 41,
    "start_time": "2023-02-25T19:18:48.024Z"
   },
   {
    "duration": 28,
    "start_time": "2023-02-25T19:18:48.068Z"
   },
   {
    "duration": 54,
    "start_time": "2023-02-25T19:18:48.098Z"
   },
   {
    "duration": 5,
    "start_time": "2023-02-25T19:18:48.155Z"
   },
   {
    "duration": 418,
    "start_time": "2023-02-25T19:18:48.161Z"
   },
   {
    "duration": 4,
    "start_time": "2023-02-25T19:18:48.580Z"
   },
   {
    "duration": 91213,
    "start_time": "2023-02-25T19:18:48.585Z"
   },
   {
    "duration": 17,
    "start_time": "2023-02-25T19:21:42.152Z"
   },
   {
    "duration": 1270,
    "start_time": "2023-02-25T19:37:01.367Z"
   },
   {
    "duration": 862,
    "start_time": "2023-02-25T19:37:02.639Z"
   },
   {
    "duration": 53,
    "start_time": "2023-02-25T19:37:03.502Z"
   },
   {
    "duration": 35,
    "start_time": "2023-02-25T19:37:03.557Z"
   },
   {
    "duration": 72,
    "start_time": "2023-02-25T19:37:03.595Z"
   },
   {
    "duration": 10,
    "start_time": "2023-02-25T19:37:03.674Z"
   },
   {
    "duration": 551,
    "start_time": "2023-02-25T19:37:03.687Z"
   },
   {
    "duration": 5,
    "start_time": "2023-02-25T19:37:04.240Z"
   },
   {
    "duration": 36,
    "start_time": "2023-02-25T19:37:04.247Z"
   },
   {
    "duration": 12750,
    "start_time": "2023-02-25T19:37:04.285Z"
   },
   {
    "duration": 32,
    "start_time": "2023-02-25T19:37:34.149Z"
   },
   {
    "duration": 1411,
    "start_time": "2023-02-25T19:42:32.495Z"
   },
   {
    "duration": 858,
    "start_time": "2023-02-25T19:42:33.908Z"
   },
   {
    "duration": 36,
    "start_time": "2023-02-25T19:42:34.770Z"
   },
   {
    "duration": 61,
    "start_time": "2023-02-25T19:42:34.809Z"
   },
   {
    "duration": 30,
    "start_time": "2023-02-25T19:42:34.871Z"
   },
   {
    "duration": 5,
    "start_time": "2023-02-25T19:42:34.903Z"
   },
   {
    "duration": 462,
    "start_time": "2023-02-25T19:42:34.909Z"
   },
   {
    "duration": 4,
    "start_time": "2023-02-25T19:42:35.372Z"
   },
   {
    "duration": 124,
    "start_time": "2023-02-25T19:42:35.377Z"
   },
   {
    "duration": 0,
    "start_time": "2023-02-25T19:42:35.503Z"
   },
   {
    "duration": 0,
    "start_time": "2023-02-25T19:42:35.504Z"
   },
   {
    "duration": 1172,
    "start_time": "2023-02-25T19:43:53.191Z"
   },
   {
    "duration": 868,
    "start_time": "2023-02-25T19:43:54.365Z"
   },
   {
    "duration": 44,
    "start_time": "2023-02-25T19:43:55.236Z"
   },
   {
    "duration": 27,
    "start_time": "2023-02-25T19:43:55.282Z"
   },
   {
    "duration": 52,
    "start_time": "2023-02-25T19:43:55.310Z"
   },
   {
    "duration": 11,
    "start_time": "2023-02-25T19:43:55.364Z"
   },
   {
    "duration": 481,
    "start_time": "2023-02-25T19:43:55.377Z"
   },
   {
    "duration": 4,
    "start_time": "2023-02-25T19:43:55.867Z"
   },
   {
    "duration": 11,
    "start_time": "2023-02-25T19:43:55.872Z"
   },
   {
    "duration": 182,
    "start_time": "2023-02-25T19:43:55.885Z"
   },
   {
    "duration": 9,
    "start_time": "2023-02-25T19:43:56.073Z"
   },
   {
    "duration": 1176,
    "start_time": "2023-02-25T19:45:15.453Z"
   },
   {
    "duration": 877,
    "start_time": "2023-02-25T19:45:16.631Z"
   },
   {
    "duration": 56,
    "start_time": "2023-02-25T19:45:17.511Z"
   },
   {
    "duration": 31,
    "start_time": "2023-02-25T19:45:17.571Z"
   },
   {
    "duration": 62,
    "start_time": "2023-02-25T19:45:17.604Z"
   },
   {
    "duration": 5,
    "start_time": "2023-02-25T19:45:17.668Z"
   },
   {
    "duration": 465,
    "start_time": "2023-02-25T19:45:17.674Z"
   },
   {
    "duration": 10,
    "start_time": "2023-02-25T19:45:18.141Z"
   },
   {
    "duration": 28,
    "start_time": "2023-02-25T19:45:18.153Z"
   },
   {
    "duration": 259,
    "start_time": "2023-02-25T19:45:18.183Z"
   },
   {
    "duration": 17,
    "start_time": "2023-02-25T19:45:18.445Z"
   },
   {
    "duration": 1287,
    "start_time": "2023-02-25T19:48:07.722Z"
   },
   {
    "duration": 898,
    "start_time": "2023-02-25T19:48:09.011Z"
   },
   {
    "duration": 59,
    "start_time": "2023-02-25T19:48:09.911Z"
   },
   {
    "duration": 29,
    "start_time": "2023-02-25T19:48:09.977Z"
   },
   {
    "duration": 36,
    "start_time": "2023-02-25T19:48:10.008Z"
   },
   {
    "duration": 20,
    "start_time": "2023-02-25T19:48:10.046Z"
   },
   {
    "duration": 544,
    "start_time": "2023-02-25T19:48:10.068Z"
   },
   {
    "duration": 5,
    "start_time": "2023-02-25T19:48:10.614Z"
   },
   {
    "duration": 74,
    "start_time": "2023-02-25T19:48:10.620Z"
   },
   {
    "duration": 2305,
    "start_time": "2023-02-25T19:48:10.697Z"
   },
   {
    "duration": 1,
    "start_time": "2023-02-25T19:48:13.003Z"
   },
   {
    "duration": 65324,
    "start_time": "2023-02-25T20:37:58.367Z"
   },
   {
    "duration": 7,
    "start_time": "2023-02-25T20:39:08.458Z"
   },
   {
    "duration": 4,
    "start_time": "2023-02-25T20:40:35.826Z"
   },
   {
    "duration": 1112,
    "start_time": "2023-02-25T21:12:44.108Z"
   },
   {
    "duration": 720,
    "start_time": "2023-02-25T21:12:45.222Z"
   },
   {
    "duration": 37,
    "start_time": "2023-02-25T21:12:45.943Z"
   },
   {
    "duration": 29,
    "start_time": "2023-02-25T21:12:45.982Z"
   },
   {
    "duration": 46,
    "start_time": "2023-02-25T21:12:46.013Z"
   },
   {
    "duration": 5,
    "start_time": "2023-02-25T21:12:46.060Z"
   },
   {
    "duration": 422,
    "start_time": "2023-02-25T21:12:46.067Z"
   },
   {
    "duration": 4,
    "start_time": "2023-02-25T21:12:46.491Z"
   },
   {
    "duration": 11,
    "start_time": "2023-02-25T21:12:46.497Z"
   },
   {
    "duration": 25,
    "start_time": "2023-02-25T21:12:46.510Z"
   },
   {
    "duration": 2155,
    "start_time": "2023-02-25T21:12:46.536Z"
   },
   {
    "duration": 53489,
    "start_time": "2023-02-25T21:13:07.403Z"
   },
   {
    "duration": 3,
    "start_time": "2023-02-25T21:14:29.987Z"
   },
   {
    "duration": 3,
    "start_time": "2023-02-25T21:17:12.198Z"
   },
   {
    "duration": 14,
    "start_time": "2023-02-25T21:17:26.483Z"
   },
   {
    "duration": 2550,
    "start_time": "2023-02-25T21:23:54.362Z"
   },
   {
    "duration": 2121,
    "start_time": "2023-02-25T21:27:03.367Z"
   },
   {
    "duration": 2174,
    "start_time": "2023-02-25T21:27:20.492Z"
   },
   {
    "duration": 1450,
    "start_time": "2023-02-25T21:28:55.356Z"
   },
   {
    "duration": 11,
    "start_time": "2023-02-25T21:29:13.123Z"
   },
   {
    "duration": 6,
    "start_time": "2023-02-25T21:29:29.653Z"
   },
   {
    "duration": 18,
    "start_time": "2023-02-25T21:33:00.355Z"
   },
   {
    "duration": 37,
    "start_time": "2023-02-25T21:34:15.881Z"
   },
   {
    "duration": 18,
    "start_time": "2023-02-25T21:34:47.436Z"
   },
   {
    "duration": 34,
    "start_time": "2023-02-25T21:34:55.814Z"
   },
   {
    "duration": 1114,
    "start_time": "2023-02-26T07:47:01.542Z"
   },
   {
    "duration": 2897,
    "start_time": "2023-02-26T07:47:02.658Z"
   },
   {
    "duration": 36,
    "start_time": "2023-02-26T07:47:05.557Z"
   },
   {
    "duration": 39,
    "start_time": "2023-02-26T07:47:05.595Z"
   },
   {
    "duration": 30,
    "start_time": "2023-02-26T07:47:05.635Z"
   },
   {
    "duration": 4,
    "start_time": "2023-02-26T07:47:05.667Z"
   },
   {
    "duration": 543,
    "start_time": "2023-02-26T07:47:05.673Z"
   },
   {
    "duration": 5,
    "start_time": "2023-02-26T07:47:06.218Z"
   },
   {
    "duration": 10,
    "start_time": "2023-02-26T07:47:06.225Z"
   },
   {
    "duration": 125,
    "start_time": "2023-02-26T07:47:06.238Z"
   },
   {
    "duration": 0,
    "start_time": "2023-02-26T07:47:06.365Z"
   },
   {
    "duration": 44,
    "start_time": "2023-02-26T07:47:15.973Z"
   },
   {
    "duration": 30,
    "start_time": "2023-02-26T07:47:18.845Z"
   },
   {
    "duration": 9,
    "start_time": "2023-02-26T07:52:51.890Z"
   },
   {
    "duration": 10,
    "start_time": "2023-02-26T07:53:15.986Z"
   },
   {
    "duration": 7,
    "start_time": "2023-02-26T07:53:23.889Z"
   },
   {
    "duration": 30,
    "start_time": "2023-02-26T07:53:37.320Z"
   },
   {
    "duration": 30,
    "start_time": "2023-02-26T07:54:09.791Z"
   },
   {
    "duration": 934,
    "start_time": "2023-02-26T07:55:04.030Z"
   },
   {
    "duration": 723,
    "start_time": "2023-02-26T07:55:34.795Z"
   },
   {
    "duration": 1019,
    "start_time": "2023-02-26T07:56:25.544Z"
   },
   {
    "duration": 623,
    "start_time": "2023-02-26T07:56:26.565Z"
   },
   {
    "duration": 34,
    "start_time": "2023-02-26T07:56:27.193Z"
   },
   {
    "duration": 26,
    "start_time": "2023-02-26T07:56:27.229Z"
   },
   {
    "duration": 53,
    "start_time": "2023-02-26T07:56:27.257Z"
   },
   {
    "duration": 5,
    "start_time": "2023-02-26T07:56:27.312Z"
   },
   {
    "duration": 396,
    "start_time": "2023-02-26T07:56:27.319Z"
   },
   {
    "duration": 4,
    "start_time": "2023-02-26T07:56:27.717Z"
   },
   {
    "duration": 10,
    "start_time": "2023-02-26T07:56:27.724Z"
   },
   {
    "duration": 65,
    "start_time": "2023-02-26T07:56:27.736Z"
   },
   {
    "duration": 5,
    "start_time": "2023-02-26T07:56:27.803Z"
   },
   {
    "duration": 9,
    "start_time": "2023-02-26T07:56:27.809Z"
   },
   {
    "duration": 33,
    "start_time": "2023-02-26T07:56:27.819Z"
   },
   {
    "duration": 1005,
    "start_time": "2023-02-26T07:58:02.717Z"
   },
   {
    "duration": 607,
    "start_time": "2023-02-26T07:58:03.724Z"
   },
   {
    "duration": 34,
    "start_time": "2023-02-26T07:58:04.333Z"
   },
   {
    "duration": 38,
    "start_time": "2023-02-26T07:58:04.369Z"
   },
   {
    "duration": 28,
    "start_time": "2023-02-26T07:58:04.409Z"
   },
   {
    "duration": 5,
    "start_time": "2023-02-26T07:58:04.438Z"
   },
   {
    "duration": 381,
    "start_time": "2023-02-26T07:58:04.445Z"
   },
   {
    "duration": 3,
    "start_time": "2023-02-26T07:58:04.828Z"
   },
   {
    "duration": 9,
    "start_time": "2023-02-26T07:58:04.832Z"
   },
   {
    "duration": 27,
    "start_time": "2023-02-26T07:58:04.844Z"
   },
   {
    "duration": 46,
    "start_time": "2023-02-26T07:58:04.873Z"
   },
   {
    "duration": 7,
    "start_time": "2023-02-26T07:58:04.920Z"
   },
   {
    "duration": 30,
    "start_time": "2023-02-26T07:58:04.928Z"
   },
   {
    "duration": 6,
    "start_time": "2023-02-26T08:14:32.177Z"
   },
   {
    "duration": 6,
    "start_time": "2023-02-26T08:14:58.622Z"
   },
   {
    "duration": 8,
    "start_time": "2023-02-26T08:15:47.671Z"
   },
   {
    "duration": 6,
    "start_time": "2023-02-26T08:16:30.349Z"
   },
   {
    "duration": 1210,
    "start_time": "2023-02-26T08:17:05.207Z"
   },
   {
    "duration": 681,
    "start_time": "2023-02-26T08:17:06.423Z"
   },
   {
    "duration": 34,
    "start_time": "2023-02-26T08:17:07.106Z"
   },
   {
    "duration": 26,
    "start_time": "2023-02-26T08:17:07.142Z"
   },
   {
    "duration": 60,
    "start_time": "2023-02-26T08:17:07.170Z"
   },
   {
    "duration": 9,
    "start_time": "2023-02-26T08:17:07.232Z"
   },
   {
    "duration": 373,
    "start_time": "2023-02-26T08:17:07.242Z"
   },
   {
    "duration": 3,
    "start_time": "2023-02-26T08:17:07.617Z"
   },
   {
    "duration": 9,
    "start_time": "2023-02-26T08:17:07.622Z"
   },
   {
    "duration": 37,
    "start_time": "2023-02-26T08:17:07.633Z"
   },
   {
    "duration": 37,
    "start_time": "2023-02-26T08:17:07.672Z"
   },
   {
    "duration": 7,
    "start_time": "2023-02-26T08:17:07.711Z"
   },
   {
    "duration": 6,
    "start_time": "2023-02-26T08:18:39.827Z"
   },
   {
    "duration": 10,
    "start_time": "2023-02-26T08:19:24.528Z"
   },
   {
    "duration": 8,
    "start_time": "2023-02-26T08:19:45.482Z"
   },
   {
    "duration": 94,
    "start_time": "2023-02-26T08:25:17.705Z"
   },
   {
    "duration": 66,
    "start_time": "2023-02-26T08:28:48.647Z"
   },
   {
    "duration": 17,
    "start_time": "2023-02-26T08:31:09.372Z"
   },
   {
    "duration": 14,
    "start_time": "2023-02-26T08:32:00.220Z"
   },
   {
    "duration": 1013,
    "start_time": "2023-02-26T08:35:38.821Z"
   },
   {
    "duration": 644,
    "start_time": "2023-02-26T08:35:39.836Z"
   },
   {
    "duration": 35,
    "start_time": "2023-02-26T08:35:40.482Z"
   },
   {
    "duration": 25,
    "start_time": "2023-02-26T08:35:40.520Z"
   },
   {
    "duration": 49,
    "start_time": "2023-02-26T08:35:40.547Z"
   },
   {
    "duration": 4,
    "start_time": "2023-02-26T08:35:40.598Z"
   },
   {
    "duration": 392,
    "start_time": "2023-02-26T08:35:40.604Z"
   },
   {
    "duration": 4,
    "start_time": "2023-02-26T08:35:40.998Z"
   },
   {
    "duration": 30,
    "start_time": "2023-02-26T08:35:41.003Z"
   },
   {
    "duration": 6,
    "start_time": "2023-02-26T08:35:41.036Z"
   },
   {
    "duration": 30,
    "start_time": "2023-02-26T08:35:41.044Z"
   },
   {
    "duration": 64,
    "start_time": "2023-02-26T08:35:41.075Z"
   },
   {
    "duration": 0,
    "start_time": "2023-02-26T08:35:41.141Z"
   },
   {
    "duration": 0,
    "start_time": "2023-02-26T08:35:41.142Z"
   },
   {
    "duration": 0,
    "start_time": "2023-02-26T08:35:41.143Z"
   },
   {
    "duration": 1086,
    "start_time": "2023-02-26T08:36:26.543Z"
   },
   {
    "duration": 654,
    "start_time": "2023-02-26T08:36:27.631Z"
   },
   {
    "duration": 42,
    "start_time": "2023-02-26T08:36:28.287Z"
   },
   {
    "duration": 27,
    "start_time": "2023-02-26T08:36:28.332Z"
   },
   {
    "duration": 48,
    "start_time": "2023-02-26T08:36:28.361Z"
   },
   {
    "duration": 4,
    "start_time": "2023-02-26T08:36:28.411Z"
   },
   {
    "duration": 378,
    "start_time": "2023-02-26T08:36:28.417Z"
   },
   {
    "duration": 4,
    "start_time": "2023-02-26T08:36:28.803Z"
   },
   {
    "duration": 30,
    "start_time": "2023-02-26T08:36:28.809Z"
   },
   {
    "duration": 7,
    "start_time": "2023-02-26T08:36:28.842Z"
   },
   {
    "duration": 40,
    "start_time": "2023-02-26T08:36:28.850Z"
   },
   {
    "duration": 63,
    "start_time": "2023-02-26T08:36:28.891Z"
   },
   {
    "duration": 0,
    "start_time": "2023-02-26T08:36:28.956Z"
   },
   {
    "duration": 0,
    "start_time": "2023-02-26T08:36:28.957Z"
   },
   {
    "duration": 0,
    "start_time": "2023-02-26T08:36:28.959Z"
   },
   {
    "duration": 1103,
    "start_time": "2023-02-26T08:37:06.625Z"
   },
   {
    "duration": 668,
    "start_time": "2023-02-26T08:37:07.731Z"
   },
   {
    "duration": 55,
    "start_time": "2023-02-26T08:37:08.401Z"
   },
   {
    "duration": 65,
    "start_time": "2023-02-26T08:37:08.459Z"
   },
   {
    "duration": 44,
    "start_time": "2023-02-26T08:37:08.527Z"
   },
   {
    "duration": 22,
    "start_time": "2023-02-26T08:37:08.574Z"
   },
   {
    "duration": 388,
    "start_time": "2023-02-26T08:37:08.598Z"
   },
   {
    "duration": 4,
    "start_time": "2023-02-26T08:37:08.991Z"
   },
   {
    "duration": 21,
    "start_time": "2023-02-26T08:37:08.996Z"
   },
   {
    "duration": 9,
    "start_time": "2023-02-26T08:37:09.020Z"
   },
   {
    "duration": 70,
    "start_time": "2023-02-26T08:37:09.031Z"
   },
   {
    "duration": 16,
    "start_time": "2023-02-26T08:37:09.104Z"
   },
   {
    "duration": 7,
    "start_time": "2023-02-26T08:37:09.122Z"
   },
   {
    "duration": 8,
    "start_time": "2023-02-26T08:37:09.132Z"
   },
   {
    "duration": 72,
    "start_time": "2023-02-26T08:37:09.142Z"
   },
   {
    "duration": 100,
    "start_time": "2023-02-26T08:39:00.065Z"
   },
   {
    "duration": 72,
    "start_time": "2023-02-26T08:39:19.569Z"
   },
   {
    "duration": 91,
    "start_time": "2023-02-26T08:39:30.273Z"
   },
   {
    "duration": 16,
    "start_time": "2023-02-26T11:49:27.052Z"
   },
   {
    "duration": 4,
    "start_time": "2023-02-26T12:17:36.526Z"
   },
   {
    "duration": 66,
    "start_time": "2023-02-26T12:22:13.088Z"
   },
   {
    "duration": 7,
    "start_time": "2023-02-26T12:22:26.184Z"
   },
   {
    "duration": 5,
    "start_time": "2023-02-26T12:23:10.991Z"
   },
   {
    "duration": 5,
    "start_time": "2023-02-26T12:24:55.453Z"
   },
   {
    "duration": 7,
    "start_time": "2023-02-26T12:28:57.295Z"
   },
   {
    "duration": 8,
    "start_time": "2023-02-26T12:31:08.747Z"
   },
   {
    "duration": 590,
    "start_time": "2023-02-26T14:14:32.365Z"
   },
   {
    "duration": 192,
    "start_time": "2023-02-26T14:14:54.637Z"
   },
   {
    "duration": 21,
    "start_time": "2023-02-26T14:16:04.626Z"
   },
   {
    "duration": 4,
    "start_time": "2023-02-26T14:16:27.891Z"
   },
   {
    "duration": 204,
    "start_time": "2023-02-26T14:16:33.637Z"
   },
   {
    "duration": 226,
    "start_time": "2023-02-26T14:19:59.497Z"
   },
   {
    "duration": 243,
    "start_time": "2023-02-26T14:20:13.237Z"
   },
   {
    "duration": 6,
    "start_time": "2023-02-26T16:47:52.070Z"
   },
   {
    "duration": 5,
    "start_time": "2023-02-26T16:48:10.593Z"
   },
   {
    "duration": 6,
    "start_time": "2023-02-26T16:48:20.219Z"
   },
   {
    "duration": 15,
    "start_time": "2023-02-26T17:40:08.120Z"
   },
   {
    "duration": 9,
    "start_time": "2023-02-26T17:40:20.680Z"
   },
   {
    "duration": 4,
    "start_time": "2023-02-26T18:03:44.729Z"
   },
   {
    "duration": 9,
    "start_time": "2023-02-26T18:16:20.783Z"
   },
   {
    "duration": 1500,
    "start_time": "2023-02-27T07:54:47.452Z"
   },
   {
    "duration": 1288,
    "start_time": "2023-02-27T07:54:54.243Z"
   },
   {
    "duration": 3008,
    "start_time": "2023-02-27T07:54:55.532Z"
   },
   {
    "duration": 30,
    "start_time": "2023-02-27T07:54:58.541Z"
   },
   {
    "duration": 23,
    "start_time": "2023-02-27T07:54:58.573Z"
   },
   {
    "duration": 24,
    "start_time": "2023-02-27T07:54:58.598Z"
   },
   {
    "duration": 4,
    "start_time": "2023-02-27T07:54:58.623Z"
   },
   {
    "duration": 371,
    "start_time": "2023-02-27T07:54:58.628Z"
   },
   {
    "duration": 4,
    "start_time": "2023-02-27T07:54:59.001Z"
   },
   {
    "duration": 29,
    "start_time": "2023-02-27T07:54:59.007Z"
   },
   {
    "duration": 14,
    "start_time": "2023-02-27T07:54:59.038Z"
   },
   {
    "duration": 29,
    "start_time": "2023-02-27T07:54:59.053Z"
   },
   {
    "duration": 14,
    "start_time": "2023-02-27T07:54:59.084Z"
   },
   {
    "duration": 8,
    "start_time": "2023-02-27T07:54:59.101Z"
   },
   {
    "duration": 5,
    "start_time": "2023-02-27T07:54:59.111Z"
   },
   {
    "duration": 78,
    "start_time": "2023-02-27T07:54:59.117Z"
   },
   {
    "duration": 103,
    "start_time": "2023-02-27T07:54:59.196Z"
   },
   {
    "duration": 14,
    "start_time": "2023-02-27T07:54:59.300Z"
   },
   {
    "duration": 8,
    "start_time": "2023-02-27T07:54:59.316Z"
   },
   {
    "duration": 266,
    "start_time": "2023-02-27T07:54:59.325Z"
   },
   {
    "duration": 7,
    "start_time": "2023-02-27T07:54:59.593Z"
   },
   {
    "duration": 6,
    "start_time": "2023-02-27T07:54:59.602Z"
   },
   {
    "duration": 12,
    "start_time": "2023-02-27T07:54:59.609Z"
   },
   {
    "duration": 114,
    "start_time": "2023-02-27T08:28:14.455Z"
   },
   {
    "duration": 1329,
    "start_time": "2023-02-27T08:28:20.663Z"
   },
   {
    "duration": 692,
    "start_time": "2023-02-27T08:28:21.994Z"
   },
   {
    "duration": 34,
    "start_time": "2023-02-27T08:28:22.687Z"
   },
   {
    "duration": 50,
    "start_time": "2023-02-27T08:28:22.722Z"
   },
   {
    "duration": 28,
    "start_time": "2023-02-27T08:28:22.775Z"
   },
   {
    "duration": 5,
    "start_time": "2023-02-27T08:28:22.805Z"
   },
   {
    "duration": 403,
    "start_time": "2023-02-27T08:28:22.812Z"
   },
   {
    "duration": 4,
    "start_time": "2023-02-27T08:28:23.217Z"
   },
   {
    "duration": 31,
    "start_time": "2023-02-27T08:28:23.222Z"
   },
   {
    "duration": 7,
    "start_time": "2023-02-27T08:28:23.255Z"
   },
   {
    "duration": 31,
    "start_time": "2023-02-27T08:28:23.264Z"
   },
   {
    "duration": 15,
    "start_time": "2023-02-27T08:28:23.297Z"
   },
   {
    "duration": 6,
    "start_time": "2023-02-27T08:28:23.313Z"
   },
   {
    "duration": 5,
    "start_time": "2023-02-27T08:28:23.348Z"
   },
   {
    "duration": 67,
    "start_time": "2023-02-27T08:28:23.354Z"
   },
   {
    "duration": 117,
    "start_time": "2023-02-27T08:28:23.423Z"
   },
   {
    "duration": 15,
    "start_time": "2023-02-27T08:28:23.548Z"
   },
   {
    "duration": 9,
    "start_time": "2023-02-27T08:28:23.564Z"
   },
   {
    "duration": 251,
    "start_time": "2023-02-27T08:28:23.575Z"
   },
   {
    "duration": 8,
    "start_time": "2023-02-27T08:28:23.828Z"
   },
   {
    "duration": 6,
    "start_time": "2023-02-27T08:28:23.848Z"
   },
   {
    "duration": 9,
    "start_time": "2023-02-27T08:28:23.855Z"
   },
   {
    "duration": 10,
    "start_time": "2023-02-27T08:28:23.865Z"
   },
   {
    "duration": 4817,
    "start_time": "2023-02-27T08:28:23.876Z"
   },
   {
    "duration": 9319,
    "start_time": "2023-02-27T08:30:09.306Z"
   },
   {
    "duration": 51,
    "start_time": "2023-02-27T08:37:45.707Z"
   },
   {
    "duration": 4,
    "start_time": "2023-02-27T08:37:52.829Z"
   },
   {
    "duration": 9582,
    "start_time": "2023-02-27T08:37:55.656Z"
   },
   {
    "duration": 124637,
    "start_time": "2023-02-27T08:39:45.906Z"
   },
   {
    "duration": 2742,
    "start_time": "2023-02-27T08:42:19.210Z"
   },
   {
    "duration": 13,
    "start_time": "2023-02-27T08:53:12.872Z"
   },
   {
    "duration": 526,
    "start_time": "2023-02-27T08:53:49.534Z"
   },
   {
    "duration": 501,
    "start_time": "2023-02-27T08:54:02.158Z"
   },
   {
    "duration": 531,
    "start_time": "2023-02-27T08:54:14.833Z"
   },
   {
    "duration": 815,
    "start_time": "2023-02-27T08:54:57.840Z"
   },
   {
    "duration": 459,
    "start_time": "2023-02-27T08:55:14.290Z"
   },
   {
    "duration": 1303,
    "start_time": "2023-02-27T08:55:20.493Z"
   },
   {
    "duration": 659,
    "start_time": "2023-02-27T08:55:21.798Z"
   },
   {
    "duration": 34,
    "start_time": "2023-02-27T08:55:22.459Z"
   },
   {
    "duration": 23,
    "start_time": "2023-02-27T08:55:22.495Z"
   },
   {
    "duration": 49,
    "start_time": "2023-02-27T08:55:22.520Z"
   },
   {
    "duration": 4,
    "start_time": "2023-02-27T08:55:22.570Z"
   },
   {
    "duration": 344,
    "start_time": "2023-02-27T08:55:22.575Z"
   },
   {
    "duration": 3,
    "start_time": "2023-02-27T08:55:22.921Z"
   },
   {
    "duration": 31,
    "start_time": "2023-02-27T08:55:22.925Z"
   },
   {
    "duration": 6,
    "start_time": "2023-02-27T08:55:22.959Z"
   },
   {
    "duration": 32,
    "start_time": "2023-02-27T08:55:22.967Z"
   },
   {
    "duration": 13,
    "start_time": "2023-02-27T08:55:23.000Z"
   },
   {
    "duration": 8,
    "start_time": "2023-02-27T08:55:23.014Z"
   },
   {
    "duration": 27,
    "start_time": "2023-02-27T08:55:23.024Z"
   },
   {
    "duration": 67,
    "start_time": "2023-02-27T08:55:23.053Z"
   },
   {
    "duration": 98,
    "start_time": "2023-02-27T08:55:23.122Z"
   },
   {
    "duration": 14,
    "start_time": "2023-02-27T08:55:23.221Z"
   },
   {
    "duration": 8,
    "start_time": "2023-02-27T08:55:23.248Z"
   },
   {
    "duration": 225,
    "start_time": "2023-02-27T08:55:23.257Z"
   },
   {
    "duration": 8,
    "start_time": "2023-02-27T08:55:23.483Z"
   },
   {
    "duration": 10,
    "start_time": "2023-02-27T08:55:23.493Z"
   },
   {
    "duration": 10,
    "start_time": "2023-02-27T08:55:23.504Z"
   },
   {
    "duration": 11,
    "start_time": "2023-02-27T08:55:23.515Z"
   },
   {
    "duration": 6,
    "start_time": "2023-02-27T08:55:23.528Z"
   },
   {
    "duration": 9535,
    "start_time": "2023-02-27T08:55:23.535Z"
   },
   {
    "duration": 3275,
    "start_time": "2023-02-27T08:55:33.074Z"
   },
   {
    "duration": 759,
    "start_time": "2023-02-27T08:55:36.351Z"
   },
   {
    "duration": 799,
    "start_time": "2023-02-27T08:56:38.023Z"
   },
   {
    "duration": 110,
    "start_time": "2023-02-27T08:57:52.321Z"
   },
   {
    "duration": 4,
    "start_time": "2023-02-27T08:59:44.544Z"
   },
   {
    "duration": 82,
    "start_time": "2023-02-27T08:59:49.533Z"
   },
   {
    "duration": 1410,
    "start_time": "2023-02-27T09:00:54.217Z"
   },
   {
    "duration": 687,
    "start_time": "2023-02-27T09:00:55.629Z"
   },
   {
    "duration": 32,
    "start_time": "2023-02-27T09:00:56.318Z"
   },
   {
    "duration": 27,
    "start_time": "2023-02-27T09:00:56.352Z"
   },
   {
    "duration": 39,
    "start_time": "2023-02-27T09:00:56.381Z"
   },
   {
    "duration": 30,
    "start_time": "2023-02-27T09:00:56.422Z"
   },
   {
    "duration": 387,
    "start_time": "2023-02-27T09:00:56.454Z"
   },
   {
    "duration": 7,
    "start_time": "2023-02-27T09:00:56.842Z"
   },
   {
    "duration": 32,
    "start_time": "2023-02-27T09:00:56.850Z"
   },
   {
    "duration": 7,
    "start_time": "2023-02-27T09:00:56.885Z"
   },
   {
    "duration": 29,
    "start_time": "2023-02-27T09:00:56.893Z"
   },
   {
    "duration": 18,
    "start_time": "2023-02-27T09:00:56.924Z"
   },
   {
    "duration": 6,
    "start_time": "2023-02-27T09:00:56.944Z"
   },
   {
    "duration": 13,
    "start_time": "2023-02-27T09:00:56.952Z"
   },
   {
    "duration": 65,
    "start_time": "2023-02-27T09:00:56.966Z"
   },
   {
    "duration": 105,
    "start_time": "2023-02-27T09:00:57.033Z"
   },
   {
    "duration": 20,
    "start_time": "2023-02-27T09:00:57.139Z"
   },
   {
    "duration": 10,
    "start_time": "2023-02-27T09:00:57.161Z"
   },
   {
    "duration": 244,
    "start_time": "2023-02-27T09:00:57.173Z"
   },
   {
    "duration": 9,
    "start_time": "2023-02-27T09:00:57.419Z"
   },
   {
    "duration": 19,
    "start_time": "2023-02-27T09:00:57.430Z"
   },
   {
    "duration": 9,
    "start_time": "2023-02-27T09:00:57.451Z"
   },
   {
    "duration": 11,
    "start_time": "2023-02-27T09:00:57.462Z"
   },
   {
    "duration": 19,
    "start_time": "2023-02-27T09:00:57.475Z"
   },
   {
    "duration": 9528,
    "start_time": "2023-02-27T09:00:57.496Z"
   },
   {
    "duration": 3027,
    "start_time": "2023-02-27T09:01:07.025Z"
   },
   {
    "duration": 778,
    "start_time": "2023-02-27T09:01:10.056Z"
   },
   {
    "duration": 130,
    "start_time": "2023-02-27T09:01:10.836Z"
   },
   {
    "duration": 58,
    "start_time": "2023-02-27T09:02:33.273Z"
   },
   {
    "duration": 1337,
    "start_time": "2023-02-27T09:03:16.559Z"
   },
   {
    "duration": 708,
    "start_time": "2023-02-27T09:03:17.898Z"
   },
   {
    "duration": 42,
    "start_time": "2023-02-27T09:03:18.608Z"
   },
   {
    "duration": 28,
    "start_time": "2023-02-27T09:03:18.651Z"
   },
   {
    "duration": 30,
    "start_time": "2023-02-27T09:03:18.680Z"
   },
   {
    "duration": 4,
    "start_time": "2023-02-27T09:03:18.711Z"
   },
   {
    "duration": 458,
    "start_time": "2023-02-27T09:03:18.717Z"
   },
   {
    "duration": 3,
    "start_time": "2023-02-27T09:03:19.177Z"
   },
   {
    "duration": 20,
    "start_time": "2023-02-27T09:03:19.181Z"
   },
   {
    "duration": 7,
    "start_time": "2023-02-27T09:03:19.203Z"
   },
   {
    "duration": 46,
    "start_time": "2023-02-27T09:03:19.211Z"
   },
   {
    "duration": 13,
    "start_time": "2023-02-27T09:03:19.259Z"
   },
   {
    "duration": 7,
    "start_time": "2023-02-27T09:03:19.273Z"
   },
   {
    "duration": 5,
    "start_time": "2023-02-27T09:03:19.283Z"
   },
   {
    "duration": 94,
    "start_time": "2023-02-27T09:03:19.289Z"
   },
   {
    "duration": 101,
    "start_time": "2023-02-27T09:03:19.385Z"
   },
   {
    "duration": 17,
    "start_time": "2023-02-27T09:03:19.488Z"
   },
   {
    "duration": 10,
    "start_time": "2023-02-27T09:03:19.507Z"
   },
   {
    "duration": 249,
    "start_time": "2023-02-27T09:03:19.519Z"
   },
   {
    "duration": 7,
    "start_time": "2023-02-27T09:03:19.770Z"
   },
   {
    "duration": 6,
    "start_time": "2023-02-27T09:03:19.778Z"
   },
   {
    "duration": 10,
    "start_time": "2023-02-27T09:03:19.785Z"
   },
   {
    "duration": 12,
    "start_time": "2023-02-27T09:03:19.797Z"
   },
   {
    "duration": 6,
    "start_time": "2023-02-27T09:03:19.811Z"
   },
   {
    "duration": 10218,
    "start_time": "2023-02-27T09:03:19.818Z"
   },
   {
    "duration": 3113,
    "start_time": "2023-02-27T09:03:30.038Z"
   },
   {
    "duration": 640,
    "start_time": "2023-02-27T09:03:33.157Z"
   },
   {
    "duration": 49,
    "start_time": "2023-02-27T09:03:33.799Z"
   },
   {
    "duration": 4670,
    "start_time": "2023-02-28T07:59:06.858Z"
   },
   {
    "duration": 2250,
    "start_time": "2023-02-28T07:59:11.530Z"
   },
   {
    "duration": 50,
    "start_time": "2023-02-28T07:59:13.783Z"
   },
   {
    "duration": 47,
    "start_time": "2023-02-28T07:59:13.835Z"
   },
   {
    "duration": 36,
    "start_time": "2023-02-28T07:59:13.885Z"
   },
   {
    "duration": 19,
    "start_time": "2023-02-28T07:59:13.923Z"
   },
   {
    "duration": 460,
    "start_time": "2023-02-28T07:59:13.944Z"
   },
   {
    "duration": 5,
    "start_time": "2023-02-28T07:59:14.406Z"
   },
   {
    "duration": 39,
    "start_time": "2023-02-28T07:59:14.413Z"
   },
   {
    "duration": 26,
    "start_time": "2023-02-28T07:59:14.455Z"
   },
   {
    "duration": 40,
    "start_time": "2023-02-28T07:59:14.483Z"
   },
   {
    "duration": 17,
    "start_time": "2023-02-28T07:59:14.525Z"
   },
   {
    "duration": 30,
    "start_time": "2023-02-28T07:59:14.547Z"
   },
   {
    "duration": 20,
    "start_time": "2023-02-28T07:59:14.580Z"
   },
   {
    "duration": 113,
    "start_time": "2023-02-28T07:59:14.603Z"
   },
   {
    "duration": 132,
    "start_time": "2023-02-28T07:59:14.719Z"
   },
   {
    "duration": 18,
    "start_time": "2023-02-28T07:59:14.858Z"
   },
   {
    "duration": 11,
    "start_time": "2023-02-28T07:59:14.879Z"
   },
   {
    "duration": 312,
    "start_time": "2023-02-28T07:59:14.892Z"
   },
   {
    "duration": 10,
    "start_time": "2023-02-28T07:59:15.206Z"
   },
   {
    "duration": 25,
    "start_time": "2023-02-28T07:59:15.218Z"
   },
   {
    "duration": 41,
    "start_time": "2023-02-28T07:59:15.251Z"
   },
   {
    "duration": 29,
    "start_time": "2023-02-28T07:59:15.295Z"
   },
   {
    "duration": 28,
    "start_time": "2023-02-28T07:59:15.327Z"
   },
   {
    "duration": 1722,
    "start_time": "2023-02-28T10:47:02.954Z"
   },
   {
    "duration": 3207,
    "start_time": "2023-02-28T10:47:04.677Z"
   },
   {
    "duration": 36,
    "start_time": "2023-02-28T10:47:07.886Z"
   },
   {
    "duration": 46,
    "start_time": "2023-02-28T10:47:07.925Z"
   },
   {
    "duration": 30,
    "start_time": "2023-02-28T10:47:07.972Z"
   },
   {
    "duration": 6,
    "start_time": "2023-02-28T10:47:08.004Z"
   },
   {
    "duration": 388,
    "start_time": "2023-02-28T10:47:08.012Z"
   },
   {
    "duration": 4,
    "start_time": "2023-02-28T10:47:08.402Z"
   },
   {
    "duration": 34,
    "start_time": "2023-02-28T10:47:08.419Z"
   },
   {
    "duration": 7,
    "start_time": "2023-02-28T10:47:08.455Z"
   },
   {
    "duration": 34,
    "start_time": "2023-02-28T10:47:08.464Z"
   },
   {
    "duration": 14,
    "start_time": "2023-02-28T10:47:08.499Z"
   },
   {
    "duration": 17,
    "start_time": "2023-02-28T10:47:08.515Z"
   },
   {
    "duration": 6,
    "start_time": "2023-02-28T10:47:08.549Z"
   },
   {
    "duration": 78,
    "start_time": "2023-02-28T10:47:08.556Z"
   },
   {
    "duration": 124,
    "start_time": "2023-02-28T10:47:08.636Z"
   },
   {
    "duration": 16,
    "start_time": "2023-02-28T10:47:08.761Z"
   },
   {
    "duration": 15,
    "start_time": "2023-02-28T10:47:08.779Z"
   },
   {
    "duration": 257,
    "start_time": "2023-02-28T10:47:08.796Z"
   },
   {
    "duration": 13,
    "start_time": "2023-02-28T10:47:09.055Z"
   },
   {
    "duration": 44,
    "start_time": "2023-02-28T10:47:09.070Z"
   },
   {
    "duration": 18,
    "start_time": "2023-02-28T10:47:09.116Z"
   },
   {
    "duration": 19,
    "start_time": "2023-02-28T10:47:09.137Z"
   },
   {
    "duration": 7,
    "start_time": "2023-02-28T10:47:09.158Z"
   },
   {
    "duration": 9575,
    "start_time": "2023-02-28T10:47:09.167Z"
   },
   {
    "duration": 3510,
    "start_time": "2023-02-28T10:47:18.744Z"
   },
   {
    "duration": 5191,
    "start_time": "2023-02-28T10:47:22.259Z"
   },
   {
    "duration": 216,
    "start_time": "2023-02-28T16:56:40.159Z"
   },
   {
    "duration": 135,
    "start_time": "2023-02-28T17:07:21.545Z"
   },
   {
    "duration": 212,
    "start_time": "2023-02-28T17:08:31.701Z"
   },
   {
    "duration": 248,
    "start_time": "2023-02-28T17:09:34.428Z"
   },
   {
    "duration": 152,
    "start_time": "2023-02-28T17:12:27.896Z"
   },
   {
    "duration": 167,
    "start_time": "2023-02-28T17:13:35.286Z"
   },
   {
    "duration": 153,
    "start_time": "2023-02-28T17:13:46.479Z"
   },
   {
    "duration": 199,
    "start_time": "2023-02-28T17:14:11.375Z"
   },
   {
    "duration": 238,
    "start_time": "2023-02-28T17:15:05.672Z"
   },
   {
    "duration": 102,
    "start_time": "2023-02-28T17:17:54.747Z"
   },
   {
    "duration": 1336,
    "start_time": "2023-02-28T17:18:24.274Z"
   },
   {
    "duration": 1706,
    "start_time": "2023-02-28T17:18:25.612Z"
   },
   {
    "duration": 31,
    "start_time": "2023-02-28T17:18:27.319Z"
   },
   {
    "duration": 27,
    "start_time": "2023-02-28T17:18:27.352Z"
   },
   {
    "duration": 31,
    "start_time": "2023-02-28T17:18:27.381Z"
   },
   {
    "duration": 5,
    "start_time": "2023-02-28T17:18:27.413Z"
   },
   {
    "duration": 365,
    "start_time": "2023-02-28T17:18:27.420Z"
   },
   {
    "duration": 4,
    "start_time": "2023-02-28T17:18:27.786Z"
   },
   {
    "duration": 29,
    "start_time": "2023-02-28T17:18:27.792Z"
   },
   {
    "duration": 17,
    "start_time": "2023-02-28T17:18:27.825Z"
   },
   {
    "duration": 49,
    "start_time": "2023-02-28T17:18:27.849Z"
   },
   {
    "duration": 15,
    "start_time": "2023-02-28T17:18:27.899Z"
   },
   {
    "duration": 9,
    "start_time": "2023-02-28T17:18:27.917Z"
   },
   {
    "duration": 12,
    "start_time": "2023-02-28T17:18:27.927Z"
   },
   {
    "duration": 108,
    "start_time": "2023-02-28T17:18:27.948Z"
   },
   {
    "duration": 0,
    "start_time": "2023-02-28T17:18:28.058Z"
   },
   {
    "duration": 0,
    "start_time": "2023-02-28T17:18:28.059Z"
   },
   {
    "duration": 0,
    "start_time": "2023-02-28T17:18:28.061Z"
   },
   {
    "duration": 0,
    "start_time": "2023-02-28T17:18:28.061Z"
   },
   {
    "duration": 0,
    "start_time": "2023-02-28T17:18:28.062Z"
   },
   {
    "duration": 0,
    "start_time": "2023-02-28T17:18:28.063Z"
   },
   {
    "duration": 0,
    "start_time": "2023-02-28T17:18:28.064Z"
   },
   {
    "duration": 0,
    "start_time": "2023-02-28T17:18:28.065Z"
   },
   {
    "duration": 0,
    "start_time": "2023-02-28T17:18:28.066Z"
   },
   {
    "duration": 0,
    "start_time": "2023-02-28T17:18:28.067Z"
   },
   {
    "duration": 0,
    "start_time": "2023-02-28T17:18:28.070Z"
   },
   {
    "duration": 0,
    "start_time": "2023-02-28T17:18:28.070Z"
   },
   {
    "duration": 0,
    "start_time": "2023-02-28T17:18:28.071Z"
   },
   {
    "duration": 1357,
    "start_time": "2023-02-28T17:20:12.210Z"
   },
   {
    "duration": 651,
    "start_time": "2023-02-28T17:20:13.569Z"
   },
   {
    "duration": 39,
    "start_time": "2023-02-28T17:20:14.222Z"
   },
   {
    "duration": 26,
    "start_time": "2023-02-28T17:20:14.263Z"
   },
   {
    "duration": 30,
    "start_time": "2023-02-28T17:20:14.291Z"
   },
   {
    "duration": 4,
    "start_time": "2023-02-28T17:20:14.323Z"
   },
   {
    "duration": 376,
    "start_time": "2023-02-28T17:20:14.349Z"
   },
   {
    "duration": 3,
    "start_time": "2023-02-28T17:20:14.727Z"
   },
   {
    "duration": 27,
    "start_time": "2023-02-28T17:20:14.732Z"
   },
   {
    "duration": 7,
    "start_time": "2023-02-28T17:20:14.763Z"
   },
   {
    "duration": 41,
    "start_time": "2023-02-28T17:20:14.772Z"
   },
   {
    "duration": 36,
    "start_time": "2023-02-28T17:20:14.815Z"
   },
   {
    "duration": 6,
    "start_time": "2023-02-28T17:20:14.853Z"
   },
   {
    "duration": 11,
    "start_time": "2023-02-28T17:20:14.860Z"
   },
   {
    "duration": 31,
    "start_time": "2023-02-28T17:20:14.872Z"
   },
   {
    "duration": 116,
    "start_time": "2023-02-28T17:20:14.904Z"
   },
   {
    "duration": 27,
    "start_time": "2023-02-28T17:20:15.022Z"
   },
   {
    "duration": 9,
    "start_time": "2023-02-28T17:20:15.051Z"
   },
   {
    "duration": 247,
    "start_time": "2023-02-28T17:20:15.062Z"
   },
   {
    "duration": 200,
    "start_time": "2023-02-28T17:20:15.311Z"
   },
   {
    "duration": 45,
    "start_time": "2023-02-28T17:20:15.513Z"
   },
   {
    "duration": 0,
    "start_time": "2023-02-28T17:20:15.560Z"
   },
   {
    "duration": 0,
    "start_time": "2023-02-28T17:20:15.562Z"
   },
   {
    "duration": 0,
    "start_time": "2023-02-28T17:20:15.563Z"
   },
   {
    "duration": 0,
    "start_time": "2023-02-28T17:20:15.564Z"
   },
   {
    "duration": 0,
    "start_time": "2023-02-28T17:20:15.565Z"
   },
   {
    "duration": 0,
    "start_time": "2023-02-28T17:20:15.566Z"
   },
   {
    "duration": 0,
    "start_time": "2023-02-28T17:20:15.568Z"
   },
   {
    "duration": 1355,
    "start_time": "2023-02-28T17:20:29.183Z"
   },
   {
    "duration": 651,
    "start_time": "2023-02-28T17:20:30.541Z"
   },
   {
    "duration": 35,
    "start_time": "2023-02-28T17:20:31.194Z"
   },
   {
    "duration": 40,
    "start_time": "2023-02-28T17:20:31.232Z"
   },
   {
    "duration": 31,
    "start_time": "2023-02-28T17:20:31.274Z"
   },
   {
    "duration": 7,
    "start_time": "2023-02-28T17:20:31.307Z"
   },
   {
    "duration": 372,
    "start_time": "2023-02-28T17:20:31.316Z"
   },
   {
    "duration": 4,
    "start_time": "2023-02-28T17:20:31.690Z"
   },
   {
    "duration": 52,
    "start_time": "2023-02-28T17:20:31.695Z"
   },
   {
    "duration": 14,
    "start_time": "2023-02-28T17:20:31.750Z"
   },
   {
    "duration": 42,
    "start_time": "2023-02-28T17:20:31.766Z"
   },
   {
    "duration": 23,
    "start_time": "2023-02-28T17:20:31.810Z"
   },
   {
    "duration": 10,
    "start_time": "2023-02-28T17:20:31.835Z"
   },
   {
    "duration": 13,
    "start_time": "2023-02-28T17:20:31.847Z"
   },
   {
    "duration": 30,
    "start_time": "2023-02-28T17:20:31.862Z"
   },
   {
    "duration": 93,
    "start_time": "2023-02-28T17:20:31.894Z"
   },
   {
    "duration": 15,
    "start_time": "2023-02-28T17:20:31.989Z"
   },
   {
    "duration": 9,
    "start_time": "2023-02-28T17:20:32.006Z"
   },
   {
    "duration": 234,
    "start_time": "2023-02-28T17:20:32.017Z"
   },
   {
    "duration": 203,
    "start_time": "2023-02-28T17:20:32.253Z"
   },
   {
    "duration": 4,
    "start_time": "2023-02-28T17:20:32.457Z"
   },
   {
    "duration": 24,
    "start_time": "2023-02-28T17:20:32.462Z"
   },
   {
    "duration": 16,
    "start_time": "2023-02-28T17:20:32.488Z"
   },
   {
    "duration": 12,
    "start_time": "2023-02-28T17:20:32.506Z"
   },
   {
    "duration": 15,
    "start_time": "2023-02-28T17:20:32.520Z"
   },
   {
    "duration": 8745,
    "start_time": "2023-02-28T17:20:32.537Z"
   },
   {
    "duration": 3368,
    "start_time": "2023-02-28T17:20:41.283Z"
   },
   {
    "duration": 740,
    "start_time": "2023-02-28T17:20:44.654Z"
   },
   {
    "duration": 1319,
    "start_time": "2023-02-28T17:23:43.473Z"
   },
   {
    "duration": 669,
    "start_time": "2023-02-28T17:23:44.794Z"
   },
   {
    "duration": 40,
    "start_time": "2023-02-28T17:23:45.465Z"
   },
   {
    "duration": 41,
    "start_time": "2023-02-28T17:23:45.507Z"
   },
   {
    "duration": 32,
    "start_time": "2023-02-28T17:23:45.550Z"
   },
   {
    "duration": 4,
    "start_time": "2023-02-28T17:23:45.584Z"
   },
   {
    "duration": 424,
    "start_time": "2023-02-28T17:23:45.590Z"
   },
   {
    "duration": 5,
    "start_time": "2023-02-28T17:23:46.016Z"
   },
   {
    "duration": 35,
    "start_time": "2023-02-28T17:23:46.023Z"
   },
   {
    "duration": 10,
    "start_time": "2023-02-28T17:23:46.062Z"
   },
   {
    "duration": 41,
    "start_time": "2023-02-28T17:23:46.074Z"
   },
   {
    "duration": 15,
    "start_time": "2023-02-28T17:23:46.117Z"
   },
   {
    "duration": 20,
    "start_time": "2023-02-28T17:23:46.133Z"
   },
   {
    "duration": 13,
    "start_time": "2023-02-28T17:23:46.155Z"
   },
   {
    "duration": 31,
    "start_time": "2023-02-28T17:23:46.169Z"
   },
   {
    "duration": 106,
    "start_time": "2023-02-28T17:23:46.202Z"
   },
   {
    "duration": 14,
    "start_time": "2023-02-28T17:23:46.310Z"
   },
   {
    "duration": 23,
    "start_time": "2023-02-28T17:23:46.326Z"
   },
   {
    "duration": 233,
    "start_time": "2023-02-28T17:23:46.351Z"
   },
   {
    "duration": 200,
    "start_time": "2023-02-28T17:23:46.586Z"
   },
   {
    "duration": 2,
    "start_time": "2023-02-28T17:23:46.788Z"
   },
   {
    "duration": 6,
    "start_time": "2023-02-28T17:23:46.791Z"
   },
   {
    "duration": 7,
    "start_time": "2023-02-28T17:23:46.798Z"
   },
   {
    "duration": 12,
    "start_time": "2023-02-28T17:23:46.807Z"
   },
   {
    "duration": 8,
    "start_time": "2023-02-28T17:23:46.820Z"
   },
   {
    "duration": 18,
    "start_time": "2023-02-28T17:23:46.830Z"
   },
   {
    "duration": 8938,
    "start_time": "2023-02-28T17:23:46.850Z"
   },
   {
    "duration": 3361,
    "start_time": "2023-02-28T17:23:55.791Z"
   },
   {
    "duration": 802,
    "start_time": "2023-02-28T17:23:59.154Z"
   },
   {
    "duration": 1286,
    "start_time": "2023-02-28T17:26:18.980Z"
   },
   {
    "duration": 659,
    "start_time": "2023-02-28T17:26:20.268Z"
   },
   {
    "duration": 45,
    "start_time": "2023-02-28T17:26:20.928Z"
   },
   {
    "duration": 25,
    "start_time": "2023-02-28T17:26:20.975Z"
   },
   {
    "duration": 29,
    "start_time": "2023-02-28T17:26:21.002Z"
   },
   {
    "duration": 5,
    "start_time": "2023-02-28T17:26:21.048Z"
   },
   {
    "duration": 379,
    "start_time": "2023-02-28T17:26:21.055Z"
   },
   {
    "duration": 4,
    "start_time": "2023-02-28T17:26:21.435Z"
   },
   {
    "duration": 30,
    "start_time": "2023-02-28T17:26:21.441Z"
   },
   {
    "duration": 7,
    "start_time": "2023-02-28T17:26:21.474Z"
   },
   {
    "duration": 38,
    "start_time": "2023-02-28T17:26:21.483Z"
   },
   {
    "duration": 26,
    "start_time": "2023-02-28T17:26:21.522Z"
   },
   {
    "duration": 8,
    "start_time": "2023-02-28T17:26:21.549Z"
   },
   {
    "duration": 10,
    "start_time": "2023-02-28T17:26:21.558Z"
   },
   {
    "duration": 54,
    "start_time": "2023-02-28T17:26:21.570Z"
   },
   {
    "duration": 113,
    "start_time": "2023-02-28T17:26:21.626Z"
   },
   {
    "duration": 19,
    "start_time": "2023-02-28T17:26:21.741Z"
   },
   {
    "duration": 10,
    "start_time": "2023-02-28T17:26:21.762Z"
   },
   {
    "duration": 253,
    "start_time": "2023-02-28T17:26:21.774Z"
   },
   {
    "duration": 188,
    "start_time": "2023-02-28T17:26:22.029Z"
   },
   {
    "duration": 476,
    "start_time": "2023-02-28T17:26:22.219Z"
   },
   {
    "duration": 23,
    "start_time": "2023-02-28T17:26:22.697Z"
   },
   {
    "duration": 31,
    "start_time": "2023-02-28T17:26:22.722Z"
   },
   {
    "duration": 39,
    "start_time": "2023-02-28T17:26:22.754Z"
   },
   {
    "duration": 105,
    "start_time": "2023-02-28T17:26:22.795Z"
   },
   {
    "duration": 415,
    "start_time": "2023-02-28T17:26:22.902Z"
   },
   {
    "duration": 9016,
    "start_time": "2023-02-28T17:26:23.320Z"
   },
   {
    "duration": 3724,
    "start_time": "2023-02-28T17:26:32.340Z"
   },
   {
    "duration": 688,
    "start_time": "2023-02-28T17:26:36.069Z"
   },
   {
    "duration": 1361,
    "start_time": "2023-02-28T17:26:51.425Z"
   },
   {
    "duration": 728,
    "start_time": "2023-02-28T17:26:52.788Z"
   },
   {
    "duration": 49,
    "start_time": "2023-02-28T17:26:53.518Z"
   },
   {
    "duration": 27,
    "start_time": "2023-02-28T17:26:53.569Z"
   },
   {
    "duration": 51,
    "start_time": "2023-02-28T17:26:53.598Z"
   },
   {
    "duration": 4,
    "start_time": "2023-02-28T17:26:53.651Z"
   },
   {
    "duration": 376,
    "start_time": "2023-02-28T17:26:53.657Z"
   },
   {
    "duration": 4,
    "start_time": "2023-02-28T17:26:54.035Z"
   },
   {
    "duration": 21,
    "start_time": "2023-02-28T17:26:54.040Z"
   },
   {
    "duration": 6,
    "start_time": "2023-02-28T17:26:54.064Z"
   },
   {
    "duration": 34,
    "start_time": "2023-02-28T17:26:54.072Z"
   },
   {
    "duration": 14,
    "start_time": "2023-02-28T17:26:54.108Z"
   },
   {
    "duration": 29,
    "start_time": "2023-02-28T17:26:54.124Z"
   },
   {
    "duration": 7,
    "start_time": "2023-02-28T17:26:54.155Z"
   },
   {
    "duration": 33,
    "start_time": "2023-02-28T17:26:54.164Z"
   },
   {
    "duration": 130,
    "start_time": "2023-02-28T17:26:54.198Z"
   },
   {
    "duration": 25,
    "start_time": "2023-02-28T17:26:54.329Z"
   },
   {
    "duration": 10,
    "start_time": "2023-02-28T17:26:54.356Z"
   },
   {
    "duration": 243,
    "start_time": "2023-02-28T17:26:54.368Z"
   },
   {
    "duration": 197,
    "start_time": "2023-02-28T17:26:54.613Z"
   },
   {
    "duration": 35,
    "start_time": "2023-02-28T17:26:54.811Z"
   },
   {
    "duration": 7,
    "start_time": "2023-02-28T17:26:54.848Z"
   },
   {
    "duration": 5,
    "start_time": "2023-02-28T17:26:54.856Z"
   },
   {
    "duration": 11,
    "start_time": "2023-02-28T17:26:54.863Z"
   },
   {
    "duration": 7,
    "start_time": "2023-02-28T17:26:54.876Z"
   },
   {
    "duration": 6,
    "start_time": "2023-02-28T17:26:54.885Z"
   },
   {
    "duration": 9198,
    "start_time": "2023-02-28T17:26:54.893Z"
   },
   {
    "duration": 2966,
    "start_time": "2023-02-28T17:27:04.095Z"
   },
   {
    "duration": 786,
    "start_time": "2023-02-28T17:27:07.063Z"
   },
   {
    "duration": 4,
    "start_time": "2023-02-28T17:33:03.092Z"
   },
   {
    "duration": 119,
    "start_time": "2023-02-28T17:33:07.142Z"
   },
   {
    "duration": 18,
    "start_time": "2023-02-28T17:33:16.380Z"
   },
   {
    "duration": 3,
    "start_time": "2023-02-28T17:33:24.427Z"
   },
   {
    "duration": 4,
    "start_time": "2023-02-28T17:33:26.837Z"
   },
   {
    "duration": 833,
    "start_time": "2023-02-28T17:33:28.634Z"
   },
   {
    "duration": 1348,
    "start_time": "2023-02-28T17:34:05.741Z"
   },
   {
    "duration": 641,
    "start_time": "2023-02-28T17:34:07.091Z"
   },
   {
    "duration": 36,
    "start_time": "2023-02-28T17:34:07.734Z"
   },
   {
    "duration": 23,
    "start_time": "2023-02-28T17:34:07.773Z"
   },
   {
    "duration": 55,
    "start_time": "2023-02-28T17:34:07.799Z"
   },
   {
    "duration": 6,
    "start_time": "2023-02-28T17:34:07.856Z"
   },
   {
    "duration": 358,
    "start_time": "2023-02-28T17:34:07.864Z"
   },
   {
    "duration": 4,
    "start_time": "2023-02-28T17:34:08.224Z"
   },
   {
    "duration": 31,
    "start_time": "2023-02-28T17:34:08.229Z"
   },
   {
    "duration": 7,
    "start_time": "2023-02-28T17:34:08.263Z"
   },
   {
    "duration": 34,
    "start_time": "2023-02-28T17:34:08.271Z"
   },
   {
    "duration": 15,
    "start_time": "2023-02-28T17:34:08.307Z"
   },
   {
    "duration": 29,
    "start_time": "2023-02-28T17:34:08.324Z"
   },
   {
    "duration": 9,
    "start_time": "2023-02-28T17:34:08.355Z"
   },
   {
    "duration": 35,
    "start_time": "2023-02-28T17:34:08.366Z"
   },
   {
    "duration": 123,
    "start_time": "2023-02-28T17:34:08.403Z"
   },
   {
    "duration": 25,
    "start_time": "2023-02-28T17:34:08.529Z"
   },
   {
    "duration": 11,
    "start_time": "2023-02-28T17:34:08.556Z"
   },
   {
    "duration": 279,
    "start_time": "2023-02-28T17:34:08.569Z"
   },
   {
    "duration": 209,
    "start_time": "2023-02-28T17:34:08.850Z"
   },
   {
    "duration": 3,
    "start_time": "2023-02-28T17:34:09.061Z"
   },
   {
    "duration": 9,
    "start_time": "2023-02-28T17:34:09.066Z"
   },
   {
    "duration": 9,
    "start_time": "2023-02-28T17:34:09.077Z"
   },
   {
    "duration": 23,
    "start_time": "2023-02-28T17:34:09.088Z"
   },
   {
    "duration": 13,
    "start_time": "2023-02-28T17:34:09.113Z"
   },
   {
    "duration": 8,
    "start_time": "2023-02-28T17:34:09.128Z"
   },
   {
    "duration": 9089,
    "start_time": "2023-02-28T17:34:09.138Z"
   },
   {
    "duration": 3626,
    "start_time": "2023-02-28T17:34:18.230Z"
   },
   {
    "duration": 951,
    "start_time": "2023-02-28T17:34:21.948Z"
   },
   {
    "duration": 1333,
    "start_time": "2023-02-28T18:00:24.488Z"
   },
   {
    "duration": 684,
    "start_time": "2023-02-28T18:00:25.824Z"
   },
   {
    "duration": 42,
    "start_time": "2023-02-28T18:00:26.510Z"
   },
   {
    "duration": 26,
    "start_time": "2023-02-28T18:00:26.554Z"
   },
   {
    "duration": 41,
    "start_time": "2023-02-28T18:00:26.581Z"
   },
   {
    "duration": 6,
    "start_time": "2023-02-28T18:00:26.623Z"
   },
   {
    "duration": 360,
    "start_time": "2023-02-28T18:00:26.630Z"
   },
   {
    "duration": 4,
    "start_time": "2023-02-28T18:00:26.992Z"
   },
   {
    "duration": 26,
    "start_time": "2023-02-28T18:00:26.997Z"
   },
   {
    "duration": 8,
    "start_time": "2023-02-28T18:00:27.025Z"
   },
   {
    "duration": 31,
    "start_time": "2023-02-28T18:00:27.048Z"
   },
   {
    "duration": 15,
    "start_time": "2023-02-28T18:00:27.081Z"
   },
   {
    "duration": 5,
    "start_time": "2023-02-28T18:00:27.098Z"
   },
   {
    "duration": 6,
    "start_time": "2023-02-28T18:00:27.105Z"
   },
   {
    "duration": 58,
    "start_time": "2023-02-28T18:00:27.113Z"
   },
   {
    "duration": 98,
    "start_time": "2023-02-28T18:00:27.173Z"
   },
   {
    "duration": 15,
    "start_time": "2023-02-28T18:00:27.273Z"
   },
   {
    "duration": 8,
    "start_time": "2023-02-28T18:00:27.290Z"
   },
   {
    "duration": 237,
    "start_time": "2023-02-28T18:00:27.299Z"
   },
   {
    "duration": 196,
    "start_time": "2023-02-28T18:00:27.538Z"
   },
   {
    "duration": 4,
    "start_time": "2023-02-28T18:00:27.736Z"
   },
   {
    "duration": 16,
    "start_time": "2023-02-28T18:00:27.742Z"
   },
   {
    "duration": 9,
    "start_time": "2023-02-28T18:00:27.760Z"
   },
   {
    "duration": 19,
    "start_time": "2023-02-28T18:00:27.771Z"
   },
   {
    "duration": 25,
    "start_time": "2023-02-28T18:00:27.792Z"
   },
   {
    "duration": 7,
    "start_time": "2023-02-28T18:00:27.819Z"
   },
   {
    "duration": 4391,
    "start_time": "2023-02-28T18:00:27.828Z"
   },
   {
    "duration": 0,
    "start_time": "2023-02-28T18:00:32.220Z"
   },
   {
    "duration": 0,
    "start_time": "2023-02-28T18:00:32.221Z"
   },
   {
    "duration": 1333,
    "start_time": "2023-02-28T18:00:49.277Z"
   },
   {
    "duration": 679,
    "start_time": "2023-02-28T18:00:50.612Z"
   },
   {
    "duration": 38,
    "start_time": "2023-02-28T18:00:51.293Z"
   },
   {
    "duration": 32,
    "start_time": "2023-02-28T18:00:51.347Z"
   },
   {
    "duration": 32,
    "start_time": "2023-02-28T18:00:51.382Z"
   },
   {
    "duration": 4,
    "start_time": "2023-02-28T18:00:51.416Z"
   },
   {
    "duration": 412,
    "start_time": "2023-02-28T18:00:51.422Z"
   },
   {
    "duration": 4,
    "start_time": "2023-02-28T18:00:51.836Z"
   },
   {
    "duration": 18,
    "start_time": "2023-02-28T18:00:51.849Z"
   },
   {
    "duration": 8,
    "start_time": "2023-02-28T18:00:51.870Z"
   },
   {
    "duration": 37,
    "start_time": "2023-02-28T18:00:51.879Z"
   },
   {
    "duration": 34,
    "start_time": "2023-02-28T18:00:51.918Z"
   },
   {
    "duration": 6,
    "start_time": "2023-02-28T18:00:51.954Z"
   },
   {
    "duration": 6,
    "start_time": "2023-02-28T18:00:51.961Z"
   },
   {
    "duration": 33,
    "start_time": "2023-02-28T18:00:51.969Z"
   },
   {
    "duration": 113,
    "start_time": "2023-02-28T18:00:52.004Z"
   },
   {
    "duration": 29,
    "start_time": "2023-02-28T18:00:52.119Z"
   },
   {
    "duration": 9,
    "start_time": "2023-02-28T18:00:52.150Z"
   },
   {
    "duration": 225,
    "start_time": "2023-02-28T18:00:52.161Z"
   },
   {
    "duration": 233,
    "start_time": "2023-02-28T18:00:52.388Z"
   },
   {
    "duration": 5,
    "start_time": "2023-02-28T18:00:52.623Z"
   },
   {
    "duration": 28,
    "start_time": "2023-02-28T18:00:52.630Z"
   },
   {
    "duration": 18,
    "start_time": "2023-02-28T18:00:52.660Z"
   },
   {
    "duration": 22,
    "start_time": "2023-02-28T18:00:52.680Z"
   },
   {
    "duration": 12,
    "start_time": "2023-02-28T18:00:52.703Z"
   },
   {
    "duration": 9,
    "start_time": "2023-02-28T18:00:52.716Z"
   },
   {
    "duration": 8717,
    "start_time": "2023-02-28T18:00:52.727Z"
   },
   {
    "duration": 3403,
    "start_time": "2023-02-28T18:01:01.449Z"
   },
   {
    "duration": 1038,
    "start_time": "2023-02-28T18:01:04.855Z"
   },
   {
    "duration": 1477,
    "start_time": "2023-02-28T18:02:16.368Z"
   },
   {
    "duration": 638,
    "start_time": "2023-02-28T18:02:17.848Z"
   },
   {
    "duration": 45,
    "start_time": "2023-02-28T18:02:18.487Z"
   },
   {
    "duration": 49,
    "start_time": "2023-02-28T18:02:18.534Z"
   },
   {
    "duration": 30,
    "start_time": "2023-02-28T18:02:18.585Z"
   },
   {
    "duration": 5,
    "start_time": "2023-02-28T18:02:18.617Z"
   },
   {
    "duration": 381,
    "start_time": "2023-02-28T18:02:18.624Z"
   },
   {
    "duration": 4,
    "start_time": "2023-02-28T18:02:19.007Z"
   },
   {
    "duration": 23,
    "start_time": "2023-02-28T18:02:19.012Z"
   },
   {
    "duration": 7,
    "start_time": "2023-02-28T18:02:19.049Z"
   },
   {
    "duration": 37,
    "start_time": "2023-02-28T18:02:19.057Z"
   },
   {
    "duration": 16,
    "start_time": "2023-02-28T18:02:19.096Z"
   },
   {
    "duration": 6,
    "start_time": "2023-02-28T18:02:19.113Z"
   },
   {
    "duration": 27,
    "start_time": "2023-02-28T18:02:19.121Z"
   },
   {
    "duration": 28,
    "start_time": "2023-02-28T18:02:19.150Z"
   },
   {
    "duration": 123,
    "start_time": "2023-02-28T18:02:19.180Z"
   },
   {
    "duration": 16,
    "start_time": "2023-02-28T18:02:19.305Z"
   },
   {
    "duration": 26,
    "start_time": "2023-02-28T18:02:19.323Z"
   },
   {
    "duration": 235,
    "start_time": "2023-02-28T18:02:19.352Z"
   },
   {
    "duration": 192,
    "start_time": "2023-02-28T18:02:19.589Z"
   },
   {
    "duration": 4,
    "start_time": "2023-02-28T18:02:19.782Z"
   },
   {
    "duration": 7,
    "start_time": "2023-02-28T18:02:19.787Z"
   },
   {
    "duration": 10,
    "start_time": "2023-02-28T18:02:19.795Z"
   },
   {
    "duration": 15,
    "start_time": "2023-02-28T18:02:19.807Z"
   },
   {
    "duration": 10,
    "start_time": "2023-02-28T18:02:19.823Z"
   },
   {
    "duration": 8,
    "start_time": "2023-02-28T18:02:19.835Z"
   },
   {
    "duration": 9354,
    "start_time": "2023-02-28T18:02:19.848Z"
   },
   {
    "duration": 2746,
    "start_time": "2023-02-28T18:02:29.205Z"
   },
   {
    "duration": 838,
    "start_time": "2023-02-28T18:02:31.953Z"
   },
   {
    "duration": 1302,
    "start_time": "2023-02-28T18:07:26.063Z"
   },
   {
    "duration": 642,
    "start_time": "2023-02-28T18:07:27.367Z"
   },
   {
    "duration": 40,
    "start_time": "2023-02-28T18:07:28.010Z"
   },
   {
    "duration": 26,
    "start_time": "2023-02-28T18:07:28.052Z"
   },
   {
    "duration": 30,
    "start_time": "2023-02-28T18:07:28.079Z"
   },
   {
    "duration": 4,
    "start_time": "2023-02-28T18:07:28.111Z"
   },
   {
    "duration": 381,
    "start_time": "2023-02-28T18:07:28.116Z"
   },
   {
    "duration": 4,
    "start_time": "2023-02-28T18:07:28.499Z"
   },
   {
    "duration": 24,
    "start_time": "2023-02-28T18:07:28.504Z"
   },
   {
    "duration": 7,
    "start_time": "2023-02-28T18:07:28.531Z"
   },
   {
    "duration": 31,
    "start_time": "2023-02-28T18:07:28.548Z"
   },
   {
    "duration": 15,
    "start_time": "2023-02-28T18:07:28.581Z"
   },
   {
    "duration": 11,
    "start_time": "2023-02-28T18:07:28.597Z"
   },
   {
    "duration": 8,
    "start_time": "2023-02-28T18:07:28.609Z"
   },
   {
    "duration": 51,
    "start_time": "2023-02-28T18:07:28.618Z"
   },
   {
    "duration": 100,
    "start_time": "2023-02-28T18:07:28.671Z"
   },
   {
    "duration": 14,
    "start_time": "2023-02-28T18:07:28.773Z"
   },
   {
    "duration": 9,
    "start_time": "2023-02-28T18:07:28.788Z"
   },
   {
    "duration": 256,
    "start_time": "2023-02-28T18:07:28.798Z"
   },
   {
    "duration": 220,
    "start_time": "2023-02-28T18:07:29.056Z"
   },
   {
    "duration": 4,
    "start_time": "2023-02-28T18:07:29.277Z"
   },
   {
    "duration": 21,
    "start_time": "2023-02-28T18:07:29.283Z"
   },
   {
    "duration": 16,
    "start_time": "2023-02-28T18:07:29.306Z"
   },
   {
    "duration": 13,
    "start_time": "2023-02-28T18:07:29.324Z"
   },
   {
    "duration": 10,
    "start_time": "2023-02-28T18:07:29.338Z"
   },
   {
    "duration": 7,
    "start_time": "2023-02-28T18:07:29.350Z"
   },
   {
    "duration": 8814,
    "start_time": "2023-02-28T18:07:29.359Z"
   },
   {
    "duration": 3174,
    "start_time": "2023-02-28T18:07:38.176Z"
   },
   {
    "duration": 884,
    "start_time": "2023-02-28T18:07:41.353Z"
   },
   {
    "duration": 1351,
    "start_time": "2023-02-28T19:00:31.828Z"
   },
   {
    "duration": 657,
    "start_time": "2023-02-28T19:00:33.181Z"
   },
   {
    "duration": 34,
    "start_time": "2023-02-28T19:00:33.840Z"
   },
   {
    "duration": 23,
    "start_time": "2023-02-28T19:00:33.876Z"
   },
   {
    "duration": 30,
    "start_time": "2023-02-28T19:00:33.901Z"
   },
   {
    "duration": 18,
    "start_time": "2023-02-28T19:00:33.933Z"
   },
   {
    "duration": 350,
    "start_time": "2023-02-28T19:00:33.952Z"
   },
   {
    "duration": 3,
    "start_time": "2023-02-28T19:00:34.304Z"
   },
   {
    "duration": 20,
    "start_time": "2023-02-28T19:00:34.308Z"
   },
   {
    "duration": 19,
    "start_time": "2023-02-28T19:00:34.330Z"
   },
   {
    "duration": 25,
    "start_time": "2023-02-28T19:00:34.350Z"
   },
   {
    "duration": 14,
    "start_time": "2023-02-28T19:00:34.376Z"
   },
   {
    "duration": 6,
    "start_time": "2023-02-28T19:00:34.392Z"
   },
   {
    "duration": 8,
    "start_time": "2023-02-28T19:00:34.400Z"
   },
   {
    "duration": 52,
    "start_time": "2023-02-28T19:00:34.410Z"
   },
   {
    "duration": 103,
    "start_time": "2023-02-28T19:00:34.463Z"
   },
   {
    "duration": 15,
    "start_time": "2023-02-28T19:00:34.568Z"
   },
   {
    "duration": 8,
    "start_time": "2023-02-28T19:00:34.584Z"
   },
   {
    "duration": 228,
    "start_time": "2023-02-28T19:00:34.593Z"
   },
   {
    "duration": 186,
    "start_time": "2023-02-28T19:00:34.823Z"
   },
   {
    "duration": 4,
    "start_time": "2023-02-28T19:00:35.011Z"
   },
   {
    "duration": 12,
    "start_time": "2023-02-28T19:00:35.016Z"
   },
   {
    "duration": 8,
    "start_time": "2023-02-28T19:00:35.029Z"
   },
   {
    "duration": 15,
    "start_time": "2023-02-28T19:00:35.038Z"
   },
   {
    "duration": 8,
    "start_time": "2023-02-28T19:00:35.055Z"
   },
   {
    "duration": 9,
    "start_time": "2023-02-28T19:00:35.064Z"
   },
   {
    "duration": 9095,
    "start_time": "2023-02-28T19:00:35.075Z"
   },
   {
    "duration": 2979,
    "start_time": "2023-02-28T19:00:44.173Z"
   },
   {
    "duration": 797,
    "start_time": "2023-02-28T19:00:47.156Z"
   },
   {
    "duration": 1380,
    "start_time": "2023-02-28T19:08:44.861Z"
   },
   {
    "duration": 622,
    "start_time": "2023-02-28T19:08:46.243Z"
   },
   {
    "duration": 31,
    "start_time": "2023-02-28T19:08:46.867Z"
   },
   {
    "duration": 24,
    "start_time": "2023-02-28T19:08:46.900Z"
   },
   {
    "duration": 46,
    "start_time": "2023-02-28T19:08:46.926Z"
   },
   {
    "duration": 5,
    "start_time": "2023-02-28T19:08:46.974Z"
   },
   {
    "duration": 358,
    "start_time": "2023-02-28T19:08:46.980Z"
   },
   {
    "duration": 4,
    "start_time": "2023-02-28T19:08:47.339Z"
   },
   {
    "duration": 28,
    "start_time": "2023-02-28T19:08:47.348Z"
   },
   {
    "duration": 7,
    "start_time": "2023-02-28T19:08:47.379Z"
   },
   {
    "duration": 28,
    "start_time": "2023-02-28T19:08:47.388Z"
   },
   {
    "duration": 13,
    "start_time": "2023-02-28T19:08:47.418Z"
   },
   {
    "duration": 18,
    "start_time": "2023-02-28T19:08:47.433Z"
   },
   {
    "duration": 8,
    "start_time": "2023-02-28T19:08:47.452Z"
   },
   {
    "duration": 44,
    "start_time": "2023-02-28T19:08:47.462Z"
   },
   {
    "duration": 102,
    "start_time": "2023-02-28T19:08:47.507Z"
   },
   {
    "duration": 21,
    "start_time": "2023-02-28T19:08:47.611Z"
   },
   {
    "duration": 22,
    "start_time": "2023-02-28T19:08:47.634Z"
   },
   {
    "duration": 242,
    "start_time": "2023-02-28T19:08:47.658Z"
   },
   {
    "duration": 197,
    "start_time": "2023-02-28T19:08:47.902Z"
   },
   {
    "duration": 4,
    "start_time": "2023-02-28T19:08:48.101Z"
   },
   {
    "duration": 5,
    "start_time": "2023-02-28T19:08:48.107Z"
   },
   {
    "duration": 8,
    "start_time": "2023-02-28T19:08:48.114Z"
   },
   {
    "duration": 25,
    "start_time": "2023-02-28T19:08:48.123Z"
   },
   {
    "duration": 5,
    "start_time": "2023-02-28T19:08:48.150Z"
   },
   {
    "duration": 16,
    "start_time": "2023-02-28T19:08:48.156Z"
   },
   {
    "duration": 8565,
    "start_time": "2023-02-28T19:08:48.173Z"
   },
   {
    "duration": 2908,
    "start_time": "2023-02-28T19:08:56.741Z"
   },
   {
    "duration": 1008,
    "start_time": "2023-02-28T19:08:59.654Z"
   },
   {
    "duration": 1323,
    "start_time": "2023-02-28T19:09:37.957Z"
   },
   {
    "duration": 623,
    "start_time": "2023-02-28T19:09:39.282Z"
   },
   {
    "duration": 32,
    "start_time": "2023-02-28T19:09:39.907Z"
   },
   {
    "duration": 27,
    "start_time": "2023-02-28T19:09:39.947Z"
   },
   {
    "duration": 26,
    "start_time": "2023-02-28T19:09:39.975Z"
   },
   {
    "duration": 5,
    "start_time": "2023-02-28T19:09:40.003Z"
   },
   {
    "duration": 361,
    "start_time": "2023-02-28T19:09:40.009Z"
   },
   {
    "duration": 4,
    "start_time": "2023-02-28T19:09:40.372Z"
   },
   {
    "duration": 20,
    "start_time": "2023-02-28T19:09:40.378Z"
   },
   {
    "duration": 6,
    "start_time": "2023-02-28T19:09:40.400Z"
   },
   {
    "duration": 44,
    "start_time": "2023-02-28T19:09:40.408Z"
   },
   {
    "duration": 17,
    "start_time": "2023-02-28T19:09:40.454Z"
   },
   {
    "duration": 7,
    "start_time": "2023-02-28T19:09:40.473Z"
   },
   {
    "duration": 8,
    "start_time": "2023-02-28T19:09:40.483Z"
   },
   {
    "duration": 29,
    "start_time": "2023-02-28T19:09:40.493Z"
   },
   {
    "duration": 112,
    "start_time": "2023-02-28T19:09:40.524Z"
   },
   {
    "duration": 22,
    "start_time": "2023-02-28T19:09:40.638Z"
   },
   {
    "duration": 8,
    "start_time": "2023-02-28T19:09:40.662Z"
   },
   {
    "duration": 232,
    "start_time": "2023-02-28T19:09:40.672Z"
   },
   {
    "duration": 196,
    "start_time": "2023-02-28T19:09:40.905Z"
   },
   {
    "duration": 4,
    "start_time": "2023-02-28T19:09:41.103Z"
   },
   {
    "duration": 5,
    "start_time": "2023-02-28T19:09:41.108Z"
   },
   {
    "duration": 7,
    "start_time": "2023-02-28T19:09:41.114Z"
   },
   {
    "duration": 15,
    "start_time": "2023-02-28T19:09:41.122Z"
   },
   {
    "duration": 10,
    "start_time": "2023-02-28T19:09:41.138Z"
   },
   {
    "duration": 5,
    "start_time": "2023-02-28T19:09:41.150Z"
   },
   {
    "duration": 9069,
    "start_time": "2023-02-28T19:09:41.157Z"
   },
   {
    "duration": 3225,
    "start_time": "2023-02-28T19:09:50.229Z"
   },
   {
    "duration": 882,
    "start_time": "2023-02-28T19:09:53.455Z"
   },
   {
    "duration": 53,
    "start_time": "2023-03-01T11:12:57.476Z"
   },
   {
    "duration": 1550,
    "start_time": "2023-03-01T11:16:29.680Z"
   },
   {
    "duration": 2946,
    "start_time": "2023-03-01T11:16:31.232Z"
   },
   {
    "duration": 34,
    "start_time": "2023-03-01T11:16:34.180Z"
   },
   {
    "duration": 26,
    "start_time": "2023-03-01T11:16:34.217Z"
   },
   {
    "duration": 26,
    "start_time": "2023-03-01T11:16:34.245Z"
   },
   {
    "duration": 4,
    "start_time": "2023-03-01T11:16:34.273Z"
   },
   {
    "duration": 380,
    "start_time": "2023-03-01T11:16:34.279Z"
   },
   {
    "duration": 3,
    "start_time": "2023-03-01T11:16:34.661Z"
   },
   {
    "duration": 20,
    "start_time": "2023-03-01T11:16:34.666Z"
   },
   {
    "duration": 16,
    "start_time": "2023-03-01T11:16:34.688Z"
   },
   {
    "duration": 27,
    "start_time": "2023-03-01T11:16:34.705Z"
   },
   {
    "duration": 14,
    "start_time": "2023-03-01T11:16:34.733Z"
   },
   {
    "duration": 6,
    "start_time": "2023-03-01T11:16:34.749Z"
   },
   {
    "duration": 6,
    "start_time": "2023-03-01T11:16:34.757Z"
   },
   {
    "duration": 61,
    "start_time": "2023-03-01T11:16:34.765Z"
   },
   {
    "duration": 105,
    "start_time": "2023-03-01T11:16:34.827Z"
   },
   {
    "duration": 14,
    "start_time": "2023-03-01T11:16:34.934Z"
   },
   {
    "duration": 8,
    "start_time": "2023-03-01T11:16:34.949Z"
   },
   {
    "duration": 256,
    "start_time": "2023-03-01T11:16:34.958Z"
   },
   {
    "duration": 219,
    "start_time": "2023-03-01T11:16:35.216Z"
   },
   {
    "duration": 3,
    "start_time": "2023-03-01T11:16:35.436Z"
   },
   {
    "duration": 9,
    "start_time": "2023-03-01T11:16:35.440Z"
   },
   {
    "duration": 6,
    "start_time": "2023-03-01T11:16:35.450Z"
   },
   {
    "duration": 28,
    "start_time": "2023-03-01T11:16:35.457Z"
   },
   {
    "duration": 24,
    "start_time": "2023-03-01T11:16:35.487Z"
   },
   {
    "duration": 55,
    "start_time": "2023-03-01T11:16:35.513Z"
   },
   {
    "duration": 0,
    "start_time": "2023-03-01T11:16:35.570Z"
   },
   {
    "duration": 0,
    "start_time": "2023-03-01T11:16:35.571Z"
   },
   {
    "duration": 0,
    "start_time": "2023-03-01T11:16:35.573Z"
   },
   {
    "duration": 1318,
    "start_time": "2023-03-01T11:16:45.767Z"
   },
   {
    "duration": 689,
    "start_time": "2023-03-01T11:16:47.087Z"
   },
   {
    "duration": 41,
    "start_time": "2023-03-01T11:16:47.781Z"
   },
   {
    "duration": 27,
    "start_time": "2023-03-01T11:16:47.823Z"
   },
   {
    "duration": 27,
    "start_time": "2023-03-01T11:16:47.852Z"
   },
   {
    "duration": 25,
    "start_time": "2023-03-01T11:16:47.881Z"
   },
   {
    "duration": 378,
    "start_time": "2023-03-01T11:16:47.908Z"
   },
   {
    "duration": 4,
    "start_time": "2023-03-01T11:16:48.288Z"
   },
   {
    "duration": 28,
    "start_time": "2023-03-01T11:16:48.294Z"
   },
   {
    "duration": 6,
    "start_time": "2023-03-01T11:16:48.324Z"
   },
   {
    "duration": 25,
    "start_time": "2023-03-01T11:16:48.332Z"
   },
   {
    "duration": 15,
    "start_time": "2023-03-01T11:16:48.359Z"
   },
   {
    "duration": 6,
    "start_time": "2023-03-01T11:16:48.404Z"
   },
   {
    "duration": 6,
    "start_time": "2023-03-01T11:16:48.412Z"
   },
   {
    "duration": 30,
    "start_time": "2023-03-01T11:16:48.419Z"
   },
   {
    "duration": 115,
    "start_time": "2023-03-01T11:16:48.451Z"
   },
   {
    "duration": 15,
    "start_time": "2023-03-01T11:16:48.567Z"
   },
   {
    "duration": 22,
    "start_time": "2023-03-01T11:16:48.583Z"
   },
   {
    "duration": 225,
    "start_time": "2023-03-01T11:16:48.606Z"
   },
   {
    "duration": 202,
    "start_time": "2023-03-01T11:16:48.832Z"
   },
   {
    "duration": 2,
    "start_time": "2023-03-01T11:16:49.036Z"
   },
   {
    "duration": 22,
    "start_time": "2023-03-01T11:16:49.040Z"
   },
   {
    "duration": 19,
    "start_time": "2023-03-01T11:16:49.064Z"
   },
   {
    "duration": 35,
    "start_time": "2023-03-01T11:16:49.084Z"
   },
   {
    "duration": 12,
    "start_time": "2023-03-01T11:16:49.121Z"
   },
   {
    "duration": 17,
    "start_time": "2023-03-01T11:16:49.134Z"
   },
   {
    "duration": 4901,
    "start_time": "2023-03-01T11:16:49.154Z"
   },
   {
    "duration": 1452,
    "start_time": "2023-03-01T11:16:54.057Z"
   },
   {
    "duration": 732,
    "start_time": "2023-03-01T11:16:55.512Z"
   },
   {
    "duration": 1278,
    "start_time": "2023-03-01T11:18:00.260Z"
   },
   {
    "duration": 642,
    "start_time": "2023-03-01T11:18:01.540Z"
   },
   {
    "duration": 35,
    "start_time": "2023-03-01T11:18:02.184Z"
   },
   {
    "duration": 26,
    "start_time": "2023-03-01T11:18:02.221Z"
   },
   {
    "duration": 25,
    "start_time": "2023-03-01T11:18:02.248Z"
   },
   {
    "duration": 114,
    "start_time": "2023-03-01T11:18:02.274Z"
   },
   {
    "duration": 364,
    "start_time": "2023-03-01T11:18:02.395Z"
   },
   {
    "duration": 4,
    "start_time": "2023-03-01T11:18:02.760Z"
   },
   {
    "duration": 46,
    "start_time": "2023-03-01T11:18:02.766Z"
   },
   {
    "duration": 9,
    "start_time": "2023-03-01T11:18:02.816Z"
   },
   {
    "duration": 29,
    "start_time": "2023-03-01T11:18:02.826Z"
   },
   {
    "duration": 13,
    "start_time": "2023-03-01T11:18:02.857Z"
   },
   {
    "duration": 14,
    "start_time": "2023-03-01T11:18:02.872Z"
   },
   {
    "duration": 16,
    "start_time": "2023-03-01T11:18:02.888Z"
   },
   {
    "duration": 38,
    "start_time": "2023-03-01T11:18:02.905Z"
   },
   {
    "duration": 121,
    "start_time": "2023-03-01T11:18:02.945Z"
   },
   {
    "duration": 16,
    "start_time": "2023-03-01T11:18:03.068Z"
   },
   {
    "duration": 23,
    "start_time": "2023-03-01T11:18:03.086Z"
   },
   {
    "duration": 240,
    "start_time": "2023-03-01T11:18:03.111Z"
   },
   {
    "duration": 209,
    "start_time": "2023-03-01T11:18:03.352Z"
   },
   {
    "duration": 2,
    "start_time": "2023-03-01T11:18:03.562Z"
   },
   {
    "duration": 19,
    "start_time": "2023-03-01T11:18:03.566Z"
   },
   {
    "duration": 7,
    "start_time": "2023-03-01T11:18:03.586Z"
   },
   {
    "duration": 15,
    "start_time": "2023-03-01T11:18:03.594Z"
   },
   {
    "duration": 8,
    "start_time": "2023-03-01T11:18:03.610Z"
   },
   {
    "duration": 6,
    "start_time": "2023-03-01T11:18:03.619Z"
   },
   {
    "duration": 9851,
    "start_time": "2023-03-01T11:18:03.626Z"
   },
   {
    "duration": 3431,
    "start_time": "2023-03-01T11:18:13.480Z"
   },
   {
    "duration": 1094,
    "start_time": "2023-03-01T11:18:16.914Z"
   },
   {
    "duration": 1272,
    "start_time": "2023-03-01T11:19:08.552Z"
   },
   {
    "duration": 646,
    "start_time": "2023-03-01T11:19:09.826Z"
   },
   {
    "duration": 35,
    "start_time": "2023-03-01T11:19:10.474Z"
   },
   {
    "duration": 29,
    "start_time": "2023-03-01T11:19:10.511Z"
   },
   {
    "duration": 27,
    "start_time": "2023-03-01T11:19:10.542Z"
   },
   {
    "duration": 4,
    "start_time": "2023-03-01T11:19:10.571Z"
   },
   {
    "duration": 353,
    "start_time": "2023-03-01T11:19:10.604Z"
   },
   {
    "duration": 4,
    "start_time": "2023-03-01T11:19:10.958Z"
   },
   {
    "duration": 107,
    "start_time": "2023-03-01T11:19:10.963Z"
   },
   {
    "duration": 7,
    "start_time": "2023-03-01T11:19:11.073Z"
   },
   {
    "duration": 35,
    "start_time": "2023-03-01T11:19:11.082Z"
   },
   {
    "duration": 16,
    "start_time": "2023-03-01T11:19:11.119Z"
   },
   {
    "duration": 21,
    "start_time": "2023-03-01T11:19:11.139Z"
   },
   {
    "duration": 12,
    "start_time": "2023-03-01T11:19:11.164Z"
   },
   {
    "duration": 35,
    "start_time": "2023-03-01T11:19:11.178Z"
   },
   {
    "duration": 99,
    "start_time": "2023-03-01T11:19:11.215Z"
   },
   {
    "duration": 15,
    "start_time": "2023-03-01T11:19:11.315Z"
   },
   {
    "duration": 9,
    "start_time": "2023-03-01T11:19:11.331Z"
   },
   {
    "duration": 252,
    "start_time": "2023-03-01T11:19:11.341Z"
   },
   {
    "duration": 206,
    "start_time": "2023-03-01T11:19:11.595Z"
   },
   {
    "duration": 3,
    "start_time": "2023-03-01T11:19:11.803Z"
   },
   {
    "duration": 9,
    "start_time": "2023-03-01T11:19:11.807Z"
   },
   {
    "duration": 6,
    "start_time": "2023-03-01T11:19:11.818Z"
   },
   {
    "duration": 21,
    "start_time": "2023-03-01T11:19:11.825Z"
   },
   {
    "duration": 15,
    "start_time": "2023-03-01T11:19:11.848Z"
   },
   {
    "duration": 6,
    "start_time": "2023-03-01T11:19:11.865Z"
   },
   {
    "duration": 9829,
    "start_time": "2023-03-01T11:19:11.873Z"
   },
   {
    "duration": 3006,
    "start_time": "2023-03-01T11:19:21.705Z"
   },
   {
    "duration": 897,
    "start_time": "2023-03-01T11:19:24.713Z"
   },
   {
    "duration": 1435,
    "start_time": "2023-03-01T11:19:35.771Z"
   },
   {
    "duration": 739,
    "start_time": "2023-03-01T11:19:37.212Z"
   },
   {
    "duration": 31,
    "start_time": "2023-03-01T11:19:37.953Z"
   },
   {
    "duration": 37,
    "start_time": "2023-03-01T11:19:37.986Z"
   },
   {
    "duration": 27,
    "start_time": "2023-03-01T11:19:38.025Z"
   },
   {
    "duration": 4,
    "start_time": "2023-03-01T11:19:38.053Z"
   },
   {
    "duration": 359,
    "start_time": "2023-03-01T11:19:38.059Z"
   },
   {
    "duration": 3,
    "start_time": "2023-03-01T11:19:38.420Z"
   },
   {
    "duration": 26,
    "start_time": "2023-03-01T11:19:38.425Z"
   },
   {
    "duration": 6,
    "start_time": "2023-03-01T11:19:38.454Z"
   },
   {
    "duration": 37,
    "start_time": "2023-03-01T11:19:38.462Z"
   },
   {
    "duration": 14,
    "start_time": "2023-03-01T11:19:38.500Z"
   },
   {
    "duration": 12,
    "start_time": "2023-03-01T11:19:38.516Z"
   },
   {
    "duration": 8,
    "start_time": "2023-03-01T11:19:38.529Z"
   },
   {
    "duration": 36,
    "start_time": "2023-03-01T11:19:38.539Z"
   },
   {
    "duration": 120,
    "start_time": "2023-03-01T11:19:38.577Z"
   },
   {
    "duration": 17,
    "start_time": "2023-03-01T11:19:38.698Z"
   },
   {
    "duration": 9,
    "start_time": "2023-03-01T11:19:38.717Z"
   },
   {
    "duration": 244,
    "start_time": "2023-03-01T11:19:38.728Z"
   },
   {
    "duration": 232,
    "start_time": "2023-03-01T11:19:38.973Z"
   },
   {
    "duration": 2,
    "start_time": "2023-03-01T11:19:39.207Z"
   },
   {
    "duration": 18,
    "start_time": "2023-03-01T11:19:39.211Z"
   },
   {
    "duration": 8,
    "start_time": "2023-03-01T11:19:39.231Z"
   },
   {
    "duration": 23,
    "start_time": "2023-03-01T11:19:39.241Z"
   },
   {
    "duration": 14,
    "start_time": "2023-03-01T11:19:39.265Z"
   },
   {
    "duration": 16,
    "start_time": "2023-03-01T11:19:39.281Z"
   },
   {
    "duration": 9902,
    "start_time": "2023-03-01T11:19:39.299Z"
   },
   {
    "duration": 3405,
    "start_time": "2023-03-01T11:19:49.205Z"
   },
   {
    "duration": 690,
    "start_time": "2023-03-01T11:19:52.704Z"
   },
   {
    "duration": 1324,
    "start_time": "2023-03-01T11:21:08.595Z"
   },
   {
    "duration": 703,
    "start_time": "2023-03-01T11:21:09.921Z"
   },
   {
    "duration": 31,
    "start_time": "2023-03-01T11:21:10.625Z"
   },
   {
    "duration": 25,
    "start_time": "2023-03-01T11:21:10.659Z"
   },
   {
    "duration": 43,
    "start_time": "2023-03-01T11:21:10.686Z"
   },
   {
    "duration": 5,
    "start_time": "2023-03-01T11:21:10.731Z"
   },
   {
    "duration": 366,
    "start_time": "2023-03-01T11:21:10.738Z"
   },
   {
    "duration": 5,
    "start_time": "2023-03-01T11:21:11.106Z"
   },
   {
    "duration": 47,
    "start_time": "2023-03-01T11:21:11.113Z"
   },
   {
    "duration": 11,
    "start_time": "2023-03-01T11:21:11.164Z"
   },
   {
    "duration": 45,
    "start_time": "2023-03-01T11:21:11.177Z"
   },
   {
    "duration": 14,
    "start_time": "2023-03-01T11:21:11.224Z"
   },
   {
    "duration": 25,
    "start_time": "2023-03-01T11:21:11.239Z"
   },
   {
    "duration": 23,
    "start_time": "2023-03-01T11:21:11.266Z"
   },
   {
    "duration": 48,
    "start_time": "2023-03-01T11:21:11.291Z"
   },
   {
    "duration": 96,
    "start_time": "2023-03-01T11:21:11.341Z"
   },
   {
    "duration": 14,
    "start_time": "2023-03-01T11:21:11.439Z"
   },
   {
    "duration": 17,
    "start_time": "2023-03-01T11:21:11.454Z"
   },
   {
    "duration": 247,
    "start_time": "2023-03-01T11:21:11.472Z"
   },
   {
    "duration": 206,
    "start_time": "2023-03-01T11:21:11.721Z"
   },
   {
    "duration": 3,
    "start_time": "2023-03-01T11:21:11.928Z"
   },
   {
    "duration": 16,
    "start_time": "2023-03-01T11:21:11.932Z"
   },
   {
    "duration": 31,
    "start_time": "2023-03-01T11:21:11.950Z"
   },
   {
    "duration": 22,
    "start_time": "2023-03-01T11:21:11.982Z"
   },
   {
    "duration": 15,
    "start_time": "2023-03-01T11:21:12.005Z"
   },
   {
    "duration": 14,
    "start_time": "2023-03-01T11:21:12.021Z"
   },
   {
    "duration": 9764,
    "start_time": "2023-03-01T11:21:12.037Z"
   },
   {
    "duration": 3308,
    "start_time": "2023-03-01T11:21:21.804Z"
   },
   {
    "duration": 1040,
    "start_time": "2023-03-01T11:21:25.118Z"
   },
   {
    "duration": 1425,
    "start_time": "2023-03-01T11:21:57.690Z"
   },
   {
    "duration": 686,
    "start_time": "2023-03-01T11:21:59.118Z"
   },
   {
    "duration": 33,
    "start_time": "2023-03-01T11:21:59.806Z"
   },
   {
    "duration": 29,
    "start_time": "2023-03-01T11:21:59.840Z"
   },
   {
    "duration": 48,
    "start_time": "2023-03-01T11:21:59.871Z"
   },
   {
    "duration": 4,
    "start_time": "2023-03-01T11:21:59.921Z"
   },
   {
    "duration": 369,
    "start_time": "2023-03-01T11:21:59.927Z"
   },
   {
    "duration": 9,
    "start_time": "2023-03-01T11:22:00.297Z"
   },
   {
    "duration": 54,
    "start_time": "2023-03-01T11:22:00.307Z"
   },
   {
    "duration": 29,
    "start_time": "2023-03-01T11:22:00.363Z"
   },
   {
    "duration": 44,
    "start_time": "2023-03-01T11:22:00.394Z"
   },
   {
    "duration": 27,
    "start_time": "2023-03-01T11:22:00.440Z"
   },
   {
    "duration": 23,
    "start_time": "2023-03-01T11:22:00.469Z"
   },
   {
    "duration": 35,
    "start_time": "2023-03-01T11:22:00.495Z"
   },
   {
    "duration": 67,
    "start_time": "2023-03-01T11:22:00.532Z"
   },
   {
    "duration": 121,
    "start_time": "2023-03-01T11:22:00.601Z"
   },
   {
    "duration": 14,
    "start_time": "2023-03-01T11:22:00.724Z"
   },
   {
    "duration": 33,
    "start_time": "2023-03-01T11:22:00.740Z"
   },
   {
    "duration": 260,
    "start_time": "2023-03-01T11:22:00.775Z"
   },
   {
    "duration": 244,
    "start_time": "2023-03-01T11:22:01.038Z"
   },
   {
    "duration": 2,
    "start_time": "2023-03-01T11:22:01.284Z"
   },
   {
    "duration": 18,
    "start_time": "2023-03-01T11:22:01.288Z"
   },
   {
    "duration": 22,
    "start_time": "2023-03-01T11:22:01.308Z"
   },
   {
    "duration": 34,
    "start_time": "2023-03-01T11:22:01.332Z"
   },
   {
    "duration": 20,
    "start_time": "2023-03-01T11:22:01.368Z"
   },
   {
    "duration": 30,
    "start_time": "2023-03-01T11:22:01.390Z"
   },
   {
    "duration": 10041,
    "start_time": "2023-03-01T11:22:01.422Z"
   },
   {
    "duration": 3339,
    "start_time": "2023-03-01T11:22:11.465Z"
   },
   {
    "duration": 912,
    "start_time": "2023-03-01T11:22:14.807Z"
   },
   {
    "duration": 1352,
    "start_time": "2023-03-01T11:31:42.386Z"
   },
   {
    "duration": 710,
    "start_time": "2023-03-01T11:31:43.741Z"
   },
   {
    "duration": 32,
    "start_time": "2023-03-01T11:31:44.453Z"
   },
   {
    "duration": 40,
    "start_time": "2023-03-01T11:31:44.487Z"
   },
   {
    "duration": 30,
    "start_time": "2023-03-01T11:31:44.528Z"
   },
   {
    "duration": 5,
    "start_time": "2023-03-01T11:31:44.560Z"
   },
   {
    "duration": 388,
    "start_time": "2023-03-01T11:31:44.566Z"
   },
   {
    "duration": 5,
    "start_time": "2023-03-01T11:31:44.956Z"
   },
   {
    "duration": 23,
    "start_time": "2023-03-01T11:31:44.962Z"
   },
   {
    "duration": 20,
    "start_time": "2023-03-01T11:31:44.988Z"
   },
   {
    "duration": 47,
    "start_time": "2023-03-01T11:31:45.010Z"
   },
   {
    "duration": 17,
    "start_time": "2023-03-01T11:31:45.060Z"
   },
   {
    "duration": 15,
    "start_time": "2023-03-01T11:31:45.079Z"
   },
   {
    "duration": 17,
    "start_time": "2023-03-01T11:31:45.096Z"
   },
   {
    "duration": 39,
    "start_time": "2023-03-01T11:31:45.115Z"
   },
   {
    "duration": 109,
    "start_time": "2023-03-01T11:31:45.156Z"
   },
   {
    "duration": 16,
    "start_time": "2023-03-01T11:31:45.267Z"
   },
   {
    "duration": 24,
    "start_time": "2023-03-01T11:31:45.286Z"
   },
   {
    "duration": 262,
    "start_time": "2023-03-01T11:31:45.312Z"
   },
   {
    "duration": 216,
    "start_time": "2023-03-01T11:31:45.575Z"
   },
   {
    "duration": 11,
    "start_time": "2023-03-01T11:31:45.793Z"
   },
   {
    "duration": 16,
    "start_time": "2023-03-01T11:31:45.805Z"
   },
   {
    "duration": 11,
    "start_time": "2023-03-01T11:31:45.823Z"
   },
   {
    "duration": 12,
    "start_time": "2023-03-01T11:31:45.835Z"
   },
   {
    "duration": 1533,
    "start_time": "2023-03-01T11:32:45.520Z"
   },
   {
    "duration": 700,
    "start_time": "2023-03-01T11:32:47.055Z"
   },
   {
    "duration": 52,
    "start_time": "2023-03-01T11:32:47.757Z"
   },
   {
    "duration": 38,
    "start_time": "2023-03-01T11:32:47.811Z"
   },
   {
    "duration": 30,
    "start_time": "2023-03-01T11:32:47.852Z"
   },
   {
    "duration": 23,
    "start_time": "2023-03-01T11:32:47.884Z"
   },
   {
    "duration": 370,
    "start_time": "2023-03-01T11:32:47.908Z"
   },
   {
    "duration": 4,
    "start_time": "2023-03-01T11:32:48.280Z"
   },
   {
    "duration": 43,
    "start_time": "2023-03-01T11:32:48.285Z"
   },
   {
    "duration": 8,
    "start_time": "2023-03-01T11:32:48.331Z"
   },
   {
    "duration": 33,
    "start_time": "2023-03-01T11:32:48.340Z"
   },
   {
    "duration": 23,
    "start_time": "2023-03-01T11:32:48.375Z"
   },
   {
    "duration": 12,
    "start_time": "2023-03-01T11:32:48.400Z"
   },
   {
    "duration": 29,
    "start_time": "2023-03-01T11:32:48.413Z"
   },
   {
    "duration": 47,
    "start_time": "2023-03-01T11:32:48.444Z"
   },
   {
    "duration": 99,
    "start_time": "2023-03-01T11:32:48.493Z"
   },
   {
    "duration": 18,
    "start_time": "2023-03-01T11:32:48.594Z"
   },
   {
    "duration": 13,
    "start_time": "2023-03-01T11:32:48.614Z"
   },
   {
    "duration": 249,
    "start_time": "2023-03-01T11:32:48.628Z"
   },
   {
    "duration": 228,
    "start_time": "2023-03-01T11:32:48.879Z"
   },
   {
    "duration": 3,
    "start_time": "2023-03-01T11:32:49.109Z"
   },
   {
    "duration": 37,
    "start_time": "2023-03-01T11:32:49.113Z"
   },
   {
    "duration": 39,
    "start_time": "2023-03-01T11:32:49.152Z"
   },
   {
    "duration": 23,
    "start_time": "2023-03-01T11:32:49.193Z"
   },
   {
    "duration": 13446,
    "start_time": "2023-03-01T11:32:49.218Z"
   },
   {
    "duration": 0,
    "start_time": "2023-03-01T11:33:02.667Z"
   },
   {
    "duration": 0,
    "start_time": "2023-03-01T11:33:02.668Z"
   },
   {
    "duration": 0,
    "start_time": "2023-03-01T11:33:02.669Z"
   },
   {
    "duration": 1366,
    "start_time": "2023-03-01T11:33:09.989Z"
   },
   {
    "duration": 701,
    "start_time": "2023-03-01T11:33:11.356Z"
   },
   {
    "duration": 31,
    "start_time": "2023-03-01T11:33:12.059Z"
   },
   {
    "duration": 35,
    "start_time": "2023-03-01T11:33:12.092Z"
   },
   {
    "duration": 31,
    "start_time": "2023-03-01T11:33:12.129Z"
   },
   {
    "duration": 5,
    "start_time": "2023-03-01T11:33:12.162Z"
   },
   {
    "duration": 391,
    "start_time": "2023-03-01T11:33:12.168Z"
   },
   {
    "duration": 4,
    "start_time": "2023-03-01T11:33:12.561Z"
   },
   {
    "duration": 26,
    "start_time": "2023-03-01T11:33:12.566Z"
   },
   {
    "duration": 12,
    "start_time": "2023-03-01T11:33:12.594Z"
   },
   {
    "duration": 37,
    "start_time": "2023-03-01T11:33:12.608Z"
   },
   {
    "duration": 15,
    "start_time": "2023-03-01T11:33:12.647Z"
   },
   {
    "duration": 7,
    "start_time": "2023-03-01T11:33:12.664Z"
   },
   {
    "duration": 7,
    "start_time": "2023-03-01T11:33:12.672Z"
   },
   {
    "duration": 58,
    "start_time": "2023-03-01T11:33:12.681Z"
   },
   {
    "duration": 106,
    "start_time": "2023-03-01T11:33:12.740Z"
   },
   {
    "duration": 15,
    "start_time": "2023-03-01T11:33:12.848Z"
   },
   {
    "duration": 8,
    "start_time": "2023-03-01T11:33:12.865Z"
   },
   {
    "duration": 270,
    "start_time": "2023-03-01T11:33:12.875Z"
   },
   {
    "duration": 212,
    "start_time": "2023-03-01T11:33:13.147Z"
   },
   {
    "duration": 4,
    "start_time": "2023-03-01T11:33:13.360Z"
   },
   {
    "duration": 17,
    "start_time": "2023-03-01T11:33:13.365Z"
   },
   {
    "duration": 15,
    "start_time": "2023-03-01T11:33:13.384Z"
   },
   {
    "duration": 12,
    "start_time": "2023-03-01T11:33:13.400Z"
   },
   {
    "duration": 9716,
    "start_time": "2023-03-01T11:33:13.414Z"
   },
   {
    "duration": 3577,
    "start_time": "2023-03-01T11:33:23.133Z"
   },
   {
    "duration": 693,
    "start_time": "2023-03-01T11:33:26.714Z"
   },
   {
    "duration": 1952,
    "start_time": "2023-03-01T11:40:17.492Z"
   },
   {
    "duration": 700,
    "start_time": "2023-03-01T11:40:19.446Z"
   },
   {
    "duration": 33,
    "start_time": "2023-03-01T11:40:20.148Z"
   },
   {
    "duration": 55,
    "start_time": "2023-03-01T11:40:20.184Z"
   },
   {
    "duration": 45,
    "start_time": "2023-03-01T11:40:20.241Z"
   },
   {
    "duration": 18,
    "start_time": "2023-03-01T11:40:20.288Z"
   },
   {
    "duration": 379,
    "start_time": "2023-03-01T11:40:20.308Z"
   },
   {
    "duration": 5,
    "start_time": "2023-03-01T11:40:20.688Z"
   },
   {
    "duration": 24,
    "start_time": "2023-03-01T11:40:20.694Z"
   },
   {
    "duration": 9,
    "start_time": "2023-03-01T11:40:20.721Z"
   },
   {
    "duration": 51,
    "start_time": "2023-03-01T11:40:20.732Z"
   },
   {
    "duration": 20,
    "start_time": "2023-03-01T11:40:20.785Z"
   },
   {
    "duration": 6,
    "start_time": "2023-03-01T11:40:20.807Z"
   },
   {
    "duration": 6,
    "start_time": "2023-03-01T11:40:20.814Z"
   },
   {
    "duration": 37,
    "start_time": "2023-03-01T11:40:20.822Z"
   },
   {
    "duration": 119,
    "start_time": "2023-03-01T11:40:20.861Z"
   },
   {
    "duration": 24,
    "start_time": "2023-03-01T11:40:20.982Z"
   },
   {
    "duration": 9,
    "start_time": "2023-03-01T11:40:21.009Z"
   },
   {
    "duration": 276,
    "start_time": "2023-03-01T11:40:21.019Z"
   },
   {
    "duration": 214,
    "start_time": "2023-03-01T11:40:21.296Z"
   },
   {
    "duration": 4,
    "start_time": "2023-03-01T11:40:21.511Z"
   },
   {
    "duration": 8,
    "start_time": "2023-03-01T11:40:21.517Z"
   },
   {
    "duration": 15,
    "start_time": "2023-03-01T11:40:21.526Z"
   },
   {
    "duration": 9,
    "start_time": "2023-03-01T11:40:21.543Z"
   },
   {
    "duration": 120,
    "start_time": "2023-03-01T11:40:21.554Z"
   },
   {
    "duration": 0,
    "start_time": "2023-03-01T11:40:21.676Z"
   },
   {
    "duration": 0,
    "start_time": "2023-03-01T11:40:21.677Z"
   },
   {
    "duration": 1439,
    "start_time": "2023-03-01T11:40:39.081Z"
   },
   {
    "duration": 732,
    "start_time": "2023-03-01T11:40:40.523Z"
   },
   {
    "duration": 34,
    "start_time": "2023-03-01T11:40:41.257Z"
   },
   {
    "duration": 49,
    "start_time": "2023-03-01T11:40:41.293Z"
   },
   {
    "duration": 37,
    "start_time": "2023-03-01T11:40:41.344Z"
   },
   {
    "duration": 23,
    "start_time": "2023-03-01T11:40:41.383Z"
   },
   {
    "duration": 376,
    "start_time": "2023-03-01T11:40:41.408Z"
   },
   {
    "duration": 4,
    "start_time": "2023-03-01T11:40:41.785Z"
   },
   {
    "duration": 29,
    "start_time": "2023-03-01T11:40:41.790Z"
   },
   {
    "duration": 6,
    "start_time": "2023-03-01T11:40:41.822Z"
   },
   {
    "duration": 27,
    "start_time": "2023-03-01T11:40:41.830Z"
   },
   {
    "duration": 15,
    "start_time": "2023-03-01T11:40:41.859Z"
   },
   {
    "duration": 29,
    "start_time": "2023-03-01T11:40:41.875Z"
   },
   {
    "duration": 10,
    "start_time": "2023-03-01T11:40:41.906Z"
   },
   {
    "duration": 46,
    "start_time": "2023-03-01T11:40:41.918Z"
   },
   {
    "duration": 113,
    "start_time": "2023-03-01T11:40:41.966Z"
   },
   {
    "duration": 24,
    "start_time": "2023-03-01T11:40:42.081Z"
   },
   {
    "duration": 12,
    "start_time": "2023-03-01T11:40:42.107Z"
   },
   {
    "duration": 257,
    "start_time": "2023-03-01T11:40:42.121Z"
   },
   {
    "duration": 223,
    "start_time": "2023-03-01T11:40:42.380Z"
   },
   {
    "duration": 4,
    "start_time": "2023-03-01T11:40:42.605Z"
   },
   {
    "duration": 8,
    "start_time": "2023-03-01T11:40:42.611Z"
   },
   {
    "duration": 15,
    "start_time": "2023-03-01T11:40:42.621Z"
   },
   {
    "duration": 5,
    "start_time": "2023-03-01T11:40:42.638Z"
   },
   {
    "duration": 129,
    "start_time": "2023-03-01T11:40:42.645Z"
   },
   {
    "duration": 0,
    "start_time": "2023-03-01T11:40:42.775Z"
   },
   {
    "duration": 0,
    "start_time": "2023-03-01T11:40:42.777Z"
   },
   {
    "duration": 1406,
    "start_time": "2023-03-01T11:41:02.911Z"
   },
   {
    "duration": 700,
    "start_time": "2023-03-01T11:41:04.322Z"
   },
   {
    "duration": 34,
    "start_time": "2023-03-01T11:41:05.024Z"
   },
   {
    "duration": 54,
    "start_time": "2023-03-01T11:41:05.060Z"
   },
   {
    "duration": 44,
    "start_time": "2023-03-01T11:41:05.116Z"
   },
   {
    "duration": 5,
    "start_time": "2023-03-01T11:41:05.162Z"
   },
   {
    "duration": 382,
    "start_time": "2023-03-01T11:41:05.169Z"
   },
   {
    "duration": 3,
    "start_time": "2023-03-01T11:41:05.553Z"
   },
   {
    "duration": 23,
    "start_time": "2023-03-01T11:41:05.559Z"
   },
   {
    "duration": 7,
    "start_time": "2023-03-01T11:41:05.583Z"
   },
   {
    "duration": 28,
    "start_time": "2023-03-01T11:41:05.604Z"
   },
   {
    "duration": 14,
    "start_time": "2023-03-01T11:41:05.634Z"
   },
   {
    "duration": 5,
    "start_time": "2023-03-01T11:41:05.650Z"
   },
   {
    "duration": 5,
    "start_time": "2023-03-01T11:41:05.657Z"
   },
   {
    "duration": 63,
    "start_time": "2023-03-01T11:41:05.664Z"
   },
   {
    "duration": 104,
    "start_time": "2023-03-01T11:41:05.729Z"
   },
   {
    "duration": 15,
    "start_time": "2023-03-01T11:41:05.835Z"
   },
   {
    "duration": 8,
    "start_time": "2023-03-01T11:41:05.852Z"
   },
   {
    "duration": 256,
    "start_time": "2023-03-01T11:41:05.862Z"
   },
   {
    "duration": 210,
    "start_time": "2023-03-01T11:41:06.120Z"
   },
   {
    "duration": 3,
    "start_time": "2023-03-01T11:41:06.332Z"
   },
   {
    "duration": 22,
    "start_time": "2023-03-01T11:41:06.336Z"
   },
   {
    "duration": 15,
    "start_time": "2023-03-01T11:41:06.360Z"
   },
   {
    "duration": 10,
    "start_time": "2023-03-01T11:41:06.377Z"
   },
   {
    "duration": 7741,
    "start_time": "2023-03-01T11:41:06.390Z"
   },
   {
    "duration": 3172,
    "start_time": "2023-03-01T11:41:14.133Z"
   },
   {
    "duration": 596,
    "start_time": "2023-03-01T11:41:17.310Z"
   },
   {
    "duration": 1400,
    "start_time": "2023-03-01T11:42:41.059Z"
   },
   {
    "duration": 757,
    "start_time": "2023-03-01T11:42:42.461Z"
   },
   {
    "duration": 30,
    "start_time": "2023-03-01T11:42:43.219Z"
   },
   {
    "duration": 27,
    "start_time": "2023-03-01T11:42:43.251Z"
   },
   {
    "duration": 45,
    "start_time": "2023-03-01T11:42:43.280Z"
   },
   {
    "duration": 4,
    "start_time": "2023-03-01T11:42:43.327Z"
   },
   {
    "duration": 407,
    "start_time": "2023-03-01T11:42:43.333Z"
   },
   {
    "duration": 4,
    "start_time": "2023-03-01T11:42:43.741Z"
   },
   {
    "duration": 38,
    "start_time": "2023-03-01T11:42:43.746Z"
   },
   {
    "duration": 7,
    "start_time": "2023-03-01T11:42:43.787Z"
   },
   {
    "duration": 48,
    "start_time": "2023-03-01T11:42:43.796Z"
   },
   {
    "duration": 15,
    "start_time": "2023-03-01T11:42:43.847Z"
   },
   {
    "duration": 7,
    "start_time": "2023-03-01T11:42:43.863Z"
   },
   {
    "duration": 8,
    "start_time": "2023-03-01T11:42:43.871Z"
   },
   {
    "duration": 42,
    "start_time": "2023-03-01T11:42:43.881Z"
   },
   {
    "duration": 104,
    "start_time": "2023-03-01T11:42:43.925Z"
   },
   {
    "duration": 14,
    "start_time": "2023-03-01T11:42:44.031Z"
   },
   {
    "duration": 9,
    "start_time": "2023-03-01T11:42:44.047Z"
   },
   {
    "duration": 301,
    "start_time": "2023-03-01T11:42:44.058Z"
   },
   {
    "duration": 220,
    "start_time": "2023-03-01T11:42:44.361Z"
   },
   {
    "duration": 3,
    "start_time": "2023-03-01T11:42:44.583Z"
   },
   {
    "duration": 21,
    "start_time": "2023-03-01T11:42:44.588Z"
   },
   {
    "duration": 22,
    "start_time": "2023-03-01T11:42:44.611Z"
   },
   {
    "duration": 22,
    "start_time": "2023-03-01T11:42:44.635Z"
   },
   {
    "duration": 8293,
    "start_time": "2023-03-01T11:42:44.658Z"
   },
   {
    "duration": 5058,
    "start_time": "2023-03-01T11:42:52.953Z"
   },
   {
    "duration": 803,
    "start_time": "2023-03-01T11:42:58.013Z"
   },
   {
    "duration": 4029,
    "start_time": "2023-03-02T08:48:11.023Z"
   },
   {
    "duration": 4180,
    "start_time": "2023-03-02T08:48:15.054Z"
   },
   {
    "duration": 31,
    "start_time": "2023-03-02T08:48:19.236Z"
   },
   {
    "duration": 34,
    "start_time": "2023-03-02T08:48:19.268Z"
   },
   {
    "duration": 36,
    "start_time": "2023-03-02T08:48:19.309Z"
   },
   {
    "duration": 4,
    "start_time": "2023-03-02T08:48:19.346Z"
   },
   {
    "duration": 412,
    "start_time": "2023-03-02T08:48:19.352Z"
   },
   {
    "duration": 9,
    "start_time": "2023-03-02T08:48:19.767Z"
   },
   {
    "duration": 5,
    "start_time": "2023-03-02T09:08:14.731Z"
   },
   {
    "duration": 2594,
    "start_time": "2023-03-02T09:08:37.940Z"
   },
   {
    "duration": 1014,
    "start_time": "2023-03-02T09:08:40.536Z"
   },
   {
    "duration": 32,
    "start_time": "2023-03-02T09:08:41.553Z"
   },
   {
    "duration": 63,
    "start_time": "2023-03-02T09:08:41.587Z"
   },
   {
    "duration": 30,
    "start_time": "2023-03-02T09:08:41.652Z"
   },
   {
    "duration": 6,
    "start_time": "2023-03-02T09:08:41.684Z"
   },
   {
    "duration": 565,
    "start_time": "2023-03-02T09:08:41.692Z"
   },
   {
    "duration": 8,
    "start_time": "2023-03-02T09:08:42.264Z"
   },
   {
    "duration": 4,
    "start_time": "2023-03-02T09:08:42.274Z"
   },
   {
    "duration": 30,
    "start_time": "2023-03-02T09:08:42.294Z"
   },
   {
    "duration": 39,
    "start_time": "2023-03-02T09:08:42.326Z"
   },
   {
    "duration": 14,
    "start_time": "2023-03-02T09:08:42.367Z"
   },
   {
    "duration": 38,
    "start_time": "2023-03-02T09:08:42.384Z"
   },
   {
    "duration": 40,
    "start_time": "2023-03-02T09:08:42.427Z"
   },
   {
    "duration": 10,
    "start_time": "2023-03-02T09:08:42.469Z"
   },
   {
    "duration": 41,
    "start_time": "2023-03-02T09:08:42.481Z"
   },
   {
    "duration": 147,
    "start_time": "2023-03-02T09:08:42.525Z"
   },
   {
    "duration": 28,
    "start_time": "2023-03-02T09:08:42.676Z"
   },
   {
    "duration": 14,
    "start_time": "2023-03-02T09:08:42.712Z"
   },
   {
    "duration": 310,
    "start_time": "2023-03-02T09:08:42.727Z"
   },
   {
    "duration": 441,
    "start_time": "2023-03-02T09:08:43.039Z"
   },
   {
    "duration": 4,
    "start_time": "2023-03-02T09:08:43.481Z"
   },
   {
    "duration": 67,
    "start_time": "2023-03-02T09:08:43.486Z"
   },
   {
    "duration": 16,
    "start_time": "2023-03-02T09:08:43.555Z"
   },
   {
    "duration": 1820,
    "start_time": "2023-03-02T09:08:55.415Z"
   },
   {
    "duration": 109,
    "start_time": "2023-03-02T09:09:39.672Z"
   },
   {
    "duration": 52,
    "start_time": "2023-03-02T11:11:08.649Z"
   },
   {
    "duration": 1603,
    "start_time": "2023-03-02T11:11:25.263Z"
   },
   {
    "duration": 3011,
    "start_time": "2023-03-02T11:11:26.868Z"
   },
   {
    "duration": 34,
    "start_time": "2023-03-02T11:11:29.881Z"
   },
   {
    "duration": 29,
    "start_time": "2023-03-02T11:11:29.918Z"
   },
   {
    "duration": 31,
    "start_time": "2023-03-02T11:11:29.949Z"
   },
   {
    "duration": 6,
    "start_time": "2023-03-02T11:11:29.982Z"
   },
   {
    "duration": 411,
    "start_time": "2023-03-02T11:11:29.990Z"
   },
   {
    "duration": 4,
    "start_time": "2023-03-02T11:11:30.403Z"
   },
   {
    "duration": 51,
    "start_time": "2023-03-02T11:11:30.409Z"
   },
   {
    "duration": 29,
    "start_time": "2023-03-02T11:11:30.463Z"
   },
   {
    "duration": 50,
    "start_time": "2023-03-02T11:11:30.494Z"
   },
   {
    "duration": 23,
    "start_time": "2023-03-02T11:11:30.546Z"
   },
   {
    "duration": 23,
    "start_time": "2023-03-02T11:11:30.571Z"
   },
   {
    "duration": 37,
    "start_time": "2023-03-02T11:11:30.596Z"
   },
   {
    "duration": 49,
    "start_time": "2023-03-02T11:11:30.636Z"
   },
   {
    "duration": 103,
    "start_time": "2023-03-02T11:11:30.687Z"
   },
   {
    "duration": 17,
    "start_time": "2023-03-02T11:11:30.792Z"
   },
   {
    "duration": 34,
    "start_time": "2023-03-02T11:11:30.811Z"
   },
   {
    "duration": 281,
    "start_time": "2023-03-02T11:11:30.847Z"
   },
   {
    "duration": 528,
    "start_time": "2023-03-02T11:11:31.129Z"
   },
   {
    "duration": 151,
    "start_time": "2023-03-02T11:11:31.659Z"
   },
   {
    "duration": 0,
    "start_time": "2023-03-02T11:11:31.813Z"
   },
   {
    "duration": 0,
    "start_time": "2023-03-02T11:11:31.815Z"
   },
   {
    "duration": 0,
    "start_time": "2023-03-02T11:11:31.816Z"
   },
   {
    "duration": 0,
    "start_time": "2023-03-02T11:11:31.818Z"
   },
   {
    "duration": 0,
    "start_time": "2023-03-02T11:11:31.819Z"
   },
   {
    "duration": 0,
    "start_time": "2023-03-02T11:11:31.837Z"
   },
   {
    "duration": 0,
    "start_time": "2023-03-02T11:11:31.839Z"
   },
   {
    "duration": 1470,
    "start_time": "2023-03-02T11:12:37.512Z"
   },
   {
    "duration": 687,
    "start_time": "2023-03-02T11:12:38.984Z"
   },
   {
    "duration": 32,
    "start_time": "2023-03-02T11:12:39.673Z"
   },
   {
    "duration": 38,
    "start_time": "2023-03-02T11:12:39.707Z"
   },
   {
    "duration": 30,
    "start_time": "2023-03-02T11:12:39.746Z"
   },
   {
    "duration": 5,
    "start_time": "2023-03-02T11:12:39.778Z"
   },
   {
    "duration": 392,
    "start_time": "2023-03-02T11:12:39.785Z"
   },
   {
    "duration": 3,
    "start_time": "2023-03-02T11:12:40.179Z"
   },
   {
    "duration": 44,
    "start_time": "2023-03-02T11:12:40.184Z"
   },
   {
    "duration": 10,
    "start_time": "2023-03-02T11:12:40.231Z"
   },
   {
    "duration": 55,
    "start_time": "2023-03-02T11:12:40.243Z"
   },
   {
    "duration": 15,
    "start_time": "2023-03-02T11:12:40.300Z"
   },
   {
    "duration": 39,
    "start_time": "2023-03-02T11:12:40.316Z"
   },
   {
    "duration": 14,
    "start_time": "2023-03-02T11:12:40.357Z"
   },
   {
    "duration": 33,
    "start_time": "2023-03-02T11:12:40.373Z"
   },
   {
    "duration": 100,
    "start_time": "2023-03-02T11:12:40.408Z"
   },
   {
    "duration": 16,
    "start_time": "2023-03-02T11:12:40.510Z"
   },
   {
    "duration": 13,
    "start_time": "2023-03-02T11:12:40.538Z"
   },
   {
    "duration": 249,
    "start_time": "2023-03-02T11:12:40.553Z"
   },
   {
    "duration": 406,
    "start_time": "2023-03-02T11:12:40.804Z"
   },
   {
    "duration": 129,
    "start_time": "2023-03-02T11:12:41.212Z"
   },
   {
    "duration": 0,
    "start_time": "2023-03-02T11:12:41.343Z"
   },
   {
    "duration": 0,
    "start_time": "2023-03-02T11:12:41.345Z"
   },
   {
    "duration": 0,
    "start_time": "2023-03-02T11:12:41.347Z"
   },
   {
    "duration": 0,
    "start_time": "2023-03-02T11:12:41.348Z"
   },
   {
    "duration": 0,
    "start_time": "2023-03-02T11:12:41.350Z"
   },
   {
    "duration": 0,
    "start_time": "2023-03-02T11:12:41.351Z"
   },
   {
    "duration": 0,
    "start_time": "2023-03-02T11:12:41.352Z"
   },
   {
    "duration": 34,
    "start_time": "2023-03-02T11:13:27.777Z"
   },
   {
    "duration": 10,
    "start_time": "2023-03-02T11:14:07.272Z"
   },
   {
    "duration": 8,
    "start_time": "2023-03-02T11:14:41.283Z"
   },
   {
    "duration": 785,
    "start_time": "2023-03-02T11:24:29.262Z"
   },
   {
    "duration": 1444,
    "start_time": "2023-03-02T11:24:52.621Z"
   },
   {
    "duration": 711,
    "start_time": "2023-03-02T11:24:54.068Z"
   },
   {
    "duration": 32,
    "start_time": "2023-03-02T11:24:54.781Z"
   },
   {
    "duration": 43,
    "start_time": "2023-03-02T11:24:54.816Z"
   },
   {
    "duration": 38,
    "start_time": "2023-03-02T11:24:54.861Z"
   },
   {
    "duration": 5,
    "start_time": "2023-03-02T11:24:54.901Z"
   },
   {
    "duration": 389,
    "start_time": "2023-03-02T11:24:54.908Z"
   },
   {
    "duration": 4,
    "start_time": "2023-03-02T11:24:55.299Z"
   },
   {
    "duration": 63,
    "start_time": "2023-03-02T11:24:55.304Z"
   },
   {
    "duration": 20,
    "start_time": "2023-03-02T11:24:55.370Z"
   },
   {
    "duration": 84,
    "start_time": "2023-03-02T11:24:55.393Z"
   },
   {
    "duration": 28,
    "start_time": "2023-03-02T11:24:55.479Z"
   },
   {
    "duration": 31,
    "start_time": "2023-03-02T11:24:55.509Z"
   },
   {
    "duration": 35,
    "start_time": "2023-03-02T11:24:55.542Z"
   },
   {
    "duration": 45,
    "start_time": "2023-03-02T11:24:55.579Z"
   },
   {
    "duration": 105,
    "start_time": "2023-03-02T11:24:55.627Z"
   },
   {
    "duration": 15,
    "start_time": "2023-03-02T11:24:55.734Z"
   },
   {
    "duration": 14,
    "start_time": "2023-03-02T11:24:55.752Z"
   },
   {
    "duration": 287,
    "start_time": "2023-03-02T11:24:55.768Z"
   },
   {
    "duration": 408,
    "start_time": "2023-03-02T11:24:56.058Z"
   },
   {
    "duration": 914,
    "start_time": "2023-03-02T11:24:56.468Z"
   },
   {
    "duration": 0,
    "start_time": "2023-03-02T11:24:57.384Z"
   },
   {
    "duration": 0,
    "start_time": "2023-03-02T11:24:57.386Z"
   },
   {
    "duration": 0,
    "start_time": "2023-03-02T11:24:57.387Z"
   },
   {
    "duration": 1,
    "start_time": "2023-03-02T11:24:57.388Z"
   },
   {
    "duration": 0,
    "start_time": "2023-03-02T11:24:57.390Z"
   },
   {
    "duration": 0,
    "start_time": "2023-03-02T11:24:57.391Z"
   },
   {
    "duration": 0,
    "start_time": "2023-03-02T11:24:57.392Z"
   },
   {
    "duration": 882,
    "start_time": "2023-03-02T11:25:38.555Z"
   },
   {
    "duration": 1116,
    "start_time": "2023-03-02T11:25:51.401Z"
   },
   {
    "duration": 901,
    "start_time": "2023-03-02T11:26:04.622Z"
   },
   {
    "duration": 796,
    "start_time": "2023-03-02T11:26:21.600Z"
   },
   {
    "duration": 963,
    "start_time": "2023-03-02T11:26:38.383Z"
   },
   {
    "duration": 1493,
    "start_time": "2023-03-02T11:27:06.391Z"
   },
   {
    "duration": 738,
    "start_time": "2023-03-02T11:27:07.886Z"
   },
   {
    "duration": 43,
    "start_time": "2023-03-02T11:27:08.626Z"
   },
   {
    "duration": 38,
    "start_time": "2023-03-02T11:27:08.672Z"
   },
   {
    "duration": 62,
    "start_time": "2023-03-02T11:27:08.712Z"
   },
   {
    "duration": 6,
    "start_time": "2023-03-02T11:27:08.777Z"
   },
   {
    "duration": 398,
    "start_time": "2023-03-02T11:27:08.786Z"
   },
   {
    "duration": 4,
    "start_time": "2023-03-02T11:27:09.186Z"
   },
   {
    "duration": 33,
    "start_time": "2023-03-02T11:27:09.191Z"
   },
   {
    "duration": 14,
    "start_time": "2023-03-02T11:27:09.227Z"
   },
   {
    "duration": 32,
    "start_time": "2023-03-02T11:27:09.243Z"
   },
   {
    "duration": 21,
    "start_time": "2023-03-02T11:27:09.278Z"
   },
   {
    "duration": 20,
    "start_time": "2023-03-02T11:27:09.302Z"
   },
   {
    "duration": 20,
    "start_time": "2023-03-02T11:27:09.324Z"
   },
   {
    "duration": 57,
    "start_time": "2023-03-02T11:27:09.346Z"
   },
   {
    "duration": 121,
    "start_time": "2023-03-02T11:27:09.405Z"
   },
   {
    "duration": 26,
    "start_time": "2023-03-02T11:27:09.528Z"
   },
   {
    "duration": 20,
    "start_time": "2023-03-02T11:27:09.557Z"
   },
   {
    "duration": 275,
    "start_time": "2023-03-02T11:27:09.579Z"
   },
   {
    "duration": 425,
    "start_time": "2023-03-02T11:27:09.856Z"
   },
   {
    "duration": 8,
    "start_time": "2023-03-02T11:27:10.283Z"
   },
   {
    "duration": 20,
    "start_time": "2023-03-02T11:27:10.293Z"
   },
   {
    "duration": 37,
    "start_time": "2023-03-02T11:27:10.315Z"
   },
   {
    "duration": 29,
    "start_time": "2023-03-02T11:27:10.354Z"
   },
   {
    "duration": 19,
    "start_time": "2023-03-02T11:27:10.385Z"
   },
   {
    "duration": 249,
    "start_time": "2023-03-02T11:27:10.406Z"
   },
   {
    "duration": 58,
    "start_time": "2023-03-02T11:27:10.657Z"
   },
   {
    "duration": 103,
    "start_time": "2023-03-02T11:27:10.737Z"
   },
   {
    "duration": 1456,
    "start_time": "2023-03-02T11:27:51.362Z"
   },
   {
    "duration": 689,
    "start_time": "2023-03-02T11:27:52.820Z"
   },
   {
    "duration": 41,
    "start_time": "2023-03-02T11:27:53.511Z"
   },
   {
    "duration": 28,
    "start_time": "2023-03-02T11:27:53.554Z"
   },
   {
    "duration": 32,
    "start_time": "2023-03-02T11:27:53.584Z"
   },
   {
    "duration": 5,
    "start_time": "2023-03-02T11:27:53.637Z"
   },
   {
    "duration": 380,
    "start_time": "2023-03-02T11:27:53.644Z"
   },
   {
    "duration": 3,
    "start_time": "2023-03-02T11:27:54.026Z"
   },
   {
    "duration": 29,
    "start_time": "2023-03-02T11:27:54.036Z"
   },
   {
    "duration": 10,
    "start_time": "2023-03-02T11:27:54.068Z"
   },
   {
    "duration": 43,
    "start_time": "2023-03-02T11:27:54.079Z"
   },
   {
    "duration": 23,
    "start_time": "2023-03-02T11:27:54.123Z"
   },
   {
    "duration": 15,
    "start_time": "2023-03-02T11:27:54.148Z"
   },
   {
    "duration": 8,
    "start_time": "2023-03-02T11:27:54.164Z"
   },
   {
    "duration": 30,
    "start_time": "2023-03-02T11:27:54.173Z"
   },
   {
    "duration": 115,
    "start_time": "2023-03-02T11:27:54.205Z"
   },
   {
    "duration": 24,
    "start_time": "2023-03-02T11:27:54.323Z"
   },
   {
    "duration": 9,
    "start_time": "2023-03-02T11:27:54.349Z"
   },
   {
    "duration": 270,
    "start_time": "2023-03-02T11:27:54.360Z"
   },
   {
    "duration": 395,
    "start_time": "2023-03-02T11:27:54.632Z"
   },
   {
    "duration": 12,
    "start_time": "2023-03-02T11:27:55.029Z"
   },
   {
    "duration": 10,
    "start_time": "2023-03-02T11:27:55.043Z"
   },
   {
    "duration": 27,
    "start_time": "2023-03-02T11:27:55.055Z"
   },
   {
    "duration": 15,
    "start_time": "2023-03-02T11:27:55.083Z"
   },
   {
    "duration": 11,
    "start_time": "2023-03-02T11:27:55.099Z"
   },
   {
    "duration": 275,
    "start_time": "2023-03-02T11:27:55.111Z"
   },
   {
    "duration": 97,
    "start_time": "2023-03-02T11:27:55.388Z"
   },
   {
    "duration": 150,
    "start_time": "2023-03-02T11:27:55.488Z"
   },
   {
    "duration": 1390,
    "start_time": "2023-03-02T11:28:09.236Z"
   },
   {
    "duration": 671,
    "start_time": "2023-03-02T11:28:10.628Z"
   },
   {
    "duration": 43,
    "start_time": "2023-03-02T11:28:11.301Z"
   },
   {
    "duration": 29,
    "start_time": "2023-03-02T11:28:11.347Z"
   },
   {
    "duration": 31,
    "start_time": "2023-03-02T11:28:11.378Z"
   },
   {
    "duration": 29,
    "start_time": "2023-03-02T11:28:11.411Z"
   },
   {
    "duration": 440,
    "start_time": "2023-03-02T11:28:11.442Z"
   },
   {
    "duration": 5,
    "start_time": "2023-03-02T11:28:11.884Z"
   },
   {
    "duration": 29,
    "start_time": "2023-03-02T11:28:11.891Z"
   },
   {
    "duration": 15,
    "start_time": "2023-03-02T11:28:11.923Z"
   },
   {
    "duration": 35,
    "start_time": "2023-03-02T11:28:11.940Z"
   },
   {
    "duration": 17,
    "start_time": "2023-03-02T11:28:11.977Z"
   },
   {
    "duration": 7,
    "start_time": "2023-03-02T11:28:11.996Z"
   },
   {
    "duration": 7,
    "start_time": "2023-03-02T11:28:12.037Z"
   },
   {
    "duration": 36,
    "start_time": "2023-03-02T11:28:12.046Z"
   },
   {
    "duration": 121,
    "start_time": "2023-03-02T11:28:12.084Z"
   },
   {
    "duration": 29,
    "start_time": "2023-03-02T11:28:12.207Z"
   },
   {
    "duration": 10,
    "start_time": "2023-03-02T11:28:12.238Z"
   },
   {
    "duration": 270,
    "start_time": "2023-03-02T11:28:12.250Z"
   },
   {
    "duration": 404,
    "start_time": "2023-03-02T11:28:12.522Z"
   },
   {
    "duration": 13,
    "start_time": "2023-03-02T11:28:12.928Z"
   },
   {
    "duration": 9,
    "start_time": "2023-03-02T11:28:12.943Z"
   },
   {
    "duration": 9,
    "start_time": "2023-03-02T11:28:12.954Z"
   },
   {
    "duration": 15,
    "start_time": "2023-03-02T11:28:12.964Z"
   },
   {
    "duration": 8,
    "start_time": "2023-03-02T11:28:12.981Z"
   },
   {
    "duration": 241,
    "start_time": "2023-03-02T11:28:12.991Z"
   },
   {
    "duration": 60,
    "start_time": "2023-03-02T11:28:13.236Z"
   },
   {
    "duration": 141,
    "start_time": "2023-03-02T11:28:13.299Z"
   },
   {
    "duration": 1410,
    "start_time": "2023-03-02T11:29:16.028Z"
   },
   {
    "duration": 661,
    "start_time": "2023-03-02T11:29:17.439Z"
   },
   {
    "duration": 45,
    "start_time": "2023-03-02T11:29:18.102Z"
   },
   {
    "duration": 29,
    "start_time": "2023-03-02T11:29:18.149Z"
   },
   {
    "duration": 32,
    "start_time": "2023-03-02T11:29:18.179Z"
   },
   {
    "duration": 26,
    "start_time": "2023-03-02T11:29:18.213Z"
   },
   {
    "duration": 445,
    "start_time": "2023-03-02T11:29:18.240Z"
   },
   {
    "duration": 5,
    "start_time": "2023-03-02T11:29:18.688Z"
   },
   {
    "duration": 40,
    "start_time": "2023-03-02T11:29:18.695Z"
   },
   {
    "duration": 19,
    "start_time": "2023-03-02T11:29:18.739Z"
   },
   {
    "duration": 54,
    "start_time": "2023-03-02T11:29:18.760Z"
   },
   {
    "duration": 15,
    "start_time": "2023-03-02T11:29:18.815Z"
   },
   {
    "duration": 24,
    "start_time": "2023-03-02T11:29:18.832Z"
   },
   {
    "duration": 12,
    "start_time": "2023-03-02T11:29:18.858Z"
   },
   {
    "duration": 54,
    "start_time": "2023-03-02T11:29:18.871Z"
   },
   {
    "duration": 97,
    "start_time": "2023-03-02T11:29:18.927Z"
   },
   {
    "duration": 22,
    "start_time": "2023-03-02T11:29:19.026Z"
   },
   {
    "duration": 11,
    "start_time": "2023-03-02T11:29:19.049Z"
   },
   {
    "duration": 280,
    "start_time": "2023-03-02T11:29:19.061Z"
   },
   {
    "duration": 426,
    "start_time": "2023-03-02T11:29:19.343Z"
   },
   {
    "duration": 7,
    "start_time": "2023-03-02T11:29:19.770Z"
   },
   {
    "duration": 33,
    "start_time": "2023-03-02T11:29:19.779Z"
   },
   {
    "duration": 14,
    "start_time": "2023-03-02T11:29:19.814Z"
   },
   {
    "duration": 33,
    "start_time": "2023-03-02T11:29:19.830Z"
   },
   {
    "duration": 29,
    "start_time": "2023-03-02T11:29:19.865Z"
   },
   {
    "duration": 296,
    "start_time": "2023-03-02T11:29:19.896Z"
   },
   {
    "duration": 93,
    "start_time": "2023-03-02T11:29:20.194Z"
   },
   {
    "duration": 56,
    "start_time": "2023-03-02T11:29:20.291Z"
   },
   {
    "duration": 15,
    "start_time": "2023-03-02T11:31:58.040Z"
   },
   {
    "duration": 1471,
    "start_time": "2023-03-02T11:40:07.644Z"
   },
   {
    "duration": 686,
    "start_time": "2023-03-02T11:40:09.117Z"
   },
   {
    "duration": 35,
    "start_time": "2023-03-02T11:40:09.804Z"
   },
   {
    "duration": 28,
    "start_time": "2023-03-02T11:40:09.841Z"
   },
   {
    "duration": 35,
    "start_time": "2023-03-02T11:40:09.871Z"
   },
   {
    "duration": 30,
    "start_time": "2023-03-02T11:40:09.907Z"
   },
   {
    "duration": 390,
    "start_time": "2023-03-02T11:40:09.940Z"
   },
   {
    "duration": 8,
    "start_time": "2023-03-02T11:40:10.332Z"
   },
   {
    "duration": 34,
    "start_time": "2023-03-02T11:40:10.341Z"
   },
   {
    "duration": 8,
    "start_time": "2023-03-02T11:40:10.378Z"
   },
   {
    "duration": 33,
    "start_time": "2023-03-02T11:40:10.388Z"
   },
   {
    "duration": 26,
    "start_time": "2023-03-02T11:40:10.423Z"
   },
   {
    "duration": 6,
    "start_time": "2023-03-02T11:40:10.451Z"
   },
   {
    "duration": 6,
    "start_time": "2023-03-02T11:40:10.458Z"
   },
   {
    "duration": 32,
    "start_time": "2023-03-02T11:40:10.466Z"
   },
   {
    "duration": 125,
    "start_time": "2023-03-02T11:40:10.499Z"
   },
   {
    "duration": 23,
    "start_time": "2023-03-02T11:40:10.625Z"
   },
   {
    "duration": 10,
    "start_time": "2023-03-02T11:40:10.650Z"
   },
   {
    "duration": 271,
    "start_time": "2023-03-02T11:40:10.662Z"
   },
   {
    "duration": 404,
    "start_time": "2023-03-02T11:40:10.937Z"
   },
   {
    "duration": 8,
    "start_time": "2023-03-02T11:40:11.343Z"
   },
   {
    "duration": 8,
    "start_time": "2023-03-02T11:40:11.352Z"
   },
   {
    "duration": 6,
    "start_time": "2023-03-02T11:40:11.362Z"
   },
   {
    "duration": 10,
    "start_time": "2023-03-02T11:40:11.369Z"
   },
   {
    "duration": 8,
    "start_time": "2023-03-02T11:40:11.381Z"
   },
   {
    "duration": 249,
    "start_time": "2023-03-02T11:40:11.391Z"
   },
   {
    "duration": 47,
    "start_time": "2023-03-02T11:40:11.641Z"
   },
   {
    "duration": 0,
    "start_time": "2023-03-02T11:40:11.690Z"
   },
   {
    "duration": 0,
    "start_time": "2023-03-02T11:40:11.691Z"
   },
   {
    "duration": 0,
    "start_time": "2023-03-02T11:40:11.692Z"
   },
   {
    "duration": 24,
    "start_time": "2023-03-02T11:40:46.227Z"
   },
   {
    "duration": 1448,
    "start_time": "2023-03-02T11:41:06.472Z"
   },
   {
    "duration": 693,
    "start_time": "2023-03-02T11:41:07.923Z"
   },
   {
    "duration": 50,
    "start_time": "2023-03-02T11:41:08.619Z"
   },
   {
    "duration": 35,
    "start_time": "2023-03-02T11:41:08.672Z"
   },
   {
    "duration": 67,
    "start_time": "2023-03-02T11:41:08.710Z"
   },
   {
    "duration": 5,
    "start_time": "2023-03-02T11:41:08.779Z"
   },
   {
    "duration": 438,
    "start_time": "2023-03-02T11:41:08.786Z"
   },
   {
    "duration": 10,
    "start_time": "2023-03-02T11:41:09.226Z"
   },
   {
    "duration": 28,
    "start_time": "2023-03-02T11:41:09.238Z"
   },
   {
    "duration": 17,
    "start_time": "2023-03-02T11:41:09.267Z"
   },
   {
    "duration": 84,
    "start_time": "2023-03-02T11:41:09.286Z"
   },
   {
    "duration": 30,
    "start_time": "2023-03-02T11:41:09.372Z"
   },
   {
    "duration": 29,
    "start_time": "2023-03-02T11:41:09.404Z"
   },
   {
    "duration": 21,
    "start_time": "2023-03-02T11:41:09.436Z"
   },
   {
    "duration": 72,
    "start_time": "2023-03-02T11:41:09.459Z"
   },
   {
    "duration": 100,
    "start_time": "2023-03-02T11:41:09.533Z"
   },
   {
    "duration": 15,
    "start_time": "2023-03-02T11:41:09.637Z"
   },
   {
    "duration": 17,
    "start_time": "2023-03-02T11:41:09.654Z"
   },
   {
    "duration": 261,
    "start_time": "2023-03-02T11:41:09.673Z"
   },
   {
    "duration": 412,
    "start_time": "2023-03-02T11:41:09.936Z"
   },
   {
    "duration": 8,
    "start_time": "2023-03-02T11:41:10.349Z"
   },
   {
    "duration": 34,
    "start_time": "2023-03-02T11:41:10.359Z"
   },
   {
    "duration": 22,
    "start_time": "2023-03-02T11:41:10.395Z"
   },
   {
    "duration": 33,
    "start_time": "2023-03-02T11:41:10.419Z"
   },
   {
    "duration": 36,
    "start_time": "2023-03-02T11:41:10.454Z"
   },
   {
    "duration": 255,
    "start_time": "2023-03-02T11:41:10.492Z"
   },
   {
    "duration": 18,
    "start_time": "2023-03-02T11:41:10.749Z"
   },
   {
    "duration": 26,
    "start_time": "2023-03-02T11:41:10.769Z"
   },
   {
    "duration": 30,
    "start_time": "2023-03-02T11:41:10.796Z"
   },
   {
    "duration": 56,
    "start_time": "2023-03-02T11:41:10.828Z"
   },
   {
    "duration": 1350,
    "start_time": "2023-03-02T11:43:34.584Z"
   },
   {
    "duration": 692,
    "start_time": "2023-03-02T11:43:35.936Z"
   },
   {
    "duration": 37,
    "start_time": "2023-03-02T11:43:36.630Z"
   },
   {
    "duration": 27,
    "start_time": "2023-03-02T11:43:36.669Z"
   },
   {
    "duration": 59,
    "start_time": "2023-03-02T11:43:36.697Z"
   },
   {
    "duration": 5,
    "start_time": "2023-03-02T11:43:36.758Z"
   },
   {
    "duration": 389,
    "start_time": "2023-03-02T11:43:36.765Z"
   },
   {
    "duration": 5,
    "start_time": "2023-03-02T11:43:37.156Z"
   },
   {
    "duration": 29,
    "start_time": "2023-03-02T11:43:37.163Z"
   },
   {
    "duration": 7,
    "start_time": "2023-03-02T11:43:37.196Z"
   },
   {
    "duration": 55,
    "start_time": "2023-03-02T11:43:37.205Z"
   },
   {
    "duration": 14,
    "start_time": "2023-03-02T11:43:37.262Z"
   },
   {
    "duration": 6,
    "start_time": "2023-03-02T11:43:37.277Z"
   },
   {
    "duration": 7,
    "start_time": "2023-03-02T11:43:37.285Z"
   },
   {
    "duration": 61,
    "start_time": "2023-03-02T11:43:37.294Z"
   },
   {
    "duration": 105,
    "start_time": "2023-03-02T11:43:37.356Z"
   },
   {
    "duration": 17,
    "start_time": "2023-03-02T11:43:37.464Z"
   },
   {
    "duration": 12,
    "start_time": "2023-03-02T11:43:37.483Z"
   },
   {
    "duration": 272,
    "start_time": "2023-03-02T11:43:37.497Z"
   },
   {
    "duration": 404,
    "start_time": "2023-03-02T11:43:37.771Z"
   },
   {
    "duration": 7,
    "start_time": "2023-03-02T11:43:38.177Z"
   },
   {
    "duration": 12,
    "start_time": "2023-03-02T11:43:38.187Z"
   },
   {
    "duration": 5,
    "start_time": "2023-03-02T11:43:38.201Z"
   },
   {
    "duration": 11,
    "start_time": "2023-03-02T11:43:38.208Z"
   },
   {
    "duration": 33,
    "start_time": "2023-03-02T11:43:38.221Z"
   },
   {
    "duration": 242,
    "start_time": "2023-03-02T11:43:38.256Z"
   },
   {
    "duration": 15,
    "start_time": "2023-03-02T11:43:38.500Z"
   },
   {
    "duration": 160,
    "start_time": "2023-03-02T11:43:38.518Z"
   },
   {
    "duration": 0,
    "start_time": "2023-03-02T11:43:38.680Z"
   },
   {
    "duration": 0,
    "start_time": "2023-03-02T11:43:38.681Z"
   },
   {
    "duration": 1369,
    "start_time": "2023-03-02T11:44:22.828Z"
   },
   {
    "duration": 727,
    "start_time": "2023-03-02T11:44:24.199Z"
   },
   {
    "duration": 37,
    "start_time": "2023-03-02T11:44:24.928Z"
   },
   {
    "duration": 30,
    "start_time": "2023-03-02T11:44:24.967Z"
   },
   {
    "duration": 53,
    "start_time": "2023-03-02T11:44:24.999Z"
   },
   {
    "duration": 6,
    "start_time": "2023-03-02T11:44:25.053Z"
   },
   {
    "duration": 397,
    "start_time": "2023-03-02T11:44:25.060Z"
   },
   {
    "duration": 6,
    "start_time": "2023-03-02T11:44:25.459Z"
   },
   {
    "duration": 26,
    "start_time": "2023-03-02T11:44:25.467Z"
   },
   {
    "duration": 8,
    "start_time": "2023-03-02T11:44:25.499Z"
   },
   {
    "duration": 37,
    "start_time": "2023-03-02T11:44:25.508Z"
   },
   {
    "duration": 19,
    "start_time": "2023-03-02T11:44:25.547Z"
   },
   {
    "duration": 11,
    "start_time": "2023-03-02T11:44:25.568Z"
   },
   {
    "duration": 5,
    "start_time": "2023-03-02T11:44:25.580Z"
   },
   {
    "duration": 31,
    "start_time": "2023-03-02T11:44:25.587Z"
   },
   {
    "duration": 104,
    "start_time": "2023-03-02T11:44:25.636Z"
   },
   {
    "duration": 15,
    "start_time": "2023-03-02T11:44:25.742Z"
   },
   {
    "duration": 9,
    "start_time": "2023-03-02T11:44:25.759Z"
   },
   {
    "duration": 267,
    "start_time": "2023-03-02T11:44:25.769Z"
   },
   {
    "duration": 388,
    "start_time": "2023-03-02T11:44:26.038Z"
   },
   {
    "duration": 13,
    "start_time": "2023-03-02T11:44:26.428Z"
   },
   {
    "duration": 14,
    "start_time": "2023-03-02T11:44:26.443Z"
   },
   {
    "duration": 7,
    "start_time": "2023-03-02T11:44:26.458Z"
   },
   {
    "duration": 19,
    "start_time": "2023-03-02T11:44:26.466Z"
   },
   {
    "duration": 7,
    "start_time": "2023-03-02T11:44:26.487Z"
   },
   {
    "duration": 227,
    "start_time": "2023-03-02T11:44:26.496Z"
   },
   {
    "duration": 25,
    "start_time": "2023-03-02T11:44:26.724Z"
   },
   {
    "duration": 150,
    "start_time": "2023-03-02T11:44:26.752Z"
   },
   {
    "duration": 0,
    "start_time": "2023-03-02T11:44:26.904Z"
   },
   {
    "duration": 0,
    "start_time": "2023-03-02T11:44:26.906Z"
   },
   {
    "duration": 48,
    "start_time": "2023-03-02T11:49:13.883Z"
   },
   {
    "duration": 1486,
    "start_time": "2023-03-02T11:49:21.218Z"
   },
   {
    "duration": 690,
    "start_time": "2023-03-02T11:49:22.706Z"
   },
   {
    "duration": 41,
    "start_time": "2023-03-02T11:49:23.398Z"
   },
   {
    "duration": 29,
    "start_time": "2023-03-02T11:49:23.441Z"
   },
   {
    "duration": 33,
    "start_time": "2023-03-02T11:49:23.472Z"
   },
   {
    "duration": 33,
    "start_time": "2023-03-02T11:49:23.507Z"
   },
   {
    "duration": 400,
    "start_time": "2023-03-02T11:49:23.542Z"
   },
   {
    "duration": 5,
    "start_time": "2023-03-02T11:49:23.945Z"
   },
   {
    "duration": 45,
    "start_time": "2023-03-02T11:49:23.952Z"
   },
   {
    "duration": 11,
    "start_time": "2023-03-02T11:49:24.001Z"
   },
   {
    "duration": 60,
    "start_time": "2023-03-02T11:49:24.014Z"
   },
   {
    "duration": 16,
    "start_time": "2023-03-02T11:49:24.076Z"
   },
   {
    "duration": 47,
    "start_time": "2023-03-02T11:49:24.094Z"
   },
   {
    "duration": 38,
    "start_time": "2023-03-02T11:49:24.143Z"
   },
   {
    "duration": 71,
    "start_time": "2023-03-02T11:49:24.183Z"
   },
   {
    "duration": 114,
    "start_time": "2023-03-02T11:49:24.257Z"
   },
   {
    "duration": 18,
    "start_time": "2023-03-02T11:49:24.373Z"
   },
   {
    "duration": 19,
    "start_time": "2023-03-02T11:49:24.393Z"
   },
   {
    "duration": 273,
    "start_time": "2023-03-02T11:49:24.415Z"
   },
   {
    "duration": 402,
    "start_time": "2023-03-02T11:49:24.690Z"
   },
   {
    "duration": 7,
    "start_time": "2023-03-02T11:49:25.094Z"
   },
   {
    "duration": 13,
    "start_time": "2023-03-02T11:49:25.104Z"
   },
   {
    "duration": 28,
    "start_time": "2023-03-02T11:49:25.119Z"
   },
   {
    "duration": 27,
    "start_time": "2023-03-02T11:49:25.149Z"
   },
   {
    "duration": 18,
    "start_time": "2023-03-02T11:49:25.178Z"
   },
   {
    "duration": 247,
    "start_time": "2023-03-02T11:49:25.198Z"
   },
   {
    "duration": 15,
    "start_time": "2023-03-02T11:49:25.447Z"
   },
   {
    "duration": 8,
    "start_time": "2023-03-02T11:49:25.466Z"
   },
   {
    "duration": 163,
    "start_time": "2023-03-02T11:49:25.475Z"
   },
   {
    "duration": 0,
    "start_time": "2023-03-02T11:49:25.640Z"
   },
   {
    "duration": 1537,
    "start_time": "2023-03-02T11:50:04.249Z"
   },
   {
    "duration": 710,
    "start_time": "2023-03-02T11:50:05.788Z"
   },
   {
    "duration": 43,
    "start_time": "2023-03-02T11:50:06.500Z"
   },
   {
    "duration": 37,
    "start_time": "2023-03-02T11:50:06.546Z"
   },
   {
    "duration": 67,
    "start_time": "2023-03-02T11:50:06.585Z"
   },
   {
    "duration": 6,
    "start_time": "2023-03-02T11:50:06.654Z"
   },
   {
    "duration": 431,
    "start_time": "2023-03-02T11:50:06.662Z"
   },
   {
    "duration": 4,
    "start_time": "2023-03-02T11:50:07.095Z"
   },
   {
    "duration": 45,
    "start_time": "2023-03-02T11:50:07.100Z"
   },
   {
    "duration": 27,
    "start_time": "2023-03-02T11:50:07.148Z"
   },
   {
    "duration": 70,
    "start_time": "2023-03-02T11:50:07.177Z"
   },
   {
    "duration": 31,
    "start_time": "2023-03-02T11:50:07.249Z"
   },
   {
    "duration": 51,
    "start_time": "2023-03-02T11:50:07.282Z"
   },
   {
    "duration": 34,
    "start_time": "2023-03-02T11:50:07.336Z"
   },
   {
    "duration": 55,
    "start_time": "2023-03-02T11:50:07.371Z"
   },
   {
    "duration": 119,
    "start_time": "2023-03-02T11:50:07.428Z"
   },
   {
    "duration": 16,
    "start_time": "2023-03-02T11:50:07.549Z"
   },
   {
    "duration": 30,
    "start_time": "2023-03-02T11:50:07.567Z"
   },
   {
    "duration": 275,
    "start_time": "2023-03-02T11:50:07.600Z"
   },
   {
    "duration": 408,
    "start_time": "2023-03-02T11:50:07.877Z"
   },
   {
    "duration": 7,
    "start_time": "2023-03-02T11:50:08.288Z"
   },
   {
    "duration": 11,
    "start_time": "2023-03-02T11:50:08.297Z"
   },
   {
    "duration": 32,
    "start_time": "2023-03-02T11:50:08.309Z"
   },
   {
    "duration": 25,
    "start_time": "2023-03-02T11:50:08.343Z"
   },
   {
    "duration": 27,
    "start_time": "2023-03-02T11:50:08.370Z"
   },
   {
    "duration": 293,
    "start_time": "2023-03-02T11:50:08.399Z"
   },
   {
    "duration": 20,
    "start_time": "2023-03-02T11:50:08.695Z"
   },
   {
    "duration": 52,
    "start_time": "2023-03-02T11:50:08.720Z"
   },
   {
    "duration": 95,
    "start_time": "2023-03-02T11:50:08.774Z"
   },
   {
    "duration": 84,
    "start_time": "2023-03-02T11:50:08.871Z"
   },
   {
    "duration": 1465,
    "start_time": "2023-03-02T11:52:48.145Z"
   },
   {
    "duration": 735,
    "start_time": "2023-03-02T11:52:49.612Z"
   },
   {
    "duration": 34,
    "start_time": "2023-03-02T11:52:50.349Z"
   },
   {
    "duration": 27,
    "start_time": "2023-03-02T11:52:50.384Z"
   },
   {
    "duration": 49,
    "start_time": "2023-03-02T11:52:50.412Z"
   },
   {
    "duration": 4,
    "start_time": "2023-03-02T11:52:50.463Z"
   },
   {
    "duration": 385,
    "start_time": "2023-03-02T11:52:50.469Z"
   },
   {
    "duration": 4,
    "start_time": "2023-03-02T11:52:50.856Z"
   },
   {
    "duration": 41,
    "start_time": "2023-03-02T11:52:50.862Z"
   },
   {
    "duration": 8,
    "start_time": "2023-03-02T11:52:50.907Z"
   },
   {
    "duration": 68,
    "start_time": "2023-03-02T11:52:50.917Z"
   },
   {
    "duration": 19,
    "start_time": "2023-03-02T11:52:50.987Z"
   },
   {
    "duration": 19,
    "start_time": "2023-03-02T11:52:51.007Z"
   },
   {
    "duration": 29,
    "start_time": "2023-03-02T11:52:51.028Z"
   },
   {
    "duration": 56,
    "start_time": "2023-03-02T11:52:51.059Z"
   },
   {
    "duration": 130,
    "start_time": "2023-03-02T11:52:51.117Z"
   },
   {
    "duration": 17,
    "start_time": "2023-03-02T11:52:51.249Z"
   },
   {
    "duration": 27,
    "start_time": "2023-03-02T11:52:51.268Z"
   },
   {
    "duration": 332,
    "start_time": "2023-03-02T11:52:51.297Z"
   },
   {
    "duration": 450,
    "start_time": "2023-03-02T11:52:51.639Z"
   },
   {
    "duration": 8,
    "start_time": "2023-03-02T11:52:52.091Z"
   },
   {
    "duration": 37,
    "start_time": "2023-03-02T11:52:52.101Z"
   },
   {
    "duration": 48,
    "start_time": "2023-03-02T11:52:52.140Z"
   },
   {
    "duration": 48,
    "start_time": "2023-03-02T11:52:52.191Z"
   },
   {
    "duration": 20,
    "start_time": "2023-03-02T11:52:52.241Z"
   },
   {
    "duration": 295,
    "start_time": "2023-03-02T11:52:52.263Z"
   },
   {
    "duration": 18,
    "start_time": "2023-03-02T11:52:52.561Z"
   },
   {
    "duration": 18,
    "start_time": "2023-03-02T11:52:52.583Z"
   },
   {
    "duration": 83,
    "start_time": "2023-03-02T11:52:52.603Z"
   },
   {
    "duration": 148,
    "start_time": "2023-03-02T11:52:52.690Z"
   },
   {
    "duration": 59,
    "start_time": "2023-03-02T11:54:32.521Z"
   },
   {
    "duration": 1415,
    "start_time": "2023-03-02T11:55:23.713Z"
   },
   {
    "duration": 729,
    "start_time": "2023-03-02T11:55:25.131Z"
   },
   {
    "duration": 35,
    "start_time": "2023-03-02T11:55:25.862Z"
   },
   {
    "duration": 43,
    "start_time": "2023-03-02T11:55:25.900Z"
   },
   {
    "duration": 35,
    "start_time": "2023-03-02T11:55:25.945Z"
   },
   {
    "duration": 4,
    "start_time": "2023-03-02T11:55:25.981Z"
   },
   {
    "duration": 389,
    "start_time": "2023-03-02T11:55:25.987Z"
   },
   {
    "duration": 4,
    "start_time": "2023-03-02T11:55:26.378Z"
   },
   {
    "duration": 24,
    "start_time": "2023-03-02T11:55:26.383Z"
   },
   {
    "duration": 7,
    "start_time": "2023-03-02T11:55:26.410Z"
   },
   {
    "duration": 33,
    "start_time": "2023-03-02T11:55:26.437Z"
   },
   {
    "duration": 15,
    "start_time": "2023-03-02T11:55:26.472Z"
   },
   {
    "duration": 6,
    "start_time": "2023-03-02T11:55:26.489Z"
   },
   {
    "duration": 5,
    "start_time": "2023-03-02T11:55:26.497Z"
   },
   {
    "duration": 65,
    "start_time": "2023-03-02T11:55:26.503Z"
   },
   {
    "duration": 117,
    "start_time": "2023-03-02T11:55:26.570Z"
   },
   {
    "duration": 17,
    "start_time": "2023-03-02T11:55:26.689Z"
   },
   {
    "duration": 28,
    "start_time": "2023-03-02T11:55:26.708Z"
   },
   {
    "duration": 248,
    "start_time": "2023-03-02T11:55:26.738Z"
   },
   {
    "duration": 411,
    "start_time": "2023-03-02T11:55:26.988Z"
   },
   {
    "duration": 7,
    "start_time": "2023-03-02T11:55:27.400Z"
   },
   {
    "duration": 23,
    "start_time": "2023-03-02T11:55:27.409Z"
   },
   {
    "duration": 24,
    "start_time": "2023-03-02T11:55:27.434Z"
   },
   {
    "duration": 21,
    "start_time": "2023-03-02T11:55:27.460Z"
   },
   {
    "duration": 39,
    "start_time": "2023-03-02T11:55:27.483Z"
   },
   {
    "duration": 251,
    "start_time": "2023-03-02T11:55:27.524Z"
   },
   {
    "duration": 62,
    "start_time": "2023-03-02T11:55:27.777Z"
   },
   {
    "duration": 15,
    "start_time": "2023-03-02T11:55:27.842Z"
   },
   {
    "duration": 31,
    "start_time": "2023-03-02T11:55:27.859Z"
   },
   {
    "duration": 72,
    "start_time": "2023-03-02T11:55:27.892Z"
   },
   {
    "duration": 73,
    "start_time": "2023-03-02T11:55:27.966Z"
   },
   {
    "duration": 1418,
    "start_time": "2023-03-02T11:56:15.113Z"
   },
   {
    "duration": 707,
    "start_time": "2023-03-02T11:56:16.533Z"
   },
   {
    "duration": 36,
    "start_time": "2023-03-02T11:56:17.242Z"
   },
   {
    "duration": 60,
    "start_time": "2023-03-02T11:56:17.282Z"
   },
   {
    "duration": 49,
    "start_time": "2023-03-02T11:56:17.344Z"
   },
   {
    "duration": 5,
    "start_time": "2023-03-02T11:56:17.396Z"
   },
   {
    "duration": 441,
    "start_time": "2023-03-02T11:56:17.404Z"
   },
   {
    "duration": 4,
    "start_time": "2023-03-02T11:56:17.847Z"
   },
   {
    "duration": 44,
    "start_time": "2023-03-02T11:56:17.852Z"
   },
   {
    "duration": 10,
    "start_time": "2023-03-02T11:56:17.898Z"
   },
   {
    "duration": 60,
    "start_time": "2023-03-02T11:56:17.910Z"
   },
   {
    "duration": 17,
    "start_time": "2023-03-02T11:56:17.972Z"
   },
   {
    "duration": 35,
    "start_time": "2023-03-02T11:56:17.991Z"
   },
   {
    "duration": 12,
    "start_time": "2023-03-02T11:56:18.028Z"
   },
   {
    "duration": 46,
    "start_time": "2023-03-02T11:56:18.042Z"
   },
   {
    "duration": 102,
    "start_time": "2023-03-02T11:56:18.090Z"
   },
   {
    "duration": 16,
    "start_time": "2023-03-02T11:56:18.194Z"
   },
   {
    "duration": 25,
    "start_time": "2023-03-02T11:56:18.212Z"
   },
   {
    "duration": 261,
    "start_time": "2023-03-02T11:56:18.240Z"
   },
   {
    "duration": 552,
    "start_time": "2023-03-02T11:56:18.503Z"
   },
   {
    "duration": 6,
    "start_time": "2023-03-02T11:56:19.057Z"
   },
   {
    "duration": 22,
    "start_time": "2023-03-02T11:56:19.064Z"
   },
   {
    "duration": 29,
    "start_time": "2023-03-02T11:56:19.088Z"
   },
   {
    "duration": 17,
    "start_time": "2023-03-02T11:56:19.119Z"
   },
   {
    "duration": 29,
    "start_time": "2023-03-02T11:56:19.139Z"
   },
   {
    "duration": 268,
    "start_time": "2023-03-02T11:56:19.170Z"
   },
   {
    "duration": 59,
    "start_time": "2023-03-02T11:56:19.440Z"
   },
   {
    "duration": 39,
    "start_time": "2023-03-02T11:56:19.502Z"
   },
   {
    "duration": 7,
    "start_time": "2023-03-02T11:56:19.543Z"
   },
   {
    "duration": 78,
    "start_time": "2023-03-02T11:56:19.552Z"
   },
   {
    "duration": 27,
    "start_time": "2023-03-02T11:56:19.632Z"
   },
   {
    "duration": 1378,
    "start_time": "2023-03-02T11:57:25.020Z"
   },
   {
    "duration": 728,
    "start_time": "2023-03-02T11:57:26.400Z"
   },
   {
    "duration": 36,
    "start_time": "2023-03-02T11:57:27.131Z"
   },
   {
    "duration": 31,
    "start_time": "2023-03-02T11:57:27.170Z"
   },
   {
    "duration": 61,
    "start_time": "2023-03-02T11:57:27.203Z"
   },
   {
    "duration": 5,
    "start_time": "2023-03-02T11:57:27.266Z"
   },
   {
    "duration": 391,
    "start_time": "2023-03-02T11:57:27.272Z"
   },
   {
    "duration": 4,
    "start_time": "2023-03-02T11:57:27.665Z"
   },
   {
    "duration": 24,
    "start_time": "2023-03-02T11:57:27.671Z"
   },
   {
    "duration": 7,
    "start_time": "2023-03-02T11:57:27.698Z"
   },
   {
    "duration": 48,
    "start_time": "2023-03-02T11:57:27.707Z"
   },
   {
    "duration": 16,
    "start_time": "2023-03-02T11:57:27.756Z"
   },
   {
    "duration": 11,
    "start_time": "2023-03-02T11:57:27.773Z"
   },
   {
    "duration": 5,
    "start_time": "2023-03-02T11:57:27.786Z"
   },
   {
    "duration": 56,
    "start_time": "2023-03-02T11:57:27.793Z"
   },
   {
    "duration": 112,
    "start_time": "2023-03-02T11:57:27.851Z"
   },
   {
    "duration": 16,
    "start_time": "2023-03-02T11:57:27.965Z"
   },
   {
    "duration": 9,
    "start_time": "2023-03-02T11:57:27.983Z"
   },
   {
    "duration": 273,
    "start_time": "2023-03-02T11:57:27.994Z"
   },
   {
    "duration": 483,
    "start_time": "2023-03-02T11:57:28.269Z"
   },
   {
    "duration": 7,
    "start_time": "2023-03-02T11:57:28.754Z"
   },
   {
    "duration": 24,
    "start_time": "2023-03-02T11:57:28.762Z"
   },
   {
    "duration": 10,
    "start_time": "2023-03-02T11:57:28.788Z"
   },
   {
    "duration": 10,
    "start_time": "2023-03-02T11:57:28.799Z"
   },
   {
    "duration": 11,
    "start_time": "2023-03-02T11:57:28.811Z"
   },
   {
    "duration": 244,
    "start_time": "2023-03-02T11:57:28.824Z"
   },
   {
    "duration": 56,
    "start_time": "2023-03-02T11:57:29.069Z"
   },
   {
    "duration": 17,
    "start_time": "2023-03-02T11:57:29.138Z"
   },
   {
    "duration": 3,
    "start_time": "2023-03-02T11:57:29.157Z"
   },
   {
    "duration": 80,
    "start_time": "2023-03-02T11:57:29.161Z"
   },
   {
    "duration": 104,
    "start_time": "2023-03-02T11:57:29.243Z"
   },
   {
    "duration": 27,
    "start_time": "2023-03-02T11:58:07.440Z"
   },
   {
    "duration": 1910,
    "start_time": "2023-03-02T11:58:56.066Z"
   },
   {
    "duration": 777,
    "start_time": "2023-03-02T11:58:57.979Z"
   },
   {
    "duration": 58,
    "start_time": "2023-03-02T11:58:58.759Z"
   },
   {
    "duration": 55,
    "start_time": "2023-03-02T11:58:58.822Z"
   },
   {
    "duration": 48,
    "start_time": "2023-03-02T11:58:58.879Z"
   },
   {
    "duration": 7,
    "start_time": "2023-03-02T11:58:58.929Z"
   },
   {
    "duration": 433,
    "start_time": "2023-03-02T11:58:58.938Z"
   },
   {
    "duration": 5,
    "start_time": "2023-03-02T11:58:59.374Z"
   },
   {
    "duration": 66,
    "start_time": "2023-03-02T11:58:59.381Z"
   },
   {
    "duration": 41,
    "start_time": "2023-03-02T11:58:59.451Z"
   },
   {
    "duration": 79,
    "start_time": "2023-03-02T11:58:59.495Z"
   },
   {
    "duration": 19,
    "start_time": "2023-03-02T11:58:59.577Z"
   },
   {
    "duration": 24,
    "start_time": "2023-03-02T11:58:59.599Z"
   },
   {
    "duration": 34,
    "start_time": "2023-03-02T11:58:59.626Z"
   },
   {
    "duration": 61,
    "start_time": "2023-03-02T11:58:59.662Z"
   },
   {
    "duration": 105,
    "start_time": "2023-03-02T11:58:59.725Z"
   },
   {
    "duration": 18,
    "start_time": "2023-03-02T11:58:59.832Z"
   },
   {
    "duration": 31,
    "start_time": "2023-03-02T11:58:59.852Z"
   },
   {
    "duration": 264,
    "start_time": "2023-03-02T11:58:59.885Z"
   },
   {
    "duration": 414,
    "start_time": "2023-03-02T11:59:00.151Z"
   },
   {
    "duration": 47,
    "start_time": "2023-03-02T11:59:00.568Z"
   },
   {
    "duration": 5,
    "start_time": "2023-03-02T11:59:00.616Z"
   },
   {
    "duration": 36,
    "start_time": "2023-03-02T11:59:00.636Z"
   },
   {
    "duration": 40,
    "start_time": "2023-03-02T11:59:00.675Z"
   },
   {
    "duration": 53,
    "start_time": "2023-03-02T11:59:00.718Z"
   },
   {
    "duration": 7910,
    "start_time": "2023-03-02T11:59:00.774Z"
   },
   {
    "duration": 1840,
    "start_time": "2023-03-02T11:59:08.687Z"
   },
   {
    "duration": 478,
    "start_time": "2023-03-02T11:59:10.537Z"
   },
   {
    "duration": 4,
    "start_time": "2023-03-02T11:59:11.017Z"
   },
   {
    "duration": 3436,
    "start_time": "2023-03-02T11:59:11.023Z"
   },
   {
    "duration": 781,
    "start_time": "2023-03-02T11:59:14.465Z"
   },
   {
    "duration": 1422,
    "start_time": "2023-03-02T12:00:00.982Z"
   },
   {
    "duration": 781,
    "start_time": "2023-03-02T12:00:02.406Z"
   },
   {
    "duration": 48,
    "start_time": "2023-03-02T12:00:03.189Z"
   },
   {
    "duration": 33,
    "start_time": "2023-03-02T12:00:03.240Z"
   },
   {
    "duration": 36,
    "start_time": "2023-03-02T12:00:03.274Z"
   },
   {
    "duration": 26,
    "start_time": "2023-03-02T12:00:03.312Z"
   },
   {
    "duration": 430,
    "start_time": "2023-03-02T12:00:03.341Z"
   },
   {
    "duration": 4,
    "start_time": "2023-03-02T12:00:03.773Z"
   },
   {
    "duration": 54,
    "start_time": "2023-03-02T12:00:03.779Z"
   },
   {
    "duration": 18,
    "start_time": "2023-03-02T12:00:03.838Z"
   },
   {
    "duration": 116,
    "start_time": "2023-03-02T12:00:03.859Z"
   },
   {
    "duration": 17,
    "start_time": "2023-03-02T12:00:03.978Z"
   },
   {
    "duration": 23,
    "start_time": "2023-03-02T12:00:03.997Z"
   },
   {
    "duration": 28,
    "start_time": "2023-03-02T12:00:04.022Z"
   },
   {
    "duration": 104,
    "start_time": "2023-03-02T12:00:04.052Z"
   },
   {
    "duration": 125,
    "start_time": "2023-03-02T12:00:04.159Z"
   },
   {
    "duration": 19,
    "start_time": "2023-03-02T12:00:04.286Z"
   },
   {
    "duration": 41,
    "start_time": "2023-03-02T12:00:04.307Z"
   },
   {
    "duration": 304,
    "start_time": "2023-03-02T12:00:04.353Z"
   },
   {
    "duration": 477,
    "start_time": "2023-03-02T12:00:04.660Z"
   },
   {
    "duration": 66,
    "start_time": "2023-03-02T12:00:05.140Z"
   },
   {
    "duration": 5,
    "start_time": "2023-03-02T12:00:05.209Z"
   },
   {
    "duration": 21,
    "start_time": "2023-03-02T12:00:05.237Z"
   },
   {
    "duration": 62,
    "start_time": "2023-03-02T12:00:05.261Z"
   },
   {
    "duration": 35,
    "start_time": "2023-03-02T12:00:05.327Z"
   },
   {
    "duration": 8158,
    "start_time": "2023-03-02T12:00:05.365Z"
   },
   {
    "duration": 1926,
    "start_time": "2023-03-02T12:00:13.526Z"
   },
   {
    "duration": 460,
    "start_time": "2023-03-02T12:00:15.456Z"
   },
   {
    "duration": 4,
    "start_time": "2023-03-02T12:00:15.918Z"
   },
   {
    "duration": 4013,
    "start_time": "2023-03-02T12:00:15.924Z"
   },
   {
    "duration": 704,
    "start_time": "2023-03-02T12:00:19.939Z"
   },
   {
    "duration": 1494,
    "start_time": "2023-03-02T12:00:36.952Z"
   },
   {
    "duration": 760,
    "start_time": "2023-03-02T12:00:38.450Z"
   },
   {
    "duration": 41,
    "start_time": "2023-03-02T12:00:39.212Z"
   },
   {
    "duration": 28,
    "start_time": "2023-03-02T12:00:39.255Z"
   },
   {
    "duration": 58,
    "start_time": "2023-03-02T12:00:39.285Z"
   },
   {
    "duration": 7,
    "start_time": "2023-03-02T12:00:39.345Z"
   },
   {
    "duration": 413,
    "start_time": "2023-03-02T12:00:39.354Z"
   },
   {
    "duration": 3,
    "start_time": "2023-03-02T12:00:39.769Z"
   },
   {
    "duration": 23,
    "start_time": "2023-03-02T12:00:39.773Z"
   },
   {
    "duration": 10,
    "start_time": "2023-03-02T12:00:39.798Z"
   },
   {
    "duration": 61,
    "start_time": "2023-03-02T12:00:39.810Z"
   },
   {
    "duration": 14,
    "start_time": "2023-03-02T12:00:39.873Z"
   },
   {
    "duration": 7,
    "start_time": "2023-03-02T12:00:39.889Z"
   },
   {
    "duration": 6,
    "start_time": "2023-03-02T12:00:39.898Z"
   },
   {
    "duration": 63,
    "start_time": "2023-03-02T12:00:39.906Z"
   },
   {
    "duration": 118,
    "start_time": "2023-03-02T12:00:39.971Z"
   },
   {
    "duration": 19,
    "start_time": "2023-03-02T12:00:40.091Z"
   },
   {
    "duration": 31,
    "start_time": "2023-03-02T12:00:40.112Z"
   },
   {
    "duration": 258,
    "start_time": "2023-03-02T12:00:40.145Z"
   },
   {
    "duration": 426,
    "start_time": "2023-03-02T12:00:40.405Z"
   },
   {
    "duration": 43,
    "start_time": "2023-03-02T12:00:40.836Z"
   },
   {
    "duration": 5,
    "start_time": "2023-03-02T12:00:40.881Z"
   },
   {
    "duration": 10,
    "start_time": "2023-03-02T12:00:40.887Z"
   },
   {
    "duration": 14,
    "start_time": "2023-03-02T12:00:40.899Z"
   },
   {
    "duration": 21,
    "start_time": "2023-03-02T12:00:40.915Z"
   },
   {
    "duration": 7883,
    "start_time": "2023-03-02T12:00:40.939Z"
   },
   {
    "duration": 1870,
    "start_time": "2023-03-02T12:00:48.824Z"
   },
   {
    "duration": 456,
    "start_time": "2023-03-02T12:00:50.698Z"
   },
   {
    "duration": 3,
    "start_time": "2023-03-02T12:00:51.156Z"
   },
   {
    "duration": 3593,
    "start_time": "2023-03-02T12:00:51.160Z"
   },
   {
    "duration": 1108,
    "start_time": "2023-03-02T12:00:54.755Z"
   },
   {
    "duration": 1522,
    "start_time": "2023-03-02T12:01:16.197Z"
   },
   {
    "duration": 812,
    "start_time": "2023-03-02T12:01:17.722Z"
   },
   {
    "duration": 49,
    "start_time": "2023-03-02T12:01:18.536Z"
   },
   {
    "duration": 54,
    "start_time": "2023-03-02T12:01:18.587Z"
   },
   {
    "duration": 39,
    "start_time": "2023-03-02T12:01:18.644Z"
   },
   {
    "duration": 5,
    "start_time": "2023-03-02T12:01:18.686Z"
   },
   {
    "duration": 423,
    "start_time": "2023-03-02T12:01:18.693Z"
   },
   {
    "duration": 4,
    "start_time": "2023-03-02T12:01:19.118Z"
   },
   {
    "duration": 28,
    "start_time": "2023-03-02T12:01:19.124Z"
   },
   {
    "duration": 13,
    "start_time": "2023-03-02T12:01:19.155Z"
   },
   {
    "duration": 50,
    "start_time": "2023-03-02T12:01:19.170Z"
   },
   {
    "duration": 29,
    "start_time": "2023-03-02T12:01:19.222Z"
   },
   {
    "duration": 13,
    "start_time": "2023-03-02T12:01:19.254Z"
   },
   {
    "duration": 7,
    "start_time": "2023-03-02T12:01:19.271Z"
   },
   {
    "duration": 64,
    "start_time": "2023-03-02T12:01:19.280Z"
   },
   {
    "duration": 130,
    "start_time": "2023-03-02T12:01:19.347Z"
   },
   {
    "duration": 16,
    "start_time": "2023-03-02T12:01:19.479Z"
   },
   {
    "duration": 9,
    "start_time": "2023-03-02T12:01:19.496Z"
   },
   {
    "duration": 274,
    "start_time": "2023-03-02T12:01:19.506Z"
   },
   {
    "duration": 407,
    "start_time": "2023-03-02T12:01:19.783Z"
   },
   {
    "duration": 46,
    "start_time": "2023-03-02T12:01:20.192Z"
   },
   {
    "duration": 4,
    "start_time": "2023-03-02T12:01:20.240Z"
   },
   {
    "duration": 15,
    "start_time": "2023-03-02T12:01:20.246Z"
   },
   {
    "duration": 18,
    "start_time": "2023-03-02T12:01:20.263Z"
   },
   {
    "duration": 37,
    "start_time": "2023-03-02T12:01:20.283Z"
   },
   {
    "duration": 7791,
    "start_time": "2023-03-02T12:01:20.322Z"
   },
   {
    "duration": 1873,
    "start_time": "2023-03-02T12:01:28.115Z"
   },
   {
    "duration": 475,
    "start_time": "2023-03-02T12:01:29.990Z"
   },
   {
    "duration": 3,
    "start_time": "2023-03-02T12:01:30.467Z"
   },
   {
    "duration": 3675,
    "start_time": "2023-03-02T12:01:30.471Z"
   },
   {
    "duration": 1008,
    "start_time": "2023-03-02T12:01:34.148Z"
   },
   {
    "duration": 1363,
    "start_time": "2023-03-02T12:20:20.083Z"
   },
   {
    "duration": 695,
    "start_time": "2023-03-02T12:20:21.448Z"
   },
   {
    "duration": 35,
    "start_time": "2023-03-02T12:20:22.145Z"
   },
   {
    "duration": 30,
    "start_time": "2023-03-02T12:20:22.182Z"
   },
   {
    "duration": 35,
    "start_time": "2023-03-02T12:20:22.236Z"
   },
   {
    "duration": 5,
    "start_time": "2023-03-02T12:20:22.272Z"
   },
   {
    "duration": 378,
    "start_time": "2023-03-02T12:20:22.279Z"
   },
   {
    "duration": 4,
    "start_time": "2023-03-02T12:20:22.658Z"
   },
   {
    "duration": 21,
    "start_time": "2023-03-02T12:20:22.664Z"
   },
   {
    "duration": 7,
    "start_time": "2023-03-02T12:20:22.687Z"
   },
   {
    "duration": 51,
    "start_time": "2023-03-02T12:20:22.696Z"
   },
   {
    "duration": 20,
    "start_time": "2023-03-02T12:20:22.749Z"
   },
   {
    "duration": 8,
    "start_time": "2023-03-02T12:20:22.771Z"
   },
   {
    "duration": 6,
    "start_time": "2023-03-02T12:20:22.784Z"
   },
   {
    "duration": 59,
    "start_time": "2023-03-02T12:20:22.792Z"
   },
   {
    "duration": 109,
    "start_time": "2023-03-02T12:20:22.853Z"
   },
   {
    "duration": 16,
    "start_time": "2023-03-02T12:20:22.964Z"
   },
   {
    "duration": 10,
    "start_time": "2023-03-02T12:20:22.981Z"
   },
   {
    "duration": 254,
    "start_time": "2023-03-02T12:20:22.993Z"
   },
   {
    "duration": 399,
    "start_time": "2023-03-02T12:20:23.249Z"
   },
   {
    "duration": 41,
    "start_time": "2023-03-02T12:20:23.650Z"
   },
   {
    "duration": 3,
    "start_time": "2023-03-02T12:20:23.693Z"
   },
   {
    "duration": 5,
    "start_time": "2023-03-02T12:20:23.698Z"
   },
   {
    "duration": 33,
    "start_time": "2023-03-02T12:20:23.705Z"
   },
   {
    "duration": 13,
    "start_time": "2023-03-02T12:20:23.740Z"
   },
   {
    "duration": 7590,
    "start_time": "2023-03-02T12:20:23.755Z"
   },
   {
    "duration": 1880,
    "start_time": "2023-03-02T12:20:31.347Z"
   },
   {
    "duration": 7,
    "start_time": "2023-03-02T12:20:33.229Z"
   },
   {
    "duration": 2907,
    "start_time": "2023-03-02T12:20:33.238Z"
   },
   {
    "duration": 621,
    "start_time": "2023-03-02T12:20:36.147Z"
   },
   {
    "duration": 1403,
    "start_time": "2023-03-02T12:21:35.628Z"
   },
   {
    "duration": 679,
    "start_time": "2023-03-02T12:21:37.033Z"
   },
   {
    "duration": 42,
    "start_time": "2023-03-02T12:21:37.713Z"
   },
   {
    "duration": 28,
    "start_time": "2023-03-02T12:21:37.757Z"
   },
   {
    "duration": 29,
    "start_time": "2023-03-02T12:21:37.787Z"
   },
   {
    "duration": 21,
    "start_time": "2023-03-02T12:21:37.817Z"
   },
   {
    "duration": 374,
    "start_time": "2023-03-02T12:21:37.840Z"
   },
   {
    "duration": 4,
    "start_time": "2023-03-02T12:21:38.215Z"
   },
   {
    "duration": 31,
    "start_time": "2023-03-02T12:21:38.220Z"
   },
   {
    "duration": 7,
    "start_time": "2023-03-02T12:21:38.254Z"
   },
   {
    "duration": 30,
    "start_time": "2023-03-02T12:21:38.263Z"
   },
   {
    "duration": 17,
    "start_time": "2023-03-02T12:21:38.295Z"
   },
   {
    "duration": 32,
    "start_time": "2023-03-02T12:21:38.314Z"
   },
   {
    "duration": 8,
    "start_time": "2023-03-02T12:21:38.348Z"
   },
   {
    "duration": 61,
    "start_time": "2023-03-02T12:21:38.358Z"
   },
   {
    "duration": 140,
    "start_time": "2023-03-02T12:21:38.422Z"
   },
   {
    "duration": 16,
    "start_time": "2023-03-02T12:21:38.564Z"
   },
   {
    "duration": 13,
    "start_time": "2023-03-02T12:21:38.581Z"
   },
   {
    "duration": 281,
    "start_time": "2023-03-02T12:21:38.595Z"
   },
   {
    "duration": 410,
    "start_time": "2023-03-02T12:21:38.877Z"
   },
   {
    "duration": 51,
    "start_time": "2023-03-02T12:21:39.289Z"
   },
   {
    "duration": 4,
    "start_time": "2023-03-02T12:21:39.342Z"
   },
   {
    "duration": 9,
    "start_time": "2023-03-02T12:21:39.347Z"
   },
   {
    "duration": 18,
    "start_time": "2023-03-02T12:21:39.358Z"
   },
   {
    "duration": 12,
    "start_time": "2023-03-02T12:21:39.378Z"
   },
   {
    "duration": 7797,
    "start_time": "2023-03-02T12:21:39.392Z"
   },
   {
    "duration": 2858,
    "start_time": "2023-03-02T12:21:47.191Z"
   },
   {
    "duration": 3,
    "start_time": "2023-03-02T12:21:50.052Z"
   },
   {
    "duration": 3490,
    "start_time": "2023-03-02T12:21:50.057Z"
   },
   {
    "duration": 853,
    "start_time": "2023-03-02T12:21:53.550Z"
   },
   {
    "duration": 1643,
    "start_time": "2023-03-02T12:25:06.082Z"
   },
   {
    "duration": 746,
    "start_time": "2023-03-02T12:25:07.727Z"
   },
   {
    "duration": 45,
    "start_time": "2023-03-02T12:25:08.476Z"
   },
   {
    "duration": 42,
    "start_time": "2023-03-02T12:25:08.543Z"
   },
   {
    "duration": 52,
    "start_time": "2023-03-02T12:25:08.587Z"
   },
   {
    "duration": 6,
    "start_time": "2023-03-02T12:25:08.641Z"
   },
   {
    "duration": 437,
    "start_time": "2023-03-02T12:25:08.649Z"
   },
   {
    "duration": 4,
    "start_time": "2023-03-02T12:25:09.088Z"
   },
   {
    "duration": 43,
    "start_time": "2023-03-02T12:25:09.094Z"
   },
   {
    "duration": 17,
    "start_time": "2023-03-02T12:25:09.140Z"
   },
   {
    "duration": 75,
    "start_time": "2023-03-02T12:25:09.159Z"
   },
   {
    "duration": 31,
    "start_time": "2023-03-02T12:25:09.236Z"
   },
   {
    "duration": 12,
    "start_time": "2023-03-02T12:25:09.269Z"
   },
   {
    "duration": 39,
    "start_time": "2023-03-02T12:25:09.285Z"
   },
   {
    "duration": 79,
    "start_time": "2023-03-02T12:25:09.326Z"
   },
   {
    "duration": 106,
    "start_time": "2023-03-02T12:25:09.407Z"
   },
   {
    "duration": 28,
    "start_time": "2023-03-02T12:25:09.515Z"
   },
   {
    "duration": 16,
    "start_time": "2023-03-02T12:25:09.545Z"
   },
   {
    "duration": 300,
    "start_time": "2023-03-02T12:25:09.562Z"
   },
   {
    "duration": 439,
    "start_time": "2023-03-02T12:25:09.865Z"
   },
   {
    "duration": 51,
    "start_time": "2023-03-02T12:25:10.306Z"
   },
   {
    "duration": 4,
    "start_time": "2023-03-02T12:25:10.359Z"
   },
   {
    "duration": 28,
    "start_time": "2023-03-02T12:25:10.364Z"
   },
   {
    "duration": 42,
    "start_time": "2023-03-02T12:25:10.394Z"
   },
   {
    "duration": 32,
    "start_time": "2023-03-02T12:25:10.438Z"
   },
   {
    "duration": 7718,
    "start_time": "2023-03-02T12:25:10.471Z"
   },
   {
    "duration": 7434,
    "start_time": "2023-03-02T12:25:18.190Z"
   },
   {
    "duration": 2854,
    "start_time": "2023-03-02T12:25:25.626Z"
   },
   {
    "duration": 3,
    "start_time": "2023-03-02T12:25:28.482Z"
   },
   {
    "duration": 3255,
    "start_time": "2023-03-02T12:25:28.486Z"
   },
   {
    "duration": 828,
    "start_time": "2023-03-02T12:25:31.743Z"
   },
   {
    "duration": 1463,
    "start_time": "2023-03-02T12:26:25.203Z"
   },
   {
    "duration": 704,
    "start_time": "2023-03-02T12:26:26.668Z"
   },
   {
    "duration": 36,
    "start_time": "2023-03-02T12:26:27.374Z"
   },
   {
    "duration": 48,
    "start_time": "2023-03-02T12:26:27.413Z"
   },
   {
    "duration": 32,
    "start_time": "2023-03-02T12:26:27.463Z"
   },
   {
    "duration": 9,
    "start_time": "2023-03-02T12:26:27.497Z"
   },
   {
    "duration": 392,
    "start_time": "2023-03-02T12:26:27.508Z"
   },
   {
    "duration": 4,
    "start_time": "2023-03-02T12:26:27.903Z"
   },
   {
    "duration": 33,
    "start_time": "2023-03-02T12:26:27.908Z"
   },
   {
    "duration": 11,
    "start_time": "2023-03-02T12:26:27.944Z"
   },
   {
    "duration": 39,
    "start_time": "2023-03-02T12:26:27.956Z"
   },
   {
    "duration": 15,
    "start_time": "2023-03-02T12:26:27.997Z"
   },
   {
    "duration": 32,
    "start_time": "2023-03-02T12:26:28.013Z"
   },
   {
    "duration": 7,
    "start_time": "2023-03-02T12:26:28.047Z"
   },
   {
    "duration": 33,
    "start_time": "2023-03-02T12:26:28.055Z"
   },
   {
    "duration": 123,
    "start_time": "2023-03-02T12:26:28.091Z"
   },
   {
    "duration": 27,
    "start_time": "2023-03-02T12:26:28.216Z"
   },
   {
    "duration": 9,
    "start_time": "2023-03-02T12:26:28.245Z"
   },
   {
    "duration": 327,
    "start_time": "2023-03-02T12:26:28.255Z"
   },
   {
    "duration": 399,
    "start_time": "2023-03-02T12:26:28.584Z"
   },
   {
    "duration": 38,
    "start_time": "2023-03-02T12:26:28.986Z"
   },
   {
    "duration": 4,
    "start_time": "2023-03-02T12:26:29.036Z"
   },
   {
    "duration": 9,
    "start_time": "2023-03-02T12:26:29.042Z"
   },
   {
    "duration": 14,
    "start_time": "2023-03-02T12:26:29.052Z"
   },
   {
    "duration": 12,
    "start_time": "2023-03-02T12:26:29.067Z"
   },
   {
    "duration": 7673,
    "start_time": "2023-03-02T12:26:29.080Z"
   },
   {
    "duration": 7471,
    "start_time": "2023-03-02T12:26:36.755Z"
   },
   {
    "duration": 2826,
    "start_time": "2023-03-02T12:26:44.236Z"
   },
   {
    "duration": 3173,
    "start_time": "2023-03-02T12:26:47.063Z"
   },
   {
    "duration": 817,
    "start_time": "2023-03-02T12:26:50.239Z"
   },
   {
    "duration": 1317,
    "start_time": "2023-03-12T16:50:36.901Z"
   },
   {
    "duration": 2106,
    "start_time": "2023-03-12T16:50:38.220Z"
   },
   {
    "duration": 35,
    "start_time": "2023-03-12T16:50:40.327Z"
   },
   {
    "duration": 32,
    "start_time": "2023-03-12T16:50:40.364Z"
   },
   {
    "duration": 27,
    "start_time": "2023-03-12T16:50:40.398Z"
   },
   {
    "duration": 17,
    "start_time": "2023-03-12T16:50:40.426Z"
   },
   {
    "duration": 354,
    "start_time": "2023-03-12T16:50:40.444Z"
   },
   {
    "duration": 4,
    "start_time": "2023-03-12T16:50:40.800Z"
   },
   {
    "duration": 18,
    "start_time": "2023-03-12T16:50:40.805Z"
   },
   {
    "duration": 17,
    "start_time": "2023-03-12T16:50:40.825Z"
   },
   {
    "duration": 33,
    "start_time": "2023-03-12T16:50:40.844Z"
   },
   {
    "duration": 16,
    "start_time": "2023-03-12T16:50:40.879Z"
   },
   {
    "duration": 6,
    "start_time": "2023-03-12T16:50:40.897Z"
   },
   {
    "duration": 8,
    "start_time": "2023-03-12T16:50:40.906Z"
   },
   {
    "duration": 56,
    "start_time": "2023-03-12T16:50:40.915Z"
   },
   {
    "duration": 109,
    "start_time": "2023-03-12T16:50:40.972Z"
   },
   {
    "duration": 14,
    "start_time": "2023-03-12T16:50:41.083Z"
   },
   {
    "duration": 9,
    "start_time": "2023-03-12T16:50:41.099Z"
   },
   {
    "duration": 277,
    "start_time": "2023-03-12T16:50:41.110Z"
   },
   {
    "duration": 368,
    "start_time": "2023-03-12T16:50:41.389Z"
   },
   {
    "duration": 33,
    "start_time": "2023-03-12T16:50:41.759Z"
   },
   {
    "duration": 3,
    "start_time": "2023-03-12T16:50:41.793Z"
   },
   {
    "duration": 10,
    "start_time": "2023-03-12T16:50:41.798Z"
   },
   {
    "duration": 10,
    "start_time": "2023-03-12T16:50:41.809Z"
   },
   {
    "duration": 6,
    "start_time": "2023-03-12T16:50:41.820Z"
   },
   {
    "duration": 898,
    "start_time": "2023-03-12T16:50:41.843Z"
   },
   {
    "duration": 719,
    "start_time": "2023-03-12T16:50:42.743Z"
   },
   {
    "duration": 286,
    "start_time": "2023-03-12T16:50:43.464Z"
   },
   {
    "duration": 2695,
    "start_time": "2023-03-12T16:50:43.753Z"
   },
   {
    "duration": 178,
    "start_time": "2023-03-12T16:50:46.452Z"
   }
  ],
  "kernelspec": {
   "display_name": "Python 3 (ipykernel)",
   "language": "python",
   "name": "python3"
  },
  "language_info": {
   "codemirror_mode": {
    "name": "ipython",
    "version": 3
   },
   "file_extension": ".py",
   "mimetype": "text/x-python",
   "name": "python",
   "nbconvert_exporter": "python",
   "pygments_lexer": "ipython3",
   "version": "3.9.13"
  },
  "toc": {
   "base_numbering": 1,
   "nav_menu": {},
   "number_sections": true,
   "sideBar": true,
   "skip_h1_title": true,
   "title_cell": "Содержание",
   "title_sidebar": "Contents",
   "toc_cell": true,
   "toc_position": {},
   "toc_section_display": true,
   "toc_window_display": true
  }
 },
 "nbformat": 4,
 "nbformat_minor": 2
}
