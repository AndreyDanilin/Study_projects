{
 "cells": [
  {
   "cell_type": "markdown",
   "id": "f4f9e734",
   "metadata": {},
   "source": [
    "# Машинное обучение для текста с помощью BERT"
   ]
  },
  {
   "cell_type": "markdown",
   "id": "bf11afbe",
   "metadata": {},
   "source": [
    "Интернет-магазин «Викишоп» запускает новый сервис. Теперь пользователи могут редактировать и дополнять описания товаров, как в вики-сообществах. То есть клиенты предлагают свои правки и комментируют изменения других. Магазину нужен инструмент, который будет искать токсичные комментарии и отправлять их на модерацию. "
   ]
  },
  {
   "cell_type": "markdown",
   "id": "0ebab9e6",
   "metadata": {},
   "source": [
    "## Предварительный осмотр"
   ]
  },
  {
   "cell_type": "code",
   "execution_count": 1,
   "id": "a0f463fd",
   "metadata": {},
   "outputs": [],
   "source": [
    "#Импорт необходимых библиотек и компонентов\n",
    "import pandas as pd\n",
    "\n",
    "import torch\n",
    "\n",
    "import transformers\n",
    "\n",
    "import numpy as np\n",
    "\n",
    "from tqdm import notebook\n",
    "\n",
    "from sklearn.model_selection import train_test_split, GridSearchCV, cross_val_score\n",
    "\n",
    "from sklearn.metrics import f1_score\n",
    "\n",
    "from sklearn.tree import DecisionTreeClassifier\n",
    "\n",
    "from sklearn.linear_model import LogisticRegression\n",
    "\n",
    "from sklearn.ensemble import RandomForestClassifier\n",
    "\n",
    "from sklearn.dummy import DummyClassifier\n",
    "\n",
    "from math import sqrt\n",
    "\n",
    "from sklearn.utils import shuffle\n",
    "\n",
    "from catboost import CatBoostClassifier, Pool"
   ]
  },
  {
   "cell_type": "code",
   "execution_count": 2,
   "id": "2316adea",
   "metadata": {},
   "outputs": [],
   "source": [
    "df = pd.read_csv('C:/Users/andre/Downloads/toxic_comments.csv')"
   ]
  },
  {
   "cell_type": "code",
   "execution_count": 3,
   "id": "614294f0",
   "metadata": {},
   "outputs": [
    {
     "data": {
      "text/html": [
       "<div>\n",
       "<style scoped>\n",
       "    .dataframe tbody tr th:only-of-type {\n",
       "        vertical-align: middle;\n",
       "    }\n",
       "\n",
       "    .dataframe tbody tr th {\n",
       "        vertical-align: top;\n",
       "    }\n",
       "\n",
       "    .dataframe thead th {\n",
       "        text-align: right;\n",
       "    }\n",
       "</style>\n",
       "<table border=\"1\" class=\"dataframe\">\n",
       "  <thead>\n",
       "    <tr style=\"text-align: right;\">\n",
       "      <th></th>\n",
       "      <th>Unnamed: 0</th>\n",
       "      <th>text</th>\n",
       "      <th>toxic</th>\n",
       "    </tr>\n",
       "  </thead>\n",
       "  <tbody>\n",
       "    <tr>\n",
       "      <th>0</th>\n",
       "      <td>0</td>\n",
       "      <td>Explanation\\nWhy the edits made under my usern...</td>\n",
       "      <td>0</td>\n",
       "    </tr>\n",
       "    <tr>\n",
       "      <th>1</th>\n",
       "      <td>1</td>\n",
       "      <td>D'aww! He matches this background colour I'm s...</td>\n",
       "      <td>0</td>\n",
       "    </tr>\n",
       "    <tr>\n",
       "      <th>2</th>\n",
       "      <td>2</td>\n",
       "      <td>Hey man, I'm really not trying to edit war. It...</td>\n",
       "      <td>0</td>\n",
       "    </tr>\n",
       "    <tr>\n",
       "      <th>3</th>\n",
       "      <td>3</td>\n",
       "      <td>\"\\nMore\\nI can't make any real suggestions on ...</td>\n",
       "      <td>0</td>\n",
       "    </tr>\n",
       "    <tr>\n",
       "      <th>4</th>\n",
       "      <td>4</td>\n",
       "      <td>You, sir, are my hero. Any chance you remember...</td>\n",
       "      <td>0</td>\n",
       "    </tr>\n",
       "    <tr>\n",
       "      <th>...</th>\n",
       "      <td>...</td>\n",
       "      <td>...</td>\n",
       "      <td>...</td>\n",
       "    </tr>\n",
       "    <tr>\n",
       "      <th>159287</th>\n",
       "      <td>159446</td>\n",
       "      <td>\":::::And for the second time of asking, when ...</td>\n",
       "      <td>0</td>\n",
       "    </tr>\n",
       "    <tr>\n",
       "      <th>159288</th>\n",
       "      <td>159447</td>\n",
       "      <td>You should be ashamed of yourself \\n\\nThat is ...</td>\n",
       "      <td>0</td>\n",
       "    </tr>\n",
       "    <tr>\n",
       "      <th>159289</th>\n",
       "      <td>159448</td>\n",
       "      <td>Spitzer \\n\\nUmm, theres no actual article for ...</td>\n",
       "      <td>0</td>\n",
       "    </tr>\n",
       "    <tr>\n",
       "      <th>159290</th>\n",
       "      <td>159449</td>\n",
       "      <td>And it looks like it was actually you who put ...</td>\n",
       "      <td>0</td>\n",
       "    </tr>\n",
       "    <tr>\n",
       "      <th>159291</th>\n",
       "      <td>159450</td>\n",
       "      <td>\"\\nAnd ... I really don't think you understand...</td>\n",
       "      <td>0</td>\n",
       "    </tr>\n",
       "  </tbody>\n",
       "</table>\n",
       "<p>159292 rows × 3 columns</p>\n",
       "</div>"
      ],
      "text/plain": [
       "        Unnamed: 0                                               text  toxic\n",
       "0                0  Explanation\\nWhy the edits made under my usern...      0\n",
       "1                1  D'aww! He matches this background colour I'm s...      0\n",
       "2                2  Hey man, I'm really not trying to edit war. It...      0\n",
       "3                3  \"\\nMore\\nI can't make any real suggestions on ...      0\n",
       "4                4  You, sir, are my hero. Any chance you remember...      0\n",
       "...            ...                                                ...    ...\n",
       "159287      159446  \":::::And for the second time of asking, when ...      0\n",
       "159288      159447  You should be ashamed of yourself \\n\\nThat is ...      0\n",
       "159289      159448  Spitzer \\n\\nUmm, theres no actual article for ...      0\n",
       "159290      159449  And it looks like it was actually you who put ...      0\n",
       "159291      159450  \"\\nAnd ... I really don't think you understand...      0\n",
       "\n",
       "[159292 rows x 3 columns]"
      ]
     },
     "execution_count": 3,
     "metadata": {},
     "output_type": "execute_result"
    }
   ],
   "source": [
    "df"
   ]
  },
  {
   "cell_type": "markdown",
   "id": "f4f1b42b",
   "metadata": {},
   "source": [
    "Обнаружен лишний столбец, скорей всего он содержит старые индексы массива, которые он имел до некой процедуры предобработки"
   ]
  },
  {
   "cell_type": "code",
   "execution_count": 4,
   "id": "abea66a5",
   "metadata": {},
   "outputs": [],
   "source": [
    "#Удаляю лишний столбец\n",
    "df = df.drop(['Unnamed: 0'],axis = 1)"
   ]
  },
  {
   "cell_type": "code",
   "execution_count": 5,
   "id": "d8e5a763",
   "metadata": {},
   "outputs": [
    {
     "data": {
      "text/plain": [
       "array([[<AxesSubplot:title={'center':'toxic'}>]], dtype=object)"
      ]
     },
     "execution_count": 5,
     "metadata": {},
     "output_type": "execute_result"
    },
    {
     "data": {
      "image/png": "[encoded data removed]",
      "text/plain": [
       "<Figure size 640x480 with 1 Axes>"
      ]
     },
     "metadata": {},
     "output_type": "display_data"
    }
   ],
   "source": [
    "#Изучаю распределение\n",
    "df.hist()"
   ]
  },
  {
   "cell_type": "code",
   "execution_count": 6,
   "id": "4afab2d7",
   "metadata": {},
   "outputs": [
    {
     "name": "stdout",
     "output_type": "stream",
     "text": [
      "0\n",
      "text     0\n",
      "toxic    0\n",
      "dtype: int64\n"
     ]
    }
   ],
   "source": [
    "#Ищу пропуски и дубликаты\n",
    "print(df.duplicated().sum())\n",
    "print(df.isna().sum())"
   ]
  },
  {
   "cell_type": "markdown",
   "id": "3fbaa28f",
   "metadata": {},
   "source": [
    "Результаты первичного осмотра:\n",
    "\n",
    "1)Слишком много строк для работы с BERT, их кодировка займет слишком много времени\n",
    "\n",
    "2)Распределение целевого признака сильно смещено в сторону отрицательного значения, это испортит процесс предсказания\n",
    "\n",
    "Для того чтобы решить эти две проблеммы я применю процедуру downsampling"
   ]
  },
  {
   "cell_type": "markdown",
   "id": "fb3a666a",
   "metadata": {},
   "source": [
    "## Предобработка"
   ]
  },
  {
   "cell_type": "code",
   "execution_count": 7,
   "id": "848e18aa",
   "metadata": {},
   "outputs": [],
   "source": [
    "#Сокращаю массив, тк он всё равно слишком большой\n",
    "df = df[0:2000]"
   ]
  },
  {
   "cell_type": "markdown",
   "id": "f58bfb25",
   "metadata": {},
   "source": [
    "<div class=\"alert alert-info\"> Отредактировал, теперь функция применяется позже"
   ]
  },
  {
   "cell_type": "code",
   "execution_count": 8,
   "id": "e3118971",
   "metadata": {},
   "outputs": [
    {
     "name": "stderr",
     "output_type": "stream",
     "text": [
      "Some weights of the model checkpoint at unitary/toxic-bert were not used when initializing BertModel: ['classifier.bias', 'classifier.weight']\n",
      "- This IS expected if you are initializing BertModel from the checkpoint of a model trained on another task or with another architecture (e.g. initializing a BertForSequenceClassification model from a BertForPreTraining model).\n",
      "- This IS NOT expected if you are initializing BertModel from the checkpoint of a model that you expect to be exactly identical (initializing a BertForSequenceClassification model from a BertForSequenceClassification model).\n"
     ]
    }
   ],
   "source": [
    "model = transformers.AutoModel.from_pretrained('unitary/toxic-bert')\n",
    "tokenizer = transformers.AutoTokenizer.from_pretrained('unitary/toxic-bert')"
   ]
  },
  {
   "cell_type": "code",
   "execution_count": 9,
   "id": "ea94c664",
   "metadata": {},
   "outputs": [],
   "source": [
    "tokenized = df['text'].apply(\n",
    "    lambda x: tokenizer.encode(x, add_special_tokens=True, max_length=512, truncation=True))"
   ]
  },
  {
   "cell_type": "code",
   "execution_count": 10,
   "id": "f06c1bc4",
   "metadata": {},
   "outputs": [],
   "source": [
    "max_len = 0\n",
    "for i in tokenized.values:\n",
    "    if len(i) > max_len:\n",
    "        max_len = len(i)\n",
    "\n",
    "padded = np.array([i + [0]*(max_len - len(i)) for i in tokenized.values])\n",
    "\n",
    "attention_mask = np.where(padded != 0, 1, 0)"
   ]
  },
  {
   "cell_type": "code",
   "execution_count": 11,
   "id": "2046fd4b",
   "metadata": {},
   "outputs": [],
   "source": [
    "config = transformers.BertConfig.from_json_file(\n",
    "    'C:/Users/andre/Downloads/RuBert/bert_config.json')"
   ]
  },
  {
   "cell_type": "code",
   "execution_count": 12,
   "id": "f593f4ae",
   "metadata": {},
   "outputs": [
    {
     "data": {
      "application/vnd.jupyter.widget-view+json": {
       "model_id": "d6cafadc65ea46e2a7d4cbdc23bd4c6c",
       "version_major": 2,
       "version_minor": 0
      },
      "text/plain": [
       "  0%|          | 0/20 [00:00<?, ?it/s]"
      ]
     },
     "metadata": {},
     "output_type": "display_data"
    }
   ],
   "source": [
    "batch_size = 100\n",
    "embeddings = []\n",
    "for i in notebook.tqdm(range(padded.shape[0] // batch_size)):\n",
    "        batch = torch.LongTensor(padded[batch_size*i:batch_size*(i+1)]) \n",
    "        attention_mask_batch = torch.LongTensor(attention_mask[batch_size*i:batch_size*(i+1)])\n",
    "        \n",
    "        with torch.no_grad():\n",
    "            batch_embeddings = model(batch, attention_mask=attention_mask_batch)\n",
    "        \n",
    "        embeddings.append(batch_embeddings[0][:,0,:].numpy())"
   ]
  },
  {
   "cell_type": "code",
   "execution_count": 13,
   "id": "a682c10d",
   "metadata": {},
   "outputs": [],
   "source": [
    "df_bert = np.concatenate(embeddings)"
   ]
  },
  {
   "cell_type": "code",
   "execution_count": 14,
   "id": "a408039c",
   "metadata": {},
   "outputs": [],
   "source": [
    "df_bert = pd.DataFrame(data=df_bert)\n",
    "df_bert['toxic'] = df['toxic'] "
   ]
  },
  {
   "cell_type": "code",
   "execution_count": 15,
   "id": "b5a7b3fd",
   "metadata": {},
   "outputs": [],
   "source": [
    "train, test = train_test_split(df_bert, test_size = 0.25, random_state = 12345)"
   ]
  },
  {
   "cell_type": "code",
   "execution_count": 16,
   "id": "21e72783",
   "metadata": {},
   "outputs": [],
   "source": [
    "train_features = train.drop(['toxic'], axis = 1).reset_index(drop=True)\n",
    "train_target = train['toxic'].reset_index(drop=True)\n",
    "test_features = test.drop(['toxic'], axis = 1).reset_index(drop=True)\n",
    "test_target = test['toxic'].reset_index(drop=True)"
   ]
  },
  {
   "cell_type": "code",
   "execution_count": 17,
   "id": "a96e98b0",
   "metadata": {},
   "outputs": [],
   "source": [
    "def downsample(features, target, fraction):\n",
    "    features_zeros = features[target == 0]\n",
    "    features_ones = features[target == 1]\n",
    "    target_zeros = target[target == 0]\n",
    "    target_ones = target[target == 1]\n",
    "    features_downsampled = pd.concat(\n",
    "    [features_zeros.sample(frac=fraction, random_state=12345)] + [features_ones])\n",
    "    target_downsampled = pd.concat(\n",
    "    [target_zeros.sample(frac=fraction, random_state=12345)] + [target_ones])\n",
    "    features_downsampled, target_downsampled = shuffle(\n",
    "    features_downsampled, target_downsampled, random_state=12345)\n",
    "    return features_downsampled, target_downsampled\n",
    "                                              "
   ]
  },
  {
   "cell_type": "code",
   "execution_count": 18,
   "id": "fca3b181",
   "metadata": {},
   "outputs": [],
   "source": [
    "train_features, train_target = downsample(train_features, train_target, 0.1)"
   ]
  },
  {
   "cell_type": "markdown",
   "id": "b8855d41",
   "metadata": {},
   "source": [
    "## Тест моделей"
   ]
  },
  {
   "cell_type": "code",
   "execution_count": 19,
   "id": "e66cc562",
   "metadata": {},
   "outputs": [
    {
     "name": "stdout",
     "output_type": "stream",
     "text": [
      "Лучшие гиперпараметры это: {'max_depth': None, 'n_estimators': 300}\n",
      "Лучший результат - 0.9876893939393939\n"
     ]
    }
   ],
   "source": [
    "#Тестирую лес\n",
    "forest_grid_space = {'n_estimators': [300, 500], 'max_depth': [None, 1, 2]}\n",
    "model = RandomForestClassifier(random_state = 12345)\n",
    "forest_grid = GridSearchCV(model,param_grid=forest_grid_space, scoring = 'f1', n_jobs=-1)\n",
    "model_grid = forest_grid.fit(train_features, train_target)\n",
    "print('Лучшие гиперпараметры это: '+str(model_grid.best_params_))\n",
    "print('Лучший результат - '+str(model_grid.best_score_))"
   ]
  },
  {
   "cell_type": "code",
   "execution_count": 20,
   "id": "51855ca5",
   "metadata": {},
   "outputs": [
    {
     "name": "stdout",
     "output_type": "stream",
     "text": [
      "Лучшие гиперпараметры это: {'max_depth': 1, 'min_samples_leaf': 1, 'min_weight_fraction_leaf': 0.2, 'splitter': 'best'}\n",
      "Лучший результат - 0.9842214640198511\n"
     ]
    }
   ],
   "source": [
    "#Тестирую древо\n",
    "tree_grid_space ={\"splitter\":[\"best\",\"random\"],\n",
    "            \"max_depth\" : [1,3,5,7,9,11],\n",
    "           \"min_samples_leaf\":[1,2,3,4,5,6],\n",
    "           \"min_weight_fraction_leaf\":[0.2,0.3,0.4]}\n",
    "model = DecisionTreeClassifier(random_state = 12345)\n",
    "tree_grid = GridSearchCV(model,param_grid=tree_grid_space,scoring='f1')\n",
    "model_grid = tree_grid.fit(train_features, train_target)\n",
    "print('Лучшие гиперпараметры это: '+str(model_grid.best_params_))\n",
    "print('Лучший результат - '+str(model_grid.best_score_))"
   ]
  },
  {
   "cell_type": "code",
   "execution_count": 21,
   "id": "16e78814",
   "metadata": {},
   "outputs": [
    {
     "name": "stdout",
     "output_type": "stream",
     "text": [
      "Лучшие гиперпараметры это: {'C': 1, 'max_iter': 100, 'penalty': 'l2'}\n",
      "Лучший результат - 0.9905738705738706\n"
     ]
    },
    {
     "name": "stderr",
     "output_type": "stream",
     "text": [
      "C:\\Users\\andre\\anaconda3\\envs\\ds_practicum_env\\lib\\site-packages\\sklearn\\model_selection\\_search.py:918: UserWarning: One or more of the test scores are non-finite: [       nan 0.99057387        nan 0.99057387        nan 0.99057387\n",
      "        nan 0.99057387        nan 0.99057387        nan 0.99057387\n",
      "        nan 0.99057387        nan 0.99057387        nan 0.99057387\n",
      "        nan 0.99057387        nan 0.99057387        nan 0.99057387]\n",
      "  warnings.warn(\n"
     ]
    }
   ],
   "source": [
    "#Тестирую лин.регрессию\n",
    "log_grid_space ={'penalty':['l1','l2'], \n",
    "              'C':[1, 10, 100, 1000],\n",
    "                'max_iter':[100, 200, 300]}\n",
    "model = LogisticRegression(random_state = 12345)\n",
    "linear_grid = GridSearchCV(model,param_grid=log_grid_space,scoring='f1', n_jobs=-1)\n",
    "model_grid = linear_grid.fit(train_features, train_target)\n",
    "print('Лучшие гиперпараметры это: '+str(model_grid.best_params_))\n",
    "print('Лучший результат - '+str(model_grid.best_score_))"
   ]
  },
  {
   "cell_type": "code",
   "execution_count": 22,
   "id": "6f0da662",
   "metadata": {},
   "outputs": [
    {
     "name": "stdout",
     "output_type": "stream",
     "text": [
      "Learning rate set to 0.5\n",
      "0:\tlearn: 0.1966335\ttotal: 170ms\tremaining: 170ms\n",
      "1:\tlearn: 0.0688936\ttotal: 189ms\tremaining: 0us\n",
      "Learning rate set to 0.5\n",
      "0:\tlearn: 0.1958794\ttotal: 8.46ms\tremaining: 8.46ms\n",
      "1:\tlearn: 0.0684898\ttotal: 16ms\tremaining: 0us\n",
      "Learning rate set to 0.5\n",
      "0:\tlearn: 0.1432232\ttotal: 8.78ms\tremaining: 8.78ms\n",
      "1:\tlearn: 0.0572853\ttotal: 16.1ms\tremaining: 0us\n",
      "Learning rate set to 0.5\n",
      "0:\tlearn: 0.1580286\ttotal: 8.67ms\tremaining: 8.67ms\n",
      "1:\tlearn: 0.0502305\ttotal: 16.1ms\tremaining: 0us\n",
      "Learning rate set to 0.5\n",
      "0:\tlearn: 0.1842886\ttotal: 8.8ms\tremaining: 8.8ms\n",
      "1:\tlearn: 0.0991423\ttotal: 17.2ms\tremaining: 0us\n",
      "Learning rate set to 0.5\n",
      "0:\tlearn: 0.1966335\ttotal: 8.5ms\tremaining: 17ms\n",
      "1:\tlearn: 0.0688936\ttotal: 15.8ms\tremaining: 7.91ms\n",
      "2:\tlearn: 0.0398475\ttotal: 23ms\tremaining: 0us\n",
      "Learning rate set to 0.5\n",
      "0:\tlearn: 0.1958794\ttotal: 8.59ms\tremaining: 17.2ms\n",
      "1:\tlearn: 0.0684898\ttotal: 17.2ms\tremaining: 8.58ms\n",
      "2:\tlearn: 0.0388327\ttotal: 24.7ms\tremaining: 0us\n",
      "Learning rate set to 0.5\n",
      "0:\tlearn: 0.1432232\ttotal: 8.93ms\tremaining: 17.9ms\n",
      "1:\tlearn: 0.0572853\ttotal: 18.4ms\tremaining: 9.18ms\n",
      "2:\tlearn: 0.0237555\ttotal: 26.6ms\tremaining: 0us\n",
      "Learning rate set to 0.5\n",
      "0:\tlearn: 0.1580286\ttotal: 8.96ms\tremaining: 17.9ms\n",
      "1:\tlearn: 0.0502305\ttotal: 17.4ms\tremaining: 8.71ms\n",
      "2:\tlearn: 0.0277110\ttotal: 26.7ms\tremaining: 0us\n",
      "Learning rate set to 0.5\n",
      "0:\tlearn: 0.1842886\ttotal: 8.68ms\tremaining: 17.4ms\n",
      "1:\tlearn: 0.0991423\ttotal: 16ms\tremaining: 8.02ms\n",
      "2:\tlearn: 0.0460377\ttotal: 23.4ms\tremaining: 0us\n",
      "Learning rate set to 0.5\n",
      "0:\tlearn: 0.1966335\ttotal: 8.64ms\tremaining: 25.9ms\n",
      "1:\tlearn: 0.0688936\ttotal: 16ms\tremaining: 16ms\n",
      "2:\tlearn: 0.0398475\ttotal: 23.4ms\tremaining: 7.79ms\n",
      "3:\tlearn: 0.0371321\ttotal: 30.6ms\tremaining: 0us\n",
      "Learning rate set to 0.5\n",
      "0:\tlearn: 0.1958794\ttotal: 9.84ms\tremaining: 29.5ms\n",
      "1:\tlearn: 0.0684898\ttotal: 18ms\tremaining: 18ms\n",
      "2:\tlearn: 0.0388327\ttotal: 25.7ms\tremaining: 8.56ms\n",
      "3:\tlearn: 0.0348406\ttotal: 33.4ms\tremaining: 0us\n",
      "Learning rate set to 0.5\n",
      "0:\tlearn: 0.1432232\ttotal: 8.65ms\tremaining: 25.9ms\n",
      "1:\tlearn: 0.0572853\ttotal: 16ms\tremaining: 16ms\n",
      "2:\tlearn: 0.0237555\ttotal: 23.4ms\tremaining: 7.79ms\n",
      "3:\tlearn: 0.0212831\ttotal: 30.5ms\tremaining: 0us\n",
      "Learning rate set to 0.5\n",
      "0:\tlearn: 0.1580286\ttotal: 9.2ms\tremaining: 27.6ms\n",
      "1:\tlearn: 0.0502305\ttotal: 17ms\tremaining: 17ms\n",
      "2:\tlearn: 0.0277110\ttotal: 25.2ms\tremaining: 8.41ms\n",
      "3:\tlearn: 0.0255679\ttotal: 33ms\tremaining: 0us\n",
      "Learning rate set to 0.5\n",
      "0:\tlearn: 0.1842886\ttotal: 9.78ms\tremaining: 29.3ms\n",
      "1:\tlearn: 0.0991423\ttotal: 18ms\tremaining: 18ms\n",
      "2:\tlearn: 0.0460377\ttotal: 25.7ms\tremaining: 8.57ms\n",
      "3:\tlearn: 0.0391579\ttotal: 33.7ms\tremaining: 0us\n",
      "Learning rate set to 0.5\n",
      "0:\tlearn: 0.2008741\ttotal: 14.4ms\tremaining: 14.4ms\n",
      "1:\tlearn: 0.0606855\ttotal: 27.7ms\tremaining: 0us\n",
      "Learning rate set to 0.5\n",
      "0:\tlearn: 0.1987411\ttotal: 14.6ms\tremaining: 14.6ms\n",
      "1:\tlearn: 0.0782606\ttotal: 29ms\tremaining: 0us\n",
      "Learning rate set to 0.5\n",
      "0:\tlearn: 0.1334141\ttotal: 14.8ms\tremaining: 14.8ms\n",
      "1:\tlearn: 0.0384276\ttotal: 27.5ms\tremaining: 0us\n",
      "Learning rate set to 0.5\n",
      "0:\tlearn: 0.1620818\ttotal: 14.8ms\tremaining: 14.8ms\n",
      "1:\tlearn: 0.0421872\ttotal: 27.5ms\tremaining: 0us\n",
      "Learning rate set to 0.5\n",
      "0:\tlearn: 0.1815959\ttotal: 15.9ms\tremaining: 15.9ms\n",
      "1:\tlearn: 0.0688376\ttotal: 29.8ms\tremaining: 0us\n",
      "Learning rate set to 0.5\n",
      "0:\tlearn: 0.2008741\ttotal: 15.4ms\tremaining: 30.7ms\n",
      "1:\tlearn: 0.0606855\ttotal: 28.2ms\tremaining: 14.1ms\n",
      "2:\tlearn: 0.0406368\ttotal: 40.8ms\tremaining: 0us\n",
      "Learning rate set to 0.5\n",
      "0:\tlearn: 0.1987411\ttotal: 15.2ms\tremaining: 30.5ms\n",
      "1:\tlearn: 0.0782606\ttotal: 28.7ms\tremaining: 14.3ms\n",
      "2:\tlearn: 0.0491696\ttotal: 41.5ms\tremaining: 0us\n",
      "Learning rate set to 0.5\n",
      "0:\tlearn: 0.1334141\ttotal: 17.3ms\tremaining: 34.6ms\n",
      "1:\tlearn: 0.0384276\ttotal: 30.9ms\tremaining: 15.5ms\n",
      "2:\tlearn: 0.0348292\ttotal: 45.8ms\tremaining: 0us\n",
      "Learning rate set to 0.5\n",
      "0:\tlearn: 0.1620818\ttotal: 15.3ms\tremaining: 30.7ms\n",
      "1:\tlearn: 0.0421872\ttotal: 28.4ms\tremaining: 14.2ms\n",
      "2:\tlearn: 0.0347854\ttotal: 41.1ms\tremaining: 0us\n",
      "Learning rate set to 0.5\n",
      "0:\tlearn: 0.1815959\ttotal: 16.3ms\tremaining: 32.6ms\n",
      "1:\tlearn: 0.0688376\ttotal: 31ms\tremaining: 15.5ms\n",
      "2:\tlearn: 0.0474579\ttotal: 43.9ms\tremaining: 0us\n",
      "Learning rate set to 0.5\n",
      "0:\tlearn: 0.2008741\ttotal: 16.8ms\tremaining: 50.3ms\n",
      "1:\tlearn: 0.0606855\ttotal: 31.8ms\tremaining: 31.8ms\n",
      "2:\tlearn: 0.0406368\ttotal: 46.9ms\tremaining: 15.6ms\n",
      "3:\tlearn: 0.0335320\ttotal: 61.6ms\tremaining: 0us\n",
      "Learning rate set to 0.5\n",
      "0:\tlearn: 0.1987411\ttotal: 14.9ms\tremaining: 44.8ms\n",
      "1:\tlearn: 0.0782606\ttotal: 28.4ms\tremaining: 28.4ms\n",
      "2:\tlearn: 0.0491696\ttotal: 41.2ms\tremaining: 13.7ms\n",
      "3:\tlearn: 0.0420640\ttotal: 57ms\tremaining: 0us\n",
      "Learning rate set to 0.5\n",
      "0:\tlearn: 0.1334141\ttotal: 15.1ms\tremaining: 45.4ms\n",
      "1:\tlearn: 0.0384276\ttotal: 27.9ms\tremaining: 27.9ms\n",
      "2:\tlearn: 0.0348292\ttotal: 41.3ms\tremaining: 13.8ms\n",
      "3:\tlearn: 0.0157189\ttotal: 53.9ms\tremaining: 0us\n",
      "Learning rate set to 0.5\n",
      "0:\tlearn: 0.1620818\ttotal: 16.9ms\tremaining: 50.7ms\n",
      "1:\tlearn: 0.0421872\ttotal: 31.3ms\tremaining: 31.3ms\n",
      "2:\tlearn: 0.0347854\ttotal: 45.9ms\tremaining: 15.3ms\n",
      "3:\tlearn: 0.0290676\ttotal: 60.2ms\tremaining: 0us\n",
      "Learning rate set to 0.5\n",
      "0:\tlearn: 0.1815959\ttotal: 14.7ms\tremaining: 44.2ms\n",
      "1:\tlearn: 0.0688376\ttotal: 27.4ms\tremaining: 27.4ms\n",
      "2:\tlearn: 0.0474579\ttotal: 39.9ms\tremaining: 13.3ms\n",
      "3:\tlearn: 0.0217763\ttotal: 52.3ms\tremaining: 0us\n",
      "Learning rate set to 0.5\n",
      "0:\tlearn: 0.2128137\ttotal: 24.1ms\tremaining: 24.1ms\n",
      "1:\tlearn: 0.0580586\ttotal: 46.3ms\tremaining: 0us\n",
      "Learning rate set to 0.5\n",
      "0:\tlearn: 0.2107196\ttotal: 24.1ms\tremaining: 24.1ms\n",
      "1:\tlearn: 0.0875349\ttotal: 44.9ms\tremaining: 0us\n",
      "Learning rate set to 0.5\n",
      "0:\tlearn: 0.1456953\ttotal: 25.6ms\tremaining: 25.6ms\n",
      "1:\tlearn: 0.0447065\ttotal: 47.4ms\tremaining: 0us\n",
      "Learning rate set to 0.5\n",
      "0:\tlearn: 0.1751998\ttotal: 24.4ms\tremaining: 24.4ms\n",
      "1:\tlearn: 0.0660172\ttotal: 46.5ms\tremaining: 0us\n",
      "Learning rate set to 0.5\n",
      "0:\tlearn: 0.1932357\ttotal: 24.3ms\tremaining: 24.3ms\n",
      "1:\tlearn: 0.0658706\ttotal: 45.4ms\tremaining: 0us\n",
      "Learning rate set to 0.5\n",
      "0:\tlearn: 0.2128137\ttotal: 24.3ms\tremaining: 48.7ms\n",
      "1:\tlearn: 0.0580586\ttotal: 45.3ms\tremaining: 22.6ms\n",
      "2:\tlearn: 0.0349541\ttotal: 66.1ms\tremaining: 0us\n",
      "Learning rate set to 0.5\n",
      "0:\tlearn: 0.2107196\ttotal: 24.7ms\tremaining: 49.5ms\n",
      "1:\tlearn: 0.0875349\ttotal: 47.3ms\tremaining: 23.7ms\n",
      "2:\tlearn: 0.0371619\ttotal: 68.3ms\tremaining: 0us\n",
      "Learning rate set to 0.5\n",
      "0:\tlearn: 0.1456953\ttotal: 24.2ms\tremaining: 48.4ms\n",
      "1:\tlearn: 0.0447065\ttotal: 45.9ms\tremaining: 22.9ms\n",
      "2:\tlearn: 0.0201673\ttotal: 70.8ms\tremaining: 0us\n",
      "Learning rate set to 0.5\n",
      "0:\tlearn: 0.1751998\ttotal: 28.6ms\tremaining: 57.3ms\n",
      "1:\tlearn: 0.0660172\ttotal: 50.1ms\tremaining: 25ms\n",
      "2:\tlearn: 0.0336949\ttotal: 71.8ms\tremaining: 0us\n",
      "Learning rate set to 0.5\n",
      "0:\tlearn: 0.1932357\ttotal: 24.3ms\tremaining: 48.5ms\n",
      "1:\tlearn: 0.0658706\ttotal: 45.2ms\tremaining: 22.6ms\n",
      "2:\tlearn: 0.0315836\ttotal: 66.1ms\tremaining: 0us\n",
      "Learning rate set to 0.5\n",
      "0:\tlearn: 0.2128137\ttotal: 24.4ms\tremaining: 73.1ms\n",
      "1:\tlearn: 0.0580586\ttotal: 45.2ms\tremaining: 45.2ms\n",
      "2:\tlearn: 0.0349541\ttotal: 65.7ms\tremaining: 21.9ms\n",
      "3:\tlearn: 0.0311754\ttotal: 86.5ms\tremaining: 0us\n",
      "Learning rate set to 0.5\n",
      "0:\tlearn: 0.2107196\ttotal: 27.5ms\tremaining: 82.4ms\n",
      "1:\tlearn: 0.0875349\ttotal: 49.5ms\tremaining: 49.5ms\n",
      "2:\tlearn: 0.0371619\ttotal: 81ms\tremaining: 27ms\n",
      "3:\tlearn: 0.0348299\ttotal: 102ms\tremaining: 0us\n",
      "Learning rate set to 0.5\n",
      "0:\tlearn: 0.1456953\ttotal: 25.9ms\tremaining: 77.8ms\n",
      "1:\tlearn: 0.0447065\ttotal: 56.7ms\tremaining: 56.7ms\n",
      "2:\tlearn: 0.0201673\ttotal: 79.5ms\tremaining: 26.5ms\n",
      "3:\tlearn: 0.0189213\ttotal: 102ms\tremaining: 0us\n",
      "Learning rate set to 0.5\n",
      "0:\tlearn: 0.1751998\ttotal: 24.2ms\tremaining: 72.5ms\n",
      "1:\tlearn: 0.0660172\ttotal: 44.9ms\tremaining: 44.9ms\n",
      "2:\tlearn: 0.0336949\ttotal: 65.6ms\tremaining: 21.9ms\n",
      "3:\tlearn: 0.0314136\ttotal: 86.3ms\tremaining: 0us\n",
      "Learning rate set to 0.5\n",
      "0:\tlearn: 0.1932357\ttotal: 26.9ms\tremaining: 80.6ms\n",
      "1:\tlearn: 0.0658706\ttotal: 48ms\tremaining: 48ms\n",
      "2:\tlearn: 0.0315836\ttotal: 68.8ms\tremaining: 22.9ms\n",
      "3:\tlearn: 0.0292424\ttotal: 89.7ms\tremaining: 0us\n",
      "Learning rate set to 0.5\n",
      "0:\tlearn: 0.2234642\ttotal: 9.38ms\tremaining: 18.8ms\n",
      "1:\tlearn: 0.0808425\ttotal: 17.4ms\tremaining: 8.71ms\n",
      "2:\tlearn: 0.0675002\ttotal: 25.1ms\tremaining: 0us\n",
      "Лучшие гиперпараметры это: {'depth': 2, 'iterations': 3}\n",
      "Лучший результат - 0.9811477411477412\n"
     ]
    }
   ],
   "source": [
    "#Тестирую catboost\n",
    "cat_grid_space ={'iterations' : [2,3,4],\n",
    "                'depth' : [2,3,4]}\n",
    "model = CatBoostClassifier()\n",
    "cat_grid = GridSearchCV(model,param_grid=cat_grid_space,scoring='f1')\n",
    "model_grid = cat_grid.fit(train_features, train_target)\n",
    "print('Лучшие гиперпараметры это: '+str(model_grid.best_params_))\n",
    "print('Лучший результат - '+str(model_grid.best_score_))"
   ]
  },
  {
   "cell_type": "markdown",
   "id": "bbf2632a",
   "metadata": {},
   "source": [
    "Логистическая Регрессия показала себя лучше всего, её я и использую в финальном тесте"
   ]
  },
  {
   "cell_type": "markdown",
   "id": "eb29fcc8",
   "metadata": {},
   "source": [
    "## Финальный тест"
   ]
  },
  {
   "cell_type": "code",
   "execution_count": 23,
   "id": "362c58d0",
   "metadata": {},
   "outputs": [
    {
     "name": "stdout",
     "output_type": "stream",
     "text": [
      "Финальный f1 - 0.8347826086956522\n"
     ]
    }
   ],
   "source": [
    "predictions = linear_grid.best_estimator_.predict(test_features)\n",
    "print('Финальный f1 -',f1_score(test_target, predictions))"
   ]
  },
  {
   "cell_type": "code",
   "execution_count": 24,
   "id": "c60f3e49",
   "metadata": {},
   "outputs": [
    {
     "name": "stdout",
     "output_type": "stream",
     "text": [
      "f1 примитивного алгоритма 0.18181818181818182\n"
     ]
    }
   ],
   "source": [
    "model = model = DummyClassifier(strategy = 'constant', constant = 1, random_state = 12345)\n",
    "model.fit(train_features, train_target)\n",
    "predictions = model.predict(test_features)\n",
    "print('f1 примитивного алгоритма',f1_score(test_target, predictions))"
   ]
  },
  {
   "cell_type": "markdown",
   "id": "c5577502",
   "metadata": {},
   "source": [
    "В данном проекте я построил модель, которая предсказывала токсичность текста, и показала результат в 82.5 f1.Я выполнил это с помощью алгоритма BERT, который преобразовал текст в формат, пригодный для машинного обучения"
   ]
  }
 ],
 "metadata": {
  "kernelspec": {
   "display_name": "Python 3 (ipykernel)",
   "language": "python",
   "name": "python3"
  },
  "language_info": {
   "codemirror_mode": {
    "name": "ipython",
    "version": 3
   },
   "file_extension": ".py",
   "mimetype": "text/x-python",
   "name": "python",
   "nbconvert_exporter": "python",
   "pygments_lexer": "ipython3",
   "version": "3.9.13"
  },
  "toc": {
   "base_numbering": 1,
   "nav_menu": {},
   "number_sections": true,
   "sideBar": true,
   "skip_h1_title": true,
   "title_cell": "Table of Contents",
   "title_sidebar": "Contents",
   "toc_cell": false,
   "toc_position": {},
   "toc_section_display": true,
   "toc_window_display": false
  }
 },
 "nbformat": 4,
 "nbformat_minor": 5
}
