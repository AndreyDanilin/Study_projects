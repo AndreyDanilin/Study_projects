{
 "cells": [
  {
   "cell_type": "markdown",
   "metadata": {},
   "source": [
    "Тестовая Задача"
   ]
  },
  {
   "cell_type": "markdown",
   "metadata": {},
   "source": [
    "Условие задачи: создать модель, которая должна определять цвет автомобиля по его фотографии\n",
    "\n",
    "Ссылки: В качестве датасета для обучения я использовал вариацию stanford car dataset в которой автомобили разделены на 196 групп(https://www.kaggle.com/datasets/jutrera/stanford-car-dataset-by-classes-folder)\n",
    "\n",
    "Архитектуру нейронной сети и некоторые идеи взял отсюда - https://github.com/beerboaa/Color-Classification-CNN\n",
    "\n",
    "Словарь с названиями цветов - https://github.com/codebrainz/color-names/blob/master/output/colors.csv"
   ]
  },
  {
   "cell_type": "code",
   "execution_count": 1,
   "metadata": {},
   "outputs": [
    {
     "name": "stdout",
     "output_type": "stream",
     "text": [
      "Requirement already satisfied: ColorThief in c:\\anaconda\\lib\\site-packages (0.2.1)\n",
      "Requirement already satisfied: Pillow in c:\\anaconda\\lib\\site-packages (from ColorThief) (9.4.0)\n",
      "Note: you may need to restart the kernel to use updated packages.\n"
     ]
    }
   ],
   "source": [
    "pip install ColorThief"
   ]
  },
  {
   "cell_type": "code",
   "execution_count": 2,
   "metadata": {},
   "outputs": [
    {
     "name": "stdout",
     "output_type": "stream",
     "text": [
      "Requirement already satisfied: tensorflow in c:\\anaconda\\lib\\site-packages (2.13.0)\n",
      "Requirement already satisfied: tensorflow-intel==2.13.0 in c:\\anaconda\\lib\\site-packages (from tensorflow) (2.13.0)\n",
      "Requirement already satisfied: typing-extensions<4.6.0,>=3.6.6 in c:\\anaconda\\lib\\site-packages (from tensorflow-intel==2.13.0->tensorflow) (4.4.0)\n",
      "Requirement already satisfied: flatbuffers>=23.1.21 in c:\\anaconda\\lib\\site-packages (from tensorflow-intel==2.13.0->tensorflow) (23.5.26)\n",
      "Requirement already satisfied: setuptools in c:\\anaconda\\lib\\site-packages (from tensorflow-intel==2.13.0->tensorflow) (65.6.3)\n",
      "Requirement already satisfied: tensorflow-io-gcs-filesystem>=0.23.1 in c:\\anaconda\\lib\\site-packages (from tensorflow-intel==2.13.0->tensorflow) (0.31.0)\n",
      "Requirement already satisfied: protobuf!=4.21.0,!=4.21.1,!=4.21.2,!=4.21.3,!=4.21.4,!=4.21.5,<5.0.0dev,>=3.20.3 in c:\\anaconda\\lib\\site-packages (from tensorflow-intel==2.13.0->tensorflow) (4.24.3)\n",
      "Requirement already satisfied: google-pasta>=0.1.1 in c:\\anaconda\\lib\\site-packages (from tensorflow-intel==2.13.0->tensorflow) (0.2.0)\n",
      "Requirement already satisfied: keras<2.14,>=2.13.1 in c:\\anaconda\\lib\\site-packages (from tensorflow-intel==2.13.0->tensorflow) (2.13.1)\n",
      "Requirement already satisfied: h5py>=2.9.0 in c:\\anaconda\\lib\\site-packages (from tensorflow-intel==2.13.0->tensorflow) (3.7.0)\n",
      "Requirement already satisfied: grpcio<2.0,>=1.24.3 in c:\\anaconda\\lib\\site-packages (from tensorflow-intel==2.13.0->tensorflow) (1.58.0)\n",
      "Requirement already satisfied: numpy<=1.24.3,>=1.22 in c:\\anaconda\\lib\\site-packages (from tensorflow-intel==2.13.0->tensorflow) (1.23.5)\n",
      "Requirement already satisfied: wrapt>=1.11.0 in c:\\anaconda\\lib\\site-packages (from tensorflow-intel==2.13.0->tensorflow) (1.14.1)\n",
      "Requirement already satisfied: tensorboard<2.14,>=2.13 in c:\\anaconda\\lib\\site-packages (from tensorflow-intel==2.13.0->tensorflow) (2.13.0)\n",
      "Requirement already satisfied: packaging in c:\\anaconda\\lib\\site-packages (from tensorflow-intel==2.13.0->tensorflow) (22.0)\n",
      "Requirement already satisfied: astunparse>=1.6.0 in c:\\anaconda\\lib\\site-packages (from tensorflow-intel==2.13.0->tensorflow) (1.6.3)\n",
      "Requirement already satisfied: termcolor>=1.1.0 in c:\\anaconda\\lib\\site-packages (from tensorflow-intel==2.13.0->tensorflow) (2.3.0)\n",
      "Requirement already satisfied: six>=1.12.0 in c:\\anaconda\\lib\\site-packages (from tensorflow-intel==2.13.0->tensorflow) (1.16.0)\n",
      "Requirement already satisfied: libclang>=13.0.0 in c:\\anaconda\\lib\\site-packages (from tensorflow-intel==2.13.0->tensorflow) (16.0.6)\n",
      "Requirement already satisfied: absl-py>=1.0.0 in c:\\anaconda\\lib\\site-packages (from tensorflow-intel==2.13.0->tensorflow) (2.0.0)\n",
      "Requirement already satisfied: tensorflow-estimator<2.14,>=2.13.0 in c:\\anaconda\\lib\\site-packages (from tensorflow-intel==2.13.0->tensorflow) (2.13.0)\n",
      "Requirement already satisfied: opt-einsum>=2.3.2 in c:\\anaconda\\lib\\site-packages (from tensorflow-intel==2.13.0->tensorflow) (3.3.0)\n",
      "Requirement already satisfied: gast<=0.4.0,>=0.2.1 in c:\\anaconda\\lib\\site-packages (from tensorflow-intel==2.13.0->tensorflow) (0.4.0)\n",
      "Requirement already satisfied: wheel<1.0,>=0.23.0 in c:\\anaconda\\lib\\site-packages (from astunparse>=1.6.0->tensorflow-intel==2.13.0->tensorflow) (0.38.4)\n",
      "Requirement already satisfied: requests<3,>=2.21.0 in c:\\anaconda\\lib\\site-packages (from tensorboard<2.14,>=2.13->tensorflow-intel==2.13.0->tensorflow) (2.28.1)\n",
      "Requirement already satisfied: tensorboard-data-server<0.8.0,>=0.7.0 in c:\\anaconda\\lib\\site-packages (from tensorboard<2.14,>=2.13->tensorflow-intel==2.13.0->tensorflow) (0.7.1)\n",
      "Requirement already satisfied: werkzeug>=1.0.1 in c:\\anaconda\\lib\\site-packages (from tensorboard<2.14,>=2.13->tensorflow-intel==2.13.0->tensorflow) (2.2.2)\n",
      "Requirement already satisfied: google-auth<3,>=1.6.3 in c:\\anaconda\\lib\\site-packages (from tensorboard<2.14,>=2.13->tensorflow-intel==2.13.0->tensorflow) (2.23.0)\n",
      "Requirement already satisfied: markdown>=2.6.8 in c:\\anaconda\\lib\\site-packages (from tensorboard<2.14,>=2.13->tensorflow-intel==2.13.0->tensorflow) (3.4.1)\n",
      "Requirement already satisfied: google-auth-oauthlib<1.1,>=0.5 in c:\\anaconda\\lib\\site-packages (from tensorboard<2.14,>=2.13->tensorflow-intel==2.13.0->tensorflow) (1.0.0)\n",
      "Requirement already satisfied: pyasn1-modules>=0.2.1 in c:\\anaconda\\lib\\site-packages (from google-auth<3,>=1.6.3->tensorboard<2.14,>=2.13->tensorflow-intel==2.13.0->tensorflow) (0.2.8)\n",
      "Requirement already satisfied: rsa<5,>=3.1.4 in c:\\anaconda\\lib\\site-packages (from google-auth<3,>=1.6.3->tensorboard<2.14,>=2.13->tensorflow-intel==2.13.0->tensorflow) (4.9)\n",
      "Requirement already satisfied: cachetools<6.0,>=2.0.0 in c:\\anaconda\\lib\\site-packages (from google-auth<3,>=1.6.3->tensorboard<2.14,>=2.13->tensorflow-intel==2.13.0->tensorflow) (5.3.1)\n",
      "Requirement already satisfied: urllib3<2.0 in c:\\anaconda\\lib\\site-packages (from google-auth<3,>=1.6.3->tensorboard<2.14,>=2.13->tensorflow-intel==2.13.0->tensorflow) (1.26.14)\n",
      "Requirement already satisfied: requests-oauthlib>=0.7.0 in c:\\anaconda\\lib\\site-packages (from google-auth-oauthlib<1.1,>=0.5->tensorboard<2.14,>=2.13->tensorflow-intel==2.13.0->tensorflow) (1.3.1)\n",
      "Requirement already satisfied: certifi>=2017.4.17 in c:\\anaconda\\lib\\site-packages (from requests<3,>=2.21.0->tensorboard<2.14,>=2.13->tensorflow-intel==2.13.0->tensorflow) (2022.12.7)\n",
      "Requirement already satisfied: charset-normalizer<3,>=2 in c:\\anaconda\\lib\\site-packages (from requests<3,>=2.21.0->tensorboard<2.14,>=2.13->tensorflow-intel==2.13.0->tensorflow) (2.0.4)\n",
      "Requirement already satisfied: idna<4,>=2.5 in c:\\anaconda\\lib\\site-packages (from requests<3,>=2.21.0->tensorboard<2.14,>=2.13->tensorflow-intel==2.13.0->tensorflow) (3.4)\n",
      "Requirement already satisfied: MarkupSafe>=2.1.1 in c:\\anaconda\\lib\\site-packages (from werkzeug>=1.0.1->tensorboard<2.14,>=2.13->tensorflow-intel==2.13.0->tensorflow) (2.1.1)\n",
      "Requirement already satisfied: pyasn1<0.5.0,>=0.4.6 in c:\\anaconda\\lib\\site-packages (from pyasn1-modules>=0.2.1->google-auth<3,>=1.6.3->tensorboard<2.14,>=2.13->tensorflow-intel==2.13.0->tensorflow) (0.4.8)\n",
      "Requirement already satisfied: oauthlib>=3.0.0 in c:\\anaconda\\lib\\site-packages (from requests-oauthlib>=0.7.0->google-auth-oauthlib<1.1,>=0.5->tensorboard<2.14,>=2.13->tensorflow-intel==2.13.0->tensorflow) (3.2.2)\n",
      "Note: you may need to restart the kernel to use updated packages.\n"
     ]
    }
   ],
   "source": [
    "pip install tensorflow"
   ]
  },
  {
   "cell_type": "code",
   "execution_count": 3,
   "metadata": {},
   "outputs": [],
   "source": [
    "#Загрузка необходимых компонентов\n",
    "import numpy as np \n",
    "import pandas as pd \n",
    "import matplotlib.pyplot as plt\n",
    "import os\n",
    "from colorthief import ColorThief\n",
    "from PIL import Image\n",
    "import tensorflow as tf\n",
    "\n",
    "from tensorflow.keras.models import Sequential, Model\n",
    "from tensorflow.keras.layers import Conv2D, MaxPooling2D, Dropout, Flatten, Dense, Input, BatchNormalization, Lambda, AveragePooling2D, ZeroPadding2D, Reshape, Activation, Concatenate\n",
    "from tensorflow.keras.layers import Concatenate\n",
    "from tensorflow.keras.optimizers import SGD\n",
    "from tensorflow.keras.callbacks import ModelCheckpoint\n",
    "from tensorflow.keras.preprocessing.image import ImageDataGenerator, load_img"
   ]
  },
  {
   "cell_type": "markdown",
   "metadata": {},
   "source": [
    "### Подготовка данных"
   ]
  },
  {
   "cell_type": "code",
   "execution_count": 4,
   "metadata": {},
   "outputs": [
    {
     "name": "stdout",
     "output_type": "stream",
     "text": [
      "Всего 196 классов в тестовой выборке\n"
     ]
    }
   ],
   "source": [
    "# Загрузка обучающей выборки\n",
    "car_train = \"C:/Datasets/Test_task_cv/train/\"\n",
    "print('Всего', len(os.listdir(car_train)),'классов в тестовой выборке')"
   ]
  },
  {
   "cell_type": "code",
   "execution_count": 5,
   "metadata": {},
   "outputs": [],
   "source": [
    "mylist = []\n",
    "for labels in os.listdir(car_train):\n",
    "    for label in os.listdir(car_train+labels): \n",
    "        car_add = car_train + labels + '/' + label\n",
    "        car_value = (labels, car_add)                \n",
    "        if car_value not in mylist:\n",
    "            mylist.append(car_value)\n",
    "            \n",
    "train_df = pd.DataFrame(np.array(mylist), columns= [\"car\", \"image path\"])"
   ]
  },
  {
   "cell_type": "code",
   "execution_count": 6,
   "metadata": {},
   "outputs": [
    {
     "data": {
      "text/html": [
       "<div>\n",
       "<style scoped>\n",
       "    .dataframe tbody tr th:only-of-type {\n",
       "        vertical-align: middle;\n",
       "    }\n",
       "\n",
       "    .dataframe tbody tr th {\n",
       "        vertical-align: top;\n",
       "    }\n",
       "\n",
       "    .dataframe thead th {\n",
       "        text-align: right;\n",
       "    }\n",
       "</style>\n",
       "<table border=\"1\" class=\"dataframe\">\n",
       "  <thead>\n",
       "    <tr style=\"text-align: right;\">\n",
       "      <th></th>\n",
       "      <th>car</th>\n",
       "      <th>image path</th>\n",
       "    </tr>\n",
       "  </thead>\n",
       "  <tbody>\n",
       "    <tr>\n",
       "      <th>4880</th>\n",
       "      <td>Geo Metro Convertible 1993</td>\n",
       "      <td>C:/Datasets/Test_task_cv/train/Geo Metro Conve...</td>\n",
       "    </tr>\n",
       "    <tr>\n",
       "      <th>3545</th>\n",
       "      <td>Dodge Charger Sedan 2012</td>\n",
       "      <td>C:/Datasets/Test_task_cv/train/Dodge Charger S...</td>\n",
       "    </tr>\n",
       "    <tr>\n",
       "      <th>2575</th>\n",
       "      <td>Chevrolet Malibu Hybrid Sedan 2010</td>\n",
       "      <td>C:/Datasets/Test_task_cv/train/Chevrolet Malib...</td>\n",
       "    </tr>\n",
       "    <tr>\n",
       "      <th>2683</th>\n",
       "      <td>Chevrolet Monte Carlo Coupe 2007</td>\n",
       "      <td>C:/Datasets/Test_task_cv/train/Chevrolet Monte...</td>\n",
       "    </tr>\n",
       "    <tr>\n",
       "      <th>3155</th>\n",
       "      <td>Chrysler Aspen SUV 2009</td>\n",
       "      <td>C:/Datasets/Test_task_cv/train/Chrysler Aspen ...</td>\n",
       "    </tr>\n",
       "    <tr>\n",
       "      <th>4923</th>\n",
       "      <td>GMC Acadia SUV 2012</td>\n",
       "      <td>C:/Datasets/Test_task_cv/train/GMC Acadia SUV ...</td>\n",
       "    </tr>\n",
       "    <tr>\n",
       "      <th>2608</th>\n",
       "      <td>Chevrolet Malibu Sedan 2007</td>\n",
       "      <td>C:/Datasets/Test_task_cv/train/Chevrolet Malib...</td>\n",
       "    </tr>\n",
       "    <tr>\n",
       "      <th>7995</th>\n",
       "      <td>Volkswagen Golf Hatchback 2012</td>\n",
       "      <td>C:/Datasets/Test_task_cv/train/Volkswagen Golf...</td>\n",
       "    </tr>\n",
       "    <tr>\n",
       "      <th>7110</th>\n",
       "      <td>Plymouth Neon Coupe 1999</td>\n",
       "      <td>C:/Datasets/Test_task_cv/train/Plymouth Neon C...</td>\n",
       "    </tr>\n",
       "    <tr>\n",
       "      <th>1053</th>\n",
       "      <td>Bentley Arnage Sedan 2009</td>\n",
       "      <td>C:/Datasets/Test_task_cv/train/Bentley Arnage ...</td>\n",
       "    </tr>\n",
       "  </tbody>\n",
       "</table>\n",
       "</div>"
      ],
      "text/plain": [
       "                                     car  \\\n",
       "4880          Geo Metro Convertible 1993   \n",
       "3545            Dodge Charger Sedan 2012   \n",
       "2575  Chevrolet Malibu Hybrid Sedan 2010   \n",
       "2683    Chevrolet Monte Carlo Coupe 2007   \n",
       "3155             Chrysler Aspen SUV 2009   \n",
       "4923                 GMC Acadia SUV 2012   \n",
       "2608         Chevrolet Malibu Sedan 2007   \n",
       "7995      Volkswagen Golf Hatchback 2012   \n",
       "7110            Plymouth Neon Coupe 1999   \n",
       "1053           Bentley Arnage Sedan 2009   \n",
       "\n",
       "                                             image path  \n",
       "4880  C:/Datasets/Test_task_cv/train/Geo Metro Conve...  \n",
       "3545  C:/Datasets/Test_task_cv/train/Dodge Charger S...  \n",
       "2575  C:/Datasets/Test_task_cv/train/Chevrolet Malib...  \n",
       "2683  C:/Datasets/Test_task_cv/train/Chevrolet Monte...  \n",
       "3155  C:/Datasets/Test_task_cv/train/Chrysler Aspen ...  \n",
       "4923  C:/Datasets/Test_task_cv/train/GMC Acadia SUV ...  \n",
       "2608  C:/Datasets/Test_task_cv/train/Chevrolet Malib...  \n",
       "7995  C:/Datasets/Test_task_cv/train/Volkswagen Golf...  \n",
       "7110  C:/Datasets/Test_task_cv/train/Plymouth Neon C...  \n",
       "1053  C:/Datasets/Test_task_cv/train/Bentley Arnage ...  "
      ]
     },
     "execution_count": 6,
     "metadata": {},
     "output_type": "execute_result"
    }
   ],
   "source": [
    "train_df.sample(10)"
   ]
  },
  {
   "cell_type": "code",
   "execution_count": 7,
   "metadata": {},
   "outputs": [],
   "source": [
    "#Создаю тестовую выборку\n",
    "car_test= \"C:/Datasets/Test_task_cv/test/\""
   ]
  },
  {
   "cell_type": "code",
   "execution_count": 8,
   "metadata": {},
   "outputs": [],
   "source": [
    "mylist2 = []\n",
    "for labels in os.listdir(car_test):\n",
    "    for label in os.listdir(car_test+labels): \n",
    "        car_add = car_test + labels + '/' + label\n",
    "        car_value = (labels, car_add)                \n",
    "        if car_value not in mylist:\n",
    "            mylist2.append(car_value)   \n",
    "\n",
    "test_df = pd.DataFrame(np.array(mylist2), columns= [\"car\", \"image path\"])"
   ]
  },
  {
   "cell_type": "code",
   "execution_count": 9,
   "metadata": {
    "scrolled": false
   },
   "outputs": [
    {
     "data": {
      "text/html": [
       "<div>\n",
       "<style scoped>\n",
       "    .dataframe tbody tr th:only-of-type {\n",
       "        vertical-align: middle;\n",
       "    }\n",
       "\n",
       "    .dataframe tbody tr th {\n",
       "        vertical-align: top;\n",
       "    }\n",
       "\n",
       "    .dataframe thead th {\n",
       "        text-align: right;\n",
       "    }\n",
       "</style>\n",
       "<table border=\"1\" class=\"dataframe\">\n",
       "  <thead>\n",
       "    <tr style=\"text-align: right;\">\n",
       "      <th></th>\n",
       "      <th>car</th>\n",
       "      <th>image path</th>\n",
       "    </tr>\n",
       "  </thead>\n",
       "  <tbody>\n",
       "    <tr>\n",
       "      <th>7532</th>\n",
       "      <td>Suzuki SX4 Hatchback 2012</td>\n",
       "      <td>C:/Datasets/Test_task_cv/test/Suzuki SX4 Hatch...</td>\n",
       "    </tr>\n",
       "    <tr>\n",
       "      <th>3997</th>\n",
       "      <td>Eagle Talon Hatchback 1998</td>\n",
       "      <td>C:/Datasets/Test_task_cv/test/Eagle Talon Hatc...</td>\n",
       "    </tr>\n",
       "    <tr>\n",
       "      <th>5910</th>\n",
       "      <td>Jeep Compass SUV 2012</td>\n",
       "      <td>C:/Datasets/Test_task_cv/test/Jeep Compass SUV...</td>\n",
       "    </tr>\n",
       "    <tr>\n",
       "      <th>97</th>\n",
       "      <td>Acura TL Sedan 2012</td>\n",
       "      <td>C:/Datasets/Test_task_cv/test/Acura TL Sedan 2...</td>\n",
       "    </tr>\n",
       "    <tr>\n",
       "      <th>398</th>\n",
       "      <td>Aston Martin Virage Convertible 2012</td>\n",
       "      <td>C:/Datasets/Test_task_cv/test/Aston Martin Vir...</td>\n",
       "    </tr>\n",
       "    <tr>\n",
       "      <th>3656</th>\n",
       "      <td>Dodge Dakota Crew Cab 2010</td>\n",
       "      <td>C:/Datasets/Test_task_cv/test/Dodge Dakota Cre...</td>\n",
       "    </tr>\n",
       "    <tr>\n",
       "      <th>6149</th>\n",
       "      <td>Lamborghini Diablo Coupe 2001</td>\n",
       "      <td>C:/Datasets/Test_task_cv/test/Lamborghini Diab...</td>\n",
       "    </tr>\n",
       "    <tr>\n",
       "      <th>8035</th>\n",
       "      <td>Volvo XC90 SUV 2007</td>\n",
       "      <td>C:/Datasets/Test_task_cv/test/Volvo XC90 SUV 2...</td>\n",
       "    </tr>\n",
       "    <tr>\n",
       "      <th>1397</th>\n",
       "      <td>BMW 3 Series Wagon 2012</td>\n",
       "      <td>C:/Datasets/Test_task_cv/test/BMW 3 Series Wag...</td>\n",
       "    </tr>\n",
       "    <tr>\n",
       "      <th>6070</th>\n",
       "      <td>Jeep Wrangler SUV 2012</td>\n",
       "      <td>C:/Datasets/Test_task_cv/test/Jeep Wrangler SU...</td>\n",
       "    </tr>\n",
       "  </tbody>\n",
       "</table>\n",
       "</div>"
      ],
      "text/plain": [
       "                                       car  \\\n",
       "7532             Suzuki SX4 Hatchback 2012   \n",
       "3997            Eagle Talon Hatchback 1998   \n",
       "5910                 Jeep Compass SUV 2012   \n",
       "97                     Acura TL Sedan 2012   \n",
       "398   Aston Martin Virage Convertible 2012   \n",
       "3656            Dodge Dakota Crew Cab 2010   \n",
       "6149         Lamborghini Diablo Coupe 2001   \n",
       "8035                   Volvo XC90 SUV 2007   \n",
       "1397               BMW 3 Series Wagon 2012   \n",
       "6070                Jeep Wrangler SUV 2012   \n",
       "\n",
       "                                             image path  \n",
       "7532  C:/Datasets/Test_task_cv/test/Suzuki SX4 Hatch...  \n",
       "3997  C:/Datasets/Test_task_cv/test/Eagle Talon Hatc...  \n",
       "5910  C:/Datasets/Test_task_cv/test/Jeep Compass SUV...  \n",
       "97    C:/Datasets/Test_task_cv/test/Acura TL Sedan 2...  \n",
       "398   C:/Datasets/Test_task_cv/test/Aston Martin Vir...  \n",
       "3656  C:/Datasets/Test_task_cv/test/Dodge Dakota Cre...  \n",
       "6149  C:/Datasets/Test_task_cv/test/Lamborghini Diab...  \n",
       "8035  C:/Datasets/Test_task_cv/test/Volvo XC90 SUV 2...  \n",
       "1397  C:/Datasets/Test_task_cv/test/BMW 3 Series Wag...  \n",
       "6070  C:/Datasets/Test_task_cv/test/Jeep Wrangler SU...  "
      ]
     },
     "execution_count": 9,
     "metadata": {},
     "output_type": "execute_result"
    }
   ],
   "source": [
    "test_df.sample(10)"
   ]
  },
  {
   "cell_type": "markdown",
   "metadata": {},
   "source": [
    "### Создание возможности для цветовой классификации"
   ]
  },
  {
   "cell_type": "code",
   "execution_count": 10,
   "metadata": {},
   "outputs": [],
   "source": [
    "clr_headers = ['color', 'full_name', 'hex', 'r', 'g', 'b']\n",
    "colors = pd.read_csv('C:/Datasets/Test_task_cv/colors.csv', names=clr_headers, index_col = 'color')\n",
    "colors['rgb'] = list(zip(colors['r'], colors['g'], colors['b'])) \n",
    "colors_df = colors.drop(columns=['full_name', 'hex', 'r', 'g', 'b']) \n",
    "colors_dict = dict(zip(colors_df.index, colors_df['rgb']))\n",
    "\n",
    "# Данная функция должна найти доминирующий цвет и вернуть код RGB\n",
    "\n",
    "def classify_color(filepath):\n",
    "    color_thief = ColorThief(filepath)\n",
    "    dominant_color = color_thief.get_color(quality=1)\n",
    "\n",
    "    manhattan = lambda x,y : abs(x[0] - y[0]) + abs(x[1] - y[1]) + abs(x[2] - y[2]) \n",
    "    \n",
    "    distances = {k: manhattan(v, dominant_color) for k, v in colors_dict.items()}\n",
    "    \n",
    "    color = min(distances, key=distances.get) \n",
    "    return color\n",
    "# Идея функции заключается в том, чтобы найти цвет из словаря с самой короткой Манхеттенской динстацией"
   ]
  },
  {
   "cell_type": "markdown",
   "metadata": {},
   "source": [
    "### Категоризация выборок\n",
    "\n",
    "Тут я должен пояснить, что процесс категоризации достаточно затратный по ресурсам и он занял у меня всю ночь. Для того чтобы можно было использовать результаты этих вычислений не тратя кучу времени, я решил сохранить эти результаты как отдельные файлы, и использовать их в дальнейшем"
   ]
  },
  {
   "cell_type": "code",
   "execution_count": 11,
   "metadata": {
    "scrolled": false
   },
   "outputs": [],
   "source": [
    "#Тестовая выборка\n",
    "train_df = pd.read_csv('C:/Datasets/Test_task_cv/train_df_color.csv')\n",
    "train_df = train_df[['car', 'image path', 'color', 'car label']]"
   ]
  },
  {
   "cell_type": "code",
   "execution_count": 12,
   "metadata": {},
   "outputs": [],
   "source": [
    "train_df['car_label'] = train_df.color.astype(\"category\").cat.codes\n",
    "train_df['car_label'] = train_df['car_label'].astype(\"str\")"
   ]
  },
  {
   "cell_type": "code",
   "execution_count": 13,
   "metadata": {
    "scrolled": true
   },
   "outputs": [
    {
     "data": {
      "text/html": [
       "<div>\n",
       "<style scoped>\n",
       "    .dataframe tbody tr th:only-of-type {\n",
       "        vertical-align: middle;\n",
       "    }\n",
       "\n",
       "    .dataframe tbody tr th {\n",
       "        vertical-align: top;\n",
       "    }\n",
       "\n",
       "    .dataframe thead th {\n",
       "        text-align: right;\n",
       "    }\n",
       "</style>\n",
       "<table border=\"1\" class=\"dataframe\">\n",
       "  <thead>\n",
       "    <tr style=\"text-align: right;\">\n",
       "      <th></th>\n",
       "      <th>car</th>\n",
       "      <th>image path</th>\n",
       "      <th>color</th>\n",
       "      <th>car label</th>\n",
       "    </tr>\n",
       "    <tr>\n",
       "      <th>car_label</th>\n",
       "      <th></th>\n",
       "      <th></th>\n",
       "      <th></th>\n",
       "      <th></th>\n",
       "    </tr>\n",
       "  </thead>\n",
       "  <tbody>\n",
       "    <tr>\n",
       "      <th>104</th>\n",
       "      <td>608</td>\n",
       "      <td>608</td>\n",
       "      <td>608</td>\n",
       "      <td>608</td>\n",
       "    </tr>\n",
       "    <tr>\n",
       "      <th>75</th>\n",
       "      <td>433</td>\n",
       "      <td>433</td>\n",
       "      <td>433</td>\n",
       "      <td>433</td>\n",
       "    </tr>\n",
       "    <tr>\n",
       "      <th>20</th>\n",
       "      <td>426</td>\n",
       "      <td>426</td>\n",
       "      <td>426</td>\n",
       "      <td>426</td>\n",
       "    </tr>\n",
       "    <tr>\n",
       "      <th>19</th>\n",
       "      <td>347</td>\n",
       "      <td>347</td>\n",
       "      <td>347</td>\n",
       "      <td>347</td>\n",
       "    </tr>\n",
       "    <tr>\n",
       "      <th>58</th>\n",
       "      <td>343</td>\n",
       "      <td>343</td>\n",
       "      <td>343</td>\n",
       "      <td>343</td>\n",
       "    </tr>\n",
       "    <tr>\n",
       "      <th>8</th>\n",
       "      <td>339</td>\n",
       "      <td>339</td>\n",
       "      <td>339</td>\n",
       "      <td>339</td>\n",
       "    </tr>\n",
       "    <tr>\n",
       "      <th>133</th>\n",
       "      <td>330</td>\n",
       "      <td>330</td>\n",
       "      <td>330</td>\n",
       "      <td>330</td>\n",
       "    </tr>\n",
       "    <tr>\n",
       "      <th>134</th>\n",
       "      <td>314</td>\n",
       "      <td>314</td>\n",
       "      <td>314</td>\n",
       "      <td>314</td>\n",
       "    </tr>\n",
       "    <tr>\n",
       "      <th>183</th>\n",
       "      <td>284</td>\n",
       "      <td>284</td>\n",
       "      <td>284</td>\n",
       "      <td>284</td>\n",
       "    </tr>\n",
       "    <tr>\n",
       "      <th>9</th>\n",
       "      <td>212</td>\n",
       "      <td>212</td>\n",
       "      <td>212</td>\n",
       "      <td>212</td>\n",
       "    </tr>\n",
       "  </tbody>\n",
       "</table>\n",
       "</div>"
      ],
      "text/plain": [
       "           car  image path  color  car label\n",
       "car_label                                   \n",
       "104        608         608    608        608\n",
       "75         433         433    433        433\n",
       "20         426         426    426        426\n",
       "19         347         347    347        347\n",
       "58         343         343    343        343\n",
       "8          339         339    339        339\n",
       "133        330         330    330        330\n",
       "134        314         314    314        314\n",
       "183        284         284    284        284\n",
       "9          212         212    212        212"
      ]
     },
     "execution_count": 13,
     "metadata": {},
     "output_type": "execute_result"
    }
   ],
   "source": [
    "# вывожу наиболее распостранёные цвета\n",
    "train_df.groupby(train_df['car_label']).count().sort_values(by='color', ascending=False).head(10)"
   ]
  },
  {
   "cell_type": "code",
   "execution_count": 14,
   "metadata": {
    "scrolled": false
   },
   "outputs": [
    {
     "data": {
      "text/html": [
       "<div>\n",
       "<style scoped>\n",
       "    .dataframe tbody tr th:only-of-type {\n",
       "        vertical-align: middle;\n",
       "    }\n",
       "\n",
       "    .dataframe tbody tr th {\n",
       "        vertical-align: top;\n",
       "    }\n",
       "\n",
       "    .dataframe thead th {\n",
       "        text-align: right;\n",
       "    }\n",
       "</style>\n",
       "<table border=\"1\" class=\"dataframe\">\n",
       "  <thead>\n",
       "    <tr style=\"text-align: right;\">\n",
       "      <th></th>\n",
       "      <th>image path</th>\n",
       "      <th>car_label</th>\n",
       "    </tr>\n",
       "  </thead>\n",
       "  <tbody>\n",
       "    <tr>\n",
       "      <th>3766</th>\n",
       "      <td>C:/Datasets/Test_task_cv/train/Dodge Durango S...</td>\n",
       "      <td>109</td>\n",
       "    </tr>\n",
       "    <tr>\n",
       "      <th>1142</th>\n",
       "      <td>C:/Datasets/Test_task_cv/train/Bentley Contine...</td>\n",
       "      <td>181</td>\n",
       "    </tr>\n",
       "    <tr>\n",
       "      <th>5739</th>\n",
       "      <td>C:/Datasets/Test_task_cv/train/Hyundai Veloste...</td>\n",
       "      <td>144</td>\n",
       "    </tr>\n",
       "    <tr>\n",
       "      <th>2092</th>\n",
       "      <td>C:/Datasets/Test_task_cv/train/Cadillac Escala...</td>\n",
       "      <td>19</td>\n",
       "    </tr>\n",
       "    <tr>\n",
       "      <th>4160</th>\n",
       "      <td>C:/Datasets/Test_task_cv/train/Ferrari Califor...</td>\n",
       "      <td>156</td>\n",
       "    </tr>\n",
       "  </tbody>\n",
       "</table>\n",
       "</div>"
      ],
      "text/plain": [
       "                                             image path car_label\n",
       "3766  C:/Datasets/Test_task_cv/train/Dodge Durango S...       109\n",
       "1142  C:/Datasets/Test_task_cv/train/Bentley Contine...       181\n",
       "5739  C:/Datasets/Test_task_cv/train/Hyundai Veloste...       144\n",
       "2092  C:/Datasets/Test_task_cv/train/Cadillac Escala...        19\n",
       "4160  C:/Datasets/Test_task_cv/train/Ferrari Califor...       156"
      ]
     },
     "execution_count": 14,
     "metadata": {},
     "output_type": "execute_result"
    }
   ],
   "source": [
    "train_img_df = train_df[['image path', 'car_label']].copy()\n",
    "train_img_df.sample(5)"
   ]
  },
  {
   "cell_type": "code",
   "execution_count": 15,
   "metadata": {
    "scrolled": false
   },
   "outputs": [
    {
     "data": {
      "text/plain": [
       "(8144, 2)"
      ]
     },
     "execution_count": 15,
     "metadata": {},
     "output_type": "execute_result"
    }
   ],
   "source": [
    "train_img_df.shape"
   ]
  },
  {
   "cell_type": "code",
   "execution_count": 16,
   "metadata": {},
   "outputs": [],
   "source": [
    "# повторяю процедуры на тестовой выборке\n",
    "test_df = pd.read_csv(\"C:/Datasets/Test_task_cv/test_df_color.csv\")\n",
    "test_df['car_label'] = test_df.color.astype(\"category\").cat.codes\n",
    "test_df['car_label'] = test_df['car_label'].astype(\"str\")"
   ]
  },
  {
   "cell_type": "code",
   "execution_count": 17,
   "metadata": {},
   "outputs": [
    {
     "data": {
      "text/html": [
       "<div>\n",
       "<style scoped>\n",
       "    .dataframe tbody tr th:only-of-type {\n",
       "        vertical-align: middle;\n",
       "    }\n",
       "\n",
       "    .dataframe tbody tr th {\n",
       "        vertical-align: top;\n",
       "    }\n",
       "\n",
       "    .dataframe thead th {\n",
       "        text-align: right;\n",
       "    }\n",
       "</style>\n",
       "<table border=\"1\" class=\"dataframe\">\n",
       "  <thead>\n",
       "    <tr style=\"text-align: right;\">\n",
       "      <th></th>\n",
       "      <th>Unnamed: 0</th>\n",
       "      <th>car</th>\n",
       "      <th>image path</th>\n",
       "      <th>color</th>\n",
       "      <th>car_label</th>\n",
       "    </tr>\n",
       "  </thead>\n",
       "  <tbody>\n",
       "    <tr>\n",
       "      <th>0</th>\n",
       "      <td>0</td>\n",
       "      <td>Acura Integra Type R 2001</td>\n",
       "      <td>C:/Datasets/Test_task_cv/test/Acura Integra Ty...</td>\n",
       "      <td>grullo</td>\n",
       "      <td>106</td>\n",
       "    </tr>\n",
       "    <tr>\n",
       "      <th>1</th>\n",
       "      <td>1</td>\n",
       "      <td>Acura Integra Type R 2001</td>\n",
       "      <td>C:/Datasets/Test_task_cv/test/Acura Integra Ty...</td>\n",
       "      <td>jet</td>\n",
       "      <td>111</td>\n",
       "    </tr>\n",
       "    <tr>\n",
       "      <th>2</th>\n",
       "      <td>2</td>\n",
       "      <td>Acura Integra Type R 2001</td>\n",
       "      <td>C:/Datasets/Test_task_cv/test/Acura Integra Ty...</td>\n",
       "      <td>light_gray</td>\n",
       "      <td>121</td>\n",
       "    </tr>\n",
       "    <tr>\n",
       "      <th>3</th>\n",
       "      <td>3</td>\n",
       "      <td>Acura Integra Type R 2001</td>\n",
       "      <td>C:/Datasets/Test_task_cv/test/Acura Integra Ty...</td>\n",
       "      <td>lavender_gray</td>\n",
       "      <td>117</td>\n",
       "    </tr>\n",
       "    <tr>\n",
       "      <th>4</th>\n",
       "      <td>4</td>\n",
       "      <td>Acura Integra Type R 2001</td>\n",
       "      <td>C:/Datasets/Test_task_cv/test/Acura Integra Ty...</td>\n",
       "      <td>arsenic</td>\n",
       "      <td>6</td>\n",
       "    </tr>\n",
       "  </tbody>\n",
       "</table>\n",
       "</div>"
      ],
      "text/plain": [
       "   Unnamed: 0                        car  \\\n",
       "0           0  Acura Integra Type R 2001   \n",
       "1           1  Acura Integra Type R 2001   \n",
       "2           2  Acura Integra Type R 2001   \n",
       "3           3  Acura Integra Type R 2001   \n",
       "4           4  Acura Integra Type R 2001   \n",
       "\n",
       "                                          image path          color car_label  \n",
       "0  C:/Datasets/Test_task_cv/test/Acura Integra Ty...         grullo       106  \n",
       "1  C:/Datasets/Test_task_cv/test/Acura Integra Ty...            jet       111  \n",
       "2  C:/Datasets/Test_task_cv/test/Acura Integra Ty...     light_gray       121  \n",
       "3  C:/Datasets/Test_task_cv/test/Acura Integra Ty...  lavender_gray       117  \n",
       "4  C:/Datasets/Test_task_cv/test/Acura Integra Ty...        arsenic         6  "
      ]
     },
     "execution_count": 17,
     "metadata": {},
     "output_type": "execute_result"
    }
   ],
   "source": [
    "test_df.head()"
   ]
  },
  {
   "cell_type": "code",
   "execution_count": 18,
   "metadata": {},
   "outputs": [
    {
     "data": {
      "text/html": [
       "<div>\n",
       "<style scoped>\n",
       "    .dataframe tbody tr th:only-of-type {\n",
       "        vertical-align: middle;\n",
       "    }\n",
       "\n",
       "    .dataframe tbody tr th {\n",
       "        vertical-align: top;\n",
       "    }\n",
       "\n",
       "    .dataframe thead th {\n",
       "        text-align: right;\n",
       "    }\n",
       "</style>\n",
       "<table border=\"1\" class=\"dataframe\">\n",
       "  <thead>\n",
       "    <tr style=\"text-align: right;\">\n",
       "      <th></th>\n",
       "      <th>Unnamed: 0</th>\n",
       "      <th>car</th>\n",
       "      <th>image path</th>\n",
       "      <th>color</th>\n",
       "    </tr>\n",
       "    <tr>\n",
       "      <th>car_label</th>\n",
       "      <th></th>\n",
       "      <th></th>\n",
       "      <th></th>\n",
       "      <th></th>\n",
       "    </tr>\n",
       "  </thead>\n",
       "  <tbody>\n",
       "    <tr>\n",
       "      <th>111</th>\n",
       "      <td>591</td>\n",
       "      <td>591</td>\n",
       "      <td>591</td>\n",
       "      <td>591</td>\n",
       "    </tr>\n",
       "    <tr>\n",
       "      <th>82</th>\n",
       "      <td>465</td>\n",
       "      <td>465</td>\n",
       "      <td>465</td>\n",
       "      <td>465</td>\n",
       "    </tr>\n",
       "    <tr>\n",
       "      <th>21</th>\n",
       "      <td>438</td>\n",
       "      <td>438</td>\n",
       "      <td>438</td>\n",
       "      <td>438</td>\n",
       "    </tr>\n",
       "    <tr>\n",
       "      <th>20</th>\n",
       "      <td>376</td>\n",
       "      <td>376</td>\n",
       "      <td>376</td>\n",
       "      <td>376</td>\n",
       "    </tr>\n",
       "    <tr>\n",
       "      <th>66</th>\n",
       "      <td>349</td>\n",
       "      <td>349</td>\n",
       "      <td>349</td>\n",
       "      <td>349</td>\n",
       "    </tr>\n",
       "    <tr>\n",
       "      <th>...</th>\n",
       "      <td>...</td>\n",
       "      <td>...</td>\n",
       "      <td>...</td>\n",
       "      <td>...</td>\n",
       "    </tr>\n",
       "    <tr>\n",
       "      <th>153</th>\n",
       "      <td>1</td>\n",
       "      <td>1</td>\n",
       "      <td>1</td>\n",
       "      <td>1</td>\n",
       "    </tr>\n",
       "    <tr>\n",
       "      <th>155</th>\n",
       "      <td>1</td>\n",
       "      <td>1</td>\n",
       "      <td>1</td>\n",
       "      <td>1</td>\n",
       "    </tr>\n",
       "    <tr>\n",
       "      <th>29</th>\n",
       "      <td>1</td>\n",
       "      <td>1</td>\n",
       "      <td>1</td>\n",
       "      <td>1</td>\n",
       "    </tr>\n",
       "    <tr>\n",
       "      <th>164</th>\n",
       "      <td>1</td>\n",
       "      <td>1</td>\n",
       "      <td>1</td>\n",
       "      <td>1</td>\n",
       "    </tr>\n",
       "    <tr>\n",
       "      <th>141</th>\n",
       "      <td>1</td>\n",
       "      <td>1</td>\n",
       "      <td>1</td>\n",
       "      <td>1</td>\n",
       "    </tr>\n",
       "  </tbody>\n",
       "</table>\n",
       "<p>214 rows × 4 columns</p>\n",
       "</div>"
      ],
      "text/plain": [
       "           Unnamed: 0  car  image path  color\n",
       "car_label                                    \n",
       "111               591  591         591    591\n",
       "82                465  465         465    465\n",
       "21                438  438         438    438\n",
       "20                376  376         376    376\n",
       "66                349  349         349    349\n",
       "...               ...  ...         ...    ...\n",
       "153                 1    1           1      1\n",
       "155                 1    1           1      1\n",
       "29                  1    1           1      1\n",
       "164                 1    1           1      1\n",
       "141                 1    1           1      1\n",
       "\n",
       "[214 rows x 4 columns]"
      ]
     },
     "execution_count": 18,
     "metadata": {},
     "output_type": "execute_result"
    }
   ],
   "source": [
    "test_df.groupby(test_df['car_label']).count().sort_values(by='color', ascending=False)"
   ]
  },
  {
   "cell_type": "code",
   "execution_count": 19,
   "metadata": {
    "scrolled": true
   },
   "outputs": [
    {
     "data": {
      "text/html": [
       "<div>\n",
       "<style scoped>\n",
       "    .dataframe tbody tr th:only-of-type {\n",
       "        vertical-align: middle;\n",
       "    }\n",
       "\n",
       "    .dataframe tbody tr th {\n",
       "        vertical-align: top;\n",
       "    }\n",
       "\n",
       "    .dataframe thead th {\n",
       "        text-align: right;\n",
       "    }\n",
       "</style>\n",
       "<table border=\"1\" class=\"dataframe\">\n",
       "  <thead>\n",
       "    <tr style=\"text-align: right;\">\n",
       "      <th></th>\n",
       "      <th>image path</th>\n",
       "      <th>car_label</th>\n",
       "    </tr>\n",
       "  </thead>\n",
       "  <tbody>\n",
       "    <tr>\n",
       "      <th>7192</th>\n",
       "      <td>C:/Datasets/Test_task_cv/test/Rolls-Royce Phan...</td>\n",
       "      <td>183</td>\n",
       "    </tr>\n",
       "    <tr>\n",
       "      <th>4359</th>\n",
       "      <td>C:/Datasets/Test_task_cv/test/Ford Expedition ...</td>\n",
       "      <td>66</td>\n",
       "    </tr>\n",
       "    <tr>\n",
       "      <th>6743</th>\n",
       "      <td>C:/Datasets/Test_task_cv/test/Mercedes-Benz Sp...</td>\n",
       "      <td>111</td>\n",
       "    </tr>\n",
       "    <tr>\n",
       "      <th>3342</th>\n",
       "      <td>C:/Datasets/Test_task_cv/test/Dodge Caliber Wa...</td>\n",
       "      <td>145</td>\n",
       "    </tr>\n",
       "    <tr>\n",
       "      <th>5333</th>\n",
       "      <td>C:/Datasets/Test_task_cv/test/Hyundai Azera Se...</td>\n",
       "      <td>67</td>\n",
       "    </tr>\n",
       "  </tbody>\n",
       "</table>\n",
       "</div>"
      ],
      "text/plain": [
       "                                             image path car_label\n",
       "7192  C:/Datasets/Test_task_cv/test/Rolls-Royce Phan...       183\n",
       "4359  C:/Datasets/Test_task_cv/test/Ford Expedition ...        66\n",
       "6743  C:/Datasets/Test_task_cv/test/Mercedes-Benz Sp...       111\n",
       "3342  C:/Datasets/Test_task_cv/test/Dodge Caliber Wa...       145\n",
       "5333  C:/Datasets/Test_task_cv/test/Hyundai Azera Se...        67"
      ]
     },
     "execution_count": 19,
     "metadata": {},
     "output_type": "execute_result"
    }
   ],
   "source": [
    "test_img_df = test_df[['image path', 'car_label']].copy()\n",
    "test_img_df.sample(5)"
   ]
  },
  {
   "cell_type": "code",
   "execution_count": 20,
   "metadata": {},
   "outputs": [
    {
     "data": {
      "text/plain": [
       "0    C:/Datasets/Test_task_cv/test/Acura Integra Ty...\n",
       "1    C:/Datasets/Test_task_cv/test/Acura Integra Ty...\n",
       "2    C:/Datasets/Test_task_cv/test/Acura Integra Ty...\n",
       "3    C:/Datasets/Test_task_cv/test/Acura Integra Ty...\n",
       "4    C:/Datasets/Test_task_cv/test/Acura Integra Ty...\n",
       "Name: image path, dtype: object"
      ]
     },
     "execution_count": 20,
     "metadata": {},
     "output_type": "execute_result"
    }
   ],
   "source": [
    "test_img_df['image path'].head()"
   ]
  },
  {
   "cell_type": "code",
   "execution_count": 21,
   "metadata": {},
   "outputs": [
    {
     "data": {
      "text/plain": [
       "(8041, 2)"
      ]
     },
     "execution_count": 21,
     "metadata": {},
     "output_type": "execute_result"
    }
   ],
   "source": [
    "test_img_df.shape"
   ]
  },
  {
   "cell_type": "markdown",
   "metadata": {},
   "source": [
    "### Генераторы изображений\n",
    "\n",
    "Они мне необходимы для преобразования данных в необходимый формат"
   ]
  },
  {
   "cell_type": "code",
   "execution_count": 22,
   "metadata": {},
   "outputs": [],
   "source": [
    "datagen = ImageDataGenerator(rescale=1./255,       \n",
    "                             shear_range=0.2,\n",
    "                             zoom_range=0.3,\n",
    "                             horizontal_flip=True,\n",
    "                             brightness_range=[0.5,1.5],\n",
    "                             validation_split=0.25)"
   ]
  },
  {
   "cell_type": "code",
   "execution_count": 23,
   "metadata": {},
   "outputs": [
    {
     "name": "stdout",
     "output_type": "stream",
     "text": [
      "Found 6108 non-validated image filenames belonging to 200 classes.\n"
     ]
    }
   ],
   "source": [
    "train_generator = datagen.flow_from_dataframe(\n",
    "    dataframe = train_img_df,\n",
    "    directory = None,\n",
    "    x_col=\"image path\",\n",
    "    y_col=\"car_label\",\n",
    "    has_ext=True,                                     \n",
    "    subset=\"training\",\n",
    "    batch_size=32,\n",
    "    seed=42,\n",
    "    shuffle=True,\n",
    "    class_mode=\"categorical\",\n",
    "    target_size=(224,224), \n",
    "    color_mode='rgb',\n",
    "    validate_filenames=False\n",
    ")"
   ]
  },
  {
   "cell_type": "code",
   "execution_count": 24,
   "metadata": {},
   "outputs": [
    {
     "name": "stdout",
     "output_type": "stream",
     "text": [
      "Found 2036 non-validated image filenames belonging to 200 classes.\n"
     ]
    }
   ],
   "source": [
    "valid_generator = datagen.flow_from_dataframe(\n",
    "    dataframe=train_img_df,\n",
    "    directory = None, \n",
    "    x_col=\"image path\",\n",
    "    y_col=\"car_label\",\n",
    "    has_ext=True,\n",
    "    subset=\"validation\",\n",
    "    batch_size=2,\n",
    "    seed=42,\n",
    "    shuffle=True,\n",
    "    class_mode=\"categorical\",\n",
    "    target_size=(224, 224), \n",
    "    color_mode='rgb',\n",
    "    validate_filenames=False\n",
    ")"
   ]
  },
  {
   "cell_type": "code",
   "execution_count": 25,
   "metadata": {},
   "outputs": [],
   "source": [
    "test_datagen=ImageDataGenerator(rescale=1./255)"
   ]
  },
  {
   "cell_type": "code",
   "execution_count": 26,
   "metadata": {},
   "outputs": [
    {
     "name": "stdout",
     "output_type": "stream",
     "text": [
      "Found 8041 validated image filenames.\n"
     ]
    }
   ],
   "source": [
    "test_generator = test_datagen.flow_from_dataframe(\n",
    "    dataframe=test_img_df,\n",
    "\n",
    "    directory = None,\n",
    "    x_col=\"image path\",\n",
    "    y_col=None,\n",
    "    batch_size=32,\n",
    "    seed=42,\n",
    "    shuffle=False, \n",
    "    class_mode=None, \n",
    "    target_size=(224,224),\n",
    "    color_mode ='rgb'\n",
    ")"
   ]
  },
  {
   "cell_type": "code",
   "execution_count": 27,
   "metadata": {},
   "outputs": [],
   "source": [
    "step_train = train_generator.n//train_generator.batch_size\n",
    "step_valid = valid_generator.n//valid_generator.batch_size\n",
    "step_test = test_generator.n//test_generator.batch_size"
   ]
  },
  {
   "cell_type": "markdown",
   "metadata": {},
   "source": [
    "### Создание нейронной сети"
   ]
  },
  {
   "cell_type": "code",
   "execution_count": 28,
   "metadata": {},
   "outputs": [],
   "source": [
    "def color_net(num_classes):\n",
    "    # placeholder for input image\n",
    "    input_image = Input(shape=(224,224,3))\n",
    "    # ============================================= TOP BRANCH ===================================================\n",
    "    # first top convolution layer\n",
    "    top_conv1 = Conv2D(filters=48,kernel_size=(11,11),strides=(4,4),\n",
    "                              input_shape=(224,224,3),activation='relu')(input_image)\n",
    "    top_conv1 = BatchNormalization()(top_conv1)\n",
    "    top_conv1 = MaxPooling2D(pool_size=(3,3),strides=(2,2))(top_conv1)\n",
    "\n",
    "    # second top convolution layer\n",
    "    # split feature map by half\n",
    "    top_top_conv2 = Lambda(lambda x : x[:,:,:,:24])(top_conv1)\n",
    "    top_bot_conv2 = Lambda(lambda x : x[:,:,:,24:])(top_conv1)\n",
    "\n",
    "    top_top_conv2 = Conv2D(filters=64,kernel_size=(3,3),strides=(1,1),activation='relu',padding='same')(top_top_conv2)\n",
    "    top_top_conv2 = BatchNormalization()(top_top_conv2)\n",
    "    top_top_conv2 = MaxPooling2D(pool_size=(3,3),strides=(2,2))(top_top_conv2)\n",
    "\n",
    "    top_bot_conv2 = Conv2D(filters=64,kernel_size=(3,3),strides=(1,1),activation='relu',padding='same')(top_bot_conv2)\n",
    "    top_bot_conv2 = BatchNormalization()(top_bot_conv2)\n",
    "    top_bot_conv2 = MaxPooling2D(pool_size=(3,3),strides=(2,2))(top_bot_conv2)\n",
    "\n",
    "    # third top convolution layer\n",
    "    # concat 2 feature map\n",
    "    top_conv3 = Concatenate()([top_top_conv2,top_bot_conv2])\n",
    "    top_conv3 = Conv2D(filters=192,kernel_size=(3,3),strides=(1,1),activation='relu',padding='same')(top_conv3)\n",
    "\n",
    "    # fourth top convolution layer\n",
    "    # split feature map by half\n",
    "    top_top_conv4 = Lambda(lambda x : x[:,:,:,:96])(top_conv3)\n",
    "    top_bot_conv4 = Lambda(lambda x : x[:,:,:,96:])(top_conv3)\n",
    "\n",
    "    top_top_conv4 = Conv2D(filters=96,kernel_size=(3,3),strides=(1,1),activation='relu',padding='same')(top_top_conv4)\n",
    "    top_bot_conv4 = Conv2D(filters=96,kernel_size=(3,3),strides=(1,1),activation='relu',padding='same')(top_bot_conv4)\n",
    "\n",
    "    # fifth top convolution layer\n",
    "    top_top_conv5 = Conv2D(filters=64,kernel_size=(3,3),strides=(1,1),activation='relu',padding='same')(top_top_conv4)\n",
    "    top_top_conv5 = MaxPooling2D(pool_size=(3,3),strides=(2,2))(top_top_conv5) \n",
    "\n",
    "    top_bot_conv5 = Conv2D(filters=64,kernel_size=(3,3),strides=(1,1),activation='relu',padding='same')(top_bot_conv4)\n",
    "    top_bot_conv5 = MaxPooling2D(pool_size=(3,3),strides=(2,2))(top_bot_conv5)\n",
    "\n",
    "    # ============================================= TOP BOTTOM ===================================================\n",
    "    # first bottom convolution layer\n",
    "    bottom_conv1 = Conv2D(filters=48,kernel_size=(11,11),strides=(4,4),\n",
    "                              input_shape=(227,227,3),activation='relu')(input_image)\n",
    "    bottom_conv1 = BatchNormalization()(bottom_conv1)\n",
    "    bottom_conv1 = MaxPooling2D(pool_size=(3,3),strides=(2,2))(bottom_conv1)\n",
    "\n",
    "    # second bottom convolution layer\n",
    "    # split feature map by half\n",
    "    bottom_top_conv2 = Lambda(lambda x : x[:,:,:,:24])(bottom_conv1)\n",
    "    bottom_bot_conv2 = Lambda(lambda x : x[:,:,:,24:])(bottom_conv1)\n",
    "\n",
    "    bottom_top_conv2 = Conv2D(filters=64,kernel_size=(3,3),strides=(1,1),activation='relu',padding='same')(bottom_top_conv2)\n",
    "    bottom_top_conv2 = BatchNormalization()(bottom_top_conv2)\n",
    "    bottom_top_conv2 = MaxPooling2D(pool_size=(3,3),strides=(2,2))(bottom_top_conv2)\n",
    "\n",
    "    bottom_bot_conv2 = Conv2D(filters=64,kernel_size=(3,3),strides=(1,1),activation='relu',padding='same')(bottom_bot_conv2)\n",
    "    bottom_bot_conv2 = BatchNormalization()(bottom_bot_conv2)\n",
    "    bottom_bot_conv2 = MaxPooling2D(pool_size=(3,3),strides=(2,2))(bottom_bot_conv2)\n",
    "\n",
    "    # third bottom convolution layer\n",
    "    # concat 2 feature map\n",
    "    bottom_conv3 = Concatenate()([bottom_top_conv2,bottom_bot_conv2])\n",
    "    bottom_conv3 = Conv2D(filters=192,kernel_size=(3,3),strides=(1,1),activation='relu',padding='same')(bottom_conv3)\n",
    "\n",
    "    # fourth bottom convolution layer\n",
    "    # split feature map by half\n",
    "    bottom_top_conv4 = Lambda(lambda x : x[:,:,:,:96])(bottom_conv3)\n",
    "    bottom_bot_conv4 = Lambda(lambda x : x[:,:,:,96:])(bottom_conv3)\n",
    "\n",
    "    bottom_top_conv4 = Conv2D(filters=96,kernel_size=(3,3),strides=(1,1),activation='relu',padding='same')(bottom_top_conv4)\n",
    "    bottom_bot_conv4 = Conv2D(filters=96,kernel_size=(3,3),strides=(1,1),activation='relu',padding='same')(bottom_bot_conv4)\n",
    "\n",
    "    # fifth bottom convolution layer\n",
    "    bottom_top_conv5 = Conv2D(filters=64,kernel_size=(3,3),strides=(1,1),activation='relu',padding='same')(bottom_top_conv4)\n",
    "    bottom_top_conv5 = MaxPooling2D(pool_size=(3,3),strides=(2,2))(bottom_top_conv5) \n",
    "\n",
    "    bottom_bot_conv5 = Conv2D(filters=64,kernel_size=(3,3),strides=(1,1),activation='relu',padding='same')(bottom_bot_conv4)\n",
    "    bottom_bot_conv5 = MaxPooling2D(pool_size=(3,3),strides=(2,2))(bottom_bot_conv5)\n",
    "\n",
    "    # ======================================== CONCATENATE TOP AND BOTTOM BRANCH =================================\n",
    "    conv_output = Concatenate()([top_top_conv5,top_bot_conv5,bottom_top_conv5,bottom_bot_conv5])\n",
    "\n",
    "    # Flatten\n",
    "    flatten = Flatten()(conv_output)\n",
    "\n",
    "    # Fully-connected layer\n",
    "    FC_1 = Dense(units=4096, activation='relu')(flatten)\n",
    "    FC_1 = Dropout(0.6)(FC_1)\n",
    "    FC_2 = Dense(units=4096, activation='relu')(FC_1)\n",
    "    FC_2 = Dropout(0.6)(FC_2)\n",
    "    output = Dense(units=num_classes, activation='softmax')(FC_2)\n",
    "    \n",
    "    model = Model(inputs=input_image,outputs=output)\n",
    "    sgd = SGD(lr=1e-3, momentum=0.9, nesterov=True)\n",
    "    # sgd = SGD(lr=0.01, momentum=0.9, decay=0.0005, nesterov=True)\n",
    "    model.compile(optimizer=sgd, loss='categorical_crossentropy', metrics=['accuracy'])\n",
    "    \n",
    "    return model"
   ]
  },
  {
   "cell_type": "code",
   "execution_count": 29,
   "metadata": {
    "scrolled": true
   },
   "outputs": [
    {
     "name": "stderr",
     "output_type": "stream",
     "text": [
      "WARNING:absl:`lr` is deprecated in Keras optimizer, please use `learning_rate` or use the legacy optimizer, e.g.,tf.keras.optimizers.legacy.SGD.\n"
     ]
    },
    {
     "name": "stdout",
     "output_type": "stream",
     "text": [
      "Epoch 1/15\n",
      "190/190 [==============================] - ETA: 0s - loss: 4.1772 - accuracy: 0.0648\n",
      "Epoch 1: val_accuracy improved from -inf to 0.10118, saving model to color_weights.hdf5\n"
     ]
    },
    {
     "name": "stderr",
     "output_type": "stream",
     "text": [
      "C:\\Anaconda\\lib\\site-packages\\keras\\src\\engine\\training.py:3000: UserWarning: You are saving your model as an HDF5 file via `model.save()`. This file format is considered legacy. We recommend using instead the native Keras format, e.g. `model.save('my_model.keras')`.\n",
      "  saving_api.save_model(\n"
     ]
    },
    {
     "name": "stdout",
     "output_type": "stream",
     "text": [
      "190/190 [==============================] - 430s 2s/step - loss: 4.1772 - accuracy: 0.0648 - val_loss: 4.1753 - val_accuracy: 0.1012\n",
      "Epoch 2/15\n",
      "190/190 [==============================] - ETA: 0s - loss: 3.9278 - accuracy: 0.0904\n",
      "Epoch 2: val_accuracy did not improve from 0.10118\n",
      "190/190 [==============================] - 353s 2s/step - loss: 3.9278 - accuracy: 0.0904 - val_loss: 3.9291 - val_accuracy: 0.0712\n",
      "Epoch 3/15\n",
      "190/190 [==============================] - ETA: 0s - loss: 3.7929 - accuracy: 0.0994\n",
      "Epoch 3: val_accuracy did not improve from 0.10118\n",
      "190/190 [==============================] - 281s 1s/step - loss: 3.7929 - accuracy: 0.0994 - val_loss: 3.8689 - val_accuracy: 0.0869\n",
      "Epoch 4/15\n",
      "190/190 [==============================] - ETA: 0s - loss: 3.6616 - accuracy: 0.1175\n",
      "Epoch 4: val_accuracy improved from 0.10118 to 0.11100, saving model to color_weights.hdf5\n",
      "190/190 [==============================] - 283s 1s/step - loss: 3.6616 - accuracy: 0.1175 - val_loss: 3.6853 - val_accuracy: 0.1110\n",
      "Epoch 5/15\n",
      "190/190 [==============================] - ETA: 0s - loss: 3.5642 - accuracy: 0.1266\n",
      "Epoch 5: val_accuracy improved from 0.11100 to 0.12868, saving model to color_weights.hdf5\n",
      "190/190 [==============================] - 285s 1s/step - loss: 3.5642 - accuracy: 0.1266 - val_loss: 3.5503 - val_accuracy: 0.1287\n",
      "Epoch 6/15\n",
      "190/190 [==============================] - ETA: 0s - loss: 3.4743 - accuracy: 0.1300\n",
      "Epoch 6: val_accuracy did not improve from 0.12868\n",
      "190/190 [==============================] - 283s 1s/step - loss: 3.4743 - accuracy: 0.1300 - val_loss: 3.5933 - val_accuracy: 0.1125\n",
      "Epoch 7/15\n",
      "190/190 [==============================] - ETA: 0s - loss: 3.4146 - accuracy: 0.1378\n",
      "Epoch 7: val_accuracy improved from 0.12868 to 0.14637, saving model to color_weights.hdf5\n",
      "190/190 [==============================] - 283s 1s/step - loss: 3.4146 - accuracy: 0.1378 - val_loss: 3.4775 - val_accuracy: 0.1464\n",
      "Epoch 8/15\n",
      "190/190 [==============================] - ETA: 0s - loss: 3.3665 - accuracy: 0.1453\n",
      "Epoch 8: val_accuracy did not improve from 0.14637\n",
      "190/190 [==============================] - 285s 1s/step - loss: 3.3665 - accuracy: 0.1453 - val_loss: 3.5676 - val_accuracy: 0.1154\n",
      "Epoch 9/15\n",
      "190/190 [==============================] - ETA: 0s - loss: 3.3137 - accuracy: 0.1562\n",
      "Epoch 9: val_accuracy did not improve from 0.14637\n",
      "190/190 [==============================] - 283s 1s/step - loss: 3.3137 - accuracy: 0.1562 - val_loss: 3.5591 - val_accuracy: 0.1238\n",
      "Epoch 10/15\n",
      "190/190 [==============================] - ETA: 0s - loss: 3.2982 - accuracy: 0.1427\n",
      "Epoch 10: val_accuracy did not improve from 0.14637\n",
      "190/190 [==============================] - 283s 1s/step - loss: 3.2982 - accuracy: 0.1427 - val_loss: 3.3125 - val_accuracy: 0.1385\n",
      "Epoch 11/15\n",
      "190/190 [==============================] - ETA: 0s - loss: 3.2581 - accuracy: 0.1577\n",
      "Epoch 11: val_accuracy improved from 0.14637 to 0.15275, saving model to color_weights.hdf5\n",
      "190/190 [==============================] - 286s 2s/step - loss: 3.2581 - accuracy: 0.1577 - val_loss: 3.2962 - val_accuracy: 0.1528\n",
      "Epoch 12/15\n",
      "190/190 [==============================] - ETA: 0s - loss: 3.2190 - accuracy: 0.1562\n",
      "Epoch 12: val_accuracy did not improve from 0.15275\n",
      "190/190 [==============================] - 280s 1s/step - loss: 3.2190 - accuracy: 0.1562 - val_loss: 3.4026 - val_accuracy: 0.1356\n",
      "Epoch 13/15\n",
      "190/190 [==============================] - ETA: 0s - loss: 3.1819 - accuracy: 0.1616\n",
      "Epoch 13: val_accuracy improved from 0.15275 to 0.15373, saving model to color_weights.hdf5\n",
      "190/190 [==============================] - 284s 1s/step - loss: 3.1819 - accuracy: 0.1616 - val_loss: 3.3025 - val_accuracy: 0.1537\n",
      "Epoch 14/15\n",
      "190/190 [==============================] - ETA: 0s - loss: 3.1515 - accuracy: 0.1741\n",
      "Epoch 14: val_accuracy improved from 0.15373 to 0.16061, saving model to color_weights.hdf5\n",
      "190/190 [==============================] - 283s 1s/step - loss: 3.1515 - accuracy: 0.1741 - val_loss: 3.1283 - val_accuracy: 0.1606\n",
      "Epoch 15/15\n",
      "190/190 [==============================] - ETA: 0s - loss: 3.1084 - accuracy: 0.1777\n",
      "Epoch 15: val_accuracy did not improve from 0.16061\n",
      "190/190 [==============================] - 282s 1s/step - loss: 3.1084 - accuracy: 0.1777 - val_loss: 3.2161 - val_accuracy: 0.1557\n"
     ]
    }
   ],
   "source": [
    "num_classes = 200\n",
    "nb_epoch = 15\n",
    "\n",
    "# initialise model\n",
    "model = color_net(num_classes)\n",
    "\n",
    "filepath = 'color_weights.hdf5'\n",
    "checkpoint = ModelCheckpoint(filepath, \n",
    "                             monitor='val_accuracy', \n",
    "                             verbose=1, \n",
    "                             save_best_only=True, \n",
    "                             mode='max')\n",
    "callbacks_list = [checkpoint]\n",
    "\n",
    "history = model.fit(\n",
    "                    train_generator,\n",
    "                    steps_per_epoch=step_train,\n",
    "                    epochs=nb_epoch,\n",
    "                    validation_data=valid_generator,\n",
    "                    validation_steps=step_valid,\n",
    "                    callbacks=callbacks_list,\n",
    "                    verbose=1)"
   ]
  },
  {
   "cell_type": "markdown",
   "metadata": {},
   "source": [
    "### Оценка"
   ]
  },
  {
   "cell_type": "code",
   "execution_count": 30,
   "metadata": {},
   "outputs": [
    {
     "name": "stdout",
     "output_type": "stream",
     "text": [
      "1018/1018 [==============================] - 59s 58ms/step - loss: 3.2188 - accuracy: 0.1582\n"
     ]
    },
    {
     "data": {
      "text/plain": [
       "[3.2187631130218506, 0.158153235912323]"
      ]
     },
     "execution_count": 30,
     "metadata": {},
     "output_type": "execute_result"
    }
   ],
   "source": [
    "model.evaluate(\n",
    "    valid_generator, \n",
    "    steps=step_valid, \n",
    "    verbose=1)"
   ]
  },
  {
   "cell_type": "code",
   "execution_count": 31,
   "metadata": {
    "scrolled": false
   },
   "outputs": [
    {
     "data": {
      "image/png": "[encoded data removed]",
      "text/plain": [
       "<Figure size 1200x800 with 1 Axes>"
      ]
     },
     "metadata": {},
     "output_type": "display_data"
    }
   ],
   "source": [
    "train_loss = history.history['loss']\n",
    "test_loss = history.history['val_loss']\n",
    "\n",
    "\n",
    "plt.figure(figsize=(12, 8))\n",
    "\n",
    "# Создаю график изменения потерь на протяжении эпох\n",
    "plt.plot(train_loss, label='Потери на обучении', color='#185fad')\n",
    "plt.plot(test_loss, label='Потери на тесте', color='orange')\n",
    "\n",
    "# Set title\n",
    "plt.title('Потери на протяжении 15 эпох', fontsize = 25)\n",
    "plt.xlabel('Эпоха', fontsize = 18)\n",
    "plt.ylabel('Категориальная кросс-энтропия', fontsize = 18)\n",
    "plt.xticks(range(15))\n",
    "\n",
    "plt.legend(fontsize = 18);"
   ]
  },
  {
   "cell_type": "code",
   "execution_count": 32,
   "metadata": {},
   "outputs": [
    {
     "data": {
      "image/png": "[encoded data removed]",
      "text/plain": [
       "<Figure size 1200x800 with 1 Axes>"
      ]
     },
     "metadata": {},
     "output_type": "display_data"
    }
   ],
   "source": [
    "# тоже самое, но с accuracy\n",
    "train_acc = history.history['accuracy']\n",
    "test_acc = history.history['val_accuracy']\n",
    "\n",
    "\n",
    "plt.figure(figsize=(12, 8))\n",
    "\n",
    "\n",
    "plt.plot(train_acc, label='Точность на тренировочной выборке', color='#185fad')\n",
    "plt.plot(test_acc, label='Точность на валидации', color='orange')\n",
    "\n",
    "plt.xlabel('Эпоха', fontsize = 18)\n",
    "plt.ylabel('Категориальная кросс-энтропия', fontsize = 18)\n",
    "plt.xticks(range(15))\n",
    "\n",
    "plt.legend(fontsize = 18, loc=\"lower right\");"
   ]
  },
  {
   "cell_type": "markdown",
   "metadata": {},
   "source": [
    "### Финальные предсказания"
   ]
  },
  {
   "cell_type": "code",
   "execution_count": 33,
   "metadata": {},
   "outputs": [
    {
     "name": "stdout",
     "output_type": "stream",
     "text": [
      "252/252 [==============================] - 207s 823ms/step\n"
     ]
    }
   ],
   "source": [
    "test_generator.reset()\n",
    "pred=model.predict(test_generator,verbose=1)"
   ]
  },
  {
   "cell_type": "code",
   "execution_count": 34,
   "metadata": {},
   "outputs": [
    {
     "name": "stdout",
     "output_type": "stream",
     "text": [
      "[198   7 101 ... 173  94  39]\n"
     ]
    }
   ],
   "source": [
    "predicted_class_indices=np.argmax(pred,axis=1)\n",
    "print(predicted_class_indices)"
   ]
  },
  {
   "cell_type": "markdown",
   "metadata": {},
   "source": [
    "Результат считаю удовлетворительным"
   ]
  }
 ],
 "metadata": {
  "kernelspec": {
   "display_name": "Python 3 (ipykernel)",
   "language": "python",
   "name": "python3"
  },
  "language_info": {
   "codemirror_mode": {
    "name": "ipython",
    "version": 3
   },
   "file_extension": ".py",
   "mimetype": "text/x-python",
   "name": "python",
   "nbconvert_exporter": "python",
   "pygments_lexer": "ipython3",
   "version": "3.10.9"
  }
 },
 "nbformat": 4,
 "nbformat_minor": 4
}
