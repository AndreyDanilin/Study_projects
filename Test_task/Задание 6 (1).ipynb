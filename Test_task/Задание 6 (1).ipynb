{
 "cells": [
  {
   "cell_type": "markdown",
   "id": "37aebb6b",
   "metadata": {},
   "source": [
    "## Постановка задачи\n",
    "\n",
    "Необходимо создать модель, которая сможет по параметрам автомобиля определить дату будущего техосмотра, и пробег на эту дату"
   ]
  },
  {
   "cell_type": "code",
   "execution_count": 1,
   "id": "1d2f6a1c",
   "metadata": {},
   "outputs": [
    {
     "name": "stdout",
     "output_type": "stream",
     "text": [
      "Requirement already satisfied: association_metrics in c:\\users\\andre\\anaconda3\\envs\\ds_practicum_env\\lib\\site-packages (0.0.1)\n",
      "Requirement already satisfied: lightgbm in c:\\users\\andre\\anaconda3\\envs\\ds_practicum_env\\lib\\site-packages (4.1.0)\n",
      "Requirement already satisfied: scipy in c:\\users\\andre\\anaconda3\\envs\\ds_practicum_env\\lib\\site-packages (from lightgbm) (1.8.0)\n",
      "Requirement already satisfied: numpy in c:\\users\\andre\\anaconda3\\envs\\ds_practicum_env\\lib\\site-packages (from lightgbm) (1.24.4)\n",
      "Requirement already satisfied: scikit-learn==1.1.3 in c:\\users\\andre\\anaconda3\\envs\\ds_practicum_env\\lib\\site-packages (1.1.3)\n",
      "Requirement already satisfied: scipy>=1.3.2 in c:\\users\\andre\\anaconda3\\envs\\ds_practicum_env\\lib\\site-packages (from scikit-learn==1.1.3) (1.8.0)\n",
      "Requirement already satisfied: joblib>=1.0.0 in c:\\users\\andre\\anaconda3\\envs\\ds_practicum_env\\lib\\site-packages (from scikit-learn==1.1.3) (1.2.0)\n",
      "Requirement already satisfied: threadpoolctl>=2.0.0 in c:\\users\\andre\\anaconda3\\envs\\ds_practicum_env\\lib\\site-packages (from scikit-learn==1.1.3) (3.1.0)\n",
      "Requirement already satisfied: numpy>=1.17.3 in c:\\users\\andre\\anaconda3\\envs\\ds_practicum_env\\lib\\site-packages (from scikit-learn==1.1.3) (1.24.4)\n"
     ]
    }
   ],
   "source": [
    "!pip install association_metrics\n",
    "!pip install lightgbm\n",
    "!pip install scikit-learn==1.1.3"
   ]
  },
  {
   "cell_type": "code",
   "execution_count": 2,
   "id": "0526c436",
   "metadata": {},
   "outputs": [],
   "source": [
    "#Импорт необходимых компонентов\n",
    "import pandas as pd\n",
    "import matplotlib.pyplot as plt\n",
    "import association_metrics as am\n",
    "import warnings\n",
    "\n",
    "from lightgbm import LGBMRegressor\n",
    "from datetime import timezone\n",
    "from sklearn.model_selection import GridSearchCV, cross_val_score\n",
    "from sklearn.linear_model import LinearRegression\n",
    "from sklearn.ensemble import RandomForestRegressor\n",
    "from sklearn.preprocessing import OneHotEncoder, StandardScaler\n",
    "from sklearn.metrics import mean_squared_error\n",
    "from catboost import CatBoostRegressor\n",
    "\n",
    "warnings.filterwarnings(\"ignore\")"
   ]
  },
  {
   "cell_type": "code",
   "execution_count": 3,
   "id": "20418931",
   "metadata": {},
   "outputs": [],
   "source": [
    "df_train = pd.read_csv('C:/Users/andre/OneDrive/Рабочий стол/test/train.csv',sep=';',index_col = 'Unnamed: 0')\n",
    "df_test = pd.read_csv('C:/Users/andre/OneDrive/Рабочий стол/test/test.csv',sep=';',index_col = 'Unnamed: 0')"
   ]
  },
  {
   "cell_type": "markdown",
   "id": "a11a2c1f",
   "metadata": {},
   "source": [
    "## Первичный осмотр"
   ]
  },
  {
   "cell_type": "code",
   "execution_count": 4,
   "id": "47e17bd5",
   "metadata": {},
   "outputs": [
    {
     "data": {
      "text/html": [
       "<div>\n",
       "<style scoped>\n",
       "    .dataframe tbody tr th:only-of-type {\n",
       "        vertical-align: middle;\n",
       "    }\n",
       "\n",
       "    .dataframe tbody tr th {\n",
       "        vertical-align: top;\n",
       "    }\n",
       "\n",
       "    .dataframe thead th {\n",
       "        text-align: right;\n",
       "    }\n",
       "</style>\n",
       "<table border=\"1\" class=\"dataframe\">\n",
       "  <thead>\n",
       "    <tr style=\"text-align: right;\">\n",
       "      <th></th>\n",
       "      <th>АвтомобильМодель</th>\n",
       "      <th>АвтомобильМодельБренд</th>\n",
       "      <th>АвтомобильVIN</th>\n",
       "      <th>Значение</th>\n",
       "      <th>АвтомобильГодВыпуска</th>\n",
       "      <th>Период</th>\n",
       "      <th>АвтомобильМодельМежсервисныйПробегТО</th>\n",
       "      <th>ТО</th>\n",
       "    </tr>\n",
       "  </thead>\n",
       "  <tbody>\n",
       "    <tr>\n",
       "      <th>0</th>\n",
       "      <td>LADA Largus Caravan (7м)</td>\n",
       "      <td>LADA</td>\n",
       "      <td>27837</td>\n",
       "      <td>29 644</td>\n",
       "      <td>01.01.2014 0:00:00</td>\n",
       "      <td>03.08.2015 0:00:00</td>\n",
       "      <td>15 000</td>\n",
       "      <td>Нет</td>\n",
       "    </tr>\n",
       "    <tr>\n",
       "      <th>1</th>\n",
       "      <td>LADA Largus Caravan (7м)</td>\n",
       "      <td>LADA</td>\n",
       "      <td>27837</td>\n",
       "      <td>29 644</td>\n",
       "      <td>01.01.2014 0:00:00</td>\n",
       "      <td>06.08.2015 0:00:00</td>\n",
       "      <td>15 000</td>\n",
       "      <td>Да</td>\n",
       "    </tr>\n",
       "    <tr>\n",
       "      <th>2</th>\n",
       "      <td>LADA Largus Caravan (7м)</td>\n",
       "      <td>LADA</td>\n",
       "      <td>27837</td>\n",
       "      <td>62 152</td>\n",
       "      <td>01.01.2014 0:00:00</td>\n",
       "      <td>28.04.2016 0:00:00</td>\n",
       "      <td>15 000</td>\n",
       "      <td>Нет</td>\n",
       "    </tr>\n",
       "    <tr>\n",
       "      <th>3</th>\n",
       "      <td>LADA Largus Caravan (7м)</td>\n",
       "      <td>LADA</td>\n",
       "      <td>27837</td>\n",
       "      <td>104 743</td>\n",
       "      <td>01.01.2014 0:00:00</td>\n",
       "      <td>09.12.2016 0:00:00</td>\n",
       "      <td>15 000</td>\n",
       "      <td>Да</td>\n",
       "    </tr>\n",
       "    <tr>\n",
       "      <th>4</th>\n",
       "      <td>УАЗ Patriot 3163</td>\n",
       "      <td>УАЗ</td>\n",
       "      <td>28253</td>\n",
       "      <td>29 979</td>\n",
       "      <td>01.01.2016 0:00:00</td>\n",
       "      <td>27.01.2018 0:00:00</td>\n",
       "      <td>15 000</td>\n",
       "      <td>Да</td>\n",
       "    </tr>\n",
       "    <tr>\n",
       "      <th>...</th>\n",
       "      <td>...</td>\n",
       "      <td>...</td>\n",
       "      <td>...</td>\n",
       "      <td>...</td>\n",
       "      <td>...</td>\n",
       "      <td>...</td>\n",
       "      <td>...</td>\n",
       "      <td>...</td>\n",
       "    </tr>\n",
       "    <tr>\n",
       "      <th>109231</th>\n",
       "      <td>Toyota Corolla X E140/E150</td>\n",
       "      <td>TOYOTA</td>\n",
       "      <td>10244</td>\n",
       "      <td>85 847</td>\n",
       "      <td>01.01.2011 0:00:00</td>\n",
       "      <td>12.04.2016 0:00:00</td>\n",
       "      <td>10 000</td>\n",
       "      <td>Нет</td>\n",
       "    </tr>\n",
       "    <tr>\n",
       "      <th>109232</th>\n",
       "      <td>Toyota Corolla X E140/E150</td>\n",
       "      <td>TOYOTA</td>\n",
       "      <td>10244</td>\n",
       "      <td>89 316</td>\n",
       "      <td>01.01.2011 0:00:00</td>\n",
       "      <td>11.06.2016 0:00:00</td>\n",
       "      <td>10 000</td>\n",
       "      <td>Нет</td>\n",
       "    </tr>\n",
       "    <tr>\n",
       "      <th>109233</th>\n",
       "      <td>Toyota Corolla X E140/E150</td>\n",
       "      <td>TOYOTA</td>\n",
       "      <td>10244</td>\n",
       "      <td>89 316</td>\n",
       "      <td>01.01.2011 0:00:00</td>\n",
       "      <td>12.06.2016 0:00:00</td>\n",
       "      <td>10 000</td>\n",
       "      <td>Нет</td>\n",
       "    </tr>\n",
       "    <tr>\n",
       "      <th>109234</th>\n",
       "      <td>Hyundai ix35 I</td>\n",
       "      <td>Hyundai</td>\n",
       "      <td>15476</td>\n",
       "      <td>25 750</td>\n",
       "      <td>01.01.2014 0:00:00</td>\n",
       "      <td>29.07.2017 0:00:00</td>\n",
       "      <td>15 000</td>\n",
       "      <td>Да</td>\n",
       "    </tr>\n",
       "    <tr>\n",
       "      <th>109235</th>\n",
       "      <td>Toyota Camry VII</td>\n",
       "      <td>TOYOTA</td>\n",
       "      <td>30094</td>\n",
       "      <td>39 322</td>\n",
       "      <td>01.01.2015 0:00:00</td>\n",
       "      <td>31.08.2018 0:00:00</td>\n",
       "      <td>10 000</td>\n",
       "      <td>Нет</td>\n",
       "    </tr>\n",
       "  </tbody>\n",
       "</table>\n",
       "<p>109236 rows × 8 columns</p>\n",
       "</div>"
      ],
      "text/plain": [
       "                  АвтомобильМодель АвтомобильМодельБренд  АвтомобильVIN  \\\n",
       "0         LADA Largus Caravan (7м)                  LADA          27837   \n",
       "1         LADA Largus Caravan (7м)                  LADA          27837   \n",
       "2         LADA Largus Caravan (7м)                  LADA          27837   \n",
       "3         LADA Largus Caravan (7м)                  LADA          27837   \n",
       "4                 УАЗ Patriot 3163                   УАЗ          28253   \n",
       "...                            ...                   ...            ...   \n",
       "109231  Toyota Corolla X E140/E150                TOYOTA          10244   \n",
       "109232  Toyota Corolla X E140/E150                TOYOTA          10244   \n",
       "109233  Toyota Corolla X E140/E150                TOYOTA          10244   \n",
       "109234              Hyundai ix35 I               Hyundai          15476   \n",
       "109235            Toyota Camry VII                TOYOTA          30094   \n",
       "\n",
       "       Значение АвтомобильГодВыпуска              Период  \\\n",
       "0        29 644   01.01.2014 0:00:00  03.08.2015 0:00:00   \n",
       "1        29 644   01.01.2014 0:00:00  06.08.2015 0:00:00   \n",
       "2        62 152   01.01.2014 0:00:00  28.04.2016 0:00:00   \n",
       "3       104 743   01.01.2014 0:00:00  09.12.2016 0:00:00   \n",
       "4        29 979   01.01.2016 0:00:00  27.01.2018 0:00:00   \n",
       "...         ...                  ...                 ...   \n",
       "109231   85 847   01.01.2011 0:00:00  12.04.2016 0:00:00   \n",
       "109232   89 316   01.01.2011 0:00:00  11.06.2016 0:00:00   \n",
       "109233   89 316   01.01.2011 0:00:00  12.06.2016 0:00:00   \n",
       "109234   25 750   01.01.2014 0:00:00  29.07.2017 0:00:00   \n",
       "109235   39 322   01.01.2015 0:00:00  31.08.2018 0:00:00   \n",
       "\n",
       "       АвтомобильМодельМежсервисныйПробегТО   ТО  \n",
       "0                                    15 000  Нет  \n",
       "1                                    15 000   Да  \n",
       "2                                    15 000  Нет  \n",
       "3                                    15 000   Да  \n",
       "4                                    15 000   Да  \n",
       "...                                     ...  ...  \n",
       "109231                               10 000  Нет  \n",
       "109232                               10 000  Нет  \n",
       "109233                               10 000  Нет  \n",
       "109234                               15 000   Да  \n",
       "109235                               10 000  Нет  \n",
       "\n",
       "[109236 rows x 8 columns]"
      ]
     },
     "execution_count": 4,
     "metadata": {},
     "output_type": "execute_result"
    }
   ],
   "source": [
    "df_train"
   ]
  },
  {
   "cell_type": "code",
   "execution_count": 5,
   "id": "f8875152",
   "metadata": {},
   "outputs": [
    {
     "data": {
      "text/html": [
       "<div>\n",
       "<style scoped>\n",
       "    .dataframe tbody tr th:only-of-type {\n",
       "        vertical-align: middle;\n",
       "    }\n",
       "\n",
       "    .dataframe tbody tr th {\n",
       "        vertical-align: top;\n",
       "    }\n",
       "\n",
       "    .dataframe thead th {\n",
       "        text-align: right;\n",
       "    }\n",
       "</style>\n",
       "<table border=\"1\" class=\"dataframe\">\n",
       "  <thead>\n",
       "    <tr style=\"text-align: right;\">\n",
       "      <th></th>\n",
       "      <th>АвтомобильМодель</th>\n",
       "      <th>АвтомобильМодельБренд</th>\n",
       "      <th>АвтомобильVIN</th>\n",
       "      <th>Значение</th>\n",
       "      <th>АвтомобильГодВыпуска</th>\n",
       "      <th>Период</th>\n",
       "      <th>АвтомобильМодельМежсервисныйПробегТО</th>\n",
       "      <th>ТО</th>\n",
       "    </tr>\n",
       "  </thead>\n",
       "  <tbody>\n",
       "    <tr>\n",
       "      <th>0</th>\n",
       "      <td>Hyundai Solaris HCR</td>\n",
       "      <td>Hyundai</td>\n",
       "      <td>45459</td>\n",
       "      <td>45 986</td>\n",
       "      <td>01.01.2017 0:00:00</td>\n",
       "      <td>24.06.2018 0:00:00</td>\n",
       "      <td>15 000</td>\n",
       "      <td>Да</td>\n",
       "    </tr>\n",
       "    <tr>\n",
       "      <th>1</th>\n",
       "      <td>Hyundai Sonata VI</td>\n",
       "      <td>Hyundai</td>\n",
       "      <td>11029</td>\n",
       "      <td>40 193</td>\n",
       "      <td>01.01.2011 0:00:00</td>\n",
       "      <td>15.03.2015 0:00:00</td>\n",
       "      <td>15 000</td>\n",
       "      <td>Да</td>\n",
       "    </tr>\n",
       "    <tr>\n",
       "      <th>2</th>\n",
       "      <td>Hyundai Santa Fe II</td>\n",
       "      <td>Hyundai</td>\n",
       "      <td>11597</td>\n",
       "      <td>56 355</td>\n",
       "      <td>01.01.2012 0:00:00</td>\n",
       "      <td>11.09.2019 0:00:00</td>\n",
       "      <td>15 000</td>\n",
       "      <td>Да</td>\n",
       "    </tr>\n",
       "    <tr>\n",
       "      <th>3</th>\n",
       "      <td>Hyundai Elantra V</td>\n",
       "      <td>Hyundai</td>\n",
       "      <td>10664</td>\n",
       "      <td>179 260</td>\n",
       "      <td>01.01.2013 0:00:00</td>\n",
       "      <td>23.10.2018 0:00:00</td>\n",
       "      <td>15 000</td>\n",
       "      <td>Да</td>\n",
       "    </tr>\n",
       "    <tr>\n",
       "      <th>4</th>\n",
       "      <td>Hyundai Solaris Sedan</td>\n",
       "      <td>Hyundai</td>\n",
       "      <td>40022</td>\n",
       "      <td>45 120</td>\n",
       "      <td>01.01.2016 0:00:00</td>\n",
       "      <td>09.06.2018 0:00:00</td>\n",
       "      <td>15 000</td>\n",
       "      <td>Да</td>\n",
       "    </tr>\n",
       "    <tr>\n",
       "      <th>...</th>\n",
       "      <td>...</td>\n",
       "      <td>...</td>\n",
       "      <td>...</td>\n",
       "      <td>...</td>\n",
       "      <td>...</td>\n",
       "      <td>...</td>\n",
       "      <td>...</td>\n",
       "      <td>...</td>\n",
       "    </tr>\n",
       "    <tr>\n",
       "      <th>10473</th>\n",
       "      <td>Toyota RAV 4 IV 5D</td>\n",
       "      <td>TOYOTA</td>\n",
       "      <td>8383</td>\n",
       "      <td>33 521</td>\n",
       "      <td>01.01.2015 0:00:00</td>\n",
       "      <td>17.10.2018 0:00:00</td>\n",
       "      <td>10 000</td>\n",
       "      <td>Да</td>\n",
       "    </tr>\n",
       "    <tr>\n",
       "      <th>10474</th>\n",
       "      <td>Hyundai Solaris Sedan</td>\n",
       "      <td>Hyundai</td>\n",
       "      <td>39104</td>\n",
       "      <td>25 552</td>\n",
       "      <td>01.01.2014 0:00:00</td>\n",
       "      <td>18.11.2018 0:00:00</td>\n",
       "      <td>15 000</td>\n",
       "      <td>Да</td>\n",
       "    </tr>\n",
       "    <tr>\n",
       "      <th>10475</th>\n",
       "      <td>Lexus NX 200T</td>\n",
       "      <td>LEXUS</td>\n",
       "      <td>5059</td>\n",
       "      <td>30 099</td>\n",
       "      <td>01.01.2016 0:00:00</td>\n",
       "      <td>01.04.2019 0:00:00</td>\n",
       "      <td>10 000</td>\n",
       "      <td>Да</td>\n",
       "    </tr>\n",
       "    <tr>\n",
       "      <th>10476</th>\n",
       "      <td>Toyota Land Cruiser 200</td>\n",
       "      <td>TOYOTA</td>\n",
       "      <td>7698</td>\n",
       "      <td>189 650</td>\n",
       "      <td>01.01.2013 0:00:00</td>\n",
       "      <td>15.02.2019 0:00:00</td>\n",
       "      <td>10 000</td>\n",
       "      <td>Да</td>\n",
       "    </tr>\n",
       "    <tr>\n",
       "      <th>10477</th>\n",
       "      <td>Toyota Land Cruiser 200</td>\n",
       "      <td>TOYOTA</td>\n",
       "      <td>7554</td>\n",
       "      <td>90 239</td>\n",
       "      <td>01.01.2016 0:00:00</td>\n",
       "      <td>09.08.2019 0:00:00</td>\n",
       "      <td>10 000</td>\n",
       "      <td>Да</td>\n",
       "    </tr>\n",
       "  </tbody>\n",
       "</table>\n",
       "<p>10478 rows × 8 columns</p>\n",
       "</div>"
      ],
      "text/plain": [
       "              АвтомобильМодель АвтомобильМодельБренд  АвтомобильVIN Значение  \\\n",
       "0          Hyundai Solaris HCR               Hyundai          45459   45 986   \n",
       "1            Hyundai Sonata VI               Hyundai          11029   40 193   \n",
       "2          Hyundai Santa Fe II               Hyundai          11597   56 355   \n",
       "3            Hyundai Elantra V               Hyundai          10664  179 260   \n",
       "4        Hyundai Solaris Sedan               Hyundai          40022   45 120   \n",
       "...                        ...                   ...            ...      ...   \n",
       "10473       Toyota RAV 4 IV 5D                TOYOTA           8383   33 521   \n",
       "10474    Hyundai Solaris Sedan               Hyundai          39104   25 552   \n",
       "10475            Lexus NX 200T                 LEXUS           5059   30 099   \n",
       "10476  Toyota Land Cruiser 200                TOYOTA           7698  189 650   \n",
       "10477  Toyota Land Cruiser 200                TOYOTA           7554   90 239   \n",
       "\n",
       "      АвтомобильГодВыпуска              Период  \\\n",
       "0       01.01.2017 0:00:00  24.06.2018 0:00:00   \n",
       "1       01.01.2011 0:00:00  15.03.2015 0:00:00   \n",
       "2       01.01.2012 0:00:00  11.09.2019 0:00:00   \n",
       "3       01.01.2013 0:00:00  23.10.2018 0:00:00   \n",
       "4       01.01.2016 0:00:00  09.06.2018 0:00:00   \n",
       "...                    ...                 ...   \n",
       "10473   01.01.2015 0:00:00  17.10.2018 0:00:00   \n",
       "10474   01.01.2014 0:00:00  18.11.2018 0:00:00   \n",
       "10475   01.01.2016 0:00:00  01.04.2019 0:00:00   \n",
       "10476   01.01.2013 0:00:00  15.02.2019 0:00:00   \n",
       "10477   01.01.2016 0:00:00  09.08.2019 0:00:00   \n",
       "\n",
       "      АвтомобильМодельМежсервисныйПробегТО  ТО  \n",
       "0                                   15 000  Да  \n",
       "1                                   15 000  Да  \n",
       "2                                   15 000  Да  \n",
       "3                                   15 000  Да  \n",
       "4                                   15 000  Да  \n",
       "...                                    ...  ..  \n",
       "10473                               10 000  Да  \n",
       "10474                               15 000  Да  \n",
       "10475                               10 000  Да  \n",
       "10476                               10 000  Да  \n",
       "10477                               10 000  Да  \n",
       "\n",
       "[10478 rows x 8 columns]"
      ]
     },
     "execution_count": 5,
     "metadata": {},
     "output_type": "execute_result"
    }
   ],
   "source": [
    "df_test"
   ]
  },
  {
   "cell_type": "markdown",
   "id": "d5c9d29d",
   "metadata": {},
   "source": [
    "Тестовый датафрейм содержит информацию, которая может представлять ценность для аналитической работы, и информацию из всех столбцов, кроме таргетов можно получить, взаимодействуя с обучающим датафреймом.\n",
    "\n",
    "Поэтому я позаимствую эти данные"
   ]
  },
  {
   "cell_type": "code",
   "execution_count": 6,
   "id": "36c951bd",
   "metadata": {},
   "outputs": [],
   "source": [
    "df_unique = df_test.drop(['Значение','Период'],axis=1)"
   ]
  },
  {
   "cell_type": "code",
   "execution_count": 7,
   "id": "3ac9ecd0",
   "metadata": {},
   "outputs": [
    {
     "name": "stdout",
     "output_type": "stream",
     "text": [
      "<class 'pandas.core.frame.DataFrame'>\n",
      "Int64Index: 109236 entries, 0 to 109235\n",
      "Data columns (total 8 columns):\n",
      " #   Column                                Non-Null Count   Dtype \n",
      "---  ------                                --------------   ----- \n",
      " 0   АвтомобильМодель                      109236 non-null  object\n",
      " 1   АвтомобильМодельБренд                 109236 non-null  object\n",
      " 2   АвтомобильVIN                         109236 non-null  int64 \n",
      " 3   Значение                              108832 non-null  object\n",
      " 4   АвтомобильГодВыпуска                  109236 non-null  object\n",
      " 5   Период                                109236 non-null  object\n",
      " 6   АвтомобильМодельМежсервисныйПробегТО  109236 non-null  object\n",
      " 7   ТО                                    109236 non-null  object\n",
      "dtypes: int64(1), object(7)\n",
      "memory usage: 7.5+ MB\n"
     ]
    }
   ],
   "source": [
    "df_train.info()"
   ]
  },
  {
   "cell_type": "code",
   "execution_count": 8,
   "id": "512b3833",
   "metadata": {},
   "outputs": [
    {
     "data": {
      "text/plain": [
       "АвтомобильМодель                          0\n",
       "АвтомобильМодельБренд                     0\n",
       "АвтомобильVIN                             0\n",
       "Значение                                404\n",
       "АвтомобильГодВыпуска                      0\n",
       "Период                                    0\n",
       "АвтомобильМодельМежсервисныйПробегТО      0\n",
       "ТО                                        0\n",
       "dtype: int64"
      ]
     },
     "execution_count": 8,
     "metadata": {},
     "output_type": "execute_result"
    }
   ],
   "source": [
    "df_train.isna().sum()"
   ]
  },
  {
   "cell_type": "code",
   "execution_count": 9,
   "id": "477e6b03",
   "metadata": {},
   "outputs": [
    {
     "data": {
      "text/html": [
       "<div>\n",
       "<style scoped>\n",
       "    .dataframe tbody tr th:only-of-type {\n",
       "        vertical-align: middle;\n",
       "    }\n",
       "\n",
       "    .dataframe tbody tr th {\n",
       "        vertical-align: top;\n",
       "    }\n",
       "\n",
       "    .dataframe thead th {\n",
       "        text-align: right;\n",
       "    }\n",
       "</style>\n",
       "<table border=\"1\" class=\"dataframe\">\n",
       "  <thead>\n",
       "    <tr style=\"text-align: right;\">\n",
       "      <th></th>\n",
       "      <th>АвтомобильМодель</th>\n",
       "      <th>АвтомобильМодельБренд</th>\n",
       "      <th>АвтомобильVIN</th>\n",
       "      <th>Значение</th>\n",
       "      <th>АвтомобильГодВыпуска</th>\n",
       "      <th>Период</th>\n",
       "      <th>АвтомобильМодельМежсервисныйПробегТО</th>\n",
       "      <th>ТО</th>\n",
       "    </tr>\n",
       "  </thead>\n",
       "  <tbody>\n",
       "    <tr>\n",
       "      <th>281</th>\n",
       "      <td>Lexus NX 200 AWD</td>\n",
       "      <td>LEXUS</td>\n",
       "      <td>5304</td>\n",
       "      <td>NaN</td>\n",
       "      <td>01.01.2016 0:00:00</td>\n",
       "      <td>28.10.2016 0:00:00</td>\n",
       "      <td>10 000</td>\n",
       "      <td>Нет</td>\n",
       "    </tr>\n",
       "    <tr>\n",
       "      <th>282</th>\n",
       "      <td>Lexus NX 200 AWD</td>\n",
       "      <td>LEXUS</td>\n",
       "      <td>5304</td>\n",
       "      <td>NaN</td>\n",
       "      <td>01.01.2016 0:00:00</td>\n",
       "      <td>04.11.2016 0:00:00</td>\n",
       "      <td>10 000</td>\n",
       "      <td>Нет</td>\n",
       "    </tr>\n",
       "    <tr>\n",
       "      <th>373</th>\n",
       "      <td>Hyundai Creta</td>\n",
       "      <td>Hyundai</td>\n",
       "      <td>41905</td>\n",
       "      <td>NaN</td>\n",
       "      <td>01.01.2017 0:00:00</td>\n",
       "      <td>15.10.2017 0:00:00</td>\n",
       "      <td>15 000</td>\n",
       "      <td>Нет</td>\n",
       "    </tr>\n",
       "    <tr>\n",
       "      <th>864</th>\n",
       "      <td>Lexus RX III 450h</td>\n",
       "      <td>LEXUS</td>\n",
       "      <td>5155</td>\n",
       "      <td>NaN</td>\n",
       "      <td>01.01.2013 0:00:00</td>\n",
       "      <td>17.05.2013 0:00:00</td>\n",
       "      <td>10 000</td>\n",
       "      <td>Нет</td>\n",
       "    </tr>\n",
       "    <tr>\n",
       "      <th>898</th>\n",
       "      <td>Lexus NX 200 AWD</td>\n",
       "      <td>LEXUS</td>\n",
       "      <td>5235</td>\n",
       "      <td>NaN</td>\n",
       "      <td>01.01.2015 0:00:00</td>\n",
       "      <td>29.04.2015 0:00:00</td>\n",
       "      <td>10 000</td>\n",
       "      <td>Нет</td>\n",
       "    </tr>\n",
       "    <tr>\n",
       "      <th>1095</th>\n",
       "      <td>Hyundai Solaris Hatchback</td>\n",
       "      <td>Hyundai</td>\n",
       "      <td>40249</td>\n",
       "      <td>NaN</td>\n",
       "      <td>01.01.2014 0:00:00</td>\n",
       "      <td>07.06.2018 0:00:00</td>\n",
       "      <td>15 000</td>\n",
       "      <td>Нет</td>\n",
       "    </tr>\n",
       "    <tr>\n",
       "      <th>1235</th>\n",
       "      <td>Hyundai Creta</td>\n",
       "      <td>Hyundai</td>\n",
       "      <td>43909</td>\n",
       "      <td>NaN</td>\n",
       "      <td>01.01.2018 0:00:00</td>\n",
       "      <td>24.11.2018 0:00:00</td>\n",
       "      <td>15 000</td>\n",
       "      <td>Нет</td>\n",
       "    </tr>\n",
       "    <tr>\n",
       "      <th>1290</th>\n",
       "      <td>Skoda Fabia II Hatchback</td>\n",
       "      <td>Skoda</td>\n",
       "      <td>33562</td>\n",
       "      <td>NaN</td>\n",
       "      <td>01.01.2013 0:00:00</td>\n",
       "      <td>19.05.2018 0:00:00</td>\n",
       "      <td>15 000</td>\n",
       "      <td>Нет</td>\n",
       "    </tr>\n",
       "    <tr>\n",
       "      <th>1537</th>\n",
       "      <td>Hyundai ix35 I</td>\n",
       "      <td>Hyundai</td>\n",
       "      <td>15038</td>\n",
       "      <td>NaN</td>\n",
       "      <td>01.01.2012 0:00:00</td>\n",
       "      <td>26.08.2012 0:00:00</td>\n",
       "      <td>15 000</td>\n",
       "      <td>Нет</td>\n",
       "    </tr>\n",
       "    <tr>\n",
       "      <th>1642</th>\n",
       "      <td>Hyundai Tucson II</td>\n",
       "      <td>Hyundai</td>\n",
       "      <td>14749</td>\n",
       "      <td>NaN</td>\n",
       "      <td>01.01.2015 0:00:00</td>\n",
       "      <td>23.12.2015 0:00:00</td>\n",
       "      <td>15 000</td>\n",
       "      <td>Нет</td>\n",
       "    </tr>\n",
       "    <tr>\n",
       "      <th>2072</th>\n",
       "      <td>Lexus GS III 250</td>\n",
       "      <td>LEXUS</td>\n",
       "      <td>4240</td>\n",
       "      <td>NaN</td>\n",
       "      <td>01.01.2012 0:00:00</td>\n",
       "      <td>21.11.2012 0:00:00</td>\n",
       "      <td>10 000</td>\n",
       "      <td>Нет</td>\n",
       "    </tr>\n",
       "    <tr>\n",
       "      <th>2263</th>\n",
       "      <td>УАЗ-236021 Profi</td>\n",
       "      <td>УАЗ</td>\n",
       "      <td>27973</td>\n",
       "      <td>NaN</td>\n",
       "      <td>01.01.2017 0:00:00</td>\n",
       "      <td>17.08.2018 0:00:00</td>\n",
       "      <td>15 000</td>\n",
       "      <td>Нет</td>\n",
       "    </tr>\n",
       "    <tr>\n",
       "      <th>2264</th>\n",
       "      <td>УАЗ-236021 Profi</td>\n",
       "      <td>УАЗ</td>\n",
       "      <td>27973</td>\n",
       "      <td>NaN</td>\n",
       "      <td>01.01.2017 0:00:00</td>\n",
       "      <td>19.08.2018 0:00:00</td>\n",
       "      <td>15 000</td>\n",
       "      <td>Нет</td>\n",
       "    </tr>\n",
       "    <tr>\n",
       "      <th>2265</th>\n",
       "      <td>УАЗ-236021 Profi</td>\n",
       "      <td>УАЗ</td>\n",
       "      <td>27973</td>\n",
       "      <td>NaN</td>\n",
       "      <td>01.01.2017 0:00:00</td>\n",
       "      <td>11.05.2019 0:00:00</td>\n",
       "      <td>15 000</td>\n",
       "      <td>Нет</td>\n",
       "    </tr>\n",
       "    <tr>\n",
       "      <th>2946</th>\n",
       "      <td>Hyundai Santa Fe III</td>\n",
       "      <td>Hyundai</td>\n",
       "      <td>11838</td>\n",
       "      <td>NaN</td>\n",
       "      <td>01.01.2013 0:00:00</td>\n",
       "      <td>01.10.2015 0:00:00</td>\n",
       "      <td>15 000</td>\n",
       "      <td>Нет</td>\n",
       "    </tr>\n",
       "    <tr>\n",
       "      <th>3012</th>\n",
       "      <td>Skoda Kodiaq I</td>\n",
       "      <td>Skoda</td>\n",
       "      <td>16016</td>\n",
       "      <td>NaN</td>\n",
       "      <td>01.01.2017 0:00:00</td>\n",
       "      <td>20.08.2018 0:00:00</td>\n",
       "      <td>15 000</td>\n",
       "      <td>Нет</td>\n",
       "    </tr>\n",
       "    <tr>\n",
       "      <th>3192</th>\n",
       "      <td>Toyota RAV 4 III</td>\n",
       "      <td>TOYOTA</td>\n",
       "      <td>6985</td>\n",
       "      <td>NaN</td>\n",
       "      <td>01.01.2011 0:00:00</td>\n",
       "      <td>30.11.2011 0:00:00</td>\n",
       "      <td>10 000</td>\n",
       "      <td>Нет</td>\n",
       "    </tr>\n",
       "    <tr>\n",
       "      <th>3193</th>\n",
       "      <td>Toyota RAV 4 III</td>\n",
       "      <td>TOYOTA</td>\n",
       "      <td>6985</td>\n",
       "      <td>NaN</td>\n",
       "      <td>01.01.2011 0:00:00</td>\n",
       "      <td>01.12.2011 0:00:00</td>\n",
       "      <td>10 000</td>\n",
       "      <td>Нет</td>\n",
       "    </tr>\n",
       "    <tr>\n",
       "      <th>3953</th>\n",
       "      <td>ГАЗ-A21R32 Газель Next</td>\n",
       "      <td>ГАЗ</td>\n",
       "      <td>20330</td>\n",
       "      <td>NaN</td>\n",
       "      <td>01.01.2017 0:00:00</td>\n",
       "      <td>11.09.2017 0:00:00</td>\n",
       "      <td>20 000</td>\n",
       "      <td>Нет</td>\n",
       "    </tr>\n",
       "    <tr>\n",
       "      <th>4679</th>\n",
       "      <td>Hyundai Creta</td>\n",
       "      <td>Hyundai</td>\n",
       "      <td>41722</td>\n",
       "      <td>NaN</td>\n",
       "      <td>01.01.2016 0:00:00</td>\n",
       "      <td>25.11.2016 0:00:00</td>\n",
       "      <td>15 000</td>\n",
       "      <td>Нет</td>\n",
       "    </tr>\n",
       "  </tbody>\n",
       "</table>\n",
       "</div>"
      ],
      "text/plain": [
       "               АвтомобильМодель АвтомобильМодельБренд  АвтомобильVIN Значение  \\\n",
       "281            Lexus NX 200 AWD                 LEXUS           5304      NaN   \n",
       "282            Lexus NX 200 AWD                 LEXUS           5304      NaN   \n",
       "373               Hyundai Creta               Hyundai          41905      NaN   \n",
       "864           Lexus RX III 450h                 LEXUS           5155      NaN   \n",
       "898            Lexus NX 200 AWD                 LEXUS           5235      NaN   \n",
       "1095  Hyundai Solaris Hatchback               Hyundai          40249      NaN   \n",
       "1235              Hyundai Creta               Hyundai          43909      NaN   \n",
       "1290   Skoda Fabia II Hatchback                 Skoda          33562      NaN   \n",
       "1537             Hyundai ix35 I               Hyundai          15038      NaN   \n",
       "1642          Hyundai Tucson II               Hyundai          14749      NaN   \n",
       "2072           Lexus GS III 250                 LEXUS           4240      NaN   \n",
       "2263           УАЗ-236021 Profi                   УАЗ          27973      NaN   \n",
       "2264           УАЗ-236021 Profi                   УАЗ          27973      NaN   \n",
       "2265           УАЗ-236021 Profi                   УАЗ          27973      NaN   \n",
       "2946       Hyundai Santa Fe III               Hyundai          11838      NaN   \n",
       "3012             Skoda Kodiaq I                 Skoda          16016      NaN   \n",
       "3192           Toyota RAV 4 III                TOYOTA           6985      NaN   \n",
       "3193           Toyota RAV 4 III                TOYOTA           6985      NaN   \n",
       "3953     ГАЗ-A21R32 Газель Next                   ГАЗ          20330      NaN   \n",
       "4679              Hyundai Creta               Hyundai          41722      NaN   \n",
       "\n",
       "     АвтомобильГодВыпуска              Период  \\\n",
       "281    01.01.2016 0:00:00  28.10.2016 0:00:00   \n",
       "282    01.01.2016 0:00:00  04.11.2016 0:00:00   \n",
       "373    01.01.2017 0:00:00  15.10.2017 0:00:00   \n",
       "864    01.01.2013 0:00:00  17.05.2013 0:00:00   \n",
       "898    01.01.2015 0:00:00  29.04.2015 0:00:00   \n",
       "1095   01.01.2014 0:00:00  07.06.2018 0:00:00   \n",
       "1235   01.01.2018 0:00:00  24.11.2018 0:00:00   \n",
       "1290   01.01.2013 0:00:00  19.05.2018 0:00:00   \n",
       "1537   01.01.2012 0:00:00  26.08.2012 0:00:00   \n",
       "1642   01.01.2015 0:00:00  23.12.2015 0:00:00   \n",
       "2072   01.01.2012 0:00:00  21.11.2012 0:00:00   \n",
       "2263   01.01.2017 0:00:00  17.08.2018 0:00:00   \n",
       "2264   01.01.2017 0:00:00  19.08.2018 0:00:00   \n",
       "2265   01.01.2017 0:00:00  11.05.2019 0:00:00   \n",
       "2946   01.01.2013 0:00:00  01.10.2015 0:00:00   \n",
       "3012   01.01.2017 0:00:00  20.08.2018 0:00:00   \n",
       "3192   01.01.2011 0:00:00  30.11.2011 0:00:00   \n",
       "3193   01.01.2011 0:00:00  01.12.2011 0:00:00   \n",
       "3953   01.01.2017 0:00:00  11.09.2017 0:00:00   \n",
       "4679   01.01.2016 0:00:00  25.11.2016 0:00:00   \n",
       "\n",
       "     АвтомобильМодельМежсервисныйПробегТО   ТО  \n",
       "281                                10 000  Нет  \n",
       "282                                10 000  Нет  \n",
       "373                                15 000  Нет  \n",
       "864                                10 000  Нет  \n",
       "898                                10 000  Нет  \n",
       "1095                               15 000  Нет  \n",
       "1235                               15 000  Нет  \n",
       "1290                               15 000  Нет  \n",
       "1537                               15 000  Нет  \n",
       "1642                               15 000  Нет  \n",
       "2072                               10 000  Нет  \n",
       "2263                               15 000  Нет  \n",
       "2264                               15 000  Нет  \n",
       "2265                               15 000  Нет  \n",
       "2946                               15 000  Нет  \n",
       "3012                               15 000  Нет  \n",
       "3192                               10 000  Нет  \n",
       "3193                               10 000  Нет  \n",
       "3953                               20 000  Нет  \n",
       "4679                               15 000  Нет  "
      ]
     },
     "execution_count": 9,
     "metadata": {},
     "output_type": "execute_result"
    }
   ],
   "source": [
    "#Исследую пропуски\n",
    "df_train.loc[df_train.isnull().any(axis=1)].head(20)"
   ]
  },
  {
   "cell_type": "code",
   "execution_count": 10,
   "id": "03626f74",
   "metadata": {},
   "outputs": [
    {
     "data": {
      "text/plain": [
       "array(['LADA', 'УАЗ', 'TOYOTA', 'Hyundai', 'Skoda', 'LEXUS', 'INFINITI',\n",
       "       'MITSUBISHI', 'MERCEDES-BENZ', 'FORD', 'BMW', 'HINO', 'ГАЗ',\n",
       "       'ISUZU', 'MERCEDES-BENZ LCV', 'Citroen', 'RENAULT',\n",
       "       'CHEVROLET NIVA', 'KIA', 'GENESIS'], dtype=object)"
      ]
     },
     "execution_count": 10,
     "metadata": {},
     "output_type": "execute_result"
    }
   ],
   "source": [
    "#Марки автомобилей записаны по разному. Я хочу убедиться что там нету дублей\n",
    "df_train['АвтомобильМодельБренд'].unique()"
   ]
  },
  {
   "cell_type": "code",
   "execution_count": 11,
   "id": "8b406965",
   "metadata": {},
   "outputs": [
    {
     "data": {
      "text/plain": [
       "0"
      ]
     },
     "execution_count": 11,
     "metadata": {},
     "output_type": "execute_result"
    }
   ],
   "source": [
    "#Проверяю на дубликаты, на всякий случай\n",
    "df_train.duplicated().sum()"
   ]
  },
  {
   "cell_type": "markdown",
   "id": "f0471437",
   "metadata": {},
   "source": [
    "## Предобработка"
   ]
  },
  {
   "cell_type": "markdown",
   "id": "83d4093a",
   "metadata": {},
   "source": [
    "При осмотре были выявлены проблемы, которые мешают дальнейшему анализу.\n",
    "Под ними я имею ввиду: \n",
    "1. Неправильный тип данных практически во всех столбцах, за исключением модели и бренда\n",
    "2. Пропуски в столбце с пробегом, скорей всего они вызваны неисправностью одометра"
   ]
  },
  {
   "cell_type": "code",
   "execution_count": 12,
   "id": "22ca3bbf",
   "metadata": {},
   "outputs": [],
   "source": [
    "#Обнаруженны некорректные данные. оставляю пропуски на их месте\n",
    "df_train['АвтомобильГодВыпуска'] = pd.to_datetime(df_train['АвтомобильГодВыпуска'], errors = 'coerce')\n",
    "df_train['Период'] = pd.to_datetime(df_train['Период'])"
   ]
  },
  {
   "cell_type": "code",
   "execution_count": 13,
   "id": "7bfd28c2",
   "metadata": {},
   "outputs": [
    {
     "data": {
      "text/plain": [
       "АвтомобильМодель                          0\n",
       "АвтомобильМодельБренд                     0\n",
       "АвтомобильVIN                             0\n",
       "Значение                                404\n",
       "АвтомобильГодВыпуска                    225\n",
       "Период                                    0\n",
       "АвтомобильМодельМежсервисныйПробегТО      0\n",
       "ТО                                        0\n",
       "dtype: int64"
      ]
     },
     "execution_count": 13,
     "metadata": {},
     "output_type": "execute_result"
    }
   ],
   "source": [
    "#Смотрю на новые пропуски\n",
    "df_train.isna().sum()"
   ]
  },
  {
   "cell_type": "code",
   "execution_count": 14,
   "id": "2515a6b1",
   "metadata": {},
   "outputs": [],
   "source": [
    "#VIN номер является идентдефикатором, и я считаю, что он не должен относиться к числовым параметрам.\n",
    "df_train['АвтомобильVIN'] = df_train['АвтомобильVIN'].astype('object')"
   ]
  },
  {
   "cell_type": "code",
   "execution_count": 15,
   "id": "8455fc18",
   "metadata": {},
   "outputs": [],
   "source": [
    "#Название столбца \"Значение\" может вызвать путаницу. Его необходимо переименовать\n",
    "df_train.rename(columns = {'Значение':'СуммарныйПробег'}, inplace = True )"
   ]
  },
  {
   "cell_type": "code",
   "execution_count": 16,
   "id": "2fe751da",
   "metadata": {},
   "outputs": [],
   "source": [
    "df_train['АвтомобильГодВыпуска'] = df_train['АвтомобильГодВыпуска'].fillna(df_train['АвтомобильГодВыпуска'].median())\n",
    "df_train['АвтомобильГодВыпуска'] = df_train['АвтомобильГодВыпуска'].dt.year.astype('int64')"
   ]
  },
  {
   "cell_type": "code",
   "execution_count": 17,
   "id": "1cae6a6b",
   "metadata": {},
   "outputs": [
    {
     "data": {
      "text/plain": [
       "array(['15\\xa0000', '10\\xa0000', '30\\xa0000', '20\\xa0000', '25\\xa0000'],\n",
       "      dtype=object)"
      ]
     },
     "execution_count": 17,
     "metadata": {},
     "output_type": "execute_result"
    }
   ],
   "source": [
    "df_train['АвтомобильМодельМежсервисныйПробегТО'].unique()"
   ]
  },
  {
   "cell_type": "markdown",
   "id": "b89edeaa",
   "metadata": {},
   "source": [
    "В этом столбце всего 5 уникальных значений, это приводит меня к выводу о том, что это категориальный признак, и он имеет правильный тип"
   ]
  },
  {
   "cell_type": "code",
   "execution_count": 18,
   "id": "21042080",
   "metadata": {},
   "outputs": [],
   "source": [
    "#Создаю столбец с датой визита, конвертированной в unix\n",
    "df_train['ПериодЮникс'] = df_train['Период'].map(lambda x: x.replace(tzinfo=timezone.utc).timestamp())"
   ]
  },
  {
   "cell_type": "code",
   "execution_count": 19,
   "id": "0d2ce894",
   "metadata": {},
   "outputs": [],
   "source": [
    "df_train['ТО'] = df_train['ТО'].replace('Да','1').replace('Нет','0')"
   ]
  },
  {
   "cell_type": "markdown",
   "id": "28dc3ce8",
   "metadata": {},
   "source": [
    "Данные готовы для обучения, но перед ним я хочу произвести исследовательский анализ данных"
   ]
  },
  {
   "cell_type": "markdown",
   "id": "155580a5",
   "metadata": {},
   "source": [
    "## Исследование данных"
   ]
  },
  {
   "cell_type": "code",
   "execution_count": 20,
   "id": "b6c917e0",
   "metadata": {},
   "outputs": [
    {
     "data": {
      "image/png": "[encoded data removed]",
      "text/plain": [
       "<Figure size 640x480 with 1 Axes>"
      ]
     },
     "metadata": {},
     "output_type": "display_data"
    },
    {
     "data": {
      "image/png": "[encoded data removed]",
      "text/plain": [
       "<Figure size 640x480 with 1 Axes>"
      ]
     },
     "metadata": {},
     "output_type": "display_data"
    },
    {
     "data": {
      "image/png": "[encoded data removed]",
      "text/plain": [
       "<Figure size 640x480 with 1 Axes>"
      ]
     },
     "metadata": {},
     "output_type": "display_data"
    },
    {
     "data": {
      "image/png": "[encoded data removed]",
      "text/plain": [
       "<Figure size 640x480 with 1 Axes>"
      ]
     },
     "metadata": {},
     "output_type": "display_data"
    },
    {
     "data": {
      "image/png": "[encoded data removed]",
      "text/plain": [
       "<Figure size 640x480 with 1 Axes>"
      ]
     },
     "metadata": {},
     "output_type": "display_data"
    },
    {
     "data": {
      "image/png": "[encoded data removed]",
      "text/plain": [
       "<Figure size 640x480 with 1 Axes>"
      ]
     },
     "metadata": {},
     "output_type": "display_data"
    },
    {
     "data": {
      "image/png": "[encoded data removed]",
      "text/plain": [
       "<Figure size 640x480 with 1 Axes>"
      ]
     },
     "metadata": {},
     "output_type": "display_data"
    },
    {
     "data": {
      "image/png": "[encoded data removed]",
      "text/plain": [
       "<Figure size 640x480 with 1 Axes>"
      ]
     },
     "metadata": {},
     "output_type": "display_data"
    },
    {
     "data": {
      "image/png": "[encoded data removed]",
      "text/plain": [
       "<Figure size 640x480 with 1 Axes>"
      ]
     },
     "metadata": {},
     "output_type": "display_data"
    }
   ],
   "source": [
    "#Неожиданная проблема с пробелом, но я справился\n",
    "df_train['СуммарныйПробег'] = df_train['СуммарныйПробег'].str.replace(\"\\xa0\", \"\").fillna('0').astype('int64')\n",
    "#Вывожу гистограмму\n",
    "for col in df_train.columns:\n",
    "    plt.hist(df_train[col])\n",
    "    plt.xlabel(col)\n",
    "    plt.show()"
   ]
  },
  {
   "cell_type": "markdown",
   "id": "541f2d58",
   "metadata": {},
   "source": [
    "Наблюдения:\n",
    "\n",
    "1. Преобладают автомобили марки toyota\n",
    "\n",
    "2. Пробег большинства автомобилей не превышает 120 000 км. Также присутсвуют подозрительно высокие значения\n",
    "\n",
    "3. Большинство автомобилей выпущено в период между 2014 и 2019 годом\n",
    "\n",
    "4. Подавляющее большинство автомобилей обязаны проводить ТО после 10 000 или 15 000 км пробега\n",
    "\n",
    "5. Соотношение прочих визитов к ТО равно примерно 3/2"
   ]
  },
  {
   "cell_type": "code",
   "execution_count": 21,
   "id": "55181028",
   "metadata": {},
   "outputs": [
    {
     "name": "stdout",
     "output_type": "stream",
     "text": [
      "29746       641256\n",
      "108118      642489\n",
      "107147      676767\n",
      "107148      676767\n",
      "1507        690000\n",
      "15843       697797\n",
      "15844       702512\n",
      "28887       725000\n",
      "56300       752700\n",
      "56301       753500\n",
      "108119      763341\n",
      "53548       763341\n",
      "53549       763341\n",
      "1508        780150\n",
      "80681       791548\n",
      "80682       799548\n",
      "26114       799548\n",
      "28888       809750\n",
      "53550       821201\n",
      "53551       835260\n",
      "1509        837150\n",
      "26115       842783\n",
      "108120      847877\n",
      "102278      852302\n",
      "80683       861250\n",
      "26116       861250\n",
      "53552       865709\n",
      "80685       869907\n",
      "53553       871948\n",
      "53554       880269\n",
      "26117       891810\n",
      "80686       901876\n",
      "26118       906574\n",
      "108121      910896\n",
      "33882      1040421\n",
      "33883     10007717\n",
      "61196     10070244\n",
      "88282     10080563\n",
      "88283     10090651\n",
      "33884     10099765\n",
      "Name: СуммарныйПробег, dtype: int64\n"
     ]
    }
   ],
   "source": [
    "#Изучаю подозрительные значения\n",
    "print(df_train['СуммарныйПробег'].sort_values().tail(40))"
   ]
  },
  {
   "cell_type": "markdown",
   "id": "3169906e",
   "metadata": {},
   "source": [
    "Явно выделяются пять значений с пробегом больше 10 млн.км, скорей всего там случайно добавили ноль"
   ]
  },
  {
   "cell_type": "code",
   "execution_count": 22,
   "id": "e67664ea",
   "metadata": {},
   "outputs": [],
   "source": [
    "#Редактирую проблемные строки\n",
    "df_train.loc[(df_train['СуммарныйПробег']>10000000),['СуммарныйПробег']] = df_train.loc[(df_train['СуммарныйПробег']>10000000),['СуммарныйПробег']]*0.1\n",
    "df_train['СуммарныйПробег'] = df_train['СуммарныйПробег'].astype('int64')"
   ]
  },
  {
   "cell_type": "code",
   "execution_count": 23,
   "id": "d4af1850",
   "metadata": {},
   "outputs": [
    {
     "data": {
      "text/html": [
       "<div>\n",
       "<style scoped>\n",
       "    .dataframe tbody tr th:only-of-type {\n",
       "        vertical-align: middle;\n",
       "    }\n",
       "\n",
       "    .dataframe tbody tr th {\n",
       "        vertical-align: top;\n",
       "    }\n",
       "\n",
       "    .dataframe thead th {\n",
       "        text-align: right;\n",
       "    }\n",
       "</style>\n",
       "<table border=\"1\" class=\"dataframe\">\n",
       "  <thead>\n",
       "    <tr style=\"text-align: right;\">\n",
       "      <th></th>\n",
       "      <th>АвтомобильМодель</th>\n",
       "      <th>АвтомобильМодельБренд</th>\n",
       "      <th>АвтомобильVIN</th>\n",
       "      <th>АвтомобильМодельМежсервисныйПробегТО</th>\n",
       "      <th>ТО</th>\n",
       "    </tr>\n",
       "  </thead>\n",
       "  <tbody>\n",
       "    <tr>\n",
       "      <th>АвтомобильМодель</th>\n",
       "      <td>1.000000</td>\n",
       "      <td>1.000000</td>\n",
       "      <td>1.000000</td>\n",
       "      <td>1.000000</td>\n",
       "      <td>0.140374</td>\n",
       "    </tr>\n",
       "    <tr>\n",
       "      <th>АвтомобильМодельБренд</th>\n",
       "      <td>1.000000</td>\n",
       "      <td>1.000000</td>\n",
       "      <td>1.000000</td>\n",
       "      <td>0.837812</td>\n",
       "      <td>0.093034</td>\n",
       "    </tr>\n",
       "    <tr>\n",
       "      <th>АвтомобильVIN</th>\n",
       "      <td>1.000000</td>\n",
       "      <td>1.000000</td>\n",
       "      <td>1.000000</td>\n",
       "      <td>1.000000</td>\n",
       "      <td>0.378559</td>\n",
       "    </tr>\n",
       "    <tr>\n",
       "      <th>АвтомобильМодельМежсервисныйПробегТО</th>\n",
       "      <td>1.000000</td>\n",
       "      <td>0.837812</td>\n",
       "      <td>1.000000</td>\n",
       "      <td>1.000000</td>\n",
       "      <td>0.055227</td>\n",
       "    </tr>\n",
       "    <tr>\n",
       "      <th>ТО</th>\n",
       "      <td>0.140374</td>\n",
       "      <td>0.093034</td>\n",
       "      <td>0.378559</td>\n",
       "      <td>0.055227</td>\n",
       "      <td>1.000000</td>\n",
       "    </tr>\n",
       "  </tbody>\n",
       "</table>\n",
       "</div>"
      ],
      "text/plain": [
       "                                      АвтомобильМодель  АвтомобильМодельБренд  \\\n",
       "АвтомобильМодель                              1.000000               1.000000   \n",
       "АвтомобильМодельБренд                         1.000000               1.000000   \n",
       "АвтомобильVIN                                 1.000000               1.000000   \n",
       "АвтомобильМодельМежсервисныйПробегТО          1.000000               0.837812   \n",
       "ТО                                            0.140374               0.093034   \n",
       "\n",
       "                                      АвтомобильVIN  \\\n",
       "АвтомобильМодель                           1.000000   \n",
       "АвтомобильМодельБренд                      1.000000   \n",
       "АвтомобильVIN                              1.000000   \n",
       "АвтомобильМодельМежсервисныйПробегТО       1.000000   \n",
       "ТО                                         0.378559   \n",
       "\n",
       "                                      АвтомобильМодельМежсервисныйПробегТО  \\\n",
       "АвтомобильМодель                                                  1.000000   \n",
       "АвтомобильМодельБренд                                             0.837812   \n",
       "АвтомобильVIN                                                     1.000000   \n",
       "АвтомобильМодельМежсервисныйПробегТО                              1.000000   \n",
       "ТО                                                                0.055227   \n",
       "\n",
       "                                            ТО  \n",
       "АвтомобильМодель                      0.140374  \n",
       "АвтомобильМодельБренд                 0.093034  \n",
       "АвтомобильVIN                         0.378559  \n",
       "АвтомобильМодельМежсервисныйПробегТО  0.055227  \n",
       "ТО                                    1.000000  "
      ]
     },
     "execution_count": 23,
     "metadata": {},
     "output_type": "execute_result"
    }
   ],
   "source": [
    "#Смотрю корреляцию категориальных признаков\n",
    "df_train = df_train.apply(\n",
    "        lambda x: x.astype(\"category\") if x.dtype == \"O\" else x)\n",
    "cramersv = am.CramersV(df_train) \n",
    "cramersv.fit()"
   ]
  },
  {
   "cell_type": "code",
   "execution_count": 24,
   "id": "480072ec",
   "metadata": {
    "scrolled": true
   },
   "outputs": [
    {
     "data": {
      "text/html": [
       "<div>\n",
       "<style scoped>\n",
       "    .dataframe tbody tr th:only-of-type {\n",
       "        vertical-align: middle;\n",
       "    }\n",
       "\n",
       "    .dataframe tbody tr th {\n",
       "        vertical-align: top;\n",
       "    }\n",
       "\n",
       "    .dataframe thead th {\n",
       "        text-align: right;\n",
       "    }\n",
       "</style>\n",
       "<table border=\"1\" class=\"dataframe\">\n",
       "  <thead>\n",
       "    <tr style=\"text-align: right;\">\n",
       "      <th></th>\n",
       "      <th>СуммарныйПробег</th>\n",
       "      <th>АвтомобильГодВыпуска</th>\n",
       "      <th>ПериодЮникс</th>\n",
       "    </tr>\n",
       "  </thead>\n",
       "  <tbody>\n",
       "    <tr>\n",
       "      <th>СуммарныйПробег</th>\n",
       "      <td>1.000000</td>\n",
       "      <td>-0.393050</td>\n",
       "      <td>0.146206</td>\n",
       "    </tr>\n",
       "    <tr>\n",
       "      <th>АвтомобильГодВыпуска</th>\n",
       "      <td>-0.393050</td>\n",
       "      <td>1.000000</td>\n",
       "      <td>0.635515</td>\n",
       "    </tr>\n",
       "    <tr>\n",
       "      <th>ПериодЮникс</th>\n",
       "      <td>0.146206</td>\n",
       "      <td>0.635515</td>\n",
       "      <td>1.000000</td>\n",
       "    </tr>\n",
       "  </tbody>\n",
       "</table>\n",
       "</div>"
      ],
      "text/plain": [
       "                      СуммарныйПробег  АвтомобильГодВыпуска  ПериодЮникс\n",
       "СуммарныйПробег              1.000000             -0.393050     0.146206\n",
       "АвтомобильГодВыпуска        -0.393050              1.000000     0.635515\n",
       "ПериодЮникс                  0.146206              0.635515     1.000000"
      ]
     },
     "execution_count": 24,
     "metadata": {},
     "output_type": "execute_result"
    }
   ],
   "source": [
    "#Смотрю корреляцию числовых признаков\n",
    "df_train.corr()"
   ]
  },
  {
   "cell_type": "markdown",
   "id": "fd6e3199",
   "metadata": {},
   "source": [
    "Касательно корреляции: Многие категориальные признаки связаны между собой, стоит сократить их число. Также я считаю, что раз уж моё задание касается прогнозирования техосмотра, то мне нужно удалить все строки, в которых, находятся визиты, не относящиеся к ТО.\n",
    "\n",
    "Кроме того, я считаю, что после удаления всех лишних столбцов, останется слишком мало информации, поэтому я хочу придумать несколько новых признаков"
   ]
  },
  {
   "cell_type": "markdown",
   "id": "725f602c",
   "metadata": {},
   "source": [
    "## Подготовка данных"
   ]
  },
  {
   "cell_type": "markdown",
   "id": "310afc16",
   "metadata": {},
   "source": [
    "Мой план заключается в том, чтобы создать таргет с датой последнего визита автомобиля, и иметь дату предпоследнего визита в качестве одного из признаков"
   ]
  },
  {
   "cell_type": "code",
   "execution_count": 25,
   "id": "ec8ba834",
   "metadata": {},
   "outputs": [],
   "source": [
    "#Создаю новые признаки\n",
    "df_train = df_train.reset_index(drop = True)\n",
    "df_train['ВозрастАвтомобиля'] = df_train['Период'].dt.year.astype('int64') - df_train['АвтомобильГодВыпуска']\n",
    "df_train['ПоследнийВизит'] = df_train['ПериодЮникс']\n",
    "df_train['ПоследнийПробег'] = df_train['СуммарныйПробег']\n",
    "df_train['СреднийПромежуток'] = df_train['ПериодЮникс']\n",
    "df_train['СреднийПробег'] = df_train['СуммарныйПробег']\n",
    "df_train['АвтомобильМодельМежсервисныйПробегТО'] = df_train['АвтомобильМодельМежсервисныйПробегТО'].str.replace(\"\\xa0\", \"\").astype('int64')\n",
    "#Да, я понимаю, что это не самое изящное решение, но мне пока что трудно придумать более эффективную реализацию\n",
    "for i in range(len(df_train)):\n",
    "    df_train.loc[i,'ПоследнийВизит'] = df_train['ПериодЮникс'].loc[df_train['АвтомобильVIN'] == df_train.loc[i,'АвтомобильVIN']].max()\n",
    "    df_train.loc[i,'ПоследнийПробег'] = df_train['СуммарныйПробег'].loc[df_train['АвтомобильVIN'] == df_train.loc[i,'АвтомобильVIN']].max()\n",
    "    df_train.loc[i,'СреднийПромежуток'] = df_train['ПериодЮникс'].loc[df_train['АвтомобильVIN'] == df_train.loc[i,'АвтомобильVIN']].sum()/df_train['ПериодЮникс'].loc[df_train['АвтомобильVIN'] == df_train.loc[i,'АвтомобильVIN']].count()\n",
    "    df_train.loc[i,'СреднийПробег'] = df_train['СуммарныйПробег'].loc[df_train['АвтомобильVIN'] == df_train.loc[i,'АвтомобильVIN']].sum()/df_train['СуммарныйПробег'].loc[df_train['АвтомобильVIN'] == df_train.loc[i,'АвтомобильVIN']].count()\n",
    "df_train['СреднийПробег'] = df_train['СреднийПробег'].astype('int64')\n",
    "df_train = df_train.drop(['АвтомобильМодель','АвтомобильМодельБренд','Период'],axis=1)"
   ]
  },
  {
   "cell_type": "code",
   "execution_count": 26,
   "id": "d7ab6a53",
   "metadata": {},
   "outputs": [],
   "source": [
    "#Создаю столбец с предпоследним визитом\n",
    "df_train_old = df_train.copy()\n",
    "df_train = df_train[df_train['ТО']=='1']\n",
    "df_train = df_train.drop(['ТО'], axis=1)\n",
    "df_train = df_train[df_train.ПоследнийВизит != df_train.ПериодЮникс]\n",
    "df_train = df_train[df_train.ПоследнийПробег != df_train.СуммарныйПробег]\n",
    "df_train = df_train.reset_index(drop = True)\n",
    "df_train['ПредпоследнийВизит'] = df_train['ПоследнийВизит']\n",
    "df_train['ПредпоследнийПробег'] = df_train['ПоследнийПробег']\n",
    "for i in range(len(df_train)):\n",
    "    df_train.loc[i,'ПредпоследнийВизит'] = df_train['ПериодЮникс'].loc[df_train['АвтомобильVIN'] == df_train.loc[i,'АвтомобильVIN']].max()\n",
    "    df_train.loc[i,'ПредпоследнийПробег'] = df_train['СуммарныйПробег'].loc[df_train['АвтомобильVIN'] == df_train.loc[i,'АвтомобильVIN']].max()"
   ]
  },
  {
   "cell_type": "code",
   "execution_count": 27,
   "id": "c16f7285",
   "metadata": {},
   "outputs": [],
   "source": [
    "#Разделяю на выборки\n",
    "train_target_time = df_train['ПоследнийВизит']\n",
    "train_target_mileage = df_train['ПоследнийПробег']\n",
    "train_features_time = df_train[['АвтомобильГодВыпуска','СреднийПромежуток','ПредпоследнийВизит','АвтомобильМодельМежсервисныйПробегТО','ВозрастАвтомобиля']]\n",
    "train_features_mileage = df_train[['АвтомобильГодВыпуска','СреднийПробег','ПредпоследнийПробег','АвтомобильМодельМежсервисныйПробегТО','ВозрастАвтомобиля']]"
   ]
  },
  {
   "cell_type": "code",
   "execution_count": 28,
   "id": "157791c2",
   "metadata": {},
   "outputs": [],
   "source": [
    "#Произвожу масштабирование\n",
    "scaler = StandardScaler()\n",
    "train_features_time.loc[:,('СреднийПромежуток','ПредпоследнийВизит','АвтомобильГодВыпуска','АвтомобильМодельМежсервисныйПробегТО','ВозрастАвтомобиля')] = scaler.fit_transform(train_features_time.loc[:,('СреднийПромежуток','ПредпоследнийВизит','АвтомобильГодВыпуска','АвтомобильМодельМежсервисныйПробегТО','ВозрастАвтомобиля')])\n",
    "train_features_mileage.loc[:,('СреднийПробег','ПредпоследнийПробег','АвтомобильГодВыпуска','АвтомобильМодельМежсервисныйПробегТО','ВозрастАвтомобиля')] = scaler.fit_transform(train_features_mileage.loc[:,('СреднийПробег','ПредпоследнийПробег','АвтомобильГодВыпуска','АвтомобильМодельМежсервисныйПробегТО','ВозрастАвтомобиля')])"
   ]
  },
  {
   "cell_type": "code",
   "execution_count": 29,
   "id": "0103f1ea",
   "metadata": {},
   "outputs": [
    {
     "data": {
      "text/html": [
       "<div>\n",
       "<style scoped>\n",
       "    .dataframe tbody tr th:only-of-type {\n",
       "        vertical-align: middle;\n",
       "    }\n",
       "\n",
       "    .dataframe tbody tr th {\n",
       "        vertical-align: top;\n",
       "    }\n",
       "\n",
       "    .dataframe thead th {\n",
       "        text-align: right;\n",
       "    }\n",
       "</style>\n",
       "<table border=\"1\" class=\"dataframe\">\n",
       "  <thead>\n",
       "    <tr style=\"text-align: right;\">\n",
       "      <th></th>\n",
       "      <th>АвтомобильГодВыпуска</th>\n",
       "      <th>СреднийПромежуток</th>\n",
       "      <th>ПредпоследнийВизит</th>\n",
       "      <th>АвтомобильМодельМежсервисныйПробегТО</th>\n",
       "      <th>ВозрастАвтомобиля</th>\n",
       "    </tr>\n",
       "  </thead>\n",
       "  <tbody>\n",
       "    <tr>\n",
       "      <th>0</th>\n",
       "      <td>0.200895</td>\n",
       "      <td>-0.198961</td>\n",
       "      <td>-0.509473</td>\n",
       "      <td>0.934952</td>\n",
       "      <td>-0.697881</td>\n",
       "    </tr>\n",
       "    <tr>\n",
       "      <th>1</th>\n",
       "      <td>0.925861</td>\n",
       "      <td>1.351957</td>\n",
       "      <td>0.644833</td>\n",
       "      <td>0.934952</td>\n",
       "      <td>-0.183567</td>\n",
       "    </tr>\n",
       "    <tr>\n",
       "      <th>2</th>\n",
       "      <td>0.563378</td>\n",
       "      <td>0.854141</td>\n",
       "      <td>0.790258</td>\n",
       "      <td>-0.738651</td>\n",
       "      <td>-0.697881</td>\n",
       "    </tr>\n",
       "    <tr>\n",
       "      <th>3</th>\n",
       "      <td>0.563378</td>\n",
       "      <td>0.854141</td>\n",
       "      <td>0.790258</td>\n",
       "      <td>-0.738651</td>\n",
       "      <td>0.330748</td>\n",
       "    </tr>\n",
       "    <tr>\n",
       "      <th>4</th>\n",
       "      <td>-0.886555</td>\n",
       "      <td>-1.386880</td>\n",
       "      <td>-0.789718</td>\n",
       "      <td>-0.738651</td>\n",
       "      <td>-0.183567</td>\n",
       "    </tr>\n",
       "    <tr>\n",
       "      <th>...</th>\n",
       "      <td>...</td>\n",
       "      <td>...</td>\n",
       "      <td>...</td>\n",
       "      <td>...</td>\n",
       "      <td>...</td>\n",
       "    </tr>\n",
       "    <tr>\n",
       "      <th>34541</th>\n",
       "      <td>-1.974005</td>\n",
       "      <td>-3.695142</td>\n",
       "      <td>-4.557118</td>\n",
       "      <td>-0.738651</td>\n",
       "      <td>-0.697881</td>\n",
       "    </tr>\n",
       "    <tr>\n",
       "      <th>34542</th>\n",
       "      <td>0.200895</td>\n",
       "      <td>0.081338</td>\n",
       "      <td>-0.242861</td>\n",
       "      <td>0.934952</td>\n",
       "      <td>-0.697881</td>\n",
       "    </tr>\n",
       "    <tr>\n",
       "      <th>34543</th>\n",
       "      <td>0.200895</td>\n",
       "      <td>0.081338</td>\n",
       "      <td>-0.242861</td>\n",
       "      <td>0.934952</td>\n",
       "      <td>-0.183567</td>\n",
       "    </tr>\n",
       "    <tr>\n",
       "      <th>34544</th>\n",
       "      <td>-0.886555</td>\n",
       "      <td>-0.160656</td>\n",
       "      <td>-0.348900</td>\n",
       "      <td>-0.738651</td>\n",
       "      <td>0.330748</td>\n",
       "    </tr>\n",
       "    <tr>\n",
       "      <th>34545</th>\n",
       "      <td>0.200895</td>\n",
       "      <td>0.875868</td>\n",
       "      <td>0.055562</td>\n",
       "      <td>0.934952</td>\n",
       "      <td>0.330748</td>\n",
       "    </tr>\n",
       "  </tbody>\n",
       "</table>\n",
       "<p>34546 rows × 5 columns</p>\n",
       "</div>"
      ],
      "text/plain": [
       "       АвтомобильГодВыпуска  СреднийПромежуток  ПредпоследнийВизит  \\\n",
       "0                  0.200895          -0.198961           -0.509473   \n",
       "1                  0.925861           1.351957            0.644833   \n",
       "2                  0.563378           0.854141            0.790258   \n",
       "3                  0.563378           0.854141            0.790258   \n",
       "4                 -0.886555          -1.386880           -0.789718   \n",
       "...                     ...                ...                 ...   \n",
       "34541             -1.974005          -3.695142           -4.557118   \n",
       "34542              0.200895           0.081338           -0.242861   \n",
       "34543              0.200895           0.081338           -0.242861   \n",
       "34544             -0.886555          -0.160656           -0.348900   \n",
       "34545              0.200895           0.875868            0.055562   \n",
       "\n",
       "       АвтомобильМодельМежсервисныйПробегТО  ВозрастАвтомобиля  \n",
       "0                                  0.934952          -0.697881  \n",
       "1                                  0.934952          -0.183567  \n",
       "2                                 -0.738651          -0.697881  \n",
       "3                                 -0.738651           0.330748  \n",
       "4                                 -0.738651          -0.183567  \n",
       "...                                     ...                ...  \n",
       "34541                             -0.738651          -0.697881  \n",
       "34542                              0.934952          -0.697881  \n",
       "34543                              0.934952          -0.183567  \n",
       "34544                             -0.738651           0.330748  \n",
       "34545                              0.934952           0.330748  \n",
       "\n",
       "[34546 rows x 5 columns]"
      ]
     },
     "execution_count": 29,
     "metadata": {},
     "output_type": "execute_result"
    }
   ],
   "source": [
    "train_features_time"
   ]
  },
  {
   "cell_type": "markdown",
   "id": "2b50589f",
   "metadata": {},
   "source": [
    "## Подбор модели"
   ]
  },
  {
   "cell_type": "markdown",
   "id": "52d8dc53",
   "metadata": {},
   "source": [
    "Мой план таков: Протестировать четыре модели(лин.регрессию, lgbm, лес и катбуст) и подобрать параметры для самой лучшей. Тесты будут проходить через кросс-валидацию, для снижения фактора случайности"
   ]
  },
  {
   "cell_type": "code",
   "execution_count": 30,
   "id": "d35a4d03",
   "metadata": {},
   "outputs": [
    {
     "name": "stdout",
     "output_type": "stream",
     "text": [
      "Средняя ошибка в днях: 186\n",
      "Средняя ошибка в километрах: 15717\n"
     ]
    }
   ],
   "source": [
    "reg_model = LinearRegression()\n",
    "scores = cross_val_score(reg_model, train_features_time,train_target_time, cv=5, scoring='neg_root_mean_squared_error')\n",
    "print('Средняя ошибка в днях:',round(scores.mean()/86400*-1))\n",
    "scores = cross_val_score(reg_model, train_features_mileage,train_target_mileage, cv=5, scoring='neg_root_mean_squared_error')\n",
    "print('Средняя ошибка в километрах:',round(scores.mean()*-1))"
   ]
  },
  {
   "cell_type": "code",
   "execution_count": 31,
   "id": "886c4154",
   "metadata": {},
   "outputs": [
    {
     "name": "stdout",
     "output_type": "stream",
     "text": [
      "[LightGBM] [Info] Total Bins 557\n",
      "[LightGBM] [Info] Number of data points in the train set: 27636, number of used features: 5\n",
      "[LightGBM] [Info] Start training from score 1519027628.310899\n",
      "[LightGBM] [Info] Total Bins 556\n",
      "[LightGBM] [Info] Number of data points in the train set: 27637, number of used features: 5\n",
      "[LightGBM] [Info] Start training from score 1519062244.150957\n",
      "[LightGBM] [Info] Total Bins 557\n",
      "[LightGBM] [Info] Number of data points in the train set: 27637, number of used features: 5\n",
      "[LightGBM] [Info] Start training from score 1518838530.144372\n",
      "[LightGBM] [Info] Total Bins 556\n",
      "[LightGBM] [Info] Number of data points in the train set: 27637, number of used features: 5\n",
      "[LightGBM] [Info] Start training from score 1519340054.680320\n",
      "[LightGBM] [Info] Total Bins 556\n",
      "[LightGBM] [Info] Number of data points in the train set: 27637, number of used features: 5\n",
      "[LightGBM] [Info] Start training from score 1518738799.840793\n",
      "Средняя ошибка в днях: 143\n",
      "[LightGBM] [Info] Total Bins 557\n",
      "[LightGBM] [Info] Number of data points in the train set: 27636, number of used features: 5\n",
      "[LightGBM] [Info] Start training from score 92826.518273\n",
      "[LightGBM] [Info] Total Bins 556\n",
      "[LightGBM] [Info] Number of data points in the train set: 27637, number of used features: 5\n",
      "[LightGBM] [Info] Start training from score 93084.167638\n",
      "[LightGBM] [Info] Total Bins 557\n",
      "[LightGBM] [Info] Number of data points in the train set: 27637, number of used features: 5\n",
      "[LightGBM] [Info] Start training from score 93377.588016\n",
      "[LightGBM] [Info] Total Bins 556\n",
      "[LightGBM] [Info] Number of data points in the train set: 27637, number of used features: 5\n",
      "[LightGBM] [Info] Start training from score 92980.405905\n",
      "[LightGBM] [Info] Total Bins 556\n",
      "[LightGBM] [Info] Number of data points in the train set: 27637, number of used features: 5\n",
      "[LightGBM] [Info] Start training from score 92931.783985\n",
      "Средняя ошибка в километрах: 10906\n"
     ]
    }
   ],
   "source": [
    "lgbm_model = LGBMRegressor(random_state=21,force_row_wise=True)\n",
    "scores = cross_val_score(lgbm_model, train_features_time,train_target_time, cv=5, scoring='neg_root_mean_squared_error')\n",
    "print('Средняя ошибка в днях:',round(scores.mean()/86400*-1))\n",
    "scores = cross_val_score(lgbm_model, train_features_mileage,train_target_mileage, cv=5, scoring='neg_root_mean_squared_error')\n",
    "print('Средняя ошибка в километрах:',round(scores.mean()*-1))"
   ]
  },
  {
   "cell_type": "code",
   "execution_count": 32,
   "id": "e0bdb81a",
   "metadata": {},
   "outputs": [
    {
     "name": "stdout",
     "output_type": "stream",
     "text": [
      "Средняя ошибка в днях: 72\n",
      "Средняя ошибка в километрах: 6778\n"
     ]
    }
   ],
   "source": [
    "forest_model = RandomForestRegressor(random_state=21)\n",
    "scores = cross_val_score(forest_model, train_features_time,train_target_time, cv=5, scoring='neg_root_mean_squared_error')\n",
    "print('Средняя ошибка в днях:',round(scores.mean()/86400*-1))\n",
    "scores = cross_val_score(forest_model, train_features_mileage,train_target_mileage, cv=5, scoring='neg_root_mean_squared_error')\n",
    "print('Средняя ошибка в километрах:',round(scores.mean()*-1))"
   ]
  },
  {
   "cell_type": "code",
   "execution_count": 33,
   "id": "0b10c0de",
   "metadata": {},
   "outputs": [
    {
     "name": "stdout",
     "output_type": "stream",
     "text": [
      "Средняя ошибка в днях: 134\n",
      "Средняя ошибка в километрах: 8512\n"
     ]
    }
   ],
   "source": [
    "cat_model = CatBoostRegressor(random_state=21,logging_level = 'Silent')\n",
    "scores = cross_val_score(cat_model, train_features_time,train_target_time, cv=5, scoring='neg_root_mean_squared_error')\n",
    "print('Средняя ошибка в днях:',round(scores.mean()/86400*-1))\n",
    "scores = cross_val_score(cat_model, train_features_mileage,train_target_mileage, cv=5, scoring='neg_root_mean_squared_error')\n",
    "print('Средняя ошибка в километрах:',round(scores.mean()*-1))"
   ]
  },
  {
   "cell_type": "code",
   "execution_count": 34,
   "id": "45345bb1",
   "metadata": {},
   "outputs": [
    {
     "name": "stdout",
     "output_type": "stream",
     "text": [
      "Лучшие параметры: {'max_depth': None, 'min_samples_leaf': 2, 'min_samples_split': 5, 'n_estimators': 1000}\n",
      "Лучший показатель по времени: 91\n",
      "Лучшие параметры: {'max_depth': 30, 'min_samples_leaf': 2, 'min_samples_split': 5, 'n_estimators': 1000}\n",
      "Лучший показатель по пробегу: 8744\n"
     ]
    }
   ],
   "source": [
    "#Подбор параметров\n",
    "param_grid = {'max_depth': [10, 30, None],\n",
    " 'min_samples_leaf': [None, 2, 4],\n",
    " 'min_samples_split': [None, 5, 10],\n",
    " 'n_estimators': [None, 1000]}\n",
    "model_grid = GridSearchCV(forest_model, param_grid, cv=3, scoring = 'neg_root_mean_squared_error')\n",
    "model_grid.fit(train_features_time,train_target_time)\n",
    "print('Лучшие параметры:', model_grid.best_params_)\n",
    "print('Лучший показатель по времени:',round(model_grid.best_score_/86400*-1))\n",
    "model_grid.fit(train_features_mileage,train_target_mileage)\n",
    "print('Лучшие параметры:', model_grid.best_params_)\n",
    "print('Лучший показатель по пробегу:',round(model_grid.best_score_*-1))"
   ]
  },
  {
   "cell_type": "markdown",
   "id": "67619b17",
   "metadata": {},
   "source": [
    "Оказалось, что наилучший результат даёт случайный лес со стандартными параметрами, он и будет использован далее"
   ]
  },
  {
   "cell_type": "markdown",
   "id": "2d9c6a75",
   "metadata": {},
   "source": [
    "## Финальный тест"
   ]
  },
  {
   "cell_type": "code",
   "execution_count": 35,
   "id": "ae70e79a",
   "metadata": {},
   "outputs": [],
   "source": [
    "#Привожу данные в подходящий формат\n",
    "test_features_time = df_test[['АвтомобильVIN']]\n",
    "test_features_time = test_features_time.join(df_train_old[['СреднийПромежуток','ПоследнийВизит','АвтомобильГодВыпуска','АвтомобильМодельМежсервисныйПробегТО','ВозрастАвтомобиля']],test_features_time['АвтомобильVIN'],'left')\n",
    "test_target_time = pd.to_datetime(df_test['Период']).map(lambda x: x.replace(tzinfo=timezone.utc).timestamp())\n",
    "test_target_mileage = df_test['Значение'].str.replace(\"\\xa0\",'').astype('int64')"
   ]
  },
  {
   "cell_type": "code",
   "execution_count": 36,
   "id": "d915767b",
   "metadata": {},
   "outputs": [
    {
     "data": {
      "text/plain": [
       "АвтомобильVIN                           0\n",
       "СреднийПромежуток                       0\n",
       "ПоследнийВизит                          0\n",
       "АвтомобильГодВыпуска                    0\n",
       "АвтомобильМодельМежсервисныйПробегТО    0\n",
       "ВозрастАвтомобиля                       0\n",
       "dtype: int64"
      ]
     },
     "execution_count": 36,
     "metadata": {},
     "output_type": "execute_result"
    }
   ],
   "source": [
    "#Обнаружены пропуски, выясняю их количество\n",
    "test_features_time.isna().sum()"
   ]
  },
  {
   "cell_type": "markdown",
   "id": "8966383d",
   "metadata": {},
   "source": [
    "По всей видимости, пропуски появились из-за новых автомобилей, которых не было в тренировочной выборке, я считаю, что  разумно будет заполнить пропуски максимальным значением по 'Последнему визиту'"
   ]
  },
  {
   "cell_type": "code",
   "execution_count": 37,
   "id": "94c018bc",
   "metadata": {},
   "outputs": [],
   "source": [
    "test_features_time = test_features_time.fillna(test_features_time['ПоследнийВизит'].max()).drop(['АвтомобильVIN'],axis = 1)"
   ]
  },
  {
   "cell_type": "code",
   "execution_count": 38,
   "id": "ed63739b",
   "metadata": {},
   "outputs": [],
   "source": [
    "#Повторяю процесс для пробега, но пропуски заполняю медианной\n",
    "test_features_mileage = df_test[['АвтомобильVIN']]\n",
    "test_features_mileage = test_features_mileage.join(df_train_old[['СреднийПробег','ПоследнийПробег','АвтомобильГодВыпуска','АвтомобильМодельМежсервисныйПробегТО','ВозрастАвтомобиля']],test_features_mileage['АвтомобильVIN'],'left')\n",
    "test_features_mileage = test_features_mileage.drop(['АвтомобильVIN'],axis = 1)\n",
    "test_features_mileage['СреднийПробег'] = test_features_mileage['СреднийПробег'].fillna(test_features_mileage['СреднийПробег'].median())\n",
    "test_features_mileage['ПоследнийПробег'] = test_features_mileage['ПоследнийПробег'].fillna(test_features_mileage['ПоследнийПробег'].median())\n",
    "test_features_mileage[['СреднийПробег','ПоследнийПробег']] = test_features_mileage[['СреднийПробег','ПоследнийПробег']].astype('int64')"
   ]
  },
  {
   "cell_type": "code",
   "execution_count": 39,
   "id": "dc459752",
   "metadata": {},
   "outputs": [],
   "source": [
    "#Произвожу масштабирование\n",
    "test_features_time.loc[:,('СреднийПромежуток','ПоследнийВизит','АвтомобильГодВыпуска','АвтомобильМодельМежсервисныйПробегТО')] = scaler.fit_transform(test_features_time.loc[:,('СреднийПромежуток','ПоследнийВизит','АвтомобильГодВыпуска','АвтомобильМодельМежсервисныйПробегТО')])\n",
    "test_features_mileage.loc[:,('СреднийПробег','ПоследнийПробег','АвтомобильГодВыпуска','АвтомобильМодельМежсервисныйПробегТО')] = scaler.fit_transform(test_features_mileage.loc[:,('СреднийПробег','ПоследнийПробег','АвтомобильГодВыпуска','АвтомобильМодельМежсервисныйПробегТО')])"
   ]
  },
  {
   "cell_type": "code",
   "execution_count": 40,
   "id": "3afaec79",
   "metadata": {},
   "outputs": [
    {
     "name": "stdout",
     "output_type": "stream",
     "text": [
      "Точность предсказания пробега: 163472\n",
      "Точность предсказания даты: 780\n"
     ]
    }
   ],
   "source": [
    "forest_model.fit(train_features_mileage,train_target_mileage)\n",
    "mileage_predictions = forest_model.predict(test_features_mileage)\n",
    "print('Точность предсказания пробега:',round(mean_squared_error(test_target_mileage,mileage_predictions, squared = False)))\n",
    "forest_model.fit(train_features_time,train_target_time)\n",
    "time_predictions = forest_model.predict(test_features_time)\n",
    "print('Точность предсказания даты:',round(mean_squared_error(test_target_time,time_predictions, squared = False)/86400))"
   ]
  },
  {
   "cell_type": "markdown",
   "id": "2e46052d",
   "metadata": {},
   "source": [
    "Задание выполнено, но результат оказался ниже ожидаемого. Точность оказалось слишком низкой для использования в деле"
   ]
  },
  {
   "cell_type": "code",
   "execution_count": 41,
   "id": "c4ef160a",
   "metadata": {},
   "outputs": [
    {
     "data": {
      "text/plain": [
       "АвтомобильГодВыпуска                    0.915764\n",
       "ПоследнийВизит                          0.067842\n",
       "СреднийПромежуток                       0.011376\n",
       "АвтомобильМодельМежсервисныйПробегТО    0.003632\n",
       "ВозрастАвтомобиля                       0.001386\n",
       "dtype: float64"
      ]
     },
     "execution_count": 41,
     "metadata": {},
     "output_type": "execute_result"
    }
   ],
   "source": [
    "#Эту ячейку я использую для отслеживания feature importance при разных добавленных признаках\n",
    "feature_scores = pd.Series(forest_model.feature_importances_, index=test_features_time.columns).sort_values(ascending=False)\n",
    "\n",
    "feature_scores"
   ]
  }
 ],
 "metadata": {
  "kernelspec": {
   "display_name": "Python 3 (ipykernel)",
   "language": "python",
   "name": "python3"
  },
  "language_info": {
   "codemirror_mode": {
    "name": "ipython",
    "version": 3
   },
   "file_extension": ".py",
   "mimetype": "text/x-python",
   "name": "python",
   "nbconvert_exporter": "python",
   "pygments_lexer": "ipython3",
   "version": "3.9.13"
  }
 },
 "nbformat": 4,
 "nbformat_minor": 5
}
