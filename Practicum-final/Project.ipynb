{
 "cells": [
  {
   "cell_type": "markdown",
   "metadata": {},
   "source": [
    "# Выпускной проект: Предсказание оттока клиентов"
   ]
  },
  {
   "cell_type": "markdown",
   "metadata": {},
   "source": [
    "Оператор связи «Ниединогоразрыва.ком» хочет научиться прогнозировать отток клиентов. Если выяснится, что пользователь планирует уйти, ему будут предложены промокоды и специальные условия. Команда оператора собрала персональные данные о некоторых клиентах, информацию об их тарифах и договорах."
   ]
  },
  {
   "cell_type": "markdown",
   "metadata": {},
   "source": [
    "Цель проекта: разработать модель, которая сможет предсказать вероятность \n",
    "\n",
    "План проекта\n",
    " 1. Предварительный осмотр и Исследовательский анализ данных\n",
    " \n",
    "  Загрузка датасетов и получение первичной информации о них: Их объём, наполнение, распределение и количество пропусков. Проведение Исследовательского анализа, который заключается в поиске закономерностей между столбцами и их особенностей.\n",
    "  \n",
    " 2. Предобработка\n",
    " \n",
    "   объедениние/удаление столбцов на основе ранее приведённого анализа. Создание единого датасета на основе четырех предосталенных.\n",
    "   \n",
    " 3. Создание модели\n",
    " \n",
    "  Тестирование трёх моделей и их гиперпараметров, с целью поиска наиболее оптимального варианта.\n",
    "  \n",
    " 4. Финальная Проверка и вывод\n",
    " \n",
    "  Проверка наилучшей модели на тестовой выборке, она должна иметь показатель AUC-ROC не ниже 85. Подведение вывода и итога       проекта.\n",
    "  \n",
    "\n",
    "Цели проекта будут достигнуты после создания модели, которая предскажет уход пользователя, с показателем AUC-ROC не ниже 85 на тестовой выборке"
   ]
  },
  {
   "cell_type": "code",
   "execution_count": 1,
   "metadata": {},
   "outputs": [
    {
     "name": "stdout",
     "output_type": "stream",
     "text": [
      "Requirement already satisfied: scikit-learn==1.1.3 in /opt/conda/lib/python3.9/site-packages (1.1.3)\n",
      "Requirement already satisfied: numpy>=1.17.3 in /opt/conda/lib/python3.9/site-packages (from scikit-learn==1.1.3) (1.21.1)\n",
      "Requirement already satisfied: joblib>=1.0.0 in /opt/conda/lib/python3.9/site-packages (from scikit-learn==1.1.3) (1.1.0)\n",
      "Requirement already satisfied: scipy>=1.3.2 in /opt/conda/lib/python3.9/site-packages (from scikit-learn==1.1.3) (1.9.1)\n",
      "Requirement already satisfied: threadpoolctl>=2.0.0 in /opt/conda/lib/python3.9/site-packages (from scikit-learn==1.1.3) (3.1.0)\n",
      "Note: you may need to restart the kernel to use updated packages.\n"
     ]
    }
   ],
   "source": [
    "pip install scikit-learn==1.1.3"
   ]
  },
  {
   "cell_type": "code",
   "execution_count": 2,
   "metadata": {},
   "outputs": [
    {
     "name": "stdout",
     "output_type": "stream",
     "text": [
      "Requirement already satisfied: association-metrics in /opt/conda/lib/python3.9/site-packages (0.0.1)\n",
      "Note: you may need to restart the kernel to use updated packages.\n"
     ]
    }
   ],
   "source": [
    "pip install association-metrics"
   ]
  },
  {
   "cell_type": "code",
   "execution_count": 3,
   "metadata": {},
   "outputs": [
    {
     "name": "stdout",
     "output_type": "stream",
     "text": [
      "Requirement already satisfied: eli5 in /opt/conda/lib/python3.9/site-packages (0.13.0)\n",
      "Requirement already satisfied: jinja2>=3.0.0 in /opt/conda/lib/python3.9/site-packages (from eli5) (3.0.1)\n",
      "Requirement already satisfied: graphviz in /opt/conda/lib/python3.9/site-packages (from eli5) (0.20.1)\n",
      "Requirement already satisfied: attrs>17.1.0 in /opt/conda/lib/python3.9/site-packages (from eli5) (21.2.0)\n",
      "Requirement already satisfied: scipy in /opt/conda/lib/python3.9/site-packages (from eli5) (1.9.1)\n",
      "Requirement already satisfied: tabulate>=0.7.7 in /opt/conda/lib/python3.9/site-packages (from eli5) (0.9.0)\n",
      "Requirement already satisfied: numpy>=1.9.0 in /opt/conda/lib/python3.9/site-packages (from eli5) (1.21.1)\n",
      "Requirement already satisfied: scikit-learn>=0.20 in /opt/conda/lib/python3.9/site-packages (from eli5) (1.1.3)\n",
      "Requirement already satisfied: six in /opt/conda/lib/python3.9/site-packages (from eli5) (1.16.0)\n",
      "Requirement already satisfied: MarkupSafe>=2.0 in /opt/conda/lib/python3.9/site-packages (from jinja2>=3.0.0->eli5) (2.1.1)\n",
      "Requirement already satisfied: joblib>=1.0.0 in /opt/conda/lib/python3.9/site-packages (from scikit-learn>=0.20->eli5) (1.1.0)\n",
      "Requirement already satisfied: threadpoolctl>=2.0.0 in /opt/conda/lib/python3.9/site-packages (from scikit-learn>=0.20->eli5) (3.1.0)\n",
      "Note: you may need to restart the kernel to use updated packages.\n"
     ]
    }
   ],
   "source": [
    "pip install eli5"
   ]
  },
  {
   "cell_type": "code",
   "execution_count": 4,
   "metadata": {},
   "outputs": [],
   "source": [
    "# импорты из стандартной библиотеки\n",
    "import warnings\n",
    "\n",
    "# импорты сторонних библиотек\n",
    "import numpy as np\n",
    "import pandas as pd\n",
    "import matplotlib.pyplot as plt\n",
    "import association_metrics as am\n",
    "import sklearn.metrics as metrics\n",
    "import eli5\n",
    "\n",
    "# импорты модулей текущего проекта\n",
    "from eli5.sklearn import PermutationImportance\n",
    "from catboost import CatBoostClassifier\n",
    "from sklearn.dummy import DummyClassifier\n",
    "from sklearn.tree import DecisionTreeClassifier\n",
    "from sklearn.svm import LinearSVC\n",
    "from sklearn.ensemble import RandomForestClassifier\n",
    "from sklearn.linear_model import LogisticRegression\n",
    "from sklearn.metrics import roc_auc_score, confusion_matrix, accuracy_score\n",
    "from sklearn.model_selection import (\n",
    "    GridSearchCV, \n",
    "    cross_validate,\n",
    "    train_test_split,\n",
    "    cross_val_score\n",
    ")\n",
    "from sklearn.preprocessing import (\n",
    "    OneHotEncoder,\n",
    "    OrdinalEncoder,\n",
    "    StandardScaler\n",
    ")\n",
    "\n",
    "# настройки\n",
    "warnings.filterwarnings(\"ignore\")\n",
    "\n",
    "\n",
    "RANDOM_STATE = 120623"
   ]
  },
  {
   "cell_type": "markdown",
   "metadata": {},
   "source": [
    "## Первичный осмотр"
   ]
  },
  {
   "cell_type": "code",
   "execution_count": 5,
   "metadata": {},
   "outputs": [],
   "source": [
    "#Создаю функию для получения информации\n",
    "def get_data_info(data):\n",
    "    display(data.sample(5))\n",
    "    display(data.info())\n",
    "    display(data.describe(include='all'))"
   ]
  },
  {
   "cell_type": "code",
   "execution_count": 6,
   "metadata": {},
   "outputs": [],
   "source": [
    "#Загружаю датасеты\n",
    "df_contract = pd.read_csv('/datasets/contract_new.csv')\n",
    "df_personal = pd.read_csv('/datasets/personal_new.csv')\n",
    "df_internet = pd.read_csv('/datasets/internet_new.csv')\n",
    "df_phone = pd.read_csv('/datasets/phone_new.csv')"
   ]
  },
  {
   "cell_type": "code",
   "execution_count": 7,
   "metadata": {},
   "outputs": [
    {
     "data": {
      "text/html": [
       "<div>\n",
       "<style scoped>\n",
       "    .dataframe tbody tr th:only-of-type {\n",
       "        vertical-align: middle;\n",
       "    }\n",
       "\n",
       "    .dataframe tbody tr th {\n",
       "        vertical-align: top;\n",
       "    }\n",
       "\n",
       "    .dataframe thead th {\n",
       "        text-align: right;\n",
       "    }\n",
       "</style>\n",
       "<table border=\"1\" class=\"dataframe\">\n",
       "  <thead>\n",
       "    <tr style=\"text-align: right;\">\n",
       "      <th></th>\n",
       "      <th>customerID</th>\n",
       "      <th>BeginDate</th>\n",
       "      <th>EndDate</th>\n",
       "      <th>Type</th>\n",
       "      <th>PaperlessBilling</th>\n",
       "      <th>PaymentMethod</th>\n",
       "      <th>MonthlyCharges</th>\n",
       "      <th>TotalCharges</th>\n",
       "    </tr>\n",
       "  </thead>\n",
       "  <tbody>\n",
       "    <tr>\n",
       "      <th>245</th>\n",
       "      <td>0221-WMXNQ</td>\n",
       "      <td>2019-10-01</td>\n",
       "      <td>No</td>\n",
       "      <td>Month-to-month</td>\n",
       "      <td>No</td>\n",
       "      <td>Electronic check</td>\n",
       "      <td>75.35</td>\n",
       "      <td>301.4</td>\n",
       "    </tr>\n",
       "    <tr>\n",
       "      <th>3242</th>\n",
       "      <td>3717-FDJFU</td>\n",
       "      <td>2019-09-01</td>\n",
       "      <td>No</td>\n",
       "      <td>Two year</td>\n",
       "      <td>No</td>\n",
       "      <td>Mailed check</td>\n",
       "      <td>20.45</td>\n",
       "      <td>102.25</td>\n",
       "    </tr>\n",
       "    <tr>\n",
       "      <th>42</th>\n",
       "      <td>9867-JCZSP</td>\n",
       "      <td>2018-09-01</td>\n",
       "      <td>No</td>\n",
       "      <td>One year</td>\n",
       "      <td>No</td>\n",
       "      <td>Mailed check</td>\n",
       "      <td>20.75</td>\n",
       "      <td>352.75</td>\n",
       "    </tr>\n",
       "    <tr>\n",
       "      <th>6327</th>\n",
       "      <td>3736-BLEPA</td>\n",
       "      <td>2017-10-01</td>\n",
       "      <td>No</td>\n",
       "      <td>One year</td>\n",
       "      <td>Yes</td>\n",
       "      <td>Bank transfer (automatic)</td>\n",
       "      <td>91.25</td>\n",
       "      <td>2555.0</td>\n",
       "    </tr>\n",
       "    <tr>\n",
       "      <th>2267</th>\n",
       "      <td>9239-GZHZE</td>\n",
       "      <td>2014-02-01</td>\n",
       "      <td>No</td>\n",
       "      <td>Two year</td>\n",
       "      <td>Yes</td>\n",
       "      <td>Credit card (automatic)</td>\n",
       "      <td>113.65</td>\n",
       "      <td>8346.46</td>\n",
       "    </tr>\n",
       "  </tbody>\n",
       "</table>\n",
       "</div>"
      ],
      "text/plain": [
       "      customerID   BeginDate EndDate            Type PaperlessBilling  \\\n",
       "245   0221-WMXNQ  2019-10-01      No  Month-to-month               No   \n",
       "3242  3717-FDJFU  2019-09-01      No        Two year               No   \n",
       "42    9867-JCZSP  2018-09-01      No        One year               No   \n",
       "6327  3736-BLEPA  2017-10-01      No        One year              Yes   \n",
       "2267  9239-GZHZE  2014-02-01      No        Two year              Yes   \n",
       "\n",
       "                  PaymentMethod  MonthlyCharges TotalCharges  \n",
       "245            Electronic check           75.35        301.4  \n",
       "3242               Mailed check           20.45       102.25  \n",
       "42                 Mailed check           20.75       352.75  \n",
       "6327  Bank transfer (automatic)           91.25       2555.0  \n",
       "2267    Credit card (automatic)          113.65      8346.46  "
      ]
     },
     "metadata": {},
     "output_type": "display_data"
    },
    {
     "name": "stdout",
     "output_type": "stream",
     "text": [
      "<class 'pandas.core.frame.DataFrame'>\n",
      "RangeIndex: 7043 entries, 0 to 7042\n",
      "Data columns (total 8 columns):\n",
      " #   Column            Non-Null Count  Dtype  \n",
      "---  ------            --------------  -----  \n",
      " 0   customerID        7043 non-null   object \n",
      " 1   BeginDate         7043 non-null   object \n",
      " 2   EndDate           7043 non-null   object \n",
      " 3   Type              7043 non-null   object \n",
      " 4   PaperlessBilling  7043 non-null   object \n",
      " 5   PaymentMethod     7043 non-null   object \n",
      " 6   MonthlyCharges    7043 non-null   float64\n",
      " 7   TotalCharges      7043 non-null   object \n",
      "dtypes: float64(1), object(7)\n",
      "memory usage: 440.3+ KB\n"
     ]
    },
    {
     "data": {
      "text/plain": [
       "None"
      ]
     },
     "metadata": {},
     "output_type": "display_data"
    },
    {
     "data": {
      "text/html": [
       "<div>\n",
       "<style scoped>\n",
       "    .dataframe tbody tr th:only-of-type {\n",
       "        vertical-align: middle;\n",
       "    }\n",
       "\n",
       "    .dataframe tbody tr th {\n",
       "        vertical-align: top;\n",
       "    }\n",
       "\n",
       "    .dataframe thead th {\n",
       "        text-align: right;\n",
       "    }\n",
       "</style>\n",
       "<table border=\"1\" class=\"dataframe\">\n",
       "  <thead>\n",
       "    <tr style=\"text-align: right;\">\n",
       "      <th></th>\n",
       "      <th>customerID</th>\n",
       "      <th>BeginDate</th>\n",
       "      <th>EndDate</th>\n",
       "      <th>Type</th>\n",
       "      <th>PaperlessBilling</th>\n",
       "      <th>PaymentMethod</th>\n",
       "      <th>MonthlyCharges</th>\n",
       "      <th>TotalCharges</th>\n",
       "    </tr>\n",
       "  </thead>\n",
       "  <tbody>\n",
       "    <tr>\n",
       "      <th>count</th>\n",
       "      <td>7043</td>\n",
       "      <td>7043</td>\n",
       "      <td>7043</td>\n",
       "      <td>7043</td>\n",
       "      <td>7043</td>\n",
       "      <td>7043</td>\n",
       "      <td>7043.000000</td>\n",
       "      <td>7043</td>\n",
       "    </tr>\n",
       "    <tr>\n",
       "      <th>unique</th>\n",
       "      <td>7043</td>\n",
       "      <td>77</td>\n",
       "      <td>67</td>\n",
       "      <td>3</td>\n",
       "      <td>2</td>\n",
       "      <td>4</td>\n",
       "      <td>NaN</td>\n",
       "      <td>6658</td>\n",
       "    </tr>\n",
       "    <tr>\n",
       "      <th>top</th>\n",
       "      <td>5013-SBUIH</td>\n",
       "      <td>2014-02-01</td>\n",
       "      <td>No</td>\n",
       "      <td>Month-to-month</td>\n",
       "      <td>Yes</td>\n",
       "      <td>Electronic check</td>\n",
       "      <td>NaN</td>\n",
       "      <td></td>\n",
       "    </tr>\n",
       "    <tr>\n",
       "      <th>freq</th>\n",
       "      <td>1</td>\n",
       "      <td>366</td>\n",
       "      <td>5942</td>\n",
       "      <td>3875</td>\n",
       "      <td>4171</td>\n",
       "      <td>2365</td>\n",
       "      <td>NaN</td>\n",
       "      <td>11</td>\n",
       "    </tr>\n",
       "    <tr>\n",
       "      <th>mean</th>\n",
       "      <td>NaN</td>\n",
       "      <td>NaN</td>\n",
       "      <td>NaN</td>\n",
       "      <td>NaN</td>\n",
       "      <td>NaN</td>\n",
       "      <td>NaN</td>\n",
       "      <td>64.761692</td>\n",
       "      <td>NaN</td>\n",
       "    </tr>\n",
       "    <tr>\n",
       "      <th>std</th>\n",
       "      <td>NaN</td>\n",
       "      <td>NaN</td>\n",
       "      <td>NaN</td>\n",
       "      <td>NaN</td>\n",
       "      <td>NaN</td>\n",
       "      <td>NaN</td>\n",
       "      <td>30.090047</td>\n",
       "      <td>NaN</td>\n",
       "    </tr>\n",
       "    <tr>\n",
       "      <th>min</th>\n",
       "      <td>NaN</td>\n",
       "      <td>NaN</td>\n",
       "      <td>NaN</td>\n",
       "      <td>NaN</td>\n",
       "      <td>NaN</td>\n",
       "      <td>NaN</td>\n",
       "      <td>18.250000</td>\n",
       "      <td>NaN</td>\n",
       "    </tr>\n",
       "    <tr>\n",
       "      <th>25%</th>\n",
       "      <td>NaN</td>\n",
       "      <td>NaN</td>\n",
       "      <td>NaN</td>\n",
       "      <td>NaN</td>\n",
       "      <td>NaN</td>\n",
       "      <td>NaN</td>\n",
       "      <td>35.500000</td>\n",
       "      <td>NaN</td>\n",
       "    </tr>\n",
       "    <tr>\n",
       "      <th>50%</th>\n",
       "      <td>NaN</td>\n",
       "      <td>NaN</td>\n",
       "      <td>NaN</td>\n",
       "      <td>NaN</td>\n",
       "      <td>NaN</td>\n",
       "      <td>NaN</td>\n",
       "      <td>70.350000</td>\n",
       "      <td>NaN</td>\n",
       "    </tr>\n",
       "    <tr>\n",
       "      <th>75%</th>\n",
       "      <td>NaN</td>\n",
       "      <td>NaN</td>\n",
       "      <td>NaN</td>\n",
       "      <td>NaN</td>\n",
       "      <td>NaN</td>\n",
       "      <td>NaN</td>\n",
       "      <td>89.850000</td>\n",
       "      <td>NaN</td>\n",
       "    </tr>\n",
       "    <tr>\n",
       "      <th>max</th>\n",
       "      <td>NaN</td>\n",
       "      <td>NaN</td>\n",
       "      <td>NaN</td>\n",
       "      <td>NaN</td>\n",
       "      <td>NaN</td>\n",
       "      <td>NaN</td>\n",
       "      <td>118.750000</td>\n",
       "      <td>NaN</td>\n",
       "    </tr>\n",
       "  </tbody>\n",
       "</table>\n",
       "</div>"
      ],
      "text/plain": [
       "        customerID   BeginDate EndDate            Type PaperlessBilling  \\\n",
       "count         7043        7043    7043            7043             7043   \n",
       "unique        7043          77      67               3                2   \n",
       "top     5013-SBUIH  2014-02-01      No  Month-to-month              Yes   \n",
       "freq             1         366    5942            3875             4171   \n",
       "mean           NaN         NaN     NaN             NaN              NaN   \n",
       "std            NaN         NaN     NaN             NaN              NaN   \n",
       "min            NaN         NaN     NaN             NaN              NaN   \n",
       "25%            NaN         NaN     NaN             NaN              NaN   \n",
       "50%            NaN         NaN     NaN             NaN              NaN   \n",
       "75%            NaN         NaN     NaN             NaN              NaN   \n",
       "max            NaN         NaN     NaN             NaN              NaN   \n",
       "\n",
       "           PaymentMethod  MonthlyCharges TotalCharges  \n",
       "count               7043     7043.000000         7043  \n",
       "unique                 4             NaN         6658  \n",
       "top     Electronic check             NaN               \n",
       "freq                2365             NaN           11  \n",
       "mean                 NaN       64.761692          NaN  \n",
       "std                  NaN       30.090047          NaN  \n",
       "min                  NaN       18.250000          NaN  \n",
       "25%                  NaN       35.500000          NaN  \n",
       "50%                  NaN       70.350000          NaN  \n",
       "75%                  NaN       89.850000          NaN  \n",
       "max                  NaN      118.750000          NaN  "
      ]
     },
     "metadata": {},
     "output_type": "display_data"
    }
   ],
   "source": [
    "get_data_info(df_contract)"
   ]
  },
  {
   "cell_type": "markdown",
   "metadata": {},
   "source": [
    "df_contract: Столбец BeginDate выглядит бесполезным, но его можно конвертировать в количество дней действие контракта. Далее за ним следуют 4 категориальных столбца, которые можно закодировать, особенно важным выглядит столбец EndDate, из которого можно сделать целевой признак. После них идут два столбца с числовыми признаками, причём totalCharges имеет неправильный тип."
   ]
  },
  {
   "cell_type": "code",
   "execution_count": 8,
   "metadata": {},
   "outputs": [
    {
     "data": {
      "text/html": [
       "<div>\n",
       "<style scoped>\n",
       "    .dataframe tbody tr th:only-of-type {\n",
       "        vertical-align: middle;\n",
       "    }\n",
       "\n",
       "    .dataframe tbody tr th {\n",
       "        vertical-align: top;\n",
       "    }\n",
       "\n",
       "    .dataframe thead th {\n",
       "        text-align: right;\n",
       "    }\n",
       "</style>\n",
       "<table border=\"1\" class=\"dataframe\">\n",
       "  <thead>\n",
       "    <tr style=\"text-align: right;\">\n",
       "      <th></th>\n",
       "      <th>customerID</th>\n",
       "      <th>gender</th>\n",
       "      <th>SeniorCitizen</th>\n",
       "      <th>Partner</th>\n",
       "      <th>Dependents</th>\n",
       "    </tr>\n",
       "  </thead>\n",
       "  <tbody>\n",
       "    <tr>\n",
       "      <th>3676</th>\n",
       "      <td>2364-UFROM</td>\n",
       "      <td>Male</td>\n",
       "      <td>0</td>\n",
       "      <td>No</td>\n",
       "      <td>No</td>\n",
       "    </tr>\n",
       "    <tr>\n",
       "      <th>5971</th>\n",
       "      <td>9800-OUIGR</td>\n",
       "      <td>Male</td>\n",
       "      <td>0</td>\n",
       "      <td>Yes</td>\n",
       "      <td>Yes</td>\n",
       "    </tr>\n",
       "    <tr>\n",
       "      <th>5809</th>\n",
       "      <td>8132-YPVBX</td>\n",
       "      <td>Female</td>\n",
       "      <td>0</td>\n",
       "      <td>No</td>\n",
       "      <td>No</td>\n",
       "    </tr>\n",
       "    <tr>\n",
       "      <th>4585</th>\n",
       "      <td>1069-XAIEM</td>\n",
       "      <td>Female</td>\n",
       "      <td>1</td>\n",
       "      <td>No</td>\n",
       "      <td>No</td>\n",
       "    </tr>\n",
       "    <tr>\n",
       "      <th>5847</th>\n",
       "      <td>9391-YZEJW</td>\n",
       "      <td>Female</td>\n",
       "      <td>0</td>\n",
       "      <td>No</td>\n",
       "      <td>No</td>\n",
       "    </tr>\n",
       "  </tbody>\n",
       "</table>\n",
       "</div>"
      ],
      "text/plain": [
       "      customerID  gender  SeniorCitizen Partner Dependents\n",
       "3676  2364-UFROM    Male              0      No         No\n",
       "5971  9800-OUIGR    Male              0     Yes        Yes\n",
       "5809  8132-YPVBX  Female              0      No         No\n",
       "4585  1069-XAIEM  Female              1      No         No\n",
       "5847  9391-YZEJW  Female              0      No         No"
      ]
     },
     "metadata": {},
     "output_type": "display_data"
    },
    {
     "name": "stdout",
     "output_type": "stream",
     "text": [
      "<class 'pandas.core.frame.DataFrame'>\n",
      "RangeIndex: 7043 entries, 0 to 7042\n",
      "Data columns (total 5 columns):\n",
      " #   Column         Non-Null Count  Dtype \n",
      "---  ------         --------------  ----- \n",
      " 0   customerID     7043 non-null   object\n",
      " 1   gender         7043 non-null   object\n",
      " 2   SeniorCitizen  7043 non-null   int64 \n",
      " 3   Partner        7043 non-null   object\n",
      " 4   Dependents     7043 non-null   object\n",
      "dtypes: int64(1), object(4)\n",
      "memory usage: 275.2+ KB\n"
     ]
    },
    {
     "data": {
      "text/plain": [
       "None"
      ]
     },
     "metadata": {},
     "output_type": "display_data"
    },
    {
     "data": {
      "text/html": [
       "<div>\n",
       "<style scoped>\n",
       "    .dataframe tbody tr th:only-of-type {\n",
       "        vertical-align: middle;\n",
       "    }\n",
       "\n",
       "    .dataframe tbody tr th {\n",
       "        vertical-align: top;\n",
       "    }\n",
       "\n",
       "    .dataframe thead th {\n",
       "        text-align: right;\n",
       "    }\n",
       "</style>\n",
       "<table border=\"1\" class=\"dataframe\">\n",
       "  <thead>\n",
       "    <tr style=\"text-align: right;\">\n",
       "      <th></th>\n",
       "      <th>customerID</th>\n",
       "      <th>gender</th>\n",
       "      <th>SeniorCitizen</th>\n",
       "      <th>Partner</th>\n",
       "      <th>Dependents</th>\n",
       "    </tr>\n",
       "  </thead>\n",
       "  <tbody>\n",
       "    <tr>\n",
       "      <th>count</th>\n",
       "      <td>7043</td>\n",
       "      <td>7043</td>\n",
       "      <td>7043.000000</td>\n",
       "      <td>7043</td>\n",
       "      <td>7043</td>\n",
       "    </tr>\n",
       "    <tr>\n",
       "      <th>unique</th>\n",
       "      <td>7043</td>\n",
       "      <td>2</td>\n",
       "      <td>NaN</td>\n",
       "      <td>2</td>\n",
       "      <td>2</td>\n",
       "    </tr>\n",
       "    <tr>\n",
       "      <th>top</th>\n",
       "      <td>5013-SBUIH</td>\n",
       "      <td>Male</td>\n",
       "      <td>NaN</td>\n",
       "      <td>No</td>\n",
       "      <td>No</td>\n",
       "    </tr>\n",
       "    <tr>\n",
       "      <th>freq</th>\n",
       "      <td>1</td>\n",
       "      <td>3555</td>\n",
       "      <td>NaN</td>\n",
       "      <td>3641</td>\n",
       "      <td>4933</td>\n",
       "    </tr>\n",
       "    <tr>\n",
       "      <th>mean</th>\n",
       "      <td>NaN</td>\n",
       "      <td>NaN</td>\n",
       "      <td>0.162147</td>\n",
       "      <td>NaN</td>\n",
       "      <td>NaN</td>\n",
       "    </tr>\n",
       "    <tr>\n",
       "      <th>std</th>\n",
       "      <td>NaN</td>\n",
       "      <td>NaN</td>\n",
       "      <td>0.368612</td>\n",
       "      <td>NaN</td>\n",
       "      <td>NaN</td>\n",
       "    </tr>\n",
       "    <tr>\n",
       "      <th>min</th>\n",
       "      <td>NaN</td>\n",
       "      <td>NaN</td>\n",
       "      <td>0.000000</td>\n",
       "      <td>NaN</td>\n",
       "      <td>NaN</td>\n",
       "    </tr>\n",
       "    <tr>\n",
       "      <th>25%</th>\n",
       "      <td>NaN</td>\n",
       "      <td>NaN</td>\n",
       "      <td>0.000000</td>\n",
       "      <td>NaN</td>\n",
       "      <td>NaN</td>\n",
       "    </tr>\n",
       "    <tr>\n",
       "      <th>50%</th>\n",
       "      <td>NaN</td>\n",
       "      <td>NaN</td>\n",
       "      <td>0.000000</td>\n",
       "      <td>NaN</td>\n",
       "      <td>NaN</td>\n",
       "    </tr>\n",
       "    <tr>\n",
       "      <th>75%</th>\n",
       "      <td>NaN</td>\n",
       "      <td>NaN</td>\n",
       "      <td>0.000000</td>\n",
       "      <td>NaN</td>\n",
       "      <td>NaN</td>\n",
       "    </tr>\n",
       "    <tr>\n",
       "      <th>max</th>\n",
       "      <td>NaN</td>\n",
       "      <td>NaN</td>\n",
       "      <td>1.000000</td>\n",
       "      <td>NaN</td>\n",
       "      <td>NaN</td>\n",
       "    </tr>\n",
       "  </tbody>\n",
       "</table>\n",
       "</div>"
      ],
      "text/plain": [
       "        customerID gender  SeniorCitizen Partner Dependents\n",
       "count         7043   7043    7043.000000    7043       7043\n",
       "unique        7043      2            NaN       2          2\n",
       "top     5013-SBUIH   Male            NaN      No         No\n",
       "freq             1   3555            NaN    3641       4933\n",
       "mean           NaN    NaN       0.162147     NaN        NaN\n",
       "std            NaN    NaN       0.368612     NaN        NaN\n",
       "min            NaN    NaN       0.000000     NaN        NaN\n",
       "25%            NaN    NaN       0.000000     NaN        NaN\n",
       "50%            NaN    NaN       0.000000     NaN        NaN\n",
       "75%            NaN    NaN       0.000000     NaN        NaN\n",
       "max            NaN    NaN       1.000000     NaN        NaN"
      ]
     },
     "metadata": {},
     "output_type": "display_data"
    }
   ],
   "source": [
    "get_data_info(df_personal)"
   ]
  },
  {
   "cell_type": "markdown",
   "metadata": {},
   "source": [
    "df_personal: Присутсвуют 3 категориальных признака которые необходимо закодировать"
   ]
  },
  {
   "cell_type": "code",
   "execution_count": 9,
   "metadata": {},
   "outputs": [
    {
     "data": {
      "text/html": [
       "<div>\n",
       "<style scoped>\n",
       "    .dataframe tbody tr th:only-of-type {\n",
       "        vertical-align: middle;\n",
       "    }\n",
       "\n",
       "    .dataframe tbody tr th {\n",
       "        vertical-align: top;\n",
       "    }\n",
       "\n",
       "    .dataframe thead th {\n",
       "        text-align: right;\n",
       "    }\n",
       "</style>\n",
       "<table border=\"1\" class=\"dataframe\">\n",
       "  <thead>\n",
       "    <tr style=\"text-align: right;\">\n",
       "      <th></th>\n",
       "      <th>customerID</th>\n",
       "      <th>InternetService</th>\n",
       "      <th>OnlineSecurity</th>\n",
       "      <th>OnlineBackup</th>\n",
       "      <th>DeviceProtection</th>\n",
       "      <th>TechSupport</th>\n",
       "      <th>StreamingTV</th>\n",
       "      <th>StreamingMovies</th>\n",
       "    </tr>\n",
       "  </thead>\n",
       "  <tbody>\n",
       "    <tr>\n",
       "      <th>4528</th>\n",
       "      <td>4548-SDBKE</td>\n",
       "      <td>Fiber optic</td>\n",
       "      <td>No</td>\n",
       "      <td>No</td>\n",
       "      <td>No</td>\n",
       "      <td>No</td>\n",
       "      <td>Yes</td>\n",
       "      <td>No</td>\n",
       "    </tr>\n",
       "    <tr>\n",
       "      <th>3077</th>\n",
       "      <td>1304-NECVQ</td>\n",
       "      <td>Fiber optic</td>\n",
       "      <td>No</td>\n",
       "      <td>No</td>\n",
       "      <td>Yes</td>\n",
       "      <td>No</td>\n",
       "      <td>No</td>\n",
       "      <td>No</td>\n",
       "    </tr>\n",
       "    <tr>\n",
       "      <th>1152</th>\n",
       "      <td>2951-QOQTK</td>\n",
       "      <td>Fiber optic</td>\n",
       "      <td>No</td>\n",
       "      <td>No</td>\n",
       "      <td>No</td>\n",
       "      <td>Yes</td>\n",
       "      <td>No</td>\n",
       "      <td>No</td>\n",
       "    </tr>\n",
       "    <tr>\n",
       "      <th>5343</th>\n",
       "      <td>9940-HPQPG</td>\n",
       "      <td>Fiber optic</td>\n",
       "      <td>Yes</td>\n",
       "      <td>Yes</td>\n",
       "      <td>Yes</td>\n",
       "      <td>No</td>\n",
       "      <td>No</td>\n",
       "      <td>No</td>\n",
       "    </tr>\n",
       "    <tr>\n",
       "      <th>4991</th>\n",
       "      <td>3058-HJCUY</td>\n",
       "      <td>Fiber optic</td>\n",
       "      <td>No</td>\n",
       "      <td>No</td>\n",
       "      <td>Yes</td>\n",
       "      <td>Yes</td>\n",
       "      <td>Yes</td>\n",
       "      <td>Yes</td>\n",
       "    </tr>\n",
       "  </tbody>\n",
       "</table>\n",
       "</div>"
      ],
      "text/plain": [
       "      customerID InternetService OnlineSecurity OnlineBackup DeviceProtection  \\\n",
       "4528  4548-SDBKE     Fiber optic             No           No               No   \n",
       "3077  1304-NECVQ     Fiber optic             No           No              Yes   \n",
       "1152  2951-QOQTK     Fiber optic             No           No               No   \n",
       "5343  9940-HPQPG     Fiber optic            Yes          Yes              Yes   \n",
       "4991  3058-HJCUY     Fiber optic             No           No              Yes   \n",
       "\n",
       "     TechSupport StreamingTV StreamingMovies  \n",
       "4528          No         Yes              No  \n",
       "3077          No          No              No  \n",
       "1152         Yes          No              No  \n",
       "5343          No          No              No  \n",
       "4991         Yes         Yes             Yes  "
      ]
     },
     "metadata": {},
     "output_type": "display_data"
    },
    {
     "name": "stdout",
     "output_type": "stream",
     "text": [
      "<class 'pandas.core.frame.DataFrame'>\n",
      "RangeIndex: 5517 entries, 0 to 5516\n",
      "Data columns (total 8 columns):\n",
      " #   Column            Non-Null Count  Dtype \n",
      "---  ------            --------------  ----- \n",
      " 0   customerID        5517 non-null   object\n",
      " 1   InternetService   5517 non-null   object\n",
      " 2   OnlineSecurity    5517 non-null   object\n",
      " 3   OnlineBackup      5517 non-null   object\n",
      " 4   DeviceProtection  5517 non-null   object\n",
      " 5   TechSupport       5517 non-null   object\n",
      " 6   StreamingTV       5517 non-null   object\n",
      " 7   StreamingMovies   5517 non-null   object\n",
      "dtypes: object(8)\n",
      "memory usage: 344.9+ KB\n"
     ]
    },
    {
     "data": {
      "text/plain": [
       "None"
      ]
     },
     "metadata": {},
     "output_type": "display_data"
    },
    {
     "data": {
      "text/html": [
       "<div>\n",
       "<style scoped>\n",
       "    .dataframe tbody tr th:only-of-type {\n",
       "        vertical-align: middle;\n",
       "    }\n",
       "\n",
       "    .dataframe tbody tr th {\n",
       "        vertical-align: top;\n",
       "    }\n",
       "\n",
       "    .dataframe thead th {\n",
       "        text-align: right;\n",
       "    }\n",
       "</style>\n",
       "<table border=\"1\" class=\"dataframe\">\n",
       "  <thead>\n",
       "    <tr style=\"text-align: right;\">\n",
       "      <th></th>\n",
       "      <th>customerID</th>\n",
       "      <th>InternetService</th>\n",
       "      <th>OnlineSecurity</th>\n",
       "      <th>OnlineBackup</th>\n",
       "      <th>DeviceProtection</th>\n",
       "      <th>TechSupport</th>\n",
       "      <th>StreamingTV</th>\n",
       "      <th>StreamingMovies</th>\n",
       "    </tr>\n",
       "  </thead>\n",
       "  <tbody>\n",
       "    <tr>\n",
       "      <th>count</th>\n",
       "      <td>5517</td>\n",
       "      <td>5517</td>\n",
       "      <td>5517</td>\n",
       "      <td>5517</td>\n",
       "      <td>5517</td>\n",
       "      <td>5517</td>\n",
       "      <td>5517</td>\n",
       "      <td>5517</td>\n",
       "    </tr>\n",
       "    <tr>\n",
       "      <th>unique</th>\n",
       "      <td>5517</td>\n",
       "      <td>2</td>\n",
       "      <td>2</td>\n",
       "      <td>2</td>\n",
       "      <td>2</td>\n",
       "      <td>2</td>\n",
       "      <td>2</td>\n",
       "      <td>2</td>\n",
       "    </tr>\n",
       "    <tr>\n",
       "      <th>top</th>\n",
       "      <td>4056-QHXHZ</td>\n",
       "      <td>Fiber optic</td>\n",
       "      <td>No</td>\n",
       "      <td>No</td>\n",
       "      <td>No</td>\n",
       "      <td>No</td>\n",
       "      <td>No</td>\n",
       "      <td>No</td>\n",
       "    </tr>\n",
       "    <tr>\n",
       "      <th>freq</th>\n",
       "      <td>1</td>\n",
       "      <td>3096</td>\n",
       "      <td>3498</td>\n",
       "      <td>3088</td>\n",
       "      <td>3095</td>\n",
       "      <td>3473</td>\n",
       "      <td>2810</td>\n",
       "      <td>2785</td>\n",
       "    </tr>\n",
       "  </tbody>\n",
       "</table>\n",
       "</div>"
      ],
      "text/plain": [
       "        customerID InternetService OnlineSecurity OnlineBackup  \\\n",
       "count         5517            5517           5517         5517   \n",
       "unique        5517               2              2            2   \n",
       "top     4056-QHXHZ     Fiber optic             No           No   \n",
       "freq             1            3096           3498         3088   \n",
       "\n",
       "       DeviceProtection TechSupport StreamingTV StreamingMovies  \n",
       "count              5517        5517        5517            5517  \n",
       "unique                2           2           2               2  \n",
       "top                  No          No          No              No  \n",
       "freq               3095        3473        2810            2785  "
      ]
     },
     "metadata": {},
     "output_type": "display_data"
    }
   ],
   "source": [
    "get_data_info(df_internet)"
   ]
  },
  {
   "cell_type": "markdown",
   "metadata": {},
   "source": [
    "df_internet: 7 категориальных признаков, их нужно закодировать и проверить корреляцию, для их возможного удаления"
   ]
  },
  {
   "cell_type": "code",
   "execution_count": 10,
   "metadata": {},
   "outputs": [
    {
     "data": {
      "text/html": [
       "<div>\n",
       "<style scoped>\n",
       "    .dataframe tbody tr th:only-of-type {\n",
       "        vertical-align: middle;\n",
       "    }\n",
       "\n",
       "    .dataframe tbody tr th {\n",
       "        vertical-align: top;\n",
       "    }\n",
       "\n",
       "    .dataframe thead th {\n",
       "        text-align: right;\n",
       "    }\n",
       "</style>\n",
       "<table border=\"1\" class=\"dataframe\">\n",
       "  <thead>\n",
       "    <tr style=\"text-align: right;\">\n",
       "      <th></th>\n",
       "      <th>customerID</th>\n",
       "      <th>MultipleLines</th>\n",
       "    </tr>\n",
       "  </thead>\n",
       "  <tbody>\n",
       "    <tr>\n",
       "      <th>3433</th>\n",
       "      <td>6968-URWQU</td>\n",
       "      <td>No</td>\n",
       "    </tr>\n",
       "    <tr>\n",
       "      <th>2807</th>\n",
       "      <td>6979-ZNSFF</td>\n",
       "      <td>Yes</td>\n",
       "    </tr>\n",
       "    <tr>\n",
       "      <th>6016</th>\n",
       "      <td>4020-KIUDI</td>\n",
       "      <td>No</td>\n",
       "    </tr>\n",
       "    <tr>\n",
       "      <th>43</th>\n",
       "      <td>7639-LIAYI</td>\n",
       "      <td>Yes</td>\n",
       "    </tr>\n",
       "    <tr>\n",
       "      <th>1111</th>\n",
       "      <td>9091-WTUUY</td>\n",
       "      <td>No</td>\n",
       "    </tr>\n",
       "  </tbody>\n",
       "</table>\n",
       "</div>"
      ],
      "text/plain": [
       "      customerID MultipleLines\n",
       "3433  6968-URWQU            No\n",
       "2807  6979-ZNSFF           Yes\n",
       "6016  4020-KIUDI            No\n",
       "43    7639-LIAYI           Yes\n",
       "1111  9091-WTUUY            No"
      ]
     },
     "metadata": {},
     "output_type": "display_data"
    },
    {
     "name": "stdout",
     "output_type": "stream",
     "text": [
      "<class 'pandas.core.frame.DataFrame'>\n",
      "RangeIndex: 6361 entries, 0 to 6360\n",
      "Data columns (total 2 columns):\n",
      " #   Column         Non-Null Count  Dtype \n",
      "---  ------         --------------  ----- \n",
      " 0   customerID     6361 non-null   object\n",
      " 1   MultipleLines  6361 non-null   object\n",
      "dtypes: object(2)\n",
      "memory usage: 99.5+ KB\n"
     ]
    },
    {
     "data": {
      "text/plain": [
       "None"
      ]
     },
     "metadata": {},
     "output_type": "display_data"
    },
    {
     "data": {
      "text/html": [
       "<div>\n",
       "<style scoped>\n",
       "    .dataframe tbody tr th:only-of-type {\n",
       "        vertical-align: middle;\n",
       "    }\n",
       "\n",
       "    .dataframe tbody tr th {\n",
       "        vertical-align: top;\n",
       "    }\n",
       "\n",
       "    .dataframe thead th {\n",
       "        text-align: right;\n",
       "    }\n",
       "</style>\n",
       "<table border=\"1\" class=\"dataframe\">\n",
       "  <thead>\n",
       "    <tr style=\"text-align: right;\">\n",
       "      <th></th>\n",
       "      <th>customerID</th>\n",
       "      <th>MultipleLines</th>\n",
       "    </tr>\n",
       "  </thead>\n",
       "  <tbody>\n",
       "    <tr>\n",
       "      <th>count</th>\n",
       "      <td>6361</td>\n",
       "      <td>6361</td>\n",
       "    </tr>\n",
       "    <tr>\n",
       "      <th>unique</th>\n",
       "      <td>6361</td>\n",
       "      <td>2</td>\n",
       "    </tr>\n",
       "    <tr>\n",
       "      <th>top</th>\n",
       "      <td>5013-SBUIH</td>\n",
       "      <td>No</td>\n",
       "    </tr>\n",
       "    <tr>\n",
       "      <th>freq</th>\n",
       "      <td>1</td>\n",
       "      <td>3390</td>\n",
       "    </tr>\n",
       "  </tbody>\n",
       "</table>\n",
       "</div>"
      ],
      "text/plain": [
       "        customerID MultipleLines\n",
       "count         6361          6361\n",
       "unique        6361             2\n",
       "top     5013-SBUIH            No\n",
       "freq             1          3390"
      ]
     },
     "metadata": {},
     "output_type": "display_data"
    }
   ],
   "source": [
    "get_data_info(df_phone)"
   ]
  },
  {
   "cell_type": "markdown",
   "metadata": {},
   "source": [
    "df_phone: Один признак, его важность также подлежит проверке.\n",
    "\n",
    "Также хочу отметить то, что во всех датафреймах присутвует столбец customerID который будет использоваться для объединения.\n",
    "Также стоит отметить то, что столбцы имеют разное количество строк"
   ]
  },
  {
   "cell_type": "code",
   "execution_count": 11,
   "metadata": {},
   "outputs": [],
   "source": [
    "#Создаю единый датасет\n",
    "df = df_contract.copy()\n",
    "df = df.merge(df_personal,'left', on='customerID')\n",
    "df = df.merge(df_internet, 'left', on='customerID')\n",
    "df = df.merge(df_phone,'left', on='customerID')"
   ]
  },
  {
   "cell_type": "markdown",
   "metadata": {},
   "source": [
    "## Исследовательский анализ данных"
   ]
  },
  {
   "cell_type": "code",
   "execution_count": 12,
   "metadata": {},
   "outputs": [
    {
     "data": {
      "text/html": [
       "<div>\n",
       "<style scoped>\n",
       "    .dataframe tbody tr th:only-of-type {\n",
       "        vertical-align: middle;\n",
       "    }\n",
       "\n",
       "    .dataframe tbody tr th {\n",
       "        vertical-align: top;\n",
       "    }\n",
       "\n",
       "    .dataframe thead th {\n",
       "        text-align: right;\n",
       "    }\n",
       "</style>\n",
       "<table border=\"1\" class=\"dataframe\">\n",
       "  <thead>\n",
       "    <tr style=\"text-align: right;\">\n",
       "      <th></th>\n",
       "      <th>customerID</th>\n",
       "      <th>BeginDate</th>\n",
       "      <th>EndDate</th>\n",
       "      <th>Type</th>\n",
       "      <th>PaperlessBilling</th>\n",
       "      <th>PaymentMethod</th>\n",
       "      <th>MonthlyCharges</th>\n",
       "      <th>TotalCharges</th>\n",
       "      <th>gender</th>\n",
       "      <th>SeniorCitizen</th>\n",
       "      <th>Partner</th>\n",
       "      <th>Dependents</th>\n",
       "      <th>InternetService</th>\n",
       "      <th>OnlineSecurity</th>\n",
       "      <th>OnlineBackup</th>\n",
       "      <th>DeviceProtection</th>\n",
       "      <th>TechSupport</th>\n",
       "      <th>StreamingTV</th>\n",
       "      <th>StreamingMovies</th>\n",
       "      <th>MultipleLines</th>\n",
       "    </tr>\n",
       "  </thead>\n",
       "  <tbody>\n",
       "    <tr>\n",
       "      <th>5167</th>\n",
       "      <td>4188-PCPIG</td>\n",
       "      <td>2015-05-01</td>\n",
       "      <td>No</td>\n",
       "      <td>Two year</td>\n",
       "      <td>Yes</td>\n",
       "      <td>Credit card (automatic)</td>\n",
       "      <td>70.35</td>\n",
       "      <td>4009.95</td>\n",
       "      <td>Female</td>\n",
       "      <td>0</td>\n",
       "      <td>Yes</td>\n",
       "      <td>No</td>\n",
       "      <td>DSL</td>\n",
       "      <td>Yes</td>\n",
       "      <td>Yes</td>\n",
       "      <td>No</td>\n",
       "      <td>Yes</td>\n",
       "      <td>Yes</td>\n",
       "      <td>No</td>\n",
       "      <td>No</td>\n",
       "    </tr>\n",
       "    <tr>\n",
       "      <th>6872</th>\n",
       "      <td>5297-MDOIR</td>\n",
       "      <td>2014-11-01</td>\n",
       "      <td>No</td>\n",
       "      <td>One year</td>\n",
       "      <td>Yes</td>\n",
       "      <td>Credit card (automatic)</td>\n",
       "      <td>81.15</td>\n",
       "      <td>5470.32</td>\n",
       "      <td>Female</td>\n",
       "      <td>0</td>\n",
       "      <td>Yes</td>\n",
       "      <td>No</td>\n",
       "      <td>Fiber optic</td>\n",
       "      <td>Yes</td>\n",
       "      <td>No</td>\n",
       "      <td>Yes</td>\n",
       "      <td>No</td>\n",
       "      <td>No</td>\n",
       "      <td>No</td>\n",
       "      <td>No</td>\n",
       "    </tr>\n",
       "    <tr>\n",
       "      <th>3611</th>\n",
       "      <td>5693-PIPCS</td>\n",
       "      <td>2016-09-01</td>\n",
       "      <td>No</td>\n",
       "      <td>Two year</td>\n",
       "      <td>Yes</td>\n",
       "      <td>Credit card (automatic)</td>\n",
       "      <td>99.65</td>\n",
       "      <td>4249.08</td>\n",
       "      <td>Male</td>\n",
       "      <td>0</td>\n",
       "      <td>No</td>\n",
       "      <td>No</td>\n",
       "      <td>Fiber optic</td>\n",
       "      <td>No</td>\n",
       "      <td>Yes</td>\n",
       "      <td>No</td>\n",
       "      <td>Yes</td>\n",
       "      <td>Yes</td>\n",
       "      <td>Yes</td>\n",
       "      <td>No</td>\n",
       "    </tr>\n",
       "    <tr>\n",
       "      <th>2370</th>\n",
       "      <td>6993-YGFJV</td>\n",
       "      <td>2014-05-01</td>\n",
       "      <td>No</td>\n",
       "      <td>Two year</td>\n",
       "      <td>Yes</td>\n",
       "      <td>Bank transfer (automatic)</td>\n",
       "      <td>112.55</td>\n",
       "      <td>8154.25</td>\n",
       "      <td>Male</td>\n",
       "      <td>0</td>\n",
       "      <td>Yes</td>\n",
       "      <td>No</td>\n",
       "      <td>Fiber optic</td>\n",
       "      <td>Yes</td>\n",
       "      <td>Yes</td>\n",
       "      <td>Yes</td>\n",
       "      <td>Yes</td>\n",
       "      <td>Yes</td>\n",
       "      <td>Yes</td>\n",
       "      <td>Yes</td>\n",
       "    </tr>\n",
       "    <tr>\n",
       "      <th>3087</th>\n",
       "      <td>6979-ZNSFF</td>\n",
       "      <td>2019-03-01</td>\n",
       "      <td>No</td>\n",
       "      <td>Month-to-month</td>\n",
       "      <td>Yes</td>\n",
       "      <td>Electronic check</td>\n",
       "      <td>87.05</td>\n",
       "      <td>957.55</td>\n",
       "      <td>Female</td>\n",
       "      <td>0</td>\n",
       "      <td>No</td>\n",
       "      <td>No</td>\n",
       "      <td>Fiber optic</td>\n",
       "      <td>No</td>\n",
       "      <td>No</td>\n",
       "      <td>No</td>\n",
       "      <td>No</td>\n",
       "      <td>Yes</td>\n",
       "      <td>No</td>\n",
       "      <td>Yes</td>\n",
       "    </tr>\n",
       "  </tbody>\n",
       "</table>\n",
       "</div>"
      ],
      "text/plain": [
       "      customerID   BeginDate EndDate            Type PaperlessBilling  \\\n",
       "5167  4188-PCPIG  2015-05-01      No        Two year              Yes   \n",
       "6872  5297-MDOIR  2014-11-01      No        One year              Yes   \n",
       "3611  5693-PIPCS  2016-09-01      No        Two year              Yes   \n",
       "2370  6993-YGFJV  2014-05-01      No        Two year              Yes   \n",
       "3087  6979-ZNSFF  2019-03-01      No  Month-to-month              Yes   \n",
       "\n",
       "                  PaymentMethod  MonthlyCharges TotalCharges  gender  \\\n",
       "5167    Credit card (automatic)           70.35      4009.95  Female   \n",
       "6872    Credit card (automatic)           81.15      5470.32  Female   \n",
       "3611    Credit card (automatic)           99.65      4249.08    Male   \n",
       "2370  Bank transfer (automatic)          112.55      8154.25    Male   \n",
       "3087           Electronic check           87.05       957.55  Female   \n",
       "\n",
       "      SeniorCitizen Partner Dependents InternetService OnlineSecurity  \\\n",
       "5167              0     Yes         No             DSL            Yes   \n",
       "6872              0     Yes         No     Fiber optic            Yes   \n",
       "3611              0      No         No     Fiber optic             No   \n",
       "2370              0     Yes         No     Fiber optic            Yes   \n",
       "3087              0      No         No     Fiber optic             No   \n",
       "\n",
       "     OnlineBackup DeviceProtection TechSupport StreamingTV StreamingMovies  \\\n",
       "5167          Yes               No         Yes         Yes              No   \n",
       "6872           No              Yes          No          No              No   \n",
       "3611          Yes               No         Yes         Yes             Yes   \n",
       "2370          Yes              Yes         Yes         Yes             Yes   \n",
       "3087           No               No          No         Yes              No   \n",
       "\n",
       "     MultipleLines  \n",
       "5167            No  \n",
       "6872            No  \n",
       "3611            No  \n",
       "2370           Yes  \n",
       "3087           Yes  "
      ]
     },
     "metadata": {},
     "output_type": "display_data"
    },
    {
     "name": "stdout",
     "output_type": "stream",
     "text": [
      "<class 'pandas.core.frame.DataFrame'>\n",
      "Int64Index: 7043 entries, 0 to 7042\n",
      "Data columns (total 20 columns):\n",
      " #   Column            Non-Null Count  Dtype  \n",
      "---  ------            --------------  -----  \n",
      " 0   customerID        7043 non-null   object \n",
      " 1   BeginDate         7043 non-null   object \n",
      " 2   EndDate           7043 non-null   object \n",
      " 3   Type              7043 non-null   object \n",
      " 4   PaperlessBilling  7043 non-null   object \n",
      " 5   PaymentMethod     7043 non-null   object \n",
      " 6   MonthlyCharges    7043 non-null   float64\n",
      " 7   TotalCharges      7043 non-null   object \n",
      " 8   gender            7043 non-null   object \n",
      " 9   SeniorCitizen     7043 non-null   int64  \n",
      " 10  Partner           7043 non-null   object \n",
      " 11  Dependents        7043 non-null   object \n",
      " 12  InternetService   5517 non-null   object \n",
      " 13  OnlineSecurity    5517 non-null   object \n",
      " 14  OnlineBackup      5517 non-null   object \n",
      " 15  DeviceProtection  5517 non-null   object \n",
      " 16  TechSupport       5517 non-null   object \n",
      " 17  StreamingTV       5517 non-null   object \n",
      " 18  StreamingMovies   5517 non-null   object \n",
      " 19  MultipleLines     6361 non-null   object \n",
      "dtypes: float64(1), int64(1), object(18)\n",
      "memory usage: 1.1+ MB\n"
     ]
    },
    {
     "data": {
      "text/plain": [
       "None"
      ]
     },
     "metadata": {},
     "output_type": "display_data"
    },
    {
     "data": {
      "text/html": [
       "<div>\n",
       "<style scoped>\n",
       "    .dataframe tbody tr th:only-of-type {\n",
       "        vertical-align: middle;\n",
       "    }\n",
       "\n",
       "    .dataframe tbody tr th {\n",
       "        vertical-align: top;\n",
       "    }\n",
       "\n",
       "    .dataframe thead th {\n",
       "        text-align: right;\n",
       "    }\n",
       "</style>\n",
       "<table border=\"1\" class=\"dataframe\">\n",
       "  <thead>\n",
       "    <tr style=\"text-align: right;\">\n",
       "      <th></th>\n",
       "      <th>customerID</th>\n",
       "      <th>BeginDate</th>\n",
       "      <th>EndDate</th>\n",
       "      <th>Type</th>\n",
       "      <th>PaperlessBilling</th>\n",
       "      <th>PaymentMethod</th>\n",
       "      <th>MonthlyCharges</th>\n",
       "      <th>TotalCharges</th>\n",
       "      <th>gender</th>\n",
       "      <th>SeniorCitizen</th>\n",
       "      <th>Partner</th>\n",
       "      <th>Dependents</th>\n",
       "      <th>InternetService</th>\n",
       "      <th>OnlineSecurity</th>\n",
       "      <th>OnlineBackup</th>\n",
       "      <th>DeviceProtection</th>\n",
       "      <th>TechSupport</th>\n",
       "      <th>StreamingTV</th>\n",
       "      <th>StreamingMovies</th>\n",
       "      <th>MultipleLines</th>\n",
       "    </tr>\n",
       "  </thead>\n",
       "  <tbody>\n",
       "    <tr>\n",
       "      <th>count</th>\n",
       "      <td>7043</td>\n",
       "      <td>7043</td>\n",
       "      <td>7043</td>\n",
       "      <td>7043</td>\n",
       "      <td>7043</td>\n",
       "      <td>7043</td>\n",
       "      <td>7043.000000</td>\n",
       "      <td>7043</td>\n",
       "      <td>7043</td>\n",
       "      <td>7043.000000</td>\n",
       "      <td>7043</td>\n",
       "      <td>7043</td>\n",
       "      <td>5517</td>\n",
       "      <td>5517</td>\n",
       "      <td>5517</td>\n",
       "      <td>5517</td>\n",
       "      <td>5517</td>\n",
       "      <td>5517</td>\n",
       "      <td>5517</td>\n",
       "      <td>6361</td>\n",
       "    </tr>\n",
       "    <tr>\n",
       "      <th>unique</th>\n",
       "      <td>7043</td>\n",
       "      <td>77</td>\n",
       "      <td>67</td>\n",
       "      <td>3</td>\n",
       "      <td>2</td>\n",
       "      <td>4</td>\n",
       "      <td>NaN</td>\n",
       "      <td>6658</td>\n",
       "      <td>2</td>\n",
       "      <td>NaN</td>\n",
       "      <td>2</td>\n",
       "      <td>2</td>\n",
       "      <td>2</td>\n",
       "      <td>2</td>\n",
       "      <td>2</td>\n",
       "      <td>2</td>\n",
       "      <td>2</td>\n",
       "      <td>2</td>\n",
       "      <td>2</td>\n",
       "      <td>2</td>\n",
       "    </tr>\n",
       "    <tr>\n",
       "      <th>top</th>\n",
       "      <td>5013-SBUIH</td>\n",
       "      <td>2014-02-01</td>\n",
       "      <td>No</td>\n",
       "      <td>Month-to-month</td>\n",
       "      <td>Yes</td>\n",
       "      <td>Electronic check</td>\n",
       "      <td>NaN</td>\n",
       "      <td></td>\n",
       "      <td>Male</td>\n",
       "      <td>NaN</td>\n",
       "      <td>No</td>\n",
       "      <td>No</td>\n",
       "      <td>Fiber optic</td>\n",
       "      <td>No</td>\n",
       "      <td>No</td>\n",
       "      <td>No</td>\n",
       "      <td>No</td>\n",
       "      <td>No</td>\n",
       "      <td>No</td>\n",
       "      <td>No</td>\n",
       "    </tr>\n",
       "    <tr>\n",
       "      <th>freq</th>\n",
       "      <td>1</td>\n",
       "      <td>366</td>\n",
       "      <td>5942</td>\n",
       "      <td>3875</td>\n",
       "      <td>4171</td>\n",
       "      <td>2365</td>\n",
       "      <td>NaN</td>\n",
       "      <td>11</td>\n",
       "      <td>3555</td>\n",
       "      <td>NaN</td>\n",
       "      <td>3641</td>\n",
       "      <td>4933</td>\n",
       "      <td>3096</td>\n",
       "      <td>3498</td>\n",
       "      <td>3088</td>\n",
       "      <td>3095</td>\n",
       "      <td>3473</td>\n",
       "      <td>2810</td>\n",
       "      <td>2785</td>\n",
       "      <td>3390</td>\n",
       "    </tr>\n",
       "    <tr>\n",
       "      <th>mean</th>\n",
       "      <td>NaN</td>\n",
       "      <td>NaN</td>\n",
       "      <td>NaN</td>\n",
       "      <td>NaN</td>\n",
       "      <td>NaN</td>\n",
       "      <td>NaN</td>\n",
       "      <td>64.761692</td>\n",
       "      <td>NaN</td>\n",
       "      <td>NaN</td>\n",
       "      <td>0.162147</td>\n",
       "      <td>NaN</td>\n",
       "      <td>NaN</td>\n",
       "      <td>NaN</td>\n",
       "      <td>NaN</td>\n",
       "      <td>NaN</td>\n",
       "      <td>NaN</td>\n",
       "      <td>NaN</td>\n",
       "      <td>NaN</td>\n",
       "      <td>NaN</td>\n",
       "      <td>NaN</td>\n",
       "    </tr>\n",
       "    <tr>\n",
       "      <th>std</th>\n",
       "      <td>NaN</td>\n",
       "      <td>NaN</td>\n",
       "      <td>NaN</td>\n",
       "      <td>NaN</td>\n",
       "      <td>NaN</td>\n",
       "      <td>NaN</td>\n",
       "      <td>30.090047</td>\n",
       "      <td>NaN</td>\n",
       "      <td>NaN</td>\n",
       "      <td>0.368612</td>\n",
       "      <td>NaN</td>\n",
       "      <td>NaN</td>\n",
       "      <td>NaN</td>\n",
       "      <td>NaN</td>\n",
       "      <td>NaN</td>\n",
       "      <td>NaN</td>\n",
       "      <td>NaN</td>\n",
       "      <td>NaN</td>\n",
       "      <td>NaN</td>\n",
       "      <td>NaN</td>\n",
       "    </tr>\n",
       "    <tr>\n",
       "      <th>min</th>\n",
       "      <td>NaN</td>\n",
       "      <td>NaN</td>\n",
       "      <td>NaN</td>\n",
       "      <td>NaN</td>\n",
       "      <td>NaN</td>\n",
       "      <td>NaN</td>\n",
       "      <td>18.250000</td>\n",
       "      <td>NaN</td>\n",
       "      <td>NaN</td>\n",
       "      <td>0.000000</td>\n",
       "      <td>NaN</td>\n",
       "      <td>NaN</td>\n",
       "      <td>NaN</td>\n",
       "      <td>NaN</td>\n",
       "      <td>NaN</td>\n",
       "      <td>NaN</td>\n",
       "      <td>NaN</td>\n",
       "      <td>NaN</td>\n",
       "      <td>NaN</td>\n",
       "      <td>NaN</td>\n",
       "    </tr>\n",
       "    <tr>\n",
       "      <th>25%</th>\n",
       "      <td>NaN</td>\n",
       "      <td>NaN</td>\n",
       "      <td>NaN</td>\n",
       "      <td>NaN</td>\n",
       "      <td>NaN</td>\n",
       "      <td>NaN</td>\n",
       "      <td>35.500000</td>\n",
       "      <td>NaN</td>\n",
       "      <td>NaN</td>\n",
       "      <td>0.000000</td>\n",
       "      <td>NaN</td>\n",
       "      <td>NaN</td>\n",
       "      <td>NaN</td>\n",
       "      <td>NaN</td>\n",
       "      <td>NaN</td>\n",
       "      <td>NaN</td>\n",
       "      <td>NaN</td>\n",
       "      <td>NaN</td>\n",
       "      <td>NaN</td>\n",
       "      <td>NaN</td>\n",
       "    </tr>\n",
       "    <tr>\n",
       "      <th>50%</th>\n",
       "      <td>NaN</td>\n",
       "      <td>NaN</td>\n",
       "      <td>NaN</td>\n",
       "      <td>NaN</td>\n",
       "      <td>NaN</td>\n",
       "      <td>NaN</td>\n",
       "      <td>70.350000</td>\n",
       "      <td>NaN</td>\n",
       "      <td>NaN</td>\n",
       "      <td>0.000000</td>\n",
       "      <td>NaN</td>\n",
       "      <td>NaN</td>\n",
       "      <td>NaN</td>\n",
       "      <td>NaN</td>\n",
       "      <td>NaN</td>\n",
       "      <td>NaN</td>\n",
       "      <td>NaN</td>\n",
       "      <td>NaN</td>\n",
       "      <td>NaN</td>\n",
       "      <td>NaN</td>\n",
       "    </tr>\n",
       "    <tr>\n",
       "      <th>75%</th>\n",
       "      <td>NaN</td>\n",
       "      <td>NaN</td>\n",
       "      <td>NaN</td>\n",
       "      <td>NaN</td>\n",
       "      <td>NaN</td>\n",
       "      <td>NaN</td>\n",
       "      <td>89.850000</td>\n",
       "      <td>NaN</td>\n",
       "      <td>NaN</td>\n",
       "      <td>0.000000</td>\n",
       "      <td>NaN</td>\n",
       "      <td>NaN</td>\n",
       "      <td>NaN</td>\n",
       "      <td>NaN</td>\n",
       "      <td>NaN</td>\n",
       "      <td>NaN</td>\n",
       "      <td>NaN</td>\n",
       "      <td>NaN</td>\n",
       "      <td>NaN</td>\n",
       "      <td>NaN</td>\n",
       "    </tr>\n",
       "    <tr>\n",
       "      <th>max</th>\n",
       "      <td>NaN</td>\n",
       "      <td>NaN</td>\n",
       "      <td>NaN</td>\n",
       "      <td>NaN</td>\n",
       "      <td>NaN</td>\n",
       "      <td>NaN</td>\n",
       "      <td>118.750000</td>\n",
       "      <td>NaN</td>\n",
       "      <td>NaN</td>\n",
       "      <td>1.000000</td>\n",
       "      <td>NaN</td>\n",
       "      <td>NaN</td>\n",
       "      <td>NaN</td>\n",
       "      <td>NaN</td>\n",
       "      <td>NaN</td>\n",
       "      <td>NaN</td>\n",
       "      <td>NaN</td>\n",
       "      <td>NaN</td>\n",
       "      <td>NaN</td>\n",
       "      <td>NaN</td>\n",
       "    </tr>\n",
       "  </tbody>\n",
       "</table>\n",
       "</div>"
      ],
      "text/plain": [
       "        customerID   BeginDate EndDate            Type PaperlessBilling  \\\n",
       "count         7043        7043    7043            7043             7043   \n",
       "unique        7043          77      67               3                2   \n",
       "top     5013-SBUIH  2014-02-01      No  Month-to-month              Yes   \n",
       "freq             1         366    5942            3875             4171   \n",
       "mean           NaN         NaN     NaN             NaN              NaN   \n",
       "std            NaN         NaN     NaN             NaN              NaN   \n",
       "min            NaN         NaN     NaN             NaN              NaN   \n",
       "25%            NaN         NaN     NaN             NaN              NaN   \n",
       "50%            NaN         NaN     NaN             NaN              NaN   \n",
       "75%            NaN         NaN     NaN             NaN              NaN   \n",
       "max            NaN         NaN     NaN             NaN              NaN   \n",
       "\n",
       "           PaymentMethod  MonthlyCharges TotalCharges gender  SeniorCitizen  \\\n",
       "count               7043     7043.000000         7043   7043    7043.000000   \n",
       "unique                 4             NaN         6658      2            NaN   \n",
       "top     Electronic check             NaN                Male            NaN   \n",
       "freq                2365             NaN           11   3555            NaN   \n",
       "mean                 NaN       64.761692          NaN    NaN       0.162147   \n",
       "std                  NaN       30.090047          NaN    NaN       0.368612   \n",
       "min                  NaN       18.250000          NaN    NaN       0.000000   \n",
       "25%                  NaN       35.500000          NaN    NaN       0.000000   \n",
       "50%                  NaN       70.350000          NaN    NaN       0.000000   \n",
       "75%                  NaN       89.850000          NaN    NaN       0.000000   \n",
       "max                  NaN      118.750000          NaN    NaN       1.000000   \n",
       "\n",
       "       Partner Dependents InternetService OnlineSecurity OnlineBackup  \\\n",
       "count     7043       7043            5517           5517         5517   \n",
       "unique       2          2               2              2            2   \n",
       "top         No         No     Fiber optic             No           No   \n",
       "freq      3641       4933            3096           3498         3088   \n",
       "mean       NaN        NaN             NaN            NaN          NaN   \n",
       "std        NaN        NaN             NaN            NaN          NaN   \n",
       "min        NaN        NaN             NaN            NaN          NaN   \n",
       "25%        NaN        NaN             NaN            NaN          NaN   \n",
       "50%        NaN        NaN             NaN            NaN          NaN   \n",
       "75%        NaN        NaN             NaN            NaN          NaN   \n",
       "max        NaN        NaN             NaN            NaN          NaN   \n",
       "\n",
       "       DeviceProtection TechSupport StreamingTV StreamingMovies MultipleLines  \n",
       "count              5517        5517        5517            5517          6361  \n",
       "unique                2           2           2               2             2  \n",
       "top                  No          No          No              No            No  \n",
       "freq               3095        3473        2810            2785          3390  \n",
       "mean                NaN         NaN         NaN             NaN           NaN  \n",
       "std                 NaN         NaN         NaN             NaN           NaN  \n",
       "min                 NaN         NaN         NaN             NaN           NaN  \n",
       "25%                 NaN         NaN         NaN             NaN           NaN  \n",
       "50%                 NaN         NaN         NaN             NaN           NaN  \n",
       "75%                 NaN         NaN         NaN             NaN           NaN  \n",
       "max                 NaN         NaN         NaN             NaN           NaN  "
      ]
     },
     "metadata": {},
     "output_type": "display_data"
    }
   ],
   "source": [
    "#Получаю информацию об этом датасете\n",
    "get_data_info(df)"
   ]
  },
  {
   "cell_type": "markdown",
   "metadata": {},
   "source": [
    "Мысли по поводу пропусков: Я считаю, что они появились из-за того, что существуют пользователи, которым нужен только интернет, или только телефон, и поэтому их нету в соответвующих датасетах.\n",
    "\n",
    "Основываясь на этом, я считаю, что эти пропуски необходимо заполнить значением 'No' тк. я уверен, в том, что если человека нет в отдельном датасете, то он точно не пользуется услугами интернета/телефоной связи"
   ]
  },
  {
   "cell_type": "markdown",
   "metadata": {},
   "source": [
    "Также я считаю, что customerID и BeginDate не имеют ценности для моделирования, поэтому их стоит удалить"
   ]
  },
  {
   "cell_type": "code",
   "execution_count": 13,
   "metadata": {},
   "outputs": [],
   "source": [
    "#Заполняю пропуски\n",
    "df = df.fillna('No')"
   ]
  },
  {
   "cell_type": "code",
   "execution_count": 14,
   "metadata": {},
   "outputs": [
    {
     "name": "stdout",
     "output_type": "stream",
     "text": [
      "7043\n"
     ]
    }
   ],
   "source": [
    "#Проверяю уникольность ID\n",
    "print(df['customerID'].nunique())"
   ]
  },
  {
   "cell_type": "code",
   "execution_count": 15,
   "metadata": {},
   "outputs": [
    {
     "name": "stdout",
     "output_type": "stream",
     "text": [
      "2020-02-01\n"
     ]
    }
   ],
   "source": [
    "#Ищу самую позднюю дату в базе\n",
    "print(df['BeginDate'].max())"
   ]
  },
  {
   "cell_type": "code",
   "execution_count": 16,
   "metadata": {
    "scrolled": true
   },
   "outputs": [
    {
     "name": "stdout",
     "output_type": "stream",
     "text": [
      "7003      572.0\n",
      "7004     2472.6\n",
      "7005     433.67\n",
      "7006     3344.0\n",
      "7007    4861.22\n",
      "7008     375.25\n",
      "7009    2252.61\n",
      "7010     245.69\n",
      "7011      483.2\n",
      "7012     3737.8\n",
      "7013     3736.0\n",
      "7014    3803.49\n",
      "7015     2896.8\n",
      "7016      53.95\n",
      "7017    1053.15\n",
      "7018     308.03\n",
      "7019     785.85\n",
      "7020     246.53\n",
      "7021     905.97\n",
      "7022    8085.35\n",
      "7023    7042.14\n",
      "7024    3768.51\n",
      "7025    1728.01\n",
      "7026     578.14\n",
      "7027     1048.9\n",
      "7028    4794.68\n",
      "7029      266.4\n",
      "7030       40.1\n",
      "7031     3300.0\n",
      "7032      303.0\n",
      "7033    2693.82\n",
      "7034     2059.0\n",
      "7035    1585.02\n",
      "7036      727.8\n",
      "7037    1553.26\n",
      "7038     2035.2\n",
      "7039     7430.4\n",
      "7040      325.6\n",
      "7041      520.8\n",
      "7042    7251.82\n",
      "Name: TotalCharges, dtype: object\n"
     ]
    }
   ],
   "source": [
    "#Исследую total charges\n",
    "print(df['TotalCharges'].tail(40))\n",
    "\n",
    "#Попытка конвертации выдаёт ошибку, из-за наличия пробелов. Ищу их, и исправляю проблемные строки\n",
    "df[df['TotalCharges']==' ']\n",
    "#Пробелы появились из-за того, что в базе присутсвуют новые клиенты с которых ещё не разу не списывали плату за услуги.\n",
    "#Я заменю эти пробелы нулями\n",
    "df['TotalCharges'] = df['TotalCharges'].replace(' ','0')\n",
    "df['TotalCharges'] = pd.to_numeric(df['TotalCharges'])"
   ]
  },
  {
   "cell_type": "code",
   "execution_count": 17,
   "metadata": {},
   "outputs": [],
   "source": [
    "begin_date_old = df['BeginDate'].copy()\n",
    "end_date_old = df['EndDate'].copy()\n",
    "df['EndDate'] = df['EndDate'].replace('No','2020-02-01')\n",
    "df['BeginDate'] = pd.to_datetime(df['BeginDate'], format='%Y-%m-%d')\n",
    "df['EndDate'] = pd.to_datetime(df['EndDate'], format='%Y-%m-%d')\n",
    "df['ContractDuration'] = df['EndDate'] - df['BeginDate']\n",
    "df['ContractDuration'] = pd.to_numeric(df['ContractDuration']) / 86400000000000"
   ]
  },
  {
   "cell_type": "code",
   "execution_count": 18,
   "metadata": {},
   "outputs": [
    {
     "data": {
      "text/html": [
       "<div>\n",
       "<style scoped>\n",
       "    .dataframe tbody tr th:only-of-type {\n",
       "        vertical-align: middle;\n",
       "    }\n",
       "\n",
       "    .dataframe tbody tr th {\n",
       "        vertical-align: top;\n",
       "    }\n",
       "\n",
       "    .dataframe thead th {\n",
       "        text-align: right;\n",
       "    }\n",
       "</style>\n",
       "<table border=\"1\" class=\"dataframe\">\n",
       "  <thead>\n",
       "    <tr style=\"text-align: right;\">\n",
       "      <th></th>\n",
       "      <th>customerID</th>\n",
       "      <th>BeginDate</th>\n",
       "      <th>EndDate</th>\n",
       "      <th>Type</th>\n",
       "      <th>PaperlessBilling</th>\n",
       "      <th>PaymentMethod</th>\n",
       "      <th>MonthlyCharges</th>\n",
       "      <th>TotalCharges</th>\n",
       "      <th>gender</th>\n",
       "      <th>SeniorCitizen</th>\n",
       "      <th>...</th>\n",
       "      <th>Dependents</th>\n",
       "      <th>InternetService</th>\n",
       "      <th>OnlineSecurity</th>\n",
       "      <th>OnlineBackup</th>\n",
       "      <th>DeviceProtection</th>\n",
       "      <th>TechSupport</th>\n",
       "      <th>StreamingTV</th>\n",
       "      <th>StreamingMovies</th>\n",
       "      <th>MultipleLines</th>\n",
       "      <th>ContractDuration</th>\n",
       "    </tr>\n",
       "  </thead>\n",
       "  <tbody>\n",
       "    <tr>\n",
       "      <th>0</th>\n",
       "      <td>7590-VHVEG</td>\n",
       "      <td>2020-01-01</td>\n",
       "      <td>2020-02-01</td>\n",
       "      <td>Month-to-month</td>\n",
       "      <td>Yes</td>\n",
       "      <td>Electronic check</td>\n",
       "      <td>29.85</td>\n",
       "      <td>31.04</td>\n",
       "      <td>Female</td>\n",
       "      <td>0</td>\n",
       "      <td>...</td>\n",
       "      <td>No</td>\n",
       "      <td>DSL</td>\n",
       "      <td>No</td>\n",
       "      <td>Yes</td>\n",
       "      <td>No</td>\n",
       "      <td>No</td>\n",
       "      <td>No</td>\n",
       "      <td>No</td>\n",
       "      <td>No</td>\n",
       "      <td>31.0</td>\n",
       "    </tr>\n",
       "    <tr>\n",
       "      <th>1</th>\n",
       "      <td>5575-GNVDE</td>\n",
       "      <td>2017-04-01</td>\n",
       "      <td>2020-02-01</td>\n",
       "      <td>One year</td>\n",
       "      <td>No</td>\n",
       "      <td>Mailed check</td>\n",
       "      <td>56.95</td>\n",
       "      <td>2071.84</td>\n",
       "      <td>Male</td>\n",
       "      <td>0</td>\n",
       "      <td>...</td>\n",
       "      <td>No</td>\n",
       "      <td>DSL</td>\n",
       "      <td>Yes</td>\n",
       "      <td>No</td>\n",
       "      <td>Yes</td>\n",
       "      <td>No</td>\n",
       "      <td>No</td>\n",
       "      <td>No</td>\n",
       "      <td>No</td>\n",
       "      <td>1036.0</td>\n",
       "    </tr>\n",
       "    <tr>\n",
       "      <th>2</th>\n",
       "      <td>3668-QPYBK</td>\n",
       "      <td>2019-10-01</td>\n",
       "      <td>2020-02-01</td>\n",
       "      <td>Month-to-month</td>\n",
       "      <td>Yes</td>\n",
       "      <td>Mailed check</td>\n",
       "      <td>53.85</td>\n",
       "      <td>226.17</td>\n",
       "      <td>Male</td>\n",
       "      <td>0</td>\n",
       "      <td>...</td>\n",
       "      <td>No</td>\n",
       "      <td>DSL</td>\n",
       "      <td>Yes</td>\n",
       "      <td>Yes</td>\n",
       "      <td>No</td>\n",
       "      <td>No</td>\n",
       "      <td>No</td>\n",
       "      <td>No</td>\n",
       "      <td>No</td>\n",
       "      <td>123.0</td>\n",
       "    </tr>\n",
       "    <tr>\n",
       "      <th>3</th>\n",
       "      <td>7795-CFOCW</td>\n",
       "      <td>2016-05-01</td>\n",
       "      <td>2020-02-01</td>\n",
       "      <td>One year</td>\n",
       "      <td>No</td>\n",
       "      <td>Bank transfer (automatic)</td>\n",
       "      <td>42.30</td>\n",
       "      <td>1960.60</td>\n",
       "      <td>Male</td>\n",
       "      <td>0</td>\n",
       "      <td>...</td>\n",
       "      <td>No</td>\n",
       "      <td>DSL</td>\n",
       "      <td>Yes</td>\n",
       "      <td>No</td>\n",
       "      <td>Yes</td>\n",
       "      <td>Yes</td>\n",
       "      <td>No</td>\n",
       "      <td>No</td>\n",
       "      <td>No</td>\n",
       "      <td>1371.0</td>\n",
       "    </tr>\n",
       "    <tr>\n",
       "      <th>4</th>\n",
       "      <td>9237-HQITU</td>\n",
       "      <td>2019-09-01</td>\n",
       "      <td>2020-02-01</td>\n",
       "      <td>Month-to-month</td>\n",
       "      <td>Yes</td>\n",
       "      <td>Electronic check</td>\n",
       "      <td>70.70</td>\n",
       "      <td>353.50</td>\n",
       "      <td>Female</td>\n",
       "      <td>0</td>\n",
       "      <td>...</td>\n",
       "      <td>No</td>\n",
       "      <td>Fiber optic</td>\n",
       "      <td>No</td>\n",
       "      <td>No</td>\n",
       "      <td>No</td>\n",
       "      <td>No</td>\n",
       "      <td>No</td>\n",
       "      <td>No</td>\n",
       "      <td>No</td>\n",
       "      <td>153.0</td>\n",
       "    </tr>\n",
       "    <tr>\n",
       "      <th>5</th>\n",
       "      <td>9305-CDSKC</td>\n",
       "      <td>2019-03-01</td>\n",
       "      <td>2020-02-01</td>\n",
       "      <td>Month-to-month</td>\n",
       "      <td>Yes</td>\n",
       "      <td>Electronic check</td>\n",
       "      <td>99.65</td>\n",
       "      <td>1150.96</td>\n",
       "      <td>Female</td>\n",
       "      <td>0</td>\n",
       "      <td>...</td>\n",
       "      <td>No</td>\n",
       "      <td>Fiber optic</td>\n",
       "      <td>No</td>\n",
       "      <td>No</td>\n",
       "      <td>Yes</td>\n",
       "      <td>No</td>\n",
       "      <td>Yes</td>\n",
       "      <td>Yes</td>\n",
       "      <td>Yes</td>\n",
       "      <td>337.0</td>\n",
       "    </tr>\n",
       "    <tr>\n",
       "      <th>6</th>\n",
       "      <td>1452-KIOVK</td>\n",
       "      <td>2018-04-01</td>\n",
       "      <td>2020-02-01</td>\n",
       "      <td>Month-to-month</td>\n",
       "      <td>Yes</td>\n",
       "      <td>Credit card (automatic)</td>\n",
       "      <td>89.10</td>\n",
       "      <td>2058.21</td>\n",
       "      <td>Male</td>\n",
       "      <td>0</td>\n",
       "      <td>...</td>\n",
       "      <td>Yes</td>\n",
       "      <td>Fiber optic</td>\n",
       "      <td>No</td>\n",
       "      <td>Yes</td>\n",
       "      <td>No</td>\n",
       "      <td>No</td>\n",
       "      <td>Yes</td>\n",
       "      <td>No</td>\n",
       "      <td>Yes</td>\n",
       "      <td>671.0</td>\n",
       "    </tr>\n",
       "    <tr>\n",
       "      <th>7</th>\n",
       "      <td>6713-OKOMC</td>\n",
       "      <td>2019-04-01</td>\n",
       "      <td>2020-02-01</td>\n",
       "      <td>Month-to-month</td>\n",
       "      <td>No</td>\n",
       "      <td>Mailed check</td>\n",
       "      <td>29.75</td>\n",
       "      <td>300.48</td>\n",
       "      <td>Female</td>\n",
       "      <td>0</td>\n",
       "      <td>...</td>\n",
       "      <td>No</td>\n",
       "      <td>DSL</td>\n",
       "      <td>Yes</td>\n",
       "      <td>No</td>\n",
       "      <td>No</td>\n",
       "      <td>No</td>\n",
       "      <td>No</td>\n",
       "      <td>No</td>\n",
       "      <td>No</td>\n",
       "      <td>306.0</td>\n",
       "    </tr>\n",
       "    <tr>\n",
       "      <th>8</th>\n",
       "      <td>7892-POOKP</td>\n",
       "      <td>2017-07-01</td>\n",
       "      <td>2020-02-01</td>\n",
       "      <td>Month-to-month</td>\n",
       "      <td>Yes</td>\n",
       "      <td>Electronic check</td>\n",
       "      <td>104.80</td>\n",
       "      <td>3573.68</td>\n",
       "      <td>Female</td>\n",
       "      <td>0</td>\n",
       "      <td>...</td>\n",
       "      <td>No</td>\n",
       "      <td>Fiber optic</td>\n",
       "      <td>No</td>\n",
       "      <td>No</td>\n",
       "      <td>Yes</td>\n",
       "      <td>Yes</td>\n",
       "      <td>Yes</td>\n",
       "      <td>Yes</td>\n",
       "      <td>Yes</td>\n",
       "      <td>945.0</td>\n",
       "    </tr>\n",
       "    <tr>\n",
       "      <th>9</th>\n",
       "      <td>6388-TABGU</td>\n",
       "      <td>2014-12-01</td>\n",
       "      <td>2017-05-01</td>\n",
       "      <td>One year</td>\n",
       "      <td>No</td>\n",
       "      <td>Bank transfer (automatic)</td>\n",
       "      <td>56.15</td>\n",
       "      <td>1628.35</td>\n",
       "      <td>Male</td>\n",
       "      <td>0</td>\n",
       "      <td>...</td>\n",
       "      <td>Yes</td>\n",
       "      <td>DSL</td>\n",
       "      <td>Yes</td>\n",
       "      <td>Yes</td>\n",
       "      <td>No</td>\n",
       "      <td>No</td>\n",
       "      <td>No</td>\n",
       "      <td>No</td>\n",
       "      <td>No</td>\n",
       "      <td>882.0</td>\n",
       "    </tr>\n",
       "    <tr>\n",
       "      <th>10</th>\n",
       "      <td>9763-GRSKD</td>\n",
       "      <td>2019-01-01</td>\n",
       "      <td>2020-02-01</td>\n",
       "      <td>Month-to-month</td>\n",
       "      <td>Yes</td>\n",
       "      <td>Mailed check</td>\n",
       "      <td>49.95</td>\n",
       "      <td>649.35</td>\n",
       "      <td>Male</td>\n",
       "      <td>0</td>\n",
       "      <td>...</td>\n",
       "      <td>Yes</td>\n",
       "      <td>DSL</td>\n",
       "      <td>Yes</td>\n",
       "      <td>No</td>\n",
       "      <td>No</td>\n",
       "      <td>No</td>\n",
       "      <td>No</td>\n",
       "      <td>No</td>\n",
       "      <td>No</td>\n",
       "      <td>396.0</td>\n",
       "    </tr>\n",
       "    <tr>\n",
       "      <th>11</th>\n",
       "      <td>7469-LKBCI</td>\n",
       "      <td>2018-10-01</td>\n",
       "      <td>2020-02-01</td>\n",
       "      <td>Two year</td>\n",
       "      <td>No</td>\n",
       "      <td>Credit card (automatic)</td>\n",
       "      <td>18.95</td>\n",
       "      <td>312.30</td>\n",
       "      <td>Male</td>\n",
       "      <td>0</td>\n",
       "      <td>...</td>\n",
       "      <td>No</td>\n",
       "      <td>No</td>\n",
       "      <td>No</td>\n",
       "      <td>No</td>\n",
       "      <td>No</td>\n",
       "      <td>No</td>\n",
       "      <td>No</td>\n",
       "      <td>No</td>\n",
       "      <td>No</td>\n",
       "      <td>488.0</td>\n",
       "    </tr>\n",
       "    <tr>\n",
       "      <th>12</th>\n",
       "      <td>8091-TTVAX</td>\n",
       "      <td>2015-04-01</td>\n",
       "      <td>2020-02-01</td>\n",
       "      <td>One year</td>\n",
       "      <td>No</td>\n",
       "      <td>Credit card (automatic)</td>\n",
       "      <td>100.35</td>\n",
       "      <td>6111.31</td>\n",
       "      <td>Male</td>\n",
       "      <td>0</td>\n",
       "      <td>...</td>\n",
       "      <td>No</td>\n",
       "      <td>Fiber optic</td>\n",
       "      <td>No</td>\n",
       "      <td>No</td>\n",
       "      <td>Yes</td>\n",
       "      <td>No</td>\n",
       "      <td>Yes</td>\n",
       "      <td>Yes</td>\n",
       "      <td>Yes</td>\n",
       "      <td>1767.0</td>\n",
       "    </tr>\n",
       "    <tr>\n",
       "      <th>13</th>\n",
       "      <td>0280-XJGEX</td>\n",
       "      <td>2015-09-01</td>\n",
       "      <td>2020-02-01</td>\n",
       "      <td>Month-to-month</td>\n",
       "      <td>Yes</td>\n",
       "      <td>Bank transfer (automatic)</td>\n",
       "      <td>103.70</td>\n",
       "      <td>5496.10</td>\n",
       "      <td>Male</td>\n",
       "      <td>0</td>\n",
       "      <td>...</td>\n",
       "      <td>No</td>\n",
       "      <td>Fiber optic</td>\n",
       "      <td>No</td>\n",
       "      <td>Yes</td>\n",
       "      <td>Yes</td>\n",
       "      <td>No</td>\n",
       "      <td>Yes</td>\n",
       "      <td>Yes</td>\n",
       "      <td>Yes</td>\n",
       "      <td>1614.0</td>\n",
       "    </tr>\n",
       "    <tr>\n",
       "      <th>14</th>\n",
       "      <td>5129-JLPIS</td>\n",
       "      <td>2018-01-01</td>\n",
       "      <td>2020-02-01</td>\n",
       "      <td>Month-to-month</td>\n",
       "      <td>Yes</td>\n",
       "      <td>Electronic check</td>\n",
       "      <td>105.50</td>\n",
       "      <td>2637.50</td>\n",
       "      <td>Male</td>\n",
       "      <td>0</td>\n",
       "      <td>...</td>\n",
       "      <td>No</td>\n",
       "      <td>Fiber optic</td>\n",
       "      <td>Yes</td>\n",
       "      <td>No</td>\n",
       "      <td>Yes</td>\n",
       "      <td>Yes</td>\n",
       "      <td>Yes</td>\n",
       "      <td>Yes</td>\n",
       "      <td>No</td>\n",
       "      <td>761.0</td>\n",
       "    </tr>\n",
       "    <tr>\n",
       "      <th>15</th>\n",
       "      <td>3655-SNQYZ</td>\n",
       "      <td>2014-05-01</td>\n",
       "      <td>2016-03-01</td>\n",
       "      <td>Two year</td>\n",
       "      <td>No</td>\n",
       "      <td>Credit card (automatic)</td>\n",
       "      <td>113.25</td>\n",
       "      <td>2491.50</td>\n",
       "      <td>Female</td>\n",
       "      <td>0</td>\n",
       "      <td>...</td>\n",
       "      <td>Yes</td>\n",
       "      <td>Fiber optic</td>\n",
       "      <td>Yes</td>\n",
       "      <td>Yes</td>\n",
       "      <td>Yes</td>\n",
       "      <td>Yes</td>\n",
       "      <td>Yes</td>\n",
       "      <td>Yes</td>\n",
       "      <td>Yes</td>\n",
       "      <td>670.0</td>\n",
       "    </tr>\n",
       "    <tr>\n",
       "      <th>16</th>\n",
       "      <td>8191-XWSZG</td>\n",
       "      <td>2015-10-01</td>\n",
       "      <td>2020-02-01</td>\n",
       "      <td>One year</td>\n",
       "      <td>No</td>\n",
       "      <td>Mailed check</td>\n",
       "      <td>20.65</td>\n",
       "      <td>1106.01</td>\n",
       "      <td>Female</td>\n",
       "      <td>0</td>\n",
       "      <td>...</td>\n",
       "      <td>No</td>\n",
       "      <td>No</td>\n",
       "      <td>No</td>\n",
       "      <td>No</td>\n",
       "      <td>No</td>\n",
       "      <td>No</td>\n",
       "      <td>No</td>\n",
       "      <td>No</td>\n",
       "      <td>No</td>\n",
       "      <td>1584.0</td>\n",
       "    </tr>\n",
       "    <tr>\n",
       "      <th>17</th>\n",
       "      <td>9959-WOFKT</td>\n",
       "      <td>2014-03-01</td>\n",
       "      <td>2020-02-01</td>\n",
       "      <td>Two year</td>\n",
       "      <td>No</td>\n",
       "      <td>Bank transfer (automatic)</td>\n",
       "      <td>106.70</td>\n",
       "      <td>8257.51</td>\n",
       "      <td>Male</td>\n",
       "      <td>0</td>\n",
       "      <td>...</td>\n",
       "      <td>Yes</td>\n",
       "      <td>Fiber optic</td>\n",
       "      <td>Yes</td>\n",
       "      <td>No</td>\n",
       "      <td>Yes</td>\n",
       "      <td>No</td>\n",
       "      <td>Yes</td>\n",
       "      <td>Yes</td>\n",
       "      <td>Yes</td>\n",
       "      <td>2163.0</td>\n",
       "    </tr>\n",
       "    <tr>\n",
       "      <th>18</th>\n",
       "      <td>4190-MFLUW</td>\n",
       "      <td>2019-01-01</td>\n",
       "      <td>2020-02-01</td>\n",
       "      <td>Month-to-month</td>\n",
       "      <td>No</td>\n",
       "      <td>Credit card (automatic)</td>\n",
       "      <td>55.20</td>\n",
       "      <td>789.36</td>\n",
       "      <td>Female</td>\n",
       "      <td>0</td>\n",
       "      <td>...</td>\n",
       "      <td>Yes</td>\n",
       "      <td>DSL</td>\n",
       "      <td>No</td>\n",
       "      <td>No</td>\n",
       "      <td>Yes</td>\n",
       "      <td>Yes</td>\n",
       "      <td>No</td>\n",
       "      <td>No</td>\n",
       "      <td>No</td>\n",
       "      <td>396.0</td>\n",
       "    </tr>\n",
       "    <tr>\n",
       "      <th>19</th>\n",
       "      <td>4183-MYFRB</td>\n",
       "      <td>2018-05-01</td>\n",
       "      <td>2020-02-01</td>\n",
       "      <td>Month-to-month</td>\n",
       "      <td>Yes</td>\n",
       "      <td>Electronic check</td>\n",
       "      <td>90.05</td>\n",
       "      <td>1891.05</td>\n",
       "      <td>Female</td>\n",
       "      <td>0</td>\n",
       "      <td>...</td>\n",
       "      <td>No</td>\n",
       "      <td>Fiber optic</td>\n",
       "      <td>No</td>\n",
       "      <td>Yes</td>\n",
       "      <td>Yes</td>\n",
       "      <td>No</td>\n",
       "      <td>No</td>\n",
       "      <td>Yes</td>\n",
       "      <td>No</td>\n",
       "      <td>641.0</td>\n",
       "    </tr>\n",
       "    <tr>\n",
       "      <th>20</th>\n",
       "      <td>8779-QRDMV</td>\n",
       "      <td>2019-11-01</td>\n",
       "      <td>2020-02-01</td>\n",
       "      <td>Month-to-month</td>\n",
       "      <td>Yes</td>\n",
       "      <td>Electronic check</td>\n",
       "      <td>39.65</td>\n",
       "      <td>118.95</td>\n",
       "      <td>Male</td>\n",
       "      <td>1</td>\n",
       "      <td>...</td>\n",
       "      <td>No</td>\n",
       "      <td>DSL</td>\n",
       "      <td>No</td>\n",
       "      <td>No</td>\n",
       "      <td>Yes</td>\n",
       "      <td>No</td>\n",
       "      <td>No</td>\n",
       "      <td>Yes</td>\n",
       "      <td>No</td>\n",
       "      <td>92.0</td>\n",
       "    </tr>\n",
       "    <tr>\n",
       "      <th>21</th>\n",
       "      <td>1680-VDCWW</td>\n",
       "      <td>2019-02-01</td>\n",
       "      <td>2020-02-01</td>\n",
       "      <td>One year</td>\n",
       "      <td>No</td>\n",
       "      <td>Bank transfer (automatic)</td>\n",
       "      <td>19.80</td>\n",
       "      <td>237.60</td>\n",
       "      <td>Male</td>\n",
       "      <td>0</td>\n",
       "      <td>...</td>\n",
       "      <td>No</td>\n",
       "      <td>No</td>\n",
       "      <td>No</td>\n",
       "      <td>No</td>\n",
       "      <td>No</td>\n",
       "      <td>No</td>\n",
       "      <td>No</td>\n",
       "      <td>No</td>\n",
       "      <td>No</td>\n",
       "      <td>365.0</td>\n",
       "    </tr>\n",
       "    <tr>\n",
       "      <th>22</th>\n",
       "      <td>1066-JKSGK</td>\n",
       "      <td>2019-11-01</td>\n",
       "      <td>2020-02-01</td>\n",
       "      <td>Month-to-month</td>\n",
       "      <td>No</td>\n",
       "      <td>Mailed check</td>\n",
       "      <td>20.15</td>\n",
       "      <td>61.05</td>\n",
       "      <td>Male</td>\n",
       "      <td>0</td>\n",
       "      <td>...</td>\n",
       "      <td>No</td>\n",
       "      <td>No</td>\n",
       "      <td>No</td>\n",
       "      <td>No</td>\n",
       "      <td>No</td>\n",
       "      <td>No</td>\n",
       "      <td>No</td>\n",
       "      <td>No</td>\n",
       "      <td>No</td>\n",
       "      <td>92.0</td>\n",
       "    </tr>\n",
       "    <tr>\n",
       "      <th>23</th>\n",
       "      <td>3638-WEABW</td>\n",
       "      <td>2015-04-01</td>\n",
       "      <td>2020-02-01</td>\n",
       "      <td>Two year</td>\n",
       "      <td>Yes</td>\n",
       "      <td>Credit card (automatic)</td>\n",
       "      <td>59.90</td>\n",
       "      <td>3821.62</td>\n",
       "      <td>Female</td>\n",
       "      <td>0</td>\n",
       "      <td>...</td>\n",
       "      <td>No</td>\n",
       "      <td>DSL</td>\n",
       "      <td>No</td>\n",
       "      <td>Yes</td>\n",
       "      <td>No</td>\n",
       "      <td>Yes</td>\n",
       "      <td>No</td>\n",
       "      <td>No</td>\n",
       "      <td>Yes</td>\n",
       "      <td>1767.0</td>\n",
       "    </tr>\n",
       "    <tr>\n",
       "      <th>24</th>\n",
       "      <td>6322-HRPFA</td>\n",
       "      <td>2016-01-01</td>\n",
       "      <td>2020-02-01</td>\n",
       "      <td>Month-to-month</td>\n",
       "      <td>No</td>\n",
       "      <td>Credit card (automatic)</td>\n",
       "      <td>59.60</td>\n",
       "      <td>3212.44</td>\n",
       "      <td>Male</td>\n",
       "      <td>0</td>\n",
       "      <td>...</td>\n",
       "      <td>Yes</td>\n",
       "      <td>DSL</td>\n",
       "      <td>Yes</td>\n",
       "      <td>Yes</td>\n",
       "      <td>No</td>\n",
       "      <td>Yes</td>\n",
       "      <td>No</td>\n",
       "      <td>No</td>\n",
       "      <td>No</td>\n",
       "      <td>1492.0</td>\n",
       "    </tr>\n",
       "    <tr>\n",
       "      <th>25</th>\n",
       "      <td>6865-JZNKO</td>\n",
       "      <td>2017-08-01</td>\n",
       "      <td>2018-09-01</td>\n",
       "      <td>Month-to-month</td>\n",
       "      <td>Yes</td>\n",
       "      <td>Bank transfer (automatic)</td>\n",
       "      <td>55.30</td>\n",
       "      <td>726.09</td>\n",
       "      <td>Female</td>\n",
       "      <td>0</td>\n",
       "      <td>...</td>\n",
       "      <td>No</td>\n",
       "      <td>DSL</td>\n",
       "      <td>Yes</td>\n",
       "      <td>Yes</td>\n",
       "      <td>No</td>\n",
       "      <td>No</td>\n",
       "      <td>No</td>\n",
       "      <td>No</td>\n",
       "      <td>No</td>\n",
       "      <td>396.0</td>\n",
       "    </tr>\n",
       "    <tr>\n",
       "      <th>26</th>\n",
       "      <td>6467-CHFZW</td>\n",
       "      <td>2015-12-01</td>\n",
       "      <td>2020-02-01</td>\n",
       "      <td>Month-to-month</td>\n",
       "      <td>Yes</td>\n",
       "      <td>Electronic check</td>\n",
       "      <td>99.35</td>\n",
       "      <td>5215.88</td>\n",
       "      <td>Male</td>\n",
       "      <td>0</td>\n",
       "      <td>...</td>\n",
       "      <td>Yes</td>\n",
       "      <td>Fiber optic</td>\n",
       "      <td>No</td>\n",
       "      <td>Yes</td>\n",
       "      <td>No</td>\n",
       "      <td>No</td>\n",
       "      <td>Yes</td>\n",
       "      <td>Yes</td>\n",
       "      <td>Yes</td>\n",
       "      <td>1523.0</td>\n",
       "    </tr>\n",
       "    <tr>\n",
       "      <th>27</th>\n",
       "      <td>8665-UTDHZ</td>\n",
       "      <td>2019-11-01</td>\n",
       "      <td>2020-02-01</td>\n",
       "      <td>Month-to-month</td>\n",
       "      <td>No</td>\n",
       "      <td>Electronic check</td>\n",
       "      <td>30.20</td>\n",
       "      <td>96.04</td>\n",
       "      <td>Male</td>\n",
       "      <td>0</td>\n",
       "      <td>...</td>\n",
       "      <td>Yes</td>\n",
       "      <td>DSL</td>\n",
       "      <td>No</td>\n",
       "      <td>Yes</td>\n",
       "      <td>No</td>\n",
       "      <td>No</td>\n",
       "      <td>No</td>\n",
       "      <td>No</td>\n",
       "      <td>No</td>\n",
       "      <td>92.0</td>\n",
       "    </tr>\n",
       "    <tr>\n",
       "      <th>28</th>\n",
       "      <td>5248-YGIJN</td>\n",
       "      <td>2014-02-01</td>\n",
       "      <td>2020-02-01</td>\n",
       "      <td>Two year</td>\n",
       "      <td>Yes</td>\n",
       "      <td>Credit card (automatic)</td>\n",
       "      <td>90.25</td>\n",
       "      <td>6498.00</td>\n",
       "      <td>Male</td>\n",
       "      <td>0</td>\n",
       "      <td>...</td>\n",
       "      <td>No</td>\n",
       "      <td>DSL</td>\n",
       "      <td>Yes</td>\n",
       "      <td>Yes</td>\n",
       "      <td>Yes</td>\n",
       "      <td>Yes</td>\n",
       "      <td>Yes</td>\n",
       "      <td>Yes</td>\n",
       "      <td>Yes</td>\n",
       "      <td>2191.0</td>\n",
       "    </tr>\n",
       "    <tr>\n",
       "      <th>29</th>\n",
       "      <td>8773-HHUOZ</td>\n",
       "      <td>2018-06-01</td>\n",
       "      <td>2020-02-01</td>\n",
       "      <td>Month-to-month</td>\n",
       "      <td>Yes</td>\n",
       "      <td>Mailed check</td>\n",
       "      <td>64.70</td>\n",
       "      <td>1294.00</td>\n",
       "      <td>Female</td>\n",
       "      <td>0</td>\n",
       "      <td>...</td>\n",
       "      <td>Yes</td>\n",
       "      <td>DSL</td>\n",
       "      <td>No</td>\n",
       "      <td>No</td>\n",
       "      <td>No</td>\n",
       "      <td>No</td>\n",
       "      <td>Yes</td>\n",
       "      <td>Yes</td>\n",
       "      <td>No</td>\n",
       "      <td>610.0</td>\n",
       "    </tr>\n",
       "    <tr>\n",
       "      <th>30</th>\n",
       "      <td>3841-NFECX</td>\n",
       "      <td>2014-03-01</td>\n",
       "      <td>2018-11-01</td>\n",
       "      <td>Two year</td>\n",
       "      <td>Yes</td>\n",
       "      <td>Credit card (automatic)</td>\n",
       "      <td>96.35</td>\n",
       "      <td>5395.60</td>\n",
       "      <td>Female</td>\n",
       "      <td>1</td>\n",
       "      <td>...</td>\n",
       "      <td>No</td>\n",
       "      <td>Fiber optic</td>\n",
       "      <td>Yes</td>\n",
       "      <td>Yes</td>\n",
       "      <td>Yes</td>\n",
       "      <td>Yes</td>\n",
       "      <td>No</td>\n",
       "      <td>No</td>\n",
       "      <td>Yes</td>\n",
       "      <td>1706.0</td>\n",
       "    </tr>\n",
       "    <tr>\n",
       "      <th>31</th>\n",
       "      <td>4929-XIHVW</td>\n",
       "      <td>2019-12-01</td>\n",
       "      <td>2020-02-01</td>\n",
       "      <td>Month-to-month</td>\n",
       "      <td>Yes</td>\n",
       "      <td>Credit card (automatic)</td>\n",
       "      <td>95.50</td>\n",
       "      <td>194.82</td>\n",
       "      <td>Male</td>\n",
       "      <td>1</td>\n",
       "      <td>...</td>\n",
       "      <td>No</td>\n",
       "      <td>Fiber optic</td>\n",
       "      <td>No</td>\n",
       "      <td>No</td>\n",
       "      <td>Yes</td>\n",
       "      <td>No</td>\n",
       "      <td>Yes</td>\n",
       "      <td>Yes</td>\n",
       "      <td>No</td>\n",
       "      <td>62.0</td>\n",
       "    </tr>\n",
       "    <tr>\n",
       "      <th>32</th>\n",
       "      <td>6827-IEAUQ</td>\n",
       "      <td>2017-11-01</td>\n",
       "      <td>2020-02-01</td>\n",
       "      <td>One year</td>\n",
       "      <td>No</td>\n",
       "      <td>Mailed check</td>\n",
       "      <td>66.15</td>\n",
       "      <td>1928.93</td>\n",
       "      <td>Female</td>\n",
       "      <td>0</td>\n",
       "      <td>...</td>\n",
       "      <td>Yes</td>\n",
       "      <td>DSL</td>\n",
       "      <td>Yes</td>\n",
       "      <td>Yes</td>\n",
       "      <td>Yes</td>\n",
       "      <td>Yes</td>\n",
       "      <td>No</td>\n",
       "      <td>No</td>\n",
       "      <td>No</td>\n",
       "      <td>822.0</td>\n",
       "    </tr>\n",
       "    <tr>\n",
       "      <th>33</th>\n",
       "      <td>7310-EGVHZ</td>\n",
       "      <td>2020-01-01</td>\n",
       "      <td>2020-02-01</td>\n",
       "      <td>Month-to-month</td>\n",
       "      <td>No</td>\n",
       "      <td>Bank transfer (automatic)</td>\n",
       "      <td>20.20</td>\n",
       "      <td>22.22</td>\n",
       "      <td>Male</td>\n",
       "      <td>0</td>\n",
       "      <td>...</td>\n",
       "      <td>No</td>\n",
       "      <td>No</td>\n",
       "      <td>No</td>\n",
       "      <td>No</td>\n",
       "      <td>No</td>\n",
       "      <td>No</td>\n",
       "      <td>No</td>\n",
       "      <td>No</td>\n",
       "      <td>No</td>\n",
       "      <td>31.0</td>\n",
       "    </tr>\n",
       "    <tr>\n",
       "      <th>34</th>\n",
       "      <td>3413-BMNZE</td>\n",
       "      <td>2020-01-01</td>\n",
       "      <td>2020-02-01</td>\n",
       "      <td>Month-to-month</td>\n",
       "      <td>No</td>\n",
       "      <td>Bank transfer (automatic)</td>\n",
       "      <td>45.25</td>\n",
       "      <td>45.25</td>\n",
       "      <td>Male</td>\n",
       "      <td>1</td>\n",
       "      <td>...</td>\n",
       "      <td>No</td>\n",
       "      <td>DSL</td>\n",
       "      <td>No</td>\n",
       "      <td>No</td>\n",
       "      <td>No</td>\n",
       "      <td>No</td>\n",
       "      <td>No</td>\n",
       "      <td>No</td>\n",
       "      <td>No</td>\n",
       "      <td>31.0</td>\n",
       "    </tr>\n",
       "    <tr>\n",
       "      <th>35</th>\n",
       "      <td>6234-RAAPL</td>\n",
       "      <td>2014-02-01</td>\n",
       "      <td>2018-12-01</td>\n",
       "      <td>Two year</td>\n",
       "      <td>No</td>\n",
       "      <td>Bank transfer (automatic)</td>\n",
       "      <td>99.90</td>\n",
       "      <td>5794.20</td>\n",
       "      <td>Female</td>\n",
       "      <td>0</td>\n",
       "      <td>...</td>\n",
       "      <td>Yes</td>\n",
       "      <td>Fiber optic</td>\n",
       "      <td>Yes</td>\n",
       "      <td>Yes</td>\n",
       "      <td>No</td>\n",
       "      <td>Yes</td>\n",
       "      <td>Yes</td>\n",
       "      <td>No</td>\n",
       "      <td>Yes</td>\n",
       "      <td>1764.0</td>\n",
       "    </tr>\n",
       "    <tr>\n",
       "      <th>36</th>\n",
       "      <td>6047-YHPVI</td>\n",
       "      <td>2019-06-01</td>\n",
       "      <td>2020-02-01</td>\n",
       "      <td>Month-to-month</td>\n",
       "      <td>Yes</td>\n",
       "      <td>Electronic check</td>\n",
       "      <td>69.70</td>\n",
       "      <td>557.60</td>\n",
       "      <td>Male</td>\n",
       "      <td>0</td>\n",
       "      <td>...</td>\n",
       "      <td>No</td>\n",
       "      <td>Fiber optic</td>\n",
       "      <td>No</td>\n",
       "      <td>No</td>\n",
       "      <td>No</td>\n",
       "      <td>No</td>\n",
       "      <td>No</td>\n",
       "      <td>No</td>\n",
       "      <td>No</td>\n",
       "      <td>245.0</td>\n",
       "    </tr>\n",
       "    <tr>\n",
       "      <th>37</th>\n",
       "      <td>6572-ADKRS</td>\n",
       "      <td>2016-04-01</td>\n",
       "      <td>2020-02-01</td>\n",
       "      <td>Month-to-month</td>\n",
       "      <td>Yes</td>\n",
       "      <td>Credit card (automatic)</td>\n",
       "      <td>74.80</td>\n",
       "      <td>3440.80</td>\n",
       "      <td>Female</td>\n",
       "      <td>0</td>\n",
       "      <td>...</td>\n",
       "      <td>No</td>\n",
       "      <td>Fiber optic</td>\n",
       "      <td>No</td>\n",
       "      <td>No</td>\n",
       "      <td>Yes</td>\n",
       "      <td>No</td>\n",
       "      <td>No</td>\n",
       "      <td>No</td>\n",
       "      <td>No</td>\n",
       "      <td>1401.0</td>\n",
       "    </tr>\n",
       "    <tr>\n",
       "      <th>38</th>\n",
       "      <td>5380-WJKOV</td>\n",
       "      <td>2017-02-01</td>\n",
       "      <td>2020-02-01</td>\n",
       "      <td>Month-to-month</td>\n",
       "      <td>Yes</td>\n",
       "      <td>Electronic check</td>\n",
       "      <td>106.35</td>\n",
       "      <td>4211.46</td>\n",
       "      <td>Male</td>\n",
       "      <td>0</td>\n",
       "      <td>...</td>\n",
       "      <td>No</td>\n",
       "      <td>Fiber optic</td>\n",
       "      <td>No</td>\n",
       "      <td>Yes</td>\n",
       "      <td>Yes</td>\n",
       "      <td>No</td>\n",
       "      <td>Yes</td>\n",
       "      <td>Yes</td>\n",
       "      <td>Yes</td>\n",
       "      <td>1095.0</td>\n",
       "    </tr>\n",
       "    <tr>\n",
       "      <th>39</th>\n",
       "      <td>8168-UQWWF</td>\n",
       "      <td>2018-12-01</td>\n",
       "      <td>2020-02-01</td>\n",
       "      <td>Month-to-month</td>\n",
       "      <td>Yes</td>\n",
       "      <td>Bank transfer (automatic)</td>\n",
       "      <td>97.85</td>\n",
       "      <td>1369.90</td>\n",
       "      <td>Female</td>\n",
       "      <td>0</td>\n",
       "      <td>...</td>\n",
       "      <td>No</td>\n",
       "      <td>Fiber optic</td>\n",
       "      <td>No</td>\n",
       "      <td>No</td>\n",
       "      <td>Yes</td>\n",
       "      <td>No</td>\n",
       "      <td>Yes</td>\n",
       "      <td>Yes</td>\n",
       "      <td>Yes</td>\n",
       "      <td>427.0</td>\n",
       "    </tr>\n",
       "  </tbody>\n",
       "</table>\n",
       "<p>40 rows × 21 columns</p>\n",
       "</div>"
      ],
      "text/plain": [
       "    customerID  BeginDate    EndDate            Type PaperlessBilling  \\\n",
       "0   7590-VHVEG 2020-01-01 2020-02-01  Month-to-month              Yes   \n",
       "1   5575-GNVDE 2017-04-01 2020-02-01        One year               No   \n",
       "2   3668-QPYBK 2019-10-01 2020-02-01  Month-to-month              Yes   \n",
       "3   7795-CFOCW 2016-05-01 2020-02-01        One year               No   \n",
       "4   9237-HQITU 2019-09-01 2020-02-01  Month-to-month              Yes   \n",
       "5   9305-CDSKC 2019-03-01 2020-02-01  Month-to-month              Yes   \n",
       "6   1452-KIOVK 2018-04-01 2020-02-01  Month-to-month              Yes   \n",
       "7   6713-OKOMC 2019-04-01 2020-02-01  Month-to-month               No   \n",
       "8   7892-POOKP 2017-07-01 2020-02-01  Month-to-month              Yes   \n",
       "9   6388-TABGU 2014-12-01 2017-05-01        One year               No   \n",
       "10  9763-GRSKD 2019-01-01 2020-02-01  Month-to-month              Yes   \n",
       "11  7469-LKBCI 2018-10-01 2020-02-01        Two year               No   \n",
       "12  8091-TTVAX 2015-04-01 2020-02-01        One year               No   \n",
       "13  0280-XJGEX 2015-09-01 2020-02-01  Month-to-month              Yes   \n",
       "14  5129-JLPIS 2018-01-01 2020-02-01  Month-to-month              Yes   \n",
       "15  3655-SNQYZ 2014-05-01 2016-03-01        Two year               No   \n",
       "16  8191-XWSZG 2015-10-01 2020-02-01        One year               No   \n",
       "17  9959-WOFKT 2014-03-01 2020-02-01        Two year               No   \n",
       "18  4190-MFLUW 2019-01-01 2020-02-01  Month-to-month               No   \n",
       "19  4183-MYFRB 2018-05-01 2020-02-01  Month-to-month              Yes   \n",
       "20  8779-QRDMV 2019-11-01 2020-02-01  Month-to-month              Yes   \n",
       "21  1680-VDCWW 2019-02-01 2020-02-01        One year               No   \n",
       "22  1066-JKSGK 2019-11-01 2020-02-01  Month-to-month               No   \n",
       "23  3638-WEABW 2015-04-01 2020-02-01        Two year              Yes   \n",
       "24  6322-HRPFA 2016-01-01 2020-02-01  Month-to-month               No   \n",
       "25  6865-JZNKO 2017-08-01 2018-09-01  Month-to-month              Yes   \n",
       "26  6467-CHFZW 2015-12-01 2020-02-01  Month-to-month              Yes   \n",
       "27  8665-UTDHZ 2019-11-01 2020-02-01  Month-to-month               No   \n",
       "28  5248-YGIJN 2014-02-01 2020-02-01        Two year              Yes   \n",
       "29  8773-HHUOZ 2018-06-01 2020-02-01  Month-to-month              Yes   \n",
       "30  3841-NFECX 2014-03-01 2018-11-01        Two year              Yes   \n",
       "31  4929-XIHVW 2019-12-01 2020-02-01  Month-to-month              Yes   \n",
       "32  6827-IEAUQ 2017-11-01 2020-02-01        One year               No   \n",
       "33  7310-EGVHZ 2020-01-01 2020-02-01  Month-to-month               No   \n",
       "34  3413-BMNZE 2020-01-01 2020-02-01  Month-to-month               No   \n",
       "35  6234-RAAPL 2014-02-01 2018-12-01        Two year               No   \n",
       "36  6047-YHPVI 2019-06-01 2020-02-01  Month-to-month              Yes   \n",
       "37  6572-ADKRS 2016-04-01 2020-02-01  Month-to-month              Yes   \n",
       "38  5380-WJKOV 2017-02-01 2020-02-01  Month-to-month              Yes   \n",
       "39  8168-UQWWF 2018-12-01 2020-02-01  Month-to-month              Yes   \n",
       "\n",
       "                PaymentMethod  MonthlyCharges  TotalCharges  gender  \\\n",
       "0            Electronic check           29.85         31.04  Female   \n",
       "1                Mailed check           56.95       2071.84    Male   \n",
       "2                Mailed check           53.85        226.17    Male   \n",
       "3   Bank transfer (automatic)           42.30       1960.60    Male   \n",
       "4            Electronic check           70.70        353.50  Female   \n",
       "5            Electronic check           99.65       1150.96  Female   \n",
       "6     Credit card (automatic)           89.10       2058.21    Male   \n",
       "7                Mailed check           29.75        300.48  Female   \n",
       "8            Electronic check          104.80       3573.68  Female   \n",
       "9   Bank transfer (automatic)           56.15       1628.35    Male   \n",
       "10               Mailed check           49.95        649.35    Male   \n",
       "11    Credit card (automatic)           18.95        312.30    Male   \n",
       "12    Credit card (automatic)          100.35       6111.31    Male   \n",
       "13  Bank transfer (automatic)          103.70       5496.10    Male   \n",
       "14           Electronic check          105.50       2637.50    Male   \n",
       "15    Credit card (automatic)          113.25       2491.50  Female   \n",
       "16               Mailed check           20.65       1106.01  Female   \n",
       "17  Bank transfer (automatic)          106.70       8257.51    Male   \n",
       "18    Credit card (automatic)           55.20        789.36  Female   \n",
       "19           Electronic check           90.05       1891.05  Female   \n",
       "20           Electronic check           39.65        118.95    Male   \n",
       "21  Bank transfer (automatic)           19.80        237.60    Male   \n",
       "22               Mailed check           20.15         61.05    Male   \n",
       "23    Credit card (automatic)           59.90       3821.62  Female   \n",
       "24    Credit card (automatic)           59.60       3212.44    Male   \n",
       "25  Bank transfer (automatic)           55.30        726.09  Female   \n",
       "26           Electronic check           99.35       5215.88    Male   \n",
       "27           Electronic check           30.20         96.04    Male   \n",
       "28    Credit card (automatic)           90.25       6498.00    Male   \n",
       "29               Mailed check           64.70       1294.00  Female   \n",
       "30    Credit card (automatic)           96.35       5395.60  Female   \n",
       "31    Credit card (automatic)           95.50        194.82    Male   \n",
       "32               Mailed check           66.15       1928.93  Female   \n",
       "33  Bank transfer (automatic)           20.20         22.22    Male   \n",
       "34  Bank transfer (automatic)           45.25         45.25    Male   \n",
       "35  Bank transfer (automatic)           99.90       5794.20  Female   \n",
       "36           Electronic check           69.70        557.60    Male   \n",
       "37    Credit card (automatic)           74.80       3440.80  Female   \n",
       "38           Electronic check          106.35       4211.46    Male   \n",
       "39  Bank transfer (automatic)           97.85       1369.90  Female   \n",
       "\n",
       "    SeniorCitizen  ... Dependents InternetService OnlineSecurity OnlineBackup  \\\n",
       "0               0  ...         No             DSL             No          Yes   \n",
       "1               0  ...         No             DSL            Yes           No   \n",
       "2               0  ...         No             DSL            Yes          Yes   \n",
       "3               0  ...         No             DSL            Yes           No   \n",
       "4               0  ...         No     Fiber optic             No           No   \n",
       "5               0  ...         No     Fiber optic             No           No   \n",
       "6               0  ...        Yes     Fiber optic             No          Yes   \n",
       "7               0  ...         No             DSL            Yes           No   \n",
       "8               0  ...         No     Fiber optic             No           No   \n",
       "9               0  ...        Yes             DSL            Yes          Yes   \n",
       "10              0  ...        Yes             DSL            Yes           No   \n",
       "11              0  ...         No              No             No           No   \n",
       "12              0  ...         No     Fiber optic             No           No   \n",
       "13              0  ...         No     Fiber optic             No          Yes   \n",
       "14              0  ...         No     Fiber optic            Yes           No   \n",
       "15              0  ...        Yes     Fiber optic            Yes          Yes   \n",
       "16              0  ...         No              No             No           No   \n",
       "17              0  ...        Yes     Fiber optic            Yes           No   \n",
       "18              0  ...        Yes             DSL             No           No   \n",
       "19              0  ...         No     Fiber optic             No          Yes   \n",
       "20              1  ...         No             DSL             No           No   \n",
       "21              0  ...         No              No             No           No   \n",
       "22              0  ...         No              No             No           No   \n",
       "23              0  ...         No             DSL             No          Yes   \n",
       "24              0  ...        Yes             DSL            Yes          Yes   \n",
       "25              0  ...         No             DSL            Yes          Yes   \n",
       "26              0  ...        Yes     Fiber optic             No          Yes   \n",
       "27              0  ...        Yes             DSL             No          Yes   \n",
       "28              0  ...         No             DSL            Yes          Yes   \n",
       "29              0  ...        Yes             DSL             No           No   \n",
       "30              1  ...         No     Fiber optic            Yes          Yes   \n",
       "31              1  ...         No     Fiber optic             No           No   \n",
       "32              0  ...        Yes             DSL            Yes          Yes   \n",
       "33              0  ...         No              No             No           No   \n",
       "34              1  ...         No             DSL             No           No   \n",
       "35              0  ...        Yes     Fiber optic            Yes          Yes   \n",
       "36              0  ...         No     Fiber optic             No           No   \n",
       "37              0  ...         No     Fiber optic             No           No   \n",
       "38              0  ...         No     Fiber optic             No          Yes   \n",
       "39              0  ...         No     Fiber optic             No           No   \n",
       "\n",
       "   DeviceProtection TechSupport StreamingTV StreamingMovies MultipleLines  \\\n",
       "0                No          No          No              No            No   \n",
       "1               Yes          No          No              No            No   \n",
       "2                No          No          No              No            No   \n",
       "3               Yes         Yes          No              No            No   \n",
       "4                No          No          No              No            No   \n",
       "5               Yes          No         Yes             Yes           Yes   \n",
       "6                No          No         Yes              No           Yes   \n",
       "7                No          No          No              No            No   \n",
       "8               Yes         Yes         Yes             Yes           Yes   \n",
       "9                No          No          No              No            No   \n",
       "10               No          No          No              No            No   \n",
       "11               No          No          No              No            No   \n",
       "12              Yes          No         Yes             Yes           Yes   \n",
       "13              Yes          No         Yes             Yes           Yes   \n",
       "14              Yes         Yes         Yes             Yes            No   \n",
       "15              Yes         Yes         Yes             Yes           Yes   \n",
       "16               No          No          No              No            No   \n",
       "17              Yes          No         Yes             Yes           Yes   \n",
       "18              Yes         Yes          No              No            No   \n",
       "19              Yes          No          No             Yes            No   \n",
       "20              Yes          No          No             Yes            No   \n",
       "21               No          No          No              No            No   \n",
       "22               No          No          No              No            No   \n",
       "23               No         Yes          No              No           Yes   \n",
       "24               No         Yes          No              No            No   \n",
       "25               No          No          No              No            No   \n",
       "26               No          No         Yes             Yes           Yes   \n",
       "27               No          No          No              No            No   \n",
       "28              Yes         Yes         Yes             Yes           Yes   \n",
       "29               No          No         Yes             Yes            No   \n",
       "30              Yes         Yes          No              No           Yes   \n",
       "31              Yes          No         Yes             Yes            No   \n",
       "32              Yes         Yes          No              No            No   \n",
       "33               No          No          No              No            No   \n",
       "34               No          No          No              No            No   \n",
       "35               No         Yes         Yes              No           Yes   \n",
       "36               No          No          No              No            No   \n",
       "37              Yes          No          No              No            No   \n",
       "38              Yes          No         Yes             Yes           Yes   \n",
       "39              Yes          No         Yes             Yes           Yes   \n",
       "\n",
       "   ContractDuration  \n",
       "0              31.0  \n",
       "1            1036.0  \n",
       "2             123.0  \n",
       "3            1371.0  \n",
       "4             153.0  \n",
       "5             337.0  \n",
       "6             671.0  \n",
       "7             306.0  \n",
       "8             945.0  \n",
       "9             882.0  \n",
       "10            396.0  \n",
       "11            488.0  \n",
       "12           1767.0  \n",
       "13           1614.0  \n",
       "14            761.0  \n",
       "15            670.0  \n",
       "16           1584.0  \n",
       "17           2163.0  \n",
       "18            396.0  \n",
       "19            641.0  \n",
       "20             92.0  \n",
       "21            365.0  \n",
       "22             92.0  \n",
       "23           1767.0  \n",
       "24           1492.0  \n",
       "25            396.0  \n",
       "26           1523.0  \n",
       "27             92.0  \n",
       "28           2191.0  \n",
       "29            610.0  \n",
       "30           1706.0  \n",
       "31             62.0  \n",
       "32            822.0  \n",
       "33             31.0  \n",
       "34             31.0  \n",
       "35           1764.0  \n",
       "36            245.0  \n",
       "37           1401.0  \n",
       "38           1095.0  \n",
       "39            427.0  \n",
       "\n",
       "[40 rows x 21 columns]"
      ]
     },
     "execution_count": 18,
     "metadata": {},
     "output_type": "execute_result"
    }
   ],
   "source": [
    "df.head(40)"
   ]
  },
  {
   "cell_type": "code",
   "execution_count": 19,
   "metadata": {},
   "outputs": [],
   "source": [
    "#Удалюю лишнее\n",
    "df = df.drop(['customerID'],axis = 1)\n",
    "df = df.drop(['gender'],axis = 1)\n",
    "df = df.drop(['BeginDate'],axis = 1)\n",
    "df = df.drop(['EndDate'],axis = 1)"
   ]
  },
  {
   "cell_type": "code",
   "execution_count": 20,
   "metadata": {},
   "outputs": [
    {
     "data": {
      "text/html": [
       "<div>\n",
       "<style scoped>\n",
       "    .dataframe tbody tr th:only-of-type {\n",
       "        vertical-align: middle;\n",
       "    }\n",
       "\n",
       "    .dataframe tbody tr th {\n",
       "        vertical-align: top;\n",
       "    }\n",
       "\n",
       "    .dataframe thead th {\n",
       "        text-align: right;\n",
       "    }\n",
       "</style>\n",
       "<table border=\"1\" class=\"dataframe\">\n",
       "  <thead>\n",
       "    <tr style=\"text-align: right;\">\n",
       "      <th></th>\n",
       "      <th>Type</th>\n",
       "      <th>PaperlessBilling</th>\n",
       "      <th>PaymentMethod</th>\n",
       "      <th>MonthlyCharges</th>\n",
       "      <th>TotalCharges</th>\n",
       "      <th>SeniorCitizen</th>\n",
       "      <th>Partner</th>\n",
       "      <th>Dependents</th>\n",
       "      <th>InternetService</th>\n",
       "      <th>OnlineSecurity</th>\n",
       "      <th>OnlineBackup</th>\n",
       "      <th>DeviceProtection</th>\n",
       "      <th>TechSupport</th>\n",
       "      <th>StreamingTV</th>\n",
       "      <th>StreamingMovies</th>\n",
       "      <th>MultipleLines</th>\n",
       "      <th>ContractDuration</th>\n",
       "      <th>EndDate</th>\n",
       "    </tr>\n",
       "  </thead>\n",
       "  <tbody>\n",
       "    <tr>\n",
       "      <th>0</th>\n",
       "      <td>Month-to-month</td>\n",
       "      <td>Yes</td>\n",
       "      <td>Electronic check</td>\n",
       "      <td>29.85</td>\n",
       "      <td>31.04</td>\n",
       "      <td>No</td>\n",
       "      <td>Yes</td>\n",
       "      <td>No</td>\n",
       "      <td>DSL</td>\n",
       "      <td>No</td>\n",
       "      <td>Yes</td>\n",
       "      <td>No</td>\n",
       "      <td>No</td>\n",
       "      <td>No</td>\n",
       "      <td>No</td>\n",
       "      <td>No</td>\n",
       "      <td>31.0</td>\n",
       "      <td>0</td>\n",
       "    </tr>\n",
       "    <tr>\n",
       "      <th>1</th>\n",
       "      <td>One year</td>\n",
       "      <td>No</td>\n",
       "      <td>Mailed check</td>\n",
       "      <td>56.95</td>\n",
       "      <td>2071.84</td>\n",
       "      <td>No</td>\n",
       "      <td>No</td>\n",
       "      <td>No</td>\n",
       "      <td>DSL</td>\n",
       "      <td>Yes</td>\n",
       "      <td>No</td>\n",
       "      <td>Yes</td>\n",
       "      <td>No</td>\n",
       "      <td>No</td>\n",
       "      <td>No</td>\n",
       "      <td>No</td>\n",
       "      <td>1036.0</td>\n",
       "      <td>0</td>\n",
       "    </tr>\n",
       "    <tr>\n",
       "      <th>2</th>\n",
       "      <td>Month-to-month</td>\n",
       "      <td>Yes</td>\n",
       "      <td>Mailed check</td>\n",
       "      <td>53.85</td>\n",
       "      <td>226.17</td>\n",
       "      <td>No</td>\n",
       "      <td>No</td>\n",
       "      <td>No</td>\n",
       "      <td>DSL</td>\n",
       "      <td>Yes</td>\n",
       "      <td>Yes</td>\n",
       "      <td>No</td>\n",
       "      <td>No</td>\n",
       "      <td>No</td>\n",
       "      <td>No</td>\n",
       "      <td>No</td>\n",
       "      <td>123.0</td>\n",
       "      <td>0</td>\n",
       "    </tr>\n",
       "    <tr>\n",
       "      <th>3</th>\n",
       "      <td>One year</td>\n",
       "      <td>No</td>\n",
       "      <td>Bank transfer (automatic)</td>\n",
       "      <td>42.30</td>\n",
       "      <td>1960.60</td>\n",
       "      <td>No</td>\n",
       "      <td>No</td>\n",
       "      <td>No</td>\n",
       "      <td>DSL</td>\n",
       "      <td>Yes</td>\n",
       "      <td>No</td>\n",
       "      <td>Yes</td>\n",
       "      <td>Yes</td>\n",
       "      <td>No</td>\n",
       "      <td>No</td>\n",
       "      <td>No</td>\n",
       "      <td>1371.0</td>\n",
       "      <td>0</td>\n",
       "    </tr>\n",
       "    <tr>\n",
       "      <th>4</th>\n",
       "      <td>Month-to-month</td>\n",
       "      <td>Yes</td>\n",
       "      <td>Electronic check</td>\n",
       "      <td>70.70</td>\n",
       "      <td>353.50</td>\n",
       "      <td>No</td>\n",
       "      <td>No</td>\n",
       "      <td>No</td>\n",
       "      <td>Fiber optic</td>\n",
       "      <td>No</td>\n",
       "      <td>No</td>\n",
       "      <td>No</td>\n",
       "      <td>No</td>\n",
       "      <td>No</td>\n",
       "      <td>No</td>\n",
       "      <td>No</td>\n",
       "      <td>153.0</td>\n",
       "      <td>0</td>\n",
       "    </tr>\n",
       "    <tr>\n",
       "      <th>5</th>\n",
       "      <td>Month-to-month</td>\n",
       "      <td>Yes</td>\n",
       "      <td>Electronic check</td>\n",
       "      <td>99.65</td>\n",
       "      <td>1150.96</td>\n",
       "      <td>No</td>\n",
       "      <td>No</td>\n",
       "      <td>No</td>\n",
       "      <td>Fiber optic</td>\n",
       "      <td>No</td>\n",
       "      <td>No</td>\n",
       "      <td>Yes</td>\n",
       "      <td>No</td>\n",
       "      <td>Yes</td>\n",
       "      <td>Yes</td>\n",
       "      <td>Yes</td>\n",
       "      <td>337.0</td>\n",
       "      <td>0</td>\n",
       "    </tr>\n",
       "    <tr>\n",
       "      <th>6</th>\n",
       "      <td>Month-to-month</td>\n",
       "      <td>Yes</td>\n",
       "      <td>Credit card (automatic)</td>\n",
       "      <td>89.10</td>\n",
       "      <td>2058.21</td>\n",
       "      <td>No</td>\n",
       "      <td>No</td>\n",
       "      <td>Yes</td>\n",
       "      <td>Fiber optic</td>\n",
       "      <td>No</td>\n",
       "      <td>Yes</td>\n",
       "      <td>No</td>\n",
       "      <td>No</td>\n",
       "      <td>Yes</td>\n",
       "      <td>No</td>\n",
       "      <td>Yes</td>\n",
       "      <td>671.0</td>\n",
       "      <td>0</td>\n",
       "    </tr>\n",
       "    <tr>\n",
       "      <th>7</th>\n",
       "      <td>Month-to-month</td>\n",
       "      <td>No</td>\n",
       "      <td>Mailed check</td>\n",
       "      <td>29.75</td>\n",
       "      <td>300.48</td>\n",
       "      <td>No</td>\n",
       "      <td>No</td>\n",
       "      <td>No</td>\n",
       "      <td>DSL</td>\n",
       "      <td>Yes</td>\n",
       "      <td>No</td>\n",
       "      <td>No</td>\n",
       "      <td>No</td>\n",
       "      <td>No</td>\n",
       "      <td>No</td>\n",
       "      <td>No</td>\n",
       "      <td>306.0</td>\n",
       "      <td>0</td>\n",
       "    </tr>\n",
       "    <tr>\n",
       "      <th>8</th>\n",
       "      <td>Month-to-month</td>\n",
       "      <td>Yes</td>\n",
       "      <td>Electronic check</td>\n",
       "      <td>104.80</td>\n",
       "      <td>3573.68</td>\n",
       "      <td>No</td>\n",
       "      <td>Yes</td>\n",
       "      <td>No</td>\n",
       "      <td>Fiber optic</td>\n",
       "      <td>No</td>\n",
       "      <td>No</td>\n",
       "      <td>Yes</td>\n",
       "      <td>Yes</td>\n",
       "      <td>Yes</td>\n",
       "      <td>Yes</td>\n",
       "      <td>Yes</td>\n",
       "      <td>945.0</td>\n",
       "      <td>0</td>\n",
       "    </tr>\n",
       "    <tr>\n",
       "      <th>9</th>\n",
       "      <td>One year</td>\n",
       "      <td>No</td>\n",
       "      <td>Bank transfer (automatic)</td>\n",
       "      <td>56.15</td>\n",
       "      <td>1628.35</td>\n",
       "      <td>No</td>\n",
       "      <td>No</td>\n",
       "      <td>Yes</td>\n",
       "      <td>DSL</td>\n",
       "      <td>Yes</td>\n",
       "      <td>Yes</td>\n",
       "      <td>No</td>\n",
       "      <td>No</td>\n",
       "      <td>No</td>\n",
       "      <td>No</td>\n",
       "      <td>No</td>\n",
       "      <td>882.0</td>\n",
       "      <td>1</td>\n",
       "    </tr>\n",
       "    <tr>\n",
       "      <th>10</th>\n",
       "      <td>Month-to-month</td>\n",
       "      <td>Yes</td>\n",
       "      <td>Mailed check</td>\n",
       "      <td>49.95</td>\n",
       "      <td>649.35</td>\n",
       "      <td>No</td>\n",
       "      <td>Yes</td>\n",
       "      <td>Yes</td>\n",
       "      <td>DSL</td>\n",
       "      <td>Yes</td>\n",
       "      <td>No</td>\n",
       "      <td>No</td>\n",
       "      <td>No</td>\n",
       "      <td>No</td>\n",
       "      <td>No</td>\n",
       "      <td>No</td>\n",
       "      <td>396.0</td>\n",
       "      <td>0</td>\n",
       "    </tr>\n",
       "    <tr>\n",
       "      <th>11</th>\n",
       "      <td>Two year</td>\n",
       "      <td>No</td>\n",
       "      <td>Credit card (automatic)</td>\n",
       "      <td>18.95</td>\n",
       "      <td>312.30</td>\n",
       "      <td>No</td>\n",
       "      <td>No</td>\n",
       "      <td>No</td>\n",
       "      <td>No</td>\n",
       "      <td>No</td>\n",
       "      <td>No</td>\n",
       "      <td>No</td>\n",
       "      <td>No</td>\n",
       "      <td>No</td>\n",
       "      <td>No</td>\n",
       "      <td>No</td>\n",
       "      <td>488.0</td>\n",
       "      <td>0</td>\n",
       "    </tr>\n",
       "    <tr>\n",
       "      <th>12</th>\n",
       "      <td>One year</td>\n",
       "      <td>No</td>\n",
       "      <td>Credit card (automatic)</td>\n",
       "      <td>100.35</td>\n",
       "      <td>6111.31</td>\n",
       "      <td>No</td>\n",
       "      <td>Yes</td>\n",
       "      <td>No</td>\n",
       "      <td>Fiber optic</td>\n",
       "      <td>No</td>\n",
       "      <td>No</td>\n",
       "      <td>Yes</td>\n",
       "      <td>No</td>\n",
       "      <td>Yes</td>\n",
       "      <td>Yes</td>\n",
       "      <td>Yes</td>\n",
       "      <td>1767.0</td>\n",
       "      <td>0</td>\n",
       "    </tr>\n",
       "    <tr>\n",
       "      <th>13</th>\n",
       "      <td>Month-to-month</td>\n",
       "      <td>Yes</td>\n",
       "      <td>Bank transfer (automatic)</td>\n",
       "      <td>103.70</td>\n",
       "      <td>5496.10</td>\n",
       "      <td>No</td>\n",
       "      <td>No</td>\n",
       "      <td>No</td>\n",
       "      <td>Fiber optic</td>\n",
       "      <td>No</td>\n",
       "      <td>Yes</td>\n",
       "      <td>Yes</td>\n",
       "      <td>No</td>\n",
       "      <td>Yes</td>\n",
       "      <td>Yes</td>\n",
       "      <td>Yes</td>\n",
       "      <td>1614.0</td>\n",
       "      <td>0</td>\n",
       "    </tr>\n",
       "    <tr>\n",
       "      <th>14</th>\n",
       "      <td>Month-to-month</td>\n",
       "      <td>Yes</td>\n",
       "      <td>Electronic check</td>\n",
       "      <td>105.50</td>\n",
       "      <td>2637.50</td>\n",
       "      <td>No</td>\n",
       "      <td>No</td>\n",
       "      <td>No</td>\n",
       "      <td>Fiber optic</td>\n",
       "      <td>Yes</td>\n",
       "      <td>No</td>\n",
       "      <td>Yes</td>\n",
       "      <td>Yes</td>\n",
       "      <td>Yes</td>\n",
       "      <td>Yes</td>\n",
       "      <td>No</td>\n",
       "      <td>761.0</td>\n",
       "      <td>0</td>\n",
       "    </tr>\n",
       "    <tr>\n",
       "      <th>15</th>\n",
       "      <td>Two year</td>\n",
       "      <td>No</td>\n",
       "      <td>Credit card (automatic)</td>\n",
       "      <td>113.25</td>\n",
       "      <td>2491.50</td>\n",
       "      <td>No</td>\n",
       "      <td>Yes</td>\n",
       "      <td>Yes</td>\n",
       "      <td>Fiber optic</td>\n",
       "      <td>Yes</td>\n",
       "      <td>Yes</td>\n",
       "      <td>Yes</td>\n",
       "      <td>Yes</td>\n",
       "      <td>Yes</td>\n",
       "      <td>Yes</td>\n",
       "      <td>Yes</td>\n",
       "      <td>670.0</td>\n",
       "      <td>1</td>\n",
       "    </tr>\n",
       "    <tr>\n",
       "      <th>16</th>\n",
       "      <td>One year</td>\n",
       "      <td>No</td>\n",
       "      <td>Mailed check</td>\n",
       "      <td>20.65</td>\n",
       "      <td>1106.01</td>\n",
       "      <td>No</td>\n",
       "      <td>No</td>\n",
       "      <td>No</td>\n",
       "      <td>No</td>\n",
       "      <td>No</td>\n",
       "      <td>No</td>\n",
       "      <td>No</td>\n",
       "      <td>No</td>\n",
       "      <td>No</td>\n",
       "      <td>No</td>\n",
       "      <td>No</td>\n",
       "      <td>1584.0</td>\n",
       "      <td>0</td>\n",
       "    </tr>\n",
       "    <tr>\n",
       "      <th>17</th>\n",
       "      <td>Two year</td>\n",
       "      <td>No</td>\n",
       "      <td>Bank transfer (automatic)</td>\n",
       "      <td>106.70</td>\n",
       "      <td>8257.51</td>\n",
       "      <td>No</td>\n",
       "      <td>No</td>\n",
       "      <td>Yes</td>\n",
       "      <td>Fiber optic</td>\n",
       "      <td>Yes</td>\n",
       "      <td>No</td>\n",
       "      <td>Yes</td>\n",
       "      <td>No</td>\n",
       "      <td>Yes</td>\n",
       "      <td>Yes</td>\n",
       "      <td>Yes</td>\n",
       "      <td>2163.0</td>\n",
       "      <td>0</td>\n",
       "    </tr>\n",
       "    <tr>\n",
       "      <th>18</th>\n",
       "      <td>Month-to-month</td>\n",
       "      <td>No</td>\n",
       "      <td>Credit card (automatic)</td>\n",
       "      <td>55.20</td>\n",
       "      <td>789.36</td>\n",
       "      <td>No</td>\n",
       "      <td>Yes</td>\n",
       "      <td>Yes</td>\n",
       "      <td>DSL</td>\n",
       "      <td>No</td>\n",
       "      <td>No</td>\n",
       "      <td>Yes</td>\n",
       "      <td>Yes</td>\n",
       "      <td>No</td>\n",
       "      <td>No</td>\n",
       "      <td>No</td>\n",
       "      <td>396.0</td>\n",
       "      <td>0</td>\n",
       "    </tr>\n",
       "    <tr>\n",
       "      <th>19</th>\n",
       "      <td>Month-to-month</td>\n",
       "      <td>Yes</td>\n",
       "      <td>Electronic check</td>\n",
       "      <td>90.05</td>\n",
       "      <td>1891.05</td>\n",
       "      <td>No</td>\n",
       "      <td>No</td>\n",
       "      <td>No</td>\n",
       "      <td>Fiber optic</td>\n",
       "      <td>No</td>\n",
       "      <td>Yes</td>\n",
       "      <td>Yes</td>\n",
       "      <td>No</td>\n",
       "      <td>No</td>\n",
       "      <td>Yes</td>\n",
       "      <td>No</td>\n",
       "      <td>641.0</td>\n",
       "      <td>0</td>\n",
       "    </tr>\n",
       "    <tr>\n",
       "      <th>20</th>\n",
       "      <td>Month-to-month</td>\n",
       "      <td>Yes</td>\n",
       "      <td>Electronic check</td>\n",
       "      <td>39.65</td>\n",
       "      <td>118.95</td>\n",
       "      <td>Yes</td>\n",
       "      <td>No</td>\n",
       "      <td>No</td>\n",
       "      <td>DSL</td>\n",
       "      <td>No</td>\n",
       "      <td>No</td>\n",
       "      <td>Yes</td>\n",
       "      <td>No</td>\n",
       "      <td>No</td>\n",
       "      <td>Yes</td>\n",
       "      <td>No</td>\n",
       "      <td>92.0</td>\n",
       "      <td>0</td>\n",
       "    </tr>\n",
       "    <tr>\n",
       "      <th>21</th>\n",
       "      <td>One year</td>\n",
       "      <td>No</td>\n",
       "      <td>Bank transfer (automatic)</td>\n",
       "      <td>19.80</td>\n",
       "      <td>237.60</td>\n",
       "      <td>No</td>\n",
       "      <td>Yes</td>\n",
       "      <td>No</td>\n",
       "      <td>No</td>\n",
       "      <td>No</td>\n",
       "      <td>No</td>\n",
       "      <td>No</td>\n",
       "      <td>No</td>\n",
       "      <td>No</td>\n",
       "      <td>No</td>\n",
       "      <td>No</td>\n",
       "      <td>365.0</td>\n",
       "      <td>0</td>\n",
       "    </tr>\n",
       "    <tr>\n",
       "      <th>22</th>\n",
       "      <td>Month-to-month</td>\n",
       "      <td>No</td>\n",
       "      <td>Mailed check</td>\n",
       "      <td>20.15</td>\n",
       "      <td>61.05</td>\n",
       "      <td>No</td>\n",
       "      <td>No</td>\n",
       "      <td>No</td>\n",
       "      <td>No</td>\n",
       "      <td>No</td>\n",
       "      <td>No</td>\n",
       "      <td>No</td>\n",
       "      <td>No</td>\n",
       "      <td>No</td>\n",
       "      <td>No</td>\n",
       "      <td>No</td>\n",
       "      <td>92.0</td>\n",
       "      <td>0</td>\n",
       "    </tr>\n",
       "    <tr>\n",
       "      <th>23</th>\n",
       "      <td>Two year</td>\n",
       "      <td>Yes</td>\n",
       "      <td>Credit card (automatic)</td>\n",
       "      <td>59.90</td>\n",
       "      <td>3821.62</td>\n",
       "      <td>No</td>\n",
       "      <td>Yes</td>\n",
       "      <td>No</td>\n",
       "      <td>DSL</td>\n",
       "      <td>No</td>\n",
       "      <td>Yes</td>\n",
       "      <td>No</td>\n",
       "      <td>Yes</td>\n",
       "      <td>No</td>\n",
       "      <td>No</td>\n",
       "      <td>Yes</td>\n",
       "      <td>1767.0</td>\n",
       "      <td>0</td>\n",
       "    </tr>\n",
       "    <tr>\n",
       "      <th>24</th>\n",
       "      <td>Month-to-month</td>\n",
       "      <td>No</td>\n",
       "      <td>Credit card (automatic)</td>\n",
       "      <td>59.60</td>\n",
       "      <td>3212.44</td>\n",
       "      <td>No</td>\n",
       "      <td>Yes</td>\n",
       "      <td>Yes</td>\n",
       "      <td>DSL</td>\n",
       "      <td>Yes</td>\n",
       "      <td>Yes</td>\n",
       "      <td>No</td>\n",
       "      <td>Yes</td>\n",
       "      <td>No</td>\n",
       "      <td>No</td>\n",
       "      <td>No</td>\n",
       "      <td>1492.0</td>\n",
       "      <td>0</td>\n",
       "    </tr>\n",
       "    <tr>\n",
       "      <th>25</th>\n",
       "      <td>Month-to-month</td>\n",
       "      <td>Yes</td>\n",
       "      <td>Bank transfer (automatic)</td>\n",
       "      <td>55.30</td>\n",
       "      <td>726.09</td>\n",
       "      <td>No</td>\n",
       "      <td>No</td>\n",
       "      <td>No</td>\n",
       "      <td>DSL</td>\n",
       "      <td>Yes</td>\n",
       "      <td>Yes</td>\n",
       "      <td>No</td>\n",
       "      <td>No</td>\n",
       "      <td>No</td>\n",
       "      <td>No</td>\n",
       "      <td>No</td>\n",
       "      <td>396.0</td>\n",
       "      <td>1</td>\n",
       "    </tr>\n",
       "    <tr>\n",
       "      <th>26</th>\n",
       "      <td>Month-to-month</td>\n",
       "      <td>Yes</td>\n",
       "      <td>Electronic check</td>\n",
       "      <td>99.35</td>\n",
       "      <td>5215.88</td>\n",
       "      <td>No</td>\n",
       "      <td>Yes</td>\n",
       "      <td>Yes</td>\n",
       "      <td>Fiber optic</td>\n",
       "      <td>No</td>\n",
       "      <td>Yes</td>\n",
       "      <td>No</td>\n",
       "      <td>No</td>\n",
       "      <td>Yes</td>\n",
       "      <td>Yes</td>\n",
       "      <td>Yes</td>\n",
       "      <td>1523.0</td>\n",
       "      <td>0</td>\n",
       "    </tr>\n",
       "    <tr>\n",
       "      <th>27</th>\n",
       "      <td>Month-to-month</td>\n",
       "      <td>No</td>\n",
       "      <td>Electronic check</td>\n",
       "      <td>30.20</td>\n",
       "      <td>96.04</td>\n",
       "      <td>No</td>\n",
       "      <td>Yes</td>\n",
       "      <td>Yes</td>\n",
       "      <td>DSL</td>\n",
       "      <td>No</td>\n",
       "      <td>Yes</td>\n",
       "      <td>No</td>\n",
       "      <td>No</td>\n",
       "      <td>No</td>\n",
       "      <td>No</td>\n",
       "      <td>No</td>\n",
       "      <td>92.0</td>\n",
       "      <td>0</td>\n",
       "    </tr>\n",
       "    <tr>\n",
       "      <th>28</th>\n",
       "      <td>Two year</td>\n",
       "      <td>Yes</td>\n",
       "      <td>Credit card (automatic)</td>\n",
       "      <td>90.25</td>\n",
       "      <td>6498.00</td>\n",
       "      <td>No</td>\n",
       "      <td>Yes</td>\n",
       "      <td>No</td>\n",
       "      <td>DSL</td>\n",
       "      <td>Yes</td>\n",
       "      <td>Yes</td>\n",
       "      <td>Yes</td>\n",
       "      <td>Yes</td>\n",
       "      <td>Yes</td>\n",
       "      <td>Yes</td>\n",
       "      <td>Yes</td>\n",
       "      <td>2191.0</td>\n",
       "      <td>0</td>\n",
       "    </tr>\n",
       "    <tr>\n",
       "      <th>29</th>\n",
       "      <td>Month-to-month</td>\n",
       "      <td>Yes</td>\n",
       "      <td>Mailed check</td>\n",
       "      <td>64.70</td>\n",
       "      <td>1294.00</td>\n",
       "      <td>No</td>\n",
       "      <td>No</td>\n",
       "      <td>Yes</td>\n",
       "      <td>DSL</td>\n",
       "      <td>No</td>\n",
       "      <td>No</td>\n",
       "      <td>No</td>\n",
       "      <td>No</td>\n",
       "      <td>Yes</td>\n",
       "      <td>Yes</td>\n",
       "      <td>No</td>\n",
       "      <td>610.0</td>\n",
       "      <td>0</td>\n",
       "    </tr>\n",
       "    <tr>\n",
       "      <th>30</th>\n",
       "      <td>Two year</td>\n",
       "      <td>Yes</td>\n",
       "      <td>Credit card (automatic)</td>\n",
       "      <td>96.35</td>\n",
       "      <td>5395.60</td>\n",
       "      <td>Yes</td>\n",
       "      <td>Yes</td>\n",
       "      <td>No</td>\n",
       "      <td>Fiber optic</td>\n",
       "      <td>Yes</td>\n",
       "      <td>Yes</td>\n",
       "      <td>Yes</td>\n",
       "      <td>Yes</td>\n",
       "      <td>No</td>\n",
       "      <td>No</td>\n",
       "      <td>Yes</td>\n",
       "      <td>1706.0</td>\n",
       "      <td>1</td>\n",
       "    </tr>\n",
       "    <tr>\n",
       "      <th>31</th>\n",
       "      <td>Month-to-month</td>\n",
       "      <td>Yes</td>\n",
       "      <td>Credit card (automatic)</td>\n",
       "      <td>95.50</td>\n",
       "      <td>194.82</td>\n",
       "      <td>Yes</td>\n",
       "      <td>Yes</td>\n",
       "      <td>No</td>\n",
       "      <td>Fiber optic</td>\n",
       "      <td>No</td>\n",
       "      <td>No</td>\n",
       "      <td>Yes</td>\n",
       "      <td>No</td>\n",
       "      <td>Yes</td>\n",
       "      <td>Yes</td>\n",
       "      <td>No</td>\n",
       "      <td>62.0</td>\n",
       "      <td>0</td>\n",
       "    </tr>\n",
       "    <tr>\n",
       "      <th>32</th>\n",
       "      <td>One year</td>\n",
       "      <td>No</td>\n",
       "      <td>Mailed check</td>\n",
       "      <td>66.15</td>\n",
       "      <td>1928.93</td>\n",
       "      <td>No</td>\n",
       "      <td>Yes</td>\n",
       "      <td>Yes</td>\n",
       "      <td>DSL</td>\n",
       "      <td>Yes</td>\n",
       "      <td>Yes</td>\n",
       "      <td>Yes</td>\n",
       "      <td>Yes</td>\n",
       "      <td>No</td>\n",
       "      <td>No</td>\n",
       "      <td>No</td>\n",
       "      <td>822.0</td>\n",
       "      <td>0</td>\n",
       "    </tr>\n",
       "    <tr>\n",
       "      <th>33</th>\n",
       "      <td>Month-to-month</td>\n",
       "      <td>No</td>\n",
       "      <td>Bank transfer (automatic)</td>\n",
       "      <td>20.20</td>\n",
       "      <td>22.22</td>\n",
       "      <td>No</td>\n",
       "      <td>No</td>\n",
       "      <td>No</td>\n",
       "      <td>No</td>\n",
       "      <td>No</td>\n",
       "      <td>No</td>\n",
       "      <td>No</td>\n",
       "      <td>No</td>\n",
       "      <td>No</td>\n",
       "      <td>No</td>\n",
       "      <td>No</td>\n",
       "      <td>31.0</td>\n",
       "      <td>0</td>\n",
       "    </tr>\n",
       "    <tr>\n",
       "      <th>34</th>\n",
       "      <td>Month-to-month</td>\n",
       "      <td>No</td>\n",
       "      <td>Bank transfer (automatic)</td>\n",
       "      <td>45.25</td>\n",
       "      <td>45.25</td>\n",
       "      <td>Yes</td>\n",
       "      <td>No</td>\n",
       "      <td>No</td>\n",
       "      <td>DSL</td>\n",
       "      <td>No</td>\n",
       "      <td>No</td>\n",
       "      <td>No</td>\n",
       "      <td>No</td>\n",
       "      <td>No</td>\n",
       "      <td>No</td>\n",
       "      <td>No</td>\n",
       "      <td>31.0</td>\n",
       "      <td>0</td>\n",
       "    </tr>\n",
       "    <tr>\n",
       "      <th>35</th>\n",
       "      <td>Two year</td>\n",
       "      <td>No</td>\n",
       "      <td>Bank transfer (automatic)</td>\n",
       "      <td>99.90</td>\n",
       "      <td>5794.20</td>\n",
       "      <td>No</td>\n",
       "      <td>Yes</td>\n",
       "      <td>Yes</td>\n",
       "      <td>Fiber optic</td>\n",
       "      <td>Yes</td>\n",
       "      <td>Yes</td>\n",
       "      <td>No</td>\n",
       "      <td>Yes</td>\n",
       "      <td>Yes</td>\n",
       "      <td>No</td>\n",
       "      <td>Yes</td>\n",
       "      <td>1764.0</td>\n",
       "      <td>1</td>\n",
       "    </tr>\n",
       "    <tr>\n",
       "      <th>36</th>\n",
       "      <td>Month-to-month</td>\n",
       "      <td>Yes</td>\n",
       "      <td>Electronic check</td>\n",
       "      <td>69.70</td>\n",
       "      <td>557.60</td>\n",
       "      <td>No</td>\n",
       "      <td>No</td>\n",
       "      <td>No</td>\n",
       "      <td>Fiber optic</td>\n",
       "      <td>No</td>\n",
       "      <td>No</td>\n",
       "      <td>No</td>\n",
       "      <td>No</td>\n",
       "      <td>No</td>\n",
       "      <td>No</td>\n",
       "      <td>No</td>\n",
       "      <td>245.0</td>\n",
       "      <td>0</td>\n",
       "    </tr>\n",
       "    <tr>\n",
       "      <th>37</th>\n",
       "      <td>Month-to-month</td>\n",
       "      <td>Yes</td>\n",
       "      <td>Credit card (automatic)</td>\n",
       "      <td>74.80</td>\n",
       "      <td>3440.80</td>\n",
       "      <td>No</td>\n",
       "      <td>No</td>\n",
       "      <td>No</td>\n",
       "      <td>Fiber optic</td>\n",
       "      <td>No</td>\n",
       "      <td>No</td>\n",
       "      <td>Yes</td>\n",
       "      <td>No</td>\n",
       "      <td>No</td>\n",
       "      <td>No</td>\n",
       "      <td>No</td>\n",
       "      <td>1401.0</td>\n",
       "      <td>0</td>\n",
       "    </tr>\n",
       "    <tr>\n",
       "      <th>38</th>\n",
       "      <td>Month-to-month</td>\n",
       "      <td>Yes</td>\n",
       "      <td>Electronic check</td>\n",
       "      <td>106.35</td>\n",
       "      <td>4211.46</td>\n",
       "      <td>No</td>\n",
       "      <td>No</td>\n",
       "      <td>No</td>\n",
       "      <td>Fiber optic</td>\n",
       "      <td>No</td>\n",
       "      <td>Yes</td>\n",
       "      <td>Yes</td>\n",
       "      <td>No</td>\n",
       "      <td>Yes</td>\n",
       "      <td>Yes</td>\n",
       "      <td>Yes</td>\n",
       "      <td>1095.0</td>\n",
       "      <td>0</td>\n",
       "    </tr>\n",
       "    <tr>\n",
       "      <th>39</th>\n",
       "      <td>Month-to-month</td>\n",
       "      <td>Yes</td>\n",
       "      <td>Bank transfer (automatic)</td>\n",
       "      <td>97.85</td>\n",
       "      <td>1369.90</td>\n",
       "      <td>No</td>\n",
       "      <td>No</td>\n",
       "      <td>No</td>\n",
       "      <td>Fiber optic</td>\n",
       "      <td>No</td>\n",
       "      <td>No</td>\n",
       "      <td>Yes</td>\n",
       "      <td>No</td>\n",
       "      <td>Yes</td>\n",
       "      <td>Yes</td>\n",
       "      <td>Yes</td>\n",
       "      <td>427.0</td>\n",
       "      <td>0</td>\n",
       "    </tr>\n",
       "  </tbody>\n",
       "</table>\n",
       "</div>"
      ],
      "text/plain": [
       "              Type PaperlessBilling              PaymentMethod  \\\n",
       "0   Month-to-month              Yes           Electronic check   \n",
       "1         One year               No               Mailed check   \n",
       "2   Month-to-month              Yes               Mailed check   \n",
       "3         One year               No  Bank transfer (automatic)   \n",
       "4   Month-to-month              Yes           Electronic check   \n",
       "5   Month-to-month              Yes           Electronic check   \n",
       "6   Month-to-month              Yes    Credit card (automatic)   \n",
       "7   Month-to-month               No               Mailed check   \n",
       "8   Month-to-month              Yes           Electronic check   \n",
       "9         One year               No  Bank transfer (automatic)   \n",
       "10  Month-to-month              Yes               Mailed check   \n",
       "11        Two year               No    Credit card (automatic)   \n",
       "12        One year               No    Credit card (automatic)   \n",
       "13  Month-to-month              Yes  Bank transfer (automatic)   \n",
       "14  Month-to-month              Yes           Electronic check   \n",
       "15        Two year               No    Credit card (automatic)   \n",
       "16        One year               No               Mailed check   \n",
       "17        Two year               No  Bank transfer (automatic)   \n",
       "18  Month-to-month               No    Credit card (automatic)   \n",
       "19  Month-to-month              Yes           Electronic check   \n",
       "20  Month-to-month              Yes           Electronic check   \n",
       "21        One year               No  Bank transfer (automatic)   \n",
       "22  Month-to-month               No               Mailed check   \n",
       "23        Two year              Yes    Credit card (automatic)   \n",
       "24  Month-to-month               No    Credit card (automatic)   \n",
       "25  Month-to-month              Yes  Bank transfer (automatic)   \n",
       "26  Month-to-month              Yes           Electronic check   \n",
       "27  Month-to-month               No           Electronic check   \n",
       "28        Two year              Yes    Credit card (automatic)   \n",
       "29  Month-to-month              Yes               Mailed check   \n",
       "30        Two year              Yes    Credit card (automatic)   \n",
       "31  Month-to-month              Yes    Credit card (automatic)   \n",
       "32        One year               No               Mailed check   \n",
       "33  Month-to-month               No  Bank transfer (automatic)   \n",
       "34  Month-to-month               No  Bank transfer (automatic)   \n",
       "35        Two year               No  Bank transfer (automatic)   \n",
       "36  Month-to-month              Yes           Electronic check   \n",
       "37  Month-to-month              Yes    Credit card (automatic)   \n",
       "38  Month-to-month              Yes           Electronic check   \n",
       "39  Month-to-month              Yes  Bank transfer (automatic)   \n",
       "\n",
       "    MonthlyCharges  TotalCharges SeniorCitizen Partner Dependents  \\\n",
       "0            29.85         31.04            No     Yes         No   \n",
       "1            56.95       2071.84            No      No         No   \n",
       "2            53.85        226.17            No      No         No   \n",
       "3            42.30       1960.60            No      No         No   \n",
       "4            70.70        353.50            No      No         No   \n",
       "5            99.65       1150.96            No      No         No   \n",
       "6            89.10       2058.21            No      No        Yes   \n",
       "7            29.75        300.48            No      No         No   \n",
       "8           104.80       3573.68            No     Yes         No   \n",
       "9            56.15       1628.35            No      No        Yes   \n",
       "10           49.95        649.35            No     Yes        Yes   \n",
       "11           18.95        312.30            No      No         No   \n",
       "12          100.35       6111.31            No     Yes         No   \n",
       "13          103.70       5496.10            No      No         No   \n",
       "14          105.50       2637.50            No      No         No   \n",
       "15          113.25       2491.50            No     Yes        Yes   \n",
       "16           20.65       1106.01            No      No         No   \n",
       "17          106.70       8257.51            No      No        Yes   \n",
       "18           55.20        789.36            No     Yes        Yes   \n",
       "19           90.05       1891.05            No      No         No   \n",
       "20           39.65        118.95           Yes      No         No   \n",
       "21           19.80        237.60            No     Yes         No   \n",
       "22           20.15         61.05            No      No         No   \n",
       "23           59.90       3821.62            No     Yes         No   \n",
       "24           59.60       3212.44            No     Yes        Yes   \n",
       "25           55.30        726.09            No      No         No   \n",
       "26           99.35       5215.88            No     Yes        Yes   \n",
       "27           30.20         96.04            No     Yes        Yes   \n",
       "28           90.25       6498.00            No     Yes         No   \n",
       "29           64.70       1294.00            No      No        Yes   \n",
       "30           96.35       5395.60           Yes     Yes         No   \n",
       "31           95.50        194.82           Yes     Yes         No   \n",
       "32           66.15       1928.93            No     Yes        Yes   \n",
       "33           20.20         22.22            No      No         No   \n",
       "34           45.25         45.25           Yes      No         No   \n",
       "35           99.90       5794.20            No     Yes        Yes   \n",
       "36           69.70        557.60            No      No         No   \n",
       "37           74.80       3440.80            No      No         No   \n",
       "38          106.35       4211.46            No      No         No   \n",
       "39           97.85       1369.90            No      No         No   \n",
       "\n",
       "   InternetService OnlineSecurity OnlineBackup DeviceProtection TechSupport  \\\n",
       "0              DSL             No          Yes               No          No   \n",
       "1              DSL            Yes           No              Yes          No   \n",
       "2              DSL            Yes          Yes               No          No   \n",
       "3              DSL            Yes           No              Yes         Yes   \n",
       "4      Fiber optic             No           No               No          No   \n",
       "5      Fiber optic             No           No              Yes          No   \n",
       "6      Fiber optic             No          Yes               No          No   \n",
       "7              DSL            Yes           No               No          No   \n",
       "8      Fiber optic             No           No              Yes         Yes   \n",
       "9              DSL            Yes          Yes               No          No   \n",
       "10             DSL            Yes           No               No          No   \n",
       "11              No             No           No               No          No   \n",
       "12     Fiber optic             No           No              Yes          No   \n",
       "13     Fiber optic             No          Yes              Yes          No   \n",
       "14     Fiber optic            Yes           No              Yes         Yes   \n",
       "15     Fiber optic            Yes          Yes              Yes         Yes   \n",
       "16              No             No           No               No          No   \n",
       "17     Fiber optic            Yes           No              Yes          No   \n",
       "18             DSL             No           No              Yes         Yes   \n",
       "19     Fiber optic             No          Yes              Yes          No   \n",
       "20             DSL             No           No              Yes          No   \n",
       "21              No             No           No               No          No   \n",
       "22              No             No           No               No          No   \n",
       "23             DSL             No          Yes               No         Yes   \n",
       "24             DSL            Yes          Yes               No         Yes   \n",
       "25             DSL            Yes          Yes               No          No   \n",
       "26     Fiber optic             No          Yes               No          No   \n",
       "27             DSL             No          Yes               No          No   \n",
       "28             DSL            Yes          Yes              Yes         Yes   \n",
       "29             DSL             No           No               No          No   \n",
       "30     Fiber optic            Yes          Yes              Yes         Yes   \n",
       "31     Fiber optic             No           No              Yes          No   \n",
       "32             DSL            Yes          Yes              Yes         Yes   \n",
       "33              No             No           No               No          No   \n",
       "34             DSL             No           No               No          No   \n",
       "35     Fiber optic            Yes          Yes               No         Yes   \n",
       "36     Fiber optic             No           No               No          No   \n",
       "37     Fiber optic             No           No              Yes          No   \n",
       "38     Fiber optic             No          Yes              Yes          No   \n",
       "39     Fiber optic             No           No              Yes          No   \n",
       "\n",
       "   StreamingTV StreamingMovies MultipleLines  ContractDuration EndDate  \n",
       "0           No              No            No              31.0       0  \n",
       "1           No              No            No            1036.0       0  \n",
       "2           No              No            No             123.0       0  \n",
       "3           No              No            No            1371.0       0  \n",
       "4           No              No            No             153.0       0  \n",
       "5          Yes             Yes           Yes             337.0       0  \n",
       "6          Yes              No           Yes             671.0       0  \n",
       "7           No              No            No             306.0       0  \n",
       "8          Yes             Yes           Yes             945.0       0  \n",
       "9           No              No            No             882.0       1  \n",
       "10          No              No            No             396.0       0  \n",
       "11          No              No            No             488.0       0  \n",
       "12         Yes             Yes           Yes            1767.0       0  \n",
       "13         Yes             Yes           Yes            1614.0       0  \n",
       "14         Yes             Yes            No             761.0       0  \n",
       "15         Yes             Yes           Yes             670.0       1  \n",
       "16          No              No            No            1584.0       0  \n",
       "17         Yes             Yes           Yes            2163.0       0  \n",
       "18          No              No            No             396.0       0  \n",
       "19          No             Yes            No             641.0       0  \n",
       "20          No             Yes            No              92.0       0  \n",
       "21          No              No            No             365.0       0  \n",
       "22          No              No            No              92.0       0  \n",
       "23          No              No           Yes            1767.0       0  \n",
       "24          No              No            No            1492.0       0  \n",
       "25          No              No            No             396.0       1  \n",
       "26         Yes             Yes           Yes            1523.0       0  \n",
       "27          No              No            No              92.0       0  \n",
       "28         Yes             Yes           Yes            2191.0       0  \n",
       "29         Yes             Yes            No             610.0       0  \n",
       "30          No              No           Yes            1706.0       1  \n",
       "31         Yes             Yes            No              62.0       0  \n",
       "32          No              No            No             822.0       0  \n",
       "33          No              No            No              31.0       0  \n",
       "34          No              No            No              31.0       0  \n",
       "35         Yes              No           Yes            1764.0       1  \n",
       "36          No              No            No             245.0       0  \n",
       "37          No              No            No            1401.0       0  \n",
       "38         Yes             Yes           Yes            1095.0       0  \n",
       "39         Yes             Yes           Yes             427.0       0  "
      ]
     },
     "execution_count": 20,
     "metadata": {},
     "output_type": "execute_result"
    }
   ],
   "source": [
    "df['EndDate'] = end_date_old\n",
    "#Исправляю столбец totalcharges\n",
    "\n",
    "#Исправляю столбец SeniorCitizen\n",
    "df['SeniorCitizen'] = df['SeniorCitizen'].replace(0,'No')\n",
    "df['SeniorCitizen'] = df['SeniorCitizen'].replace(1,'Yes')\n",
    "#Создаю целевой показатель\n",
    "df['EndDate'] = df['EndDate'].replace('No',0)\n",
    "df['EndDate'][df['EndDate'] != 0] = 1\n",
    "#df['EndDate'] = pd.to_numeric(df['EndDate'])\n",
    "df.head(40)"
   ]
  },
  {
   "cell_type": "code",
   "execution_count": 21,
   "metadata": {},
   "outputs": [
    {
     "name": "stdout",
     "output_type": "stream",
     "text": [
      "Клиентов ушло -  5942 Клиентов осталось -  1101\n"
     ]
    }
   ],
   "source": [
    "#Исследую классы\n",
    "print('Клиентов ушло - ',df['EndDate'][df['EndDate']==0].count(),'Клиентов осталось - ',df['EndDate'][df['EndDate']==1].count())"
   ]
  },
  {
   "cell_type": "markdown",
   "metadata": {},
   "source": [
    "Я хочу более обширную информацию о различии строк с положительным и отрицательным признаком"
   ]
  },
  {
   "cell_type": "code",
   "execution_count": 22,
   "metadata": {},
   "outputs": [
    {
     "data": {
      "text/html": [
       "<div>\n",
       "<style scoped>\n",
       "    .dataframe tbody tr th:only-of-type {\n",
       "        vertical-align: middle;\n",
       "    }\n",
       "\n",
       "    .dataframe tbody tr th {\n",
       "        vertical-align: top;\n",
       "    }\n",
       "\n",
       "    .dataframe thead th {\n",
       "        text-align: right;\n",
       "    }\n",
       "</style>\n",
       "<table border=\"1\" class=\"dataframe\">\n",
       "  <thead>\n",
       "    <tr style=\"text-align: right;\">\n",
       "      <th></th>\n",
       "      <th>Type</th>\n",
       "      <th>PaperlessBilling</th>\n",
       "      <th>PaymentMethod</th>\n",
       "      <th>MonthlyCharges</th>\n",
       "      <th>TotalCharges</th>\n",
       "      <th>SeniorCitizen</th>\n",
       "      <th>Partner</th>\n",
       "      <th>Dependents</th>\n",
       "      <th>InternetService</th>\n",
       "      <th>OnlineSecurity</th>\n",
       "      <th>OnlineBackup</th>\n",
       "      <th>DeviceProtection</th>\n",
       "      <th>TechSupport</th>\n",
       "      <th>StreamingTV</th>\n",
       "      <th>StreamingMovies</th>\n",
       "      <th>MultipleLines</th>\n",
       "      <th>ContractDuration</th>\n",
       "      <th>EndDate</th>\n",
       "    </tr>\n",
       "  </thead>\n",
       "  <tbody>\n",
       "    <tr>\n",
       "      <th>1936</th>\n",
       "      <td>One year</td>\n",
       "      <td>Yes</td>\n",
       "      <td>Bank transfer (automatic)</td>\n",
       "      <td>60.50</td>\n",
       "      <td>3363.20</td>\n",
       "      <td>No</td>\n",
       "      <td>Yes</td>\n",
       "      <td>No</td>\n",
       "      <td>DSL</td>\n",
       "      <td>Yes</td>\n",
       "      <td>Yes</td>\n",
       "      <td>No</td>\n",
       "      <td>Yes</td>\n",
       "      <td>No</td>\n",
       "      <td>No</td>\n",
       "      <td>No</td>\n",
       "      <td>1553.0</td>\n",
       "      <td>0</td>\n",
       "    </tr>\n",
       "    <tr>\n",
       "      <th>4809</th>\n",
       "      <td>Month-to-month</td>\n",
       "      <td>Yes</td>\n",
       "      <td>Bank transfer (automatic)</td>\n",
       "      <td>20.30</td>\n",
       "      <td>20.30</td>\n",
       "      <td>No</td>\n",
       "      <td>Yes</td>\n",
       "      <td>No</td>\n",
       "      <td>No</td>\n",
       "      <td>No</td>\n",
       "      <td>No</td>\n",
       "      <td>No</td>\n",
       "      <td>No</td>\n",
       "      <td>No</td>\n",
       "      <td>No</td>\n",
       "      <td>No</td>\n",
       "      <td>31.0</td>\n",
       "      <td>0</td>\n",
       "    </tr>\n",
       "    <tr>\n",
       "      <th>3632</th>\n",
       "      <td>Month-to-month</td>\n",
       "      <td>Yes</td>\n",
       "      <td>Mailed check</td>\n",
       "      <td>79.65</td>\n",
       "      <td>2026.30</td>\n",
       "      <td>No</td>\n",
       "      <td>Yes</td>\n",
       "      <td>No</td>\n",
       "      <td>Fiber optic</td>\n",
       "      <td>No</td>\n",
       "      <td>No</td>\n",
       "      <td>Yes</td>\n",
       "      <td>No</td>\n",
       "      <td>No</td>\n",
       "      <td>No</td>\n",
       "      <td>Yes</td>\n",
       "      <td>730.0</td>\n",
       "      <td>0</td>\n",
       "    </tr>\n",
       "    <tr>\n",
       "      <th>106</th>\n",
       "      <td>One year</td>\n",
       "      <td>Yes</td>\n",
       "      <td>Electronic check</td>\n",
       "      <td>104.15</td>\n",
       "      <td>7498.80</td>\n",
       "      <td>No</td>\n",
       "      <td>Yes</td>\n",
       "      <td>Yes</td>\n",
       "      <td>Fiber optic</td>\n",
       "      <td>Yes</td>\n",
       "      <td>Yes</td>\n",
       "      <td>No</td>\n",
       "      <td>No</td>\n",
       "      <td>Yes</td>\n",
       "      <td>Yes</td>\n",
       "      <td>Yes</td>\n",
       "      <td>2191.0</td>\n",
       "      <td>0</td>\n",
       "    </tr>\n",
       "    <tr>\n",
       "      <th>348</th>\n",
       "      <td>Month-to-month</td>\n",
       "      <td>Yes</td>\n",
       "      <td>Electronic check</td>\n",
       "      <td>44.95</td>\n",
       "      <td>1033.85</td>\n",
       "      <td>No</td>\n",
       "      <td>No</td>\n",
       "      <td>No</td>\n",
       "      <td>DSL</td>\n",
       "      <td>No</td>\n",
       "      <td>No</td>\n",
       "      <td>No</td>\n",
       "      <td>No</td>\n",
       "      <td>Yes</td>\n",
       "      <td>Yes</td>\n",
       "      <td>No</td>\n",
       "      <td>702.0</td>\n",
       "      <td>0</td>\n",
       "    </tr>\n",
       "  </tbody>\n",
       "</table>\n",
       "</div>"
      ],
      "text/plain": [
       "                Type PaperlessBilling              PaymentMethod  \\\n",
       "1936        One year              Yes  Bank transfer (automatic)   \n",
       "4809  Month-to-month              Yes  Bank transfer (automatic)   \n",
       "3632  Month-to-month              Yes               Mailed check   \n",
       "106         One year              Yes           Electronic check   \n",
       "348   Month-to-month              Yes           Electronic check   \n",
       "\n",
       "      MonthlyCharges  TotalCharges SeniorCitizen Partner Dependents  \\\n",
       "1936           60.50       3363.20            No     Yes         No   \n",
       "4809           20.30         20.30            No     Yes         No   \n",
       "3632           79.65       2026.30            No     Yes         No   \n",
       "106           104.15       7498.80            No     Yes        Yes   \n",
       "348            44.95       1033.85            No      No         No   \n",
       "\n",
       "     InternetService OnlineSecurity OnlineBackup DeviceProtection TechSupport  \\\n",
       "1936             DSL            Yes          Yes               No         Yes   \n",
       "4809              No             No           No               No          No   \n",
       "3632     Fiber optic             No           No              Yes          No   \n",
       "106      Fiber optic            Yes          Yes               No          No   \n",
       "348              DSL             No           No               No          No   \n",
       "\n",
       "     StreamingTV StreamingMovies MultipleLines  ContractDuration EndDate  \n",
       "1936          No              No            No            1553.0       0  \n",
       "4809          No              No            No              31.0       0  \n",
       "3632          No              No           Yes             730.0       0  \n",
       "106          Yes             Yes           Yes            2191.0       0  \n",
       "348          Yes             Yes            No             702.0       0  "
      ]
     },
     "metadata": {},
     "output_type": "display_data"
    },
    {
     "name": "stdout",
     "output_type": "stream",
     "text": [
      "<class 'pandas.core.frame.DataFrame'>\n",
      "Int64Index: 5942 entries, 0 to 7042\n",
      "Data columns (total 18 columns):\n",
      " #   Column            Non-Null Count  Dtype  \n",
      "---  ------            --------------  -----  \n",
      " 0   Type              5942 non-null   object \n",
      " 1   PaperlessBilling  5942 non-null   object \n",
      " 2   PaymentMethod     5942 non-null   object \n",
      " 3   MonthlyCharges    5942 non-null   float64\n",
      " 4   TotalCharges      5942 non-null   float64\n",
      " 5   SeniorCitizen     5942 non-null   object \n",
      " 6   Partner           5942 non-null   object \n",
      " 7   Dependents        5942 non-null   object \n",
      " 8   InternetService   5942 non-null   object \n",
      " 9   OnlineSecurity    5942 non-null   object \n",
      " 10  OnlineBackup      5942 non-null   object \n",
      " 11  DeviceProtection  5942 non-null   object \n",
      " 12  TechSupport       5942 non-null   object \n",
      " 13  StreamingTV       5942 non-null   object \n",
      " 14  StreamingMovies   5942 non-null   object \n",
      " 15  MultipleLines     5942 non-null   object \n",
      " 16  ContractDuration  5942 non-null   float64\n",
      " 17  EndDate           5942 non-null   object \n",
      "dtypes: float64(3), object(15)\n",
      "memory usage: 882.0+ KB\n"
     ]
    },
    {
     "data": {
      "text/plain": [
       "None"
      ]
     },
     "metadata": {},
     "output_type": "display_data"
    },
    {
     "data": {
      "text/html": [
       "<div>\n",
       "<style scoped>\n",
       "    .dataframe tbody tr th:only-of-type {\n",
       "        vertical-align: middle;\n",
       "    }\n",
       "\n",
       "    .dataframe tbody tr th {\n",
       "        vertical-align: top;\n",
       "    }\n",
       "\n",
       "    .dataframe thead th {\n",
       "        text-align: right;\n",
       "    }\n",
       "</style>\n",
       "<table border=\"1\" class=\"dataframe\">\n",
       "  <thead>\n",
       "    <tr style=\"text-align: right;\">\n",
       "      <th></th>\n",
       "      <th>Type</th>\n",
       "      <th>PaperlessBilling</th>\n",
       "      <th>PaymentMethod</th>\n",
       "      <th>MonthlyCharges</th>\n",
       "      <th>TotalCharges</th>\n",
       "      <th>SeniorCitizen</th>\n",
       "      <th>Partner</th>\n",
       "      <th>Dependents</th>\n",
       "      <th>InternetService</th>\n",
       "      <th>OnlineSecurity</th>\n",
       "      <th>OnlineBackup</th>\n",
       "      <th>DeviceProtection</th>\n",
       "      <th>TechSupport</th>\n",
       "      <th>StreamingTV</th>\n",
       "      <th>StreamingMovies</th>\n",
       "      <th>MultipleLines</th>\n",
       "      <th>ContractDuration</th>\n",
       "      <th>EndDate</th>\n",
       "    </tr>\n",
       "  </thead>\n",
       "  <tbody>\n",
       "    <tr>\n",
       "      <th>count</th>\n",
       "      <td>5942</td>\n",
       "      <td>5942</td>\n",
       "      <td>5942</td>\n",
       "      <td>5942.000000</td>\n",
       "      <td>5942.000000</td>\n",
       "      <td>5942</td>\n",
       "      <td>5942</td>\n",
       "      <td>5942</td>\n",
       "      <td>5942</td>\n",
       "      <td>5942</td>\n",
       "      <td>5942</td>\n",
       "      <td>5942</td>\n",
       "      <td>5942</td>\n",
       "      <td>5942</td>\n",
       "      <td>5942</td>\n",
       "      <td>5942</td>\n",
       "      <td>5942.000000</td>\n",
       "      <td>5942.0</td>\n",
       "    </tr>\n",
       "    <tr>\n",
       "      <th>unique</th>\n",
       "      <td>3</td>\n",
       "      <td>2</td>\n",
       "      <td>4</td>\n",
       "      <td>NaN</td>\n",
       "      <td>NaN</td>\n",
       "      <td>2</td>\n",
       "      <td>2</td>\n",
       "      <td>2</td>\n",
       "      <td>3</td>\n",
       "      <td>2</td>\n",
       "      <td>2</td>\n",
       "      <td>2</td>\n",
       "      <td>2</td>\n",
       "      <td>2</td>\n",
       "      <td>2</td>\n",
       "      <td>2</td>\n",
       "      <td>NaN</td>\n",
       "      <td>1.0</td>\n",
       "    </tr>\n",
       "    <tr>\n",
       "      <th>top</th>\n",
       "      <td>Month-to-month</td>\n",
       "      <td>Yes</td>\n",
       "      <td>Electronic check</td>\n",
       "      <td>NaN</td>\n",
       "      <td>NaN</td>\n",
       "      <td>No</td>\n",
       "      <td>No</td>\n",
       "      <td>No</td>\n",
       "      <td>Fiber optic</td>\n",
       "      <td>No</td>\n",
       "      <td>No</td>\n",
       "      <td>No</td>\n",
       "      <td>No</td>\n",
       "      <td>No</td>\n",
       "      <td>No</td>\n",
       "      <td>No</td>\n",
       "      <td>NaN</td>\n",
       "      <td>0.0</td>\n",
       "    </tr>\n",
       "    <tr>\n",
       "      <th>freq</th>\n",
       "      <td>3468</td>\n",
       "      <td>3450</td>\n",
       "      <td>2015</td>\n",
       "      <td>NaN</td>\n",
       "      <td>NaN</td>\n",
       "      <td>5032</td>\n",
       "      <td>3259</td>\n",
       "      <td>4200</td>\n",
       "      <td>2501</td>\n",
       "      <td>4338</td>\n",
       "      <td>4073</td>\n",
       "      <td>4070</td>\n",
       "      <td>4296</td>\n",
       "      <td>3819</td>\n",
       "      <td>3816</td>\n",
       "      <td>3649</td>\n",
       "      <td>NaN</td>\n",
       "      <td>5942.0</td>\n",
       "    </tr>\n",
       "    <tr>\n",
       "      <th>mean</th>\n",
       "      <td>NaN</td>\n",
       "      <td>NaN</td>\n",
       "      <td>NaN</td>\n",
       "      <td>62.763455</td>\n",
       "      <td>2067.866420</td>\n",
       "      <td>NaN</td>\n",
       "      <td>NaN</td>\n",
       "      <td>NaN</td>\n",
       "      <td>NaN</td>\n",
       "      <td>NaN</td>\n",
       "      <td>NaN</td>\n",
       "      <td>NaN</td>\n",
       "      <td>NaN</td>\n",
       "      <td>NaN</td>\n",
       "      <td>NaN</td>\n",
       "      <td>NaN</td>\n",
       "      <td>893.681084</td>\n",
       "      <td>NaN</td>\n",
       "    </tr>\n",
       "    <tr>\n",
       "      <th>std</th>\n",
       "      <td>NaN</td>\n",
       "      <td>NaN</td>\n",
       "      <td>NaN</td>\n",
       "      <td>29.844462</td>\n",
       "      <td>2193.898483</td>\n",
       "      <td>NaN</td>\n",
       "      <td>NaN</td>\n",
       "      <td>NaN</td>\n",
       "      <td>NaN</td>\n",
       "      <td>NaN</td>\n",
       "      <td>NaN</td>\n",
       "      <td>NaN</td>\n",
       "      <td>NaN</td>\n",
       "      <td>NaN</td>\n",
       "      <td>NaN</td>\n",
       "      <td>NaN</td>\n",
       "      <td>716.958551</td>\n",
       "      <td>NaN</td>\n",
       "    </tr>\n",
       "    <tr>\n",
       "      <th>min</th>\n",
       "      <td>NaN</td>\n",
       "      <td>NaN</td>\n",
       "      <td>NaN</td>\n",
       "      <td>18.250000</td>\n",
       "      <td>0.000000</td>\n",
       "      <td>NaN</td>\n",
       "      <td>NaN</td>\n",
       "      <td>NaN</td>\n",
       "      <td>NaN</td>\n",
       "      <td>NaN</td>\n",
       "      <td>NaN</td>\n",
       "      <td>NaN</td>\n",
       "      <td>NaN</td>\n",
       "      <td>NaN</td>\n",
       "      <td>NaN</td>\n",
       "      <td>NaN</td>\n",
       "      <td>0.000000</td>\n",
       "      <td>NaN</td>\n",
       "    </tr>\n",
       "    <tr>\n",
       "      <th>25%</th>\n",
       "      <td>NaN</td>\n",
       "      <td>NaN</td>\n",
       "      <td>NaN</td>\n",
       "      <td>30.062500</td>\n",
       "      <td>374.352500</td>\n",
       "      <td>NaN</td>\n",
       "      <td>NaN</td>\n",
       "      <td>NaN</td>\n",
       "      <td>NaN</td>\n",
       "      <td>NaN</td>\n",
       "      <td>NaN</td>\n",
       "      <td>NaN</td>\n",
       "      <td>NaN</td>\n",
       "      <td>NaN</td>\n",
       "      <td>NaN</td>\n",
       "      <td>NaN</td>\n",
       "      <td>245.000000</td>\n",
       "      <td>NaN</td>\n",
       "    </tr>\n",
       "    <tr>\n",
       "      <th>50%</th>\n",
       "      <td>NaN</td>\n",
       "      <td>NaN</td>\n",
       "      <td>NaN</td>\n",
       "      <td>69.200000</td>\n",
       "      <td>1192.800000</td>\n",
       "      <td>NaN</td>\n",
       "      <td>NaN</td>\n",
       "      <td>NaN</td>\n",
       "      <td>NaN</td>\n",
       "      <td>NaN</td>\n",
       "      <td>NaN</td>\n",
       "      <td>NaN</td>\n",
       "      <td>NaN</td>\n",
       "      <td>NaN</td>\n",
       "      <td>NaN</td>\n",
       "      <td>NaN</td>\n",
       "      <td>702.000000</td>\n",
       "      <td>NaN</td>\n",
       "    </tr>\n",
       "    <tr>\n",
       "      <th>75%</th>\n",
       "      <td>NaN</td>\n",
       "      <td>NaN</td>\n",
       "      <td>NaN</td>\n",
       "      <td>87.237500</td>\n",
       "      <td>3173.837500</td>\n",
       "      <td>NaN</td>\n",
       "      <td>NaN</td>\n",
       "      <td>NaN</td>\n",
       "      <td>NaN</td>\n",
       "      <td>NaN</td>\n",
       "      <td>NaN</td>\n",
       "      <td>NaN</td>\n",
       "      <td>NaN</td>\n",
       "      <td>NaN</td>\n",
       "      <td>NaN</td>\n",
       "      <td>NaN</td>\n",
       "      <td>1523.000000</td>\n",
       "      <td>NaN</td>\n",
       "    </tr>\n",
       "    <tr>\n",
       "      <th>max</th>\n",
       "      <td>NaN</td>\n",
       "      <td>NaN</td>\n",
       "      <td>NaN</td>\n",
       "      <td>118.600000</td>\n",
       "      <td>9221.380000</td>\n",
       "      <td>NaN</td>\n",
       "      <td>NaN</td>\n",
       "      <td>NaN</td>\n",
       "      <td>NaN</td>\n",
       "      <td>NaN</td>\n",
       "      <td>NaN</td>\n",
       "      <td>NaN</td>\n",
       "      <td>NaN</td>\n",
       "      <td>NaN</td>\n",
       "      <td>NaN</td>\n",
       "      <td>NaN</td>\n",
       "      <td>2314.000000</td>\n",
       "      <td>NaN</td>\n",
       "    </tr>\n",
       "  </tbody>\n",
       "</table>\n",
       "</div>"
      ],
      "text/plain": [
       "                  Type PaperlessBilling     PaymentMethod  MonthlyCharges  \\\n",
       "count             5942             5942              5942     5942.000000   \n",
       "unique               3                2                 4             NaN   \n",
       "top     Month-to-month              Yes  Electronic check             NaN   \n",
       "freq              3468             3450              2015             NaN   \n",
       "mean               NaN              NaN               NaN       62.763455   \n",
       "std                NaN              NaN               NaN       29.844462   \n",
       "min                NaN              NaN               NaN       18.250000   \n",
       "25%                NaN              NaN               NaN       30.062500   \n",
       "50%                NaN              NaN               NaN       69.200000   \n",
       "75%                NaN              NaN               NaN       87.237500   \n",
       "max                NaN              NaN               NaN      118.600000   \n",
       "\n",
       "        TotalCharges SeniorCitizen Partner Dependents InternetService  \\\n",
       "count    5942.000000          5942    5942       5942            5942   \n",
       "unique           NaN             2       2          2               3   \n",
       "top              NaN            No      No         No     Fiber optic   \n",
       "freq             NaN          5032    3259       4200            2501   \n",
       "mean     2067.866420           NaN     NaN        NaN             NaN   \n",
       "std      2193.898483           NaN     NaN        NaN             NaN   \n",
       "min         0.000000           NaN     NaN        NaN             NaN   \n",
       "25%       374.352500           NaN     NaN        NaN             NaN   \n",
       "50%      1192.800000           NaN     NaN        NaN             NaN   \n",
       "75%      3173.837500           NaN     NaN        NaN             NaN   \n",
       "max      9221.380000           NaN     NaN        NaN             NaN   \n",
       "\n",
       "       OnlineSecurity OnlineBackup DeviceProtection TechSupport StreamingTV  \\\n",
       "count            5942         5942             5942        5942        5942   \n",
       "unique              2            2                2           2           2   \n",
       "top                No           No               No          No          No   \n",
       "freq             4338         4073             4070        4296        3819   \n",
       "mean              NaN          NaN              NaN         NaN         NaN   \n",
       "std               NaN          NaN              NaN         NaN         NaN   \n",
       "min               NaN          NaN              NaN         NaN         NaN   \n",
       "25%               NaN          NaN              NaN         NaN         NaN   \n",
       "50%               NaN          NaN              NaN         NaN         NaN   \n",
       "75%               NaN          NaN              NaN         NaN         NaN   \n",
       "max               NaN          NaN              NaN         NaN         NaN   \n",
       "\n",
       "       StreamingMovies MultipleLines  ContractDuration  EndDate  \n",
       "count             5942          5942       5942.000000   5942.0  \n",
       "unique               2             2               NaN      1.0  \n",
       "top                 No            No               NaN      0.0  \n",
       "freq              3816          3649               NaN   5942.0  \n",
       "mean               NaN           NaN        893.681084      NaN  \n",
       "std                NaN           NaN        716.958551      NaN  \n",
       "min                NaN           NaN          0.000000      NaN  \n",
       "25%                NaN           NaN        245.000000      NaN  \n",
       "50%                NaN           NaN        702.000000      NaN  \n",
       "75%                NaN           NaN       1523.000000      NaN  \n",
       "max                NaN           NaN       2314.000000      NaN  "
      ]
     },
     "metadata": {},
     "output_type": "display_data"
    }
   ],
   "source": [
    "#Отрицательные строки\n",
    "get_data_info(df[df['EndDate']==0])"
   ]
  },
  {
   "cell_type": "code",
   "execution_count": 23,
   "metadata": {},
   "outputs": [
    {
     "data": {
      "text/html": [
       "<div>\n",
       "<style scoped>\n",
       "    .dataframe tbody tr th:only-of-type {\n",
       "        vertical-align: middle;\n",
       "    }\n",
       "\n",
       "    .dataframe tbody tr th {\n",
       "        vertical-align: top;\n",
       "    }\n",
       "\n",
       "    .dataframe thead th {\n",
       "        text-align: right;\n",
       "    }\n",
       "</style>\n",
       "<table border=\"1\" class=\"dataframe\">\n",
       "  <thead>\n",
       "    <tr style=\"text-align: right;\">\n",
       "      <th></th>\n",
       "      <th>Type</th>\n",
       "      <th>PaperlessBilling</th>\n",
       "      <th>PaymentMethod</th>\n",
       "      <th>MonthlyCharges</th>\n",
       "      <th>TotalCharges</th>\n",
       "      <th>SeniorCitizen</th>\n",
       "      <th>Partner</th>\n",
       "      <th>Dependents</th>\n",
       "      <th>InternetService</th>\n",
       "      <th>OnlineSecurity</th>\n",
       "      <th>OnlineBackup</th>\n",
       "      <th>DeviceProtection</th>\n",
       "      <th>TechSupport</th>\n",
       "      <th>StreamingTV</th>\n",
       "      <th>StreamingMovies</th>\n",
       "      <th>MultipleLines</th>\n",
       "      <th>ContractDuration</th>\n",
       "      <th>EndDate</th>\n",
       "    </tr>\n",
       "  </thead>\n",
       "  <tbody>\n",
       "    <tr>\n",
       "      <th>3977</th>\n",
       "      <td>Two year</td>\n",
       "      <td>Yes</td>\n",
       "      <td>Credit card (automatic)</td>\n",
       "      <td>110.10</td>\n",
       "      <td>3523.20</td>\n",
       "      <td>No</td>\n",
       "      <td>Yes</td>\n",
       "      <td>No</td>\n",
       "      <td>Fiber optic</td>\n",
       "      <td>Yes</td>\n",
       "      <td>Yes</td>\n",
       "      <td>Yes</td>\n",
       "      <td>Yes</td>\n",
       "      <td>Yes</td>\n",
       "      <td>Yes</td>\n",
       "      <td>No</td>\n",
       "      <td>973.0</td>\n",
       "      <td>1</td>\n",
       "    </tr>\n",
       "    <tr>\n",
       "      <th>407</th>\n",
       "      <td>Month-to-month</td>\n",
       "      <td>Yes</td>\n",
       "      <td>Mailed check</td>\n",
       "      <td>93.95</td>\n",
       "      <td>1879.00</td>\n",
       "      <td>Yes</td>\n",
       "      <td>Yes</td>\n",
       "      <td>Yes</td>\n",
       "      <td>Fiber optic</td>\n",
       "      <td>No</td>\n",
       "      <td>Yes</td>\n",
       "      <td>No</td>\n",
       "      <td>No</td>\n",
       "      <td>Yes</td>\n",
       "      <td>Yes</td>\n",
       "      <td>No</td>\n",
       "      <td>610.0</td>\n",
       "      <td>1</td>\n",
       "    </tr>\n",
       "    <tr>\n",
       "      <th>3535</th>\n",
       "      <td>Two year</td>\n",
       "      <td>Yes</td>\n",
       "      <td>Credit card (automatic)</td>\n",
       "      <td>109.20</td>\n",
       "      <td>2339.06</td>\n",
       "      <td>No</td>\n",
       "      <td>Yes</td>\n",
       "      <td>Yes</td>\n",
       "      <td>Fiber optic</td>\n",
       "      <td>No</td>\n",
       "      <td>Yes</td>\n",
       "      <td>Yes</td>\n",
       "      <td>Yes</td>\n",
       "      <td>Yes</td>\n",
       "      <td>Yes</td>\n",
       "      <td>Yes</td>\n",
       "      <td>639.0</td>\n",
       "      <td>1</td>\n",
       "    </tr>\n",
       "    <tr>\n",
       "      <th>1949</th>\n",
       "      <td>Two year</td>\n",
       "      <td>No</td>\n",
       "      <td>Bank transfer (automatic)</td>\n",
       "      <td>104.60</td>\n",
       "      <td>5874.34</td>\n",
       "      <td>No</td>\n",
       "      <td>Yes</td>\n",
       "      <td>Yes</td>\n",
       "      <td>Fiber optic</td>\n",
       "      <td>Yes</td>\n",
       "      <td>No</td>\n",
       "      <td>No</td>\n",
       "      <td>Yes</td>\n",
       "      <td>Yes</td>\n",
       "      <td>Yes</td>\n",
       "      <td>Yes</td>\n",
       "      <td>1645.0</td>\n",
       "      <td>1</td>\n",
       "    </tr>\n",
       "    <tr>\n",
       "      <th>3405</th>\n",
       "      <td>Month-to-month</td>\n",
       "      <td>Yes</td>\n",
       "      <td>Bank transfer (automatic)</td>\n",
       "      <td>86.80</td>\n",
       "      <td>2517.20</td>\n",
       "      <td>No</td>\n",
       "      <td>Yes</td>\n",
       "      <td>Yes</td>\n",
       "      <td>Fiber optic</td>\n",
       "      <td>Yes</td>\n",
       "      <td>No</td>\n",
       "      <td>No</td>\n",
       "      <td>Yes</td>\n",
       "      <td>No</td>\n",
       "      <td>No</td>\n",
       "      <td>Yes</td>\n",
       "      <td>882.0</td>\n",
       "      <td>1</td>\n",
       "    </tr>\n",
       "  </tbody>\n",
       "</table>\n",
       "</div>"
      ],
      "text/plain": [
       "                Type PaperlessBilling              PaymentMethod  \\\n",
       "3977        Two year              Yes    Credit card (automatic)   \n",
       "407   Month-to-month              Yes               Mailed check   \n",
       "3535        Two year              Yes    Credit card (automatic)   \n",
       "1949        Two year               No  Bank transfer (automatic)   \n",
       "3405  Month-to-month              Yes  Bank transfer (automatic)   \n",
       "\n",
       "      MonthlyCharges  TotalCharges SeniorCitizen Partner Dependents  \\\n",
       "3977          110.10       3523.20            No     Yes         No   \n",
       "407            93.95       1879.00           Yes     Yes        Yes   \n",
       "3535          109.20       2339.06            No     Yes        Yes   \n",
       "1949          104.60       5874.34            No     Yes        Yes   \n",
       "3405           86.80       2517.20            No     Yes        Yes   \n",
       "\n",
       "     InternetService OnlineSecurity OnlineBackup DeviceProtection TechSupport  \\\n",
       "3977     Fiber optic            Yes          Yes              Yes         Yes   \n",
       "407      Fiber optic             No          Yes               No          No   \n",
       "3535     Fiber optic             No          Yes              Yes         Yes   \n",
       "1949     Fiber optic            Yes           No               No         Yes   \n",
       "3405     Fiber optic            Yes           No               No         Yes   \n",
       "\n",
       "     StreamingTV StreamingMovies MultipleLines  ContractDuration EndDate  \n",
       "3977         Yes             Yes            No             973.0       1  \n",
       "407          Yes             Yes            No             610.0       1  \n",
       "3535         Yes             Yes           Yes             639.0       1  \n",
       "1949         Yes             Yes           Yes            1645.0       1  \n",
       "3405          No              No           Yes             882.0       1  "
      ]
     },
     "metadata": {},
     "output_type": "display_data"
    },
    {
     "name": "stdout",
     "output_type": "stream",
     "text": [
      "<class 'pandas.core.frame.DataFrame'>\n",
      "Int64Index: 1101 entries, 9 to 7034\n",
      "Data columns (total 18 columns):\n",
      " #   Column            Non-Null Count  Dtype  \n",
      "---  ------            --------------  -----  \n",
      " 0   Type              1101 non-null   object \n",
      " 1   PaperlessBilling  1101 non-null   object \n",
      " 2   PaymentMethod     1101 non-null   object \n",
      " 3   MonthlyCharges    1101 non-null   float64\n",
      " 4   TotalCharges      1101 non-null   float64\n",
      " 5   SeniorCitizen     1101 non-null   object \n",
      " 6   Partner           1101 non-null   object \n",
      " 7   Dependents        1101 non-null   object \n",
      " 8   InternetService   1101 non-null   object \n",
      " 9   OnlineSecurity    1101 non-null   object \n",
      " 10  OnlineBackup      1101 non-null   object \n",
      " 11  DeviceProtection  1101 non-null   object \n",
      " 12  TechSupport       1101 non-null   object \n",
      " 13  StreamingTV       1101 non-null   object \n",
      " 14  StreamingMovies   1101 non-null   object \n",
      " 15  MultipleLines     1101 non-null   object \n",
      " 16  ContractDuration  1101 non-null   float64\n",
      " 17  EndDate           1101 non-null   object \n",
      "dtypes: float64(3), object(15)\n",
      "memory usage: 163.4+ KB\n"
     ]
    },
    {
     "data": {
      "text/plain": [
       "None"
      ]
     },
     "metadata": {},
     "output_type": "display_data"
    },
    {
     "data": {
      "text/html": [
       "<div>\n",
       "<style scoped>\n",
       "    .dataframe tbody tr th:only-of-type {\n",
       "        vertical-align: middle;\n",
       "    }\n",
       "\n",
       "    .dataframe tbody tr th {\n",
       "        vertical-align: top;\n",
       "    }\n",
       "\n",
       "    .dataframe thead th {\n",
       "        text-align: right;\n",
       "    }\n",
       "</style>\n",
       "<table border=\"1\" class=\"dataframe\">\n",
       "  <thead>\n",
       "    <tr style=\"text-align: right;\">\n",
       "      <th></th>\n",
       "      <th>Type</th>\n",
       "      <th>PaperlessBilling</th>\n",
       "      <th>PaymentMethod</th>\n",
       "      <th>MonthlyCharges</th>\n",
       "      <th>TotalCharges</th>\n",
       "      <th>SeniorCitizen</th>\n",
       "      <th>Partner</th>\n",
       "      <th>Dependents</th>\n",
       "      <th>InternetService</th>\n",
       "      <th>OnlineSecurity</th>\n",
       "      <th>OnlineBackup</th>\n",
       "      <th>DeviceProtection</th>\n",
       "      <th>TechSupport</th>\n",
       "      <th>StreamingTV</th>\n",
       "      <th>StreamingMovies</th>\n",
       "      <th>MultipleLines</th>\n",
       "      <th>ContractDuration</th>\n",
       "      <th>EndDate</th>\n",
       "    </tr>\n",
       "  </thead>\n",
       "  <tbody>\n",
       "    <tr>\n",
       "      <th>count</th>\n",
       "      <td>1101</td>\n",
       "      <td>1101</td>\n",
       "      <td>1101</td>\n",
       "      <td>1101.000000</td>\n",
       "      <td>1101.000000</td>\n",
       "      <td>1101</td>\n",
       "      <td>1101</td>\n",
       "      <td>1101</td>\n",
       "      <td>1101</td>\n",
       "      <td>1101</td>\n",
       "      <td>1101</td>\n",
       "      <td>1101</td>\n",
       "      <td>1101</td>\n",
       "      <td>1101</td>\n",
       "      <td>1101</td>\n",
       "      <td>1101</td>\n",
       "      <td>1101.000000</td>\n",
       "      <td>1101.0</td>\n",
       "    </tr>\n",
       "    <tr>\n",
       "      <th>unique</th>\n",
       "      <td>3</td>\n",
       "      <td>2</td>\n",
       "      <td>4</td>\n",
       "      <td>NaN</td>\n",
       "      <td>NaN</td>\n",
       "      <td>2</td>\n",
       "      <td>2</td>\n",
       "      <td>2</td>\n",
       "      <td>3</td>\n",
       "      <td>2</td>\n",
       "      <td>2</td>\n",
       "      <td>2</td>\n",
       "      <td>2</td>\n",
       "      <td>2</td>\n",
       "      <td>2</td>\n",
       "      <td>2</td>\n",
       "      <td>NaN</td>\n",
       "      <td>1.0</td>\n",
       "    </tr>\n",
       "    <tr>\n",
       "      <th>top</th>\n",
       "      <td>Month-to-month</td>\n",
       "      <td>Yes</td>\n",
       "      <td>Electronic check</td>\n",
       "      <td>NaN</td>\n",
       "      <td>NaN</td>\n",
       "      <td>No</td>\n",
       "      <td>Yes</td>\n",
       "      <td>No</td>\n",
       "      <td>Fiber optic</td>\n",
       "      <td>No</td>\n",
       "      <td>Yes</td>\n",
       "      <td>No</td>\n",
       "      <td>No</td>\n",
       "      <td>Yes</td>\n",
       "      <td>Yes</td>\n",
       "      <td>Yes</td>\n",
       "      <td>NaN</td>\n",
       "      <td>1.0</td>\n",
       "    </tr>\n",
       "    <tr>\n",
       "      <th>freq</th>\n",
       "      <td>407</td>\n",
       "      <td>721</td>\n",
       "      <td>350</td>\n",
       "      <td>NaN</td>\n",
       "      <td>NaN</td>\n",
       "      <td>869</td>\n",
       "      <td>719</td>\n",
       "      <td>733</td>\n",
       "      <td>595</td>\n",
       "      <td>686</td>\n",
       "      <td>560</td>\n",
       "      <td>551</td>\n",
       "      <td>703</td>\n",
       "      <td>584</td>\n",
       "      <td>606</td>\n",
       "      <td>678</td>\n",
       "      <td>NaN</td>\n",
       "      <td>1101.0</td>\n",
       "    </tr>\n",
       "    <tr>\n",
       "      <th>mean</th>\n",
       "      <td>NaN</td>\n",
       "      <td>NaN</td>\n",
       "      <td>NaN</td>\n",
       "      <td>75.546004</td>\n",
       "      <td>2371.377275</td>\n",
       "      <td>NaN</td>\n",
       "      <td>NaN</td>\n",
       "      <td>NaN</td>\n",
       "      <td>NaN</td>\n",
       "      <td>NaN</td>\n",
       "      <td>NaN</td>\n",
       "      <td>NaN</td>\n",
       "      <td>NaN</td>\n",
       "      <td>NaN</td>\n",
       "      <td>NaN</td>\n",
       "      <td>NaN</td>\n",
       "      <td>924.863760</td>\n",
       "      <td>NaN</td>\n",
       "    </tr>\n",
       "    <tr>\n",
       "      <th>std</th>\n",
       "      <td>NaN</td>\n",
       "      <td>NaN</td>\n",
       "      <td>NaN</td>\n",
       "      <td>29.116213</td>\n",
       "      <td>1581.862275</td>\n",
       "      <td>NaN</td>\n",
       "      <td>NaN</td>\n",
       "      <td>NaN</td>\n",
       "      <td>NaN</td>\n",
       "      <td>NaN</td>\n",
       "      <td>NaN</td>\n",
       "      <td>NaN</td>\n",
       "      <td>NaN</td>\n",
       "      <td>NaN</td>\n",
       "      <td>NaN</td>\n",
       "      <td>NaN</td>\n",
       "      <td>458.771309</td>\n",
       "      <td>NaN</td>\n",
       "    </tr>\n",
       "    <tr>\n",
       "      <th>min</th>\n",
       "      <td>NaN</td>\n",
       "      <td>NaN</td>\n",
       "      <td>NaN</td>\n",
       "      <td>18.400000</td>\n",
       "      <td>77.840000</td>\n",
       "      <td>NaN</td>\n",
       "      <td>NaN</td>\n",
       "      <td>NaN</td>\n",
       "      <td>NaN</td>\n",
       "      <td>NaN</td>\n",
       "      <td>NaN</td>\n",
       "      <td>NaN</td>\n",
       "      <td>NaN</td>\n",
       "      <td>NaN</td>\n",
       "      <td>NaN</td>\n",
       "      <td>NaN</td>\n",
       "      <td>28.000000</td>\n",
       "      <td>NaN</td>\n",
       "    </tr>\n",
       "    <tr>\n",
       "      <th>25%</th>\n",
       "      <td>NaN</td>\n",
       "      <td>NaN</td>\n",
       "      <td>NaN</td>\n",
       "      <td>56.150000</td>\n",
       "      <td>1048.050000</td>\n",
       "      <td>NaN</td>\n",
       "      <td>NaN</td>\n",
       "      <td>NaN</td>\n",
       "      <td>NaN</td>\n",
       "      <td>NaN</td>\n",
       "      <td>NaN</td>\n",
       "      <td>NaN</td>\n",
       "      <td>NaN</td>\n",
       "      <td>NaN</td>\n",
       "      <td>NaN</td>\n",
       "      <td>NaN</td>\n",
       "      <td>577.000000</td>\n",
       "      <td>NaN</td>\n",
       "    </tr>\n",
       "    <tr>\n",
       "      <th>50%</th>\n",
       "      <td>NaN</td>\n",
       "      <td>NaN</td>\n",
       "      <td>NaN</td>\n",
       "      <td>84.200000</td>\n",
       "      <td>2139.030000</td>\n",
       "      <td>NaN</td>\n",
       "      <td>NaN</td>\n",
       "      <td>NaN</td>\n",
       "      <td>NaN</td>\n",
       "      <td>NaN</td>\n",
       "      <td>NaN</td>\n",
       "      <td>NaN</td>\n",
       "      <td>NaN</td>\n",
       "      <td>NaN</td>\n",
       "      <td>NaN</td>\n",
       "      <td>NaN</td>\n",
       "      <td>915.000000</td>\n",
       "      <td>NaN</td>\n",
       "    </tr>\n",
       "    <tr>\n",
       "      <th>75%</th>\n",
       "      <td>NaN</td>\n",
       "      <td>NaN</td>\n",
       "      <td>NaN</td>\n",
       "      <td>99.500000</td>\n",
       "      <td>3404.910000</td>\n",
       "      <td>NaN</td>\n",
       "      <td>NaN</td>\n",
       "      <td>NaN</td>\n",
       "      <td>NaN</td>\n",
       "      <td>NaN</td>\n",
       "      <td>NaN</td>\n",
       "      <td>NaN</td>\n",
       "      <td>NaN</td>\n",
       "      <td>NaN</td>\n",
       "      <td>NaN</td>\n",
       "      <td>NaN</td>\n",
       "      <td>1249.000000</td>\n",
       "      <td>NaN</td>\n",
       "    </tr>\n",
       "    <tr>\n",
       "      <th>max</th>\n",
       "      <td>NaN</td>\n",
       "      <td>NaN</td>\n",
       "      <td>NaN</td>\n",
       "      <td>118.750000</td>\n",
       "      <td>7649.760000</td>\n",
       "      <td>NaN</td>\n",
       "      <td>NaN</td>\n",
       "      <td>NaN</td>\n",
       "      <td>NaN</td>\n",
       "      <td>NaN</td>\n",
       "      <td>NaN</td>\n",
       "      <td>NaN</td>\n",
       "      <td>NaN</td>\n",
       "      <td>NaN</td>\n",
       "      <td>NaN</td>\n",
       "      <td>NaN</td>\n",
       "      <td>2129.000000</td>\n",
       "      <td>NaN</td>\n",
       "    </tr>\n",
       "  </tbody>\n",
       "</table>\n",
       "</div>"
      ],
      "text/plain": [
       "                  Type PaperlessBilling     PaymentMethod  MonthlyCharges  \\\n",
       "count             1101             1101              1101     1101.000000   \n",
       "unique               3                2                 4             NaN   \n",
       "top     Month-to-month              Yes  Electronic check             NaN   \n",
       "freq               407              721               350             NaN   \n",
       "mean               NaN              NaN               NaN       75.546004   \n",
       "std                NaN              NaN               NaN       29.116213   \n",
       "min                NaN              NaN               NaN       18.400000   \n",
       "25%                NaN              NaN               NaN       56.150000   \n",
       "50%                NaN              NaN               NaN       84.200000   \n",
       "75%                NaN              NaN               NaN       99.500000   \n",
       "max                NaN              NaN               NaN      118.750000   \n",
       "\n",
       "        TotalCharges SeniorCitizen Partner Dependents InternetService  \\\n",
       "count    1101.000000          1101    1101       1101            1101   \n",
       "unique           NaN             2       2          2               3   \n",
       "top              NaN            No     Yes         No     Fiber optic   \n",
       "freq             NaN           869     719        733             595   \n",
       "mean     2371.377275           NaN     NaN        NaN             NaN   \n",
       "std      1581.862275           NaN     NaN        NaN             NaN   \n",
       "min        77.840000           NaN     NaN        NaN             NaN   \n",
       "25%      1048.050000           NaN     NaN        NaN             NaN   \n",
       "50%      2139.030000           NaN     NaN        NaN             NaN   \n",
       "75%      3404.910000           NaN     NaN        NaN             NaN   \n",
       "max      7649.760000           NaN     NaN        NaN             NaN   \n",
       "\n",
       "       OnlineSecurity OnlineBackup DeviceProtection TechSupport StreamingTV  \\\n",
       "count            1101         1101             1101        1101        1101   \n",
       "unique              2            2                2           2           2   \n",
       "top                No          Yes               No          No         Yes   \n",
       "freq              686          560              551         703         584   \n",
       "mean              NaN          NaN              NaN         NaN         NaN   \n",
       "std               NaN          NaN              NaN         NaN         NaN   \n",
       "min               NaN          NaN              NaN         NaN         NaN   \n",
       "25%               NaN          NaN              NaN         NaN         NaN   \n",
       "50%               NaN          NaN              NaN         NaN         NaN   \n",
       "75%               NaN          NaN              NaN         NaN         NaN   \n",
       "max               NaN          NaN              NaN         NaN         NaN   \n",
       "\n",
       "       StreamingMovies MultipleLines  ContractDuration  EndDate  \n",
       "count             1101          1101       1101.000000   1101.0  \n",
       "unique               2             2               NaN      1.0  \n",
       "top                Yes           Yes               NaN      1.0  \n",
       "freq               606           678               NaN   1101.0  \n",
       "mean               NaN           NaN        924.863760      NaN  \n",
       "std                NaN           NaN        458.771309      NaN  \n",
       "min                NaN           NaN         28.000000      NaN  \n",
       "25%                NaN           NaN        577.000000      NaN  \n",
       "50%                NaN           NaN        915.000000      NaN  \n",
       "75%                NaN           NaN       1249.000000      NaN  \n",
       "max                NaN           NaN       2129.000000      NaN  "
      ]
     },
     "metadata": {},
     "output_type": "display_data"
    }
   ],
   "source": [
    "#Положительные строки\n",
    "get_data_info(df[df['EndDate']==1])"
   ]
  },
  {
   "cell_type": "markdown",
   "metadata": {},
   "source": [
    "Найденные различия: Оставшиеся клиенты больше платят(примерно на 20%), и с большей вероятностью имеют партнёра и подключают доп услуги"
   ]
  },
  {
   "cell_type": "code",
   "execution_count": 24,
   "metadata": {},
   "outputs": [
    {
     "data": {
      "image/png": "[encoded data removed]",
      "text/plain": [
       "<Figure size 432x288 with 1 Axes>"
      ]
     },
     "metadata": {
      "needs_background": "light"
     },
     "output_type": "display_data"
    },
    {
     "data": {
      "image/png": "[encoded data removed]",
      "text/plain": [
       "<Figure size 432x288 with 1 Axes>"
      ]
     },
     "metadata": {
      "needs_background": "light"
     },
     "output_type": "display_data"
    },
    {
     "data": {
      "image/png": "[encoded data removed]",
      "text/plain": [
       "<Figure size 432x288 with 1 Axes>"
      ]
     },
     "metadata": {
      "needs_background": "light"
     },
     "output_type": "display_data"
    },
    {
     "data": {
      "image/png": "[encoded data removed]",
      "text/plain": [
       "<Figure size 432x288 with 1 Axes>"
      ]
     },
     "metadata": {
      "needs_background": "light"
     },
     "output_type": "display_data"
    },
    {
     "data": {
      "image/png": "[encoded data removed]",
      "text/plain": [
       "<Figure size 432x288 with 1 Axes>"
      ]
     },
     "metadata": {
      "needs_background": "light"
     },
     "output_type": "display_data"
    },
    {
     "data": {
      "image/png": "[encoded data removed]",
      "text/plain": [
       "<Figure size 432x288 with 1 Axes>"
      ]
     },
     "metadata": {
      "needs_background": "light"
     },
     "output_type": "display_data"
    },
    {
     "data": {
      "image/png": "[encoded data removed]",
      "text/plain": [
       "<Figure size 432x288 with 1 Axes>"
      ]
     },
     "metadata": {
      "needs_background": "light"
     },
     "output_type": "display_data"
    },
    {
     "data": {
      "image/png": "[encoded data removed]",
      "text/plain": [
       "<Figure size 432x288 with 1 Axes>"
      ]
     },
     "metadata": {
      "needs_background": "light"
     },
     "output_type": "display_data"
    },
    {
     "data": {
      "image/png": "[encoded data removed]",
      "text/plain": [
       "<Figure size 432x288 with 1 Axes>"
      ]
     },
     "metadata": {
      "needs_background": "light"
     },
     "output_type": "display_data"
    },
    {
     "data": {
      "image/png": "[encoded data removed]",
      "text/plain": [
       "<Figure size 432x288 with 1 Axes>"
      ]
     },
     "metadata": {
      "needs_background": "light"
     },
     "output_type": "display_data"
    },
    {
     "data": {
      "image/png": "[encoded data removed]",
      "text/plain": [
       "<Figure size 432x288 with 1 Axes>"
      ]
     },
     "metadata": {
      "needs_background": "light"
     },
     "output_type": "display_data"
    },
    {
     "data": {
      "image/png": "[encoded data removed]",
      "text/plain": [
       "<Figure size 432x288 with 1 Axes>"
      ]
     },
     "metadata": {
      "needs_background": "light"
     },
     "output_type": "display_data"
    },
    {
     "data": {
      "image/png": "[encoded data removed]",
      "text/plain": [
       "<Figure size 432x288 with 1 Axes>"
      ]
     },
     "metadata": {
      "needs_background": "light"
     },
     "output_type": "display_data"
    },
    {
     "data": {
      "image/png": "[encoded data removed]",
      "text/plain": [
       "<Figure size 432x288 with 1 Axes>"
      ]
     },
     "metadata": {
      "needs_background": "light"
     },
     "output_type": "display_data"
    },
    {
     "data": {
      "image/png": "[encoded data removed]",
      "text/plain": [
       "<Figure size 432x288 with 1 Axes>"
      ]
     },
     "metadata": {
      "needs_background": "light"
     },
     "output_type": "display_data"
    },
    {
     "data": {
      "image/png": "[encoded data removed]",
      "text/plain": [
       "<Figure size 432x288 with 1 Axes>"
      ]
     },
     "metadata": {
      "needs_background": "light"
     },
     "output_type": "display_data"
    },
    {
     "data": {
      "image/png": "[encoded data removed]",
      "text/plain": [
       "<Figure size 432x288 with 1 Axes>"
      ]
     },
     "metadata": {
      "needs_background": "light"
     },
     "output_type": "display_data"
    },
    {
     "data": {
      "image/png": "[encoded data removed]",
      "text/plain": [
       "<Figure size 432x288 with 1 Axes>"
      ]
     },
     "metadata": {
      "needs_background": "light"
     },
     "output_type": "display_data"
    }
   ],
   "source": [
    "for col in df.columns:\n",
    "    plt.hist(df[col])\n",
    "    plt.xlabel(col)\n",
    "    plt.show()"
   ]
  },
  {
   "cell_type": "code",
   "execution_count": 25,
   "metadata": {},
   "outputs": [
    {
     "data": {
      "text/html": [
       "<div>\n",
       "<style scoped>\n",
       "    .dataframe tbody tr th:only-of-type {\n",
       "        vertical-align: middle;\n",
       "    }\n",
       "\n",
       "    .dataframe tbody tr th {\n",
       "        vertical-align: top;\n",
       "    }\n",
       "\n",
       "    .dataframe thead th {\n",
       "        text-align: right;\n",
       "    }\n",
       "</style>\n",
       "<table border=\"1\" class=\"dataframe\">\n",
       "  <thead>\n",
       "    <tr style=\"text-align: right;\">\n",
       "      <th></th>\n",
       "      <th>Type</th>\n",
       "      <th>PaperlessBilling</th>\n",
       "      <th>PaymentMethod</th>\n",
       "      <th>SeniorCitizen</th>\n",
       "      <th>Partner</th>\n",
       "      <th>Dependents</th>\n",
       "      <th>InternetService</th>\n",
       "      <th>OnlineSecurity</th>\n",
       "      <th>OnlineBackup</th>\n",
       "      <th>DeviceProtection</th>\n",
       "      <th>TechSupport</th>\n",
       "      <th>StreamingTV</th>\n",
       "      <th>StreamingMovies</th>\n",
       "      <th>MultipleLines</th>\n",
       "      <th>EndDate</th>\n",
       "    </tr>\n",
       "  </thead>\n",
       "  <tbody>\n",
       "    <tr>\n",
       "      <th>Type</th>\n",
       "      <td>1.000000</td>\n",
       "      <td>0.177645</td>\n",
       "      <td>0.266655</td>\n",
       "      <td>0.143868</td>\n",
       "      <td>0.296039</td>\n",
       "      <td>0.244212</td>\n",
       "      <td>0.206921</td>\n",
       "      <td>0.251459</td>\n",
       "      <td>0.164591</td>\n",
       "      <td>0.227840</td>\n",
       "      <td>0.296463</td>\n",
       "      <td>0.112316</td>\n",
       "      <td>0.116646</td>\n",
       "      <td>0.109925</td>\n",
       "      <td>0.156616</td>\n",
       "    </tr>\n",
       "    <tr>\n",
       "      <th>PaperlessBilling</th>\n",
       "      <td>0.177645</td>\n",
       "      <td>1.000000</td>\n",
       "      <td>0.248719</td>\n",
       "      <td>0.156530</td>\n",
       "      <td>0.014877</td>\n",
       "      <td>0.111377</td>\n",
       "      <td>0.378427</td>\n",
       "      <td>0.003636</td>\n",
       "      <td>0.126735</td>\n",
       "      <td>0.103797</td>\n",
       "      <td>0.037880</td>\n",
       "      <td>0.223841</td>\n",
       "      <td>0.211716</td>\n",
       "      <td>0.163530</td>\n",
       "      <td>0.054869</td>\n",
       "    </tr>\n",
       "    <tr>\n",
       "      <th>PaymentMethod</th>\n",
       "      <td>0.266655</td>\n",
       "      <td>0.248719</td>\n",
       "      <td>1.000000</td>\n",
       "      <td>0.195985</td>\n",
       "      <td>0.162762</td>\n",
       "      <td>0.150744</td>\n",
       "      <td>0.313123</td>\n",
       "      <td>0.176022</td>\n",
       "      <td>0.189107</td>\n",
       "      <td>0.205498</td>\n",
       "      <td>0.182162</td>\n",
       "      <td>0.253325</td>\n",
       "      <td>0.254491</td>\n",
       "      <td>0.227446</td>\n",
       "      <td>0.144079</td>\n",
       "    </tr>\n",
       "    <tr>\n",
       "      <th>SeniorCitizen</th>\n",
       "      <td>0.143868</td>\n",
       "      <td>0.156530</td>\n",
       "      <td>0.195985</td>\n",
       "      <td>1.000000</td>\n",
       "      <td>0.016479</td>\n",
       "      <td>0.211185</td>\n",
       "      <td>0.265324</td>\n",
       "      <td>0.038653</td>\n",
       "      <td>0.066572</td>\n",
       "      <td>0.059428</td>\n",
       "      <td>0.060625</td>\n",
       "      <td>0.105378</td>\n",
       "      <td>0.120176</td>\n",
       "      <td>0.142948</td>\n",
       "      <td>0.056724</td>\n",
       "    </tr>\n",
       "    <tr>\n",
       "      <th>Partner</th>\n",
       "      <td>0.296039</td>\n",
       "      <td>0.014877</td>\n",
       "      <td>0.162762</td>\n",
       "      <td>0.016479</td>\n",
       "      <td>1.000000</td>\n",
       "      <td>0.452676</td>\n",
       "      <td>0.000907</td>\n",
       "      <td>0.143106</td>\n",
       "      <td>0.141498</td>\n",
       "      <td>0.153786</td>\n",
       "      <td>0.119999</td>\n",
       "      <td>0.124666</td>\n",
       "      <td>0.117412</td>\n",
       "      <td>0.142057</td>\n",
       "      <td>0.146447</td>\n",
       "    </tr>\n",
       "    <tr>\n",
       "      <th>Dependents</th>\n",
       "      <td>0.244212</td>\n",
       "      <td>0.111377</td>\n",
       "      <td>0.150744</td>\n",
       "      <td>0.211185</td>\n",
       "      <td>0.452676</td>\n",
       "      <td>1.000000</td>\n",
       "      <td>0.180267</td>\n",
       "      <td>0.080972</td>\n",
       "      <td>0.023671</td>\n",
       "      <td>0.013963</td>\n",
       "      <td>0.063268</td>\n",
       "      <td>0.016558</td>\n",
       "      <td>0.039741</td>\n",
       "      <td>0.024526</td>\n",
       "      <td>0.032564</td>\n",
       "    </tr>\n",
       "    <tr>\n",
       "      <th>InternetService</th>\n",
       "      <td>0.206921</td>\n",
       "      <td>0.378427</td>\n",
       "      <td>0.313123</td>\n",
       "      <td>0.265324</td>\n",
       "      <td>0.000907</td>\n",
       "      <td>0.180267</td>\n",
       "      <td>1.000000</td>\n",
       "      <td>0.394126</td>\n",
       "      <td>0.381838</td>\n",
       "      <td>0.380757</td>\n",
       "      <td>0.391367</td>\n",
       "      <td>0.442979</td>\n",
       "      <td>0.442924</td>\n",
       "      <td>0.368870</td>\n",
       "      <td>0.095433</td>\n",
       "    </tr>\n",
       "    <tr>\n",
       "      <th>OnlineSecurity</th>\n",
       "      <td>0.251459</td>\n",
       "      <td>0.003636</td>\n",
       "      <td>0.176022</td>\n",
       "      <td>0.038653</td>\n",
       "      <td>0.143106</td>\n",
       "      <td>0.080972</td>\n",
       "      <td>0.394126</td>\n",
       "      <td>1.000000</td>\n",
       "      <td>0.283832</td>\n",
       "      <td>0.275438</td>\n",
       "      <td>0.354931</td>\n",
       "      <td>0.176207</td>\n",
       "      <td>0.187398</td>\n",
       "      <td>0.098108</td>\n",
       "      <td>0.085921</td>\n",
       "    </tr>\n",
       "    <tr>\n",
       "      <th>OnlineBackup</th>\n",
       "      <td>0.164591</td>\n",
       "      <td>0.126735</td>\n",
       "      <td>0.189107</td>\n",
       "      <td>0.066572</td>\n",
       "      <td>0.141498</td>\n",
       "      <td>0.023671</td>\n",
       "      <td>0.381838</td>\n",
       "      <td>0.283832</td>\n",
       "      <td>1.000000</td>\n",
       "      <td>0.303546</td>\n",
       "      <td>0.294233</td>\n",
       "      <td>0.282106</td>\n",
       "      <td>0.274501</td>\n",
       "      <td>0.202237</td>\n",
       "      <td>0.148288</td>\n",
       "    </tr>\n",
       "    <tr>\n",
       "      <th>DeviceProtection</th>\n",
       "      <td>0.227840</td>\n",
       "      <td>0.103797</td>\n",
       "      <td>0.205498</td>\n",
       "      <td>0.059428</td>\n",
       "      <td>0.153786</td>\n",
       "      <td>0.013963</td>\n",
       "      <td>0.380757</td>\n",
       "      <td>0.275438</td>\n",
       "      <td>0.303546</td>\n",
       "      <td>1.000000</td>\n",
       "      <td>0.333313</td>\n",
       "      <td>0.390874</td>\n",
       "      <td>0.402111</td>\n",
       "      <td>0.201137</td>\n",
       "      <td>0.141059</td>\n",
       "    </tr>\n",
       "    <tr>\n",
       "      <th>TechSupport</th>\n",
       "      <td>0.296463</td>\n",
       "      <td>0.037880</td>\n",
       "      <td>0.182162</td>\n",
       "      <td>0.060625</td>\n",
       "      <td>0.119999</td>\n",
       "      <td>0.063268</td>\n",
       "      <td>0.391367</td>\n",
       "      <td>0.354931</td>\n",
       "      <td>0.294233</td>\n",
       "      <td>0.333313</td>\n",
       "      <td>1.000000</td>\n",
       "      <td>0.278070</td>\n",
       "      <td>0.279358</td>\n",
       "      <td>0.100571</td>\n",
       "      <td>0.067596</td>\n",
       "    </tr>\n",
       "    <tr>\n",
       "      <th>StreamingTV</th>\n",
       "      <td>0.112316</td>\n",
       "      <td>0.223841</td>\n",
       "      <td>0.253325</td>\n",
       "      <td>0.105378</td>\n",
       "      <td>0.124666</td>\n",
       "      <td>0.016558</td>\n",
       "      <td>0.442979</td>\n",
       "      <td>0.176207</td>\n",
       "      <td>0.282106</td>\n",
       "      <td>0.390874</td>\n",
       "      <td>0.278070</td>\n",
       "      <td>1.000000</td>\n",
       "      <td>0.533094</td>\n",
       "      <td>0.257152</td>\n",
       "      <td>0.129261</td>\n",
       "    </tr>\n",
       "    <tr>\n",
       "      <th>StreamingMovies</th>\n",
       "      <td>0.116646</td>\n",
       "      <td>0.211716</td>\n",
       "      <td>0.254491</td>\n",
       "      <td>0.120176</td>\n",
       "      <td>0.117412</td>\n",
       "      <td>0.039741</td>\n",
       "      <td>0.442924</td>\n",
       "      <td>0.187398</td>\n",
       "      <td>0.274501</td>\n",
       "      <td>0.402111</td>\n",
       "      <td>0.279358</td>\n",
       "      <td>0.533094</td>\n",
       "      <td>1.000000</td>\n",
       "      <td>0.258751</td>\n",
       "      <td>0.143557</td>\n",
       "    </tr>\n",
       "    <tr>\n",
       "      <th>MultipleLines</th>\n",
       "      <td>0.109925</td>\n",
       "      <td>0.163530</td>\n",
       "      <td>0.227446</td>\n",
       "      <td>0.142948</td>\n",
       "      <td>0.142057</td>\n",
       "      <td>0.024526</td>\n",
       "      <td>0.368870</td>\n",
       "      <td>0.098108</td>\n",
       "      <td>0.202237</td>\n",
       "      <td>0.201137</td>\n",
       "      <td>0.100571</td>\n",
       "      <td>0.257152</td>\n",
       "      <td>0.258751</td>\n",
       "      <td>1.000000</td>\n",
       "      <td>0.169066</td>\n",
       "    </tr>\n",
       "    <tr>\n",
       "      <th>EndDate</th>\n",
       "      <td>0.156616</td>\n",
       "      <td>0.054869</td>\n",
       "      <td>0.144079</td>\n",
       "      <td>0.056724</td>\n",
       "      <td>0.146447</td>\n",
       "      <td>0.032564</td>\n",
       "      <td>0.095433</td>\n",
       "      <td>0.085921</td>\n",
       "      <td>0.148288</td>\n",
       "      <td>0.141059</td>\n",
       "      <td>0.067596</td>\n",
       "      <td>0.129261</td>\n",
       "      <td>0.143557</td>\n",
       "      <td>0.169066</td>\n",
       "      <td>1.000000</td>\n",
       "    </tr>\n",
       "  </tbody>\n",
       "</table>\n",
       "</div>"
      ],
      "text/plain": [
       "                      Type  PaperlessBilling  PaymentMethod  SeniorCitizen  \\\n",
       "Type              1.000000          0.177645       0.266655       0.143868   \n",
       "PaperlessBilling  0.177645          1.000000       0.248719       0.156530   \n",
       "PaymentMethod     0.266655          0.248719       1.000000       0.195985   \n",
       "SeniorCitizen     0.143868          0.156530       0.195985       1.000000   \n",
       "Partner           0.296039          0.014877       0.162762       0.016479   \n",
       "Dependents        0.244212          0.111377       0.150744       0.211185   \n",
       "InternetService   0.206921          0.378427       0.313123       0.265324   \n",
       "OnlineSecurity    0.251459          0.003636       0.176022       0.038653   \n",
       "OnlineBackup      0.164591          0.126735       0.189107       0.066572   \n",
       "DeviceProtection  0.227840          0.103797       0.205498       0.059428   \n",
       "TechSupport       0.296463          0.037880       0.182162       0.060625   \n",
       "StreamingTV       0.112316          0.223841       0.253325       0.105378   \n",
       "StreamingMovies   0.116646          0.211716       0.254491       0.120176   \n",
       "MultipleLines     0.109925          0.163530       0.227446       0.142948   \n",
       "EndDate           0.156616          0.054869       0.144079       0.056724   \n",
       "\n",
       "                   Partner  Dependents  InternetService  OnlineSecurity  \\\n",
       "Type              0.296039    0.244212         0.206921        0.251459   \n",
       "PaperlessBilling  0.014877    0.111377         0.378427        0.003636   \n",
       "PaymentMethod     0.162762    0.150744         0.313123        0.176022   \n",
       "SeniorCitizen     0.016479    0.211185         0.265324        0.038653   \n",
       "Partner           1.000000    0.452676         0.000907        0.143106   \n",
       "Dependents        0.452676    1.000000         0.180267        0.080972   \n",
       "InternetService   0.000907    0.180267         1.000000        0.394126   \n",
       "OnlineSecurity    0.143106    0.080972         0.394126        1.000000   \n",
       "OnlineBackup      0.141498    0.023671         0.381838        0.283832   \n",
       "DeviceProtection  0.153786    0.013963         0.380757        0.275438   \n",
       "TechSupport       0.119999    0.063268         0.391367        0.354931   \n",
       "StreamingTV       0.124666    0.016558         0.442979        0.176207   \n",
       "StreamingMovies   0.117412    0.039741         0.442924        0.187398   \n",
       "MultipleLines     0.142057    0.024526         0.368870        0.098108   \n",
       "EndDate           0.146447    0.032564         0.095433        0.085921   \n",
       "\n",
       "                  OnlineBackup  DeviceProtection  TechSupport  StreamingTV  \\\n",
       "Type                  0.164591          0.227840     0.296463     0.112316   \n",
       "PaperlessBilling      0.126735          0.103797     0.037880     0.223841   \n",
       "PaymentMethod         0.189107          0.205498     0.182162     0.253325   \n",
       "SeniorCitizen         0.066572          0.059428     0.060625     0.105378   \n",
       "Partner               0.141498          0.153786     0.119999     0.124666   \n",
       "Dependents            0.023671          0.013963     0.063268     0.016558   \n",
       "InternetService       0.381838          0.380757     0.391367     0.442979   \n",
       "OnlineSecurity        0.283832          0.275438     0.354931     0.176207   \n",
       "OnlineBackup          1.000000          0.303546     0.294233     0.282106   \n",
       "DeviceProtection      0.303546          1.000000     0.333313     0.390874   \n",
       "TechSupport           0.294233          0.333313     1.000000     0.278070   \n",
       "StreamingTV           0.282106          0.390874     0.278070     1.000000   \n",
       "StreamingMovies       0.274501          0.402111     0.279358     0.533094   \n",
       "MultipleLines         0.202237          0.201137     0.100571     0.257152   \n",
       "EndDate               0.148288          0.141059     0.067596     0.129261   \n",
       "\n",
       "                  StreamingMovies  MultipleLines   EndDate  \n",
       "Type                     0.116646       0.109925  0.156616  \n",
       "PaperlessBilling         0.211716       0.163530  0.054869  \n",
       "PaymentMethod            0.254491       0.227446  0.144079  \n",
       "SeniorCitizen            0.120176       0.142948  0.056724  \n",
       "Partner                  0.117412       0.142057  0.146447  \n",
       "Dependents               0.039741       0.024526  0.032564  \n",
       "InternetService          0.442924       0.368870  0.095433  \n",
       "OnlineSecurity           0.187398       0.098108  0.085921  \n",
       "OnlineBackup             0.274501       0.202237  0.148288  \n",
       "DeviceProtection         0.402111       0.201137  0.141059  \n",
       "TechSupport              0.279358       0.100571  0.067596  \n",
       "StreamingTV              0.533094       0.257152  0.129261  \n",
       "StreamingMovies          1.000000       0.258751  0.143557  \n",
       "MultipleLines            0.258751       1.000000  0.169066  \n",
       "EndDate                  0.143557       0.169066  1.000000  "
      ]
     },
     "execution_count": 25,
     "metadata": {},
     "output_type": "execute_result"
    }
   ],
   "source": [
    "#Исследую корреляцию. Другим способом\n",
    "df = df.apply(\n",
    "        lambda x: x.astype(\"category\") if x.dtype == \"O\" else x)\n",
    "cramersv = am.CramersV(df) \n",
    "cramersv.fit()"
   ]
  },
  {
   "cell_type": "markdown",
   "metadata": {},
   "source": [
    "Тут есть признаки, имеют которые слишком сильную корреляцию с друг другом или же, слишком низкую корреляцию с целевым показателем, их необходимо удалить"
   ]
  },
  {
   "cell_type": "code",
   "execution_count": 26,
   "metadata": {},
   "outputs": [],
   "source": [
    "df = df.drop(['Dependents'],axis = 1)\n",
    "df = df.drop(['TechSupport'],axis = 1)\n",
    "df = df.drop(['PaymentMethod'],axis = 1)\n",
    "df = df.drop(['StreamingMovies'],axis = 1)\n",
    "df = df.drop(['OnlineSecurity'],axis = 1)\n",
    "df = df.drop(['InternetService'],axis = 1)\n",
    "df = df.drop(['SeniorCitizen'],axis = 1)"
   ]
  },
  {
   "cell_type": "markdown",
   "metadata": {},
   "source": [
    "## Создание модели"
   ]
  },
  {
   "cell_type": "code",
   "execution_count": 27,
   "metadata": {},
   "outputs": [],
   "source": [
    "#Разделяю данные\n",
    "target = df['EndDate']\n",
    "features = df.drop(['EndDate'], axis = 1)\n",
    "train_features, test_features, train_target, test_target = train_test_split(features, target, test_size = 0.25, random_state = RANDOM_STATE)"
   ]
  },
  {
   "cell_type": "code",
   "execution_count": 28,
   "metadata": {},
   "outputs": [],
   "source": [
    "#Произвожу трансформацию\n",
    "ohe_train_features = train_features.select_dtypes(include='category').columns.to_list()\n",
    "num_features = train_features.select_dtypes(exclude='category').columns.to_list()\n",
    "\n",
    "encoder_ohe = OneHotEncoder(drop = 'first', handle_unknown='ignore', sparse=False)\n",
    "train_features_e = train_features.copy()\n",
    "train_target = train_target.copy()\n",
    "encoder_ohe.fit(train_features_e[ohe_train_features])\n",
    "train_features_e[\n",
    "    encoder_ohe.get_feature_names()\n",
    "] = encoder_ohe.transform(train_features_e[ohe_train_features])\n",
    "train_features_e = train_features_e.drop(ohe_train_features, axis=1)\n",
    "\n",
    "\n",
    "scaler = StandardScaler()\n",
    "train_features_e[num_features] = scaler.fit_transform(train_features_e[num_features])\n"
   ]
  },
  {
   "cell_type": "code",
   "execution_count": 29,
   "metadata": {},
   "outputs": [
    {
     "name": "stdout",
     "output_type": "stream",
     "text": [
      "best_score: 0.7872251075214824\n",
      "best_params: {'criterion': 'entropy', 'max_depth': 6}\n"
     ]
    }
   ],
   "source": [
    "#Тестирую древо\n",
    "model_tree = DecisionTreeClassifier(random_state = RANDOM_STATE)\n",
    "param_grid_tree = {\n",
    "    'criterion':['gini','entropy'],\n",
    "    'max_depth':[4,5,6,7,8,9,10,11,12,15,20,30,40,50,70,90,120,150]}\n",
    "gs_tree = GridSearchCV(\n",
    "    model_tree, \n",
    "    param_grid=param_grid_tree, \n",
    "    scoring='roc_auc', \n",
    "    n_jobs=-1\n",
    ")\n",
    "gs_tree.fit(train_features_e, train_target)\n",
    "\n",
    "print(f'best_score: {gs_tree.best_score_}')\n",
    "print(f'best_params: {gs_tree.best_params_}')"
   ]
  },
  {
   "cell_type": "code",
   "execution_count": 30,
   "metadata": {},
   "outputs": [
    {
     "name": "stdout",
     "output_type": "stream",
     "text": [
      "best_score: 0.8174837295685444\n",
      "best_params: {'max_depth': 10, 'n_estimators': 128}\n"
     ]
    }
   ],
   "source": [
    "#Тестирую лес\n",
    "model_forest = RandomForestClassifier(random_state=RANDOM_STATE)\n",
    "\n",
    "param_grid_forest = [\n",
    "    {'max_depth':[None,2,5,10,20], 'n_estimators':[64, 128, 256]}\n",
    "]\n",
    "\n",
    "gs_forest = GridSearchCV(\n",
    "    model_forest, \n",
    "    param_grid=param_grid_forest, \n",
    "    scoring='roc_auc', \n",
    "    n_jobs=-1\n",
    ")\n",
    "\n",
    "gs_forest.fit(train_features_e, train_target)\n",
    "\n",
    "\n",
    "print(f'best_score: {gs_forest.best_score_}')\n",
    "print(f'best_params: {gs_forest.best_params_}')"
   ]
  },
  {
   "cell_type": "code",
   "execution_count": 31,
   "metadata": {},
   "outputs": [
    {
     "name": "stdout",
     "output_type": "stream",
     "text": [
      "best_score: 0.7543300102835269\n",
      "best_params: {'C': 1, 'penalty': 'l2'}\n"
     ]
    }
   ],
   "source": [
    "# тестирую лог.регрессию\n",
    "model_log = LogisticRegression(random_state=RANDOM_STATE)\n",
    "\n",
    "\n",
    "param_grid_log = [{'penalty':['l1','l2','none'], \n",
    "              'C':[0.001, 0.01, 0.1, 1, 10, 100]}]\n",
    "\n",
    "gs_log = GridSearchCV(\n",
    "    model_log, \n",
    "    param_grid=param_grid_log, \n",
    "    scoring='roc_auc', \n",
    "    n_jobs=-1\n",
    ")\n",
    "\n",
    "gs_log.fit(train_features_e, train_target)\n",
    "\n",
    "\n",
    "print(f'best_score: {gs_log.best_score_ }')\n",
    "print(f'best_params: {gs_log.best_params_}')"
   ]
  },
  {
   "cell_type": "code",
   "execution_count": 32,
   "metadata": {},
   "outputs": [
    {
     "name": "stdout",
     "output_type": "stream",
     "text": [
      "best_score: 0.9159261329834134\n",
      "best_params: {'depth': 3, 'learning_rate': 0.2}\n"
     ]
    }
   ],
   "source": [
    "# тестирую catboost\n",
    "model_cboost = CatBoostClassifier(random_state = RANDOM_STATE,logging_level='Silent')\n",
    "param_grid_cboost = {'depth':[3,1,6,4,5,7],\n",
    "          'learning_rate':[0.01,0.1,0.2], \n",
    "                    }\n",
    "gs_cboost = GridSearchCV(\n",
    "    model_cboost, \n",
    "    param_grid=param_grid_cboost, \n",
    "    scoring='roc_auc', \n",
    "    n_jobs=-1\n",
    ")\n",
    "gs_cboost.fit(train_features_e, train_target)\n",
    "print(f'best_score: {gs_cboost.best_score_ }')\n",
    "print(f'best_params: {gs_cboost.best_params_}')"
   ]
  },
  {
   "cell_type": "markdown",
   "metadata": {},
   "source": [
    "Я сделал выбор, я буду проводить финальный тест на catboost"
   ]
  },
  {
   "cell_type": "markdown",
   "metadata": {},
   "source": [
    "## Финальный тест"
   ]
  },
  {
   "cell_type": "code",
   "execution_count": 33,
   "metadata": {},
   "outputs": [],
   "source": [
    "#Произвожу трансформацию тестовой выборки\n",
    "test_features[\n",
    "    encoder_ohe.get_feature_names()\n",
    "] = encoder_ohe.transform(test_features[ohe_train_features])\n",
    "\n",
    "test_features = test_features.drop(ohe_train_features, axis=1)\n",
    "\n",
    "# скелером, который обучен на ТРЕНИРОВОЧНОЙ ВЫБОРКЕ, масштабируем тестовую\n",
    "test_features[num_features] = scaler.transform(\n",
    "    test_features[num_features]\n",
    ")\n"
   ]
  },
  {
   "cell_type": "code",
   "execution_count": 40,
   "metadata": {},
   "outputs": [
    {
     "name": "stdout",
     "output_type": "stream",
     "text": [
      "auc-roc:  0.9371547965116279 accuracy: 0.8745031232254401\n"
     ]
    }
   ],
   "source": [
    "#Финальный тест\n",
    "model_cboost = CatBoostClassifier(random_state = RANDOM_STATE,logging_level='Silent',depth = 3, learning_rate =0.2)\n",
    "model_cboost.fit(train_features_e, train_target)\n",
    "predictions = model_cboost.predict(test_features)\n",
    "probs = model_cboost.predict_proba(test_features)\n",
    "print('auc-roc: ',roc_auc_score(test_target,probs[:, 1]),'accuracy:',model_log.score(test_features,test_target))"
   ]
  },
  {
   "cell_type": "code",
   "execution_count": 41,
   "metadata": {},
   "outputs": [
    {
     "name": "stdout",
     "output_type": "stream",
     "text": [
      "0.5\n"
     ]
    }
   ],
   "source": [
    "#Произвожу тест на адекватность\n",
    "dummy_model = DummyClassifier(random_state=RANDOM_STATE)\n",
    "dummy_model.fit(train_features_e, train_target)\n",
    "dummy_predictions = dummy_model.predict(test_features)\n",
    "print(roc_auc_score(test_target,dummy_predictions))"
   ]
  },
  {
   "cell_type": "markdown",
   "metadata": {},
   "source": [
    "Результат удовлетворительный"
   ]
  },
  {
   "cell_type": "code",
   "execution_count": 42,
   "metadata": {},
   "outputs": [
    {
     "data": {
      "image/png": "[encoded data removed]",
      "text/plain": [
       "<Figure size 432x288 with 1 Axes>"
      ]
     },
     "metadata": {
      "needs_background": "light"
     },
     "output_type": "display_data"
    }
   ],
   "source": [
    "#рисую\n",
    "fpr, tpr, threshold = metrics.roc_curve(test_target, probs[:, 1])\n",
    "roc_auc = metrics.auc(fpr, tpr)\n",
    "plt.title('Roc-кривая')\n",
    "plt.plot(fpr, tpr, 'b', label = 'AUC = %0.2f' % roc_auc)\n",
    "plt.legend(loc = 'lower right')\n",
    "plt.plot([0, 1], [0, 1],'r--')\n",
    "plt.xlim([0, 1])\n",
    "plt.ylim([0, 1])\n",
    "plt.ylabel('Доля истинно положительных предсказаний')\n",
    "plt.xlabel('Доля ложно положительных предсказаний')\n",
    "plt.show()"
   ]
  },
  {
   "cell_type": "code",
   "execution_count": 43,
   "metadata": {},
   "outputs": [
    {
     "name": "stdout",
     "output_type": "stream",
     "text": [
      "Матрица ошибок\n",
      " [[1485   20]\n",
      " [  76  180]]\n"
     ]
    }
   ],
   "source": [
    "print('Матрица ошибок\\n',confusion_matrix(test_target, predictions))"
   ]
  },
  {
   "cell_type": "code",
   "execution_count": 44,
   "metadata": {},
   "outputs": [
    {
     "name": "stdout",
     "output_type": "stream",
     "text": [
      "Распределение признаков, в зависимости от их важности\n"
     ]
    },
    {
     "data": {
      "text/html": [
       "\n",
       "    <style>\n",
       "    table.eli5-weights tr:hover {\n",
       "        filter: brightness(85%);\n",
       "    }\n",
       "</style>\n",
       "\n",
       "\n",
       "\n",
       "    \n",
       "\n",
       "    \n",
       "\n",
       "    \n",
       "\n",
       "    \n",
       "\n",
       "    \n",
       "\n",
       "    \n",
       "\n",
       "\n",
       "    \n",
       "\n",
       "    \n",
       "\n",
       "    \n",
       "\n",
       "    \n",
       "\n",
       "    \n",
       "\n",
       "    \n",
       "\n",
       "\n",
       "    \n",
       "\n",
       "    \n",
       "\n",
       "    \n",
       "\n",
       "    \n",
       "\n",
       "    \n",
       "        <table class=\"eli5-weights eli5-feature-importances\" style=\"border-collapse: collapse; border: none; margin-top: 0em; table-layout: auto;\">\n",
       "    <thead>\n",
       "    <tr style=\"border: none;\">\n",
       "        <th style=\"padding: 0 1em 0 0.5em; text-align: right; border: none;\">Weight</th>\n",
       "        <th style=\"padding: 0 0.5em 0 0.5em; text-align: left; border: none;\">Feature</th>\n",
       "    </tr>\n",
       "    </thead>\n",
       "    <tbody>\n",
       "    \n",
       "        <tr style=\"background-color: hsl(120, 100.00%, 80.00%); border: none;\">\n",
       "            <td style=\"padding: 0 1em 0 0.5em; text-align: right; border: none;\">\n",
       "                0.3094\n",
       "                \n",
       "                    &plusmn; 0.0219\n",
       "                \n",
       "            </td>\n",
       "            <td style=\"padding: 0 0.5em 0 0.5em; text-align: left; border: none;\">\n",
       "                ContractDuration\n",
       "            </td>\n",
       "        </tr>\n",
       "    \n",
       "        <tr style=\"background-color: hsl(120, 100.00%, 84.46%); border: none;\">\n",
       "            <td style=\"padding: 0 1em 0 0.5em; text-align: right; border: none;\">\n",
       "                0.2158\n",
       "                \n",
       "                    &plusmn; 0.0138\n",
       "                \n",
       "            </td>\n",
       "            <td style=\"padding: 0 0.5em 0 0.5em; text-align: left; border: none;\">\n",
       "                TotalCharges\n",
       "            </td>\n",
       "        </tr>\n",
       "    \n",
       "        <tr style=\"background-color: hsl(120, 100.00%, 97.23%); border: none;\">\n",
       "            <td style=\"padding: 0 1em 0 0.5em; text-align: right; border: none;\">\n",
       "                0.0184\n",
       "                \n",
       "                    &plusmn; 0.0041\n",
       "                \n",
       "            </td>\n",
       "            <td style=\"padding: 0 0.5em 0 0.5em; text-align: left; border: none;\">\n",
       "                x0_Two year\n",
       "            </td>\n",
       "        </tr>\n",
       "    \n",
       "        <tr style=\"background-color: hsl(120, 100.00%, 97.80%); border: none;\">\n",
       "            <td style=\"padding: 0 1em 0 0.5em; text-align: right; border: none;\">\n",
       "                0.0132\n",
       "                \n",
       "                    &plusmn; 0.0070\n",
       "                \n",
       "            </td>\n",
       "            <td style=\"padding: 0 0.5em 0 0.5em; text-align: left; border: none;\">\n",
       "                MonthlyCharges\n",
       "            </td>\n",
       "        </tr>\n",
       "    \n",
       "        <tr style=\"background-color: hsl(120, 100.00%, 98.78%); border: none;\">\n",
       "            <td style=\"padding: 0 1em 0 0.5em; text-align: right; border: none;\">\n",
       "                0.0057\n",
       "                \n",
       "                    &plusmn; 0.0023\n",
       "                \n",
       "            </td>\n",
       "            <td style=\"padding: 0 0.5em 0 0.5em; text-align: left; border: none;\">\n",
       "                x0_One year\n",
       "            </td>\n",
       "        </tr>\n",
       "    \n",
       "        <tr style=\"background-color: hsl(120, 100.00%, 99.38%); border: none;\">\n",
       "            <td style=\"padding: 0 1em 0 0.5em; text-align: right; border: none;\">\n",
       "                0.0022\n",
       "                \n",
       "                    &plusmn; 0.0017\n",
       "                \n",
       "            </td>\n",
       "            <td style=\"padding: 0 0.5em 0 0.5em; text-align: left; border: none;\">\n",
       "                x6_Yes\n",
       "            </td>\n",
       "        </tr>\n",
       "    \n",
       "        <tr style=\"background-color: hsl(120, 100.00%, 99.50%); border: none;\">\n",
       "            <td style=\"padding: 0 1em 0 0.5em; text-align: right; border: none;\">\n",
       "                0.0016\n",
       "                \n",
       "                    &plusmn; 0.0032\n",
       "                \n",
       "            </td>\n",
       "            <td style=\"padding: 0 0.5em 0 0.5em; text-align: left; border: none;\">\n",
       "                x3_Yes\n",
       "            </td>\n",
       "        </tr>\n",
       "    \n",
       "        <tr style=\"background-color: hsl(120, 100.00%, 99.61%); border: none;\">\n",
       "            <td style=\"padding: 0 1em 0 0.5em; text-align: right; border: none;\">\n",
       "                0.0011\n",
       "                \n",
       "                    &plusmn; 0.0010\n",
       "                \n",
       "            </td>\n",
       "            <td style=\"padding: 0 0.5em 0 0.5em; text-align: left; border: none;\">\n",
       "                x4_Yes\n",
       "            </td>\n",
       "        </tr>\n",
       "    \n",
       "        <tr style=\"background-color: hsl(120, 100.00%, 99.63%); border: none;\">\n",
       "            <td style=\"padding: 0 1em 0 0.5em; text-align: right; border: none;\">\n",
       "                0.0010\n",
       "                \n",
       "                    &plusmn; 0.0025\n",
       "                \n",
       "            </td>\n",
       "            <td style=\"padding: 0 0.5em 0 0.5em; text-align: left; border: none;\">\n",
       "                x2_Yes\n",
       "            </td>\n",
       "        </tr>\n",
       "    \n",
       "        <tr style=\"background-color: hsl(0, 100.00%, 99.76%); border: none;\">\n",
       "            <td style=\"padding: 0 1em 0 0.5em; text-align: right; border: none;\">\n",
       "                -0.0006\n",
       "                \n",
       "                    &plusmn; 0.0016\n",
       "                \n",
       "            </td>\n",
       "            <td style=\"padding: 0 0.5em 0 0.5em; text-align: left; border: none;\">\n",
       "                x5_Yes\n",
       "            </td>\n",
       "        </tr>\n",
       "    \n",
       "        <tr style=\"background-color: hsl(0, 100.00%, 99.50%); border: none;\">\n",
       "            <td style=\"padding: 0 1em 0 0.5em; text-align: right; border: none;\">\n",
       "                -0.0016\n",
       "                \n",
       "                    &plusmn; 0.0033\n",
       "                \n",
       "            </td>\n",
       "            <td style=\"padding: 0 0.5em 0 0.5em; text-align: left; border: none;\">\n",
       "                x1_Yes\n",
       "            </td>\n",
       "        </tr>\n",
       "    \n",
       "    \n",
       "    </tbody>\n",
       "</table>\n",
       "    \n",
       "\n",
       "    \n",
       "\n",
       "\n",
       "    \n",
       "\n",
       "    \n",
       "\n",
       "    \n",
       "\n",
       "    \n",
       "\n",
       "    \n",
       "\n",
       "    \n",
       "\n",
       "\n",
       "\n"
      ],
      "text/plain": [
       "<IPython.core.display.HTML object>"
      ]
     },
     "execution_count": 44,
     "metadata": {},
     "output_type": "execute_result"
    }
   ],
   "source": [
    "print('Распределение признаков, в зависимости от их важности')\n",
    "perm = PermutationImportance(model_cboost, random_state=RANDOM_STATE).fit(test_features, test_target)\n",
    "eli5.show_weights(perm, feature_names = test_features.columns.tolist())"
   ]
  },
  {
   "cell_type": "markdown",
   "metadata": {},
   "source": [
    "## Финальный вывод"
   ]
  },
  {
   "cell_type": "markdown",
   "metadata": {},
   "source": [
    "В данном выпускном проекте я создал модель, которая предсказывает уход клиента.\n",
    "Моя работа состояла из нескольких этапов:\n",
    "1. Провёл исследование столбцов, выявил связи и закономерности между ними\n",
    "2. Объединил четыре столбцов в один, и привёл его в формат, пригодный для обучения\n",
    "3. Протестировал 3 модели и по два гиперпараметра на каждую(А ещё бустинг хотел потестировать)\n",
    "4. Провёл финальное тестирование, и получил результат в 85 AUC-RUC и 95 accuracy, нарисовал auc-кривую, построил матрицу ошибок и график полезности признаков(я не знаю зачем) "
   ]
  },
  {
   "cell_type": "markdown",
   "metadata": {},
   "source": [
    "## Итоговый отчёт"
   ]
  },
  {
   "attachments": {
    "roc_auc.png": {
     "image/png": "[encoded data removed]"
    }
   },
   "cell_type": "markdown",
   "metadata": {},
   "source": [
    "Ключевые тезисы:\n",
    "1. Все части плана были исполнены.\n",
    "2. Фрагмент с исследовательским анализом данных оказался сложнее чем я расчитывал, ввиду непривычной мне структуры данных, которая заключаласть в четырёх изначальных датасетах, которые содержали большое количество признаков разных типов, форматов, и количеством строк\n",
    "3. Структура плана оказалась верной, каждая последующая часть цепляется за предыдущую, и вносит свой вклад в выполнение поставленой задачи. Первый и второй пункт можно объединить, но это не принципиально.\n",
    "4. Цель проекта я считаю выполненой: Я получил модель, которая предсказывает уход клиента и имеет показатель auc-roc в 0.94 \n",
    "\n",
    "В ходе проекта было использованно:\n",
    "1. Предобработка: Стандартная гисторграмма для изучения распределения, корреляция Краммера для получения корреляции категориальных признаков, Ohe encoder и standart scaler для кодировки и стандартизации соответсвенно, эти два компонента были использованны для приведения данных в формат, подходящий для обучения.\n",
    "2. Анализ моделей: тут я тестировал четыре модели: лог.регрессию, древо решений, рандомный лес и catboost.\n",
    "3. Финальный тест: dummy_classifier для теста на адекватность, matplotlib для иллюстрации roc-кривой и eli5 для изучения важности признаков.\n",
    "\n",
    "Также стоит отметить:\n",
    "1. Все части проекта необходимы для корректной работы финальной модели. Наиболее важной частью я считаю предобработку, тк она очень сильно влияет на точность предсказаний, и приводит данные в формат, пригодный для работы.\n",
    "2. Гиперпараметры модели catboost: {'depth': 3, 'learning_rate': 0.2, random_state = 120623}. При необходимости, возможно подключение допольнительных вычислительных мощностей для более обширного подбора.\n",
    "\n",
    "Трудности, с которыми я столкнулся: \n",
    "1. Предобработка данных и необходимость приведения большого количество самых разных столбцов к пригоднуму формату\n",
    "2. Подбор модели, во время которого мне приходилось много раз изменять параметры grid_search ради приемлимого времени обучения и точности\n",
    "\n",
    "Иллюстрации:\n",
    "Roc-кривая\n",
    "![roc_auc.png](attachment:roc_auc.png)\n",
    "\n"
   ]
  },
  {
   "attachments": {
    "Matrix.png": {
     "image/png": "[encoded data removed]"
    }
   },
   "cell_type": "markdown",
   "metadata": {},
   "source": [
    "Матрица ошибок\n",
    "\n",
    "![Матрица ошибок](attachment:Matrix.png)"
   ]
  }
 ],
 "metadata": {
  "ExecuteTimeLog": [
   {
    "duration": 1056,
    "start_time": "2023-06-17T12:21:26.620Z"
   },
   {
    "duration": 3,
    "start_time": "2023-06-17T12:21:50.002Z"
   },
   {
    "duration": 429,
    "start_time": "2023-06-17T12:21:59.792Z"
   },
   {
    "duration": 62,
    "start_time": "2023-06-17T12:22:09.494Z"
   },
   {
    "duration": 26,
    "start_time": "2023-06-17T12:28:08.152Z"
   },
   {
    "duration": 1169,
    "start_time": "2023-06-17T12:29:19.140Z"
   },
   {
    "duration": 3,
    "start_time": "2023-06-17T12:29:20.311Z"
   },
   {
    "duration": 119,
    "start_time": "2023-06-17T12:29:20.316Z"
   },
   {
    "duration": 118,
    "start_time": "2023-06-17T12:29:20.436Z"
   },
   {
    "duration": 26,
    "start_time": "2023-06-17T12:29:29.827Z"
   },
   {
    "duration": 41,
    "start_time": "2023-06-17T12:29:53.746Z"
   },
   {
    "duration": 35,
    "start_time": "2023-06-17T12:35:15.554Z"
   },
   {
    "duration": 1118,
    "start_time": "2023-06-17T12:36:27.005Z"
   },
   {
    "duration": 12,
    "start_time": "2023-06-17T12:36:28.125Z"
   },
   {
    "duration": 117,
    "start_time": "2023-06-17T12:36:28.147Z"
   },
   {
    "duration": 44,
    "start_time": "2023-06-17T12:36:28.266Z"
   },
   {
    "duration": 40,
    "start_time": "2023-06-17T12:36:54.981Z"
   },
   {
    "duration": 1116,
    "start_time": "2023-06-17T12:37:20.330Z"
   },
   {
    "duration": 4,
    "start_time": "2023-06-17T12:37:21.447Z"
   },
   {
    "duration": 116,
    "start_time": "2023-06-17T12:37:21.455Z"
   },
   {
    "duration": 39,
    "start_time": "2023-06-17T12:37:21.573Z"
   },
   {
    "duration": 1083,
    "start_time": "2023-06-17T12:37:30.693Z"
   },
   {
    "duration": 2,
    "start_time": "2023-06-17T12:37:31.778Z"
   },
   {
    "duration": 198,
    "start_time": "2023-06-17T12:37:31.782Z"
   },
   {
    "duration": 37,
    "start_time": "2023-06-17T12:37:31.982Z"
   },
   {
    "duration": 1101,
    "start_time": "2023-06-17T12:38:48.660Z"
   },
   {
    "duration": 3,
    "start_time": "2023-06-17T12:38:49.765Z"
   },
   {
    "duration": 136,
    "start_time": "2023-06-17T12:38:49.770Z"
   },
   {
    "duration": 53,
    "start_time": "2023-06-17T12:38:49.907Z"
   },
   {
    "duration": 1087,
    "start_time": "2023-06-17T12:39:19.757Z"
   },
   {
    "duration": 9,
    "start_time": "2023-06-17T12:39:20.847Z"
   },
   {
    "duration": 107,
    "start_time": "2023-06-17T12:39:20.858Z"
   },
   {
    "duration": 26,
    "start_time": "2023-06-17T12:39:20.967Z"
   },
   {
    "duration": 60,
    "start_time": "2023-06-17T12:39:25.648Z"
   },
   {
    "duration": 1084,
    "start_time": "2023-06-17T12:40:07.606Z"
   },
   {
    "duration": 3,
    "start_time": "2023-06-17T12:40:08.692Z"
   },
   {
    "duration": 105,
    "start_time": "2023-06-17T12:40:08.696Z"
   },
   {
    "duration": 68,
    "start_time": "2023-06-17T12:40:08.803Z"
   },
   {
    "duration": 42,
    "start_time": "2023-06-17T12:40:24.712Z"
   },
   {
    "duration": 101,
    "start_time": "2023-06-17T12:40:39.393Z"
   },
   {
    "duration": 623,
    "start_time": "2023-06-17T12:50:42.537Z"
   },
   {
    "duration": 1159,
    "start_time": "2023-06-17T13:20:34.265Z"
   },
   {
    "duration": 2,
    "start_time": "2023-06-17T13:20:35.426Z"
   },
   {
    "duration": 179,
    "start_time": "2023-06-17T13:20:35.435Z"
   },
   {
    "duration": 37,
    "start_time": "2023-06-17T13:20:35.615Z"
   },
   {
    "duration": 113,
    "start_time": "2023-06-17T13:20:35.660Z"
   },
   {
    "duration": 31,
    "start_time": "2023-06-17T14:57:31.476Z"
   },
   {
    "duration": 51,
    "start_time": "2023-06-17T14:58:18.646Z"
   },
   {
    "duration": 61,
    "start_time": "2023-06-17T14:59:06.017Z"
   },
   {
    "duration": 66,
    "start_time": "2023-06-17T14:59:39.520Z"
   },
   {
    "duration": 5,
    "start_time": "2023-06-17T15:00:18.060Z"
   },
   {
    "duration": 25,
    "start_time": "2023-06-17T15:00:53.879Z"
   },
   {
    "duration": 6,
    "start_time": "2023-06-17T15:01:22.887Z"
   },
   {
    "duration": 26,
    "start_time": "2023-06-17T15:01:36.649Z"
   },
   {
    "duration": 39,
    "start_time": "2023-06-17T15:03:36.288Z"
   },
   {
    "duration": 52,
    "start_time": "2023-06-17T15:04:12.053Z"
   },
   {
    "duration": 100,
    "start_time": "2023-06-17T15:06:50.890Z"
   },
   {
    "duration": 1101,
    "start_time": "2023-06-17T15:10:48.207Z"
   },
   {
    "duration": 3,
    "start_time": "2023-06-17T15:10:49.310Z"
   },
   {
    "duration": 108,
    "start_time": "2023-06-17T15:10:49.314Z"
   },
   {
    "duration": 30,
    "start_time": "2023-06-17T15:10:49.424Z"
   },
   {
    "duration": 104,
    "start_time": "2023-06-17T15:10:49.456Z"
   },
   {
    "duration": 111,
    "start_time": "2023-06-17T15:10:49.562Z"
   },
   {
    "duration": 10,
    "start_time": "2023-06-17T15:12:07.361Z"
   },
   {
    "duration": 18,
    "start_time": "2023-06-17T15:12:19.370Z"
   },
   {
    "duration": 10,
    "start_time": "2023-06-17T15:12:41.292Z"
   },
   {
    "duration": 11,
    "start_time": "2023-06-17T15:13:36.506Z"
   },
   {
    "duration": 24,
    "start_time": "2023-06-17T15:14:59.681Z"
   },
   {
    "duration": 1105,
    "start_time": "2023-06-17T15:15:49.125Z"
   },
   {
    "duration": 3,
    "start_time": "2023-06-17T15:15:50.246Z"
   },
   {
    "duration": 124,
    "start_time": "2023-06-17T15:15:50.251Z"
   },
   {
    "duration": 23,
    "start_time": "2023-06-17T15:15:50.377Z"
   },
   {
    "duration": 104,
    "start_time": "2023-06-17T15:15:50.401Z"
   },
   {
    "duration": 26,
    "start_time": "2023-06-17T15:15:50.507Z"
   },
   {
    "duration": 1068,
    "start_time": "2023-06-17T15:16:46.545Z"
   },
   {
    "duration": 3,
    "start_time": "2023-06-17T15:16:47.614Z"
   },
   {
    "duration": 103,
    "start_time": "2023-06-17T15:16:47.618Z"
   },
   {
    "duration": 27,
    "start_time": "2023-06-17T15:16:47.722Z"
   },
   {
    "duration": 118,
    "start_time": "2023-06-17T15:16:47.751Z"
   },
   {
    "duration": 15,
    "start_time": "2023-06-17T15:16:47.870Z"
   },
   {
    "duration": 95,
    "start_time": "2023-06-17T15:20:04.715Z"
   },
   {
    "duration": 1084,
    "start_time": "2023-06-17T15:20:09.446Z"
   },
   {
    "duration": 10,
    "start_time": "2023-06-17T15:20:10.532Z"
   },
   {
    "duration": 128,
    "start_time": "2023-06-17T15:20:10.544Z"
   },
   {
    "duration": 26,
    "start_time": "2023-06-17T15:20:10.674Z"
   },
   {
    "duration": 104,
    "start_time": "2023-06-17T15:20:10.701Z"
   },
   {
    "duration": 33,
    "start_time": "2023-06-17T15:20:10.807Z"
   },
   {
    "duration": 111,
    "start_time": "2023-06-17T15:20:10.841Z"
   },
   {
    "duration": 1076,
    "start_time": "2023-06-17T15:24:52.253Z"
   },
   {
    "duration": 13,
    "start_time": "2023-06-17T15:24:53.331Z"
   },
   {
    "duration": 122,
    "start_time": "2023-06-17T15:24:53.346Z"
   },
   {
    "duration": 24,
    "start_time": "2023-06-17T15:24:53.469Z"
   },
   {
    "duration": 98,
    "start_time": "2023-06-17T15:24:53.496Z"
   },
   {
    "duration": 13,
    "start_time": "2023-06-17T15:24:53.596Z"
   },
   {
    "duration": 117,
    "start_time": "2023-06-17T15:24:53.611Z"
   },
   {
    "duration": 22,
    "start_time": "2023-06-17T15:25:17.519Z"
   },
   {
    "duration": 1110,
    "start_time": "2023-06-17T15:29:50.415Z"
   },
   {
    "duration": 3,
    "start_time": "2023-06-17T15:29:51.526Z"
   },
   {
    "duration": 138,
    "start_time": "2023-06-17T15:29:51.531Z"
   },
   {
    "duration": 30,
    "start_time": "2023-06-17T15:29:51.671Z"
   },
   {
    "duration": 123,
    "start_time": "2023-06-17T15:29:51.702Z"
   },
   {
    "duration": 22,
    "start_time": "2023-06-17T15:29:51.831Z"
   },
   {
    "duration": 21,
    "start_time": "2023-06-17T15:30:07.558Z"
   },
   {
    "duration": 17,
    "start_time": "2023-06-17T15:30:15.408Z"
   },
   {
    "duration": 15,
    "start_time": "2023-06-17T15:30:22.494Z"
   },
   {
    "duration": 20,
    "start_time": "2023-06-17T15:30:46.615Z"
   },
   {
    "duration": 67,
    "start_time": "2023-06-17T15:31:06.903Z"
   },
   {
    "duration": 1166,
    "start_time": "2023-06-17T15:32:43.513Z"
   },
   {
    "duration": 1068,
    "start_time": "2023-06-17T15:32:56.570Z"
   },
   {
    "duration": 5,
    "start_time": "2023-06-17T15:32:57.639Z"
   },
   {
    "duration": 99,
    "start_time": "2023-06-17T15:32:57.645Z"
   },
   {
    "duration": 26,
    "start_time": "2023-06-17T15:32:57.748Z"
   },
   {
    "duration": 128,
    "start_time": "2023-06-17T15:32:57.776Z"
   },
   {
    "duration": 1219,
    "start_time": "2023-06-17T15:32:57.906Z"
   },
   {
    "duration": 588,
    "start_time": "2023-06-17T15:33:39.019Z"
   },
   {
    "duration": 23,
    "start_time": "2023-06-17T15:39:42.315Z"
   },
   {
    "duration": 13,
    "start_time": "2023-06-17T18:31:45.303Z"
   },
   {
    "duration": 10,
    "start_time": "2023-06-17T18:32:28.561Z"
   },
   {
    "duration": 1161,
    "start_time": "2023-06-17T18:34:22.922Z"
   },
   {
    "duration": 2,
    "start_time": "2023-06-17T18:34:24.085Z"
   },
   {
    "duration": 111,
    "start_time": "2023-06-17T18:34:24.089Z"
   },
   {
    "duration": 27,
    "start_time": "2023-06-17T18:34:24.202Z"
   },
   {
    "duration": 141,
    "start_time": "2023-06-17T18:34:24.231Z"
   },
   {
    "duration": 135,
    "start_time": "2023-06-17T18:34:24.375Z"
   },
   {
    "duration": 0,
    "start_time": "2023-06-17T18:34:24.511Z"
   },
   {
    "duration": 347,
    "start_time": "2023-06-17T18:34:45.246Z"
   },
   {
    "duration": 12,
    "start_time": "2023-06-17T18:34:57.068Z"
   },
   {
    "duration": 481,
    "start_time": "2023-06-17T18:36:39.211Z"
   },
   {
    "duration": 568,
    "start_time": "2023-06-17T18:37:20.619Z"
   },
   {
    "duration": 11,
    "start_time": "2023-06-17T18:37:24.859Z"
   },
   {
    "duration": 52,
    "start_time": "2023-06-17T18:38:19.656Z"
   },
   {
    "duration": 1183,
    "start_time": "2023-06-18T09:38:44.359Z"
   },
   {
    "duration": 4,
    "start_time": "2023-06-18T09:38:45.548Z"
   },
   {
    "duration": 596,
    "start_time": "2023-06-18T09:38:45.556Z"
   },
   {
    "duration": 34,
    "start_time": "2023-06-18T09:38:46.164Z"
   },
   {
    "duration": 123,
    "start_time": "2023-06-18T09:38:46.200Z"
   },
   {
    "duration": 469,
    "start_time": "2023-06-18T09:38:46.328Z"
   },
   {
    "duration": 7,
    "start_time": "2023-06-18T09:38:46.799Z"
   },
   {
    "duration": 71,
    "start_time": "2023-06-18T09:38:46.808Z"
   },
   {
    "duration": 126,
    "start_time": "2023-06-18T09:38:56.843Z"
   },
   {
    "duration": 18,
    "start_time": "2023-06-18T09:39:08.659Z"
   },
   {
    "duration": 5,
    "start_time": "2023-06-18T09:40:46.674Z"
   },
   {
    "duration": 1386,
    "start_time": "2023-06-18T09:42:04.892Z"
   },
   {
    "duration": 40,
    "start_time": "2023-06-18T09:42:52.743Z"
   },
   {
    "duration": 103,
    "start_time": "2023-06-18T09:43:06.298Z"
   },
   {
    "duration": 12,
    "start_time": "2023-06-18T09:44:14.533Z"
   },
   {
    "duration": 2532,
    "start_time": "2023-06-18T09:44:25.862Z"
   },
   {
    "duration": 2250,
    "start_time": "2023-06-18T09:44:40.762Z"
   },
   {
    "duration": 17,
    "start_time": "2023-06-18T09:45:22.350Z"
   },
   {
    "duration": 27,
    "start_time": "2023-06-18T09:48:21.668Z"
   },
   {
    "duration": 117,
    "start_time": "2023-06-18T09:48:33.246Z"
   },
   {
    "duration": 1169,
    "start_time": "2023-06-18T09:51:11.842Z"
   },
   {
    "duration": 3,
    "start_time": "2023-06-18T09:51:13.013Z"
   },
   {
    "duration": 155,
    "start_time": "2023-06-18T09:51:13.020Z"
   },
   {
    "duration": 24,
    "start_time": "2023-06-18T09:51:13.178Z"
   },
   {
    "duration": 140,
    "start_time": "2023-06-18T09:51:13.205Z"
   },
   {
    "duration": 94,
    "start_time": "2023-06-18T09:51:13.347Z"
   },
   {
    "duration": 0,
    "start_time": "2023-06-18T09:51:13.443Z"
   },
   {
    "duration": 0,
    "start_time": "2023-06-18T09:51:13.444Z"
   },
   {
    "duration": 0,
    "start_time": "2023-06-18T09:51:13.445Z"
   },
   {
    "duration": 2,
    "start_time": "2023-06-18T09:51:19.709Z"
   },
   {
    "duration": 1491,
    "start_time": "2023-06-18T09:51:21.154Z"
   },
   {
    "duration": 33,
    "start_time": "2023-06-18T09:51:30.325Z"
   },
   {
    "duration": 1147,
    "start_time": "2023-06-18T09:52:20.051Z"
   },
   {
    "duration": 4,
    "start_time": "2023-06-18T09:52:21.200Z"
   },
   {
    "duration": 150,
    "start_time": "2023-06-18T09:52:21.205Z"
   },
   {
    "duration": 23,
    "start_time": "2023-06-18T09:52:21.356Z"
   },
   {
    "duration": 99,
    "start_time": "2023-06-18T09:52:21.380Z"
   },
   {
    "duration": 3,
    "start_time": "2023-06-18T09:52:21.481Z"
   },
   {
    "duration": 163,
    "start_time": "2023-06-18T09:52:21.486Z"
   },
   {
    "duration": 0,
    "start_time": "2023-06-18T09:52:21.654Z"
   },
   {
    "duration": 0,
    "start_time": "2023-06-18T09:52:21.655Z"
   },
   {
    "duration": 38,
    "start_time": "2023-06-18T09:52:51.510Z"
   },
   {
    "duration": 1100,
    "start_time": "2023-06-18T10:15:51.110Z"
   },
   {
    "duration": 4,
    "start_time": "2023-06-18T10:15:52.212Z"
   },
   {
    "duration": 154,
    "start_time": "2023-06-18T10:15:52.217Z"
   },
   {
    "duration": 24,
    "start_time": "2023-06-18T10:15:52.373Z"
   },
   {
    "duration": 104,
    "start_time": "2023-06-18T10:15:52.399Z"
   },
   {
    "duration": 12,
    "start_time": "2023-06-18T10:15:52.504Z"
   },
   {
    "duration": 20,
    "start_time": "2023-06-18T10:15:52.520Z"
   },
   {
    "duration": 14,
    "start_time": "2023-06-18T10:15:52.541Z"
   },
   {
    "duration": 43,
    "start_time": "2023-06-18T10:15:52.557Z"
   },
   {
    "duration": 32,
    "start_time": "2023-06-18T10:26:02.313Z"
   },
   {
    "duration": 1170,
    "start_time": "2023-06-18T10:26:23.214Z"
   },
   {
    "duration": 4,
    "start_time": "2023-06-18T10:26:24.387Z"
   },
   {
    "duration": 136,
    "start_time": "2023-06-18T10:26:24.393Z"
   },
   {
    "duration": 35,
    "start_time": "2023-06-18T10:26:24.531Z"
   },
   {
    "duration": 134,
    "start_time": "2023-06-18T10:26:24.568Z"
   },
   {
    "duration": 6,
    "start_time": "2023-06-18T10:26:24.704Z"
   },
   {
    "duration": 34,
    "start_time": "2023-06-18T10:26:24.711Z"
   },
   {
    "duration": 20,
    "start_time": "2023-06-18T10:26:24.747Z"
   },
   {
    "duration": 91,
    "start_time": "2023-06-18T10:26:24.770Z"
   },
   {
    "duration": 1160,
    "start_time": "2023-06-18T11:06:17.900Z"
   },
   {
    "duration": 4,
    "start_time": "2023-06-18T11:06:19.062Z"
   },
   {
    "duration": 107,
    "start_time": "2023-06-18T11:06:19.067Z"
   },
   {
    "duration": 37,
    "start_time": "2023-06-18T11:06:19.176Z"
   },
   {
    "duration": 94,
    "start_time": "2023-06-18T11:06:19.215Z"
   },
   {
    "duration": 23,
    "start_time": "2023-06-18T11:06:19.311Z"
   },
   {
    "duration": 42,
    "start_time": "2023-06-18T11:06:19.335Z"
   },
   {
    "duration": 19,
    "start_time": "2023-06-18T11:06:19.379Z"
   },
   {
    "duration": 70,
    "start_time": "2023-06-18T11:06:19.399Z"
   },
   {
    "duration": 12,
    "start_time": "2023-06-18T11:06:19.472Z"
   },
   {
    "duration": 23,
    "start_time": "2023-06-18T11:06:38.191Z"
   },
   {
    "duration": 35,
    "start_time": "2023-06-18T11:06:48.643Z"
   },
   {
    "duration": 5,
    "start_time": "2023-06-18T11:07:13.104Z"
   },
   {
    "duration": 1138,
    "start_time": "2023-06-18T11:07:37.336Z"
   },
   {
    "duration": 3,
    "start_time": "2023-06-18T11:07:38.476Z"
   },
   {
    "duration": 110,
    "start_time": "2023-06-18T11:07:38.481Z"
   },
   {
    "duration": 25,
    "start_time": "2023-06-18T11:07:38.593Z"
   },
   {
    "duration": 120,
    "start_time": "2023-06-18T11:07:38.619Z"
   },
   {
    "duration": 4,
    "start_time": "2023-06-18T11:07:38.742Z"
   },
   {
    "duration": 33,
    "start_time": "2023-06-18T11:07:38.747Z"
   },
   {
    "duration": 12,
    "start_time": "2023-06-18T11:07:38.783Z"
   },
   {
    "duration": 54,
    "start_time": "2023-06-18T11:07:38.797Z"
   },
   {
    "duration": 14,
    "start_time": "2023-06-18T11:07:38.853Z"
   },
   {
    "duration": 9,
    "start_time": "2023-06-18T11:07:38.868Z"
   },
   {
    "duration": 32,
    "start_time": "2023-06-18T11:07:48.403Z"
   },
   {
    "duration": 28,
    "start_time": "2023-06-18T11:08:00.818Z"
   },
   {
    "duration": 843,
    "start_time": "2023-06-18T11:11:59.116Z"
   },
   {
    "duration": 1951,
    "start_time": "2023-06-18T11:12:53.140Z"
   },
   {
    "duration": 133,
    "start_time": "2023-06-18T11:13:02.543Z"
   },
   {
    "duration": 9,
    "start_time": "2023-06-18T11:13:44.101Z"
   },
   {
    "duration": 219,
    "start_time": "2023-06-18T11:13:58.791Z"
   },
   {
    "duration": 14,
    "start_time": "2023-06-18T11:14:53.539Z"
   },
   {
    "duration": 506,
    "start_time": "2023-06-18T11:15:25.097Z"
   },
   {
    "duration": 0,
    "start_time": "2023-06-18T11:15:25.606Z"
   },
   {
    "duration": 0,
    "start_time": "2023-06-18T11:15:25.607Z"
   },
   {
    "duration": 0,
    "start_time": "2023-06-18T11:15:25.609Z"
   },
   {
    "duration": 0,
    "start_time": "2023-06-18T11:15:25.624Z"
   },
   {
    "duration": 0,
    "start_time": "2023-06-18T11:15:25.625Z"
   },
   {
    "duration": 0,
    "start_time": "2023-06-18T11:15:25.626Z"
   },
   {
    "duration": 0,
    "start_time": "2023-06-18T11:15:25.627Z"
   },
   {
    "duration": 0,
    "start_time": "2023-06-18T11:15:25.628Z"
   },
   {
    "duration": 0,
    "start_time": "2023-06-18T11:15:25.630Z"
   },
   {
    "duration": 0,
    "start_time": "2023-06-18T11:15:25.632Z"
   },
   {
    "duration": 1518,
    "start_time": "2023-06-18T11:15:39.797Z"
   },
   {
    "duration": 20,
    "start_time": "2023-06-18T11:15:41.318Z"
   },
   {
    "duration": 150,
    "start_time": "2023-06-18T11:15:41.342Z"
   },
   {
    "duration": 47,
    "start_time": "2023-06-18T11:15:41.494Z"
   },
   {
    "duration": 103,
    "start_time": "2023-06-18T11:15:41.544Z"
   },
   {
    "duration": 5,
    "start_time": "2023-06-18T11:15:41.650Z"
   },
   {
    "duration": 24,
    "start_time": "2023-06-18T11:15:41.658Z"
   },
   {
    "duration": 12,
    "start_time": "2023-06-18T11:15:41.683Z"
   },
   {
    "duration": 64,
    "start_time": "2023-06-18T11:15:41.697Z"
   },
   {
    "duration": 125,
    "start_time": "2023-06-18T11:15:41.763Z"
   },
   {
    "duration": 0,
    "start_time": "2023-06-18T11:15:41.890Z"
   },
   {
    "duration": 1738,
    "start_time": "2023-06-18T11:16:09.357Z"
   },
   {
    "duration": 4,
    "start_time": "2023-06-18T11:16:11.096Z"
   },
   {
    "duration": 177,
    "start_time": "2023-06-18T11:16:11.102Z"
   },
   {
    "duration": 29,
    "start_time": "2023-06-18T11:16:11.281Z"
   },
   {
    "duration": 119,
    "start_time": "2023-06-18T11:16:11.312Z"
   },
   {
    "duration": 9,
    "start_time": "2023-06-18T11:16:11.438Z"
   },
   {
    "duration": 30,
    "start_time": "2023-06-18T11:16:11.449Z"
   },
   {
    "duration": 26,
    "start_time": "2023-06-18T11:16:11.481Z"
   },
   {
    "duration": 90,
    "start_time": "2023-06-18T11:16:11.509Z"
   },
   {
    "duration": 241247,
    "start_time": "2023-06-18T11:16:11.601Z"
   },
   {
    "duration": 11,
    "start_time": "2023-06-18T11:20:12.850Z"
   },
   {
    "duration": 1586,
    "start_time": "2023-06-18T11:22:21.130Z"
   },
   {
    "duration": 17,
    "start_time": "2023-06-18T11:22:22.718Z"
   },
   {
    "duration": 145,
    "start_time": "2023-06-18T11:22:22.746Z"
   },
   {
    "duration": 25,
    "start_time": "2023-06-18T11:22:22.892Z"
   },
   {
    "duration": 167,
    "start_time": "2023-06-18T11:22:22.919Z"
   },
   {
    "duration": 172387,
    "start_time": "2023-06-18T11:22:23.088Z"
   },
   {
    "duration": 0,
    "start_time": "2023-06-18T11:25:15.477Z"
   },
   {
    "duration": 0,
    "start_time": "2023-06-18T11:25:15.479Z"
   },
   {
    "duration": 0,
    "start_time": "2023-06-18T11:25:15.481Z"
   },
   {
    "duration": 0,
    "start_time": "2023-06-18T11:25:15.482Z"
   },
   {
    "duration": 0,
    "start_time": "2023-06-18T11:25:15.484Z"
   },
   {
    "duration": 1597,
    "start_time": "2023-06-18T11:28:41.944Z"
   },
   {
    "duration": 4,
    "start_time": "2023-06-18T11:28:43.546Z"
   },
   {
    "duration": 138,
    "start_time": "2023-06-18T11:28:43.555Z"
   },
   {
    "duration": 39,
    "start_time": "2023-06-18T11:28:43.695Z"
   },
   {
    "duration": 151,
    "start_time": "2023-06-18T11:28:43.742Z"
   },
   {
    "duration": 6,
    "start_time": "2023-06-18T11:28:43.895Z"
   },
   {
    "duration": 76,
    "start_time": "2023-06-18T11:28:43.902Z"
   },
   {
    "duration": 25,
    "start_time": "2023-06-18T11:28:43.979Z"
   },
   {
    "duration": 79,
    "start_time": "2023-06-18T11:28:44.006Z"
   },
   {
    "duration": 12,
    "start_time": "2023-06-18T11:28:44.092Z"
   },
   {
    "duration": 245,
    "start_time": "2023-06-18T11:48:41.272Z"
   },
   {
    "duration": 1818,
    "start_time": "2023-06-18T11:50:51.117Z"
   },
   {
    "duration": 5,
    "start_time": "2023-06-18T11:50:52.940Z"
   },
   {
    "duration": 184,
    "start_time": "2023-06-18T11:50:52.947Z"
   },
   {
    "duration": 39,
    "start_time": "2023-06-18T11:50:53.136Z"
   },
   {
    "duration": 203,
    "start_time": "2023-06-18T11:50:53.184Z"
   },
   {
    "duration": 7,
    "start_time": "2023-06-18T11:50:53.395Z"
   },
   {
    "duration": 32,
    "start_time": "2023-06-18T11:50:53.404Z"
   },
   {
    "duration": 52,
    "start_time": "2023-06-18T11:50:53.438Z"
   },
   {
    "duration": 88,
    "start_time": "2023-06-18T11:50:53.492Z"
   },
   {
    "duration": 13,
    "start_time": "2023-06-18T11:50:53.582Z"
   },
   {
    "duration": 196,
    "start_time": "2023-06-18T11:50:53.597Z"
   },
   {
    "duration": 158,
    "start_time": "2023-06-18T11:51:41.005Z"
   },
   {
    "duration": 109,
    "start_time": "2023-06-18T11:52:35.264Z"
   },
   {
    "duration": 1648,
    "start_time": "2023-06-18T12:01:42.441Z"
   },
   {
    "duration": 6,
    "start_time": "2023-06-18T12:01:44.091Z"
   },
   {
    "duration": 162,
    "start_time": "2023-06-18T12:01:44.098Z"
   },
   {
    "duration": 27,
    "start_time": "2023-06-18T12:01:44.262Z"
   },
   {
    "duration": 179,
    "start_time": "2023-06-18T12:01:44.293Z"
   },
   {
    "duration": 7,
    "start_time": "2023-06-18T12:01:44.474Z"
   },
   {
    "duration": 12,
    "start_time": "2023-06-18T12:01:44.483Z"
   },
   {
    "duration": 38,
    "start_time": "2023-06-18T12:01:44.496Z"
   },
   {
    "duration": 102,
    "start_time": "2023-06-18T12:01:44.535Z"
   },
   {
    "duration": 15,
    "start_time": "2023-06-18T12:01:44.639Z"
   },
   {
    "duration": 153,
    "start_time": "2023-06-18T12:01:44.656Z"
   },
   {
    "duration": 23,
    "start_time": "2023-06-18T12:02:18.218Z"
   },
   {
    "duration": 248,
    "start_time": "2023-06-18T12:03:25.263Z"
   },
   {
    "duration": 1483,
    "start_time": "2023-06-18T12:06:41.457Z"
   },
   {
    "duration": 4,
    "start_time": "2023-06-18T12:06:42.942Z"
   },
   {
    "duration": 143,
    "start_time": "2023-06-18T12:06:42.948Z"
   },
   {
    "duration": 47,
    "start_time": "2023-06-18T12:06:43.095Z"
   },
   {
    "duration": 143,
    "start_time": "2023-06-18T12:06:43.145Z"
   },
   {
    "duration": 5,
    "start_time": "2023-06-18T12:06:43.290Z"
   },
   {
    "duration": 55,
    "start_time": "2023-06-18T12:06:43.297Z"
   },
   {
    "duration": 34,
    "start_time": "2023-06-18T12:06:43.354Z"
   },
   {
    "duration": 84,
    "start_time": "2023-06-18T12:06:43.390Z"
   },
   {
    "duration": 11,
    "start_time": "2023-06-18T12:06:43.477Z"
   },
   {
    "duration": 12,
    "start_time": "2023-06-18T12:06:43.489Z"
   },
   {
    "duration": 12,
    "start_time": "2023-06-18T12:38:08.845Z"
   },
   {
    "duration": 177,
    "start_time": "2023-06-18T12:38:43.092Z"
   },
   {
    "duration": 9,
    "start_time": "2023-06-18T12:38:57.800Z"
   },
   {
    "duration": 19,
    "start_time": "2023-06-18T12:41:23.500Z"
   },
   {
    "duration": 51,
    "start_time": "2023-06-18T12:41:45.896Z"
   },
   {
    "duration": 103,
    "start_time": "2023-06-18T12:42:15.961Z"
   },
   {
    "duration": 16,
    "start_time": "2023-06-18T12:42:46.984Z"
   },
   {
    "duration": 105,
    "start_time": "2023-06-18T12:42:53.900Z"
   },
   {
    "duration": 25,
    "start_time": "2023-06-18T12:48:09.204Z"
   },
   {
    "duration": 17,
    "start_time": "2023-06-18T12:48:31.096Z"
   },
   {
    "duration": 123,
    "start_time": "2023-06-18T12:49:00.510Z"
   },
   {
    "duration": 63,
    "start_time": "2023-06-18T12:51:11.148Z"
   },
   {
    "duration": 0,
    "start_time": "2023-06-18T12:51:11.213Z"
   },
   {
    "duration": 0,
    "start_time": "2023-06-18T12:51:11.216Z"
   },
   {
    "duration": 0,
    "start_time": "2023-06-18T12:51:11.217Z"
   },
   {
    "duration": 0,
    "start_time": "2023-06-18T12:51:11.218Z"
   },
   {
    "duration": 0,
    "start_time": "2023-06-18T12:51:11.219Z"
   },
   {
    "duration": 0,
    "start_time": "2023-06-18T12:51:11.225Z"
   },
   {
    "duration": 0,
    "start_time": "2023-06-18T12:51:11.230Z"
   },
   {
    "duration": 0,
    "start_time": "2023-06-18T12:51:11.231Z"
   },
   {
    "duration": 0,
    "start_time": "2023-06-18T12:51:11.239Z"
   },
   {
    "duration": 0,
    "start_time": "2023-06-18T12:51:11.240Z"
   },
   {
    "duration": 1361,
    "start_time": "2023-06-18T12:52:00.846Z"
   },
   {
    "duration": 3,
    "start_time": "2023-06-18T12:52:02.208Z"
   },
   {
    "duration": 165,
    "start_time": "2023-06-18T12:52:02.213Z"
   },
   {
    "duration": 25,
    "start_time": "2023-06-18T12:52:02.380Z"
   },
   {
    "duration": 133,
    "start_time": "2023-06-18T12:52:02.407Z"
   },
   {
    "duration": 5,
    "start_time": "2023-06-18T12:52:02.541Z"
   },
   {
    "duration": 45,
    "start_time": "2023-06-18T12:52:02.547Z"
   },
   {
    "duration": 71,
    "start_time": "2023-06-18T12:52:02.594Z"
   },
   {
    "duration": 81,
    "start_time": "2023-06-18T12:52:02.668Z"
   },
   {
    "duration": 8,
    "start_time": "2023-06-18T12:52:02.751Z"
   },
   {
    "duration": 15313,
    "start_time": "2023-06-18T12:52:02.760Z"
   },
   {
    "duration": 1479,
    "start_time": "2023-06-18T12:58:17.683Z"
   },
   {
    "duration": 4,
    "start_time": "2023-06-18T12:58:19.164Z"
   },
   {
    "duration": 132,
    "start_time": "2023-06-18T12:58:19.170Z"
   },
   {
    "duration": 33,
    "start_time": "2023-06-18T12:58:19.304Z"
   },
   {
    "duration": 142,
    "start_time": "2023-06-18T12:58:19.340Z"
   },
   {
    "duration": 6,
    "start_time": "2023-06-18T12:58:19.484Z"
   },
   {
    "duration": 52,
    "start_time": "2023-06-18T12:58:19.491Z"
   },
   {
    "duration": 28,
    "start_time": "2023-06-18T12:58:19.545Z"
   },
   {
    "duration": 103,
    "start_time": "2023-06-18T12:58:19.575Z"
   },
   {
    "duration": 9,
    "start_time": "2023-06-18T12:58:19.680Z"
   },
   {
    "duration": 13813,
    "start_time": "2023-06-18T12:58:19.691Z"
   },
   {
    "duration": 152,
    "start_time": "2023-06-18T12:58:33.506Z"
   },
   {
    "duration": 29,
    "start_time": "2023-06-18T12:59:07.865Z"
   },
   {
    "duration": 9,
    "start_time": "2023-06-18T12:59:16.816Z"
   },
   {
    "duration": 30,
    "start_time": "2023-06-18T12:59:57.839Z"
   },
   {
    "duration": 4,
    "start_time": "2023-06-18T13:02:18.191Z"
   },
   {
    "duration": 4,
    "start_time": "2023-06-18T13:02:34.902Z"
   },
   {
    "duration": 20,
    "start_time": "2023-06-18T13:10:23.052Z"
   },
   {
    "duration": 39,
    "start_time": "2023-06-18T13:12:32.343Z"
   },
   {
    "duration": 5,
    "start_time": "2023-06-18T13:12:47.841Z"
   },
   {
    "duration": 1427,
    "start_time": "2023-06-18T13:14:18.686Z"
   },
   {
    "duration": 3,
    "start_time": "2023-06-18T13:14:20.114Z"
   },
   {
    "duration": 5144,
    "start_time": "2023-06-18T13:14:20.126Z"
   },
   {
    "duration": 31,
    "start_time": "2023-06-18T13:14:25.271Z"
   },
   {
    "duration": 141,
    "start_time": "2023-06-18T13:14:25.303Z"
   },
   {
    "duration": 5,
    "start_time": "2023-06-18T13:14:25.447Z"
   },
   {
    "duration": 46,
    "start_time": "2023-06-18T13:14:25.455Z"
   },
   {
    "duration": 92,
    "start_time": "2023-06-18T13:14:25.503Z"
   },
   {
    "duration": 78,
    "start_time": "2023-06-18T13:14:25.598Z"
   },
   {
    "duration": 22,
    "start_time": "2023-06-18T13:14:25.678Z"
   },
   {
    "duration": 12880,
    "start_time": "2023-06-18T13:14:25.702Z"
   },
   {
    "duration": 88,
    "start_time": "2023-06-18T13:14:38.584Z"
   },
   {
    "duration": 113,
    "start_time": "2023-06-18T13:14:38.673Z"
   },
   {
    "duration": 618,
    "start_time": "2023-06-18T13:16:02.085Z"
   },
   {
    "duration": 1309,
    "start_time": "2023-06-18T13:16:14.336Z"
   },
   {
    "duration": 4,
    "start_time": "2023-06-18T13:16:15.647Z"
   },
   {
    "duration": 127,
    "start_time": "2023-06-18T13:16:15.653Z"
   },
   {
    "duration": 23,
    "start_time": "2023-06-18T13:16:15.782Z"
   },
   {
    "duration": 94,
    "start_time": "2023-06-18T13:16:15.807Z"
   },
   {
    "duration": 5,
    "start_time": "2023-06-18T13:16:15.903Z"
   },
   {
    "duration": 23,
    "start_time": "2023-06-18T13:16:15.910Z"
   },
   {
    "duration": 14,
    "start_time": "2023-06-18T13:16:15.935Z"
   },
   {
    "duration": 44,
    "start_time": "2023-06-18T13:16:15.951Z"
   },
   {
    "duration": 10,
    "start_time": "2023-06-18T13:16:15.997Z"
   },
   {
    "duration": 12902,
    "start_time": "2023-06-18T13:16:16.009Z"
   },
   {
    "duration": 80,
    "start_time": "2023-06-18T13:16:28.913Z"
   },
   {
    "duration": 543,
    "start_time": "2023-06-18T13:16:28.994Z"
   },
   {
    "duration": 101,
    "start_time": "2023-06-18T13:17:03.193Z"
   },
   {
    "duration": 540,
    "start_time": "2023-06-18T13:17:10.722Z"
   },
   {
    "duration": 6,
    "start_time": "2023-06-18T13:17:52.135Z"
   },
   {
    "duration": 555,
    "start_time": "2023-06-18T13:18:37.459Z"
   },
   {
    "duration": 240,
    "start_time": "2023-06-18T13:18:54.802Z"
   },
   {
    "duration": 89,
    "start_time": "2023-06-18T13:19:22.502Z"
   },
   {
    "duration": 18,
    "start_time": "2023-06-18T13:21:10.235Z"
   },
   {
    "duration": 13,
    "start_time": "2023-06-18T13:21:42.839Z"
   },
   {
    "duration": 529,
    "start_time": "2023-06-18T13:22:32.984Z"
   },
   {
    "duration": 528,
    "start_time": "2023-06-18T13:22:58.558Z"
   },
   {
    "duration": 526,
    "start_time": "2023-06-18T13:23:04.517Z"
   },
   {
    "duration": 557,
    "start_time": "2023-06-18T13:23:08.919Z"
   },
   {
    "duration": 560,
    "start_time": "2023-06-18T13:24:32.789Z"
   },
   {
    "duration": 942,
    "start_time": "2023-06-18T13:24:55.705Z"
   },
   {
    "duration": 92,
    "start_time": "2023-06-18T13:26:05.415Z"
   },
   {
    "duration": 0,
    "start_time": "2023-06-18T13:26:05.509Z"
   },
   {
    "duration": 1,
    "start_time": "2023-06-18T13:26:05.511Z"
   },
   {
    "duration": 0,
    "start_time": "2023-06-18T13:26:05.513Z"
   },
   {
    "duration": 0,
    "start_time": "2023-06-18T13:26:05.514Z"
   },
   {
    "duration": 0,
    "start_time": "2023-06-18T13:26:05.515Z"
   },
   {
    "duration": 0,
    "start_time": "2023-06-18T13:26:05.517Z"
   },
   {
    "duration": 0,
    "start_time": "2023-06-18T13:26:05.518Z"
   },
   {
    "duration": 0,
    "start_time": "2023-06-18T13:26:05.524Z"
   },
   {
    "duration": 0,
    "start_time": "2023-06-18T13:26:05.526Z"
   },
   {
    "duration": 0,
    "start_time": "2023-06-18T13:26:05.527Z"
   },
   {
    "duration": 0,
    "start_time": "2023-06-18T13:26:05.528Z"
   },
   {
    "duration": 1448,
    "start_time": "2023-06-18T13:26:14.944Z"
   },
   {
    "duration": 3,
    "start_time": "2023-06-18T13:26:16.393Z"
   },
   {
    "duration": 144,
    "start_time": "2023-06-18T13:26:16.397Z"
   },
   {
    "duration": 35,
    "start_time": "2023-06-18T13:26:16.543Z"
   },
   {
    "duration": 120,
    "start_time": "2023-06-18T13:26:16.580Z"
   },
   {
    "duration": 5,
    "start_time": "2023-06-18T13:26:16.701Z"
   },
   {
    "duration": 46,
    "start_time": "2023-06-18T13:26:16.707Z"
   },
   {
    "duration": 41,
    "start_time": "2023-06-18T13:26:16.755Z"
   },
   {
    "duration": 52,
    "start_time": "2023-06-18T13:26:16.798Z"
   },
   {
    "duration": 10,
    "start_time": "2023-06-18T13:26:16.852Z"
   },
   {
    "duration": 13655,
    "start_time": "2023-06-18T13:26:16.863Z"
   },
   {
    "duration": 1016,
    "start_time": "2023-06-18T13:26:30.520Z"
   },
   {
    "duration": 922,
    "start_time": "2023-06-18T13:26:54.230Z"
   },
   {
    "duration": 121,
    "start_time": "2023-06-18T13:30:21.853Z"
   },
   {
    "duration": 12,
    "start_time": "2023-06-18T13:31:45.207Z"
   },
   {
    "duration": 4,
    "start_time": "2023-06-18T13:32:07.639Z"
   },
   {
    "duration": 1359,
    "start_time": "2023-06-18T13:32:12.446Z"
   },
   {
    "duration": 3,
    "start_time": "2023-06-18T13:32:13.806Z"
   },
   {
    "duration": 5178,
    "start_time": "2023-06-18T13:32:13.811Z"
   },
   {
    "duration": 0,
    "start_time": "2023-06-18T13:32:18.991Z"
   },
   {
    "duration": 0,
    "start_time": "2023-06-18T13:32:18.992Z"
   },
   {
    "duration": 0,
    "start_time": "2023-06-18T13:32:18.993Z"
   },
   {
    "duration": 0,
    "start_time": "2023-06-18T13:32:18.994Z"
   },
   {
    "duration": 0,
    "start_time": "2023-06-18T13:32:18.995Z"
   },
   {
    "duration": 0,
    "start_time": "2023-06-18T13:32:18.995Z"
   },
   {
    "duration": 0,
    "start_time": "2023-06-18T13:32:18.996Z"
   },
   {
    "duration": 0,
    "start_time": "2023-06-18T13:32:18.997Z"
   },
   {
    "duration": 0,
    "start_time": "2023-06-18T13:32:18.998Z"
   },
   {
    "duration": 0,
    "start_time": "2023-06-18T13:32:18.999Z"
   },
   {
    "duration": 1252,
    "start_time": "2023-06-18T13:32:41.948Z"
   },
   {
    "duration": 2,
    "start_time": "2023-06-18T13:32:43.202Z"
   },
   {
    "duration": 1005,
    "start_time": "2023-06-18T13:32:43.205Z"
   },
   {
    "duration": 37,
    "start_time": "2023-06-18T13:32:44.212Z"
   },
   {
    "duration": 111,
    "start_time": "2023-06-18T13:32:44.250Z"
   },
   {
    "duration": 4,
    "start_time": "2023-06-18T13:32:44.362Z"
   },
   {
    "duration": 64,
    "start_time": "2023-06-18T13:32:44.367Z"
   },
   {
    "duration": 18,
    "start_time": "2023-06-18T13:32:44.432Z"
   },
   {
    "duration": 49,
    "start_time": "2023-06-18T13:32:44.451Z"
   },
   {
    "duration": 8,
    "start_time": "2023-06-18T13:32:44.502Z"
   },
   {
    "duration": 12775,
    "start_time": "2023-06-18T13:32:44.511Z"
   },
   {
    "duration": 2,
    "start_time": "2023-06-18T13:32:57.287Z"
   },
   {
    "duration": 973,
    "start_time": "2023-06-18T13:32:57.291Z"
   },
   {
    "duration": 8,
    "start_time": "2023-06-18T13:33:49.887Z"
   },
   {
    "duration": 1262,
    "start_time": "2023-06-18T15:03:32.504Z"
   },
   {
    "duration": 3,
    "start_time": "2023-06-18T15:03:33.768Z"
   },
   {
    "duration": 104,
    "start_time": "2023-06-18T15:03:33.774Z"
   },
   {
    "duration": 23,
    "start_time": "2023-06-18T15:03:33.880Z"
   },
   {
    "duration": 78,
    "start_time": "2023-06-18T15:03:33.904Z"
   },
   {
    "duration": 4,
    "start_time": "2023-06-18T15:03:33.984Z"
   },
   {
    "duration": 11,
    "start_time": "2023-06-18T15:03:33.990Z"
   },
   {
    "duration": 43,
    "start_time": "2023-06-18T15:03:34.003Z"
   },
   {
    "duration": 45,
    "start_time": "2023-06-18T15:03:34.047Z"
   },
   {
    "duration": 10,
    "start_time": "2023-06-18T15:03:34.094Z"
   },
   {
    "duration": 115,
    "start_time": "2023-06-18T15:03:34.105Z"
   },
   {
    "duration": 0,
    "start_time": "2023-06-18T15:03:34.221Z"
   },
   {
    "duration": 0,
    "start_time": "2023-06-18T15:03:34.222Z"
   },
   {
    "duration": 8,
    "start_time": "2023-06-18T15:04:34.835Z"
   },
   {
    "duration": 1228,
    "start_time": "2023-06-18T15:14:16.481Z"
   },
   {
    "duration": 3,
    "start_time": "2023-06-18T15:14:17.710Z"
   },
   {
    "duration": 128,
    "start_time": "2023-06-18T15:14:17.719Z"
   },
   {
    "duration": 34,
    "start_time": "2023-06-18T15:14:17.849Z"
   },
   {
    "duration": 142,
    "start_time": "2023-06-18T15:14:17.885Z"
   },
   {
    "duration": 7,
    "start_time": "2023-06-18T15:14:18.029Z"
   },
   {
    "duration": 22,
    "start_time": "2023-06-18T15:14:18.037Z"
   },
   {
    "duration": 44,
    "start_time": "2023-06-18T15:14:18.061Z"
   },
   {
    "duration": 67,
    "start_time": "2023-06-18T15:14:18.106Z"
   },
   {
    "duration": 13,
    "start_time": "2023-06-18T15:14:18.175Z"
   },
   {
    "duration": 166,
    "start_time": "2023-06-18T15:14:18.190Z"
   },
   {
    "duration": 0,
    "start_time": "2023-06-18T15:14:18.358Z"
   },
   {
    "duration": 0,
    "start_time": "2023-06-18T15:14:18.359Z"
   },
   {
    "duration": 143,
    "start_time": "2023-06-18T15:14:29.736Z"
   },
   {
    "duration": 12343,
    "start_time": "2023-06-18T15:15:00.937Z"
   },
   {
    "duration": 12672,
    "start_time": "2023-06-18T15:16:07.353Z"
   },
   {
    "duration": 25,
    "start_time": "2023-06-18T15:39:30.569Z"
   },
   {
    "duration": 28,
    "start_time": "2023-06-18T15:40:16.433Z"
   },
   {
    "duration": 807,
    "start_time": "2023-06-18T15:42:22.583Z"
   },
   {
    "duration": 15995,
    "start_time": "2023-06-18T15:43:44.087Z"
   },
   {
    "duration": 65,
    "start_time": "2023-06-18T15:44:37.483Z"
   },
   {
    "duration": 6,
    "start_time": "2023-06-18T15:45:57.726Z"
   },
   {
    "duration": 3,
    "start_time": "2023-06-18T15:46:13.376Z"
   },
   {
    "duration": 806036,
    "start_time": "2023-06-18T15:46:15.484Z"
   },
   {
    "duration": 15775,
    "start_time": "2023-06-18T16:18:56.674Z"
   },
   {
    "duration": 302395,
    "start_time": "2023-06-18T16:23:35.541Z"
   },
   {
    "duration": 33,
    "start_time": "2023-06-18T17:09:11.847Z"
   },
   {
    "duration": 1252,
    "start_time": "2023-06-18T17:09:50.335Z"
   },
   {
    "duration": 3,
    "start_time": "2023-06-18T17:09:51.589Z"
   },
   {
    "duration": 113,
    "start_time": "2023-06-18T17:09:51.594Z"
   },
   {
    "duration": 33,
    "start_time": "2023-06-18T17:09:51.709Z"
   },
   {
    "duration": 90,
    "start_time": "2023-06-18T17:09:51.743Z"
   },
   {
    "duration": 5,
    "start_time": "2023-06-18T17:09:51.834Z"
   },
   {
    "duration": 25,
    "start_time": "2023-06-18T17:09:51.840Z"
   },
   {
    "duration": 19,
    "start_time": "2023-06-18T17:09:51.866Z"
   },
   {
    "duration": 52,
    "start_time": "2023-06-18T17:09:51.886Z"
   },
   {
    "duration": 10,
    "start_time": "2023-06-18T17:09:51.939Z"
   },
   {
    "duration": 52,
    "start_time": "2023-06-18T17:09:51.950Z"
   },
   {
    "duration": 0,
    "start_time": "2023-06-18T17:09:52.004Z"
   },
   {
    "duration": 0,
    "start_time": "2023-06-18T17:09:52.005Z"
   },
   {
    "duration": 11294,
    "start_time": "2023-06-18T17:10:11.892Z"
   },
   {
    "duration": 112,
    "start_time": "2023-06-18T17:10:23.188Z"
   },
   {
    "duration": 0,
    "start_time": "2023-06-18T17:10:23.302Z"
   },
   {
    "duration": 193769,
    "start_time": "2023-06-18T17:10:46.590Z"
   },
   {
    "duration": 1241,
    "start_time": "2023-06-18T18:34:54.626Z"
   },
   {
    "duration": 3,
    "start_time": "2023-06-18T18:34:55.869Z"
   },
   {
    "duration": 106,
    "start_time": "2023-06-18T18:34:55.875Z"
   },
   {
    "duration": 21,
    "start_time": "2023-06-18T18:34:55.982Z"
   },
   {
    "duration": 96,
    "start_time": "2023-06-18T18:34:56.005Z"
   },
   {
    "duration": 4,
    "start_time": "2023-06-18T18:34:56.103Z"
   },
   {
    "duration": 58,
    "start_time": "2023-06-18T18:34:56.109Z"
   },
   {
    "duration": 40,
    "start_time": "2023-06-18T18:34:56.169Z"
   },
   {
    "duration": 84,
    "start_time": "2023-06-18T18:34:56.211Z"
   },
   {
    "duration": 7,
    "start_time": "2023-06-18T18:34:56.297Z"
   },
   {
    "duration": 1204,
    "start_time": "2023-06-18T18:35:07.464Z"
   },
   {
    "duration": 3,
    "start_time": "2023-06-18T18:35:08.669Z"
   },
   {
    "duration": 100,
    "start_time": "2023-06-18T18:35:08.673Z"
   },
   {
    "duration": 22,
    "start_time": "2023-06-18T18:35:08.774Z"
   },
   {
    "duration": 84,
    "start_time": "2023-06-18T18:35:08.798Z"
   },
   {
    "duration": 4,
    "start_time": "2023-06-18T18:35:08.884Z"
   },
   {
    "duration": 15,
    "start_time": "2023-06-18T18:35:08.889Z"
   },
   {
    "duration": 23,
    "start_time": "2023-06-18T18:35:08.906Z"
   },
   {
    "duration": 43,
    "start_time": "2023-06-18T18:35:08.934Z"
   },
   {
    "duration": 9,
    "start_time": "2023-06-18T18:35:08.979Z"
   },
   {
    "duration": 12726,
    "start_time": "2023-06-18T18:35:08.989Z"
   },
   {
    "duration": 127356,
    "start_time": "2023-06-18T18:35:21.716Z"
   },
   {
    "duration": 690251,
    "start_time": "2023-06-18T18:37:29.074Z"
   },
   {
    "duration": 56,
    "start_time": "2023-06-19T07:47:03.970Z"
   },
   {
    "duration": 1547,
    "start_time": "2023-06-19T07:47:17.655Z"
   },
   {
    "duration": 3,
    "start_time": "2023-06-19T07:47:19.204Z"
   },
   {
    "duration": 516,
    "start_time": "2023-06-19T07:47:19.209Z"
   },
   {
    "duration": 30,
    "start_time": "2023-06-19T07:47:19.727Z"
   },
   {
    "duration": 105,
    "start_time": "2023-06-19T07:47:19.759Z"
   },
   {
    "duration": 5,
    "start_time": "2023-06-19T07:47:19.865Z"
   },
   {
    "duration": 18,
    "start_time": "2023-06-19T07:47:19.872Z"
   },
   {
    "duration": 33,
    "start_time": "2023-06-19T07:47:19.892Z"
   },
   {
    "duration": 89,
    "start_time": "2023-06-19T07:47:19.926Z"
   },
   {
    "duration": 11,
    "start_time": "2023-06-19T07:47:20.018Z"
   },
   {
    "duration": 17648,
    "start_time": "2023-06-19T07:47:20.031Z"
   },
   {
    "duration": 140080,
    "start_time": "2023-06-19T07:47:37.681Z"
   },
   {
    "duration": 1397,
    "start_time": "2023-06-19T08:00:43.900Z"
   },
   {
    "duration": 2,
    "start_time": "2023-06-19T08:00:45.299Z"
   },
   {
    "duration": 98,
    "start_time": "2023-06-19T08:00:45.303Z"
   },
   {
    "duration": 25,
    "start_time": "2023-06-19T08:00:45.402Z"
   },
   {
    "duration": 89,
    "start_time": "2023-06-19T08:00:45.429Z"
   },
   {
    "duration": 5,
    "start_time": "2023-06-19T08:00:45.519Z"
   },
   {
    "duration": 20,
    "start_time": "2023-06-19T08:00:45.525Z"
   },
   {
    "duration": 25,
    "start_time": "2023-06-19T08:00:45.547Z"
   },
   {
    "duration": 53,
    "start_time": "2023-06-19T08:00:45.573Z"
   },
   {
    "duration": 8,
    "start_time": "2023-06-19T08:00:45.628Z"
   },
   {
    "duration": 18074,
    "start_time": "2023-06-19T08:00:45.637Z"
   },
   {
    "duration": 141620,
    "start_time": "2023-06-19T08:01:03.712Z"
   },
   {
    "duration": 487344,
    "start_time": "2023-06-19T08:03:25.333Z"
   },
   {
    "duration": 182,
    "start_time": "2023-06-19T08:11:32.771Z"
   },
   {
    "duration": 0,
    "start_time": "2023-06-19T08:11:32.954Z"
   },
   {
    "duration": 19,
    "start_time": "2023-06-19T08:28:17.484Z"
   },
   {
    "duration": 4,
    "start_time": "2023-06-19T08:36:48.992Z"
   },
   {
    "duration": 9,
    "start_time": "2023-06-19T08:36:55.304Z"
   },
   {
    "duration": 17113,
    "start_time": "2023-06-19T08:38:54.176Z"
   },
   {
    "duration": 0,
    "start_time": "2023-06-19T08:39:11.291Z"
   },
   {
    "duration": 20,
    "start_time": "2023-06-19T08:39:19.396Z"
   },
   {
    "duration": 20,
    "start_time": "2023-06-19T08:39:46.591Z"
   },
   {
    "duration": 262,
    "start_time": "2023-06-19T08:41:29.167Z"
   },
   {
    "duration": 20,
    "start_time": "2023-06-19T08:42:07.459Z"
   },
   {
    "duration": 19,
    "start_time": "2023-06-19T08:48:30.844Z"
   },
   {
    "duration": 1408,
    "start_time": "2023-06-19T08:49:46.253Z"
   },
   {
    "duration": 2,
    "start_time": "2023-06-19T08:49:47.663Z"
   },
   {
    "duration": 112,
    "start_time": "2023-06-19T08:49:47.666Z"
   },
   {
    "duration": 24,
    "start_time": "2023-06-19T08:49:47.781Z"
   },
   {
    "duration": 109,
    "start_time": "2023-06-19T08:49:47.807Z"
   },
   {
    "duration": 4,
    "start_time": "2023-06-19T08:49:47.918Z"
   },
   {
    "duration": 12,
    "start_time": "2023-06-19T08:49:47.923Z"
   },
   {
    "duration": 17,
    "start_time": "2023-06-19T08:49:47.936Z"
   },
   {
    "duration": 62,
    "start_time": "2023-06-19T08:49:47.954Z"
   },
   {
    "duration": 12,
    "start_time": "2023-06-19T08:49:48.018Z"
   },
   {
    "duration": 130,
    "start_time": "2023-06-19T08:49:48.031Z"
   },
   {
    "duration": 0,
    "start_time": "2023-06-19T08:49:48.162Z"
   },
   {
    "duration": 0,
    "start_time": "2023-06-19T08:49:48.169Z"
   },
   {
    "duration": 0,
    "start_time": "2023-06-19T08:49:48.170Z"
   },
   {
    "duration": 0,
    "start_time": "2023-06-19T08:49:48.170Z"
   },
   {
    "duration": 16,
    "start_time": "2023-06-19T08:51:37.294Z"
   },
   {
    "duration": 1354,
    "start_time": "2023-06-19T08:53:10.612Z"
   },
   {
    "duration": 7,
    "start_time": "2023-06-19T08:53:11.968Z"
   },
   {
    "duration": 121,
    "start_time": "2023-06-19T08:53:11.977Z"
   },
   {
    "duration": 24,
    "start_time": "2023-06-19T08:53:12.100Z"
   },
   {
    "duration": 96,
    "start_time": "2023-06-19T08:53:12.126Z"
   },
   {
    "duration": 4,
    "start_time": "2023-06-19T08:53:12.224Z"
   },
   {
    "duration": 18,
    "start_time": "2023-06-19T08:53:12.230Z"
   },
   {
    "duration": 33,
    "start_time": "2023-06-19T08:53:12.250Z"
   },
   {
    "duration": 43,
    "start_time": "2023-06-19T08:53:12.285Z"
   },
   {
    "duration": 10,
    "start_time": "2023-06-19T08:53:12.330Z"
   },
   {
    "duration": 18702,
    "start_time": "2023-06-19T08:53:12.341Z"
   },
   {
    "duration": 142867,
    "start_time": "2023-06-19T08:53:31.045Z"
   },
   {
    "duration": 538756,
    "start_time": "2023-06-19T08:55:53.913Z"
   },
   {
    "duration": 218,
    "start_time": "2023-06-19T09:04:52.673Z"
   },
   {
    "duration": 0,
    "start_time": "2023-06-19T09:04:52.892Z"
   },
   {
    "duration": 3991,
    "start_time": "2023-06-19T09:05:53.693Z"
   },
   {
    "duration": 0,
    "start_time": "2023-06-19T09:05:57.686Z"
   },
   {
    "duration": 11835,
    "start_time": "2023-06-19T09:06:11.749Z"
   },
   {
    "duration": 12820,
    "start_time": "2023-06-19T09:06:37.380Z"
   },
   {
    "duration": 13,
    "start_time": "2023-06-19T09:07:35.396Z"
   },
   {
    "duration": 1387,
    "start_time": "2023-06-19T09:07:40.737Z"
   },
   {
    "duration": 3,
    "start_time": "2023-06-19T09:07:42.125Z"
   },
   {
    "duration": 93,
    "start_time": "2023-06-19T09:07:42.129Z"
   },
   {
    "duration": 24,
    "start_time": "2023-06-19T09:07:42.224Z"
   },
   {
    "duration": 102,
    "start_time": "2023-06-19T09:07:42.249Z"
   },
   {
    "duration": 4,
    "start_time": "2023-06-19T09:07:42.352Z"
   },
   {
    "duration": 19,
    "start_time": "2023-06-19T09:07:42.358Z"
   },
   {
    "duration": 13,
    "start_time": "2023-06-19T09:07:42.378Z"
   },
   {
    "duration": 42,
    "start_time": "2023-06-19T09:07:42.393Z"
   },
   {
    "duration": 8,
    "start_time": "2023-06-19T09:07:42.437Z"
   },
   {
    "duration": 17945,
    "start_time": "2023-06-19T09:07:42.446Z"
   },
   {
    "duration": 136047,
    "start_time": "2023-06-19T09:08:00.393Z"
   },
   {
    "duration": 502135,
    "start_time": "2023-06-19T09:10:16.442Z"
   },
   {
    "duration": 3984,
    "start_time": "2023-06-19T09:18:38.580Z"
   },
   {
    "duration": 14112,
    "start_time": "2023-06-19T09:18:42.565Z"
   },
   {
    "duration": 6,
    "start_time": "2023-06-19T09:33:29.348Z"
   },
   {
    "duration": 119,
    "start_time": "2023-06-20T13:07:13.398Z"
   },
   {
    "duration": 1741,
    "start_time": "2023-06-20T15:45:50.485Z"
   },
   {
    "duration": 3,
    "start_time": "2023-06-20T15:45:54.419Z"
   },
   {
    "duration": 468,
    "start_time": "2023-06-20T15:45:55.924Z"
   },
   {
    "duration": 68,
    "start_time": "2023-06-20T15:45:58.031Z"
   },
   {
    "duration": 44,
    "start_time": "2023-06-20T15:46:01.225Z"
   },
   {
    "duration": 92,
    "start_time": "2023-06-20T15:46:03.933Z"
   },
   {
    "duration": 49,
    "start_time": "2023-06-20T15:46:13.772Z"
   },
   {
    "duration": 31,
    "start_time": "2023-06-20T15:46:17.965Z"
   },
   {
    "duration": 26,
    "start_time": "2023-06-20T15:46:20.792Z"
   },
   {
    "duration": 119,
    "start_time": "2023-06-20T15:46:23.429Z"
   },
   {
    "duration": 6,
    "start_time": "2023-06-20T15:46:26.955Z"
   },
   {
    "duration": 14,
    "start_time": "2023-06-20T15:47:09.594Z"
   },
   {
    "duration": 6,
    "start_time": "2023-06-20T15:47:12.351Z"
   },
   {
    "duration": 6,
    "start_time": "2023-06-20T15:47:34.882Z"
   },
   {
    "duration": 948,
    "start_time": "2023-06-20T15:48:32.110Z"
   },
   {
    "duration": 14,
    "start_time": "2023-06-20T15:50:57.104Z"
   },
   {
    "duration": 27,
    "start_time": "2023-06-20T15:51:25.116Z"
   },
   {
    "duration": 4,
    "start_time": "2023-06-20T15:54:53.297Z"
   },
   {
    "duration": 17,
    "start_time": "2023-06-20T16:00:30.530Z"
   },
   {
    "duration": 14,
    "start_time": "2023-06-20T16:08:52.236Z"
   },
   {
    "duration": 18,
    "start_time": "2023-06-20T16:09:16.282Z"
   },
   {
    "duration": 41,
    "start_time": "2023-06-20T16:09:18.044Z"
   },
   {
    "duration": 16,
    "start_time": "2023-06-20T16:09:46.526Z"
   },
   {
    "duration": 145,
    "start_time": "2023-06-20T16:14:17.604Z"
   },
   {
    "duration": 105,
    "start_time": "2023-06-20T16:15:08.490Z"
   },
   {
    "duration": 31,
    "start_time": "2023-06-20T17:09:39.938Z"
   },
   {
    "duration": 1416,
    "start_time": "2023-06-20T17:09:49.718Z"
   },
   {
    "duration": 3,
    "start_time": "2023-06-20T17:09:51.136Z"
   },
   {
    "duration": 108,
    "start_time": "2023-06-20T17:09:51.141Z"
   },
   {
    "duration": 59,
    "start_time": "2023-06-20T17:09:51.251Z"
   },
   {
    "duration": 69,
    "start_time": "2023-06-20T17:09:51.312Z"
   },
   {
    "duration": 53,
    "start_time": "2023-06-20T17:09:51.385Z"
   },
   {
    "duration": 58,
    "start_time": "2023-06-20T17:09:51.440Z"
   },
   {
    "duration": 30,
    "start_time": "2023-06-20T17:09:51.500Z"
   },
   {
    "duration": 146,
    "start_time": "2023-06-20T17:09:51.533Z"
   },
   {
    "duration": 11,
    "start_time": "2023-06-20T17:09:51.685Z"
   },
   {
    "duration": 21,
    "start_time": "2023-06-20T17:09:51.698Z"
   },
   {
    "duration": 9,
    "start_time": "2023-06-20T17:09:51.721Z"
   },
   {
    "duration": 19,
    "start_time": "2023-06-20T17:09:51.732Z"
   },
   {
    "duration": 21,
    "start_time": "2023-06-20T17:09:51.752Z"
   },
   {
    "duration": 7,
    "start_time": "2023-06-20T17:09:51.775Z"
   },
   {
    "duration": 125,
    "start_time": "2023-06-20T17:09:51.784Z"
   },
   {
    "duration": 97,
    "start_time": "2023-06-20T17:09:51.911Z"
   },
   {
    "duration": 140,
    "start_time": "2023-06-20T17:09:52.010Z"
   },
   {
    "duration": 0,
    "start_time": "2023-06-20T17:09:52.152Z"
   },
   {
    "duration": 0,
    "start_time": "2023-06-20T17:09:52.175Z"
   },
   {
    "duration": 0,
    "start_time": "2023-06-20T17:09:52.183Z"
   },
   {
    "duration": 0,
    "start_time": "2023-06-20T17:09:52.184Z"
   },
   {
    "duration": 0,
    "start_time": "2023-06-20T17:09:52.184Z"
   },
   {
    "duration": 0,
    "start_time": "2023-06-20T17:09:52.185Z"
   },
   {
    "duration": 0,
    "start_time": "2023-06-20T17:09:52.186Z"
   },
   {
    "duration": 0,
    "start_time": "2023-06-20T17:09:52.186Z"
   },
   {
    "duration": 13,
    "start_time": "2023-06-20T17:11:26.671Z"
   },
   {
    "duration": 94,
    "start_time": "2023-06-20T17:11:47.116Z"
   },
   {
    "duration": 3637,
    "start_time": "2023-06-20T17:12:40.691Z"
   },
   {
    "duration": 11,
    "start_time": "2023-06-20T17:12:49.509Z"
   },
   {
    "duration": 2062,
    "start_time": "2023-06-20T17:13:24.388Z"
   },
   {
    "duration": 1670,
    "start_time": "2023-06-20T17:13:26.452Z"
   },
   {
    "duration": 4,
    "start_time": "2023-06-20T17:13:28.123Z"
   },
   {
    "duration": 99,
    "start_time": "2023-06-20T17:13:28.129Z"
   },
   {
    "duration": 75,
    "start_time": "2023-06-20T17:13:28.230Z"
   },
   {
    "duration": 54,
    "start_time": "2023-06-20T17:13:28.307Z"
   },
   {
    "duration": 67,
    "start_time": "2023-06-20T17:13:28.364Z"
   },
   {
    "duration": 50,
    "start_time": "2023-06-20T17:13:28.433Z"
   },
   {
    "duration": 33,
    "start_time": "2023-06-20T17:13:28.486Z"
   },
   {
    "duration": 127,
    "start_time": "2023-06-20T17:13:28.522Z"
   },
   {
    "duration": 18,
    "start_time": "2023-06-20T17:13:28.659Z"
   },
   {
    "duration": 9,
    "start_time": "2023-06-20T17:13:28.679Z"
   },
   {
    "duration": 8,
    "start_time": "2023-06-20T17:13:28.690Z"
   },
   {
    "duration": 16,
    "start_time": "2023-06-20T17:13:28.699Z"
   },
   {
    "duration": 11,
    "start_time": "2023-06-20T17:13:28.716Z"
   },
   {
    "duration": 34,
    "start_time": "2023-06-20T17:13:28.728Z"
   },
   {
    "duration": 119,
    "start_time": "2023-06-20T17:13:28.764Z"
   },
   {
    "duration": 102,
    "start_time": "2023-06-20T17:13:28.887Z"
   },
   {
    "duration": 9503,
    "start_time": "2023-06-20T17:13:28.991Z"
   },
   {
    "duration": 43,
    "start_time": "2023-06-20T17:13:38.497Z"
   },
   {
    "duration": 24,
    "start_time": "2023-06-20T17:13:38.542Z"
   },
   {
    "duration": 168,
    "start_time": "2023-06-20T17:13:38.568Z"
   },
   {
    "duration": 0,
    "start_time": "2023-06-20T17:13:38.738Z"
   },
   {
    "duration": 0,
    "start_time": "2023-06-20T17:13:38.740Z"
   },
   {
    "duration": 0,
    "start_time": "2023-06-20T17:13:38.741Z"
   },
   {
    "duration": 1,
    "start_time": "2023-06-20T17:13:38.742Z"
   },
   {
    "duration": 0,
    "start_time": "2023-06-20T17:13:38.744Z"
   },
   {
    "duration": 1996,
    "start_time": "2023-06-20T17:14:47.930Z"
   },
   {
    "duration": 1332,
    "start_time": "2023-06-20T17:14:49.928Z"
   },
   {
    "duration": 3,
    "start_time": "2023-06-20T17:14:51.262Z"
   },
   {
    "duration": 144,
    "start_time": "2023-06-20T17:14:51.267Z"
   },
   {
    "duration": 57,
    "start_time": "2023-06-20T17:14:51.413Z"
   },
   {
    "duration": 40,
    "start_time": "2023-06-20T17:14:51.472Z"
   },
   {
    "duration": 65,
    "start_time": "2023-06-20T17:14:51.514Z"
   },
   {
    "duration": 28,
    "start_time": "2023-06-20T17:14:51.581Z"
   },
   {
    "duration": 53,
    "start_time": "2023-06-20T17:14:51.611Z"
   },
   {
    "duration": 112,
    "start_time": "2023-06-20T17:14:51.669Z"
   },
   {
    "duration": 9,
    "start_time": "2023-06-20T17:14:51.783Z"
   },
   {
    "duration": 25,
    "start_time": "2023-06-20T17:14:51.793Z"
   },
   {
    "duration": 16,
    "start_time": "2023-06-20T17:14:51.820Z"
   },
   {
    "duration": 30,
    "start_time": "2023-06-20T17:14:51.838Z"
   },
   {
    "duration": 42,
    "start_time": "2023-06-20T17:14:51.870Z"
   },
   {
    "duration": 11,
    "start_time": "2023-06-20T17:14:51.914Z"
   },
   {
    "duration": 101,
    "start_time": "2023-06-20T17:14:51.926Z"
   },
   {
    "duration": 92,
    "start_time": "2023-06-20T17:14:52.028Z"
   },
   {
    "duration": 9092,
    "start_time": "2023-06-20T17:14:52.122Z"
   },
   {
    "duration": 64,
    "start_time": "2023-06-20T17:15:01.215Z"
   },
   {
    "duration": 40,
    "start_time": "2023-06-20T17:15:01.281Z"
   },
   {
    "duration": 10,
    "start_time": "2023-06-20T17:15:01.322Z"
   },
   {
    "duration": 186,
    "start_time": "2023-06-20T17:15:01.333Z"
   },
   {
    "duration": 1,
    "start_time": "2023-06-20T17:15:01.520Z"
   },
   {
    "duration": 0,
    "start_time": "2023-06-20T17:15:01.522Z"
   },
   {
    "duration": 0,
    "start_time": "2023-06-20T17:15:01.522Z"
   },
   {
    "duration": 0,
    "start_time": "2023-06-20T17:15:01.523Z"
   },
   {
    "duration": 1,
    "start_time": "2023-06-20T17:15:01.524Z"
   },
   {
    "duration": 16,
    "start_time": "2023-06-20T17:25:27.955Z"
   },
   {
    "duration": 9,
    "start_time": "2023-06-20T17:25:36.781Z"
   },
   {
    "duration": 13,
    "start_time": "2023-06-20T17:26:06.744Z"
   },
   {
    "duration": 2008,
    "start_time": "2023-06-20T17:26:19.172Z"
   },
   {
    "duration": 1404,
    "start_time": "2023-06-20T17:26:21.183Z"
   },
   {
    "duration": 3,
    "start_time": "2023-06-20T17:26:22.589Z"
   },
   {
    "duration": 120,
    "start_time": "2023-06-20T17:26:22.594Z"
   },
   {
    "duration": 52,
    "start_time": "2023-06-20T17:26:22.716Z"
   },
   {
    "duration": 38,
    "start_time": "2023-06-20T17:26:22.770Z"
   },
   {
    "duration": 56,
    "start_time": "2023-06-20T17:26:22.809Z"
   },
   {
    "duration": 26,
    "start_time": "2023-06-20T17:26:22.867Z"
   },
   {
    "duration": 27,
    "start_time": "2023-06-20T17:26:22.894Z"
   },
   {
    "duration": 111,
    "start_time": "2023-06-20T17:26:22.924Z"
   },
   {
    "duration": 27,
    "start_time": "2023-06-20T17:26:23.037Z"
   },
   {
    "duration": 21,
    "start_time": "2023-06-20T17:26:23.065Z"
   },
   {
    "duration": 19,
    "start_time": "2023-06-20T17:26:23.088Z"
   },
   {
    "duration": 31,
    "start_time": "2023-06-20T17:26:23.108Z"
   },
   {
    "duration": 111,
    "start_time": "2023-06-20T17:26:23.141Z"
   },
   {
    "duration": 0,
    "start_time": "2023-06-20T17:26:23.253Z"
   },
   {
    "duration": 0,
    "start_time": "2023-06-20T17:26:23.255Z"
   },
   {
    "duration": 0,
    "start_time": "2023-06-20T17:26:23.260Z"
   },
   {
    "duration": 1,
    "start_time": "2023-06-20T17:26:23.261Z"
   },
   {
    "duration": 0,
    "start_time": "2023-06-20T17:26:23.264Z"
   },
   {
    "duration": 0,
    "start_time": "2023-06-20T17:26:23.266Z"
   },
   {
    "duration": 0,
    "start_time": "2023-06-20T17:26:23.268Z"
   },
   {
    "duration": 0,
    "start_time": "2023-06-20T17:26:23.269Z"
   },
   {
    "duration": 0,
    "start_time": "2023-06-20T17:26:23.271Z"
   },
   {
    "duration": 0,
    "start_time": "2023-06-20T17:26:23.273Z"
   },
   {
    "duration": 0,
    "start_time": "2023-06-20T17:26:23.275Z"
   },
   {
    "duration": 0,
    "start_time": "2023-06-20T17:26:23.277Z"
   },
   {
    "duration": 8,
    "start_time": "2023-06-20T17:26:42.199Z"
   },
   {
    "duration": 1978,
    "start_time": "2023-06-20T17:26:46.875Z"
   },
   {
    "duration": 1483,
    "start_time": "2023-06-20T17:26:48.856Z"
   },
   {
    "duration": 3,
    "start_time": "2023-06-20T17:26:50.341Z"
   },
   {
    "duration": 97,
    "start_time": "2023-06-20T17:26:50.346Z"
   },
   {
    "duration": 65,
    "start_time": "2023-06-20T17:26:50.444Z"
   },
   {
    "duration": 53,
    "start_time": "2023-06-20T17:26:50.512Z"
   },
   {
    "duration": 41,
    "start_time": "2023-06-20T17:26:50.567Z"
   },
   {
    "duration": 23,
    "start_time": "2023-06-20T17:26:50.609Z"
   },
   {
    "duration": 25,
    "start_time": "2023-06-20T17:26:50.659Z"
   },
   {
    "duration": 124,
    "start_time": "2023-06-20T17:26:50.686Z"
   },
   {
    "duration": 9,
    "start_time": "2023-06-20T17:26:50.813Z"
   },
   {
    "duration": 10,
    "start_time": "2023-06-20T17:26:50.823Z"
   },
   {
    "duration": 6,
    "start_time": "2023-06-20T17:26:50.834Z"
   },
   {
    "duration": 28,
    "start_time": "2023-06-20T17:26:50.841Z"
   },
   {
    "duration": 7,
    "start_time": "2023-06-20T17:26:50.870Z"
   },
   {
    "duration": 17,
    "start_time": "2023-06-20T17:26:50.879Z"
   },
   {
    "duration": 8,
    "start_time": "2023-06-20T17:26:50.897Z"
   },
   {
    "duration": 86,
    "start_time": "2023-06-20T17:26:50.906Z"
   },
   {
    "duration": 76,
    "start_time": "2023-06-20T17:26:50.994Z"
   },
   {
    "duration": 1143,
    "start_time": "2023-06-20T17:26:51.072Z"
   },
   {
    "duration": 8,
    "start_time": "2023-06-20T17:26:52.216Z"
   },
   {
    "duration": 141,
    "start_time": "2023-06-20T17:26:52.225Z"
   },
   {
    "duration": 0,
    "start_time": "2023-06-20T17:26:52.368Z"
   },
   {
    "duration": 0,
    "start_time": "2023-06-20T17:26:52.369Z"
   },
   {
    "duration": 0,
    "start_time": "2023-06-20T17:26:52.371Z"
   },
   {
    "duration": 0,
    "start_time": "2023-06-20T17:26:52.373Z"
   },
   {
    "duration": 0,
    "start_time": "2023-06-20T17:26:52.375Z"
   },
   {
    "duration": 1876,
    "start_time": "2023-06-20T17:28:09.310Z"
   },
   {
    "duration": 1306,
    "start_time": "2023-06-20T17:28:11.188Z"
   },
   {
    "duration": 3,
    "start_time": "2023-06-20T17:28:12.496Z"
   },
   {
    "duration": 102,
    "start_time": "2023-06-20T17:28:12.501Z"
   },
   {
    "duration": 49,
    "start_time": "2023-06-20T17:28:12.605Z"
   },
   {
    "duration": 35,
    "start_time": "2023-06-20T17:28:12.656Z"
   },
   {
    "duration": 40,
    "start_time": "2023-06-20T17:28:12.693Z"
   },
   {
    "duration": 44,
    "start_time": "2023-06-20T17:28:12.735Z"
   },
   {
    "duration": 27,
    "start_time": "2023-06-20T17:28:12.780Z"
   },
   {
    "duration": 110,
    "start_time": "2023-06-20T17:28:12.810Z"
   },
   {
    "duration": 9,
    "start_time": "2023-06-20T17:28:12.922Z"
   },
   {
    "duration": 10,
    "start_time": "2023-06-20T17:28:12.932Z"
   },
   {
    "duration": 17,
    "start_time": "2023-06-20T17:28:12.943Z"
   },
   {
    "duration": 18,
    "start_time": "2023-06-20T17:28:12.961Z"
   },
   {
    "duration": 6,
    "start_time": "2023-06-20T17:28:12.980Z"
   },
   {
    "duration": 24,
    "start_time": "2023-06-20T17:28:12.988Z"
   },
   {
    "duration": 4,
    "start_time": "2023-06-20T17:28:13.014Z"
   },
   {
    "duration": 109,
    "start_time": "2023-06-20T17:28:13.020Z"
   },
   {
    "duration": 75,
    "start_time": "2023-06-20T17:28:13.130Z"
   },
   {
    "duration": 1376,
    "start_time": "2023-06-20T17:28:13.207Z"
   },
   {
    "duration": 10,
    "start_time": "2023-06-20T17:28:14.584Z"
   },
   {
    "duration": 157,
    "start_time": "2023-06-20T17:28:14.596Z"
   },
   {
    "duration": 0,
    "start_time": "2023-06-20T17:28:14.758Z"
   },
   {
    "duration": 0,
    "start_time": "2023-06-20T17:28:14.760Z"
   },
   {
    "duration": 0,
    "start_time": "2023-06-20T17:28:14.761Z"
   },
   {
    "duration": 0,
    "start_time": "2023-06-20T17:28:14.762Z"
   },
   {
    "duration": 0,
    "start_time": "2023-06-20T17:28:14.764Z"
   },
   {
    "duration": 39,
    "start_time": "2023-06-20T17:29:30.960Z"
   },
   {
    "duration": 1894,
    "start_time": "2023-06-20T17:30:56.144Z"
   },
   {
    "duration": 1393,
    "start_time": "2023-06-20T17:30:58.040Z"
   },
   {
    "duration": 3,
    "start_time": "2023-06-20T17:30:59.438Z"
   },
   {
    "duration": 101,
    "start_time": "2023-06-20T17:30:59.443Z"
   },
   {
    "duration": 59,
    "start_time": "2023-06-20T17:30:59.545Z"
   },
   {
    "duration": 57,
    "start_time": "2023-06-20T17:30:59.605Z"
   },
   {
    "duration": 45,
    "start_time": "2023-06-20T17:30:59.664Z"
   },
   {
    "duration": 53,
    "start_time": "2023-06-20T17:30:59.712Z"
   },
   {
    "duration": 24,
    "start_time": "2023-06-20T17:30:59.767Z"
   },
   {
    "duration": 112,
    "start_time": "2023-06-20T17:30:59.793Z"
   },
   {
    "duration": 8,
    "start_time": "2023-06-20T17:30:59.907Z"
   },
   {
    "duration": 55,
    "start_time": "2023-06-20T17:30:59.917Z"
   },
   {
    "duration": 13,
    "start_time": "2023-06-20T17:30:59.974Z"
   },
   {
    "duration": 46,
    "start_time": "2023-06-20T17:30:59.989Z"
   },
   {
    "duration": 32,
    "start_time": "2023-06-20T17:31:00.036Z"
   },
   {
    "duration": 41,
    "start_time": "2023-06-20T17:31:00.070Z"
   },
   {
    "duration": 37,
    "start_time": "2023-06-20T17:31:00.113Z"
   },
   {
    "duration": 120,
    "start_time": "2023-06-20T17:31:00.152Z"
   },
   {
    "duration": 68,
    "start_time": "2023-06-20T17:31:00.273Z"
   },
   {
    "duration": 1232,
    "start_time": "2023-06-20T17:31:00.360Z"
   },
   {
    "duration": 8,
    "start_time": "2023-06-20T17:31:01.593Z"
   },
   {
    "duration": 155,
    "start_time": "2023-06-20T17:31:01.602Z"
   },
   {
    "duration": 0,
    "start_time": "2023-06-20T17:31:01.759Z"
   },
   {
    "duration": 0,
    "start_time": "2023-06-20T17:31:01.760Z"
   },
   {
    "duration": 0,
    "start_time": "2023-06-20T17:31:01.761Z"
   },
   {
    "duration": 0,
    "start_time": "2023-06-20T17:31:01.763Z"
   },
   {
    "duration": 0,
    "start_time": "2023-06-20T17:31:01.764Z"
   },
   {
    "duration": 2013,
    "start_time": "2023-06-20T17:31:14.581Z"
   },
   {
    "duration": 1372,
    "start_time": "2023-06-20T17:31:16.596Z"
   },
   {
    "duration": 4,
    "start_time": "2023-06-20T17:31:17.970Z"
   },
   {
    "duration": 137,
    "start_time": "2023-06-20T17:31:17.977Z"
   },
   {
    "duration": 56,
    "start_time": "2023-06-20T17:31:18.115Z"
   },
   {
    "duration": 37,
    "start_time": "2023-06-20T17:31:18.173Z"
   },
   {
    "duration": 62,
    "start_time": "2023-06-20T17:31:18.212Z"
   },
   {
    "duration": 26,
    "start_time": "2023-06-20T17:31:18.276Z"
   },
   {
    "duration": 26,
    "start_time": "2023-06-20T17:31:18.304Z"
   },
   {
    "duration": 110,
    "start_time": "2023-06-20T17:31:18.333Z"
   },
   {
    "duration": 16,
    "start_time": "2023-06-20T17:31:18.459Z"
   },
   {
    "duration": 7,
    "start_time": "2023-06-20T17:31:18.477Z"
   },
   {
    "duration": 10,
    "start_time": "2023-06-20T17:31:18.486Z"
   },
   {
    "duration": 15,
    "start_time": "2023-06-20T17:31:18.498Z"
   },
   {
    "duration": 6,
    "start_time": "2023-06-20T17:31:18.515Z"
   },
   {
    "duration": 36,
    "start_time": "2023-06-20T17:31:18.523Z"
   },
   {
    "duration": 7,
    "start_time": "2023-06-20T17:31:18.562Z"
   },
   {
    "duration": 96,
    "start_time": "2023-06-20T17:31:18.571Z"
   },
   {
    "duration": 61,
    "start_time": "2023-06-20T17:31:18.668Z"
   },
   {
    "duration": 1188,
    "start_time": "2023-06-20T17:31:18.731Z"
   },
   {
    "duration": 8,
    "start_time": "2023-06-20T17:31:19.920Z"
   },
   {
    "duration": 154,
    "start_time": "2023-06-20T17:31:19.930Z"
   },
   {
    "duration": 0,
    "start_time": "2023-06-20T17:31:20.086Z"
   },
   {
    "duration": 0,
    "start_time": "2023-06-20T17:31:20.088Z"
   },
   {
    "duration": 0,
    "start_time": "2023-06-20T17:31:20.089Z"
   },
   {
    "duration": 0,
    "start_time": "2023-06-20T17:31:20.090Z"
   },
   {
    "duration": 0,
    "start_time": "2023-06-20T17:31:20.091Z"
   },
   {
    "duration": 1889,
    "start_time": "2023-06-20T17:33:29.874Z"
   },
   {
    "duration": 1423,
    "start_time": "2023-06-20T17:33:31.765Z"
   },
   {
    "duration": 3,
    "start_time": "2023-06-20T17:33:33.190Z"
   },
   {
    "duration": 99,
    "start_time": "2023-06-20T17:33:33.195Z"
   },
   {
    "duration": 61,
    "start_time": "2023-06-20T17:33:33.297Z"
   },
   {
    "duration": 38,
    "start_time": "2023-06-20T17:33:33.360Z"
   },
   {
    "duration": 66,
    "start_time": "2023-06-20T17:33:33.400Z"
   },
   {
    "duration": 41,
    "start_time": "2023-06-20T17:33:33.469Z"
   },
   {
    "duration": 47,
    "start_time": "2023-06-20T17:33:33.514Z"
   },
   {
    "duration": 108,
    "start_time": "2023-06-20T17:33:33.565Z"
   },
   {
    "duration": 11,
    "start_time": "2023-06-20T17:33:33.675Z"
   },
   {
    "duration": 6,
    "start_time": "2023-06-20T17:33:33.687Z"
   },
   {
    "duration": 5,
    "start_time": "2023-06-20T17:33:33.695Z"
   },
   {
    "duration": 16,
    "start_time": "2023-06-20T17:33:33.702Z"
   },
   {
    "duration": 44,
    "start_time": "2023-06-20T17:33:33.720Z"
   },
   {
    "duration": 10,
    "start_time": "2023-06-20T17:33:33.766Z"
   },
   {
    "duration": 7,
    "start_time": "2023-06-20T17:33:33.777Z"
   },
   {
    "duration": 100,
    "start_time": "2023-06-20T17:33:33.786Z"
   },
   {
    "duration": 90,
    "start_time": "2023-06-20T17:33:33.889Z"
   },
   {
    "duration": 1334,
    "start_time": "2023-06-20T17:33:33.981Z"
   },
   {
    "duration": 8,
    "start_time": "2023-06-20T17:33:35.317Z"
   },
   {
    "duration": 47,
    "start_time": "2023-06-20T17:33:35.326Z"
   },
   {
    "duration": 926,
    "start_time": "2023-06-20T17:33:35.375Z"
   },
   {
    "duration": 0,
    "start_time": "2023-06-20T17:33:36.303Z"
   },
   {
    "duration": 0,
    "start_time": "2023-06-20T17:33:36.305Z"
   },
   {
    "duration": 0,
    "start_time": "2023-06-20T17:33:36.306Z"
   },
   {
    "duration": 0,
    "start_time": "2023-06-20T17:33:36.307Z"
   },
   {
    "duration": 1899,
    "start_time": "2023-06-20T17:34:39.250Z"
   },
   {
    "duration": 1393,
    "start_time": "2023-06-20T17:34:41.151Z"
   },
   {
    "duration": 2,
    "start_time": "2023-06-20T17:34:42.546Z"
   },
   {
    "duration": 96,
    "start_time": "2023-06-20T17:34:42.550Z"
   },
   {
    "duration": 56,
    "start_time": "2023-06-20T17:34:42.648Z"
   },
   {
    "duration": 32,
    "start_time": "2023-06-20T17:34:42.705Z"
   },
   {
    "duration": 50,
    "start_time": "2023-06-20T17:34:42.759Z"
   },
   {
    "duration": 26,
    "start_time": "2023-06-20T17:34:42.811Z"
   },
   {
    "duration": 56,
    "start_time": "2023-06-20T17:34:42.859Z"
   },
   {
    "duration": 85,
    "start_time": "2023-06-20T17:34:42.917Z"
   },
   {
    "duration": 10,
    "start_time": "2023-06-20T17:34:43.003Z"
   },
   {
    "duration": 13,
    "start_time": "2023-06-20T17:34:43.015Z"
   },
   {
    "duration": 6,
    "start_time": "2023-06-20T17:34:43.030Z"
   },
   {
    "duration": 28,
    "start_time": "2023-06-20T17:34:43.039Z"
   },
   {
    "duration": 11,
    "start_time": "2023-06-20T17:34:43.069Z"
   },
   {
    "duration": 16,
    "start_time": "2023-06-20T17:34:43.082Z"
   },
   {
    "duration": 13,
    "start_time": "2023-06-20T17:34:43.099Z"
   },
   {
    "duration": 82,
    "start_time": "2023-06-20T17:34:43.113Z"
   },
   {
    "duration": 79,
    "start_time": "2023-06-20T17:34:43.197Z"
   },
   {
    "duration": 3876,
    "start_time": "2023-06-20T17:34:43.279Z"
   },
   {
    "duration": 10,
    "start_time": "2023-06-20T17:34:47.158Z"
   },
   {
    "duration": 154,
    "start_time": "2023-06-20T17:34:47.170Z"
   },
   {
    "duration": 0,
    "start_time": "2023-06-20T17:34:47.326Z"
   },
   {
    "duration": 0,
    "start_time": "2023-06-20T17:34:47.328Z"
   },
   {
    "duration": 0,
    "start_time": "2023-06-20T17:34:47.329Z"
   },
   {
    "duration": 0,
    "start_time": "2023-06-20T17:34:47.330Z"
   },
   {
    "duration": 0,
    "start_time": "2023-06-20T17:34:47.331Z"
   },
   {
    "duration": 60,
    "start_time": "2023-06-20T17:35:09.186Z"
   },
   {
    "duration": 6244,
    "start_time": "2023-06-20T17:37:07.079Z"
   },
   {
    "duration": 1997,
    "start_time": "2023-06-20T17:37:13.325Z"
   },
   {
    "duration": 1157,
    "start_time": "2023-06-20T17:37:15.324Z"
   },
   {
    "duration": 3,
    "start_time": "2023-06-20T17:37:16.483Z"
   },
   {
    "duration": 101,
    "start_time": "2023-06-20T17:37:16.488Z"
   },
   {
    "duration": 56,
    "start_time": "2023-06-20T17:37:16.590Z"
   },
   {
    "duration": 38,
    "start_time": "2023-06-20T17:37:16.647Z"
   },
   {
    "duration": 42,
    "start_time": "2023-06-20T17:37:16.687Z"
   },
   {
    "duration": 44,
    "start_time": "2023-06-20T17:37:16.731Z"
   },
   {
    "duration": 25,
    "start_time": "2023-06-20T17:37:16.777Z"
   },
   {
    "duration": 106,
    "start_time": "2023-06-20T17:37:16.804Z"
   },
   {
    "duration": 10,
    "start_time": "2023-06-20T17:37:16.912Z"
   },
   {
    "duration": 9,
    "start_time": "2023-06-20T17:37:16.923Z"
   },
   {
    "duration": 5,
    "start_time": "2023-06-20T17:37:16.934Z"
   },
   {
    "duration": 30,
    "start_time": "2023-06-20T17:37:16.940Z"
   },
   {
    "duration": 7,
    "start_time": "2023-06-20T17:37:16.972Z"
   },
   {
    "duration": 13,
    "start_time": "2023-06-20T17:37:16.980Z"
   },
   {
    "duration": 7,
    "start_time": "2023-06-20T17:37:16.994Z"
   },
   {
    "duration": 114,
    "start_time": "2023-06-20T17:37:17.003Z"
   },
   {
    "duration": 78,
    "start_time": "2023-06-20T17:37:17.119Z"
   },
   {
    "duration": 1270,
    "start_time": "2023-06-20T17:37:17.200Z"
   },
   {
    "duration": 10,
    "start_time": "2023-06-20T17:37:18.471Z"
   },
   {
    "duration": 154,
    "start_time": "2023-06-20T17:37:18.483Z"
   },
   {
    "duration": 0,
    "start_time": "2023-06-20T17:37:18.639Z"
   },
   {
    "duration": 0,
    "start_time": "2023-06-20T17:37:18.640Z"
   },
   {
    "duration": 0,
    "start_time": "2023-06-20T17:37:18.641Z"
   },
   {
    "duration": 0,
    "start_time": "2023-06-20T17:37:18.642Z"
   },
   {
    "duration": 0,
    "start_time": "2023-06-20T17:37:18.644Z"
   },
   {
    "duration": 22,
    "start_time": "2023-06-20T17:41:06.928Z"
   },
   {
    "duration": 18,
    "start_time": "2023-06-20T17:41:21.917Z"
   },
   {
    "duration": 83,
    "start_time": "2023-06-20T17:41:39.713Z"
   },
   {
    "duration": 1921,
    "start_time": "2023-06-20T17:42:43.149Z"
   },
   {
    "duration": 2007,
    "start_time": "2023-06-20T17:42:45.072Z"
   },
   {
    "duration": 1194,
    "start_time": "2023-06-20T17:42:47.082Z"
   },
   {
    "duration": 4,
    "start_time": "2023-06-20T17:42:48.277Z"
   },
   {
    "duration": 93,
    "start_time": "2023-06-20T17:42:48.283Z"
   },
   {
    "duration": 50,
    "start_time": "2023-06-20T17:42:48.378Z"
   },
   {
    "duration": 40,
    "start_time": "2023-06-20T17:42:48.430Z"
   },
   {
    "duration": 39,
    "start_time": "2023-06-20T17:42:48.471Z"
   },
   {
    "duration": 21,
    "start_time": "2023-06-20T17:42:48.511Z"
   },
   {
    "duration": 47,
    "start_time": "2023-06-20T17:42:48.534Z"
   },
   {
    "duration": 101,
    "start_time": "2023-06-20T17:42:48.582Z"
   },
   {
    "duration": 12,
    "start_time": "2023-06-20T17:42:48.684Z"
   },
   {
    "duration": 7,
    "start_time": "2023-06-20T17:42:48.698Z"
   },
   {
    "duration": 19,
    "start_time": "2023-06-20T17:42:48.707Z"
   },
   {
    "duration": 18,
    "start_time": "2023-06-20T17:42:48.728Z"
   },
   {
    "duration": 17,
    "start_time": "2023-06-20T17:42:48.748Z"
   },
   {
    "duration": 14,
    "start_time": "2023-06-20T17:42:48.767Z"
   },
   {
    "duration": 8,
    "start_time": "2023-06-20T17:42:48.783Z"
   },
   {
    "duration": 110,
    "start_time": "2023-06-20T17:42:48.793Z"
   },
   {
    "duration": 87,
    "start_time": "2023-06-20T17:42:48.905Z"
   },
   {
    "duration": 1366,
    "start_time": "2023-06-20T17:42:48.994Z"
   },
   {
    "duration": 11,
    "start_time": "2023-06-20T17:42:50.361Z"
   },
   {
    "duration": 162,
    "start_time": "2023-06-20T17:42:50.374Z"
   },
   {
    "duration": 0,
    "start_time": "2023-06-20T17:42:50.538Z"
   },
   {
    "duration": 0,
    "start_time": "2023-06-20T17:42:50.539Z"
   },
   {
    "duration": 0,
    "start_time": "2023-06-20T17:42:50.540Z"
   },
   {
    "duration": 0,
    "start_time": "2023-06-20T17:42:50.542Z"
   },
   {
    "duration": 0,
    "start_time": "2023-06-20T17:42:50.543Z"
   },
   {
    "duration": 45,
    "start_time": "2023-06-20T17:43:11.544Z"
   },
   {
    "duration": 25,
    "start_time": "2023-06-20T17:44:07.872Z"
   },
   {
    "duration": 2258,
    "start_time": "2023-06-20T17:44:17.426Z"
   },
   {
    "duration": 2014,
    "start_time": "2023-06-20T17:44:19.687Z"
   },
   {
    "duration": 1200,
    "start_time": "2023-06-20T17:44:21.707Z"
   },
   {
    "duration": 3,
    "start_time": "2023-06-20T17:44:22.909Z"
   },
   {
    "duration": 109,
    "start_time": "2023-06-20T17:44:22.914Z"
   },
   {
    "duration": 57,
    "start_time": "2023-06-20T17:44:23.025Z"
   },
   {
    "duration": 37,
    "start_time": "2023-06-20T17:44:23.084Z"
   },
   {
    "duration": 59,
    "start_time": "2023-06-20T17:44:23.123Z"
   },
   {
    "duration": 26,
    "start_time": "2023-06-20T17:44:23.184Z"
   },
   {
    "duration": 50,
    "start_time": "2023-06-20T17:44:23.212Z"
   },
   {
    "duration": 117,
    "start_time": "2023-06-20T17:44:23.263Z"
   },
   {
    "duration": 15,
    "start_time": "2023-06-20T17:44:23.382Z"
   },
   {
    "duration": 7,
    "start_time": "2023-06-20T17:44:23.400Z"
   },
   {
    "duration": 5,
    "start_time": "2023-06-20T17:44:23.409Z"
   },
   {
    "duration": 17,
    "start_time": "2023-06-20T17:44:23.416Z"
   },
   {
    "duration": 32,
    "start_time": "2023-06-20T17:44:23.434Z"
   },
   {
    "duration": 30,
    "start_time": "2023-06-20T17:44:23.469Z"
   },
   {
    "duration": 10,
    "start_time": "2023-06-20T17:44:23.505Z"
   },
   {
    "duration": 92,
    "start_time": "2023-06-20T17:44:23.517Z"
   },
   {
    "duration": 101,
    "start_time": "2023-06-20T17:44:23.611Z"
   },
   {
    "duration": 1328,
    "start_time": "2023-06-20T17:44:23.714Z"
   },
   {
    "duration": 15,
    "start_time": "2023-06-20T17:44:25.044Z"
   },
   {
    "duration": 48,
    "start_time": "2023-06-20T17:44:25.060Z"
   },
   {
    "duration": 27,
    "start_time": "2023-06-20T17:44:25.111Z"
   },
   {
    "duration": 899,
    "start_time": "2023-06-20T17:44:25.140Z"
   },
   {
    "duration": 0,
    "start_time": "2023-06-20T17:44:26.041Z"
   },
   {
    "duration": 0,
    "start_time": "2023-06-20T17:44:26.042Z"
   },
   {
    "duration": 0,
    "start_time": "2023-06-20T17:44:26.043Z"
   },
   {
    "duration": 0,
    "start_time": "2023-06-20T17:44:26.044Z"
   },
   {
    "duration": 364,
    "start_time": "2023-06-20T17:45:04.565Z"
   },
   {
    "duration": 2006,
    "start_time": "2023-06-20T17:45:45.500Z"
   },
   {
    "duration": 2159,
    "start_time": "2023-06-20T17:45:47.511Z"
   },
   {
    "duration": 1334,
    "start_time": "2023-06-20T17:45:49.672Z"
   },
   {
    "duration": 4,
    "start_time": "2023-06-20T17:45:51.010Z"
   },
   {
    "duration": 110,
    "start_time": "2023-06-20T17:45:51.016Z"
   },
   {
    "duration": 70,
    "start_time": "2023-06-20T17:45:51.128Z"
   },
   {
    "duration": 65,
    "start_time": "2023-06-20T17:45:51.200Z"
   },
   {
    "duration": 49,
    "start_time": "2023-06-20T17:45:51.267Z"
   },
   {
    "duration": 54,
    "start_time": "2023-06-20T17:45:51.318Z"
   },
   {
    "duration": 27,
    "start_time": "2023-06-20T17:45:51.375Z"
   },
   {
    "duration": 133,
    "start_time": "2023-06-20T17:45:51.404Z"
   },
   {
    "duration": 21,
    "start_time": "2023-06-20T17:45:51.539Z"
   },
   {
    "duration": 7,
    "start_time": "2023-06-20T17:45:51.562Z"
   },
   {
    "duration": 5,
    "start_time": "2023-06-20T17:45:51.571Z"
   },
   {
    "duration": 24,
    "start_time": "2023-06-20T17:45:51.578Z"
   },
   {
    "duration": 23,
    "start_time": "2023-06-20T17:45:51.603Z"
   },
   {
    "duration": 22,
    "start_time": "2023-06-20T17:45:51.628Z"
   },
   {
    "duration": 8,
    "start_time": "2023-06-20T17:45:51.652Z"
   },
   {
    "duration": 105,
    "start_time": "2023-06-20T17:45:51.662Z"
   },
   {
    "duration": 90,
    "start_time": "2023-06-20T17:45:51.769Z"
   },
   {
    "duration": 1370,
    "start_time": "2023-06-20T17:45:51.862Z"
   },
   {
    "duration": 8,
    "start_time": "2023-06-20T17:45:53.234Z"
   },
   {
    "duration": 19,
    "start_time": "2023-06-20T17:45:53.244Z"
   },
   {
    "duration": 37,
    "start_time": "2023-06-20T17:45:53.264Z"
   },
   {
    "duration": 1113,
    "start_time": "2023-06-20T17:45:53.303Z"
   },
   {
    "duration": 0,
    "start_time": "2023-06-20T17:45:54.418Z"
   },
   {
    "duration": 0,
    "start_time": "2023-06-20T17:45:54.420Z"
   },
   {
    "duration": 0,
    "start_time": "2023-06-20T17:45:54.421Z"
   },
   {
    "duration": 0,
    "start_time": "2023-06-20T17:45:54.422Z"
   },
   {
    "duration": 35,
    "start_time": "2023-06-20T17:47:36.671Z"
   },
   {
    "duration": 26,
    "start_time": "2023-06-20T17:50:21.633Z"
   },
   {
    "duration": 1863,
    "start_time": "2023-06-20T17:50:57.981Z"
   },
   {
    "duration": 1918,
    "start_time": "2023-06-20T17:50:59.847Z"
   },
   {
    "duration": 1246,
    "start_time": "2023-06-20T17:51:01.768Z"
   },
   {
    "duration": 3,
    "start_time": "2023-06-20T17:51:03.016Z"
   },
   {
    "duration": 97,
    "start_time": "2023-06-20T17:51:03.021Z"
   },
   {
    "duration": 55,
    "start_time": "2023-06-20T17:51:03.120Z"
   },
   {
    "duration": 44,
    "start_time": "2023-06-20T17:51:03.177Z"
   },
   {
    "duration": 61,
    "start_time": "2023-06-20T17:51:03.222Z"
   },
   {
    "duration": 26,
    "start_time": "2023-06-20T17:51:03.285Z"
   },
   {
    "duration": 22,
    "start_time": "2023-06-20T17:51:03.314Z"
   },
   {
    "duration": 104,
    "start_time": "2023-06-20T17:51:03.338Z"
   },
   {
    "duration": 28,
    "start_time": "2023-06-20T17:51:03.444Z"
   },
   {
    "duration": 10,
    "start_time": "2023-06-20T17:51:03.474Z"
   },
   {
    "duration": 4,
    "start_time": "2023-06-20T17:51:03.486Z"
   },
   {
    "duration": 19,
    "start_time": "2023-06-20T17:51:03.492Z"
   },
   {
    "duration": 24,
    "start_time": "2023-06-20T17:51:03.513Z"
   },
   {
    "duration": 14,
    "start_time": "2023-06-20T17:51:03.539Z"
   },
   {
    "duration": 27,
    "start_time": "2023-06-20T17:51:03.555Z"
   },
   {
    "duration": 114,
    "start_time": "2023-06-20T17:51:03.583Z"
   },
   {
    "duration": 84,
    "start_time": "2023-06-20T17:51:03.699Z"
   },
   {
    "duration": 1275,
    "start_time": "2023-06-20T17:51:03.785Z"
   },
   {
    "duration": 9,
    "start_time": "2023-06-20T17:51:05.062Z"
   },
   {
    "duration": 30,
    "start_time": "2023-06-20T17:51:05.072Z"
   },
   {
    "duration": 81,
    "start_time": "2023-06-20T17:51:05.103Z"
   },
   {
    "duration": 28828,
    "start_time": "2023-06-20T17:51:05.186Z"
   },
   {
    "duration": 5246,
    "start_time": "2023-06-20T17:51:34.016Z"
   },
   {
    "duration": 207,
    "start_time": "2023-06-20T17:51:39.265Z"
   },
   {
    "duration": 84,
    "start_time": "2023-06-20T17:51:39.474Z"
   },
   {
    "duration": 7,
    "start_time": "2023-06-20T17:51:39.562Z"
   },
   {
    "duration": 5,
    "start_time": "2023-06-20T17:54:08.074Z"
   },
   {
    "duration": 2175,
    "start_time": "2023-06-20T18:00:33.302Z"
   },
   {
    "duration": 2010,
    "start_time": "2023-06-20T18:00:35.480Z"
   },
   {
    "duration": 1183,
    "start_time": "2023-06-20T18:00:37.493Z"
   },
   {
    "duration": 3,
    "start_time": "2023-06-20T18:00:38.678Z"
   },
   {
    "duration": 95,
    "start_time": "2023-06-20T18:00:38.683Z"
   },
   {
    "duration": 65,
    "start_time": "2023-06-20T18:00:38.780Z"
   },
   {
    "duration": 39,
    "start_time": "2023-06-20T18:00:38.846Z"
   },
   {
    "duration": 49,
    "start_time": "2023-06-20T18:00:38.887Z"
   },
   {
    "duration": 43,
    "start_time": "2023-06-20T18:00:38.938Z"
   },
   {
    "duration": 24,
    "start_time": "2023-06-20T18:00:38.985Z"
   },
   {
    "duration": 110,
    "start_time": "2023-06-20T18:00:39.011Z"
   },
   {
    "duration": 9,
    "start_time": "2023-06-20T18:00:39.122Z"
   },
   {
    "duration": 22,
    "start_time": "2023-06-20T18:00:39.133Z"
   },
   {
    "duration": 11,
    "start_time": "2023-06-20T18:00:39.159Z"
   },
   {
    "duration": 35,
    "start_time": "2023-06-20T18:00:39.172Z"
   },
   {
    "duration": 8,
    "start_time": "2023-06-20T18:00:39.210Z"
   },
   {
    "duration": 12,
    "start_time": "2023-06-20T18:00:39.221Z"
   },
   {
    "duration": 7,
    "start_time": "2023-06-20T18:00:39.234Z"
   },
   {
    "duration": 129,
    "start_time": "2023-06-20T18:00:39.243Z"
   },
   {
    "duration": 93,
    "start_time": "2023-06-20T18:00:39.374Z"
   },
   {
    "duration": 1182,
    "start_time": "2023-06-20T18:00:39.469Z"
   },
   {
    "duration": 11,
    "start_time": "2023-06-20T18:00:40.653Z"
   },
   {
    "duration": 65,
    "start_time": "2023-06-20T18:00:40.667Z"
   },
   {
    "duration": 102,
    "start_time": "2023-06-20T18:00:40.733Z"
   },
   {
    "duration": 107,
    "start_time": "2023-06-20T18:00:40.837Z"
   },
   {
    "duration": 0,
    "start_time": "2023-06-20T18:00:40.945Z"
   },
   {
    "duration": 0,
    "start_time": "2023-06-20T18:00:40.946Z"
   },
   {
    "duration": 0,
    "start_time": "2023-06-20T18:00:40.947Z"
   },
   {
    "duration": 0,
    "start_time": "2023-06-20T18:00:40.948Z"
   },
   {
    "duration": 0,
    "start_time": "2023-06-20T18:00:40.960Z"
   },
   {
    "duration": 2135,
    "start_time": "2023-06-20T18:01:09.648Z"
   },
   {
    "duration": 2031,
    "start_time": "2023-06-20T18:01:11.786Z"
   },
   {
    "duration": 1189,
    "start_time": "2023-06-20T18:01:13.821Z"
   },
   {
    "duration": 3,
    "start_time": "2023-06-20T18:01:15.012Z"
   },
   {
    "duration": 125,
    "start_time": "2023-06-20T18:01:15.016Z"
   },
   {
    "duration": 54,
    "start_time": "2023-06-20T18:01:15.142Z"
   },
   {
    "duration": 35,
    "start_time": "2023-06-20T18:01:15.198Z"
   },
   {
    "duration": 60,
    "start_time": "2023-06-20T18:01:15.235Z"
   },
   {
    "duration": 23,
    "start_time": "2023-06-20T18:01:15.296Z"
   },
   {
    "duration": 89,
    "start_time": "2023-06-20T18:01:15.321Z"
   },
   {
    "duration": 89,
    "start_time": "2023-06-20T18:01:15.412Z"
   },
   {
    "duration": 9,
    "start_time": "2023-06-20T18:01:15.503Z"
   },
   {
    "duration": 18,
    "start_time": "2023-06-20T18:01:15.514Z"
   },
   {
    "duration": 4,
    "start_time": "2023-06-20T18:01:15.533Z"
   },
   {
    "duration": 23,
    "start_time": "2023-06-20T18:01:15.538Z"
   },
   {
    "duration": 6,
    "start_time": "2023-06-20T18:01:15.563Z"
   },
   {
    "duration": 10,
    "start_time": "2023-06-20T18:01:15.570Z"
   },
   {
    "duration": 11,
    "start_time": "2023-06-20T18:01:15.582Z"
   },
   {
    "duration": 112,
    "start_time": "2023-06-20T18:01:15.595Z"
   },
   {
    "duration": 85,
    "start_time": "2023-06-20T18:01:15.709Z"
   },
   {
    "duration": 1148,
    "start_time": "2023-06-20T18:01:15.796Z"
   },
   {
    "duration": 15,
    "start_time": "2023-06-20T18:01:16.945Z"
   },
   {
    "duration": 21,
    "start_time": "2023-06-20T18:01:16.961Z"
   },
   {
    "duration": 83,
    "start_time": "2023-06-20T18:01:16.983Z"
   },
   {
    "duration": 99,
    "start_time": "2023-06-20T18:01:17.068Z"
   },
   {
    "duration": 0,
    "start_time": "2023-06-20T18:01:17.169Z"
   },
   {
    "duration": 0,
    "start_time": "2023-06-20T18:01:17.170Z"
   },
   {
    "duration": 0,
    "start_time": "2023-06-20T18:01:17.171Z"
   },
   {
    "duration": 0,
    "start_time": "2023-06-20T18:01:17.173Z"
   },
   {
    "duration": 0,
    "start_time": "2023-06-20T18:01:17.174Z"
   },
   {
    "duration": 3276,
    "start_time": "2023-06-20T18:02:05.401Z"
   },
   {
    "duration": 2308,
    "start_time": "2023-06-20T18:02:15.307Z"
   },
   {
    "duration": 2059,
    "start_time": "2023-06-20T18:02:17.617Z"
   },
   {
    "duration": 1257,
    "start_time": "2023-06-20T18:02:19.679Z"
   },
   {
    "duration": 3,
    "start_time": "2023-06-20T18:02:20.938Z"
   },
   {
    "duration": 135,
    "start_time": "2023-06-20T18:02:20.944Z"
   },
   {
    "duration": 66,
    "start_time": "2023-06-20T18:02:21.081Z"
   },
   {
    "duration": 57,
    "start_time": "2023-06-20T18:02:21.149Z"
   },
   {
    "duration": 89,
    "start_time": "2023-06-20T18:02:21.208Z"
   },
   {
    "duration": 28,
    "start_time": "2023-06-20T18:02:21.300Z"
   },
   {
    "duration": 51,
    "start_time": "2023-06-20T18:02:21.330Z"
   },
   {
    "duration": 144,
    "start_time": "2023-06-20T18:02:21.383Z"
   },
   {
    "duration": 15,
    "start_time": "2023-06-20T18:02:21.529Z"
   },
   {
    "duration": 31,
    "start_time": "2023-06-20T18:02:21.546Z"
   },
   {
    "duration": 7,
    "start_time": "2023-06-20T18:02:21.582Z"
   },
   {
    "duration": 31,
    "start_time": "2023-06-20T18:02:21.591Z"
   },
   {
    "duration": 13,
    "start_time": "2023-06-20T18:02:21.624Z"
   },
   {
    "duration": 16,
    "start_time": "2023-06-20T18:02:21.639Z"
   },
   {
    "duration": 18,
    "start_time": "2023-06-20T18:02:21.657Z"
   },
   {
    "duration": 126,
    "start_time": "2023-06-20T18:02:21.677Z"
   },
   {
    "duration": 110,
    "start_time": "2023-06-20T18:02:21.806Z"
   },
   {
    "duration": 1400,
    "start_time": "2023-06-20T18:02:21.918Z"
   },
   {
    "duration": 8,
    "start_time": "2023-06-20T18:02:23.320Z"
   },
   {
    "duration": 147,
    "start_time": "2023-06-20T18:02:23.330Z"
   },
   {
    "duration": 172,
    "start_time": "2023-06-20T18:02:23.481Z"
   },
   {
    "duration": 3629,
    "start_time": "2023-06-20T18:02:23.659Z"
   },
   {
    "duration": 29609,
    "start_time": "2023-06-20T18:02:27.290Z"
   },
   {
    "duration": 3971,
    "start_time": "2023-06-20T18:02:56.900Z"
   },
   {
    "duration": 120,
    "start_time": "2023-06-20T18:03:00.959Z"
   },
   {
    "duration": 78,
    "start_time": "2023-06-20T18:03:01.082Z"
   },
   {
    "duration": 96,
    "start_time": "2023-06-20T18:03:01.162Z"
   },
   {
    "duration": 1897,
    "start_time": "2023-06-20T18:03:21.354Z"
   },
   {
    "duration": 1965,
    "start_time": "2023-06-20T18:03:23.254Z"
   },
   {
    "duration": 1166,
    "start_time": "2023-06-20T18:03:25.221Z"
   },
   {
    "duration": 5,
    "start_time": "2023-06-20T18:03:26.389Z"
   },
   {
    "duration": 103,
    "start_time": "2023-06-20T18:03:26.396Z"
   },
   {
    "duration": 60,
    "start_time": "2023-06-20T18:03:26.501Z"
   },
   {
    "duration": 54,
    "start_time": "2023-06-20T18:03:26.563Z"
   },
   {
    "duration": 59,
    "start_time": "2023-06-20T18:03:26.618Z"
   },
   {
    "duration": 26,
    "start_time": "2023-06-20T18:03:26.679Z"
   },
   {
    "duration": 23,
    "start_time": "2023-06-20T18:03:26.708Z"
   },
   {
    "duration": 106,
    "start_time": "2023-06-20T18:03:26.733Z"
   },
   {
    "duration": 27,
    "start_time": "2023-06-20T18:03:26.841Z"
   },
   {
    "duration": 8,
    "start_time": "2023-06-20T18:03:26.869Z"
   },
   {
    "duration": 10,
    "start_time": "2023-06-20T18:03:26.878Z"
   },
   {
    "duration": 18,
    "start_time": "2023-06-20T18:03:26.890Z"
   },
   {
    "duration": 13031,
    "start_time": "2023-06-20T18:03:26.910Z"
   },
   {
    "duration": 17,
    "start_time": "2023-06-20T18:03:39.942Z"
   },
   {
    "duration": 820,
    "start_time": "2023-06-20T18:03:39.961Z"
   },
   {
    "duration": 0,
    "start_time": "2023-06-20T18:03:40.784Z"
   },
   {
    "duration": 0,
    "start_time": "2023-06-20T18:03:40.786Z"
   },
   {
    "duration": 0,
    "start_time": "2023-06-20T18:03:40.787Z"
   },
   {
    "duration": 0,
    "start_time": "2023-06-20T18:03:40.789Z"
   },
   {
    "duration": 0,
    "start_time": "2023-06-20T18:03:40.790Z"
   },
   {
    "duration": 0,
    "start_time": "2023-06-20T18:03:40.792Z"
   },
   {
    "duration": 0,
    "start_time": "2023-06-20T18:03:40.793Z"
   },
   {
    "duration": 0,
    "start_time": "2023-06-20T18:03:40.794Z"
   },
   {
    "duration": 0,
    "start_time": "2023-06-20T18:03:40.796Z"
   },
   {
    "duration": 0,
    "start_time": "2023-06-20T18:03:40.797Z"
   },
   {
    "duration": 0,
    "start_time": "2023-06-20T18:03:40.798Z"
   },
   {
    "duration": 0,
    "start_time": "2023-06-20T18:03:40.799Z"
   },
   {
    "duration": 1911,
    "start_time": "2023-06-20T18:04:59.492Z"
   },
   {
    "duration": 1917,
    "start_time": "2023-06-20T18:05:01.406Z"
   },
   {
    "duration": 1116,
    "start_time": "2023-06-20T18:05:03.325Z"
   },
   {
    "duration": 3,
    "start_time": "2023-06-20T18:05:04.443Z"
   },
   {
    "duration": 123,
    "start_time": "2023-06-20T18:05:04.448Z"
   },
   {
    "duration": 55,
    "start_time": "2023-06-20T18:05:04.573Z"
   },
   {
    "duration": 45,
    "start_time": "2023-06-20T18:05:04.630Z"
   },
   {
    "duration": 38,
    "start_time": "2023-06-20T18:05:04.677Z"
   },
   {
    "duration": 48,
    "start_time": "2023-06-20T18:05:04.716Z"
   },
   {
    "duration": 22,
    "start_time": "2023-06-20T18:05:04.767Z"
   },
   {
    "duration": 101,
    "start_time": "2023-06-20T18:05:04.791Z"
   },
   {
    "duration": 8,
    "start_time": "2023-06-20T18:05:04.894Z"
   },
   {
    "duration": 13,
    "start_time": "2023-06-20T18:05:04.904Z"
   },
   {
    "duration": 7,
    "start_time": "2023-06-20T18:05:04.919Z"
   },
   {
    "duration": 18,
    "start_time": "2023-06-20T18:05:04.927Z"
   },
   {
    "duration": 14,
    "start_time": "2023-06-20T18:05:04.946Z"
   },
   {
    "duration": 8,
    "start_time": "2023-06-20T18:05:04.962Z"
   },
   {
    "duration": 4,
    "start_time": "2023-06-20T18:05:04.972Z"
   },
   {
    "duration": 88,
    "start_time": "2023-06-20T18:05:04.977Z"
   },
   {
    "duration": 60,
    "start_time": "2023-06-20T18:05:05.067Z"
   },
   {
    "duration": 1146,
    "start_time": "2023-06-20T18:05:05.129Z"
   },
   {
    "duration": 8,
    "start_time": "2023-06-20T18:05:06.276Z"
   },
   {
    "duration": 19,
    "start_time": "2023-06-20T18:05:06.285Z"
   },
   {
    "duration": 85,
    "start_time": "2023-06-20T18:05:06.306Z"
   },
   {
    "duration": 3267,
    "start_time": "2023-06-20T18:05:06.393Z"
   },
   {
    "duration": 28425,
    "start_time": "2023-06-20T18:05:09.663Z"
   },
   {
    "duration": 4273,
    "start_time": "2023-06-20T18:05:38.090Z"
   },
   {
    "duration": 192,
    "start_time": "2023-06-20T18:05:42.367Z"
   },
   {
    "duration": 12,
    "start_time": "2023-06-20T18:05:42.561Z"
   },
   {
    "duration": 89,
    "start_time": "2023-06-20T18:05:42.575Z"
   },
   {
    "duration": 108,
    "start_time": "2023-06-20T18:06:29.228Z"
   },
   {
    "duration": 17,
    "start_time": "2023-06-20T18:07:44.443Z"
   },
   {
    "duration": 18,
    "start_time": "2023-06-20T18:08:02.398Z"
   },
   {
    "duration": 25,
    "start_time": "2023-06-20T18:08:07.897Z"
   },
   {
    "duration": 5,
    "start_time": "2023-06-20T18:08:44.555Z"
   },
   {
    "duration": 16,
    "start_time": "2023-06-20T18:08:57.601Z"
   },
   {
    "duration": 13,
    "start_time": "2023-06-20T18:09:49.568Z"
   },
   {
    "duration": 2057,
    "start_time": "2023-06-20T18:10:51.473Z"
   },
   {
    "duration": 2045,
    "start_time": "2023-06-20T18:10:53.534Z"
   },
   {
    "duration": 1222,
    "start_time": "2023-06-20T18:10:55.581Z"
   },
   {
    "duration": 3,
    "start_time": "2023-06-20T18:10:56.806Z"
   },
   {
    "duration": 97,
    "start_time": "2023-06-20T18:10:56.810Z"
   },
   {
    "duration": 55,
    "start_time": "2023-06-20T18:10:56.908Z"
   },
   {
    "duration": 35,
    "start_time": "2023-06-20T18:10:56.965Z"
   },
   {
    "duration": 65,
    "start_time": "2023-06-20T18:10:57.002Z"
   },
   {
    "duration": 25,
    "start_time": "2023-06-20T18:10:57.069Z"
   },
   {
    "duration": 23,
    "start_time": "2023-06-20T18:10:57.097Z"
   },
   {
    "duration": 111,
    "start_time": "2023-06-20T18:10:57.122Z"
   },
   {
    "duration": 25,
    "start_time": "2023-06-20T18:10:57.234Z"
   },
   {
    "duration": 14,
    "start_time": "2023-06-20T18:10:57.261Z"
   },
   {
    "duration": 5,
    "start_time": "2023-06-20T18:10:57.276Z"
   },
   {
    "duration": 27,
    "start_time": "2023-06-20T18:10:57.283Z"
   },
   {
    "duration": 5,
    "start_time": "2023-06-20T18:10:57.311Z"
   },
   {
    "duration": 14,
    "start_time": "2023-06-20T18:10:57.317Z"
   },
   {
    "duration": 10,
    "start_time": "2023-06-20T18:10:57.332Z"
   },
   {
    "duration": 89,
    "start_time": "2023-06-20T18:10:57.343Z"
   },
   {
    "duration": 86,
    "start_time": "2023-06-20T18:10:57.433Z"
   },
   {
    "duration": 1528,
    "start_time": "2023-06-20T18:10:57.521Z"
   },
   {
    "duration": 9,
    "start_time": "2023-06-20T18:10:59.058Z"
   },
   {
    "duration": 23,
    "start_time": "2023-06-20T18:10:59.068Z"
   },
   {
    "duration": 284,
    "start_time": "2023-06-20T18:10:59.092Z"
   },
   {
    "duration": 5960,
    "start_time": "2023-06-20T18:10:59.377Z"
   },
   {
    "duration": 28619,
    "start_time": "2023-06-20T18:11:05.338Z"
   },
   {
    "duration": 11116,
    "start_time": "2023-06-20T18:11:33.958Z"
   },
   {
    "duration": 245,
    "start_time": "2023-06-20T18:11:45.085Z"
   },
   {
    "duration": 331,
    "start_time": "2023-06-20T18:11:45.332Z"
   },
   {
    "duration": 16,
    "start_time": "2023-06-20T18:11:45.668Z"
   },
   {
    "duration": 2107,
    "start_time": "2023-06-20T18:21:08.468Z"
   },
   {
    "duration": 2134,
    "start_time": "2023-06-20T18:21:10.578Z"
   },
   {
    "duration": 1191,
    "start_time": "2023-06-20T18:21:12.714Z"
   },
   {
    "duration": 3,
    "start_time": "2023-06-20T18:21:13.907Z"
   },
   {
    "duration": 114,
    "start_time": "2023-06-20T18:21:13.911Z"
   },
   {
    "duration": 78,
    "start_time": "2023-06-20T18:21:14.027Z"
   },
   {
    "duration": 65,
    "start_time": "2023-06-20T18:21:14.107Z"
   },
   {
    "duration": 57,
    "start_time": "2023-06-20T18:21:14.176Z"
   },
   {
    "duration": 57,
    "start_time": "2023-06-20T18:21:14.237Z"
   },
   {
    "duration": 29,
    "start_time": "2023-06-20T18:21:14.298Z"
   },
   {
    "duration": 122,
    "start_time": "2023-06-20T18:21:14.329Z"
   },
   {
    "duration": 15,
    "start_time": "2023-06-20T18:21:14.465Z"
   },
   {
    "duration": 6,
    "start_time": "2023-06-20T18:21:14.482Z"
   },
   {
    "duration": 14,
    "start_time": "2023-06-20T18:21:14.490Z"
   },
   {
    "duration": 27,
    "start_time": "2023-06-20T18:21:14.506Z"
   },
   {
    "duration": 17,
    "start_time": "2023-06-20T18:21:14.535Z"
   },
   {
    "duration": 29,
    "start_time": "2023-06-20T18:21:14.554Z"
   },
   {
    "duration": 13,
    "start_time": "2023-06-20T18:21:14.584Z"
   },
   {
    "duration": 90,
    "start_time": "2023-06-20T18:21:14.599Z"
   },
   {
    "duration": 86,
    "start_time": "2023-06-20T18:21:14.691Z"
   },
   {
    "duration": 1504,
    "start_time": "2023-06-20T18:21:14.779Z"
   },
   {
    "duration": 9,
    "start_time": "2023-06-20T18:21:16.285Z"
   },
   {
    "duration": 55,
    "start_time": "2023-06-20T18:21:16.295Z"
   },
   {
    "duration": 256,
    "start_time": "2023-06-20T18:21:16.352Z"
   },
   {
    "duration": 6183,
    "start_time": "2023-06-20T18:21:16.610Z"
   },
   {
    "duration": 31179,
    "start_time": "2023-06-20T18:21:22.794Z"
   },
   {
    "duration": 133,
    "start_time": "2023-06-20T18:21:53.974Z"
   },
   {
    "duration": 0,
    "start_time": "2023-06-20T18:21:54.109Z"
   },
   {
    "duration": 0,
    "start_time": "2023-06-20T18:21:54.110Z"
   },
   {
    "duration": 0,
    "start_time": "2023-06-20T18:21:54.113Z"
   },
   {
    "duration": 2220,
    "start_time": "2023-06-20T18:23:10.835Z"
   },
   {
    "duration": 2062,
    "start_time": "2023-06-20T18:23:13.057Z"
   },
   {
    "duration": 1259,
    "start_time": "2023-06-20T18:23:15.120Z"
   },
   {
    "duration": 4,
    "start_time": "2023-06-20T18:23:16.382Z"
   },
   {
    "duration": 115,
    "start_time": "2023-06-20T18:23:16.389Z"
   },
   {
    "duration": 76,
    "start_time": "2023-06-20T18:23:16.505Z"
   },
   {
    "duration": 39,
    "start_time": "2023-06-20T18:23:16.583Z"
   },
   {
    "duration": 71,
    "start_time": "2023-06-20T18:23:16.624Z"
   },
   {
    "duration": 27,
    "start_time": "2023-06-20T18:23:16.697Z"
   },
   {
    "duration": 57,
    "start_time": "2023-06-20T18:23:16.725Z"
   },
   {
    "duration": 90,
    "start_time": "2023-06-20T18:23:16.783Z"
   },
   {
    "duration": 13,
    "start_time": "2023-06-20T18:23:16.880Z"
   },
   {
    "duration": 8,
    "start_time": "2023-06-20T18:23:16.895Z"
   },
   {
    "duration": 5,
    "start_time": "2023-06-20T18:23:16.906Z"
   },
   {
    "duration": 17,
    "start_time": "2023-06-20T18:23:16.912Z"
   },
   {
    "duration": 38,
    "start_time": "2023-06-20T18:23:16.931Z"
   },
   {
    "duration": 19,
    "start_time": "2023-06-20T18:23:16.976Z"
   },
   {
    "duration": 8,
    "start_time": "2023-06-20T18:23:16.996Z"
   },
   {
    "duration": 83,
    "start_time": "2023-06-20T18:23:17.006Z"
   },
   {
    "duration": 78,
    "start_time": "2023-06-20T18:23:17.091Z"
   },
   {
    "duration": 1596,
    "start_time": "2023-06-20T18:23:17.171Z"
   },
   {
    "duration": 11,
    "start_time": "2023-06-20T18:23:18.770Z"
   },
   {
    "duration": 31,
    "start_time": "2023-06-20T18:23:18.784Z"
   },
   {
    "duration": 311,
    "start_time": "2023-06-20T18:23:18.817Z"
   },
   {
    "duration": 6536,
    "start_time": "2023-06-20T18:23:19.130Z"
   },
   {
    "duration": 29429,
    "start_time": "2023-06-20T18:23:25.667Z"
   },
   {
    "duration": 43064,
    "start_time": "2023-06-20T18:23:55.097Z"
   },
   {
    "duration": 160,
    "start_time": "2023-06-20T18:24:38.163Z"
   },
   {
    "duration": 109,
    "start_time": "2023-06-20T18:24:38.325Z"
   },
   {
    "duration": 0,
    "start_time": "2023-06-20T18:24:38.436Z"
   },
   {
    "duration": 4178,
    "start_time": "2023-06-20T18:28:55.087Z"
   },
   {
    "duration": 1967,
    "start_time": "2023-06-20T18:29:35.398Z"
   },
   {
    "duration": 2355,
    "start_time": "2023-06-20T18:29:46.914Z"
   },
   {
    "duration": 707,
    "start_time": "2023-06-20T18:30:05.365Z"
   },
   {
    "duration": 48155,
    "start_time": "2023-06-20T18:32:12.204Z"
   },
   {
    "duration": 40239,
    "start_time": "2023-06-20T18:33:17.931Z"
   },
   {
    "duration": 11,
    "start_time": "2023-06-20T18:37:59.946Z"
   },
   {
    "duration": 43068,
    "start_time": "2023-06-20T18:38:26.800Z"
   },
   {
    "duration": 10066,
    "start_time": "2023-06-20T18:39:45.734Z"
   },
   {
    "duration": 38060,
    "start_time": "2023-06-20T18:39:56.699Z"
   },
   {
    "duration": 45855,
    "start_time": "2023-06-20T18:41:10.513Z"
   },
   {
    "duration": 123053,
    "start_time": "2023-06-20T18:42:24.915Z"
   },
   {
    "duration": 81,
    "start_time": "2023-06-20T18:45:46.954Z"
   },
   {
    "duration": 802,
    "start_time": "2023-06-20T18:45:58.061Z"
   },
   {
    "duration": 2157,
    "start_time": "2023-06-20T18:46:17.056Z"
   },
   {
    "duration": 2028,
    "start_time": "2023-06-20T18:46:19.215Z"
   },
   {
    "duration": 1223,
    "start_time": "2023-06-20T18:46:21.245Z"
   },
   {
    "duration": 3,
    "start_time": "2023-06-20T18:46:22.470Z"
   },
   {
    "duration": 107,
    "start_time": "2023-06-20T18:46:22.475Z"
   },
   {
    "duration": 57,
    "start_time": "2023-06-20T18:46:22.584Z"
   },
   {
    "duration": 45,
    "start_time": "2023-06-20T18:46:22.643Z"
   },
   {
    "duration": 37,
    "start_time": "2023-06-20T18:46:22.690Z"
   },
   {
    "duration": 50,
    "start_time": "2023-06-20T18:46:22.729Z"
   },
   {
    "duration": 23,
    "start_time": "2023-06-20T18:46:22.780Z"
   },
   {
    "duration": 112,
    "start_time": "2023-06-20T18:46:22.805Z"
   },
   {
    "duration": 9,
    "start_time": "2023-06-20T18:46:22.919Z"
   },
   {
    "duration": 6,
    "start_time": "2023-06-20T18:46:22.929Z"
   },
   {
    "duration": 11,
    "start_time": "2023-06-20T18:46:22.958Z"
   },
   {
    "duration": 22,
    "start_time": "2023-06-20T18:46:22.971Z"
   },
   {
    "duration": 5,
    "start_time": "2023-06-20T18:46:22.995Z"
   },
   {
    "duration": 14,
    "start_time": "2023-06-20T18:46:23.002Z"
   },
   {
    "duration": 7,
    "start_time": "2023-06-20T18:46:23.018Z"
   },
   {
    "duration": 110,
    "start_time": "2023-06-20T18:46:23.026Z"
   },
   {
    "duration": 75,
    "start_time": "2023-06-20T18:46:23.138Z"
   },
   {
    "duration": 1326,
    "start_time": "2023-06-20T18:46:23.215Z"
   },
   {
    "duration": 20,
    "start_time": "2023-06-20T18:46:24.543Z"
   },
   {
    "duration": 21,
    "start_time": "2023-06-20T18:46:24.565Z"
   },
   {
    "duration": 96,
    "start_time": "2023-06-20T18:46:24.588Z"
   },
   {
    "duration": 3271,
    "start_time": "2023-06-20T18:46:24.686Z"
   },
   {
    "duration": 28887,
    "start_time": "2023-06-20T18:46:27.960Z"
   },
   {
    "duration": 19524,
    "start_time": "2023-06-20T18:46:56.849Z"
   },
   {
    "duration": 123,
    "start_time": "2023-06-20T18:47:16.460Z"
   },
   {
    "duration": 274,
    "start_time": "2023-06-20T18:47:16.585Z"
   },
   {
    "duration": 94,
    "start_time": "2023-06-20T18:47:16.865Z"
   },
   {
    "duration": 1875,
    "start_time": "2023-06-20T19:01:42.045Z"
   },
   {
    "duration": 2010,
    "start_time": "2023-06-20T19:01:43.923Z"
   },
   {
    "duration": 1270,
    "start_time": "2023-06-20T19:01:45.935Z"
   },
   {
    "duration": 3,
    "start_time": "2023-06-20T19:01:47.207Z"
   },
   {
    "duration": 103,
    "start_time": "2023-06-20T19:01:47.213Z"
   },
   {
    "duration": 86,
    "start_time": "2023-06-20T19:01:47.318Z"
   },
   {
    "duration": 60,
    "start_time": "2023-06-20T19:01:47.406Z"
   },
   {
    "duration": 64,
    "start_time": "2023-06-20T19:01:47.468Z"
   },
   {
    "duration": 53,
    "start_time": "2023-06-20T19:01:47.534Z"
   },
   {
    "duration": 27,
    "start_time": "2023-06-20T19:01:47.589Z"
   },
   {
    "duration": 147,
    "start_time": "2023-06-20T19:01:47.617Z"
   },
   {
    "duration": 10,
    "start_time": "2023-06-20T19:01:47.766Z"
   },
   {
    "duration": 8,
    "start_time": "2023-06-20T19:01:47.777Z"
   },
   {
    "duration": 4,
    "start_time": "2023-06-20T19:01:47.788Z"
   },
   {
    "duration": 16,
    "start_time": "2023-06-20T19:01:47.794Z"
   },
   {
    "duration": 5,
    "start_time": "2023-06-20T19:01:47.812Z"
   },
   {
    "duration": 49,
    "start_time": "2023-06-20T19:01:47.818Z"
   },
   {
    "duration": 14,
    "start_time": "2023-06-20T19:01:47.869Z"
   },
   {
    "duration": 104,
    "start_time": "2023-06-20T19:01:47.885Z"
   },
   {
    "duration": 103,
    "start_time": "2023-06-20T19:01:47.991Z"
   },
   {
    "duration": 1515,
    "start_time": "2023-06-20T19:01:48.096Z"
   },
   {
    "duration": 8,
    "start_time": "2023-06-20T19:01:49.613Z"
   },
   {
    "duration": 29,
    "start_time": "2023-06-20T19:01:49.622Z"
   },
   {
    "duration": 262,
    "start_time": "2023-06-20T19:01:49.652Z"
   },
   {
    "duration": 5935,
    "start_time": "2023-06-20T19:01:49.916Z"
   },
   {
    "duration": 29639,
    "start_time": "2023-06-20T19:01:55.853Z"
   },
   {
    "duration": 53771,
    "start_time": "2023-06-20T19:02:25.493Z"
   },
   {
    "duration": 262,
    "start_time": "2023-06-20T19:03:19.266Z"
   },
   {
    "duration": 830,
    "start_time": "2023-06-20T19:03:19.530Z"
   },
   {
    "duration": 7,
    "start_time": "2023-06-20T19:03:20.362Z"
   },
   {
    "duration": 2194,
    "start_time": "2023-06-20T19:04:00.607Z"
   },
   {
    "duration": 2129,
    "start_time": "2023-06-20T19:04:02.804Z"
   },
   {
    "duration": 1247,
    "start_time": "2023-06-20T19:04:04.935Z"
   },
   {
    "duration": 3,
    "start_time": "2023-06-20T19:04:06.184Z"
   },
   {
    "duration": 129,
    "start_time": "2023-06-20T19:04:06.189Z"
   },
   {
    "duration": 59,
    "start_time": "2023-06-20T19:04:06.320Z"
   },
   {
    "duration": 46,
    "start_time": "2023-06-20T19:04:06.382Z"
   },
   {
    "duration": 61,
    "start_time": "2023-06-20T19:04:06.430Z"
   },
   {
    "duration": 28,
    "start_time": "2023-06-20T19:04:06.493Z"
   },
   {
    "duration": 52,
    "start_time": "2023-06-20T19:04:06.523Z"
   },
   {
    "duration": 98,
    "start_time": "2023-06-20T19:04:06.577Z"
   },
   {
    "duration": 11,
    "start_time": "2023-06-20T19:04:06.677Z"
   },
   {
    "duration": 7,
    "start_time": "2023-06-20T19:04:06.692Z"
   },
   {
    "duration": 16,
    "start_time": "2023-06-20T19:04:06.703Z"
   },
   {
    "duration": 35,
    "start_time": "2023-06-20T19:04:06.721Z"
   },
   {
    "duration": 53,
    "start_time": "2023-06-20T19:04:06.758Z"
   },
   {
    "duration": 16,
    "start_time": "2023-06-20T19:04:06.813Z"
   },
   {
    "duration": 14,
    "start_time": "2023-06-20T19:04:06.831Z"
   },
   {
    "duration": 87,
    "start_time": "2023-06-20T19:04:06.847Z"
   },
   {
    "duration": 78,
    "start_time": "2023-06-20T19:04:06.936Z"
   },
   {
    "duration": 1426,
    "start_time": "2023-06-20T19:04:07.016Z"
   },
   {
    "duration": 16,
    "start_time": "2023-06-20T19:04:08.443Z"
   },
   {
    "duration": 22,
    "start_time": "2023-06-20T19:04:08.461Z"
   },
   {
    "duration": 320,
    "start_time": "2023-06-20T19:04:08.485Z"
   },
   {
    "duration": 6792,
    "start_time": "2023-06-20T19:04:08.807Z"
   },
   {
    "duration": 30818,
    "start_time": "2023-06-20T19:04:15.601Z"
   },
   {
    "duration": 60747,
    "start_time": "2023-06-20T19:04:46.422Z"
   },
   {
    "duration": 265,
    "start_time": "2023-06-20T19:05:47.171Z"
   },
   {
    "duration": 835,
    "start_time": "2023-06-20T19:05:47.438Z"
   },
   {
    "duration": 8,
    "start_time": "2023-06-20T19:05:48.360Z"
   },
   {
    "duration": 2103,
    "start_time": "2023-06-20T19:07:07.792Z"
   },
   {
    "duration": 1894,
    "start_time": "2023-06-20T19:07:09.898Z"
   },
   {
    "duration": 1113,
    "start_time": "2023-06-20T19:07:11.794Z"
   },
   {
    "duration": 4,
    "start_time": "2023-06-20T19:07:12.908Z"
   },
   {
    "duration": 115,
    "start_time": "2023-06-20T19:07:12.914Z"
   },
   {
    "duration": 75,
    "start_time": "2023-06-20T19:07:13.031Z"
   },
   {
    "duration": 59,
    "start_time": "2023-06-20T19:07:13.108Z"
   },
   {
    "duration": 56,
    "start_time": "2023-06-20T19:07:13.169Z"
   },
   {
    "duration": 52,
    "start_time": "2023-06-20T19:07:13.227Z"
   },
   {
    "duration": 33,
    "start_time": "2023-06-20T19:07:13.282Z"
   },
   {
    "duration": 110,
    "start_time": "2023-06-20T19:07:13.317Z"
   },
   {
    "duration": 9,
    "start_time": "2023-06-20T19:07:13.429Z"
   },
   {
    "duration": 13,
    "start_time": "2023-06-20T19:07:13.461Z"
   },
   {
    "duration": 12,
    "start_time": "2023-06-20T19:07:13.478Z"
   },
   {
    "duration": 19,
    "start_time": "2023-06-20T19:07:13.492Z"
   },
   {
    "duration": 24,
    "start_time": "2023-06-20T19:07:13.513Z"
   },
   {
    "duration": 20,
    "start_time": "2023-06-20T19:07:13.540Z"
   },
   {
    "duration": 18,
    "start_time": "2023-06-20T19:07:13.564Z"
   },
   {
    "duration": 104,
    "start_time": "2023-06-20T19:07:13.584Z"
   },
   {
    "duration": 84,
    "start_time": "2023-06-20T19:07:13.690Z"
   },
   {
    "duration": 1316,
    "start_time": "2023-06-20T19:07:13.776Z"
   },
   {
    "duration": 9,
    "start_time": "2023-06-20T19:07:15.094Z"
   },
   {
    "duration": 30,
    "start_time": "2023-06-20T19:07:15.105Z"
   },
   {
    "duration": 305,
    "start_time": "2023-06-20T19:07:15.137Z"
   },
   {
    "duration": 6661,
    "start_time": "2023-06-20T19:07:15.444Z"
   },
   {
    "duration": 32010,
    "start_time": "2023-06-20T19:07:22.107Z"
   },
   {
    "duration": 153851,
    "start_time": "2023-06-20T19:07:54.119Z"
   },
   {
    "duration": 249,
    "start_time": "2023-06-20T19:10:27.973Z"
   },
   {
    "duration": 650,
    "start_time": "2023-06-20T19:10:28.224Z"
   },
   {
    "duration": 93,
    "start_time": "2023-06-20T19:10:28.967Z"
   },
   {
    "duration": 115,
    "start_time": "2023-06-20T19:14:06.304Z"
   },
   {
    "duration": 2014,
    "start_time": "2023-06-20T19:14:32.862Z"
   },
   {
    "duration": 1895,
    "start_time": "2023-06-20T19:14:34.879Z"
   },
   {
    "duration": 1199,
    "start_time": "2023-06-20T19:14:36.776Z"
   },
   {
    "duration": 3,
    "start_time": "2023-06-20T19:14:37.977Z"
   },
   {
    "duration": 100,
    "start_time": "2023-06-20T19:14:37.983Z"
   },
   {
    "duration": 189,
    "start_time": "2023-06-20T19:14:38.085Z"
   },
   {
    "duration": 168,
    "start_time": "2023-06-20T19:14:38.276Z"
   },
   {
    "duration": 162,
    "start_time": "2023-06-20T19:14:38.446Z"
   },
   {
    "duration": 0,
    "start_time": "2023-06-20T19:14:38.610Z"
   },
   {
    "duration": 0,
    "start_time": "2023-06-20T19:14:38.612Z"
   },
   {
    "duration": 0,
    "start_time": "2023-06-20T19:14:38.613Z"
   },
   {
    "duration": 0,
    "start_time": "2023-06-20T19:14:38.614Z"
   },
   {
    "duration": 0,
    "start_time": "2023-06-20T19:14:38.616Z"
   },
   {
    "duration": 0,
    "start_time": "2023-06-20T19:14:38.617Z"
   },
   {
    "duration": 0,
    "start_time": "2023-06-20T19:14:38.619Z"
   },
   {
    "duration": 0,
    "start_time": "2023-06-20T19:14:38.620Z"
   },
   {
    "duration": 0,
    "start_time": "2023-06-20T19:14:38.622Z"
   },
   {
    "duration": 0,
    "start_time": "2023-06-20T19:14:38.623Z"
   },
   {
    "duration": 0,
    "start_time": "2023-06-20T19:14:38.625Z"
   },
   {
    "duration": 0,
    "start_time": "2023-06-20T19:14:38.626Z"
   },
   {
    "duration": 0,
    "start_time": "2023-06-20T19:14:38.627Z"
   },
   {
    "duration": 0,
    "start_time": "2023-06-20T19:14:38.659Z"
   },
   {
    "duration": 0,
    "start_time": "2023-06-20T19:14:38.660Z"
   },
   {
    "duration": 0,
    "start_time": "2023-06-20T19:14:38.661Z"
   },
   {
    "duration": 1,
    "start_time": "2023-06-20T19:14:38.662Z"
   },
   {
    "duration": 0,
    "start_time": "2023-06-20T19:14:38.663Z"
   },
   {
    "duration": 0,
    "start_time": "2023-06-20T19:14:38.664Z"
   },
   {
    "duration": 0,
    "start_time": "2023-06-20T19:14:38.666Z"
   },
   {
    "duration": 0,
    "start_time": "2023-06-20T19:14:38.667Z"
   },
   {
    "duration": 0,
    "start_time": "2023-06-20T19:14:38.668Z"
   },
   {
    "duration": 2160,
    "start_time": "2023-06-20T19:17:10.113Z"
   },
   {
    "duration": 1990,
    "start_time": "2023-06-20T19:17:12.275Z"
   },
   {
    "duration": 1245,
    "start_time": "2023-06-20T19:17:14.267Z"
   },
   {
    "duration": 4,
    "start_time": "2023-06-20T19:17:15.514Z"
   },
   {
    "duration": 115,
    "start_time": "2023-06-20T19:17:15.520Z"
   },
   {
    "duration": 266,
    "start_time": "2023-06-20T19:17:15.637Z"
   },
   {
    "duration": 202,
    "start_time": "2023-06-20T19:17:15.904Z"
   },
   {
    "duration": 182,
    "start_time": "2023-06-20T19:17:16.109Z"
   },
   {
    "duration": 0,
    "start_time": "2023-06-20T19:17:16.293Z"
   },
   {
    "duration": 0,
    "start_time": "2023-06-20T19:17:16.294Z"
   },
   {
    "duration": 0,
    "start_time": "2023-06-20T19:17:16.295Z"
   },
   {
    "duration": 0,
    "start_time": "2023-06-20T19:17:16.296Z"
   },
   {
    "duration": 0,
    "start_time": "2023-06-20T19:17:16.297Z"
   },
   {
    "duration": 0,
    "start_time": "2023-06-20T19:17:16.299Z"
   },
   {
    "duration": 0,
    "start_time": "2023-06-20T19:17:16.300Z"
   },
   {
    "duration": 0,
    "start_time": "2023-06-20T19:17:16.301Z"
   },
   {
    "duration": 0,
    "start_time": "2023-06-20T19:17:16.302Z"
   },
   {
    "duration": 0,
    "start_time": "2023-06-20T19:17:16.303Z"
   },
   {
    "duration": 0,
    "start_time": "2023-06-20T19:17:16.304Z"
   },
   {
    "duration": 0,
    "start_time": "2023-06-20T19:17:16.305Z"
   },
   {
    "duration": 0,
    "start_time": "2023-06-20T19:17:16.306Z"
   },
   {
    "duration": 0,
    "start_time": "2023-06-20T19:17:16.307Z"
   },
   {
    "duration": 0,
    "start_time": "2023-06-20T19:17:16.308Z"
   },
   {
    "duration": 0,
    "start_time": "2023-06-20T19:17:16.309Z"
   },
   {
    "duration": 0,
    "start_time": "2023-06-20T19:17:16.310Z"
   },
   {
    "duration": 0,
    "start_time": "2023-06-20T19:17:16.312Z"
   },
   {
    "duration": 0,
    "start_time": "2023-06-20T19:17:16.313Z"
   },
   {
    "duration": 0,
    "start_time": "2023-06-20T19:17:16.314Z"
   },
   {
    "duration": 0,
    "start_time": "2023-06-20T19:17:16.315Z"
   },
   {
    "duration": 0,
    "start_time": "2023-06-20T19:17:16.359Z"
   },
   {
    "duration": 2227,
    "start_time": "2023-06-20T19:18:47.560Z"
   },
   {
    "duration": 2119,
    "start_time": "2023-06-20T19:18:49.790Z"
   },
   {
    "duration": 1200,
    "start_time": "2023-06-20T19:18:51.912Z"
   },
   {
    "duration": 4,
    "start_time": "2023-06-20T19:18:53.114Z"
   },
   {
    "duration": 118,
    "start_time": "2023-06-20T19:18:53.120Z"
   },
   {
    "duration": 203,
    "start_time": "2023-06-20T19:18:53.240Z"
   },
   {
    "duration": 0,
    "start_time": "2023-06-20T19:18:53.445Z"
   },
   {
    "duration": 0,
    "start_time": "2023-06-20T19:18:53.446Z"
   },
   {
    "duration": 0,
    "start_time": "2023-06-20T19:18:53.447Z"
   },
   {
    "duration": 1,
    "start_time": "2023-06-20T19:18:53.448Z"
   },
   {
    "duration": 0,
    "start_time": "2023-06-20T19:18:53.450Z"
   },
   {
    "duration": 0,
    "start_time": "2023-06-20T19:18:53.451Z"
   },
   {
    "duration": 0,
    "start_time": "2023-06-20T19:18:53.460Z"
   },
   {
    "duration": 0,
    "start_time": "2023-06-20T19:18:53.461Z"
   },
   {
    "duration": 0,
    "start_time": "2023-06-20T19:18:53.463Z"
   },
   {
    "duration": 0,
    "start_time": "2023-06-20T19:18:53.464Z"
   },
   {
    "duration": 0,
    "start_time": "2023-06-20T19:18:53.466Z"
   },
   {
    "duration": 0,
    "start_time": "2023-06-20T19:18:53.467Z"
   },
   {
    "duration": 0,
    "start_time": "2023-06-20T19:18:53.468Z"
   },
   {
    "duration": 0,
    "start_time": "2023-06-20T19:18:53.469Z"
   },
   {
    "duration": 0,
    "start_time": "2023-06-20T19:18:53.470Z"
   },
   {
    "duration": 0,
    "start_time": "2023-06-20T19:18:53.473Z"
   },
   {
    "duration": 0,
    "start_time": "2023-06-20T19:18:53.474Z"
   },
   {
    "duration": 0,
    "start_time": "2023-06-20T19:18:53.476Z"
   },
   {
    "duration": 0,
    "start_time": "2023-06-20T19:18:53.477Z"
   },
   {
    "duration": 0,
    "start_time": "2023-06-20T19:18:53.479Z"
   },
   {
    "duration": 0,
    "start_time": "2023-06-20T19:18:53.494Z"
   },
   {
    "duration": 0,
    "start_time": "2023-06-20T19:18:53.495Z"
   },
   {
    "duration": 0,
    "start_time": "2023-06-20T19:18:53.497Z"
   },
   {
    "duration": 0,
    "start_time": "2023-06-20T19:18:53.498Z"
   },
   {
    "duration": 1963,
    "start_time": "2023-06-20T19:20:43.329Z"
   },
   {
    "duration": 1846,
    "start_time": "2023-06-20T19:20:45.295Z"
   },
   {
    "duration": 1245,
    "start_time": "2023-06-20T19:20:47.143Z"
   },
   {
    "duration": 3,
    "start_time": "2023-06-20T19:20:48.389Z"
   },
   {
    "duration": 96,
    "start_time": "2023-06-20T19:20:48.395Z"
   },
   {
    "duration": 50429,
    "start_time": "2023-06-20T19:20:48.493Z"
   },
   {
    "duration": 1896,
    "start_time": "2023-06-20T19:22:04.365Z"
   },
   {
    "duration": 1837,
    "start_time": "2023-06-20T19:22:06.264Z"
   },
   {
    "duration": 1072,
    "start_time": "2023-06-20T19:22:08.108Z"
   },
   {
    "duration": 5,
    "start_time": "2023-06-20T19:22:09.181Z"
   },
   {
    "duration": 107,
    "start_time": "2023-06-20T19:22:09.187Z"
   },
   {
    "duration": 52,
    "start_time": "2023-06-20T19:22:09.296Z"
   },
   {
    "duration": 40,
    "start_time": "2023-06-20T19:22:09.350Z"
   },
   {
    "duration": 44,
    "start_time": "2023-06-20T19:22:09.392Z"
   },
   {
    "duration": 29,
    "start_time": "2023-06-20T19:22:09.458Z"
   },
   {
    "duration": 40,
    "start_time": "2023-06-20T19:22:09.489Z"
   },
   {
    "duration": 115,
    "start_time": "2023-06-20T19:22:09.531Z"
   },
   {
    "duration": 10,
    "start_time": "2023-06-20T19:22:09.658Z"
   },
   {
    "duration": 6,
    "start_time": "2023-06-20T19:22:09.669Z"
   },
   {
    "duration": 37,
    "start_time": "2023-06-20T19:22:09.676Z"
   },
   {
    "duration": 38,
    "start_time": "2023-06-20T19:22:09.714Z"
   },
   {
    "duration": 13,
    "start_time": "2023-06-20T19:22:09.754Z"
   },
   {
    "duration": 32,
    "start_time": "2023-06-20T19:22:09.772Z"
   },
   {
    "duration": 30,
    "start_time": "2023-06-20T19:22:09.806Z"
   },
   {
    "duration": 103,
    "start_time": "2023-06-20T19:22:09.840Z"
   },
   {
    "duration": 91,
    "start_time": "2023-06-20T19:22:09.945Z"
   },
   {
    "duration": 1109,
    "start_time": "2023-06-20T19:22:10.039Z"
   },
   {
    "duration": 12,
    "start_time": "2023-06-20T19:22:11.149Z"
   },
   {
    "duration": 268,
    "start_time": "2023-06-20T19:22:11.162Z"
   },
   {
    "duration": 6146,
    "start_time": "2023-06-20T19:22:11.432Z"
   },
   {
    "duration": 30033,
    "start_time": "2023-06-20T19:22:17.580Z"
   },
   {
    "duration": 55143,
    "start_time": "2023-06-20T19:22:47.616Z"
   },
   {
    "duration": 161,
    "start_time": "2023-06-20T19:23:42.764Z"
   },
   {
    "duration": 648,
    "start_time": "2023-06-20T19:23:42.927Z"
   },
   {
    "duration": 22,
    "start_time": "2023-06-20T19:23:43.661Z"
   },
   {
    "duration": 1901,
    "start_time": "2023-06-20T19:24:34.860Z"
   },
   {
    "duration": 1868,
    "start_time": "2023-06-20T19:24:36.763Z"
   },
   {
    "duration": 1254,
    "start_time": "2023-06-20T19:24:38.634Z"
   },
   {
    "duration": 3,
    "start_time": "2023-06-20T19:24:39.890Z"
   },
   {
    "duration": 94,
    "start_time": "2023-06-20T19:24:39.895Z"
   },
   {
    "duration": 52,
    "start_time": "2023-06-20T19:24:39.991Z"
   },
   {
    "duration": 38,
    "start_time": "2023-06-20T19:24:40.044Z"
   },
   {
    "duration": 43,
    "start_time": "2023-06-20T19:24:40.083Z"
   },
   {
    "duration": 51,
    "start_time": "2023-06-20T19:24:40.127Z"
   },
   {
    "duration": 30,
    "start_time": "2023-06-20T19:24:40.181Z"
   },
   {
    "duration": 113,
    "start_time": "2023-06-20T19:24:40.213Z"
   },
   {
    "duration": 7,
    "start_time": "2023-06-20T19:24:40.328Z"
   },
   {
    "duration": 29,
    "start_time": "2023-06-20T19:24:40.337Z"
   },
   {
    "duration": 7,
    "start_time": "2023-06-20T19:24:40.369Z"
   },
   {
    "duration": 20,
    "start_time": "2023-06-20T19:24:40.378Z"
   },
   {
    "duration": 138,
    "start_time": "2023-06-20T19:24:40.399Z"
   },
   {
    "duration": 0,
    "start_time": "2023-06-20T19:24:40.538Z"
   },
   {
    "duration": 0,
    "start_time": "2023-06-20T19:24:40.539Z"
   },
   {
    "duration": 0,
    "start_time": "2023-06-20T19:24:40.540Z"
   },
   {
    "duration": 0,
    "start_time": "2023-06-20T19:24:40.541Z"
   },
   {
    "duration": 0,
    "start_time": "2023-06-20T19:24:40.542Z"
   },
   {
    "duration": 0,
    "start_time": "2023-06-20T19:24:40.543Z"
   },
   {
    "duration": 0,
    "start_time": "2023-06-20T19:24:40.544Z"
   },
   {
    "duration": 0,
    "start_time": "2023-06-20T19:24:40.545Z"
   },
   {
    "duration": 0,
    "start_time": "2023-06-20T19:24:40.546Z"
   },
   {
    "duration": 0,
    "start_time": "2023-06-20T19:24:40.560Z"
   },
   {
    "duration": 0,
    "start_time": "2023-06-20T19:24:40.561Z"
   },
   {
    "duration": 0,
    "start_time": "2023-06-20T19:24:40.562Z"
   },
   {
    "duration": 0,
    "start_time": "2023-06-20T19:24:40.563Z"
   },
   {
    "duration": 2015,
    "start_time": "2023-06-20T19:25:31.756Z"
   },
   {
    "duration": 1934,
    "start_time": "2023-06-20T19:25:33.774Z"
   },
   {
    "duration": 1121,
    "start_time": "2023-06-20T19:25:35.711Z"
   },
   {
    "duration": 3,
    "start_time": "2023-06-20T19:25:36.833Z"
   },
   {
    "duration": 98,
    "start_time": "2023-06-20T19:25:36.838Z"
   },
   {
    "duration": 52,
    "start_time": "2023-06-20T19:25:36.938Z"
   },
   {
    "duration": 35,
    "start_time": "2023-06-20T19:25:36.991Z"
   },
   {
    "duration": 59,
    "start_time": "2023-06-20T19:25:37.028Z"
   },
   {
    "duration": 26,
    "start_time": "2023-06-20T19:25:37.089Z"
   },
   {
    "duration": 53,
    "start_time": "2023-06-20T19:25:37.116Z"
   },
   {
    "duration": 104,
    "start_time": "2023-06-20T19:25:37.171Z"
   },
   {
    "duration": 9,
    "start_time": "2023-06-20T19:25:37.277Z"
   },
   {
    "duration": 9,
    "start_time": "2023-06-20T19:25:37.288Z"
   },
   {
    "duration": 3,
    "start_time": "2023-06-20T19:25:37.299Z"
   },
   {
    "duration": 17,
    "start_time": "2023-06-20T19:25:37.304Z"
   },
   {
    "duration": 8,
    "start_time": "2023-06-20T19:25:37.323Z"
   },
   {
    "duration": 31,
    "start_time": "2023-06-20T19:25:37.332Z"
   },
   {
    "duration": 11,
    "start_time": "2023-06-20T19:25:37.365Z"
   },
   {
    "duration": 69,
    "start_time": "2023-06-20T19:25:37.377Z"
   },
   {
    "duration": 65,
    "start_time": "2023-06-20T19:25:37.458Z"
   },
   {
    "duration": 916,
    "start_time": "2023-06-20T19:25:37.524Z"
   },
   {
    "duration": 7,
    "start_time": "2023-06-20T19:25:38.442Z"
   },
   {
    "duration": 266,
    "start_time": "2023-06-20T19:25:38.459Z"
   },
   {
    "duration": 5818,
    "start_time": "2023-06-20T19:25:38.726Z"
   },
   {
    "duration": 32299,
    "start_time": "2023-06-20T19:25:44.546Z"
   },
   {
    "duration": 72429,
    "start_time": "2023-06-20T19:26:16.847Z"
   },
   {
    "duration": 250,
    "start_time": "2023-06-20T19:27:29.278Z"
   },
   {
    "duration": 841,
    "start_time": "2023-06-20T19:27:29.530Z"
   },
   {
    "duration": 91,
    "start_time": "2023-06-20T19:27:30.373Z"
   },
   {
    "duration": 2154,
    "start_time": "2023-06-20T19:28:49.623Z"
   },
   {
    "duration": 2023,
    "start_time": "2023-06-20T19:28:51.780Z"
   },
   {
    "duration": 1272,
    "start_time": "2023-06-20T19:28:53.805Z"
   },
   {
    "duration": 3,
    "start_time": "2023-06-20T19:28:55.080Z"
   },
   {
    "duration": 104,
    "start_time": "2023-06-20T19:28:55.085Z"
   },
   {
    "duration": 55,
    "start_time": "2023-06-20T19:28:55.191Z"
   },
   {
    "duration": 44,
    "start_time": "2023-06-20T19:28:55.248Z"
   },
   {
    "duration": 41,
    "start_time": "2023-06-20T19:28:55.294Z"
   },
   {
    "duration": 32,
    "start_time": "2023-06-20T19:28:55.360Z"
   },
   {
    "duration": 26,
    "start_time": "2023-06-20T19:28:55.393Z"
   },
   {
    "duration": 121,
    "start_time": "2023-06-20T19:28:55.422Z"
   },
   {
    "duration": 23,
    "start_time": "2023-06-20T19:28:55.544Z"
   },
   {
    "duration": 17,
    "start_time": "2023-06-20T19:28:55.569Z"
   },
   {
    "duration": 5,
    "start_time": "2023-06-20T19:28:55.589Z"
   },
   {
    "duration": 16,
    "start_time": "2023-06-20T19:28:55.596Z"
   },
   {
    "duration": 9,
    "start_time": "2023-06-20T19:28:55.614Z"
   },
   {
    "duration": 35,
    "start_time": "2023-06-20T19:28:55.624Z"
   },
   {
    "duration": 6,
    "start_time": "2023-06-20T19:28:55.661Z"
   },
   {
    "duration": 106,
    "start_time": "2023-06-20T19:28:55.669Z"
   },
   {
    "duration": 91,
    "start_time": "2023-06-20T19:28:55.777Z"
   },
   {
    "duration": 1223,
    "start_time": "2023-06-20T19:28:55.870Z"
   },
   {
    "duration": 8,
    "start_time": "2023-06-20T19:28:57.095Z"
   },
   {
    "duration": 257,
    "start_time": "2023-06-20T19:28:57.104Z"
   },
   {
    "duration": 5937,
    "start_time": "2023-06-20T19:28:57.362Z"
   },
   {
    "duration": 31042,
    "start_time": "2023-06-20T19:29:03.300Z"
   },
   {
    "duration": 49428,
    "start_time": "2023-06-20T19:29:34.343Z"
   },
   {
    "duration": 250,
    "start_time": "2023-06-20T19:30:23.773Z"
   },
   {
    "duration": 1045,
    "start_time": "2023-06-20T19:30:24.025Z"
   },
   {
    "duration": 89,
    "start_time": "2023-06-20T19:30:25.072Z"
   },
   {
    "duration": 2163,
    "start_time": "2023-06-20T19:30:51.252Z"
   },
   {
    "duration": 2144,
    "start_time": "2023-06-20T19:30:53.417Z"
   },
   {
    "duration": 1225,
    "start_time": "2023-06-20T19:30:55.563Z"
   },
   {
    "duration": 3,
    "start_time": "2023-06-20T19:30:56.790Z"
   },
   {
    "duration": 102,
    "start_time": "2023-06-20T19:30:56.795Z"
   },
   {
    "duration": 54,
    "start_time": "2023-06-20T19:30:56.899Z"
   },
   {
    "duration": 34,
    "start_time": "2023-06-20T19:30:56.955Z"
   },
   {
    "duration": 37,
    "start_time": "2023-06-20T19:30:56.991Z"
   },
   {
    "duration": 49,
    "start_time": "2023-06-20T19:30:57.029Z"
   },
   {
    "duration": 22,
    "start_time": "2023-06-20T19:30:57.081Z"
   },
   {
    "duration": 108,
    "start_time": "2023-06-20T19:30:57.105Z"
   },
   {
    "duration": 11,
    "start_time": "2023-06-20T19:30:57.215Z"
   },
   {
    "duration": 8,
    "start_time": "2023-06-20T19:30:57.227Z"
   },
   {
    "duration": 24,
    "start_time": "2023-06-20T19:30:57.236Z"
   },
   {
    "duration": 16,
    "start_time": "2023-06-20T19:30:57.262Z"
   },
   {
    "duration": 134,
    "start_time": "2023-06-20T19:30:57.280Z"
   },
   {
    "duration": 0,
    "start_time": "2023-06-20T19:30:57.416Z"
   },
   {
    "duration": 0,
    "start_time": "2023-06-20T19:30:57.417Z"
   },
   {
    "duration": 0,
    "start_time": "2023-06-20T19:30:57.418Z"
   },
   {
    "duration": 0,
    "start_time": "2023-06-20T19:30:57.419Z"
   },
   {
    "duration": 0,
    "start_time": "2023-06-20T19:30:57.420Z"
   },
   {
    "duration": 0,
    "start_time": "2023-06-20T19:30:57.422Z"
   },
   {
    "duration": 0,
    "start_time": "2023-06-20T19:30:57.422Z"
   },
   {
    "duration": 0,
    "start_time": "2023-06-20T19:30:57.423Z"
   },
   {
    "duration": 0,
    "start_time": "2023-06-20T19:30:57.424Z"
   },
   {
    "duration": 0,
    "start_time": "2023-06-20T19:30:57.425Z"
   },
   {
    "duration": 0,
    "start_time": "2023-06-20T19:30:57.426Z"
   },
   {
    "duration": 0,
    "start_time": "2023-06-20T19:30:57.427Z"
   },
   {
    "duration": 0,
    "start_time": "2023-06-20T19:30:57.428Z"
   },
   {
    "duration": 2026,
    "start_time": "2023-06-20T19:33:13.317Z"
   },
   {
    "duration": 1920,
    "start_time": "2023-06-20T19:33:15.345Z"
   },
   {
    "duration": 1283,
    "start_time": "2023-06-20T19:33:17.268Z"
   },
   {
    "duration": 14,
    "start_time": "2023-06-20T19:33:18.553Z"
   },
   {
    "duration": 103,
    "start_time": "2023-06-20T19:33:18.570Z"
   },
   {
    "duration": 58,
    "start_time": "2023-06-20T19:33:18.675Z"
   },
   {
    "duration": 59,
    "start_time": "2023-06-20T19:33:18.736Z"
   },
   {
    "duration": 67,
    "start_time": "2023-06-20T19:33:18.797Z"
   },
   {
    "duration": 25,
    "start_time": "2023-06-20T19:33:18.865Z"
   },
   {
    "duration": 25,
    "start_time": "2023-06-20T19:33:18.893Z"
   },
   {
    "duration": 114,
    "start_time": "2023-06-20T19:33:18.919Z"
   },
   {
    "duration": 25,
    "start_time": "2023-06-20T19:33:19.034Z"
   },
   {
    "duration": 6,
    "start_time": "2023-06-20T19:33:19.061Z"
   },
   {
    "duration": 8,
    "start_time": "2023-06-20T19:33:19.069Z"
   },
   {
    "duration": 19,
    "start_time": "2023-06-20T19:33:19.079Z"
   },
   {
    "duration": 9,
    "start_time": "2023-06-20T19:33:19.100Z"
   },
   {
    "duration": 14,
    "start_time": "2023-06-20T19:33:19.111Z"
   },
   {
    "duration": 33,
    "start_time": "2023-06-20T19:33:19.127Z"
   },
   {
    "duration": 100,
    "start_time": "2023-06-20T19:33:19.162Z"
   },
   {
    "duration": 71,
    "start_time": "2023-06-20T19:33:19.264Z"
   },
   {
    "duration": 1116,
    "start_time": "2023-06-20T19:33:19.358Z"
   },
   {
    "duration": 7,
    "start_time": "2023-06-20T19:33:20.475Z"
   },
   {
    "duration": 256,
    "start_time": "2023-06-20T19:33:20.483Z"
   },
   {
    "duration": 5939,
    "start_time": "2023-06-20T19:33:20.741Z"
   },
   {
    "duration": 30408,
    "start_time": "2023-06-20T19:33:26.682Z"
   },
   {
    "duration": 76177,
    "start_time": "2023-06-20T19:33:57.092Z"
   },
   {
    "duration": 253,
    "start_time": "2023-06-20T19:35:13.271Z"
   },
   {
    "duration": 3033,
    "start_time": "2023-06-20T19:35:13.529Z"
   },
   {
    "duration": 95,
    "start_time": "2023-06-20T19:35:16.565Z"
   },
   {
    "duration": 1890,
    "start_time": "2023-06-20T19:36:05.208Z"
   },
   {
    "duration": 1887,
    "start_time": "2023-06-20T19:36:07.100Z"
   },
   {
    "duration": 1218,
    "start_time": "2023-06-20T19:36:08.989Z"
   },
   {
    "duration": 4,
    "start_time": "2023-06-20T19:36:10.209Z"
   },
   {
    "duration": 116,
    "start_time": "2023-06-20T19:36:10.215Z"
   },
   {
    "duration": 77,
    "start_time": "2023-06-20T19:36:10.333Z"
   },
   {
    "duration": 57,
    "start_time": "2023-06-20T19:36:10.412Z"
   },
   {
    "duration": 48,
    "start_time": "2023-06-20T19:36:10.471Z"
   },
   {
    "duration": 51,
    "start_time": "2023-06-20T19:36:10.520Z"
   },
   {
    "duration": 26,
    "start_time": "2023-06-20T19:36:10.572Z"
   },
   {
    "duration": 116,
    "start_time": "2023-06-20T19:36:10.599Z"
   },
   {
    "duration": 10,
    "start_time": "2023-06-20T19:36:10.717Z"
   },
   {
    "duration": 30,
    "start_time": "2023-06-20T19:36:10.729Z"
   },
   {
    "duration": 4,
    "start_time": "2023-06-20T19:36:10.762Z"
   },
   {
    "duration": 24,
    "start_time": "2023-06-20T19:36:10.768Z"
   },
   {
    "duration": 8,
    "start_time": "2023-06-20T19:36:10.794Z"
   },
   {
    "duration": 18,
    "start_time": "2023-06-20T19:36:10.804Z"
   },
   {
    "duration": 5,
    "start_time": "2023-06-20T19:36:10.823Z"
   },
   {
    "duration": 99,
    "start_time": "2023-06-20T19:36:10.830Z"
   },
   {
    "duration": 88,
    "start_time": "2023-06-20T19:36:10.931Z"
   },
   {
    "duration": 1478,
    "start_time": "2023-06-20T19:36:11.021Z"
   },
   {
    "duration": 8,
    "start_time": "2023-06-20T19:36:12.500Z"
   },
   {
    "duration": 280,
    "start_time": "2023-06-20T19:36:12.510Z"
   },
   {
    "duration": 6637,
    "start_time": "2023-06-20T19:36:12.791Z"
   },
   {
    "duration": 30018,
    "start_time": "2023-06-20T19:36:19.430Z"
   },
   {
    "duration": 39830,
    "start_time": "2023-06-20T19:36:49.449Z"
   },
   {
    "duration": 226,
    "start_time": "2023-06-20T19:37:29.359Z"
   },
   {
    "duration": 2383,
    "start_time": "2023-06-20T19:37:29.587Z"
   },
   {
    "duration": 95,
    "start_time": "2023-06-20T19:37:31.974Z"
   },
   {
    "duration": 1953,
    "start_time": "2023-06-20T19:41:32.519Z"
   },
   {
    "duration": 1829,
    "start_time": "2023-06-20T19:41:34.474Z"
   },
   {
    "duration": 1186,
    "start_time": "2023-06-20T19:41:36.304Z"
   },
   {
    "duration": 4,
    "start_time": "2023-06-20T19:41:37.492Z"
   },
   {
    "duration": 115,
    "start_time": "2023-06-20T19:41:37.498Z"
   },
   {
    "duration": 52,
    "start_time": "2023-06-20T19:41:37.614Z"
   },
   {
    "duration": 49,
    "start_time": "2023-06-20T19:41:37.668Z"
   },
   {
    "duration": 65,
    "start_time": "2023-06-20T19:41:37.719Z"
   },
   {
    "duration": 29,
    "start_time": "2023-06-20T19:41:37.786Z"
   },
   {
    "duration": 54,
    "start_time": "2023-06-20T19:41:37.816Z"
   },
   {
    "duration": 97,
    "start_time": "2023-06-20T19:41:37.872Z"
   },
   {
    "duration": 10,
    "start_time": "2023-06-20T19:41:37.970Z"
   },
   {
    "duration": 5,
    "start_time": "2023-06-20T19:41:37.981Z"
   },
   {
    "duration": 20,
    "start_time": "2023-06-20T19:41:37.988Z"
   },
   {
    "duration": 14,
    "start_time": "2023-06-20T19:41:38.010Z"
   },
   {
    "duration": 8,
    "start_time": "2023-06-20T19:41:38.025Z"
   },
   {
    "duration": 29,
    "start_time": "2023-06-20T19:41:38.035Z"
   },
   {
    "duration": 5,
    "start_time": "2023-06-20T19:41:38.066Z"
   },
   {
    "duration": 122,
    "start_time": "2023-06-20T19:41:38.073Z"
   },
   {
    "duration": 89,
    "start_time": "2023-06-20T19:41:38.197Z"
   },
   {
    "duration": 1253,
    "start_time": "2023-06-20T19:41:38.287Z"
   },
   {
    "duration": 17,
    "start_time": "2023-06-20T19:41:39.542Z"
   },
   {
    "duration": 278,
    "start_time": "2023-06-20T19:41:39.560Z"
   },
   {
    "duration": 5952,
    "start_time": "2023-06-20T19:41:39.841Z"
   },
   {
    "duration": 30502,
    "start_time": "2023-06-20T19:41:45.795Z"
   },
   {
    "duration": 48763,
    "start_time": "2023-06-20T19:42:16.299Z"
   },
   {
    "duration": 173,
    "start_time": "2023-06-20T19:43:05.066Z"
   },
   {
    "duration": 921,
    "start_time": "2023-06-20T19:43:05.241Z"
   },
   {
    "duration": 9,
    "start_time": "2023-06-20T19:43:06.167Z"
   },
   {
    "duration": 1986,
    "start_time": "2023-06-20T19:43:23.795Z"
   },
   {
    "duration": 1876,
    "start_time": "2023-06-20T19:43:25.783Z"
   },
   {
    "duration": 1197,
    "start_time": "2023-06-20T19:43:27.662Z"
   },
   {
    "duration": 6,
    "start_time": "2023-06-20T19:43:28.862Z"
   },
   {
    "duration": 98,
    "start_time": "2023-06-20T19:43:28.870Z"
   },
   {
    "duration": 65,
    "start_time": "2023-06-20T19:43:28.971Z"
   },
   {
    "duration": 46,
    "start_time": "2023-06-20T19:43:29.038Z"
   },
   {
    "duration": 38,
    "start_time": "2023-06-20T19:43:29.085Z"
   },
   {
    "duration": 49,
    "start_time": "2023-06-20T19:43:29.124Z"
   },
   {
    "duration": 23,
    "start_time": "2023-06-20T19:43:29.176Z"
   },
   {
    "duration": 116,
    "start_time": "2023-06-20T19:43:29.201Z"
   },
   {
    "duration": 14,
    "start_time": "2023-06-20T19:43:29.319Z"
   },
   {
    "duration": 27,
    "start_time": "2023-06-20T19:43:29.335Z"
   },
   {
    "duration": 8,
    "start_time": "2023-06-20T19:43:29.363Z"
   },
   {
    "duration": 27,
    "start_time": "2023-06-20T19:43:29.373Z"
   },
   {
    "duration": 9,
    "start_time": "2023-06-20T19:43:29.402Z"
   },
   {
    "duration": 10,
    "start_time": "2023-06-20T19:43:29.412Z"
   },
   {
    "duration": 34,
    "start_time": "2023-06-20T19:43:29.424Z"
   },
   {
    "duration": 81,
    "start_time": "2023-06-20T19:43:29.459Z"
   },
   {
    "duration": 84,
    "start_time": "2023-06-20T19:43:29.541Z"
   },
   {
    "duration": 1116,
    "start_time": "2023-06-20T19:43:29.626Z"
   },
   {
    "duration": 17,
    "start_time": "2023-06-20T19:43:30.744Z"
   },
   {
    "duration": 267,
    "start_time": "2023-06-20T19:43:30.763Z"
   },
   {
    "duration": 6536,
    "start_time": "2023-06-20T19:43:31.032Z"
   },
   {
    "duration": 31778,
    "start_time": "2023-06-20T19:43:37.570Z"
   },
   {
    "duration": 52811,
    "start_time": "2023-06-20T19:44:09.350Z"
   },
   {
    "duration": 187,
    "start_time": "2023-06-20T19:45:02.163Z"
   },
   {
    "duration": 1402,
    "start_time": "2023-06-20T19:45:02.358Z"
   },
   {
    "duration": 10,
    "start_time": "2023-06-20T19:45:03.766Z"
   },
   {
    "duration": 2393,
    "start_time": "2023-06-20T19:46:07.830Z"
   },
   {
    "duration": 2228,
    "start_time": "2023-06-20T19:46:10.226Z"
   },
   {
    "duration": 1406,
    "start_time": "2023-06-20T19:46:12.456Z"
   },
   {
    "duration": 6,
    "start_time": "2023-06-20T19:46:13.865Z"
   },
   {
    "duration": 100,
    "start_time": "2023-06-20T19:46:13.873Z"
   },
   {
    "duration": 71,
    "start_time": "2023-06-20T19:46:13.975Z"
   },
   {
    "duration": 62,
    "start_time": "2023-06-20T19:46:14.060Z"
   },
   {
    "duration": 84,
    "start_time": "2023-06-20T19:46:14.124Z"
   },
   {
    "duration": 58,
    "start_time": "2023-06-20T19:46:14.211Z"
   },
   {
    "duration": 49,
    "start_time": "2023-06-20T19:46:14.273Z"
   },
   {
    "duration": 121,
    "start_time": "2023-06-20T19:46:14.324Z"
   },
   {
    "duration": 21,
    "start_time": "2023-06-20T19:46:14.447Z"
   },
   {
    "duration": 9,
    "start_time": "2023-06-20T19:46:14.470Z"
   },
   {
    "duration": 13,
    "start_time": "2023-06-20T19:46:14.481Z"
   },
   {
    "duration": 21,
    "start_time": "2023-06-20T19:46:14.496Z"
   },
   {
    "duration": 9,
    "start_time": "2023-06-20T19:46:14.519Z"
   },
   {
    "duration": 39,
    "start_time": "2023-06-20T19:46:14.530Z"
   },
   {
    "duration": 18,
    "start_time": "2023-06-20T19:46:14.571Z"
   },
   {
    "duration": 108,
    "start_time": "2023-06-20T19:46:14.591Z"
   },
   {
    "duration": 99,
    "start_time": "2023-06-20T19:46:14.701Z"
   },
   {
    "duration": 1523,
    "start_time": "2023-06-20T19:46:14.802Z"
   },
   {
    "duration": 10,
    "start_time": "2023-06-20T19:46:16.327Z"
   },
   {
    "duration": 377,
    "start_time": "2023-06-20T19:46:16.339Z"
   },
   {
    "duration": 6760,
    "start_time": "2023-06-20T19:46:16.718Z"
   },
   {
    "duration": 32314,
    "start_time": "2023-06-20T19:46:23.480Z"
   },
   {
    "duration": 60375,
    "start_time": "2023-06-20T19:46:55.796Z"
   },
   {
    "duration": 257,
    "start_time": "2023-06-20T19:47:56.173Z"
   },
   {
    "duration": 938,
    "start_time": "2023-06-20T19:47:56.433Z"
   },
   {
    "duration": 87,
    "start_time": "2023-06-20T19:47:57.373Z"
   },
   {
    "duration": 1278,
    "start_time": "2023-06-20T19:49:02.490Z"
   },
   {
    "duration": 2005,
    "start_time": "2023-06-20T19:50:33.855Z"
   },
   {
    "duration": 1006,
    "start_time": "2023-06-20T19:51:23.463Z"
   },
   {
    "duration": 1318,
    "start_time": "2023-06-20T19:52:06.645Z"
   },
   {
    "duration": 5707,
    "start_time": "2023-06-20T19:52:24.260Z"
   },
   {
    "duration": 434,
    "start_time": "2023-06-20T19:55:06.993Z"
   },
   {
    "duration": 130,
    "start_time": "2023-06-20T19:55:36.325Z"
   },
   {
    "duration": 18,
    "start_time": "2023-06-20T19:58:03.426Z"
   },
   {
    "duration": 37,
    "start_time": "2023-06-20T19:58:08.561Z"
   },
   {
    "duration": 19,
    "start_time": "2023-06-20T20:02:49.772Z"
   },
   {
    "duration": 2319,
    "start_time": "2023-06-20T20:02:55.644Z"
   },
   {
    "duration": 2288,
    "start_time": "2023-06-20T20:02:57.966Z"
   },
   {
    "duration": 1468,
    "start_time": "2023-06-20T20:03:00.258Z"
   },
   {
    "duration": 4,
    "start_time": "2023-06-20T20:03:01.729Z"
   },
   {
    "duration": 179,
    "start_time": "2023-06-20T20:03:01.736Z"
   },
   {
    "duration": 68,
    "start_time": "2023-06-20T20:03:01.917Z"
   },
   {
    "duration": 42,
    "start_time": "2023-06-20T20:03:01.987Z"
   },
   {
    "duration": 68,
    "start_time": "2023-06-20T20:03:02.031Z"
   },
   {
    "duration": 60,
    "start_time": "2023-06-20T20:03:02.101Z"
   },
   {
    "duration": 30,
    "start_time": "2023-06-20T20:03:02.165Z"
   },
   {
    "duration": 126,
    "start_time": "2023-06-20T20:03:02.197Z"
   },
   {
    "duration": 14,
    "start_time": "2023-06-20T20:03:02.325Z"
   },
   {
    "duration": 34,
    "start_time": "2023-06-20T20:03:02.341Z"
   },
   {
    "duration": 19,
    "start_time": "2023-06-20T20:03:02.377Z"
   },
   {
    "duration": 38,
    "start_time": "2023-06-20T20:03:02.398Z"
   },
   {
    "duration": 9,
    "start_time": "2023-06-20T20:03:02.439Z"
   },
   {
    "duration": 21,
    "start_time": "2023-06-20T20:03:02.451Z"
   },
   {
    "duration": 27,
    "start_time": "2023-06-20T20:03:02.474Z"
   },
   {
    "duration": 125,
    "start_time": "2023-06-20T20:03:02.504Z"
   },
   {
    "duration": 93,
    "start_time": "2023-06-20T20:03:02.631Z"
   },
   {
    "duration": 1719,
    "start_time": "2023-06-20T20:03:02.726Z"
   },
   {
    "duration": 20,
    "start_time": "2023-06-20T20:03:04.447Z"
   },
   {
    "duration": 329,
    "start_time": "2023-06-20T20:03:04.469Z"
   },
   {
    "duration": 7133,
    "start_time": "2023-06-20T20:03:04.800Z"
   },
   {
    "duration": 35936,
    "start_time": "2023-06-20T20:03:11.935Z"
   },
   {
    "duration": 70991,
    "start_time": "2023-06-20T20:03:47.873Z"
   },
   {
    "duration": 285,
    "start_time": "2023-06-20T20:04:58.866Z"
   },
   {
    "duration": 1102,
    "start_time": "2023-06-20T20:04:59.159Z"
   },
   {
    "duration": 96,
    "start_time": "2023-06-20T20:05:00.264Z"
   },
   {
    "duration": 176,
    "start_time": "2023-06-20T20:05:00.362Z"
   },
   {
    "duration": 1200,
    "start_time": "2023-06-20T20:05:57.970Z"
   },
   {
    "duration": 178,
    "start_time": "2023-06-20T20:06:01.629Z"
   },
   {
    "duration": 255,
    "start_time": "2023-06-20T20:12:03.193Z"
   },
   {
    "duration": 156,
    "start_time": "2023-06-20T20:12:11.927Z"
   },
   {
    "duration": 168,
    "start_time": "2023-06-20T20:12:35.361Z"
   },
   {
    "duration": 201,
    "start_time": "2023-06-20T20:12:43.433Z"
   },
   {
    "duration": 125,
    "start_time": "2023-06-20T20:15:04.714Z"
   },
   {
    "duration": 2326,
    "start_time": "2023-06-20T20:16:39.213Z"
   },
   {
    "duration": 2256,
    "start_time": "2023-06-20T20:16:41.543Z"
   },
   {
    "duration": 1365,
    "start_time": "2023-06-20T20:16:43.801Z"
   },
   {
    "duration": 4,
    "start_time": "2023-06-20T20:16:45.169Z"
   },
   {
    "duration": 124,
    "start_time": "2023-06-20T20:16:45.175Z"
   },
   {
    "duration": 66,
    "start_time": "2023-06-20T20:16:45.301Z"
   },
   {
    "duration": 57,
    "start_time": "2023-06-20T20:16:45.369Z"
   },
   {
    "duration": 79,
    "start_time": "2023-06-20T20:16:45.428Z"
   },
   {
    "duration": 70,
    "start_time": "2023-06-20T20:16:45.509Z"
   },
   {
    "duration": 34,
    "start_time": "2023-06-20T20:16:45.583Z"
   },
   {
    "duration": 175,
    "start_time": "2023-06-20T20:16:45.619Z"
   },
   {
    "duration": 15,
    "start_time": "2023-06-20T20:16:45.797Z"
   },
   {
    "duration": 8,
    "start_time": "2023-06-20T20:16:45.815Z"
   },
   {
    "duration": 12,
    "start_time": "2023-06-20T20:16:45.825Z"
   },
   {
    "duration": 36,
    "start_time": "2023-06-20T20:16:45.840Z"
   },
   {
    "duration": 9,
    "start_time": "2023-06-20T20:16:45.878Z"
   },
   {
    "duration": 14,
    "start_time": "2023-06-20T20:16:45.889Z"
   },
   {
    "duration": 15,
    "start_time": "2023-06-20T20:16:45.905Z"
   },
   {
    "duration": 121,
    "start_time": "2023-06-20T20:16:45.922Z"
   },
   {
    "duration": 77,
    "start_time": "2023-06-20T20:16:46.060Z"
   },
   {
    "duration": 1700,
    "start_time": "2023-06-20T20:16:46.139Z"
   },
   {
    "duration": 21,
    "start_time": "2023-06-20T20:16:47.841Z"
   },
   {
    "duration": 336,
    "start_time": "2023-06-20T20:16:47.864Z"
   },
   {
    "duration": 7093,
    "start_time": "2023-06-20T20:16:48.202Z"
   },
   {
    "duration": 37424,
    "start_time": "2023-06-20T20:16:55.297Z"
   },
   {
    "duration": 86236,
    "start_time": "2023-06-20T20:17:32.724Z"
   },
   {
    "duration": 176,
    "start_time": "2023-06-20T20:18:58.963Z"
   },
   {
    "duration": 1111,
    "start_time": "2023-06-20T20:18:59.159Z"
   },
   {
    "duration": 87,
    "start_time": "2023-06-20T20:19:00.273Z"
   },
   {
    "duration": 271,
    "start_time": "2023-06-20T20:19:00.362Z"
   },
   {
    "duration": 9,
    "start_time": "2023-06-20T20:19:00.636Z"
   },
   {
    "duration": 176,
    "start_time": "2023-06-20T20:19:00.647Z"
   },
   {
    "duration": 11,
    "start_time": "2023-06-20T20:19:37.239Z"
   },
   {
    "duration": 2312,
    "start_time": "2023-06-20T20:20:51.758Z"
   },
   {
    "duration": 2234,
    "start_time": "2023-06-20T20:20:54.073Z"
   },
   {
    "duration": 1258,
    "start_time": "2023-06-20T20:20:56.309Z"
   },
   {
    "duration": 4,
    "start_time": "2023-06-20T20:20:57.569Z"
   },
   {
    "duration": 102,
    "start_time": "2023-06-20T20:20:57.575Z"
   },
   {
    "duration": 66,
    "start_time": "2023-06-20T20:20:57.678Z"
   },
   {
    "duration": 50,
    "start_time": "2023-06-20T20:20:57.746Z"
   },
   {
    "duration": 72,
    "start_time": "2023-06-20T20:20:57.797Z"
   },
   {
    "duration": 29,
    "start_time": "2023-06-20T20:20:57.871Z"
   },
   {
    "duration": 30,
    "start_time": "2023-06-20T20:20:57.903Z"
   },
   {
    "duration": 119,
    "start_time": "2023-06-20T20:20:57.959Z"
   },
   {
    "duration": 10,
    "start_time": "2023-06-20T20:20:58.081Z"
   },
   {
    "duration": 6,
    "start_time": "2023-06-20T20:20:58.093Z"
   },
   {
    "duration": 8,
    "start_time": "2023-06-20T20:20:58.101Z"
   },
   {
    "duration": 15,
    "start_time": "2023-06-20T20:20:58.110Z"
   },
   {
    "duration": 37,
    "start_time": "2023-06-20T20:20:58.127Z"
   },
   {
    "duration": 14,
    "start_time": "2023-06-20T20:20:58.166Z"
   },
   {
    "duration": 9,
    "start_time": "2023-06-20T20:20:58.182Z"
   },
   {
    "duration": 119,
    "start_time": "2023-06-20T20:20:58.193Z"
   },
   {
    "duration": 85,
    "start_time": "2023-06-20T20:20:58.314Z"
   },
   {
    "duration": 1602,
    "start_time": "2023-06-20T20:20:58.400Z"
   },
   {
    "duration": 10,
    "start_time": "2023-06-20T20:21:00.003Z"
   },
   {
    "duration": 364,
    "start_time": "2023-06-20T20:21:00.015Z"
   },
   {
    "duration": 7057,
    "start_time": "2023-06-20T20:21:00.381Z"
   },
   {
    "duration": 36672,
    "start_time": "2023-06-20T20:21:07.440Z"
   },
   {
    "duration": 166160,
    "start_time": "2023-06-20T20:21:44.115Z"
   },
   {
    "duration": 255,
    "start_time": "2023-06-20T20:24:30.277Z"
   },
   {
    "duration": 2834,
    "start_time": "2023-06-20T20:24:30.536Z"
   },
   {
    "duration": 114,
    "start_time": "2023-06-20T20:24:33.371Z"
   },
   {
    "duration": 164,
    "start_time": "2023-06-20T20:24:33.564Z"
   },
   {
    "duration": 6,
    "start_time": "2023-06-20T20:24:33.730Z"
   },
   {
    "duration": 37,
    "start_time": "2023-06-20T20:24:33.738Z"
   },
   {
    "duration": 5,
    "start_time": "2023-06-20T20:29:14.463Z"
   },
   {
    "duration": 6,
    "start_time": "2023-06-20T20:30:03.526Z"
   },
   {
    "duration": 119,
    "start_time": "2023-06-20T20:30:54.529Z"
   },
   {
    "duration": 1875,
    "start_time": "2023-06-20T20:31:00.952Z"
   },
   {
    "duration": 1867,
    "start_time": "2023-06-20T20:31:02.830Z"
   },
   {
    "duration": 1074,
    "start_time": "2023-06-20T20:31:04.699Z"
   },
   {
    "duration": 3,
    "start_time": "2023-06-20T20:31:05.775Z"
   },
   {
    "duration": 107,
    "start_time": "2023-06-20T20:31:05.779Z"
   },
   {
    "duration": 49,
    "start_time": "2023-06-20T20:31:05.888Z"
   },
   {
    "duration": 37,
    "start_time": "2023-06-20T20:31:05.938Z"
   },
   {
    "duration": 36,
    "start_time": "2023-06-20T20:31:05.977Z"
   },
   {
    "duration": 47,
    "start_time": "2023-06-20T20:31:06.014Z"
   },
   {
    "duration": 22,
    "start_time": "2023-06-20T20:31:06.063Z"
   },
   {
    "duration": 96,
    "start_time": "2023-06-20T20:31:06.087Z"
   },
   {
    "duration": 9,
    "start_time": "2023-06-20T20:31:06.185Z"
   },
   {
    "duration": 37,
    "start_time": "2023-06-20T20:31:06.195Z"
   },
   {
    "duration": 16,
    "start_time": "2023-06-20T20:31:06.234Z"
   },
   {
    "duration": 26,
    "start_time": "2023-06-20T20:31:06.252Z"
   },
   {
    "duration": 16,
    "start_time": "2023-06-20T20:31:06.279Z"
   },
   {
    "duration": 17,
    "start_time": "2023-06-20T20:31:06.296Z"
   },
   {
    "duration": 15,
    "start_time": "2023-06-20T20:31:06.314Z"
   },
   {
    "duration": 76,
    "start_time": "2023-06-20T20:31:06.331Z"
   },
   {
    "duration": 83,
    "start_time": "2023-06-20T20:31:06.408Z"
   },
   {
    "duration": 1203,
    "start_time": "2023-06-20T20:31:06.492Z"
   },
   {
    "duration": 9,
    "start_time": "2023-06-20T20:31:07.696Z"
   },
   {
    "duration": 260,
    "start_time": "2023-06-20T20:31:07.707Z"
   },
   {
    "duration": 5739,
    "start_time": "2023-06-20T20:31:07.969Z"
   },
   {
    "duration": 29039,
    "start_time": "2023-06-20T20:31:13.710Z"
   },
   {
    "duration": 46514,
    "start_time": "2023-06-20T20:31:42.750Z"
   },
   {
    "duration": 248,
    "start_time": "2023-06-20T20:32:29.266Z"
   },
   {
    "duration": 1143,
    "start_time": "2023-06-20T20:32:29.517Z"
   },
   {
    "duration": 0,
    "start_time": "2023-06-20T20:32:30.662Z"
   },
   {
    "duration": 0,
    "start_time": "2023-06-20T20:32:30.664Z"
   },
   {
    "duration": 0,
    "start_time": "2023-06-20T20:32:30.665Z"
   },
   {
    "duration": 0,
    "start_time": "2023-06-20T20:32:30.667Z"
   },
   {
    "duration": 1658,
    "start_time": "2023-06-20T20:33:55.411Z"
   },
   {
    "duration": 861,
    "start_time": "2023-06-20T20:35:26.399Z"
   },
   {
    "duration": 7,
    "start_time": "2023-06-20T20:35:31.058Z"
   },
   {
    "duration": 148,
    "start_time": "2023-06-20T20:35:33.252Z"
   },
   {
    "duration": 5,
    "start_time": "2023-06-20T20:35:35.194Z"
   },
   {
    "duration": 1261,
    "start_time": "2023-06-20T20:35:35.914Z"
   },
   {
    "duration": 935,
    "start_time": "2023-06-20T20:36:41.227Z"
   },
   {
    "duration": 425,
    "start_time": "2023-06-20T20:38:03.713Z"
   },
   {
    "duration": 455,
    "start_time": "2023-06-20T20:38:15.937Z"
   },
   {
    "duration": 395,
    "start_time": "2023-06-20T20:39:03.239Z"
   },
   {
    "duration": 415,
    "start_time": "2023-06-20T20:39:17.517Z"
   },
   {
    "duration": 93,
    "start_time": "2023-06-20T20:40:35.628Z"
   },
   {
    "duration": 9,
    "start_time": "2023-06-20T20:40:44.532Z"
   },
   {
    "duration": 11,
    "start_time": "2023-06-20T20:42:09.208Z"
   },
   {
    "duration": 168,
    "start_time": "2023-06-20T20:42:19.204Z"
   },
   {
    "duration": 1986,
    "start_time": "2023-06-20T20:46:02.241Z"
   },
   {
    "duration": 1997,
    "start_time": "2023-06-20T20:46:04.229Z"
   },
   {
    "duration": 1244,
    "start_time": "2023-06-20T20:46:06.228Z"
   },
   {
    "duration": 4,
    "start_time": "2023-06-20T20:46:07.474Z"
   },
   {
    "duration": 130,
    "start_time": "2023-06-20T20:46:07.485Z"
   },
   {
    "duration": 58,
    "start_time": "2023-06-20T20:46:07.617Z"
   },
   {
    "duration": 44,
    "start_time": "2023-06-20T20:46:07.680Z"
   },
   {
    "duration": 62,
    "start_time": "2023-06-20T20:46:07.726Z"
   },
   {
    "duration": 25,
    "start_time": "2023-06-20T20:46:07.790Z"
   },
   {
    "duration": 58,
    "start_time": "2023-06-20T20:46:07.817Z"
   },
   {
    "duration": 93,
    "start_time": "2023-06-20T20:46:07.882Z"
   },
   {
    "duration": 14,
    "start_time": "2023-06-20T20:46:07.988Z"
   },
   {
    "duration": 7,
    "start_time": "2023-06-20T20:46:08.004Z"
   },
   {
    "duration": 5,
    "start_time": "2023-06-20T20:46:08.013Z"
   },
   {
    "duration": 24,
    "start_time": "2023-06-20T20:46:08.019Z"
   },
   {
    "duration": 6,
    "start_time": "2023-06-20T20:46:08.044Z"
   },
   {
    "duration": 26,
    "start_time": "2023-06-20T20:46:08.051Z"
   },
   {
    "duration": 6,
    "start_time": "2023-06-20T20:46:08.084Z"
   },
   {
    "duration": 94,
    "start_time": "2023-06-20T20:46:08.091Z"
   },
   {
    "duration": 63,
    "start_time": "2023-06-20T20:46:08.188Z"
   },
   {
    "duration": 1425,
    "start_time": "2023-06-20T20:46:08.260Z"
   },
   {
    "duration": 9,
    "start_time": "2023-06-20T20:46:09.687Z"
   },
   {
    "duration": 309,
    "start_time": "2023-06-20T20:46:09.697Z"
   },
   {
    "duration": 6979,
    "start_time": "2023-06-20T20:46:10.008Z"
   },
   {
    "duration": 32057,
    "start_time": "2023-06-20T20:46:16.989Z"
   },
   {
    "duration": 108812,
    "start_time": "2023-06-20T20:46:49.048Z"
   },
   {
    "duration": 158,
    "start_time": "2023-06-20T20:48:37.862Z"
   },
   {
    "duration": 1862,
    "start_time": "2023-06-20T20:48:38.022Z"
   },
   {
    "duration": 10,
    "start_time": "2023-06-20T20:48:39.964Z"
   },
   {
    "duration": 231,
    "start_time": "2023-06-20T20:48:39.977Z"
   },
   {
    "duration": 5,
    "start_time": "2023-06-20T20:48:40.209Z"
   },
   {
    "duration": 16250,
    "start_time": "2023-06-20T20:48:40.216Z"
   },
   {
    "duration": 101,
    "start_time": "2023-06-20T20:50:45.015Z"
   },
   {
    "duration": 3254,
    "start_time": "2023-06-20T20:51:06.015Z"
   },
   {
    "duration": 1859,
    "start_time": "2023-06-20T20:53:02.330Z"
   },
   {
    "duration": 1820,
    "start_time": "2023-06-20T20:53:04.191Z"
   },
   {
    "duration": 1827,
    "start_time": "2023-06-20T20:53:06.013Z"
   },
   {
    "duration": 3114,
    "start_time": "2023-06-20T20:53:07.842Z"
   },
   {
    "duration": 3,
    "start_time": "2023-06-20T20:53:10.959Z"
   },
   {
    "duration": 102,
    "start_time": "2023-06-20T20:53:10.963Z"
   },
   {
    "duration": 62,
    "start_time": "2023-06-20T20:53:11.066Z"
   },
   {
    "duration": 55,
    "start_time": "2023-06-20T20:53:11.130Z"
   },
   {
    "duration": 43,
    "start_time": "2023-06-20T20:53:11.186Z"
   },
   {
    "duration": 50,
    "start_time": "2023-06-20T20:53:11.231Z"
   },
   {
    "duration": 26,
    "start_time": "2023-06-20T20:53:11.282Z"
   },
   {
    "duration": 120,
    "start_time": "2023-06-20T20:53:11.310Z"
   },
   {
    "duration": 27,
    "start_time": "2023-06-20T20:53:11.432Z"
   },
   {
    "duration": 8,
    "start_time": "2023-06-20T20:53:11.463Z"
   },
   {
    "duration": 8,
    "start_time": "2023-06-20T20:53:11.473Z"
   },
   {
    "duration": 25,
    "start_time": "2023-06-20T20:53:11.483Z"
   },
   {
    "duration": 8,
    "start_time": "2023-06-20T20:53:11.510Z"
   },
   {
    "duration": 14,
    "start_time": "2023-06-20T20:53:11.520Z"
   },
   {
    "duration": 26,
    "start_time": "2023-06-20T20:53:11.536Z"
   },
   {
    "duration": 79,
    "start_time": "2023-06-20T20:53:11.564Z"
   },
   {
    "duration": 67,
    "start_time": "2023-06-20T20:53:11.658Z"
   },
   {
    "duration": 1301,
    "start_time": "2023-06-20T20:53:11.727Z"
   },
   {
    "duration": 7,
    "start_time": "2023-06-20T20:53:13.029Z"
   },
   {
    "duration": 247,
    "start_time": "2023-06-20T20:53:13.038Z"
   },
   {
    "duration": 6051,
    "start_time": "2023-06-20T20:53:13.286Z"
   },
   {
    "duration": 28894,
    "start_time": "2023-06-20T20:53:19.338Z"
   },
   {
    "duration": 51725,
    "start_time": "2023-06-20T20:53:48.234Z"
   },
   {
    "duration": 161,
    "start_time": "2023-06-20T20:54:39.961Z"
   },
   {
    "duration": 837,
    "start_time": "2023-06-20T20:54:40.124Z"
   },
   {
    "duration": 98,
    "start_time": "2023-06-20T20:54:40.963Z"
   },
   {
    "duration": 139,
    "start_time": "2023-06-20T20:54:41.063Z"
   },
   {
    "duration": 5,
    "start_time": "2023-06-20T20:54:41.204Z"
   },
   {
    "duration": 256,
    "start_time": "2023-06-20T20:54:41.211Z"
   },
   {
    "duration": 23558,
    "start_time": "2023-06-20T20:55:54.703Z"
   },
   {
    "duration": 2123,
    "start_time": "2023-06-20T20:56:49.495Z"
   },
   {
    "duration": 2051,
    "start_time": "2023-06-20T20:56:51.621Z"
   },
   {
    "duration": 2077,
    "start_time": "2023-06-20T20:56:53.674Z"
   },
   {
    "duration": 3239,
    "start_time": "2023-06-20T20:56:55.753Z"
   },
   {
    "duration": 3,
    "start_time": "2023-06-20T20:56:58.995Z"
   },
   {
    "duration": 102,
    "start_time": "2023-06-20T20:56:59.000Z"
   },
   {
    "duration": 60,
    "start_time": "2023-06-20T20:56:59.104Z"
   },
   {
    "duration": 40,
    "start_time": "2023-06-20T20:56:59.166Z"
   },
   {
    "duration": 86,
    "start_time": "2023-06-20T20:56:59.208Z"
   },
   {
    "duration": 37,
    "start_time": "2023-06-20T20:56:59.296Z"
   },
   {
    "duration": 56,
    "start_time": "2023-06-20T20:56:59.335Z"
   },
   {
    "duration": 104,
    "start_time": "2023-06-20T20:56:59.393Z"
   },
   {
    "duration": 9,
    "start_time": "2023-06-20T20:56:59.499Z"
   },
   {
    "duration": 11,
    "start_time": "2023-06-20T20:56:59.511Z"
   },
   {
    "duration": 6,
    "start_time": "2023-06-20T20:56:59.524Z"
   },
   {
    "duration": 28,
    "start_time": "2023-06-20T20:56:59.532Z"
   },
   {
    "duration": 7,
    "start_time": "2023-06-20T20:56:59.562Z"
   },
   {
    "duration": 23,
    "start_time": "2023-06-20T20:56:59.570Z"
   },
   {
    "duration": 6,
    "start_time": "2023-06-20T20:56:59.594Z"
   },
   {
    "duration": 97,
    "start_time": "2023-06-20T20:56:59.601Z"
   },
   {
    "duration": 89,
    "start_time": "2023-06-20T20:56:59.701Z"
   },
   {
    "duration": 1333,
    "start_time": "2023-06-20T20:56:59.792Z"
   },
   {
    "duration": 8,
    "start_time": "2023-06-20T20:57:01.127Z"
   },
   {
    "duration": 272,
    "start_time": "2023-06-20T20:57:01.138Z"
   },
   {
    "duration": 5887,
    "start_time": "2023-06-20T20:57:01.412Z"
   },
   {
    "duration": 28671,
    "start_time": "2023-06-20T20:57:07.300Z"
   },
   {
    "duration": 48588,
    "start_time": "2023-06-20T20:57:35.972Z"
   },
   {
    "duration": 167,
    "start_time": "2023-06-20T20:58:24.562Z"
   },
   {
    "duration": 1029,
    "start_time": "2023-06-20T20:58:24.731Z"
   },
   {
    "duration": 8,
    "start_time": "2023-06-20T20:58:25.762Z"
   },
   {
    "duration": 137,
    "start_time": "2023-06-20T20:58:25.859Z"
   },
   {
    "duration": 4,
    "start_time": "2023-06-20T20:58:25.998Z"
   },
   {
    "duration": 12882,
    "start_time": "2023-06-20T20:58:26.004Z"
   },
   {
    "duration": 12574,
    "start_time": "2023-06-20T20:59:02.595Z"
   },
   {
    "duration": 13294,
    "start_time": "2023-06-21T20:23:13.653Z"
   },
   {
    "duration": 5109,
    "start_time": "2023-06-21T20:23:26.950Z"
   },
   {
    "duration": 5279,
    "start_time": "2023-06-21T20:23:32.061Z"
   },
   {
    "duration": 18007,
    "start_time": "2023-06-21T20:23:37.342Z"
   },
   {
    "duration": 5,
    "start_time": "2023-06-21T20:23:55.356Z"
   },
   {
    "duration": 773,
    "start_time": "2023-06-21T20:23:55.366Z"
   },
   {
    "duration": 73,
    "start_time": "2023-06-21T20:23:56.145Z"
   },
   {
    "duration": 50,
    "start_time": "2023-06-21T20:23:56.222Z"
   },
   {
    "duration": 63,
    "start_time": "2023-06-21T20:23:56.274Z"
   },
   {
    "duration": 36,
    "start_time": "2023-06-21T20:23:56.339Z"
   },
   {
    "duration": 55,
    "start_time": "2023-06-21T20:23:56.377Z"
   },
   {
    "duration": 132,
    "start_time": "2023-06-21T20:23:56.439Z"
   },
   {
    "duration": 11,
    "start_time": "2023-06-21T20:23:56.573Z"
   },
   {
    "duration": 7,
    "start_time": "2023-06-21T20:23:56.588Z"
   },
   {
    "duration": 36,
    "start_time": "2023-06-21T20:23:56.597Z"
   },
   {
    "duration": 37,
    "start_time": "2023-06-21T20:23:56.635Z"
   },
   {
    "duration": 7,
    "start_time": "2023-06-21T20:23:56.674Z"
   },
   {
    "duration": 16,
    "start_time": "2023-06-21T20:23:56.683Z"
   },
   {
    "duration": 5,
    "start_time": "2023-06-21T20:23:56.701Z"
   },
   {
    "duration": 111,
    "start_time": "2023-06-21T20:23:56.708Z"
   },
   {
    "duration": 108,
    "start_time": "2023-06-21T20:23:56.821Z"
   },
   {
    "duration": 1832,
    "start_time": "2023-06-21T20:23:56.931Z"
   },
   {
    "duration": 10,
    "start_time": "2023-06-21T20:23:58.765Z"
   },
   {
    "duration": 277,
    "start_time": "2023-06-21T20:23:58.776Z"
   },
   {
    "duration": 8015,
    "start_time": "2023-06-21T20:23:59.055Z"
   },
   {
    "duration": 44266,
    "start_time": "2023-06-21T20:24:07.075Z"
   },
   {
    "duration": 166302,
    "start_time": "2023-06-21T20:24:51.343Z"
   },
   {
    "duration": 212,
    "start_time": "2023-06-21T20:27:37.666Z"
   },
   {
    "duration": 2794,
    "start_time": "2023-06-21T20:27:37.880Z"
   },
   {
    "duration": 33,
    "start_time": "2023-06-21T20:27:40.696Z"
   },
   {
    "duration": 296,
    "start_time": "2023-06-21T20:27:40.758Z"
   },
   {
    "duration": 13,
    "start_time": "2023-06-21T20:27:41.056Z"
   },
   {
    "duration": 19964,
    "start_time": "2023-06-21T20:27:41.074Z"
   },
   {
    "duration": 3421,
    "start_time": "2023-06-21T20:43:50.147Z"
   },
   {
    "duration": 15,
    "start_time": "2023-06-21T20:43:56.334Z"
   },
   {
    "duration": 373,
    "start_time": "2023-06-21T20:44:23.436Z"
   },
   {
    "duration": 163,
    "start_time": "2023-06-21T20:44:49.171Z"
   },
   {
    "duration": 4,
    "start_time": "2023-06-21T21:30:05.262Z"
   },
   {
    "duration": 8,
    "start_time": "2023-06-21T21:30:20.663Z"
   },
   {
    "duration": 10131,
    "start_time": "2023-06-22T07:50:19.019Z"
   },
   {
    "duration": 3071,
    "start_time": "2023-06-22T07:50:29.152Z"
   },
   {
    "duration": 3846,
    "start_time": "2023-06-22T07:50:32.224Z"
   },
   {
    "duration": 3357,
    "start_time": "2023-06-22T07:50:36.072Z"
   },
   {
    "duration": 3,
    "start_time": "2023-06-22T07:50:39.431Z"
   },
   {
    "duration": 363,
    "start_time": "2023-06-22T07:50:39.435Z"
   },
   {
    "duration": 55,
    "start_time": "2023-06-22T07:50:39.800Z"
   },
   {
    "duration": 61,
    "start_time": "2023-06-22T07:50:39.856Z"
   },
   {
    "duration": 38,
    "start_time": "2023-06-22T07:50:39.919Z"
   },
   {
    "duration": 47,
    "start_time": "2023-06-22T07:50:39.958Z"
   },
   {
    "duration": 25,
    "start_time": "2023-06-22T07:50:40.006Z"
   },
   {
    "duration": 97,
    "start_time": "2023-06-22T07:50:40.033Z"
   },
   {
    "duration": 9,
    "start_time": "2023-06-22T07:50:40.131Z"
   },
   {
    "duration": 6,
    "start_time": "2023-06-22T07:50:40.143Z"
   },
   {
    "duration": 5,
    "start_time": "2023-06-22T07:50:40.151Z"
   },
   {
    "duration": 10,
    "start_time": "2023-06-22T07:50:40.158Z"
   },
   {
    "duration": 6,
    "start_time": "2023-06-22T07:50:40.170Z"
   },
   {
    "duration": 9,
    "start_time": "2023-06-22T07:50:40.204Z"
   },
   {
    "duration": 23,
    "start_time": "2023-06-22T07:50:40.215Z"
   },
   {
    "duration": 5,
    "start_time": "2023-06-22T07:50:40.239Z"
   },
   {
    "duration": 662,
    "start_time": "2023-06-22T07:50:40.245Z"
   },
   {
    "duration": 0,
    "start_time": "2023-06-22T07:50:40.914Z"
   },
   {
    "duration": 1,
    "start_time": "2023-06-22T07:50:40.915Z"
   },
   {
    "duration": 0,
    "start_time": "2023-06-22T07:50:40.917Z"
   },
   {
    "duration": 0,
    "start_time": "2023-06-22T07:50:40.918Z"
   },
   {
    "duration": 0,
    "start_time": "2023-06-22T07:50:40.920Z"
   },
   {
    "duration": 0,
    "start_time": "2023-06-22T07:50:40.921Z"
   },
   {
    "duration": 0,
    "start_time": "2023-06-22T07:50:40.922Z"
   },
   {
    "duration": 0,
    "start_time": "2023-06-22T07:50:40.923Z"
   },
   {
    "duration": 0,
    "start_time": "2023-06-22T07:50:40.924Z"
   },
   {
    "duration": 0,
    "start_time": "2023-06-22T07:50:40.925Z"
   },
   {
    "duration": 0,
    "start_time": "2023-06-22T07:50:40.926Z"
   },
   {
    "duration": 0,
    "start_time": "2023-06-22T07:50:40.927Z"
   },
   {
    "duration": 0,
    "start_time": "2023-06-22T07:50:40.928Z"
   },
   {
    "duration": 461,
    "start_time": "2023-06-22T07:52:27.500Z"
   },
   {
    "duration": 1988,
    "start_time": "2023-06-22T07:53:26.900Z"
   },
   {
    "duration": 1971,
    "start_time": "2023-06-22T07:53:28.890Z"
   },
   {
    "duration": 2026,
    "start_time": "2023-06-22T07:53:30.863Z"
   },
   {
    "duration": 2956,
    "start_time": "2023-06-22T07:53:32.891Z"
   },
   {
    "duration": 3,
    "start_time": "2023-06-22T07:53:35.849Z"
   },
   {
    "duration": 144,
    "start_time": "2023-06-22T07:53:35.854Z"
   },
   {
    "duration": 80,
    "start_time": "2023-06-22T07:53:35.999Z"
   },
   {
    "duration": 56,
    "start_time": "2023-06-22T07:53:36.080Z"
   },
   {
    "duration": 45,
    "start_time": "2023-06-22T07:53:36.138Z"
   },
   {
    "duration": 58,
    "start_time": "2023-06-22T07:53:36.184Z"
   },
   {
    "duration": 26,
    "start_time": "2023-06-22T07:53:36.244Z"
   },
   {
    "duration": 100,
    "start_time": "2023-06-22T07:53:36.272Z"
   },
   {
    "duration": 9,
    "start_time": "2023-06-22T07:53:36.374Z"
   },
   {
    "duration": 29,
    "start_time": "2023-06-22T07:53:36.387Z"
   },
   {
    "duration": 8,
    "start_time": "2023-06-22T07:53:36.418Z"
   },
   {
    "duration": 21,
    "start_time": "2023-06-22T07:53:36.427Z"
   },
   {
    "duration": 10,
    "start_time": "2023-06-22T07:53:36.449Z"
   },
   {
    "duration": 7,
    "start_time": "2023-06-22T07:53:36.460Z"
   },
   {
    "duration": 11,
    "start_time": "2023-06-22T07:53:36.469Z"
   },
   {
    "duration": 35,
    "start_time": "2023-06-22T07:53:36.481Z"
   },
   {
    "duration": 533,
    "start_time": "2023-06-22T07:53:36.517Z"
   },
   {
    "duration": 0,
    "start_time": "2023-06-22T07:53:37.051Z"
   },
   {
    "duration": 0,
    "start_time": "2023-06-22T07:53:37.053Z"
   },
   {
    "duration": 0,
    "start_time": "2023-06-22T07:53:37.054Z"
   },
   {
    "duration": 0,
    "start_time": "2023-06-22T07:53:37.055Z"
   },
   {
    "duration": 0,
    "start_time": "2023-06-22T07:53:37.055Z"
   },
   {
    "duration": 0,
    "start_time": "2023-06-22T07:53:37.056Z"
   },
   {
    "duration": 0,
    "start_time": "2023-06-22T07:53:37.057Z"
   },
   {
    "duration": 0,
    "start_time": "2023-06-22T07:53:37.058Z"
   },
   {
    "duration": 0,
    "start_time": "2023-06-22T07:53:37.058Z"
   },
   {
    "duration": 0,
    "start_time": "2023-06-22T07:53:37.059Z"
   },
   {
    "duration": 0,
    "start_time": "2023-06-22T07:53:37.060Z"
   },
   {
    "duration": 0,
    "start_time": "2023-06-22T07:53:37.061Z"
   },
   {
    "duration": 1,
    "start_time": "2023-06-22T07:53:37.061Z"
   },
   {
    "duration": 47,
    "start_time": "2023-06-22T07:53:59.095Z"
   },
   {
    "duration": 43,
    "start_time": "2023-06-22T07:55:08.997Z"
   },
   {
    "duration": 37,
    "start_time": "2023-06-22T07:55:58.714Z"
   },
   {
    "duration": 36,
    "start_time": "2023-06-22T07:56:21.523Z"
   },
   {
    "duration": 40,
    "start_time": "2023-06-22T07:56:30.423Z"
   },
   {
    "duration": 40,
    "start_time": "2023-06-22T07:57:29.517Z"
   },
   {
    "duration": 44,
    "start_time": "2023-06-22T07:58:08.636Z"
   },
   {
    "duration": 44,
    "start_time": "2023-06-22T07:58:14.709Z"
   },
   {
    "duration": 39,
    "start_time": "2023-06-22T07:58:28.613Z"
   },
   {
    "duration": 64,
    "start_time": "2023-06-22T07:58:54.119Z"
   },
   {
    "duration": 41,
    "start_time": "2023-06-22T07:59:23.023Z"
   },
   {
    "duration": 43,
    "start_time": "2023-06-22T07:59:30.966Z"
   },
   {
    "duration": 2475,
    "start_time": "2023-06-22T07:59:48.321Z"
   },
   {
    "duration": 2371,
    "start_time": "2023-06-22T07:59:50.798Z"
   },
   {
    "duration": 2484,
    "start_time": "2023-06-22T07:59:53.171Z"
   },
   {
    "duration": 3505,
    "start_time": "2023-06-22T07:59:55.657Z"
   },
   {
    "duration": 6,
    "start_time": "2023-06-22T07:59:59.166Z"
   },
   {
    "duration": 151,
    "start_time": "2023-06-22T07:59:59.174Z"
   },
   {
    "duration": 53,
    "start_time": "2023-06-22T07:59:59.327Z"
   },
   {
    "duration": 57,
    "start_time": "2023-06-22T07:59:59.382Z"
   },
   {
    "duration": 57,
    "start_time": "2023-06-22T07:59:59.440Z"
   },
   {
    "duration": 37,
    "start_time": "2023-06-22T07:59:59.499Z"
   },
   {
    "duration": 36,
    "start_time": "2023-06-22T07:59:59.538Z"
   },
   {
    "duration": 100,
    "start_time": "2023-06-22T07:59:59.576Z"
   },
   {
    "duration": 10,
    "start_time": "2023-06-22T07:59:59.678Z"
   },
   {
    "duration": 27,
    "start_time": "2023-06-22T07:59:59.691Z"
   },
   {
    "duration": 8,
    "start_time": "2023-06-22T07:59:59.726Z"
   },
   {
    "duration": 19,
    "start_time": "2023-06-22T07:59:59.739Z"
   },
   {
    "duration": 66,
    "start_time": "2023-06-22T07:59:59.760Z"
   },
   {
    "duration": 11,
    "start_time": "2023-06-22T07:59:59.827Z"
   },
   {
    "duration": 36,
    "start_time": "2023-06-22T07:59:59.839Z"
   },
   {
    "duration": 4,
    "start_time": "2023-06-22T07:59:59.876Z"
   },
   {
    "duration": 1273,
    "start_time": "2023-06-22T07:59:59.881Z"
   },
   {
    "duration": 0,
    "start_time": "2023-06-22T08:00:01.156Z"
   },
   {
    "duration": 0,
    "start_time": "2023-06-22T08:00:01.157Z"
   },
   {
    "duration": 0,
    "start_time": "2023-06-22T08:00:01.158Z"
   },
   {
    "duration": 0,
    "start_time": "2023-06-22T08:00:01.159Z"
   },
   {
    "duration": 0,
    "start_time": "2023-06-22T08:00:01.160Z"
   },
   {
    "duration": 0,
    "start_time": "2023-06-22T08:00:01.161Z"
   },
   {
    "duration": 0,
    "start_time": "2023-06-22T08:00:01.162Z"
   },
   {
    "duration": 0,
    "start_time": "2023-06-22T08:00:01.162Z"
   },
   {
    "duration": 0,
    "start_time": "2023-06-22T08:00:01.163Z"
   },
   {
    "duration": 0,
    "start_time": "2023-06-22T08:00:01.164Z"
   },
   {
    "duration": 0,
    "start_time": "2023-06-22T08:00:01.165Z"
   },
   {
    "duration": 0,
    "start_time": "2023-06-22T08:00:01.166Z"
   },
   {
    "duration": 0,
    "start_time": "2023-06-22T08:00:01.167Z"
   },
   {
    "duration": 52,
    "start_time": "2023-06-22T08:00:16.229Z"
   },
   {
    "duration": 86,
    "start_time": "2023-06-22T08:00:35.489Z"
   },
   {
    "duration": 36,
    "start_time": "2023-06-22T08:03:08.242Z"
   },
   {
    "duration": 2656,
    "start_time": "2023-06-22T08:03:19.660Z"
   },
   {
    "duration": 2978,
    "start_time": "2023-06-22T08:03:22.319Z"
   },
   {
    "duration": 2895,
    "start_time": "2023-06-22T08:03:25.299Z"
   },
   {
    "duration": 6262,
    "start_time": "2023-06-22T08:03:28.196Z"
   },
   {
    "duration": 3,
    "start_time": "2023-06-22T08:03:34.460Z"
   },
   {
    "duration": 162,
    "start_time": "2023-06-22T08:03:34.464Z"
   },
   {
    "duration": 58,
    "start_time": "2023-06-22T08:03:34.628Z"
   },
   {
    "duration": 53,
    "start_time": "2023-06-22T08:03:34.687Z"
   },
   {
    "duration": 85,
    "start_time": "2023-06-22T08:03:34.743Z"
   },
   {
    "duration": 25,
    "start_time": "2023-06-22T08:03:34.830Z"
   },
   {
    "duration": 22,
    "start_time": "2023-06-22T08:03:34.856Z"
   },
   {
    "duration": 111,
    "start_time": "2023-06-22T08:03:34.880Z"
   },
   {
    "duration": 15,
    "start_time": "2023-06-22T08:03:34.993Z"
   },
   {
    "duration": 53,
    "start_time": "2023-06-22T08:03:35.009Z"
   },
   {
    "duration": 67,
    "start_time": "2023-06-22T08:03:35.064Z"
   },
   {
    "duration": 99,
    "start_time": "2023-06-22T08:03:35.133Z"
   },
   {
    "duration": 349,
    "start_time": "2023-06-22T08:03:35.234Z"
   },
   {
    "duration": 0,
    "start_time": "2023-06-22T08:03:35.585Z"
   },
   {
    "duration": 0,
    "start_time": "2023-06-22T08:03:35.586Z"
   },
   {
    "duration": 0,
    "start_time": "2023-06-22T08:03:35.588Z"
   },
   {
    "duration": 0,
    "start_time": "2023-06-22T08:03:35.589Z"
   },
   {
    "duration": 0,
    "start_time": "2023-06-22T08:03:35.590Z"
   },
   {
    "duration": 0,
    "start_time": "2023-06-22T08:03:35.591Z"
   },
   {
    "duration": 0,
    "start_time": "2023-06-22T08:03:35.593Z"
   },
   {
    "duration": 0,
    "start_time": "2023-06-22T08:03:35.594Z"
   },
   {
    "duration": 0,
    "start_time": "2023-06-22T08:03:35.595Z"
   },
   {
    "duration": 0,
    "start_time": "2023-06-22T08:03:35.595Z"
   },
   {
    "duration": 0,
    "start_time": "2023-06-22T08:03:35.596Z"
   },
   {
    "duration": 0,
    "start_time": "2023-06-22T08:03:35.596Z"
   },
   {
    "duration": 0,
    "start_time": "2023-06-22T08:03:35.609Z"
   },
   {
    "duration": 0,
    "start_time": "2023-06-22T08:03:35.610Z"
   },
   {
    "duration": 0,
    "start_time": "2023-06-22T08:03:35.611Z"
   },
   {
    "duration": 0,
    "start_time": "2023-06-22T08:03:35.611Z"
   },
   {
    "duration": 0,
    "start_time": "2023-06-22T08:03:35.612Z"
   },
   {
    "duration": 53,
    "start_time": "2023-06-22T08:03:43.320Z"
   },
   {
    "duration": 50,
    "start_time": "2023-06-22T08:05:22.819Z"
   },
   {
    "duration": 2316,
    "start_time": "2023-06-22T08:05:48.951Z"
   },
   {
    "duration": 2315,
    "start_time": "2023-06-22T08:05:51.270Z"
   },
   {
    "duration": 2804,
    "start_time": "2023-06-22T08:05:53.599Z"
   },
   {
    "duration": 3824,
    "start_time": "2023-06-22T08:05:56.420Z"
   },
   {
    "duration": 3,
    "start_time": "2023-06-22T08:06:00.245Z"
   },
   {
    "duration": 164,
    "start_time": "2023-06-22T08:06:00.249Z"
   },
   {
    "duration": 78,
    "start_time": "2023-06-22T08:06:00.417Z"
   },
   {
    "duration": 52,
    "start_time": "2023-06-22T08:06:00.496Z"
   },
   {
    "duration": 49,
    "start_time": "2023-06-22T08:06:00.549Z"
   },
   {
    "duration": 46,
    "start_time": "2023-06-22T08:06:00.601Z"
   },
   {
    "duration": 91,
    "start_time": "2023-06-22T08:06:00.649Z"
   },
   {
    "duration": 130,
    "start_time": "2023-06-22T08:06:00.742Z"
   },
   {
    "duration": 10,
    "start_time": "2023-06-22T08:06:00.874Z"
   },
   {
    "duration": 61,
    "start_time": "2023-06-22T08:06:00.886Z"
   },
   {
    "duration": 48,
    "start_time": "2023-06-22T08:06:00.949Z"
   },
   {
    "duration": 69,
    "start_time": "2023-06-22T08:06:00.999Z"
   },
   {
    "duration": 94,
    "start_time": "2023-06-22T08:06:01.070Z"
   },
   {
    "duration": 7,
    "start_time": "2023-06-22T08:06:01.166Z"
   },
   {
    "duration": 118,
    "start_time": "2023-06-22T08:06:01.174Z"
   },
   {
    "duration": 41,
    "start_time": "2023-06-22T08:06:01.294Z"
   },
   {
    "duration": 1379,
    "start_time": "2023-06-22T08:06:01.337Z"
   },
   {
    "duration": 0,
    "start_time": "2023-06-22T08:06:02.719Z"
   },
   {
    "duration": 0,
    "start_time": "2023-06-22T08:06:02.720Z"
   },
   {
    "duration": 0,
    "start_time": "2023-06-22T08:06:02.721Z"
   },
   {
    "duration": 0,
    "start_time": "2023-06-22T08:06:02.723Z"
   },
   {
    "duration": 0,
    "start_time": "2023-06-22T08:06:02.724Z"
   },
   {
    "duration": 0,
    "start_time": "2023-06-22T08:06:02.725Z"
   },
   {
    "duration": 0,
    "start_time": "2023-06-22T08:06:02.726Z"
   },
   {
    "duration": 0,
    "start_time": "2023-06-22T08:06:02.727Z"
   },
   {
    "duration": 0,
    "start_time": "2023-06-22T08:06:02.728Z"
   },
   {
    "duration": 0,
    "start_time": "2023-06-22T08:06:02.730Z"
   },
   {
    "duration": 0,
    "start_time": "2023-06-22T08:06:02.731Z"
   },
   {
    "duration": 0,
    "start_time": "2023-06-22T08:06:02.732Z"
   },
   {
    "duration": 0,
    "start_time": "2023-06-22T08:06:02.734Z"
   },
   {
    "duration": 2346,
    "start_time": "2023-06-22T08:07:36.216Z"
   },
   {
    "duration": 2079,
    "start_time": "2023-06-22T08:07:38.564Z"
   },
   {
    "duration": 2448,
    "start_time": "2023-06-22T08:07:40.645Z"
   },
   {
    "duration": 5004,
    "start_time": "2023-06-22T08:07:43.094Z"
   },
   {
    "duration": 5,
    "start_time": "2023-06-22T08:07:48.115Z"
   },
   {
    "duration": 117,
    "start_time": "2023-06-22T08:07:48.122Z"
   },
   {
    "duration": 64,
    "start_time": "2023-06-22T08:07:48.241Z"
   },
   {
    "duration": 41,
    "start_time": "2023-06-22T08:07:48.306Z"
   },
   {
    "duration": 57,
    "start_time": "2023-06-22T08:07:48.348Z"
   },
   {
    "duration": 29,
    "start_time": "2023-06-22T08:07:48.406Z"
   },
   {
    "duration": 27,
    "start_time": "2023-06-22T08:07:48.437Z"
   },
   {
    "duration": 100,
    "start_time": "2023-06-22T08:07:48.466Z"
   },
   {
    "duration": 9,
    "start_time": "2023-06-22T08:07:48.568Z"
   },
   {
    "duration": 8,
    "start_time": "2023-06-22T08:07:48.579Z"
   },
   {
    "duration": 17,
    "start_time": "2023-06-22T08:07:48.609Z"
   },
   {
    "duration": 17,
    "start_time": "2023-06-22T08:07:48.627Z"
   },
   {
    "duration": 48,
    "start_time": "2023-06-22T08:07:48.645Z"
   },
   {
    "duration": 22,
    "start_time": "2023-06-22T08:07:48.695Z"
   },
   {
    "duration": 60,
    "start_time": "2023-06-22T08:07:48.718Z"
   },
   {
    "duration": 5,
    "start_time": "2023-06-22T08:07:48.779Z"
   },
   {
    "duration": 1482,
    "start_time": "2023-06-22T08:07:48.785Z"
   },
   {
    "duration": 0,
    "start_time": "2023-06-22T08:07:50.268Z"
   },
   {
    "duration": 0,
    "start_time": "2023-06-22T08:07:50.270Z"
   },
   {
    "duration": 0,
    "start_time": "2023-06-22T08:07:50.271Z"
   },
   {
    "duration": 0,
    "start_time": "2023-06-22T08:07:50.272Z"
   },
   {
    "duration": 0,
    "start_time": "2023-06-22T08:07:50.273Z"
   },
   {
    "duration": 0,
    "start_time": "2023-06-22T08:07:50.274Z"
   },
   {
    "duration": 0,
    "start_time": "2023-06-22T08:07:50.275Z"
   },
   {
    "duration": 0,
    "start_time": "2023-06-22T08:07:50.276Z"
   },
   {
    "duration": 0,
    "start_time": "2023-06-22T08:07:50.277Z"
   },
   {
    "duration": 0,
    "start_time": "2023-06-22T08:07:50.278Z"
   },
   {
    "duration": 0,
    "start_time": "2023-06-22T08:07:50.279Z"
   },
   {
    "duration": 0,
    "start_time": "2023-06-22T08:07:50.280Z"
   },
   {
    "duration": 0,
    "start_time": "2023-06-22T08:07:50.281Z"
   },
   {
    "duration": 2025,
    "start_time": "2023-06-22T08:08:44.019Z"
   },
   {
    "duration": 2112,
    "start_time": "2023-06-22T08:08:46.048Z"
   },
   {
    "duration": 2275,
    "start_time": "2023-06-22T08:08:48.162Z"
   },
   {
    "duration": 3085,
    "start_time": "2023-06-22T08:08:50.439Z"
   },
   {
    "duration": 3,
    "start_time": "2023-06-22T08:08:53.527Z"
   },
   {
    "duration": 139,
    "start_time": "2023-06-22T08:08:53.532Z"
   },
   {
    "duration": 66,
    "start_time": "2023-06-22T08:08:53.673Z"
   },
   {
    "duration": 33,
    "start_time": "2023-06-22T08:08:53.741Z"
   },
   {
    "duration": 57,
    "start_time": "2023-06-22T08:08:53.776Z"
   },
   {
    "duration": 24,
    "start_time": "2023-06-22T08:08:53.835Z"
   },
   {
    "duration": 55,
    "start_time": "2023-06-22T08:08:53.860Z"
   },
   {
    "duration": 97,
    "start_time": "2023-06-22T08:08:53.916Z"
   },
   {
    "duration": 13,
    "start_time": "2023-06-22T08:08:54.018Z"
   },
   {
    "duration": 24,
    "start_time": "2023-06-22T08:08:54.035Z"
   },
   {
    "duration": 13,
    "start_time": "2023-06-22T08:08:54.061Z"
   },
   {
    "duration": 35,
    "start_time": "2023-06-22T08:08:54.075Z"
   },
   {
    "duration": 53,
    "start_time": "2023-06-22T08:08:54.111Z"
   },
   {
    "duration": 6,
    "start_time": "2023-06-22T08:08:54.165Z"
   },
   {
    "duration": 90,
    "start_time": "2023-06-22T08:08:54.172Z"
   },
   {
    "duration": 5,
    "start_time": "2023-06-22T08:08:54.264Z"
   },
   {
    "duration": 1618,
    "start_time": "2023-06-22T08:08:54.270Z"
   },
   {
    "duration": 0,
    "start_time": "2023-06-22T08:08:55.890Z"
   },
   {
    "duration": 0,
    "start_time": "2023-06-22T08:08:55.891Z"
   },
   {
    "duration": 0,
    "start_time": "2023-06-22T08:08:55.892Z"
   },
   {
    "duration": 0,
    "start_time": "2023-06-22T08:08:55.894Z"
   },
   {
    "duration": 0,
    "start_time": "2023-06-22T08:08:55.905Z"
   },
   {
    "duration": 0,
    "start_time": "2023-06-22T08:08:55.906Z"
   },
   {
    "duration": 0,
    "start_time": "2023-06-22T08:08:55.907Z"
   },
   {
    "duration": 0,
    "start_time": "2023-06-22T08:08:55.908Z"
   },
   {
    "duration": 0,
    "start_time": "2023-06-22T08:08:55.908Z"
   },
   {
    "duration": 0,
    "start_time": "2023-06-22T08:08:55.909Z"
   },
   {
    "duration": 0,
    "start_time": "2023-06-22T08:08:55.909Z"
   },
   {
    "duration": 0,
    "start_time": "2023-06-22T08:08:55.910Z"
   },
   {
    "duration": 0,
    "start_time": "2023-06-22T08:08:55.910Z"
   },
   {
    "duration": 2040,
    "start_time": "2023-06-22T08:09:25.637Z"
   },
   {
    "duration": 2079,
    "start_time": "2023-06-22T08:09:27.680Z"
   },
   {
    "duration": 2376,
    "start_time": "2023-06-22T08:09:29.761Z"
   },
   {
    "duration": 3115,
    "start_time": "2023-06-22T08:09:32.139Z"
   },
   {
    "duration": 3,
    "start_time": "2023-06-22T08:09:35.256Z"
   },
   {
    "duration": 127,
    "start_time": "2023-06-22T08:09:35.260Z"
   },
   {
    "duration": 64,
    "start_time": "2023-06-22T08:09:35.389Z"
   },
   {
    "duration": 34,
    "start_time": "2023-06-22T08:09:35.454Z"
   },
   {
    "duration": 62,
    "start_time": "2023-06-22T08:09:35.490Z"
   },
   {
    "duration": 33,
    "start_time": "2023-06-22T08:09:35.554Z"
   },
   {
    "duration": 43,
    "start_time": "2023-06-22T08:09:35.590Z"
   },
   {
    "duration": 103,
    "start_time": "2023-06-22T08:09:35.634Z"
   },
   {
    "duration": 10,
    "start_time": "2023-06-22T08:09:35.738Z"
   },
   {
    "duration": 17,
    "start_time": "2023-06-22T08:09:35.750Z"
   },
   {
    "duration": 29,
    "start_time": "2023-06-22T08:09:35.769Z"
   },
   {
    "duration": 34,
    "start_time": "2023-06-22T08:09:35.810Z"
   },
   {
    "duration": 85,
    "start_time": "2023-06-22T08:09:35.846Z"
   },
   {
    "duration": 37,
    "start_time": "2023-06-22T08:09:35.932Z"
   },
   {
    "duration": 23,
    "start_time": "2023-06-22T08:09:35.971Z"
   },
   {
    "duration": 86,
    "start_time": "2023-06-22T08:09:35.996Z"
   },
   {
    "duration": 5,
    "start_time": "2023-06-22T08:09:36.084Z"
   },
   {
    "duration": 1083,
    "start_time": "2023-06-22T08:09:36.091Z"
   },
   {
    "duration": 0,
    "start_time": "2023-06-22T08:09:37.177Z"
   },
   {
    "duration": 0,
    "start_time": "2023-06-22T08:09:37.178Z"
   },
   {
    "duration": 0,
    "start_time": "2023-06-22T08:09:37.179Z"
   },
   {
    "duration": 0,
    "start_time": "2023-06-22T08:09:37.181Z"
   },
   {
    "duration": 0,
    "start_time": "2023-06-22T08:09:37.182Z"
   },
   {
    "duration": 0,
    "start_time": "2023-06-22T08:09:37.183Z"
   },
   {
    "duration": 0,
    "start_time": "2023-06-22T08:09:37.184Z"
   },
   {
    "duration": 0,
    "start_time": "2023-06-22T08:09:37.185Z"
   },
   {
    "duration": 0,
    "start_time": "2023-06-22T08:09:37.186Z"
   },
   {
    "duration": 0,
    "start_time": "2023-06-22T08:09:37.187Z"
   },
   {
    "duration": 0,
    "start_time": "2023-06-22T08:09:37.189Z"
   },
   {
    "duration": 0,
    "start_time": "2023-06-22T08:09:37.190Z"
   },
   {
    "duration": 0,
    "start_time": "2023-06-22T08:09:37.191Z"
   },
   {
    "duration": 2162,
    "start_time": "2023-06-22T08:11:22.459Z"
   },
   {
    "duration": 2201,
    "start_time": "2023-06-22T08:11:24.622Z"
   },
   {
    "duration": 2233,
    "start_time": "2023-06-22T08:11:26.825Z"
   },
   {
    "duration": 4815,
    "start_time": "2023-06-22T08:11:29.061Z"
   },
   {
    "duration": 3,
    "start_time": "2023-06-22T08:11:33.878Z"
   },
   {
    "duration": 101,
    "start_time": "2023-06-22T08:11:33.882Z"
   },
   {
    "duration": 64,
    "start_time": "2023-06-22T08:11:33.984Z"
   },
   {
    "duration": 31,
    "start_time": "2023-06-22T08:11:34.049Z"
   },
   {
    "duration": 48,
    "start_time": "2023-06-22T08:11:34.082Z"
   },
   {
    "duration": 20,
    "start_time": "2023-06-22T08:11:34.132Z"
   },
   {
    "duration": 20,
    "start_time": "2023-06-22T08:11:34.154Z"
   },
   {
    "duration": 98,
    "start_time": "2023-06-22T08:11:34.176Z"
   },
   {
    "duration": 8,
    "start_time": "2023-06-22T08:11:34.275Z"
   },
   {
    "duration": 6,
    "start_time": "2023-06-22T08:11:34.309Z"
   },
   {
    "duration": 14,
    "start_time": "2023-06-22T08:11:34.316Z"
   },
   {
    "duration": 25,
    "start_time": "2023-06-22T08:11:34.331Z"
   },
   {
    "duration": 52,
    "start_time": "2023-06-22T08:11:34.357Z"
   },
   {
    "duration": 28,
    "start_time": "2023-06-22T08:11:34.411Z"
   },
   {
    "duration": 6,
    "start_time": "2023-06-22T08:11:34.441Z"
   },
   {
    "duration": 48,
    "start_time": "2023-06-22T08:11:34.449Z"
   },
   {
    "duration": 10,
    "start_time": "2023-06-22T08:11:34.498Z"
   },
   {
    "duration": 1624,
    "start_time": "2023-06-22T08:11:34.509Z"
   },
   {
    "duration": 0,
    "start_time": "2023-06-22T08:11:36.136Z"
   },
   {
    "duration": 0,
    "start_time": "2023-06-22T08:11:36.137Z"
   },
   {
    "duration": 0,
    "start_time": "2023-06-22T08:11:36.138Z"
   },
   {
    "duration": 0,
    "start_time": "2023-06-22T08:11:36.140Z"
   },
   {
    "duration": 0,
    "start_time": "2023-06-22T08:11:36.142Z"
   },
   {
    "duration": 0,
    "start_time": "2023-06-22T08:11:36.144Z"
   },
   {
    "duration": 0,
    "start_time": "2023-06-22T08:11:36.145Z"
   },
   {
    "duration": 0,
    "start_time": "2023-06-22T08:11:36.147Z"
   },
   {
    "duration": 0,
    "start_time": "2023-06-22T08:11:36.148Z"
   },
   {
    "duration": 0,
    "start_time": "2023-06-22T08:11:36.150Z"
   },
   {
    "duration": 0,
    "start_time": "2023-06-22T08:11:36.152Z"
   },
   {
    "duration": 0,
    "start_time": "2023-06-22T08:11:36.153Z"
   },
   {
    "duration": 0,
    "start_time": "2023-06-22T08:11:36.155Z"
   },
   {
    "duration": 14,
    "start_time": "2023-06-22T08:13:45.774Z"
   },
   {
    "duration": 14,
    "start_time": "2023-06-22T08:13:49.946Z"
   },
   {
    "duration": 22,
    "start_time": "2023-06-22T08:13:51.053Z"
   },
   {
    "duration": 62,
    "start_time": "2023-06-22T08:14:02.060Z"
   },
   {
    "duration": 2199,
    "start_time": "2023-06-22T08:16:33.521Z"
   },
   {
    "duration": 2220,
    "start_time": "2023-06-22T08:16:35.723Z"
   },
   {
    "duration": 2252,
    "start_time": "2023-06-22T08:16:37.945Z"
   },
   {
    "duration": 3368,
    "start_time": "2023-06-22T08:16:40.199Z"
   },
   {
    "duration": 3,
    "start_time": "2023-06-22T08:16:43.569Z"
   },
   {
    "duration": 150,
    "start_time": "2023-06-22T08:16:43.574Z"
   },
   {
    "duration": 53,
    "start_time": "2023-06-22T08:16:43.725Z"
   },
   {
    "duration": 52,
    "start_time": "2023-06-22T08:16:43.780Z"
   },
   {
    "duration": 55,
    "start_time": "2023-06-22T08:16:43.835Z"
   },
   {
    "duration": 31,
    "start_time": "2023-06-22T08:16:43.906Z"
   },
   {
    "duration": 32,
    "start_time": "2023-06-22T08:16:43.938Z"
   },
   {
    "duration": 106,
    "start_time": "2023-06-22T08:16:43.972Z"
   },
   {
    "duration": 36,
    "start_time": "2023-06-22T08:16:44.081Z"
   },
   {
    "duration": 5,
    "start_time": "2023-06-22T08:16:44.121Z"
   },
   {
    "duration": 19,
    "start_time": "2023-06-22T08:16:44.128Z"
   },
   {
    "duration": 20,
    "start_time": "2023-06-22T08:16:44.149Z"
   },
   {
    "duration": 16,
    "start_time": "2023-06-22T08:16:44.171Z"
   },
   {
    "duration": 40,
    "start_time": "2023-06-22T08:16:44.188Z"
   },
   {
    "duration": 29,
    "start_time": "2023-06-22T08:16:44.229Z"
   },
   {
    "duration": 37,
    "start_time": "2023-06-22T08:16:44.260Z"
   },
   {
    "duration": 20,
    "start_time": "2023-06-22T08:16:44.299Z"
   },
   {
    "duration": 110,
    "start_time": "2023-06-22T08:16:44.321Z"
   },
   {
    "duration": 60,
    "start_time": "2023-06-22T08:16:44.432Z"
   },
   {
    "duration": 1142,
    "start_time": "2023-06-22T08:16:44.499Z"
   },
   {
    "duration": 8,
    "start_time": "2023-06-22T08:16:45.643Z"
   },
   {
    "duration": 198,
    "start_time": "2023-06-22T08:16:45.652Z"
   },
   {
    "duration": 4202,
    "start_time": "2023-06-22T08:16:45.852Z"
   },
   {
    "duration": 32188,
    "start_time": "2023-06-22T08:16:50.055Z"
   },
   {
    "duration": 38780,
    "start_time": "2023-06-22T08:17:22.245Z"
   },
   {
    "duration": 203,
    "start_time": "2023-06-22T08:18:01.026Z"
   },
   {
    "duration": 981,
    "start_time": "2023-06-22T08:18:01.231Z"
   },
   {
    "duration": 83,
    "start_time": "2023-06-22T08:18:02.218Z"
   },
   {
    "duration": 250,
    "start_time": "2023-06-22T08:18:02.302Z"
   },
   {
    "duration": 14,
    "start_time": "2023-06-22T08:18:02.554Z"
   },
   {
    "duration": 2747,
    "start_time": "2023-06-22T08:18:02.570Z"
   },
   {
    "duration": 595,
    "start_time": "2023-06-22T08:19:32.006Z"
   },
   {
    "duration": 2283,
    "start_time": "2023-06-22T08:20:15.737Z"
   },
   {
    "duration": 2014,
    "start_time": "2023-06-22T08:20:18.023Z"
   },
   {
    "duration": 2075,
    "start_time": "2023-06-22T08:20:20.042Z"
   },
   {
    "duration": 3160,
    "start_time": "2023-06-22T08:20:22.119Z"
   },
   {
    "duration": 3,
    "start_time": "2023-06-22T08:20:25.280Z"
   },
   {
    "duration": 137,
    "start_time": "2023-06-22T08:20:25.285Z"
   },
   {
    "duration": 57,
    "start_time": "2023-06-22T08:20:25.423Z"
   },
   {
    "duration": 65,
    "start_time": "2023-06-22T08:20:25.482Z"
   },
   {
    "duration": 92,
    "start_time": "2023-06-22T08:20:25.550Z"
   },
   {
    "duration": 35,
    "start_time": "2023-06-22T08:20:25.644Z"
   },
   {
    "duration": 55,
    "start_time": "2023-06-22T08:20:25.681Z"
   },
   {
    "duration": 135,
    "start_time": "2023-06-22T08:20:25.738Z"
   },
   {
    "duration": 31,
    "start_time": "2023-06-22T08:20:25.875Z"
   },
   {
    "duration": 25,
    "start_time": "2023-06-22T08:20:25.908Z"
   },
   {
    "duration": 27,
    "start_time": "2023-06-22T08:20:25.934Z"
   },
   {
    "duration": 29,
    "start_time": "2023-06-22T08:20:25.963Z"
   },
   {
    "duration": 46,
    "start_time": "2023-06-22T08:20:25.994Z"
   },
   {
    "duration": 71,
    "start_time": "2023-06-22T08:20:26.044Z"
   },
   {
    "duration": 15,
    "start_time": "2023-06-22T08:20:26.124Z"
   },
   {
    "duration": 68,
    "start_time": "2023-06-22T08:20:26.141Z"
   },
   {
    "duration": 17,
    "start_time": "2023-06-22T08:20:26.222Z"
   },
   {
    "duration": 120,
    "start_time": "2023-06-22T08:20:26.241Z"
   },
   {
    "duration": 67,
    "start_time": "2023-06-22T08:20:26.363Z"
   },
   {
    "duration": 1237,
    "start_time": "2023-06-22T08:20:26.432Z"
   },
   {
    "duration": 8,
    "start_time": "2023-06-22T08:20:27.671Z"
   },
   {
    "duration": 506,
    "start_time": "2023-06-22T08:20:27.681Z"
   },
   {
    "duration": 0,
    "start_time": "2023-06-22T08:20:28.190Z"
   },
   {
    "duration": 0,
    "start_time": "2023-06-22T08:20:28.191Z"
   },
   {
    "duration": 0,
    "start_time": "2023-06-22T08:20:28.193Z"
   },
   {
    "duration": 0,
    "start_time": "2023-06-22T08:20:28.194Z"
   },
   {
    "duration": 0,
    "start_time": "2023-06-22T08:20:28.195Z"
   },
   {
    "duration": 0,
    "start_time": "2023-06-22T08:20:28.196Z"
   },
   {
    "duration": 0,
    "start_time": "2023-06-22T08:20:28.198Z"
   },
   {
    "duration": 0,
    "start_time": "2023-06-22T08:20:28.201Z"
   },
   {
    "duration": 0,
    "start_time": "2023-06-22T08:20:28.201Z"
   },
   {
    "duration": 2228,
    "start_time": "2023-06-22T08:21:57.453Z"
   },
   {
    "duration": 2257,
    "start_time": "2023-06-22T08:21:59.683Z"
   },
   {
    "duration": 2232,
    "start_time": "2023-06-22T08:22:01.941Z"
   },
   {
    "duration": 3307,
    "start_time": "2023-06-22T08:22:04.176Z"
   },
   {
    "duration": 3,
    "start_time": "2023-06-22T08:22:07.485Z"
   },
   {
    "duration": 143,
    "start_time": "2023-06-22T08:22:07.504Z"
   },
   {
    "duration": 68,
    "start_time": "2023-06-22T08:22:07.649Z"
   },
   {
    "duration": 39,
    "start_time": "2023-06-22T08:22:07.719Z"
   },
   {
    "duration": 66,
    "start_time": "2023-06-22T08:22:07.759Z"
   },
   {
    "duration": 34,
    "start_time": "2023-06-22T08:22:07.828Z"
   },
   {
    "duration": 45,
    "start_time": "2023-06-22T08:22:07.864Z"
   },
   {
    "duration": 93,
    "start_time": "2023-06-22T08:22:07.910Z"
   },
   {
    "duration": 17,
    "start_time": "2023-06-22T08:22:08.004Z"
   },
   {
    "duration": 19,
    "start_time": "2023-06-22T08:22:08.023Z"
   },
   {
    "duration": 27,
    "start_time": "2023-06-22T08:22:08.044Z"
   },
   {
    "duration": 36,
    "start_time": "2023-06-22T08:22:08.073Z"
   },
   {
    "duration": 31,
    "start_time": "2023-06-22T08:22:08.110Z"
   },
   {
    "duration": 39,
    "start_time": "2023-06-22T08:22:08.143Z"
   },
   {
    "duration": 33,
    "start_time": "2023-06-22T08:22:08.184Z"
   },
   {
    "duration": 77,
    "start_time": "2023-06-22T08:22:08.221Z"
   },
   {
    "duration": 14,
    "start_time": "2023-06-22T08:22:08.305Z"
   },
   {
    "duration": 104,
    "start_time": "2023-06-22T08:22:08.321Z"
   },
   {
    "duration": 80,
    "start_time": "2023-06-22T08:22:08.427Z"
   },
   {
    "duration": 1558,
    "start_time": "2023-06-22T08:22:08.514Z"
   },
   {
    "duration": 8,
    "start_time": "2023-06-22T08:22:10.074Z"
   },
   {
    "duration": 196,
    "start_time": "2023-06-22T08:22:10.084Z"
   },
   {
    "duration": 8269,
    "start_time": "2023-06-22T08:22:10.282Z"
   },
   {
    "duration": 32279,
    "start_time": "2023-06-22T08:22:18.554Z"
   },
   {
    "duration": 103270,
    "start_time": "2023-06-22T08:22:50.835Z"
   },
   {
    "duration": 152,
    "start_time": "2023-06-22T08:24:34.107Z"
   },
   {
    "duration": 1360,
    "start_time": "2023-06-22T08:24:34.261Z"
   },
   {
    "duration": 84,
    "start_time": "2023-06-22T08:24:35.625Z"
   },
   {
    "duration": 256,
    "start_time": "2023-06-22T08:24:35.711Z"
   },
   {
    "duration": 5,
    "start_time": "2023-06-22T08:24:35.968Z"
   },
   {
    "duration": 13150,
    "start_time": "2023-06-22T08:24:35.974Z"
   },
   {
    "duration": 2374,
    "start_time": "2023-06-22T08:25:53.925Z"
   },
   {
    "duration": 2309,
    "start_time": "2023-06-22T08:26:02.150Z"
   },
   {
    "duration": 1616,
    "start_time": "2023-06-22T08:26:09.916Z"
   },
   {
    "duration": 2430,
    "start_time": "2023-06-22T08:26:59.413Z"
   },
   {
    "duration": 2529,
    "start_time": "2023-06-22T08:27:01.845Z"
   },
   {
    "duration": 2787,
    "start_time": "2023-06-22T08:27:04.375Z"
   },
   {
    "duration": 3178,
    "start_time": "2023-06-22T08:27:07.165Z"
   },
   {
    "duration": 2,
    "start_time": "2023-06-22T08:27:10.345Z"
   },
   {
    "duration": 108,
    "start_time": "2023-06-22T08:27:10.348Z"
   },
   {
    "duration": 61,
    "start_time": "2023-06-22T08:27:10.457Z"
   },
   {
    "duration": 32,
    "start_time": "2023-06-22T08:27:10.520Z"
   },
   {
    "duration": 71,
    "start_time": "2023-06-22T08:27:10.553Z"
   },
   {
    "duration": 23,
    "start_time": "2023-06-22T08:27:10.625Z"
   },
   {
    "duration": 21,
    "start_time": "2023-06-22T08:27:10.649Z"
   },
   {
    "duration": 116,
    "start_time": "2023-06-22T08:27:10.673Z"
   },
   {
    "duration": 9,
    "start_time": "2023-06-22T08:27:10.791Z"
   },
   {
    "duration": 22,
    "start_time": "2023-06-22T08:27:10.802Z"
   },
   {
    "duration": 11,
    "start_time": "2023-06-22T08:27:10.825Z"
   },
   {
    "duration": 19,
    "start_time": "2023-06-22T08:27:10.838Z"
   },
   {
    "duration": 15,
    "start_time": "2023-06-22T08:27:10.858Z"
   },
   {
    "duration": 42,
    "start_time": "2023-06-22T08:27:10.875Z"
   },
   {
    "duration": 8,
    "start_time": "2023-06-22T08:27:10.919Z"
   },
   {
    "duration": 49,
    "start_time": "2023-06-22T08:27:10.929Z"
   },
   {
    "duration": 10,
    "start_time": "2023-06-22T08:27:10.979Z"
   },
   {
    "duration": 90,
    "start_time": "2023-06-22T08:27:10.991Z"
   },
   {
    "duration": 78,
    "start_time": "2023-06-22T08:27:11.082Z"
   },
   {
    "duration": 1152,
    "start_time": "2023-06-22T08:27:11.161Z"
   },
   {
    "duration": 8,
    "start_time": "2023-06-22T08:27:12.315Z"
   },
   {
    "duration": 89,
    "start_time": "2023-06-22T08:27:12.325Z"
   },
   {
    "duration": 3950,
    "start_time": "2023-06-22T08:27:12.415Z"
   },
   {
    "duration": 31283,
    "start_time": "2023-06-22T08:27:16.367Z"
   },
   {
    "duration": 42550,
    "start_time": "2023-06-22T08:27:47.652Z"
   },
   {
    "duration": 123,
    "start_time": "2023-06-22T08:28:30.214Z"
   },
   {
    "duration": 678,
    "start_time": "2023-06-22T08:28:30.339Z"
   },
   {
    "duration": 86,
    "start_time": "2023-06-22T08:28:31.019Z"
   },
   {
    "duration": 228,
    "start_time": "2023-06-22T08:28:31.107Z"
   },
   {
    "duration": 6,
    "start_time": "2023-06-22T08:28:31.337Z"
   },
   {
    "duration": 4971,
    "start_time": "2023-06-22T08:28:31.345Z"
   },
   {
    "duration": 491,
    "start_time": "2023-06-22T08:31:43.674Z"
   },
   {
    "duration": 315,
    "start_time": "2023-06-22T08:32:12.113Z"
   },
   {
    "duration": 15,
    "start_time": "2023-06-22T08:32:25.214Z"
   },
   {
    "duration": 520,
    "start_time": "2023-06-22T08:32:31.017Z"
   },
   {
    "duration": 2433,
    "start_time": "2023-06-22T08:34:01.718Z"
   },
   {
    "duration": 1972,
    "start_time": "2023-06-22T08:34:04.153Z"
   },
   {
    "duration": 2036,
    "start_time": "2023-06-22T08:34:06.127Z"
   },
   {
    "duration": 2954,
    "start_time": "2023-06-22T08:34:08.165Z"
   },
   {
    "duration": 3,
    "start_time": "2023-06-22T08:34:11.121Z"
   },
   {
    "duration": 117,
    "start_time": "2023-06-22T08:34:11.125Z"
   },
   {
    "duration": 50,
    "start_time": "2023-06-22T08:34:11.243Z"
   },
   {
    "duration": 52,
    "start_time": "2023-06-22T08:34:11.295Z"
   },
   {
    "duration": 35,
    "start_time": "2023-06-22T08:34:11.348Z"
   },
   {
    "duration": 37,
    "start_time": "2023-06-22T08:34:11.384Z"
   },
   {
    "duration": 21,
    "start_time": "2023-06-22T08:34:11.423Z"
   },
   {
    "duration": 114,
    "start_time": "2023-06-22T08:34:11.446Z"
   },
   {
    "duration": 9,
    "start_time": "2023-06-22T08:34:11.561Z"
   },
   {
    "duration": 14,
    "start_time": "2023-06-22T08:34:11.572Z"
   },
   {
    "duration": 39,
    "start_time": "2023-06-22T08:34:11.588Z"
   },
   {
    "duration": 22,
    "start_time": "2023-06-22T08:34:11.629Z"
   },
   {
    "duration": 22,
    "start_time": "2023-06-22T08:34:11.652Z"
   },
   {
    "duration": 58,
    "start_time": "2023-06-22T08:34:11.676Z"
   },
   {
    "duration": 47,
    "start_time": "2023-06-22T08:34:11.735Z"
   },
   {
    "duration": 66,
    "start_time": "2023-06-22T08:34:11.784Z"
   },
   {
    "duration": 27,
    "start_time": "2023-06-22T08:34:11.851Z"
   },
   {
    "duration": 97,
    "start_time": "2023-06-22T08:34:11.879Z"
   },
   {
    "duration": 85,
    "start_time": "2023-06-22T08:34:11.977Z"
   },
   {
    "duration": 1260,
    "start_time": "2023-06-22T08:34:12.064Z"
   },
   {
    "duration": 7,
    "start_time": "2023-06-22T08:34:13.326Z"
   },
   {
    "duration": 81,
    "start_time": "2023-06-22T08:34:13.334Z"
   },
   {
    "duration": 4117,
    "start_time": "2023-06-22T08:34:13.416Z"
   },
   {
    "duration": 31112,
    "start_time": "2023-06-22T08:34:17.534Z"
   },
   {
    "duration": 55862,
    "start_time": "2023-06-22T08:34:48.647Z"
   },
   {
    "duration": 110,
    "start_time": "2023-06-22T08:35:44.511Z"
   },
   {
    "duration": 506,
    "start_time": "2023-06-22T08:35:44.623Z"
   },
   {
    "duration": 7,
    "start_time": "2023-06-22T08:35:45.131Z"
   },
   {
    "duration": 152,
    "start_time": "2023-06-22T08:35:45.139Z"
   },
   {
    "duration": 17,
    "start_time": "2023-06-22T08:35:45.293Z"
   },
   {
    "duration": 3371,
    "start_time": "2023-06-22T08:35:45.312Z"
   },
   {
    "duration": 645,
    "start_time": "2023-06-22T08:36:55.210Z"
   },
   {
    "duration": 344,
    "start_time": "2023-06-22T08:37:00.655Z"
   },
   {
    "duration": 470,
    "start_time": "2023-06-22T08:37:05.814Z"
   },
   {
    "duration": 433,
    "start_time": "2023-06-22T08:37:10.921Z"
   },
   {
    "duration": 480,
    "start_time": "2023-06-22T08:37:19.224Z"
   },
   {
    "duration": 557,
    "start_time": "2023-06-22T08:37:25.723Z"
   },
   {
    "duration": 259,
    "start_time": "2023-06-22T08:37:48.062Z"
   },
   {
    "duration": 356,
    "start_time": "2023-06-22T08:37:52.732Z"
   },
   {
    "duration": 359,
    "start_time": "2023-06-22T08:37:59.126Z"
   },
   {
    "duration": 324,
    "start_time": "2023-06-22T08:38:04.127Z"
   },
   {
    "duration": 287,
    "start_time": "2023-06-22T08:38:10.335Z"
   },
   {
    "duration": 322,
    "start_time": "2023-06-22T08:38:14.891Z"
   },
   {
    "duration": 2179,
    "start_time": "2023-06-22T08:40:24.301Z"
   },
   {
    "duration": 2039,
    "start_time": "2023-06-22T08:40:26.483Z"
   },
   {
    "duration": 2156,
    "start_time": "2023-06-22T08:40:28.523Z"
   },
   {
    "duration": 3033,
    "start_time": "2023-06-22T08:40:30.681Z"
   },
   {
    "duration": 3,
    "start_time": "2023-06-22T08:40:33.717Z"
   },
   {
    "duration": 127,
    "start_time": "2023-06-22T08:40:33.723Z"
   },
   {
    "duration": 62,
    "start_time": "2023-06-22T08:40:33.852Z"
   },
   {
    "duration": 34,
    "start_time": "2023-06-22T08:40:33.916Z"
   },
   {
    "duration": 54,
    "start_time": "2023-06-22T08:40:33.952Z"
   },
   {
    "duration": 24,
    "start_time": "2023-06-22T08:40:34.014Z"
   },
   {
    "duration": 28,
    "start_time": "2023-06-22T08:40:34.040Z"
   },
   {
    "duration": 95,
    "start_time": "2023-06-22T08:40:34.072Z"
   },
   {
    "duration": 10,
    "start_time": "2023-06-22T08:40:34.169Z"
   },
   {
    "duration": 34,
    "start_time": "2023-06-22T08:40:34.181Z"
   },
   {
    "duration": 39,
    "start_time": "2023-06-22T08:40:34.222Z"
   },
   {
    "duration": 31,
    "start_time": "2023-06-22T08:40:34.263Z"
   },
   {
    "duration": 20,
    "start_time": "2023-06-22T08:40:34.296Z"
   },
   {
    "duration": 53,
    "start_time": "2023-06-22T08:40:34.318Z"
   },
   {
    "duration": 17,
    "start_time": "2023-06-22T08:40:34.372Z"
   },
   {
    "duration": 67,
    "start_time": "2023-06-22T08:40:34.390Z"
   },
   {
    "duration": 5,
    "start_time": "2023-06-22T08:40:34.459Z"
   },
   {
    "duration": 81,
    "start_time": "2023-06-22T08:40:34.465Z"
   },
   {
    "duration": 72,
    "start_time": "2023-06-22T08:40:34.547Z"
   },
   {
    "duration": 1294,
    "start_time": "2023-06-22T08:40:34.621Z"
   },
   {
    "duration": 10,
    "start_time": "2023-06-22T08:40:35.918Z"
   },
   {
    "duration": 104,
    "start_time": "2023-06-22T08:40:35.930Z"
   },
   {
    "duration": 3955,
    "start_time": "2023-06-22T08:40:36.036Z"
   },
   {
    "duration": 38096,
    "start_time": "2023-06-22T08:40:39.993Z"
   },
   {
    "duration": 59229,
    "start_time": "2023-06-22T08:41:18.090Z"
   },
   {
    "duration": 107,
    "start_time": "2023-06-22T08:42:17.399Z"
   },
   {
    "duration": 502,
    "start_time": "2023-06-22T08:42:17.511Z"
   },
   {
    "duration": 7,
    "start_time": "2023-06-22T08:42:18.014Z"
   },
   {
    "duration": 156,
    "start_time": "2023-06-22T08:42:18.022Z"
   },
   {
    "duration": 5,
    "start_time": "2023-06-22T08:42:18.180Z"
   },
   {
    "duration": 3579,
    "start_time": "2023-06-22T08:42:18.187Z"
   },
   {
    "duration": 1224,
    "start_time": "2023-06-22T08:43:36.513Z"
   },
   {
    "duration": 672,
    "start_time": "2023-06-22T08:43:55.616Z"
   },
   {
    "duration": 383,
    "start_time": "2023-06-22T08:44:02.266Z"
   },
   {
    "duration": 2538,
    "start_time": "2023-06-22T08:44:15.032Z"
   },
   {
    "duration": 2748,
    "start_time": "2023-06-22T08:46:11.239Z"
   },
   {
    "duration": 2156,
    "start_time": "2023-06-22T08:46:13.989Z"
   },
   {
    "duration": 2132,
    "start_time": "2023-06-22T08:46:16.147Z"
   },
   {
    "duration": 3166,
    "start_time": "2023-06-22T08:46:18.281Z"
   },
   {
    "duration": 3,
    "start_time": "2023-06-22T08:46:21.448Z"
   },
   {
    "duration": 124,
    "start_time": "2023-06-22T08:46:21.453Z"
   },
   {
    "duration": 62,
    "start_time": "2023-06-22T08:46:21.578Z"
   },
   {
    "duration": 34,
    "start_time": "2023-06-22T08:46:21.642Z"
   },
   {
    "duration": 65,
    "start_time": "2023-06-22T08:46:21.677Z"
   },
   {
    "duration": 23,
    "start_time": "2023-06-22T08:46:21.745Z"
   },
   {
    "duration": 48,
    "start_time": "2023-06-22T08:46:21.770Z"
   },
   {
    "duration": 80,
    "start_time": "2023-06-22T08:46:21.820Z"
   },
   {
    "duration": 13,
    "start_time": "2023-06-22T08:46:21.902Z"
   },
   {
    "duration": 16,
    "start_time": "2023-06-22T08:46:21.916Z"
   },
   {
    "duration": 12,
    "start_time": "2023-06-22T08:46:21.934Z"
   },
   {
    "duration": 23,
    "start_time": "2023-06-22T08:46:21.948Z"
   },
   {
    "duration": 18,
    "start_time": "2023-06-22T08:46:21.973Z"
   },
   {
    "duration": 44,
    "start_time": "2023-06-22T08:46:21.992Z"
   },
   {
    "duration": 11,
    "start_time": "2023-06-22T08:46:22.038Z"
   },
   {
    "duration": 65,
    "start_time": "2023-06-22T08:46:22.051Z"
   },
   {
    "duration": 8,
    "start_time": "2023-06-22T08:46:22.122Z"
   },
   {
    "duration": 125,
    "start_time": "2023-06-22T08:46:22.131Z"
   },
   {
    "duration": 80,
    "start_time": "2023-06-22T08:46:22.258Z"
   },
   {
    "duration": 1243,
    "start_time": "2023-06-22T08:46:22.340Z"
   },
   {
    "duration": 24,
    "start_time": "2023-06-22T08:46:23.584Z"
   },
   {
    "duration": 76,
    "start_time": "2023-06-22T08:46:23.609Z"
   },
   {
    "duration": 3897,
    "start_time": "2023-06-22T08:46:23.687Z"
   },
   {
    "duration": 38702,
    "start_time": "2023-06-22T08:46:27.587Z"
   },
   {
    "duration": 45734,
    "start_time": "2023-06-22T08:47:06.291Z"
   },
   {
    "duration": 187,
    "start_time": "2023-06-22T08:47:52.026Z"
   },
   {
    "duration": 1313,
    "start_time": "2023-06-22T08:47:52.214Z"
   },
   {
    "duration": 7,
    "start_time": "2023-06-22T08:47:53.528Z"
   },
   {
    "duration": 148,
    "start_time": "2023-06-22T08:47:53.537Z"
   },
   {
    "duration": 5,
    "start_time": "2023-06-22T08:47:53.687Z"
   },
   {
    "duration": 7895,
    "start_time": "2023-06-22T08:47:53.700Z"
   },
   {
    "duration": 2450,
    "start_time": "2023-06-22T08:48:53.241Z"
   },
   {
    "duration": 2367,
    "start_time": "2023-06-22T08:48:55.693Z"
   },
   {
    "duration": 2099,
    "start_time": "2023-06-22T08:48:58.062Z"
   },
   {
    "duration": 3253,
    "start_time": "2023-06-22T08:49:00.164Z"
   },
   {
    "duration": 4,
    "start_time": "2023-06-22T08:49:03.421Z"
   },
   {
    "duration": 152,
    "start_time": "2023-06-22T08:49:03.427Z"
   },
   {
    "duration": 60,
    "start_time": "2023-06-22T08:49:03.581Z"
   },
   {
    "duration": 32,
    "start_time": "2023-06-22T08:49:03.643Z"
   },
   {
    "duration": 65,
    "start_time": "2023-06-22T08:49:03.676Z"
   },
   {
    "duration": 34,
    "start_time": "2023-06-22T08:49:03.744Z"
   },
   {
    "duration": 37,
    "start_time": "2023-06-22T08:49:03.780Z"
   },
   {
    "duration": 146,
    "start_time": "2023-06-22T08:49:03.819Z"
   },
   {
    "duration": 10,
    "start_time": "2023-06-22T08:49:03.967Z"
   },
   {
    "duration": 23,
    "start_time": "2023-06-22T08:49:03.978Z"
   },
   {
    "duration": 36,
    "start_time": "2023-06-22T08:49:04.012Z"
   },
   {
    "duration": 30,
    "start_time": "2023-06-22T08:49:04.050Z"
   },
   {
    "duration": 49,
    "start_time": "2023-06-22T08:49:04.081Z"
   },
   {
    "duration": 47,
    "start_time": "2023-06-22T08:49:04.132Z"
   },
   {
    "duration": 10,
    "start_time": "2023-06-22T08:49:04.181Z"
   },
   {
    "duration": 70,
    "start_time": "2023-06-22T08:49:04.192Z"
   },
   {
    "duration": 25,
    "start_time": "2023-06-22T08:49:04.264Z"
   },
   {
    "duration": 87,
    "start_time": "2023-06-22T08:49:04.292Z"
   },
   {
    "duration": 70,
    "start_time": "2023-06-22T08:49:04.380Z"
   },
   {
    "duration": 998,
    "start_time": "2023-06-22T08:49:04.452Z"
   },
   {
    "duration": 7,
    "start_time": "2023-06-22T08:49:05.452Z"
   },
   {
    "duration": 104,
    "start_time": "2023-06-22T08:49:05.461Z"
   },
   {
    "duration": 3887,
    "start_time": "2023-06-22T08:49:05.567Z"
   },
   {
    "duration": 40190,
    "start_time": "2023-06-22T08:49:09.459Z"
   },
   {
    "duration": 54571,
    "start_time": "2023-06-22T08:49:49.650Z"
   },
   {
    "duration": 194,
    "start_time": "2023-06-22T08:50:44.229Z"
   },
   {
    "duration": 1344,
    "start_time": "2023-06-22T08:50:44.425Z"
   },
   {
    "duration": 6,
    "start_time": "2023-06-22T08:50:45.771Z"
   },
   {
    "duration": 179,
    "start_time": "2023-06-22T08:50:45.779Z"
   },
   {
    "duration": 5,
    "start_time": "2023-06-22T08:50:45.959Z"
   },
   {
    "duration": 7464,
    "start_time": "2023-06-22T08:50:45.965Z"
   },
   {
    "duration": 2026,
    "start_time": "2023-06-22T08:51:40.621Z"
   },
   {
    "duration": 2221,
    "start_time": "2023-06-22T08:51:42.650Z"
   },
   {
    "duration": 2267,
    "start_time": "2023-06-22T08:51:44.873Z"
   },
   {
    "duration": 3184,
    "start_time": "2023-06-22T08:51:47.142Z"
   },
   {
    "duration": 3,
    "start_time": "2023-06-22T08:51:50.328Z"
   },
   {
    "duration": 134,
    "start_time": "2023-06-22T08:51:50.332Z"
   },
   {
    "duration": 63,
    "start_time": "2023-06-22T08:51:50.468Z"
   },
   {
    "duration": 37,
    "start_time": "2023-06-22T08:51:50.533Z"
   },
   {
    "duration": 65,
    "start_time": "2023-06-22T08:51:50.571Z"
   },
   {
    "duration": 24,
    "start_time": "2023-06-22T08:51:50.638Z"
   },
   {
    "duration": 53,
    "start_time": "2023-06-22T08:51:50.664Z"
   },
   {
    "duration": 80,
    "start_time": "2023-06-22T08:51:50.719Z"
   },
   {
    "duration": 11,
    "start_time": "2023-06-22T08:51:50.806Z"
   },
   {
    "duration": 27,
    "start_time": "2023-06-22T08:51:50.819Z"
   },
   {
    "duration": 17,
    "start_time": "2023-06-22T08:51:50.847Z"
   },
   {
    "duration": 32,
    "start_time": "2023-06-22T08:51:50.866Z"
   },
   {
    "duration": 30,
    "start_time": "2023-06-22T08:51:50.901Z"
   },
   {
    "duration": 58,
    "start_time": "2023-06-22T08:51:50.933Z"
   },
   {
    "duration": 44,
    "start_time": "2023-06-22T08:51:50.993Z"
   },
   {
    "duration": 38,
    "start_time": "2023-06-22T08:51:51.039Z"
   },
   {
    "duration": 40,
    "start_time": "2023-06-22T08:51:51.079Z"
   },
   {
    "duration": 69,
    "start_time": "2023-06-22T08:51:51.120Z"
   },
   {
    "duration": 65,
    "start_time": "2023-06-22T08:51:51.191Z"
   },
   {
    "duration": 962,
    "start_time": "2023-06-22T08:51:51.258Z"
   },
   {
    "duration": 7,
    "start_time": "2023-06-22T08:51:52.222Z"
   },
   {
    "duration": 88,
    "start_time": "2023-06-22T08:51:52.230Z"
   },
   {
    "duration": 3012,
    "start_time": "2023-06-22T08:51:52.320Z"
   },
   {
    "duration": 35541,
    "start_time": "2023-06-22T08:51:55.335Z"
   },
   {
    "duration": 53035,
    "start_time": "2023-06-22T08:52:30.878Z"
   },
   {
    "duration": 3269,
    "start_time": "2023-06-22T08:53:23.919Z"
   },
   {
    "duration": 0,
    "start_time": "2023-06-22T08:53:27.190Z"
   },
   {
    "duration": 0,
    "start_time": "2023-06-22T08:53:27.191Z"
   },
   {
    "duration": 0,
    "start_time": "2023-06-22T08:53:27.192Z"
   },
   {
    "duration": 0,
    "start_time": "2023-06-22T08:53:27.194Z"
   },
   {
    "duration": 0,
    "start_time": "2023-06-22T08:53:27.196Z"
   },
   {
    "duration": 18,
    "start_time": "2023-06-22T08:53:40.815Z"
   },
   {
    "duration": 2405,
    "start_time": "2023-06-22T08:55:03.415Z"
   },
   {
    "duration": 2109,
    "start_time": "2023-06-22T08:55:05.822Z"
   },
   {
    "duration": 2088,
    "start_time": "2023-06-22T08:55:07.933Z"
   },
   {
    "duration": 3320,
    "start_time": "2023-06-22T08:55:10.024Z"
   },
   {
    "duration": 2,
    "start_time": "2023-06-22T08:55:13.346Z"
   },
   {
    "duration": 118,
    "start_time": "2023-06-22T08:55:13.350Z"
   },
   {
    "duration": 62,
    "start_time": "2023-06-22T08:55:13.470Z"
   },
   {
    "duration": 38,
    "start_time": "2023-06-22T08:55:13.534Z"
   },
   {
    "duration": 66,
    "start_time": "2023-06-22T08:55:13.574Z"
   },
   {
    "duration": 24,
    "start_time": "2023-06-22T08:55:13.641Z"
   },
   {
    "duration": 42,
    "start_time": "2023-06-22T08:55:13.667Z"
   },
   {
    "duration": 77,
    "start_time": "2023-06-22T08:55:13.711Z"
   },
   {
    "duration": 28,
    "start_time": "2023-06-22T08:55:13.790Z"
   },
   {
    "duration": 11,
    "start_time": "2023-06-22T08:55:13.821Z"
   },
   {
    "duration": 6,
    "start_time": "2023-06-22T08:55:13.833Z"
   },
   {
    "duration": 26,
    "start_time": "2023-06-22T08:55:13.840Z"
   },
   {
    "duration": 26,
    "start_time": "2023-06-22T08:55:13.867Z"
   },
   {
    "duration": 66,
    "start_time": "2023-06-22T08:55:13.894Z"
   },
   {
    "duration": 33,
    "start_time": "2023-06-22T08:55:13.962Z"
   },
   {
    "duration": 63,
    "start_time": "2023-06-22T08:55:13.996Z"
   },
   {
    "duration": 6,
    "start_time": "2023-06-22T08:55:14.060Z"
   },
   {
    "duration": 99,
    "start_time": "2023-06-22T08:55:14.068Z"
   },
   {
    "duration": 71,
    "start_time": "2023-06-22T08:55:14.168Z"
   },
   {
    "duration": 1048,
    "start_time": "2023-06-22T08:55:14.241Z"
   },
   {
    "duration": 22,
    "start_time": "2023-06-22T08:55:15.291Z"
   },
   {
    "duration": 108,
    "start_time": "2023-06-22T08:55:15.315Z"
   },
   {
    "duration": 3964,
    "start_time": "2023-06-22T08:55:15.424Z"
   },
   {
    "duration": 39823,
    "start_time": "2023-06-22T08:55:19.390Z"
   },
   {
    "duration": 43609,
    "start_time": "2023-06-22T08:55:59.216Z"
   },
   {
    "duration": 109,
    "start_time": "2023-06-22T08:56:42.910Z"
   },
   {
    "duration": 1245,
    "start_time": "2023-06-22T08:56:43.020Z"
   },
   {
    "duration": 6,
    "start_time": "2023-06-22T08:56:44.266Z"
   },
   {
    "duration": 145,
    "start_time": "2023-06-22T08:56:44.273Z"
   },
   {
    "duration": 5,
    "start_time": "2023-06-22T08:56:44.420Z"
   },
   {
    "duration": 7524,
    "start_time": "2023-06-22T08:56:44.427Z"
   },
   {
    "duration": 1358,
    "start_time": "2023-06-22T08:57:38.824Z"
   },
   {
    "duration": 1378,
    "start_time": "2023-06-22T08:57:48.839Z"
   },
   {
    "duration": 1337,
    "start_time": "2023-06-22T08:58:09.681Z"
   },
   {
    "duration": 1419,
    "start_time": "2023-06-22T08:58:52.767Z"
   },
   {
    "duration": 1397,
    "start_time": "2023-06-22T08:58:58.662Z"
   },
   {
    "duration": 1223,
    "start_time": "2023-06-22T08:59:03.415Z"
   },
   {
    "duration": 1220,
    "start_time": "2023-06-22T08:59:09.352Z"
   },
   {
    "duration": 1319,
    "start_time": "2023-06-22T08:59:14.859Z"
   },
   {
    "duration": 1314,
    "start_time": "2023-06-22T09:00:44.412Z"
   },
   {
    "duration": 1358,
    "start_time": "2023-06-22T09:01:22.955Z"
   },
   {
    "duration": 1732,
    "start_time": "2023-06-22T09:01:31.063Z"
   },
   {
    "duration": 2185,
    "start_time": "2023-06-22T09:01:37.724Z"
   },
   {
    "duration": 3685,
    "start_time": "2023-06-22T09:01:47.783Z"
   },
   {
    "duration": 3786,
    "start_time": "2023-06-22T09:01:55.956Z"
   },
   {
    "duration": 3418,
    "start_time": "2023-06-22T09:02:04.924Z"
   },
   {
    "duration": 3710,
    "start_time": "2023-06-22T09:02:12.865Z"
   },
   {
    "duration": 3473,
    "start_time": "2023-06-22T09:02:27.540Z"
   },
   {
    "duration": 3495,
    "start_time": "2023-06-22T09:02:36.956Z"
   },
   {
    "duration": 13730,
    "start_time": "2023-06-22T09:03:00.025Z"
   },
   {
    "duration": 13394,
    "start_time": "2023-06-22T09:05:22.419Z"
   },
   {
    "duration": 13566,
    "start_time": "2023-06-22T09:05:42.424Z"
   },
   {
    "duration": 6332,
    "start_time": "2023-06-22T09:06:31.013Z"
   },
   {
    "duration": 3218,
    "start_time": "2023-06-22T09:06:43.220Z"
   },
   {
    "duration": 8467,
    "start_time": "2023-06-22T09:06:52.016Z"
   },
   {
    "duration": 11480,
    "start_time": "2023-06-22T09:07:06.118Z"
   },
   {
    "duration": 13593,
    "start_time": "2023-06-22T09:07:25.927Z"
   },
   {
    "duration": 7867,
    "start_time": "2023-06-22T09:08:00.142Z"
   },
   {
    "duration": 11812,
    "start_time": "2023-06-22T09:08:14.449Z"
   },
   {
    "duration": 13865,
    "start_time": "2023-06-22T09:09:10.514Z"
   },
   {
    "duration": 13322,
    "start_time": "2023-06-22T09:10:02.420Z"
   },
   {
    "duration": 14541,
    "start_time": "2023-06-22T09:10:27.513Z"
   },
   {
    "duration": 2097,
    "start_time": "2023-06-22T09:12:38.663Z"
   },
   {
    "duration": 2051,
    "start_time": "2023-06-22T09:12:40.763Z"
   },
   {
    "duration": 2197,
    "start_time": "2023-06-22T09:12:42.816Z"
   },
   {
    "duration": 3363,
    "start_time": "2023-06-22T09:12:45.016Z"
   },
   {
    "duration": 3,
    "start_time": "2023-06-22T09:12:48.381Z"
   },
   {
    "duration": 132,
    "start_time": "2023-06-22T09:12:48.385Z"
   },
   {
    "duration": 59,
    "start_time": "2023-06-22T09:12:48.520Z"
   },
   {
    "duration": 64,
    "start_time": "2023-06-22T09:12:48.580Z"
   },
   {
    "duration": 42,
    "start_time": "2023-06-22T09:12:48.646Z"
   },
   {
    "duration": 39,
    "start_time": "2023-06-22T09:12:48.701Z"
   },
   {
    "duration": 30,
    "start_time": "2023-06-22T09:12:48.742Z"
   },
   {
    "duration": 117,
    "start_time": "2023-06-22T09:12:48.774Z"
   },
   {
    "duration": 24,
    "start_time": "2023-06-22T09:12:48.893Z"
   },
   {
    "duration": 22,
    "start_time": "2023-06-22T09:12:48.919Z"
   },
   {
    "duration": 19,
    "start_time": "2023-06-22T09:12:48.943Z"
   },
   {
    "duration": 23,
    "start_time": "2023-06-22T09:12:48.964Z"
   },
   {
    "duration": 46,
    "start_time": "2023-06-22T09:12:48.989Z"
   },
   {
    "duration": 84,
    "start_time": "2023-06-22T09:12:49.038Z"
   },
   {
    "duration": 24,
    "start_time": "2023-06-22T09:12:49.123Z"
   },
   {
    "duration": 77,
    "start_time": "2023-06-22T09:12:49.149Z"
   },
   {
    "duration": 6,
    "start_time": "2023-06-22T09:12:49.228Z"
   },
   {
    "duration": 85,
    "start_time": "2023-06-22T09:12:49.236Z"
   },
   {
    "duration": 98,
    "start_time": "2023-06-22T09:12:49.324Z"
   },
   {
    "duration": 1003,
    "start_time": "2023-06-22T09:12:49.424Z"
   },
   {
    "duration": 11,
    "start_time": "2023-06-22T09:12:50.428Z"
   },
   {
    "duration": 154,
    "start_time": "2023-06-22T09:12:50.441Z"
   },
   {
    "duration": 4301,
    "start_time": "2023-06-22T09:12:50.598Z"
   },
   {
    "duration": 41802,
    "start_time": "2023-06-22T09:12:54.911Z"
   },
   {
    "duration": 51706,
    "start_time": "2023-06-22T09:13:36.715Z"
   },
   {
    "duration": 187,
    "start_time": "2023-06-22T09:14:28.426Z"
   },
   {
    "duration": 13306,
    "start_time": "2023-06-22T09:14:28.614Z"
   },
   {
    "duration": 7,
    "start_time": "2023-06-22T09:14:41.922Z"
   },
   {
    "duration": 161,
    "start_time": "2023-06-22T09:14:41.931Z"
   },
   {
    "duration": 17,
    "start_time": "2023-06-22T09:14:42.094Z"
   },
   {
    "duration": 25327,
    "start_time": "2023-06-22T09:14:42.113Z"
   },
   {
    "duration": 2077,
    "start_time": "2023-06-22T09:15:51.639Z"
   },
   {
    "duration": 2099,
    "start_time": "2023-06-22T09:15:53.718Z"
   },
   {
    "duration": 2115,
    "start_time": "2023-06-22T09:15:55.819Z"
   },
   {
    "duration": 3185,
    "start_time": "2023-06-22T09:15:57.936Z"
   },
   {
    "duration": 3,
    "start_time": "2023-06-22T09:16:01.123Z"
   },
   {
    "duration": 147,
    "start_time": "2023-06-22T09:16:01.128Z"
   },
   {
    "duration": 59,
    "start_time": "2023-06-22T09:16:01.277Z"
   },
   {
    "duration": 35,
    "start_time": "2023-06-22T09:16:01.338Z"
   },
   {
    "duration": 96,
    "start_time": "2023-06-22T09:16:01.375Z"
   },
   {
    "duration": 60,
    "start_time": "2023-06-22T09:16:01.475Z"
   },
   {
    "duration": 51,
    "start_time": "2023-06-22T09:16:01.536Z"
   },
   {
    "duration": 103,
    "start_time": "2023-06-22T09:16:01.589Z"
   },
   {
    "duration": 10,
    "start_time": "2023-06-22T09:16:01.694Z"
   },
   {
    "duration": 10,
    "start_time": "2023-06-22T09:16:01.705Z"
   },
   {
    "duration": 72,
    "start_time": "2023-06-22T09:16:01.717Z"
   },
   {
    "duration": 50,
    "start_time": "2023-06-22T09:16:01.791Z"
   },
   {
    "duration": 88,
    "start_time": "2023-06-22T09:16:01.843Z"
   },
   {
    "duration": 163,
    "start_time": "2023-06-22T09:16:01.932Z"
   },
   {
    "duration": 59,
    "start_time": "2023-06-22T09:16:02.096Z"
   },
   {
    "duration": 94,
    "start_time": "2023-06-22T09:16:02.157Z"
   },
   {
    "duration": 81,
    "start_time": "2023-06-22T09:16:02.253Z"
   },
   {
    "duration": 135,
    "start_time": "2023-06-22T09:16:02.336Z"
   },
   {
    "duration": 71,
    "start_time": "2023-06-22T09:16:02.473Z"
   },
   {
    "duration": 774,
    "start_time": "2023-06-22T09:16:02.545Z"
   },
   {
    "duration": 9,
    "start_time": "2023-06-22T09:16:03.321Z"
   },
   {
    "duration": 143,
    "start_time": "2023-06-22T09:16:03.331Z"
   },
   {
    "duration": 3857,
    "start_time": "2023-06-22T09:16:03.475Z"
   },
   {
    "duration": 42376,
    "start_time": "2023-06-22T09:16:07.335Z"
   },
   {
    "duration": 48304,
    "start_time": "2023-06-22T09:16:49.713Z"
   },
   {
    "duration": 111,
    "start_time": "2023-06-22T09:17:38.022Z"
   },
   {
    "duration": 12609,
    "start_time": "2023-06-22T09:17:38.200Z"
   },
   {
    "duration": 6,
    "start_time": "2023-06-22T09:17:50.818Z"
   },
   {
    "duration": 146,
    "start_time": "2023-06-22T09:17:50.826Z"
   },
   {
    "duration": 6,
    "start_time": "2023-06-22T09:17:50.973Z"
   },
   {
    "duration": 21683,
    "start_time": "2023-06-22T09:17:50.981Z"
   },
   {
    "duration": 2204,
    "start_time": "2023-06-22T09:19:34.418Z"
   },
   {
    "duration": 2128,
    "start_time": "2023-06-22T09:19:36.625Z"
   },
   {
    "duration": 2182,
    "start_time": "2023-06-22T09:19:38.755Z"
   },
   {
    "duration": 3154,
    "start_time": "2023-06-22T09:19:40.939Z"
   },
   {
    "duration": 3,
    "start_time": "2023-06-22T09:19:44.095Z"
   },
   {
    "duration": 144,
    "start_time": "2023-06-22T09:19:44.111Z"
   },
   {
    "duration": 62,
    "start_time": "2023-06-22T09:19:44.257Z"
   },
   {
    "duration": 47,
    "start_time": "2023-06-22T09:19:44.321Z"
   },
   {
    "duration": 78,
    "start_time": "2023-06-22T09:19:44.370Z"
   },
   {
    "duration": 26,
    "start_time": "2023-06-22T09:19:44.450Z"
   },
   {
    "duration": 78,
    "start_time": "2023-06-22T09:19:44.477Z"
   },
   {
    "duration": 93,
    "start_time": "2023-06-22T09:19:44.556Z"
   },
   {
    "duration": 10,
    "start_time": "2023-06-22T09:19:44.651Z"
   },
   {
    "duration": 25,
    "start_time": "2023-06-22T09:19:44.664Z"
   },
   {
    "duration": 14,
    "start_time": "2023-06-22T09:19:44.691Z"
   },
   {
    "duration": 35,
    "start_time": "2023-06-22T09:19:44.718Z"
   },
   {
    "duration": 29,
    "start_time": "2023-06-22T09:19:44.755Z"
   },
   {
    "duration": 62,
    "start_time": "2023-06-22T09:19:44.786Z"
   },
   {
    "duration": 22,
    "start_time": "2023-06-22T09:19:44.850Z"
   },
   {
    "duration": 43,
    "start_time": "2023-06-22T09:19:44.874Z"
   },
   {
    "duration": 14,
    "start_time": "2023-06-22T09:19:44.918Z"
   },
   {
    "duration": 91,
    "start_time": "2023-06-22T09:19:44.934Z"
   },
   {
    "duration": 100,
    "start_time": "2023-06-22T09:19:45.028Z"
   },
   {
    "duration": 664,
    "start_time": "2023-06-22T09:19:45.130Z"
   },
   {
    "duration": 25,
    "start_time": "2023-06-22T09:19:45.795Z"
   },
   {
    "duration": 104,
    "start_time": "2023-06-22T09:19:45.822Z"
   },
   {
    "duration": 4039,
    "start_time": "2023-06-22T09:19:45.927Z"
   },
   {
    "duration": 39151,
    "start_time": "2023-06-22T09:19:49.968Z"
   },
   {
    "duration": 47385,
    "start_time": "2023-06-22T09:20:29.120Z"
   },
   {
    "duration": 108,
    "start_time": "2023-06-22T09:21:16.506Z"
   },
   {
    "duration": 12980,
    "start_time": "2023-06-22T09:21:16.615Z"
   },
   {
    "duration": 15,
    "start_time": "2023-06-22T09:21:29.599Z"
   },
   {
    "duration": 149,
    "start_time": "2023-06-22T09:21:29.616Z"
   },
   {
    "duration": 5,
    "start_time": "2023-06-22T09:21:29.766Z"
   },
   {
    "duration": 20217,
    "start_time": "2023-06-22T09:21:29.772Z"
   },
   {
    "duration": 2222,
    "start_time": "2023-06-22T09:23:10.541Z"
   },
   {
    "duration": 2180,
    "start_time": "2023-06-22T09:23:12.765Z"
   },
   {
    "duration": 2215,
    "start_time": "2023-06-22T09:23:14.947Z"
   },
   {
    "duration": 3108,
    "start_time": "2023-06-22T09:23:17.165Z"
   },
   {
    "duration": 3,
    "start_time": "2023-06-22T09:23:20.274Z"
   },
   {
    "duration": 121,
    "start_time": "2023-06-22T09:23:20.279Z"
   },
   {
    "duration": 65,
    "start_time": "2023-06-22T09:23:20.401Z"
   },
   {
    "duration": 56,
    "start_time": "2023-06-22T09:23:20.467Z"
   },
   {
    "duration": 41,
    "start_time": "2023-06-22T09:23:20.526Z"
   },
   {
    "duration": 54,
    "start_time": "2023-06-22T09:23:20.569Z"
   },
   {
    "duration": 24,
    "start_time": "2023-06-22T09:23:20.626Z"
   },
   {
    "duration": 107,
    "start_time": "2023-06-22T09:23:20.651Z"
   },
   {
    "duration": 10,
    "start_time": "2023-06-22T09:23:20.760Z"
   },
   {
    "duration": 67,
    "start_time": "2023-06-22T09:23:20.772Z"
   },
   {
    "duration": 25,
    "start_time": "2023-06-22T09:23:20.840Z"
   },
   {
    "duration": 20,
    "start_time": "2023-06-22T09:23:20.867Z"
   },
   {
    "duration": 61,
    "start_time": "2023-06-22T09:23:20.888Z"
   },
   {
    "duration": 76,
    "start_time": "2023-06-22T09:23:20.951Z"
   },
   {
    "duration": 30,
    "start_time": "2023-06-22T09:23:21.029Z"
   },
   {
    "duration": 37,
    "start_time": "2023-06-22T09:23:21.061Z"
   },
   {
    "duration": 7,
    "start_time": "2023-06-22T09:23:21.099Z"
   },
   {
    "duration": 124,
    "start_time": "2023-06-22T09:23:21.107Z"
   },
   {
    "duration": 53,
    "start_time": "2023-06-22T09:23:21.232Z"
   },
   {
    "duration": 580,
    "start_time": "2023-06-22T09:23:21.299Z"
   },
   {
    "duration": 8,
    "start_time": "2023-06-22T09:23:21.881Z"
   },
   {
    "duration": 62,
    "start_time": "2023-06-22T09:23:21.890Z"
   },
   {
    "duration": 3896,
    "start_time": "2023-06-22T09:23:21.953Z"
   },
   {
    "duration": 39728,
    "start_time": "2023-06-22T09:23:25.851Z"
   },
   {
    "duration": 44346,
    "start_time": "2023-06-22T09:24:05.581Z"
   },
   {
    "duration": 174,
    "start_time": "2023-06-22T09:24:49.931Z"
   },
   {
    "duration": 12738,
    "start_time": "2023-06-22T09:24:50.107Z"
   },
   {
    "duration": 6,
    "start_time": "2023-06-22T09:25:02.846Z"
   },
   {
    "duration": 194,
    "start_time": "2023-06-22T09:25:02.854Z"
   },
   {
    "duration": 5,
    "start_time": "2023-06-22T09:25:03.049Z"
   },
   {
    "duration": 19297,
    "start_time": "2023-06-22T09:25:03.055Z"
   },
   {
    "duration": 2143,
    "start_time": "2023-06-22T09:26:35.813Z"
   },
   {
    "duration": 2032,
    "start_time": "2023-06-22T09:26:37.959Z"
   },
   {
    "duration": 2074,
    "start_time": "2023-06-22T09:26:39.993Z"
   },
   {
    "duration": 3079,
    "start_time": "2023-06-22T09:26:42.069Z"
   },
   {
    "duration": 2,
    "start_time": "2023-06-22T09:26:45.150Z"
   },
   {
    "duration": 122,
    "start_time": "2023-06-22T09:26:45.154Z"
   },
   {
    "duration": 64,
    "start_time": "2023-06-22T09:26:45.278Z"
   },
   {
    "duration": 34,
    "start_time": "2023-06-22T09:26:45.344Z"
   },
   {
    "duration": 60,
    "start_time": "2023-06-22T09:26:45.379Z"
   },
   {
    "duration": 23,
    "start_time": "2023-06-22T09:26:45.441Z"
   },
   {
    "duration": 76,
    "start_time": "2023-06-22T09:26:45.466Z"
   },
   {
    "duration": 105,
    "start_time": "2023-06-22T09:26:45.544Z"
   },
   {
    "duration": 10,
    "start_time": "2023-06-22T09:26:45.650Z"
   },
   {
    "duration": 9,
    "start_time": "2023-06-22T09:26:45.661Z"
   },
   {
    "duration": 4,
    "start_time": "2023-06-22T09:26:45.671Z"
   },
   {
    "duration": 52,
    "start_time": "2023-06-22T09:26:45.676Z"
   },
   {
    "duration": 22,
    "start_time": "2023-06-22T09:26:45.730Z"
   },
   {
    "duration": 52,
    "start_time": "2023-06-22T09:26:45.754Z"
   },
   {
    "duration": 30,
    "start_time": "2023-06-22T09:26:45.808Z"
   },
   {
    "duration": 43,
    "start_time": "2023-06-22T09:26:45.839Z"
   },
   {
    "duration": 5,
    "start_time": "2023-06-22T09:26:45.883Z"
   },
   {
    "duration": 80,
    "start_time": "2023-06-22T09:26:45.890Z"
   },
   {
    "duration": 79,
    "start_time": "2023-06-22T09:26:45.972Z"
   },
   {
    "duration": 829,
    "start_time": "2023-06-22T09:26:46.053Z"
   },
   {
    "duration": 15,
    "start_time": "2023-06-22T09:26:46.884Z"
   },
   {
    "duration": 77,
    "start_time": "2023-06-22T09:26:46.901Z"
   },
   {
    "duration": 4090,
    "start_time": "2023-06-22T09:26:46.980Z"
   },
   {
    "duration": 42269,
    "start_time": "2023-06-22T09:26:51.073Z"
   },
   {
    "duration": 38771,
    "start_time": "2023-06-22T09:27:33.344Z"
   },
   {
    "duration": 117,
    "start_time": "2023-06-22T09:28:12.117Z"
   },
   {
    "duration": 13179,
    "start_time": "2023-06-22T09:28:12.309Z"
   },
   {
    "duration": 25,
    "start_time": "2023-06-22T09:28:25.489Z"
   },
   {
    "duration": 160,
    "start_time": "2023-06-22T09:28:25.516Z"
   },
   {
    "duration": 4,
    "start_time": "2023-06-22T09:28:25.678Z"
   },
   {
    "duration": 24099,
    "start_time": "2023-06-22T09:28:25.684Z"
   },
   {
    "duration": 2255,
    "start_time": "2023-06-22T09:30:12.360Z"
   },
   {
    "duration": 2374,
    "start_time": "2023-06-22T09:30:14.617Z"
   },
   {
    "duration": 2322,
    "start_time": "2023-06-22T09:30:16.992Z"
   },
   {
    "duration": 3489,
    "start_time": "2023-06-22T09:30:19.317Z"
   },
   {
    "duration": 4,
    "start_time": "2023-06-22T09:30:22.807Z"
   },
   {
    "duration": 145,
    "start_time": "2023-06-22T09:30:22.813Z"
   },
   {
    "duration": 75,
    "start_time": "2023-06-22T09:30:22.960Z"
   },
   {
    "duration": 37,
    "start_time": "2023-06-22T09:30:23.036Z"
   },
   {
    "duration": 64,
    "start_time": "2023-06-22T09:30:23.074Z"
   },
   {
    "duration": 25,
    "start_time": "2023-06-22T09:30:23.140Z"
   },
   {
    "duration": 40,
    "start_time": "2023-06-22T09:30:23.166Z"
   },
   {
    "duration": 106,
    "start_time": "2023-06-22T09:30:23.209Z"
   },
   {
    "duration": 14,
    "start_time": "2023-06-22T09:30:23.317Z"
   },
   {
    "duration": 16,
    "start_time": "2023-06-22T09:30:23.333Z"
   },
   {
    "duration": 21,
    "start_time": "2023-06-22T09:30:23.351Z"
   },
   {
    "duration": 20,
    "start_time": "2023-06-22T09:30:23.374Z"
   },
   {
    "duration": 18,
    "start_time": "2023-06-22T09:30:23.396Z"
   },
   {
    "duration": 73,
    "start_time": "2023-06-22T09:30:23.415Z"
   },
   {
    "duration": 28,
    "start_time": "2023-06-22T09:30:23.490Z"
   },
   {
    "duration": 68,
    "start_time": "2023-06-22T09:30:23.520Z"
   },
   {
    "duration": 53,
    "start_time": "2023-06-22T09:30:23.590Z"
   },
   {
    "duration": 151,
    "start_time": "2023-06-22T09:30:23.645Z"
   },
   {
    "duration": 66,
    "start_time": "2023-06-22T09:30:23.797Z"
   },
   {
    "duration": 714,
    "start_time": "2023-06-22T09:30:23.865Z"
   },
   {
    "duration": 7,
    "start_time": "2023-06-22T09:30:24.581Z"
   },
   {
    "duration": 96,
    "start_time": "2023-06-22T09:30:24.590Z"
   },
   {
    "duration": 4148,
    "start_time": "2023-06-22T09:30:24.688Z"
   },
   {
    "duration": 39703,
    "start_time": "2023-06-22T09:30:28.839Z"
   },
   {
    "duration": 34785,
    "start_time": "2023-06-22T09:31:08.544Z"
   },
   {
    "duration": 119,
    "start_time": "2023-06-22T09:31:43.407Z"
   },
   {
    "duration": 12614,
    "start_time": "2023-06-22T09:31:43.530Z"
   },
   {
    "duration": 6,
    "start_time": "2023-06-22T09:31:56.146Z"
   },
   {
    "duration": 182,
    "start_time": "2023-06-22T09:31:56.153Z"
   },
   {
    "duration": 5,
    "start_time": "2023-06-22T09:31:56.337Z"
   },
   {
    "duration": 19876,
    "start_time": "2023-06-22T09:31:56.343Z"
   },
   {
    "duration": 2060,
    "start_time": "2023-06-22T09:35:27.962Z"
   },
   {
    "duration": 2014,
    "start_time": "2023-06-22T09:35:30.024Z"
   },
   {
    "duration": 2097,
    "start_time": "2023-06-22T09:35:32.041Z"
   },
   {
    "duration": 3069,
    "start_time": "2023-06-22T09:35:34.140Z"
   },
   {
    "duration": 4,
    "start_time": "2023-06-22T09:35:37.214Z"
   },
   {
    "duration": 143,
    "start_time": "2023-06-22T09:35:37.219Z"
   },
   {
    "duration": 77,
    "start_time": "2023-06-22T09:35:37.364Z"
   },
   {
    "duration": 44,
    "start_time": "2023-06-22T09:35:37.443Z"
   },
   {
    "duration": 67,
    "start_time": "2023-06-22T09:35:37.489Z"
   },
   {
    "duration": 57,
    "start_time": "2023-06-22T09:35:37.560Z"
   },
   {
    "duration": 26,
    "start_time": "2023-06-22T09:35:37.619Z"
   },
   {
    "duration": 105,
    "start_time": "2023-06-22T09:35:37.646Z"
   },
   {
    "duration": 9,
    "start_time": "2023-06-22T09:35:37.753Z"
   },
   {
    "duration": 14,
    "start_time": "2023-06-22T09:35:37.764Z"
   },
   {
    "duration": 25,
    "start_time": "2023-06-22T09:35:37.780Z"
   },
   {
    "duration": 24,
    "start_time": "2023-06-22T09:35:37.811Z"
   },
   {
    "duration": 19,
    "start_time": "2023-06-22T09:35:37.837Z"
   },
   {
    "duration": 56,
    "start_time": "2023-06-22T09:35:37.857Z"
   },
   {
    "duration": 9,
    "start_time": "2023-06-22T09:35:37.915Z"
   },
   {
    "duration": 37,
    "start_time": "2023-06-22T09:35:37.926Z"
   },
   {
    "duration": 8,
    "start_time": "2023-06-22T09:35:37.964Z"
   },
   {
    "duration": 86,
    "start_time": "2023-06-22T09:35:37.974Z"
   },
   {
    "duration": 88,
    "start_time": "2023-06-22T09:35:38.061Z"
   },
   {
    "duration": 1126,
    "start_time": "2023-06-22T09:35:38.151Z"
   },
   {
    "duration": 7,
    "start_time": "2023-06-22T09:35:39.278Z"
   },
   {
    "duration": 97,
    "start_time": "2023-06-22T09:35:39.286Z"
   },
   {
    "duration": 63,
    "start_time": "2023-06-22T09:35:39.385Z"
   },
   {
    "duration": 3524,
    "start_time": "2023-06-22T09:35:39.451Z"
   },
   {
    "duration": 39060,
    "start_time": "2023-06-22T09:35:42.977Z"
   },
   {
    "duration": 36183,
    "start_time": "2023-06-22T09:36:22.038Z"
   },
   {
    "duration": 180,
    "start_time": "2023-06-22T09:36:58.223Z"
   },
   {
    "duration": 11865,
    "start_time": "2023-06-22T09:36:58.408Z"
   },
   {
    "duration": 6,
    "start_time": "2023-06-22T09:37:10.274Z"
   },
   {
    "duration": 157,
    "start_time": "2023-06-22T09:37:10.281Z"
   },
   {
    "duration": 5,
    "start_time": "2023-06-22T09:37:10.439Z"
   },
   {
    "duration": 17443,
    "start_time": "2023-06-22T09:37:10.445Z"
   },
   {
    "duration": 2121,
    "start_time": "2023-06-22T09:38:15.363Z"
   },
   {
    "duration": 2013,
    "start_time": "2023-06-22T09:38:17.487Z"
   },
   {
    "duration": 2032,
    "start_time": "2023-06-22T09:38:19.510Z"
   },
   {
    "duration": 3032,
    "start_time": "2023-06-22T09:38:21.545Z"
   },
   {
    "duration": 3,
    "start_time": "2023-06-22T09:38:24.579Z"
   },
   {
    "duration": 112,
    "start_time": "2023-06-22T09:38:24.584Z"
   },
   {
    "duration": 70,
    "start_time": "2023-06-22T09:38:24.698Z"
   },
   {
    "duration": 67,
    "start_time": "2023-06-22T09:38:24.770Z"
   },
   {
    "duration": 41,
    "start_time": "2023-06-22T09:38:24.839Z"
   },
   {
    "duration": 49,
    "start_time": "2023-06-22T09:38:24.883Z"
   },
   {
    "duration": 32,
    "start_time": "2023-06-22T09:38:24.934Z"
   },
   {
    "duration": 109,
    "start_time": "2023-06-22T09:38:24.968Z"
   },
   {
    "duration": 9,
    "start_time": "2023-06-22T09:38:25.079Z"
   },
   {
    "duration": 29,
    "start_time": "2023-06-22T09:38:25.090Z"
   },
   {
    "duration": 6,
    "start_time": "2023-06-22T09:38:25.120Z"
   },
   {
    "duration": 14,
    "start_time": "2023-06-22T09:38:25.128Z"
   },
   {
    "duration": 18,
    "start_time": "2023-06-22T09:38:25.143Z"
   },
   {
    "duration": 54,
    "start_time": "2023-06-22T09:38:25.162Z"
   },
   {
    "duration": 11,
    "start_time": "2023-06-22T09:38:25.217Z"
   },
   {
    "duration": 37,
    "start_time": "2023-06-22T09:38:25.230Z"
   },
   {
    "duration": 7,
    "start_time": "2023-06-22T09:38:25.269Z"
   },
   {
    "duration": 112,
    "start_time": "2023-06-22T09:38:25.277Z"
   },
   {
    "duration": 94,
    "start_time": "2023-06-22T09:38:25.391Z"
   },
   {
    "duration": 1277,
    "start_time": "2023-06-22T09:38:25.500Z"
   },
   {
    "duration": 8,
    "start_time": "2023-06-22T09:38:26.778Z"
   },
   {
    "duration": 26,
    "start_time": "2023-06-22T09:38:26.788Z"
   },
   {
    "duration": 75,
    "start_time": "2023-06-22T09:38:26.818Z"
   },
   {
    "duration": 3648,
    "start_time": "2023-06-22T09:38:26.896Z"
   },
   {
    "duration": 39001,
    "start_time": "2023-06-22T09:38:30.545Z"
   },
   {
    "duration": 47355,
    "start_time": "2023-06-22T09:39:09.548Z"
   },
   {
    "duration": 108,
    "start_time": "2023-06-22T09:39:56.905Z"
   },
   {
    "duration": 12227,
    "start_time": "2023-06-22T09:39:57.015Z"
   },
   {
    "duration": 6,
    "start_time": "2023-06-22T09:40:09.244Z"
   },
   {
    "duration": 149,
    "start_time": "2023-06-22T09:40:09.251Z"
   },
   {
    "duration": 13,
    "start_time": "2023-06-22T09:40:09.401Z"
   },
   {
    "duration": 18573,
    "start_time": "2023-06-22T09:40:09.416Z"
   },
   {
    "duration": 2240,
    "start_time": "2023-06-22T09:41:05.522Z"
   },
   {
    "duration": 2118,
    "start_time": "2023-06-22T09:41:07.764Z"
   },
   {
    "duration": 2071,
    "start_time": "2023-06-22T09:41:09.884Z"
   },
   {
    "duration": 3087,
    "start_time": "2023-06-22T09:41:11.958Z"
   },
   {
    "duration": 3,
    "start_time": "2023-06-22T09:41:15.047Z"
   },
   {
    "duration": 182,
    "start_time": "2023-06-22T09:41:15.052Z"
   },
   {
    "duration": 86,
    "start_time": "2023-06-22T09:41:15.235Z"
   },
   {
    "duration": 36,
    "start_time": "2023-06-22T09:41:15.323Z"
   },
   {
    "duration": 66,
    "start_time": "2023-06-22T09:41:15.361Z"
   },
   {
    "duration": 94,
    "start_time": "2023-06-22T09:41:15.430Z"
   },
   {
    "duration": 38,
    "start_time": "2023-06-22T09:41:15.527Z"
   },
   {
    "duration": 154,
    "start_time": "2023-06-22T09:41:15.567Z"
   },
   {
    "duration": 10,
    "start_time": "2023-06-22T09:41:15.723Z"
   },
   {
    "duration": 17,
    "start_time": "2023-06-22T09:41:15.736Z"
   },
   {
    "duration": 21,
    "start_time": "2023-06-22T09:41:15.754Z"
   },
   {
    "duration": 28,
    "start_time": "2023-06-22T09:41:15.777Z"
   },
   {
    "duration": 19,
    "start_time": "2023-06-22T09:41:15.818Z"
   },
   {
    "duration": 48,
    "start_time": "2023-06-22T09:41:15.839Z"
   },
   {
    "duration": 29,
    "start_time": "2023-06-22T09:41:15.889Z"
   },
   {
    "duration": 42,
    "start_time": "2023-06-22T09:41:15.919Z"
   },
   {
    "duration": 11,
    "start_time": "2023-06-22T09:41:15.963Z"
   },
   {
    "duration": 101,
    "start_time": "2023-06-22T09:41:15.976Z"
   },
   {
    "duration": 84,
    "start_time": "2023-06-22T09:41:16.078Z"
   },
   {
    "duration": 1375,
    "start_time": "2023-06-22T09:41:16.164Z"
   },
   {
    "duration": 8,
    "start_time": "2023-06-22T09:41:17.540Z"
   },
   {
    "duration": 107,
    "start_time": "2023-06-22T09:41:17.549Z"
   },
   {
    "duration": 80,
    "start_time": "2023-06-22T09:41:17.657Z"
   },
   {
    "duration": 3510,
    "start_time": "2023-06-22T09:41:17.739Z"
   },
   {
    "duration": 40476,
    "start_time": "2023-06-22T09:41:21.250Z"
   },
   {
    "duration": 38678,
    "start_time": "2023-06-22T09:42:01.728Z"
   },
   {
    "duration": 107,
    "start_time": "2023-06-22T09:42:40.407Z"
   },
   {
    "duration": 11869,
    "start_time": "2023-06-22T09:42:40.516Z"
   },
   {
    "duration": 12,
    "start_time": "2023-06-22T09:42:52.387Z"
   },
   {
    "duration": 139,
    "start_time": "2023-06-22T09:42:52.410Z"
   },
   {
    "duration": 5,
    "start_time": "2023-06-22T09:42:52.550Z"
   },
   {
    "duration": 16555,
    "start_time": "2023-06-22T09:42:52.557Z"
   },
   {
    "duration": 2024,
    "start_time": "2023-06-22T09:43:26.720Z"
   },
   {
    "duration": 2187,
    "start_time": "2023-06-22T09:43:28.746Z"
   },
   {
    "duration": 2050,
    "start_time": "2023-06-22T09:43:30.935Z"
   },
   {
    "duration": 3131,
    "start_time": "2023-06-22T09:43:32.987Z"
   },
   {
    "duration": 3,
    "start_time": "2023-06-22T09:43:36.122Z"
   },
   {
    "duration": 178,
    "start_time": "2023-06-22T09:43:36.127Z"
   },
   {
    "duration": 55,
    "start_time": "2023-06-22T09:43:36.307Z"
   },
   {
    "duration": 56,
    "start_time": "2023-06-22T09:43:36.363Z"
   },
   {
    "duration": 49,
    "start_time": "2023-06-22T09:43:36.421Z"
   },
   {
    "duration": 57,
    "start_time": "2023-06-22T09:43:36.472Z"
   },
   {
    "duration": 22,
    "start_time": "2023-06-22T09:43:36.531Z"
   },
   {
    "duration": 104,
    "start_time": "2023-06-22T09:43:36.555Z"
   },
   {
    "duration": 9,
    "start_time": "2023-06-22T09:43:36.662Z"
   },
   {
    "duration": 20,
    "start_time": "2023-06-22T09:43:36.675Z"
   },
   {
    "duration": 34,
    "start_time": "2023-06-22T09:43:36.699Z"
   },
   {
    "duration": 33,
    "start_time": "2023-06-22T09:43:36.735Z"
   },
   {
    "duration": 17,
    "start_time": "2023-06-22T09:43:36.770Z"
   },
   {
    "duration": 67,
    "start_time": "2023-06-22T09:43:36.789Z"
   },
   {
    "duration": 10,
    "start_time": "2023-06-22T09:43:36.858Z"
   },
   {
    "duration": 64,
    "start_time": "2023-06-22T09:43:36.869Z"
   },
   {
    "duration": 35,
    "start_time": "2023-06-22T09:43:36.935Z"
   },
   {
    "duration": 100,
    "start_time": "2023-06-22T09:43:36.972Z"
   },
   {
    "duration": 87,
    "start_time": "2023-06-22T09:43:37.074Z"
   },
   {
    "duration": 1185,
    "start_time": "2023-06-22T09:43:37.163Z"
   },
   {
    "duration": 7,
    "start_time": "2023-06-22T09:43:38.349Z"
   },
   {
    "duration": 14,
    "start_time": "2023-06-22T09:43:38.358Z"
   },
   {
    "duration": 58,
    "start_time": "2023-06-22T09:43:38.374Z"
   },
   {
    "duration": 3523,
    "start_time": "2023-06-22T09:43:38.433Z"
   },
   {
    "duration": 40755,
    "start_time": "2023-06-22T09:43:41.958Z"
   },
   {
    "duration": 30787,
    "start_time": "2023-06-22T09:44:22.715Z"
   },
   {
    "duration": 116,
    "start_time": "2023-06-22T09:44:53.507Z"
   },
   {
    "duration": 12497,
    "start_time": "2023-06-22T09:44:53.627Z"
   },
   {
    "duration": 9,
    "start_time": "2023-06-22T09:45:06.126Z"
   },
   {
    "duration": 179,
    "start_time": "2023-06-22T09:45:06.137Z"
   },
   {
    "duration": 5,
    "start_time": "2023-06-22T09:45:06.318Z"
   },
   {
    "duration": 17147,
    "start_time": "2023-06-22T09:45:06.325Z"
   },
   {
    "duration": 2212,
    "start_time": "2023-06-22T09:46:05.875Z"
   },
   {
    "duration": 2105,
    "start_time": "2023-06-22T09:46:08.089Z"
   },
   {
    "duration": 2457,
    "start_time": "2023-06-22T09:46:10.195Z"
   },
   {
    "duration": 3176,
    "start_time": "2023-06-22T09:46:12.655Z"
   },
   {
    "duration": 3,
    "start_time": "2023-06-22T09:46:15.833Z"
   },
   {
    "duration": 120,
    "start_time": "2023-06-22T09:46:15.837Z"
   },
   {
    "duration": 70,
    "start_time": "2023-06-22T09:46:15.958Z"
   },
   {
    "duration": 48,
    "start_time": "2023-06-22T09:46:16.030Z"
   },
   {
    "duration": 71,
    "start_time": "2023-06-22T09:46:16.081Z"
   },
   {
    "duration": 27,
    "start_time": "2023-06-22T09:46:16.154Z"
   },
   {
    "duration": 95,
    "start_time": "2023-06-22T09:46:16.182Z"
   },
   {
    "duration": 106,
    "start_time": "2023-06-22T09:46:16.279Z"
   },
   {
    "duration": 25,
    "start_time": "2023-06-22T09:46:16.387Z"
   },
   {
    "duration": 22,
    "start_time": "2023-06-22T09:46:16.414Z"
   },
   {
    "duration": 13,
    "start_time": "2023-06-22T09:46:16.438Z"
   },
   {
    "duration": 22,
    "start_time": "2023-06-22T09:46:16.453Z"
   },
   {
    "duration": 15,
    "start_time": "2023-06-22T09:46:16.476Z"
   },
   {
    "duration": 56,
    "start_time": "2023-06-22T09:46:16.492Z"
   },
   {
    "duration": 23,
    "start_time": "2023-06-22T09:46:16.549Z"
   },
   {
    "duration": 54,
    "start_time": "2023-06-22T09:46:16.573Z"
   },
   {
    "duration": 17,
    "start_time": "2023-06-22T09:46:16.629Z"
   },
   {
    "duration": 94,
    "start_time": "2023-06-22T09:46:16.648Z"
   },
   {
    "duration": 77,
    "start_time": "2023-06-22T09:46:16.743Z"
   },
   {
    "duration": 1149,
    "start_time": "2023-06-22T09:46:16.822Z"
   },
   {
    "duration": 314,
    "start_time": "2023-06-22T09:46:17.973Z"
   },
   {
    "duration": 0,
    "start_time": "2023-06-22T09:46:18.289Z"
   },
   {
    "duration": 0,
    "start_time": "2023-06-22T09:46:18.290Z"
   },
   {
    "duration": 0,
    "start_time": "2023-06-22T09:46:18.291Z"
   },
   {
    "duration": 0,
    "start_time": "2023-06-22T09:46:18.292Z"
   },
   {
    "duration": 0,
    "start_time": "2023-06-22T09:46:18.293Z"
   },
   {
    "duration": 0,
    "start_time": "2023-06-22T09:46:18.300Z"
   },
   {
    "duration": 0,
    "start_time": "2023-06-22T09:46:18.305Z"
   },
   {
    "duration": 0,
    "start_time": "2023-06-22T09:46:18.306Z"
   },
   {
    "duration": 0,
    "start_time": "2023-06-22T09:46:18.309Z"
   },
   {
    "duration": 0,
    "start_time": "2023-06-22T09:46:18.310Z"
   },
   {
    "duration": 0,
    "start_time": "2023-06-22T09:46:18.310Z"
   },
   {
    "duration": 2326,
    "start_time": "2023-06-22T09:47:23.557Z"
   },
   {
    "duration": 2397,
    "start_time": "2023-06-22T09:47:25.885Z"
   },
   {
    "duration": 2659,
    "start_time": "2023-06-22T09:47:28.284Z"
   },
   {
    "duration": 3381,
    "start_time": "2023-06-22T09:47:30.945Z"
   },
   {
    "duration": 3,
    "start_time": "2023-06-22T09:47:34.328Z"
   },
   {
    "duration": 127,
    "start_time": "2023-06-22T09:47:34.332Z"
   },
   {
    "duration": 58,
    "start_time": "2023-06-22T09:47:34.461Z"
   },
   {
    "duration": 41,
    "start_time": "2023-06-22T09:47:34.521Z"
   },
   {
    "duration": 86,
    "start_time": "2023-06-22T09:47:34.564Z"
   },
   {
    "duration": 36,
    "start_time": "2023-06-22T09:47:34.654Z"
   },
   {
    "duration": 25,
    "start_time": "2023-06-22T09:47:34.714Z"
   },
   {
    "duration": 97,
    "start_time": "2023-06-22T09:47:34.741Z"
   },
   {
    "duration": 19,
    "start_time": "2023-06-22T09:47:34.840Z"
   },
   {
    "duration": 16,
    "start_time": "2023-06-22T09:47:34.861Z"
   },
   {
    "duration": 17,
    "start_time": "2023-06-22T09:47:34.879Z"
   },
   {
    "duration": 52,
    "start_time": "2023-06-22T09:47:34.899Z"
   },
   {
    "duration": 30,
    "start_time": "2023-06-22T09:47:34.952Z"
   },
   {
    "duration": 56,
    "start_time": "2023-06-22T09:47:34.984Z"
   },
   {
    "duration": 35,
    "start_time": "2023-06-22T09:47:35.042Z"
   },
   {
    "duration": 81,
    "start_time": "2023-06-22T09:47:35.079Z"
   },
   {
    "duration": 8,
    "start_time": "2023-06-22T09:47:35.161Z"
   },
   {
    "duration": 185,
    "start_time": "2023-06-22T09:47:35.171Z"
   },
   {
    "duration": 97,
    "start_time": "2023-06-22T09:47:35.358Z"
   },
   {
    "duration": 1311,
    "start_time": "2023-06-22T09:47:35.456Z"
   },
   {
    "duration": 8,
    "start_time": "2023-06-22T09:47:36.769Z"
   },
   {
    "duration": 64,
    "start_time": "2023-06-22T09:47:36.778Z"
   },
   {
    "duration": 93,
    "start_time": "2023-06-22T09:47:36.844Z"
   },
   {
    "duration": 3697,
    "start_time": "2023-06-22T09:47:36.940Z"
   },
   {
    "duration": 42334,
    "start_time": "2023-06-22T09:47:40.639Z"
   },
   {
    "duration": 32752,
    "start_time": "2023-06-22T09:48:22.975Z"
   },
   {
    "duration": 90,
    "start_time": "2023-06-22T09:48:55.813Z"
   },
   {
    "duration": 12162,
    "start_time": "2023-06-22T09:48:55.907Z"
   },
   {
    "duration": 5,
    "start_time": "2023-06-22T09:49:08.071Z"
   },
   {
    "duration": 181,
    "start_time": "2023-06-22T09:49:08.078Z"
   },
   {
    "duration": 6,
    "start_time": "2023-06-22T09:49:08.261Z"
   },
   {
    "duration": 15370,
    "start_time": "2023-06-22T09:49:08.269Z"
   },
   {
    "duration": 2346,
    "start_time": "2023-06-22T09:51:55.429Z"
   },
   {
    "duration": 2302,
    "start_time": "2023-06-22T09:51:57.777Z"
   },
   {
    "duration": 2243,
    "start_time": "2023-06-22T09:52:00.081Z"
   },
   {
    "duration": 3428,
    "start_time": "2023-06-22T09:52:02.326Z"
   },
   {
    "duration": 3,
    "start_time": "2023-06-22T09:52:05.756Z"
   },
   {
    "duration": 127,
    "start_time": "2023-06-22T09:52:05.760Z"
   },
   {
    "duration": 78,
    "start_time": "2023-06-22T09:52:05.889Z"
   },
   {
    "duration": 65,
    "start_time": "2023-06-22T09:52:05.970Z"
   },
   {
    "duration": 77,
    "start_time": "2023-06-22T09:52:06.036Z"
   },
   {
    "duration": 41,
    "start_time": "2023-06-22T09:52:06.114Z"
   },
   {
    "duration": 66,
    "start_time": "2023-06-22T09:52:06.157Z"
   },
   {
    "duration": 138,
    "start_time": "2023-06-22T09:52:06.225Z"
   },
   {
    "duration": 10,
    "start_time": "2023-06-22T09:52:06.365Z"
   },
   {
    "duration": 79,
    "start_time": "2023-06-22T09:52:06.378Z"
   },
   {
    "duration": 8,
    "start_time": "2023-06-22T09:52:06.459Z"
   },
   {
    "duration": 47,
    "start_time": "2023-06-22T09:52:06.469Z"
   },
   {
    "duration": 29,
    "start_time": "2023-06-22T09:52:06.519Z"
   },
   {
    "duration": 47,
    "start_time": "2023-06-22T09:52:06.550Z"
   },
   {
    "duration": 71,
    "start_time": "2023-06-22T09:52:06.599Z"
   },
   {
    "duration": 53,
    "start_time": "2023-06-22T09:52:06.671Z"
   },
   {
    "duration": 13,
    "start_time": "2023-06-22T09:52:06.726Z"
   },
   {
    "duration": 106,
    "start_time": "2023-06-22T09:52:06.740Z"
   },
   {
    "duration": 91,
    "start_time": "2023-06-22T09:52:06.847Z"
   },
   {
    "duration": 1242,
    "start_time": "2023-06-22T09:52:06.940Z"
   },
   {
    "duration": 9,
    "start_time": "2023-06-22T09:52:08.183Z"
   },
   {
    "duration": 51,
    "start_time": "2023-06-22T09:52:08.200Z"
   },
   {
    "duration": 87,
    "start_time": "2023-06-22T09:52:08.253Z"
   },
   {
    "duration": 3977,
    "start_time": "2023-06-22T09:52:08.342Z"
   },
   {
    "duration": 42239,
    "start_time": "2023-06-22T09:52:12.320Z"
   },
   {
    "duration": 30663,
    "start_time": "2023-06-22T09:52:54.560Z"
   },
   {
    "duration": 109,
    "start_time": "2023-06-22T09:53:25.300Z"
   },
   {
    "duration": 11880,
    "start_time": "2023-06-22T09:53:25.411Z"
   },
   {
    "duration": 20,
    "start_time": "2023-06-22T09:53:37.293Z"
   },
   {
    "duration": 177,
    "start_time": "2023-06-22T09:53:37.319Z"
   },
   {
    "duration": 12,
    "start_time": "2023-06-22T09:53:37.503Z"
   },
   {
    "duration": 14974,
    "start_time": "2023-06-22T09:53:37.517Z"
   },
   {
    "duration": 2430,
    "start_time": "2023-06-22T09:58:55.520Z"
   },
   {
    "duration": 2193,
    "start_time": "2023-06-22T09:58:57.952Z"
   },
   {
    "duration": 2279,
    "start_time": "2023-06-22T09:59:00.147Z"
   },
   {
    "duration": 3516,
    "start_time": "2023-06-22T09:59:02.428Z"
   },
   {
    "duration": 6,
    "start_time": "2023-06-22T09:59:05.946Z"
   },
   {
    "duration": 170,
    "start_time": "2023-06-22T09:59:05.954Z"
   },
   {
    "duration": 61,
    "start_time": "2023-06-22T09:59:06.126Z"
   },
   {
    "duration": 72,
    "start_time": "2023-06-22T09:59:06.189Z"
   },
   {
    "duration": 49,
    "start_time": "2023-06-22T09:59:06.263Z"
   },
   {
    "duration": 32,
    "start_time": "2023-06-22T09:59:06.313Z"
   },
   {
    "duration": 21,
    "start_time": "2023-06-22T09:59:06.347Z"
   },
   {
    "duration": 106,
    "start_time": "2023-06-22T09:59:06.370Z"
   },
   {
    "duration": 9,
    "start_time": "2023-06-22T09:59:06.477Z"
   },
   {
    "duration": 55,
    "start_time": "2023-06-22T09:59:06.488Z"
   },
   {
    "duration": 42,
    "start_time": "2023-06-22T09:59:06.545Z"
   },
   {
    "duration": 52,
    "start_time": "2023-06-22T09:59:06.588Z"
   },
   {
    "duration": 36,
    "start_time": "2023-06-22T09:59:06.641Z"
   },
   {
    "duration": 48,
    "start_time": "2023-06-22T09:59:06.678Z"
   },
   {
    "duration": 22,
    "start_time": "2023-06-22T09:59:06.728Z"
   },
   {
    "duration": 54,
    "start_time": "2023-06-22T09:59:06.751Z"
   },
   {
    "duration": 36,
    "start_time": "2023-06-22T09:59:06.807Z"
   },
   {
    "duration": 126,
    "start_time": "2023-06-22T09:59:06.844Z"
   },
   {
    "duration": 80,
    "start_time": "2023-06-22T09:59:06.971Z"
   },
   {
    "duration": 1147,
    "start_time": "2023-06-22T09:59:07.052Z"
   },
   {
    "duration": 11,
    "start_time": "2023-06-22T09:59:08.210Z"
   },
   {
    "duration": 17,
    "start_time": "2023-06-22T09:59:08.223Z"
   },
   {
    "duration": 46,
    "start_time": "2023-06-22T09:59:08.242Z"
   },
   {
    "duration": 3524,
    "start_time": "2023-06-22T09:59:08.290Z"
   },
   {
    "duration": 40715,
    "start_time": "2023-06-22T09:59:11.815Z"
   },
   {
    "duration": 25868,
    "start_time": "2023-06-22T09:59:52.531Z"
   },
   {
    "duration": 108,
    "start_time": "2023-06-22T10:00:18.405Z"
   },
   {
    "duration": 11395,
    "start_time": "2023-06-22T10:00:18.514Z"
   },
   {
    "duration": 8,
    "start_time": "2023-06-22T10:00:29.910Z"
   },
   {
    "duration": 135,
    "start_time": "2023-06-22T10:00:29.920Z"
   },
   {
    "duration": 5,
    "start_time": "2023-06-22T10:00:30.057Z"
   },
   {
    "duration": 14359,
    "start_time": "2023-06-22T10:00:30.064Z"
   },
   {
    "duration": 51,
    "start_time": "2023-06-23T10:01:54.422Z"
   },
   {
    "duration": 8296,
    "start_time": "2023-06-23T10:03:02.644Z"
   },
   {
    "duration": 3978,
    "start_time": "2023-06-23T10:03:10.942Z"
   },
   {
    "duration": 4346,
    "start_time": "2023-06-23T10:03:14.922Z"
   },
   {
    "duration": 3779,
    "start_time": "2023-06-23T10:03:19.272Z"
   },
   {
    "duration": 4,
    "start_time": "2023-06-23T10:03:23.055Z"
   },
   {
    "duration": 568,
    "start_time": "2023-06-23T10:03:23.061Z"
   },
   {
    "duration": 67,
    "start_time": "2023-06-23T10:03:23.631Z"
   },
   {
    "duration": 83,
    "start_time": "2023-06-23T10:03:23.700Z"
   },
   {
    "duration": 83,
    "start_time": "2023-06-23T10:03:23.785Z"
   },
   {
    "duration": 41,
    "start_time": "2023-06-23T10:03:23.872Z"
   },
   {
    "duration": 67,
    "start_time": "2023-06-23T10:03:23.915Z"
   },
   {
    "duration": 126,
    "start_time": "2023-06-23T10:03:23.985Z"
   },
   {
    "duration": 11,
    "start_time": "2023-06-23T10:03:24.113Z"
   },
   {
    "duration": 30,
    "start_time": "2023-06-23T10:03:24.127Z"
   },
   {
    "duration": 6,
    "start_time": "2023-06-23T10:03:24.160Z"
   },
   {
    "duration": 26,
    "start_time": "2023-06-23T10:03:24.168Z"
   },
   {
    "duration": 27,
    "start_time": "2023-06-23T10:03:24.196Z"
   },
   {
    "duration": 62,
    "start_time": "2023-06-23T10:03:24.225Z"
   },
   {
    "duration": 28,
    "start_time": "2023-06-23T10:03:24.290Z"
   },
   {
    "duration": 77,
    "start_time": "2023-06-23T10:03:24.320Z"
   },
   {
    "duration": 8,
    "start_time": "2023-06-23T10:03:24.399Z"
   },
   {
    "duration": 147,
    "start_time": "2023-06-23T10:03:24.409Z"
   },
   {
    "duration": 136,
    "start_time": "2023-06-23T10:03:24.560Z"
   },
   {
    "duration": 447,
    "start_time": "2023-06-23T10:03:24.699Z"
   },
   {
    "duration": 1550,
    "start_time": "2023-06-23T10:03:25.157Z"
   },
   {
    "duration": 15,
    "start_time": "2023-06-23T10:03:26.710Z"
   },
   {
    "duration": 35,
    "start_time": "2023-06-23T10:03:26.727Z"
   },
   {
    "duration": 89,
    "start_time": "2023-06-23T10:03:26.767Z"
   },
   {
    "duration": 3774,
    "start_time": "2023-06-23T10:03:26.858Z"
   },
   {
    "duration": 42689,
    "start_time": "2023-06-23T10:03:30.634Z"
   },
   {
    "duration": 28838,
    "start_time": "2023-06-23T10:04:13.325Z"
   },
   {
    "duration": 103,
    "start_time": "2023-06-23T10:04:42.166Z"
   },
   {
    "duration": 11426,
    "start_time": "2023-06-23T10:04:42.271Z"
   },
   {
    "duration": 7,
    "start_time": "2023-06-23T10:04:53.699Z"
   },
   {
    "duration": 173,
    "start_time": "2023-06-23T10:04:53.708Z"
   },
   {
    "duration": 8,
    "start_time": "2023-06-23T10:04:53.883Z"
   },
   {
    "duration": 19334,
    "start_time": "2023-06-23T10:04:53.893Z"
   },
   {
    "duration": 2388,
    "start_time": "2023-06-23T10:06:48.306Z"
   },
   {
    "duration": 2550,
    "start_time": "2023-06-23T10:06:50.697Z"
   },
   {
    "duration": 2894,
    "start_time": "2023-06-23T10:06:53.249Z"
   },
   {
    "duration": 3719,
    "start_time": "2023-06-23T10:06:56.146Z"
   },
   {
    "duration": 3,
    "start_time": "2023-06-23T10:06:59.869Z"
   },
   {
    "duration": 134,
    "start_time": "2023-06-23T10:06:59.876Z"
   },
   {
    "duration": 79,
    "start_time": "2023-06-23T10:07:00.012Z"
   },
   {
    "duration": 51,
    "start_time": "2023-06-23T10:07:00.093Z"
   },
   {
    "duration": 49,
    "start_time": "2023-06-23T10:07:00.159Z"
   },
   {
    "duration": 59,
    "start_time": "2023-06-23T10:07:00.210Z"
   },
   {
    "duration": 26,
    "start_time": "2023-06-23T10:07:00.271Z"
   },
   {
    "duration": 115,
    "start_time": "2023-06-23T10:07:00.299Z"
   },
   {
    "duration": 10,
    "start_time": "2023-06-23T10:07:00.415Z"
   },
   {
    "duration": 87,
    "start_time": "2023-06-23T10:07:00.429Z"
   },
   {
    "duration": 59,
    "start_time": "2023-06-23T10:07:00.518Z"
   },
   {
    "duration": 88,
    "start_time": "2023-06-23T10:07:00.579Z"
   },
   {
    "duration": 71,
    "start_time": "2023-06-23T10:07:00.673Z"
   },
   {
    "duration": 101,
    "start_time": "2023-06-23T10:07:00.746Z"
   },
   {
    "duration": 63,
    "start_time": "2023-06-23T10:07:00.849Z"
   },
   {
    "duration": 82,
    "start_time": "2023-06-23T10:07:00.914Z"
   },
   {
    "duration": 60,
    "start_time": "2023-06-23T10:07:00.998Z"
   },
   {
    "duration": 141,
    "start_time": "2023-06-23T10:07:01.062Z"
   },
   {
    "duration": 95,
    "start_time": "2023-06-23T10:07:01.205Z"
   },
   {
    "duration": 141804,
    "start_time": "2023-06-23T10:07:01.302Z"
   },
   {
    "duration": 1520,
    "start_time": "2023-06-23T10:09:23.109Z"
   },
   {
    "duration": 27,
    "start_time": "2023-06-23T10:09:24.631Z"
   },
   {
    "duration": 20,
    "start_time": "2023-06-23T10:09:24.667Z"
   },
   {
    "duration": 53,
    "start_time": "2023-06-23T10:09:24.690Z"
   },
   {
    "duration": 3696,
    "start_time": "2023-06-23T10:09:24.745Z"
   },
   {
    "duration": 43783,
    "start_time": "2023-06-23T10:09:28.443Z"
   },
   {
    "duration": 35458,
    "start_time": "2023-06-23T10:10:12.228Z"
   },
   {
    "duration": 172,
    "start_time": "2023-06-23T10:10:47.688Z"
   },
   {
    "duration": 11859,
    "start_time": "2023-06-23T10:10:47.865Z"
   },
   {
    "duration": 10,
    "start_time": "2023-06-23T10:10:59.726Z"
   },
   {
    "duration": 171,
    "start_time": "2023-06-23T10:10:59.737Z"
   },
   {
    "duration": 6,
    "start_time": "2023-06-23T10:10:59.910Z"
   },
   {
    "duration": 20329,
    "start_time": "2023-06-23T10:10:59.918Z"
   },
   {
    "duration": 2065,
    "start_time": "2023-06-23T10:13:12.916Z"
   },
   {
    "duration": 2021,
    "start_time": "2023-06-23T10:13:14.985Z"
   },
   {
    "duration": 2201,
    "start_time": "2023-06-23T10:13:17.009Z"
   },
   {
    "duration": 3372,
    "start_time": "2023-06-23T10:13:19.213Z"
   },
   {
    "duration": 4,
    "start_time": "2023-06-23T10:13:22.588Z"
   },
   {
    "duration": 100,
    "start_time": "2023-06-23T10:13:22.594Z"
   },
   {
    "duration": 66,
    "start_time": "2023-06-23T10:13:22.696Z"
   },
   {
    "duration": 42,
    "start_time": "2023-06-23T10:13:22.764Z"
   },
   {
    "duration": 84,
    "start_time": "2023-06-23T10:13:22.808Z"
   },
   {
    "duration": 64,
    "start_time": "2023-06-23T10:13:22.894Z"
   },
   {
    "duration": 39,
    "start_time": "2023-06-23T10:13:22.960Z"
   },
   {
    "duration": 119,
    "start_time": "2023-06-23T10:13:23.001Z"
   },
   {
    "duration": 11,
    "start_time": "2023-06-23T10:13:23.122Z"
   },
   {
    "duration": 23,
    "start_time": "2023-06-23T10:13:23.137Z"
   },
   {
    "duration": 13,
    "start_time": "2023-06-23T10:13:23.162Z"
   },
   {
    "duration": 26,
    "start_time": "2023-06-23T10:13:23.177Z"
   },
   {
    "duration": 19,
    "start_time": "2023-06-23T10:13:23.205Z"
   },
   {
    "duration": 70,
    "start_time": "2023-06-23T10:13:23.226Z"
   },
   {
    "duration": 13,
    "start_time": "2023-06-23T10:13:23.298Z"
   },
   {
    "duration": 82,
    "start_time": "2023-06-23T10:13:23.313Z"
   },
   {
    "duration": 7,
    "start_time": "2023-06-23T10:13:23.397Z"
   },
   {
    "duration": 103,
    "start_time": "2023-06-23T10:13:23.405Z"
   },
   {
    "duration": 95,
    "start_time": "2023-06-23T10:13:23.510Z"
   },
   {
    "duration": 115868,
    "start_time": "2023-06-23T10:13:23.607Z"
   },
   {
    "duration": 1382,
    "start_time": "2023-06-23T10:15:19.477Z"
   },
   {
    "duration": 11,
    "start_time": "2023-06-23T10:15:20.861Z"
   },
   {
    "duration": 10,
    "start_time": "2023-06-23T10:15:20.873Z"
   },
   {
    "duration": 47,
    "start_time": "2023-06-23T10:15:20.884Z"
   },
   {
    "duration": 3446,
    "start_time": "2023-06-23T10:15:20.933Z"
   },
   {
    "duration": 41207,
    "start_time": "2023-06-23T10:15:24.380Z"
   },
   {
    "duration": 12280,
    "start_time": "2023-06-23T10:16:05.589Z"
   },
   {
    "duration": 454,
    "start_time": "2023-06-23T10:16:17.871Z"
   },
   {
    "duration": 0,
    "start_time": "2023-06-23T10:16:18.327Z"
   },
   {
    "duration": 0,
    "start_time": "2023-06-23T10:16:18.330Z"
   },
   {
    "duration": 0,
    "start_time": "2023-06-23T10:16:18.331Z"
   },
   {
    "duration": 0,
    "start_time": "2023-06-23T10:16:18.333Z"
   },
   {
    "duration": 0,
    "start_time": "2023-06-23T10:16:18.334Z"
   },
   {
    "duration": 0,
    "start_time": "2023-06-23T10:16:18.336Z"
   },
   {
    "duration": 22,
    "start_time": "2023-06-23T10:17:13.910Z"
   },
   {
    "duration": 1486,
    "start_time": "2023-06-23T10:19:38.714Z"
   },
   {
    "duration": 26,
    "start_time": "2023-06-23T10:20:40.351Z"
   },
   {
    "duration": 1295,
    "start_time": "2023-06-23T10:20:59.102Z"
   },
   {
    "duration": 2179,
    "start_time": "2023-06-23T10:23:22.831Z"
   },
   {
    "duration": 1967,
    "start_time": "2023-06-23T10:23:25.013Z"
   },
   {
    "duration": 2149,
    "start_time": "2023-06-23T10:23:26.983Z"
   },
   {
    "duration": 3518,
    "start_time": "2023-06-23T10:23:29.134Z"
   },
   {
    "duration": 4,
    "start_time": "2023-06-23T10:23:32.655Z"
   },
   {
    "duration": 117,
    "start_time": "2023-06-23T10:23:32.660Z"
   },
   {
    "duration": 59,
    "start_time": "2023-06-23T10:23:32.778Z"
   },
   {
    "duration": 48,
    "start_time": "2023-06-23T10:23:32.839Z"
   },
   {
    "duration": 79,
    "start_time": "2023-06-23T10:23:32.889Z"
   },
   {
    "duration": 33,
    "start_time": "2023-06-23T10:23:32.970Z"
   },
   {
    "duration": 52,
    "start_time": "2023-06-23T10:23:33.005Z"
   },
   {
    "duration": 111,
    "start_time": "2023-06-23T10:23:33.059Z"
   },
   {
    "duration": 10,
    "start_time": "2023-06-23T10:23:33.173Z"
   },
   {
    "duration": 34,
    "start_time": "2023-06-23T10:23:33.188Z"
   },
   {
    "duration": 24,
    "start_time": "2023-06-23T10:23:33.224Z"
   },
   {
    "duration": 24,
    "start_time": "2023-06-23T10:23:33.250Z"
   },
   {
    "duration": 48,
    "start_time": "2023-06-23T10:23:33.277Z"
   },
   {
    "duration": 42,
    "start_time": "2023-06-23T10:23:33.327Z"
   },
   {
    "duration": 29,
    "start_time": "2023-06-23T10:23:33.372Z"
   },
   {
    "duration": 56,
    "start_time": "2023-06-23T10:23:33.403Z"
   },
   {
    "duration": 13,
    "start_time": "2023-06-23T10:23:33.461Z"
   },
   {
    "duration": 104,
    "start_time": "2023-06-23T10:23:33.476Z"
   },
   {
    "duration": 84,
    "start_time": "2023-06-23T10:23:33.582Z"
   },
   {
    "duration": 2249,
    "start_time": "2023-06-23T10:23:33.668Z"
   },
   {
    "duration": 1338,
    "start_time": "2023-06-23T10:23:35.919Z"
   },
   {
    "duration": 10,
    "start_time": "2023-06-23T10:23:37.260Z"
   },
   {
    "duration": 11,
    "start_time": "2023-06-23T10:23:37.272Z"
   },
   {
    "duration": 42,
    "start_time": "2023-06-23T10:23:37.285Z"
   },
   {
    "duration": 3501,
    "start_time": "2023-06-23T10:23:37.328Z"
   },
   {
    "duration": 40135,
    "start_time": "2023-06-23T10:23:40.831Z"
   },
   {
    "duration": 19698,
    "start_time": "2023-06-23T10:24:20.968Z"
   },
   {
    "duration": 476,
    "start_time": "2023-06-23T10:24:40.668Z"
   },
   {
    "duration": 0,
    "start_time": "2023-06-23T10:24:41.146Z"
   },
   {
    "duration": 0,
    "start_time": "2023-06-23T10:24:41.148Z"
   },
   {
    "duration": 0,
    "start_time": "2023-06-23T10:24:41.157Z"
   },
   {
    "duration": 0,
    "start_time": "2023-06-23T10:24:41.158Z"
   },
   {
    "duration": 0,
    "start_time": "2023-06-23T10:24:41.159Z"
   },
   {
    "duration": 0,
    "start_time": "2023-06-23T10:24:41.161Z"
   },
   {
    "duration": 2201,
    "start_time": "2023-06-23T10:26:01.915Z"
   },
   {
    "duration": 2055,
    "start_time": "2023-06-23T10:26:04.119Z"
   },
   {
    "duration": 2141,
    "start_time": "2023-06-23T10:26:06.177Z"
   },
   {
    "duration": 3550,
    "start_time": "2023-06-23T10:26:08.320Z"
   },
   {
    "duration": 3,
    "start_time": "2023-06-23T10:26:11.873Z"
   },
   {
    "duration": 127,
    "start_time": "2023-06-23T10:26:11.877Z"
   },
   {
    "duration": 72,
    "start_time": "2023-06-23T10:26:12.007Z"
   },
   {
    "duration": 43,
    "start_time": "2023-06-23T10:26:12.081Z"
   },
   {
    "duration": 71,
    "start_time": "2023-06-23T10:26:12.126Z"
   },
   {
    "duration": 27,
    "start_time": "2023-06-23T10:26:12.199Z"
   },
   {
    "duration": 27,
    "start_time": "2023-06-23T10:26:12.256Z"
   },
   {
    "duration": 114,
    "start_time": "2023-06-23T10:26:12.285Z"
   },
   {
    "duration": 10,
    "start_time": "2023-06-23T10:26:12.401Z"
   },
   {
    "duration": 7,
    "start_time": "2023-06-23T10:26:12.414Z"
   },
   {
    "duration": 20,
    "start_time": "2023-06-23T10:26:12.423Z"
   },
   {
    "duration": 14,
    "start_time": "2023-06-23T10:26:12.456Z"
   },
   {
    "duration": 18,
    "start_time": "2023-06-23T10:26:12.472Z"
   },
   {
    "duration": 67,
    "start_time": "2023-06-23T10:26:12.492Z"
   },
   {
    "duration": 12,
    "start_time": "2023-06-23T10:26:12.561Z"
   },
   {
    "duration": 42,
    "start_time": "2023-06-23T10:26:12.575Z"
   },
   {
    "duration": 12,
    "start_time": "2023-06-23T10:26:12.619Z"
   },
   {
    "duration": 101,
    "start_time": "2023-06-23T10:26:12.657Z"
   },
   {
    "duration": 78,
    "start_time": "2023-06-23T10:26:12.760Z"
   },
   {
    "duration": 2286,
    "start_time": "2023-06-23T10:26:12.840Z"
   },
   {
    "duration": 1400,
    "start_time": "2023-06-23T10:26:15.128Z"
   },
   {
    "duration": 9,
    "start_time": "2023-06-23T10:26:16.529Z"
   },
   {
    "duration": 27,
    "start_time": "2023-06-23T10:26:16.540Z"
   },
   {
    "duration": 73,
    "start_time": "2023-06-23T10:26:16.570Z"
   },
   {
    "duration": 3638,
    "start_time": "2023-06-23T10:26:16.646Z"
   },
   {
    "duration": 40671,
    "start_time": "2023-06-23T10:26:20.286Z"
   },
   {
    "duration": 12202,
    "start_time": "2023-06-23T10:27:00.959Z"
   },
   {
    "duration": 2264,
    "start_time": "2023-06-23T10:29:52.601Z"
   },
   {
    "duration": 2217,
    "start_time": "2023-06-23T10:29:54.868Z"
   },
   {
    "duration": 2398,
    "start_time": "2023-06-23T10:29:57.088Z"
   },
   {
    "duration": 3681,
    "start_time": "2023-06-23T10:29:59.488Z"
   },
   {
    "duration": 3,
    "start_time": "2023-06-23T10:30:03.172Z"
   },
   {
    "duration": 137,
    "start_time": "2023-06-23T10:30:03.177Z"
   },
   {
    "duration": 63,
    "start_time": "2023-06-23T10:30:03.316Z"
   },
   {
    "duration": 43,
    "start_time": "2023-06-23T10:30:03.381Z"
   },
   {
    "duration": 70,
    "start_time": "2023-06-23T10:30:03.426Z"
   },
   {
    "duration": 31,
    "start_time": "2023-06-23T10:30:03.498Z"
   },
   {
    "duration": 65,
    "start_time": "2023-06-23T10:30:03.531Z"
   },
   {
    "duration": 128,
    "start_time": "2023-06-23T10:30:03.598Z"
   },
   {
    "duration": 28,
    "start_time": "2023-06-23T10:30:03.728Z"
   },
   {
    "duration": 9,
    "start_time": "2023-06-23T10:30:03.761Z"
   },
   {
    "duration": 65,
    "start_time": "2023-06-23T10:30:03.772Z"
   },
   {
    "duration": 65,
    "start_time": "2023-06-23T10:30:03.839Z"
   },
   {
    "duration": 24,
    "start_time": "2023-06-23T10:30:03.908Z"
   },
   {
    "duration": 63,
    "start_time": "2023-06-23T10:30:03.935Z"
   },
   {
    "duration": 25,
    "start_time": "2023-06-23T10:30:03.999Z"
   },
   {
    "duration": 63,
    "start_time": "2023-06-23T10:30:04.026Z"
   },
   {
    "duration": 33,
    "start_time": "2023-06-23T10:30:04.092Z"
   },
   {
    "duration": 152,
    "start_time": "2023-06-23T10:30:04.128Z"
   },
   {
    "duration": 95,
    "start_time": "2023-06-23T10:30:04.282Z"
   },
   {
    "duration": 2268,
    "start_time": "2023-06-23T10:30:04.379Z"
   },
   {
    "duration": 1408,
    "start_time": "2023-06-23T10:30:06.649Z"
   },
   {
    "duration": 13,
    "start_time": "2023-06-23T10:30:08.060Z"
   },
   {
    "duration": 19,
    "start_time": "2023-06-23T10:30:08.076Z"
   },
   {
    "duration": 64,
    "start_time": "2023-06-23T10:30:08.097Z"
   },
   {
    "duration": 3890,
    "start_time": "2023-06-23T10:30:08.163Z"
   },
   {
    "duration": 40409,
    "start_time": "2023-06-23T10:30:12.056Z"
   },
   {
    "duration": 21701,
    "start_time": "2023-06-23T10:30:52.467Z"
   },
   {
    "duration": 2248,
    "start_time": "2023-06-23T10:33:53.314Z"
   },
   {
    "duration": 2172,
    "start_time": "2023-06-23T10:33:55.565Z"
   },
   {
    "duration": 2497,
    "start_time": "2023-06-23T10:33:57.740Z"
   },
   {
    "duration": 3679,
    "start_time": "2023-06-23T10:34:00.239Z"
   },
   {
    "duration": 4,
    "start_time": "2023-06-23T10:34:03.921Z"
   },
   {
    "duration": 137,
    "start_time": "2023-06-23T10:34:03.927Z"
   },
   {
    "duration": 69,
    "start_time": "2023-06-23T10:34:04.066Z"
   },
   {
    "duration": 61,
    "start_time": "2023-06-23T10:34:04.137Z"
   },
   {
    "duration": 73,
    "start_time": "2023-06-23T10:34:04.200Z"
   },
   {
    "duration": 29,
    "start_time": "2023-06-23T10:34:04.275Z"
   },
   {
    "duration": 61,
    "start_time": "2023-06-23T10:34:04.306Z"
   },
   {
    "duration": 121,
    "start_time": "2023-06-23T10:34:04.369Z"
   },
   {
    "duration": 12,
    "start_time": "2023-06-23T10:34:04.492Z"
   },
   {
    "duration": 12,
    "start_time": "2023-06-23T10:34:04.508Z"
   },
   {
    "duration": 20,
    "start_time": "2023-06-23T10:34:04.522Z"
   },
   {
    "duration": 27,
    "start_time": "2023-06-23T10:34:04.545Z"
   },
   {
    "duration": 17,
    "start_time": "2023-06-23T10:34:04.573Z"
   },
   {
    "duration": 44,
    "start_time": "2023-06-23T10:34:04.592Z"
   },
   {
    "duration": 13,
    "start_time": "2023-06-23T10:34:04.657Z"
   },
   {
    "duration": 96,
    "start_time": "2023-06-23T10:34:04.672Z"
   },
   {
    "duration": 7,
    "start_time": "2023-06-23T10:34:04.770Z"
   },
   {
    "duration": 136,
    "start_time": "2023-06-23T10:34:04.780Z"
   },
   {
    "duration": 103,
    "start_time": "2023-06-23T10:34:04.919Z"
   },
   {
    "duration": 2318,
    "start_time": "2023-06-23T10:34:05.025Z"
   },
   {
    "duration": 1573,
    "start_time": "2023-06-23T10:34:07.345Z"
   },
   {
    "duration": 15,
    "start_time": "2023-06-23T10:34:08.920Z"
   },
   {
    "duration": 16,
    "start_time": "2023-06-23T10:34:08.938Z"
   },
   {
    "duration": 60,
    "start_time": "2023-06-23T10:34:08.956Z"
   },
   {
    "duration": 3810,
    "start_time": "2023-06-23T10:34:09.019Z"
   },
   {
    "duration": 39665,
    "start_time": "2023-06-23T10:34:12.830Z"
   },
   {
    "duration": 15063,
    "start_time": "2023-06-23T10:34:52.497Z"
   },
   {
    "duration": 2124,
    "start_time": "2023-06-23T10:42:04.814Z"
   },
   {
    "duration": 2277,
    "start_time": "2023-06-23T10:42:06.941Z"
   },
   {
    "duration": 2222,
    "start_time": "2023-06-23T10:42:09.220Z"
   },
   {
    "duration": 3388,
    "start_time": "2023-06-23T10:42:11.444Z"
   },
   {
    "duration": 3,
    "start_time": "2023-06-23T10:42:14.834Z"
   },
   {
    "duration": 105,
    "start_time": "2023-06-23T10:42:14.839Z"
   },
   {
    "duration": 59,
    "start_time": "2023-06-23T10:42:14.945Z"
   },
   {
    "duration": 68,
    "start_time": "2023-06-23T10:42:15.006Z"
   },
   {
    "duration": 48,
    "start_time": "2023-06-23T10:42:15.076Z"
   },
   {
    "duration": 53,
    "start_time": "2023-06-23T10:42:15.126Z"
   },
   {
    "duration": 28,
    "start_time": "2023-06-23T10:42:15.181Z"
   },
   {
    "duration": 106,
    "start_time": "2023-06-23T10:42:15.211Z"
   },
   {
    "duration": 11,
    "start_time": "2023-06-23T10:42:15.318Z"
   },
   {
    "duration": 24,
    "start_time": "2023-06-23T10:42:15.332Z"
   },
   {
    "duration": 4,
    "start_time": "2023-06-23T10:42:15.358Z"
   },
   {
    "duration": 23,
    "start_time": "2023-06-23T10:42:15.363Z"
   },
   {
    "duration": 16,
    "start_time": "2023-06-23T10:42:15.388Z"
   },
   {
    "duration": 50,
    "start_time": "2023-06-23T10:42:15.406Z"
   },
   {
    "duration": 9,
    "start_time": "2023-06-23T10:42:15.458Z"
   },
   {
    "duration": 40,
    "start_time": "2023-06-23T10:42:15.469Z"
   },
   {
    "duration": 6,
    "start_time": "2023-06-23T10:42:15.511Z"
   },
   {
    "duration": 115,
    "start_time": "2023-06-23T10:42:15.518Z"
   },
   {
    "duration": 88,
    "start_time": "2023-06-23T10:42:15.635Z"
   },
   {
    "duration": 2229,
    "start_time": "2023-06-23T10:42:15.725Z"
   },
   {
    "duration": 1475,
    "start_time": "2023-06-23T10:42:17.957Z"
   },
   {
    "duration": 21,
    "start_time": "2023-06-23T10:42:19.435Z"
   },
   {
    "duration": 9,
    "start_time": "2023-06-23T10:42:19.458Z"
   },
   {
    "duration": 44,
    "start_time": "2023-06-23T10:42:19.468Z"
   },
   {
    "duration": 3402,
    "start_time": "2023-06-23T10:42:19.513Z"
   },
   {
    "duration": 39440,
    "start_time": "2023-06-23T10:42:22.916Z"
   },
   {
    "duration": 13807,
    "start_time": "2023-06-23T10:43:02.358Z"
   },
   {
    "duration": 2012,
    "start_time": "2023-06-23T10:50:55.315Z"
   },
   {
    "duration": 2151,
    "start_time": "2023-06-23T10:50:57.330Z"
   },
   {
    "duration": 2090,
    "start_time": "2023-06-23T10:50:59.483Z"
   },
   {
    "duration": 3372,
    "start_time": "2023-06-23T10:51:01.575Z"
   },
   {
    "duration": 3,
    "start_time": "2023-06-23T10:51:04.949Z"
   },
   {
    "duration": 105,
    "start_time": "2023-06-23T10:51:04.955Z"
   },
   {
    "duration": 60,
    "start_time": "2023-06-23T10:51:05.062Z"
   },
   {
    "duration": 60,
    "start_time": "2023-06-23T10:51:05.123Z"
   },
   {
    "duration": 73,
    "start_time": "2023-06-23T10:51:05.185Z"
   },
   {
    "duration": 27,
    "start_time": "2023-06-23T10:51:05.259Z"
   },
   {
    "duration": 27,
    "start_time": "2023-06-23T10:51:05.287Z"
   },
   {
    "duration": 118,
    "start_time": "2023-06-23T10:51:05.315Z"
   },
   {
    "duration": 22,
    "start_time": "2023-06-23T10:51:05.434Z"
   },
   {
    "duration": 9,
    "start_time": "2023-06-23T10:51:05.459Z"
   },
   {
    "duration": 14,
    "start_time": "2023-06-23T10:51:05.470Z"
   },
   {
    "duration": 17,
    "start_time": "2023-06-23T10:51:05.486Z"
   },
   {
    "duration": 13,
    "start_time": "2023-06-23T10:51:05.505Z"
   },
   {
    "duration": 54,
    "start_time": "2023-06-23T10:51:05.520Z"
   },
   {
    "duration": 9,
    "start_time": "2023-06-23T10:51:05.576Z"
   },
   {
    "duration": 43,
    "start_time": "2023-06-23T10:51:05.587Z"
   },
   {
    "duration": 24,
    "start_time": "2023-06-23T10:51:05.632Z"
   },
   {
    "duration": 99,
    "start_time": "2023-06-23T10:51:05.658Z"
   },
   {
    "duration": 70,
    "start_time": "2023-06-23T10:51:05.759Z"
   },
   {
    "duration": 2217,
    "start_time": "2023-06-23T10:51:05.831Z"
   },
   {
    "duration": 1422,
    "start_time": "2023-06-23T10:51:08.050Z"
   },
   {
    "duration": 11,
    "start_time": "2023-06-23T10:51:09.474Z"
   },
   {
    "duration": 27,
    "start_time": "2023-06-23T10:51:09.487Z"
   },
   {
    "duration": 41,
    "start_time": "2023-06-23T10:51:09.516Z"
   },
   {
    "duration": 3404,
    "start_time": "2023-06-23T10:51:09.559Z"
   },
   {
    "duration": 38941,
    "start_time": "2023-06-23T10:51:12.964Z"
   },
   {
    "duration": 14453,
    "start_time": "2023-06-23T10:51:51.907Z"
   },
   {
    "duration": 151143,
    "start_time": "2023-06-23T10:52:06.362Z"
   },
   {
    "duration": 0,
    "start_time": "2023-06-23T10:54:37.506Z"
   },
   {
    "duration": 0,
    "start_time": "2023-06-23T10:54:37.508Z"
   },
   {
    "duration": 0,
    "start_time": "2023-06-23T10:54:37.509Z"
   },
   {
    "duration": 0,
    "start_time": "2023-06-23T10:54:37.510Z"
   },
   {
    "duration": 0,
    "start_time": "2023-06-23T10:54:37.511Z"
   },
   {
    "duration": 0,
    "start_time": "2023-06-23T10:54:37.512Z"
   },
   {
    "duration": 2179,
    "start_time": "2023-06-23T11:02:31.256Z"
   },
   {
    "duration": 2107,
    "start_time": "2023-06-23T11:02:33.438Z"
   },
   {
    "duration": 2108,
    "start_time": "2023-06-23T11:02:35.547Z"
   },
   {
    "duration": 3489,
    "start_time": "2023-06-23T11:02:37.657Z"
   },
   {
    "duration": 4,
    "start_time": "2023-06-23T11:02:41.148Z"
   },
   {
    "duration": 114,
    "start_time": "2023-06-23T11:02:41.157Z"
   },
   {
    "duration": 59,
    "start_time": "2023-06-23T11:02:41.273Z"
   },
   {
    "duration": 46,
    "start_time": "2023-06-23T11:02:41.333Z"
   },
   {
    "duration": 43,
    "start_time": "2023-06-23T11:02:41.381Z"
   },
   {
    "duration": 50,
    "start_time": "2023-06-23T11:02:41.426Z"
   },
   {
    "duration": 26,
    "start_time": "2023-06-23T11:02:41.478Z"
   },
   {
    "duration": 116,
    "start_time": "2023-06-23T11:02:41.506Z"
   },
   {
    "duration": 11,
    "start_time": "2023-06-23T11:02:41.623Z"
   },
   {
    "duration": 21,
    "start_time": "2023-06-23T11:02:41.637Z"
   },
   {
    "duration": 26,
    "start_time": "2023-06-23T11:02:41.659Z"
   },
   {
    "duration": 29,
    "start_time": "2023-06-23T11:02:41.686Z"
   },
   {
    "duration": 14,
    "start_time": "2023-06-23T11:02:41.717Z"
   },
   {
    "duration": 38,
    "start_time": "2023-06-23T11:02:41.733Z"
   },
   {
    "duration": 9,
    "start_time": "2023-06-23T11:02:41.773Z"
   },
   {
    "duration": 37,
    "start_time": "2023-06-23T11:02:41.784Z"
   },
   {
    "duration": 11,
    "start_time": "2023-06-23T11:02:41.824Z"
   },
   {
    "duration": 98,
    "start_time": "2023-06-23T11:02:41.837Z"
   },
   {
    "duration": 89,
    "start_time": "2023-06-23T11:02:41.937Z"
   },
   {
    "duration": 2232,
    "start_time": "2023-06-23T11:02:42.028Z"
   },
   {
    "duration": 1370,
    "start_time": "2023-06-23T11:02:44.262Z"
   },
   {
    "duration": 23,
    "start_time": "2023-06-23T11:02:45.634Z"
   },
   {
    "duration": 22,
    "start_time": "2023-06-23T11:02:45.659Z"
   },
   {
    "duration": 58,
    "start_time": "2023-06-23T11:02:45.683Z"
   },
   {
    "duration": 3561,
    "start_time": "2023-06-23T11:02:45.743Z"
   },
   {
    "duration": 39931,
    "start_time": "2023-06-23T11:02:49.306Z"
   },
   {
    "duration": 16725,
    "start_time": "2023-06-23T11:03:29.240Z"
   },
   {
    "duration": 2133,
    "start_time": "2023-06-23T11:12:27.406Z"
   },
   {
    "duration": 2122,
    "start_time": "2023-06-23T11:12:29.541Z"
   },
   {
    "duration": 2101,
    "start_time": "2023-06-23T11:12:31.665Z"
   },
   {
    "duration": 3287,
    "start_time": "2023-06-23T11:12:33.769Z"
   },
   {
    "duration": 3,
    "start_time": "2023-06-23T11:12:37.059Z"
   },
   {
    "duration": 111,
    "start_time": "2023-06-23T11:12:37.063Z"
   },
   {
    "duration": 61,
    "start_time": "2023-06-23T11:12:37.176Z"
   },
   {
    "duration": 42,
    "start_time": "2023-06-23T11:12:37.239Z"
   },
   {
    "duration": 40,
    "start_time": "2023-06-23T11:12:37.283Z"
   },
   {
    "duration": 50,
    "start_time": "2023-06-23T11:12:37.325Z"
   },
   {
    "duration": 32,
    "start_time": "2023-06-23T11:12:37.377Z"
   },
   {
    "duration": 115,
    "start_time": "2023-06-23T11:12:37.411Z"
   },
   {
    "duration": 9,
    "start_time": "2023-06-23T11:12:37.527Z"
   },
   {
    "duration": 6,
    "start_time": "2023-06-23T11:12:37.558Z"
   },
   {
    "duration": 15,
    "start_time": "2023-06-23T11:12:37.566Z"
   },
   {
    "duration": 14,
    "start_time": "2023-06-23T11:12:37.583Z"
   },
   {
    "duration": 16,
    "start_time": "2023-06-23T11:12:37.599Z"
   },
   {
    "duration": 58,
    "start_time": "2023-06-23T11:12:37.617Z"
   },
   {
    "duration": 11,
    "start_time": "2023-06-23T11:12:37.677Z"
   },
   {
    "duration": 40,
    "start_time": "2023-06-23T11:12:37.690Z"
   },
   {
    "duration": 27,
    "start_time": "2023-06-23T11:12:37.732Z"
   },
   {
    "duration": 80,
    "start_time": "2023-06-23T11:12:37.761Z"
   },
   {
    "duration": 77,
    "start_time": "2023-06-23T11:12:37.843Z"
   },
   {
    "duration": 2274,
    "start_time": "2023-06-23T11:12:37.922Z"
   },
   {
    "duration": 1341,
    "start_time": "2023-06-23T11:12:40.198Z"
   },
   {
    "duration": 15,
    "start_time": "2023-06-23T11:12:41.541Z"
   },
   {
    "duration": 7,
    "start_time": "2023-06-23T11:12:41.558Z"
   },
   {
    "duration": 39,
    "start_time": "2023-06-23T11:12:41.567Z"
   },
   {
    "duration": 3462,
    "start_time": "2023-06-23T11:12:41.607Z"
   },
   {
    "duration": 39629,
    "start_time": "2023-06-23T11:12:45.071Z"
   },
   {
    "duration": 14463,
    "start_time": "2023-06-23T11:13:24.702Z"
   },
   {
    "duration": 2192,
    "start_time": "2023-06-23T11:16:23.451Z"
   },
   {
    "duration": 2317,
    "start_time": "2023-06-23T11:16:25.646Z"
   },
   {
    "duration": 2396,
    "start_time": "2023-06-23T11:16:27.965Z"
   },
   {
    "duration": 3593,
    "start_time": "2023-06-23T11:16:30.363Z"
   },
   {
    "duration": 3,
    "start_time": "2023-06-23T11:16:33.958Z"
   },
   {
    "duration": 114,
    "start_time": "2023-06-23T11:16:33.963Z"
   },
   {
    "duration": 63,
    "start_time": "2023-06-23T11:16:34.079Z"
   },
   {
    "duration": 55,
    "start_time": "2023-06-23T11:16:34.144Z"
   },
   {
    "duration": 68,
    "start_time": "2023-06-23T11:16:34.200Z"
   },
   {
    "duration": 29,
    "start_time": "2023-06-23T11:16:34.271Z"
   },
   {
    "duration": 28,
    "start_time": "2023-06-23T11:16:34.302Z"
   },
   {
    "duration": 132,
    "start_time": "2023-06-23T11:16:34.332Z"
   },
   {
    "duration": 10,
    "start_time": "2023-06-23T11:16:34.466Z"
   },
   {
    "duration": 9,
    "start_time": "2023-06-23T11:16:34.477Z"
   },
   {
    "duration": 9,
    "start_time": "2023-06-23T11:16:34.488Z"
   },
   {
    "duration": 16,
    "start_time": "2023-06-23T11:16:34.498Z"
   },
   {
    "duration": 14,
    "start_time": "2023-06-23T11:16:34.517Z"
   },
   {
    "duration": 40,
    "start_time": "2023-06-23T11:16:34.557Z"
   },
   {
    "duration": 10,
    "start_time": "2023-06-23T11:16:34.599Z"
   },
   {
    "duration": 58,
    "start_time": "2023-06-23T11:16:34.610Z"
   },
   {
    "duration": 7,
    "start_time": "2023-06-23T11:16:34.670Z"
   },
   {
    "duration": 112,
    "start_time": "2023-06-23T11:16:34.679Z"
   },
   {
    "duration": 91,
    "start_time": "2023-06-23T11:16:34.793Z"
   },
   {
    "duration": 2170,
    "start_time": "2023-06-23T11:16:34.886Z"
   },
   {
    "duration": 1401,
    "start_time": "2023-06-23T11:16:37.058Z"
   },
   {
    "duration": 11,
    "start_time": "2023-06-23T11:16:38.461Z"
   },
   {
    "duration": 12,
    "start_time": "2023-06-23T11:16:38.473Z"
   },
   {
    "duration": 42,
    "start_time": "2023-06-23T11:16:38.489Z"
   },
   {
    "duration": 3449,
    "start_time": "2023-06-23T11:16:38.533Z"
   },
   {
    "duration": 39614,
    "start_time": "2023-06-23T11:16:41.984Z"
   },
   {
    "duration": 13162,
    "start_time": "2023-06-23T11:17:21.600Z"
   },
   {
    "duration": 2278,
    "start_time": "2023-06-23T11:22:58.467Z"
   },
   {
    "duration": 2125,
    "start_time": "2023-06-23T11:23:00.747Z"
   },
   {
    "duration": 2144,
    "start_time": "2023-06-23T11:23:02.874Z"
   },
   {
    "duration": 3300,
    "start_time": "2023-06-23T11:23:05.021Z"
   },
   {
    "duration": 4,
    "start_time": "2023-06-23T11:23:08.323Z"
   },
   {
    "duration": 113,
    "start_time": "2023-06-23T11:23:08.328Z"
   },
   {
    "duration": 65,
    "start_time": "2023-06-23T11:23:08.444Z"
   },
   {
    "duration": 71,
    "start_time": "2023-06-23T11:23:08.511Z"
   },
   {
    "duration": 52,
    "start_time": "2023-06-23T11:23:08.584Z"
   },
   {
    "duration": 41,
    "start_time": "2023-06-23T11:23:08.639Z"
   },
   {
    "duration": 25,
    "start_time": "2023-06-23T11:23:08.681Z"
   },
   {
    "duration": 132,
    "start_time": "2023-06-23T11:23:08.709Z"
   },
   {
    "duration": 24,
    "start_time": "2023-06-23T11:23:08.843Z"
   },
   {
    "duration": 7,
    "start_time": "2023-06-23T11:23:08.869Z"
   },
   {
    "duration": 8,
    "start_time": "2023-06-23T11:23:08.878Z"
   },
   {
    "duration": 17,
    "start_time": "2023-06-23T11:23:08.888Z"
   },
   {
    "duration": 52,
    "start_time": "2023-06-23T11:23:08.907Z"
   },
   {
    "duration": 60,
    "start_time": "2023-06-23T11:23:08.962Z"
   },
   {
    "duration": 33,
    "start_time": "2023-06-23T11:23:09.025Z"
   },
   {
    "duration": 53,
    "start_time": "2023-06-23T11:23:09.061Z"
   },
   {
    "duration": 7,
    "start_time": "2023-06-23T11:23:09.116Z"
   },
   {
    "duration": 117,
    "start_time": "2023-06-23T11:23:09.124Z"
   },
   {
    "duration": 74,
    "start_time": "2023-06-23T11:23:09.256Z"
   },
   {
    "duration": 2264,
    "start_time": "2023-06-23T11:23:09.331Z"
   },
   {
    "duration": 1353,
    "start_time": "2023-06-23T11:23:11.597Z"
   },
   {
    "duration": 12,
    "start_time": "2023-06-23T11:23:12.955Z"
   },
   {
    "duration": 35,
    "start_time": "2023-06-23T11:23:12.969Z"
   },
   {
    "duration": 46,
    "start_time": "2023-06-23T11:23:13.008Z"
   },
   {
    "duration": 3606,
    "start_time": "2023-06-23T11:23:13.055Z"
   },
   {
    "duration": 40677,
    "start_time": "2023-06-23T11:23:16.663Z"
   },
   {
    "duration": 13117,
    "start_time": "2023-06-23T11:23:57.342Z"
   },
   {
    "duration": 252181,
    "start_time": "2023-06-23T11:24:10.462Z"
   },
   {
    "duration": 18,
    "start_time": "2023-06-23T11:28:22.645Z"
   },
   {
    "duration": 11053,
    "start_time": "2023-06-23T11:28:22.664Z"
   },
   {
    "duration": 7,
    "start_time": "2023-06-23T11:28:33.719Z"
   },
   {
    "duration": 198,
    "start_time": "2023-06-23T11:28:33.728Z"
   },
   {
    "duration": 6,
    "start_time": "2023-06-23T11:28:33.928Z"
   },
   {
    "duration": 18965,
    "start_time": "2023-06-23T11:28:33.936Z"
   },
   {
    "duration": 277,
    "start_time": "2023-06-23T11:30:14.648Z"
   },
   {
    "duration": 2708,
    "start_time": "2023-06-23T11:31:13.458Z"
   },
   {
    "duration": 10,
    "start_time": "2023-06-23T11:31:24.569Z"
   },
   {
    "duration": 155,
    "start_time": "2023-06-23T11:31:27.202Z"
   },
   {
    "duration": 6,
    "start_time": "2023-06-23T11:31:31.315Z"
   },
   {
    "duration": 182,
    "start_time": "2023-06-23T11:31:35.787Z"
   }
  ],
  "kernelspec": {
   "display_name": "Python 3 (ipykernel)",
   "language": "python",
   "name": "python3"
  },
  "language_info": {
   "codemirror_mode": {
    "name": "ipython",
    "version": 3
   },
   "file_extension": ".py",
   "mimetype": "text/x-python",
   "name": "python",
   "nbconvert_exporter": "python",
   "pygments_lexer": "ipython3",
   "version": "3.9.13"
  },
  "toc": {
   "base_numbering": 1,
   "nav_menu": {},
   "number_sections": true,
   "sideBar": true,
   "skip_h1_title": true,
   "title_cell": "Table of Contents",
   "title_sidebar": "Contents",
   "toc_cell": false,
   "toc_position": {},
   "toc_section_display": true,
   "toc_window_display": false
  }
 },
 "nbformat": 4,
 "nbformat_minor": 2
}
