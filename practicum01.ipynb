{
 "cells": [
  {
   "cell_type": "markdown",
   "metadata": {},
   "source": [
    "# Исследование объявлений о продаже квартир\n",
    "\n",
    "В вашем распоряжении данные сервиса Яндекс.Недвижимость — архив объявлений о продаже квартир в Санкт-Петербурге и соседних населённых пунктов за несколько лет. Нужно научиться определять рыночную стоимость объектов недвижимости. Ваша задача — установить параметры. Это позволит построить автоматизированную систему: она отследит аномалии и мошенническую деятельность. \n",
    "\n",
    "По каждой квартире на продажу доступны два вида данных. Первые вписаны пользователем, вторые — получены автоматически на основе картографических данных. Например, расстояние до центра, аэропорта, ближайшего парка и водоёма. "
   ]
  },
  {
   "cell_type": "markdown",
   "metadata": {},
   "source": [
    "## Первичный осмотр"
   ]
  },
  {
   "cell_type": "code",
   "execution_count": 1,
   "metadata": {},
   "outputs": [],
   "source": [
    "import pandas as pd\n",
    "import matplotlib.pyplot as plt"
   ]
  },
  {
   "cell_type": "code",
   "execution_count": 2,
   "metadata": {},
   "outputs": [],
   "source": [
    "data = pd.read_csv('/datasets/real_estate_data.csv',sep='\\t')"
   ]
  },
  {
   "cell_type": "code",
   "execution_count": 3,
   "metadata": {},
   "outputs": [
    {
     "name": "stdout",
     "output_type": "stream",
     "text": [
      "    total_images  last_price  total_area first_day_exposition  rooms  \\\n",
      "0             20  13000000.0      108.00  2019-03-07T00:00:00      3   \n",
      "1              7   3350000.0       40.40  2018-12-04T00:00:00      1   \n",
      "2             10   5196000.0       56.00  2015-08-20T00:00:00      2   \n",
      "3              0  64900000.0      159.00  2015-07-24T00:00:00      3   \n",
      "4              2  10000000.0      100.00  2018-06-19T00:00:00      2   \n",
      "5             10   2890000.0       30.40  2018-09-10T00:00:00      1   \n",
      "6              6   3700000.0       37.30  2017-11-02T00:00:00      1   \n",
      "7              5   7915000.0       71.60  2019-04-18T00:00:00      2   \n",
      "8             20   2900000.0       33.16  2018-05-23T00:00:00      1   \n",
      "9             18   5400000.0       61.00  2017-02-26T00:00:00      3   \n",
      "10             5   5050000.0       39.60  2017-11-16T00:00:00      1   \n",
      "11             9   3300000.0       44.00  2018-08-27T00:00:00      2   \n",
      "12            10   3890000.0       54.00  2016-06-30T00:00:00      2   \n",
      "13            20   3550000.0       42.80  2017-07-01T00:00:00      2   \n",
      "14             1   4400000.0       36.00  2016-06-23T00:00:00      1   \n",
      "15            16   4650000.0       39.00  2017-11-18T00:00:00      1   \n",
      "16            11   6700000.0       82.00  2017-11-23T00:00:00      3   \n",
      "17             6   4180000.0       36.00  2016-09-09T00:00:00      1   \n",
      "18             8   3250000.0       31.00  2017-01-27T00:00:00      1   \n",
      "19            16  14200000.0      121.00  2019-01-09T00:00:00      3   \n",
      "20            12   6120000.0       80.00  2017-09-28T00:00:00      3   \n",
      "21            13   3200000.0       31.60  2018-03-14T00:00:00      1   \n",
      "22            20   5000000.0       58.00  2017-04-24T00:00:00      2   \n",
      "23            11   2950000.0       32.00  2016-10-29T00:00:00      1   \n",
      "24             8   6500000.0       97.20  2015-10-31T00:00:00      2   \n",
      "25             3   6800000.0       76.00  2015-10-01T00:00:00      2   \n",
      "26             6   4050000.0       60.00  2017-04-28T00:00:00      4   \n",
      "27            20   7100000.0       70.00  2017-05-12T00:00:00      3   \n",
      "28             8   4170000.0       44.00  2017-12-13T00:00:00      1   \n",
      "29             9   8600000.0      100.00  2016-04-09T00:00:00      3   \n",
      "30            12   2200000.0       32.80  2018-02-19T00:00:00      1   \n",
      "31             8   7200000.0       67.90  2017-10-26T00:00:00      2   \n",
      "32             7   4990000.0       60.00  2016-05-22T00:00:00      3   \n",
      "33             8   4800000.0       73.00  2018-10-15T00:00:00      4   \n",
      "34             3   3290000.0       33.00  2018-02-04T00:00:00      1   \n",
      "35             6  15500000.0      149.00  2017-06-26T00:00:00      5   \n",
      "36            13   3790000.0       45.00  2017-01-25T00:00:00      2   \n",
      "37            10   1990000.0       45.80  2017-10-28T00:00:00      2   \n",
      "38            10   3150000.0       40.00  2018-03-29T00:00:00      1   \n",
      "39            15   5200000.0       54.40  2018-11-29T00:00:00      2   \n",
      "40             9   3590000.0       36.00  2017-03-15T00:00:00      1   \n",
      "41            16   7900000.0       74.00  2016-05-04T00:00:00      3   \n",
      "42            13  22000000.0      161.80  2015-07-08T00:00:00      4   \n",
      "43            13   9330000.0       48.00  2017-01-10T00:00:00      2   \n",
      "44            13   5350000.0       40.00  2018-11-18T00:00:00      1   \n",
      "45            17   5200000.0       50.60  2018-12-02T00:00:00      2   \n",
      "46            17   6600000.0       52.10  2019-01-31T00:00:00      2   \n",
      "47            17   3600000.0       56.10  2018-10-18T00:00:00      3   \n",
      "48            10   3600000.0       33.83  2017-10-03T00:00:00      1   \n",
      "49             1   3050000.0       30.80  2018-11-22T00:00:00      1   \n",
      "50             1   4500000.0       48.20  2017-11-13T00:00:00      1   \n",
      "51             7  45000000.0      161.00  2017-10-17T00:00:00      3   \n",
      "52            20  11795000.0      136.00  2017-09-22T00:00:00      6   \n",
      "53             7   4300000.0       39.10  2017-11-10T00:00:00      1   \n",
      "54             6   3320000.0       36.50  2017-04-14T00:00:00      1   \n",
      "55            20   7400000.0       58.80  2018-03-24T00:00:00      2   \n",
      "56            14   4350000.0       41.00  2016-03-28T00:00:00      1   \n",
      "57             7   3200000.0       45.00  2017-10-25T00:00:00      1   \n",
      "58            11   3900000.0       33.00  2017-07-05T00:00:00      1   \n",
      "59            15   6300000.0       46.50  2017-03-06T00:00:00      1   \n",
      "\n",
      "    ceiling_height  floors_total  living_area  floor is_apartment  ...  \\\n",
      "0             2.70          16.0        51.00      8          NaN  ...   \n",
      "1              NaN          11.0        18.60      1          NaN  ...   \n",
      "2              NaN           5.0        34.30      4          NaN  ...   \n",
      "3              NaN          14.0          NaN      9          NaN  ...   \n",
      "4             3.03          14.0        32.00     13          NaN  ...   \n",
      "5              NaN          12.0        14.40      5          NaN  ...   \n",
      "6              NaN          26.0        10.60      6          NaN  ...   \n",
      "7              NaN          24.0          NaN     22          NaN  ...   \n",
      "8              NaN          27.0        15.43     26          NaN  ...   \n",
      "9             2.50           9.0        43.60      7          NaN  ...   \n",
      "10            2.67          12.0        20.30      3          NaN  ...   \n",
      "11             NaN           5.0        31.00      4        False  ...   \n",
      "12             NaN           5.0        30.00      5          NaN  ...   \n",
      "13            2.56           5.0        27.00      5          NaN  ...   \n",
      "14             NaN           6.0        17.00      1          NaN  ...   \n",
      "15             NaN          14.0        20.50      5          NaN  ...   \n",
      "16            3.05           5.0        55.60      1          NaN  ...   \n",
      "17             NaN          17.0        16.50      7          NaN  ...   \n",
      "18            2.50           5.0        19.40      2          NaN  ...   \n",
      "19            2.75          16.0        76.00      8          NaN  ...   \n",
      "20            2.70          27.0        48.00     11          NaN  ...   \n",
      "21             NaN           5.0        16.90      2          NaN  ...   \n",
      "22            2.75          25.0        30.00     15          NaN  ...   \n",
      "23            2.60           9.0        17.70      9          NaN  ...   \n",
      "24             NaN           3.0        46.50      1          NaN  ...   \n",
      "25            2.75          23.0        39.00     18        False  ...   \n",
      "26             NaN           5.0        43.00      4          NaN  ...   \n",
      "27            2.60          17.0        49.00     11          NaN  ...   \n",
      "28            2.90           6.0        20.80      1          NaN  ...   \n",
      "29             NaN          19.0        52.00     15        False  ...   \n",
      "30             NaN           9.0          NaN      2          NaN  ...   \n",
      "31            2.80          16.0        38.10      4          NaN  ...   \n",
      "32             NaN           5.0        39.00      4          NaN  ...   \n",
      "33             NaN           9.0        51.60      5          NaN  ...   \n",
      "34            2.55          16.0        14.00      3          NaN  ...   \n",
      "35             NaN           5.0       104.00      4          NaN  ...   \n",
      "36             NaN           9.0        27.00      9        False  ...   \n",
      "37            2.50           5.0          NaN      1          NaN  ...   \n",
      "38            2.75          18.0        16.30      9          NaN  ...   \n",
      "39            2.75           9.0        29.70      2          NaN  ...   \n",
      "40            2.60          26.0        15.00     22          NaN  ...   \n",
      "41             NaN          14.0        59.00      8        False  ...   \n",
      "42            2.80           4.0        80.90      2        False  ...   \n",
      "43            3.00           4.0        28.00      4          NaN  ...   \n",
      "44             NaN          22.0          NaN      3          NaN  ...   \n",
      "45            2.65           9.0        30.30      7          NaN  ...   \n",
      "46            2.60          24.0        29.70      9          NaN  ...   \n",
      "47             NaN           4.0        42.50      3          NaN  ...   \n",
      "48             NaN          24.0        15.35      6          NaN  ...   \n",
      "49            2.50           9.0        18.00      7          NaN  ...   \n",
      "50            2.70           5.0        25.40      4        False  ...   \n",
      "51            3.20           8.0        38.00      4          NaN  ...   \n",
      "52            3.00           2.0        94.00      2          NaN  ...   \n",
      "53             NaN          25.0        15.40     13          NaN  ...   \n",
      "54             NaN          24.0        14.00      6          NaN  ...   \n",
      "55            2.60          10.0        33.70      9          NaN  ...   \n",
      "56            2.80           7.0        18.10      4        False  ...   \n",
      "57             NaN          25.0        17.00     10          NaN  ...   \n",
      "58            2.60           9.0        19.00      5          NaN  ...   \n",
      "59             NaN          13.0          NaN     13          NaN  ...   \n",
      "\n",
      "    kitchen_area  balcony                        locality_name  \\\n",
      "0          25.00      NaN                      Санкт-Петербург   \n",
      "1          11.00      2.0                       посёлок Шушары   \n",
      "2           8.30      0.0                      Санкт-Петербург   \n",
      "3            NaN      0.0                      Санкт-Петербург   \n",
      "4          41.00      NaN                      Санкт-Петербург   \n",
      "5           9.10      NaN            городской посёлок Янино-1   \n",
      "6          14.40      1.0                    посёлок Парголово   \n",
      "7          18.90      2.0                      Санкт-Петербург   \n",
      "8           8.81      NaN                       посёлок Мурино   \n",
      "9           6.50      2.0                      Санкт-Петербург   \n",
      "10          8.50      NaN                      Санкт-Петербург   \n",
      "11          6.00      1.0                            Ломоносов   \n",
      "12          9.00      0.0                            Сертолово   \n",
      "13          5.20      1.0                             Петергоф   \n",
      "14          8.00      0.0                               Пушкин   \n",
      "15          7.60      1.0                      Санкт-Петербург   \n",
      "16          9.00      NaN                      Санкт-Петербург   \n",
      "17         11.00      1.0                      Санкт-Петербург   \n",
      "18          5.60      1.0                      Санкт-Петербург   \n",
      "19         12.00      NaN                      Санкт-Петербург   \n",
      "20         12.00      2.0                    посёлок Парголово   \n",
      "21          5.70      1.0                      Санкт-Петербург   \n",
      "22         11.00      2.0                      деревня Кудрово   \n",
      "23          6.10      NaN                      Санкт-Петербург   \n",
      "24         19.60      0.0                      Санкт-Петербург   \n",
      "25         15.00      2.0                      Санкт-Петербург   \n",
      "26          7.00      NaN                      Санкт-Петербург   \n",
      "27          9.20      0.0                      Санкт-Петербург   \n",
      "28         11.70      1.0                               Пушкин   \n",
      "29         11.00      0.0                      Санкт-Петербург   \n",
      "30           NaN      NaN                             Коммунар   \n",
      "31         13.40      2.0                      Санкт-Петербург   \n",
      "32          6.00      0.0                      Санкт-Петербург   \n",
      "33          6.50      NaN                              Колпино   \n",
      "34          8.00      NaN                      Санкт-Петербург   \n",
      "35         17.00      NaN                      Санкт-Петербург   \n",
      "36          6.30      2.0                      Санкт-Петербург   \n",
      "37           NaN      NaN  поселок городского типа Красный Бор   \n",
      "38         11.60      NaN                       посёлок Мурино   \n",
      "39          8.80      2.0                      Санкт-Петербург   \n",
      "40         10.00      2.0                    посёлок Парголово   \n",
      "41         12.00      5.0                      Санкт-Петербург   \n",
      "42         17.60      5.0                             Петергоф   \n",
      "43          7.50      NaN                      Санкт-Петербург   \n",
      "44           NaN      1.0                      Санкт-Петербург   \n",
      "45          7.00      NaN                      Санкт-Петербург   \n",
      "46          8.30      2.0                      Санкт-Петербург   \n",
      "47          5.70      1.0                              Гатчина   \n",
      "48          9.50      NaN                      Санкт-Петербург   \n",
      "49          6.00      NaN                      Санкт-Петербург   \n",
      "50          9.00      1.0                               Пушкин   \n",
      "51         50.00      NaN                      Санкт-Петербург   \n",
      "52         11.00      1.0                      Санкт-Петербург   \n",
      "53         15.50      2.0                    посёлок Парголово   \n",
      "54         12.00      0.0                      Санкт-Петербург   \n",
      "55         10.70      NaN                      Санкт-Петербург   \n",
      "56         11.10      2.0                      Санкт-Петербург   \n",
      "57         12.00      NaN                       посёлок Шушары   \n",
      "58          7.00      NaN                      Санкт-Петербург   \n",
      "59           NaN      NaN                      Санкт-Петербург   \n",
      "\n",
      "    airports_nearest cityCenters_nearest  parks_around3000  parks_nearest  \\\n",
      "0            18863.0             16028.0               1.0          482.0   \n",
      "1            12817.0             18603.0               0.0            NaN   \n",
      "2            21741.0             13933.0               1.0           90.0   \n",
      "3            28098.0              6800.0               2.0           84.0   \n",
      "4            31856.0              8098.0               2.0          112.0   \n",
      "5                NaN                 NaN               NaN            NaN   \n",
      "6            52996.0             19143.0               0.0            NaN   \n",
      "7            23982.0             11634.0               0.0            NaN   \n",
      "8                NaN                 NaN               NaN            NaN   \n",
      "9            50898.0             15008.0               0.0            NaN   \n",
      "10           38357.0             13878.0               1.0          310.0   \n",
      "11           48252.0             51677.0               0.0            NaN   \n",
      "12               NaN                 NaN               NaN            NaN   \n",
      "13           37868.0             33058.0               1.0          294.0   \n",
      "14           20782.0             30759.0               0.0            NaN   \n",
      "15           12900.0             14259.0               1.0          590.0   \n",
      "16           22108.0             10698.0               3.0          420.0   \n",
      "17           33564.0             14616.0               0.0            NaN   \n",
      "18           44060.0             10842.0               1.0          759.0   \n",
      "19           38900.0             12843.0               0.0            NaN   \n",
      "20           53134.0             19311.0               0.0            NaN   \n",
      "21           36064.0              9722.0               1.0          248.0   \n",
      "22               NaN                 NaN               NaN            NaN   \n",
      "23           15414.0             14211.0               2.0          517.0   \n",
      "24           20052.0              2336.0               3.0          411.0   \n",
      "25           34967.0             14640.0               0.0            NaN   \n",
      "26           11580.0             10510.0               0.0            NaN   \n",
      "27           29197.0             11456.0               2.0          452.0   \n",
      "28           18557.0             30710.0               0.0            NaN   \n",
      "29           30394.0             11526.0               1.0          532.0   \n",
      "30               NaN                 NaN               NaN            NaN   \n",
      "31           32888.0             12944.0               0.0            NaN   \n",
      "32           11349.0             12889.0               0.0            NaN   \n",
      "33           26535.0             32321.0               0.0            NaN   \n",
      "34           13943.0             12739.0               0.0            NaN   \n",
      "35           23670.0              3502.0               0.0            NaN   \n",
      "36           49574.0             16461.0               1.0          459.0   \n",
      "37               NaN                 NaN               NaN            NaN   \n",
      "38               NaN                 NaN               NaN            NaN   \n",
      "39           13413.0             12209.0               0.0            NaN   \n",
      "40           52996.0             19143.0               0.0            NaN   \n",
      "41           37715.0             12612.0               1.0          725.0   \n",
      "42           35416.0             30605.0               2.0           47.0   \n",
      "43           15016.0             10822.0               0.0            NaN   \n",
      "44           30471.0             11603.0               1.0          620.0   \n",
      "45           30011.0             12872.0               0.0            NaN   \n",
      "46           15114.0             12702.0               0.0            NaN   \n",
      "47               NaN                 NaN               NaN            NaN   \n",
      "48           21460.0             16788.0               0.0            NaN   \n",
      "49           45341.0             16603.0               1.0          675.0   \n",
      "50           19841.0             30183.0               1.0          531.0   \n",
      "51           32537.0              6589.0               0.0            NaN   \n",
      "52           16510.0              6582.0               1.0          526.0   \n",
      "53           52611.0             18783.0               0.0            NaN   \n",
      "54           33331.0             14495.0               0.0            NaN   \n",
      "55           10643.0             12260.0               0.0            NaN   \n",
      "56           13772.0              9626.0               1.0          271.0   \n",
      "57           13097.0             18883.0               0.0            NaN   \n",
      "58           12988.0             15579.0               0.0            NaN   \n",
      "59           11125.0             14501.0               0.0            NaN   \n",
      "\n",
      "    ponds_around3000  ponds_nearest  days_exposition  \n",
      "0                2.0          755.0              NaN  \n",
      "1                0.0            NaN             81.0  \n",
      "2                2.0          574.0            558.0  \n",
      "3                3.0          234.0            424.0  \n",
      "4                1.0           48.0            121.0  \n",
      "5                NaN            NaN             55.0  \n",
      "6                0.0            NaN            155.0  \n",
      "7                0.0            NaN              NaN  \n",
      "8                NaN            NaN            189.0  \n",
      "9                0.0            NaN            289.0  \n",
      "10               2.0          553.0            137.0  \n",
      "11               0.0            NaN              7.0  \n",
      "12               NaN            NaN             90.0  \n",
      "13               3.0          298.0            366.0  \n",
      "14               1.0           96.0            203.0  \n",
      "15               1.0          296.0             19.0  \n",
      "16               0.0            NaN            397.0  \n",
      "17               1.0          859.0            571.0  \n",
      "18               0.0            NaN            168.0  \n",
      "19               0.0            NaN             97.0  \n",
      "20               0.0            NaN             74.0  \n",
      "21               0.0            NaN            310.0  \n",
      "22               NaN            NaN             60.0  \n",
      "23               1.0          190.0            615.0  \n",
      "24               3.0          124.0            265.0  \n",
      "25               1.0          564.0            300.0  \n",
      "26               1.0           95.0            265.0  \n",
      "27               1.0          779.0            151.0  \n",
      "28               1.0          118.0             74.0  \n",
      "29               1.0          896.0            125.0  \n",
      "30               NaN            NaN             63.0  \n",
      "31               0.0            NaN            112.0  \n",
      "32               1.0          426.0            224.0  \n",
      "33               0.0            NaN             92.0  \n",
      "34               0.0            NaN             15.0  \n",
      "35               1.0          779.0            644.0  \n",
      "36               0.0            NaN            139.0  \n",
      "37               NaN            NaN            196.0  \n",
      "38               NaN            NaN            103.0  \n",
      "39               1.0         1175.0             29.0  \n",
      "40               0.0            NaN            430.0  \n",
      "41               1.0          759.0            179.0  \n",
      "42               1.0          907.0            987.0  \n",
      "43               1.0          492.0            763.0  \n",
      "44               1.0         1152.0              NaN  \n",
      "45               0.0            NaN              NaN  \n",
      "46               0.0            NaN              NaN  \n",
      "47               NaN            NaN            179.0  \n",
      "48               1.0          170.0            322.0  \n",
      "49               0.0            NaN              NaN  \n",
      "50               3.0          330.0            152.0  \n",
      "51               3.0           99.0            541.0  \n",
      "52               0.0            NaN              NaN  \n",
      "53               0.0            NaN              6.0  \n",
      "54               0.0            NaN             44.0  \n",
      "55               1.0          998.0             69.0  \n",
      "56               1.0          439.0            152.0  \n",
      "57               1.0          649.0            173.0  \n",
      "58               2.0          898.0            298.0  \n",
      "59               0.0            NaN            336.0  \n",
      "\n",
      "[60 rows x 22 columns]\n"
     ]
    }
   ],
   "source": [
    "print(data.head(60))"
   ]
  },
  {
   "cell_type": "code",
   "execution_count": 4,
   "metadata": {},
   "outputs": [
    {
     "name": "stdout",
     "output_type": "stream",
     "text": [
      "<class 'pandas.core.frame.DataFrame'>\n",
      "RangeIndex: 23699 entries, 0 to 23698\n",
      "Data columns (total 22 columns):\n",
      " #   Column                Non-Null Count  Dtype  \n",
      "---  ------                --------------  -----  \n",
      " 0   total_images          23699 non-null  int64  \n",
      " 1   last_price            23699 non-null  float64\n",
      " 2   total_area            23699 non-null  float64\n",
      " 3   first_day_exposition  23699 non-null  object \n",
      " 4   rooms                 23699 non-null  int64  \n",
      " 5   ceiling_height        14504 non-null  float64\n",
      " 6   floors_total          23613 non-null  float64\n",
      " 7   living_area           21796 non-null  float64\n",
      " 8   floor                 23699 non-null  int64  \n",
      " 9   is_apartment          2775 non-null   object \n",
      " 10  studio                23699 non-null  bool   \n",
      " 11  open_plan             23699 non-null  bool   \n",
      " 12  kitchen_area          21421 non-null  float64\n",
      " 13  balcony               12180 non-null  float64\n",
      " 14  locality_name         23650 non-null  object \n",
      " 15  airports_nearest      18157 non-null  float64\n",
      " 16  cityCenters_nearest   18180 non-null  float64\n",
      " 17  parks_around3000      18181 non-null  float64\n",
      " 18  parks_nearest         8079 non-null   float64\n",
      " 19  ponds_around3000      18181 non-null  float64\n",
      " 20  ponds_nearest         9110 non-null   float64\n",
      " 21  days_exposition       20518 non-null  float64\n",
      "dtypes: bool(2), float64(14), int64(3), object(3)\n",
      "memory usage: 3.7+ MB\n"
     ]
    }
   ],
   "source": [
    "data.info()"
   ]
  },
  {
   "cell_type": "code",
   "execution_count": 5,
   "metadata": {},
   "outputs": [
    {
     "data": {
      "text/plain": [
       "array([[<AxesSubplot:title={'center':'total_images'}>,\n",
       "        <AxesSubplot:title={'center':'last_price'}>,\n",
       "        <AxesSubplot:title={'center':'total_area'}>,\n",
       "        <AxesSubplot:title={'center':'rooms'}>],\n",
       "       [<AxesSubplot:title={'center':'ceiling_height'}>,\n",
       "        <AxesSubplot:title={'center':'floors_total'}>,\n",
       "        <AxesSubplot:title={'center':'living_area'}>,\n",
       "        <AxesSubplot:title={'center':'floor'}>],\n",
       "       [<AxesSubplot:title={'center':'kitchen_area'}>,\n",
       "        <AxesSubplot:title={'center':'balcony'}>,\n",
       "        <AxesSubplot:title={'center':'airports_nearest'}>,\n",
       "        <AxesSubplot:title={'center':'cityCenters_nearest'}>],\n",
       "       [<AxesSubplot:title={'center':'parks_around3000'}>,\n",
       "        <AxesSubplot:title={'center':'parks_nearest'}>,\n",
       "        <AxesSubplot:title={'center':'ponds_around3000'}>,\n",
       "        <AxesSubplot:title={'center':'ponds_nearest'}>],\n",
       "       [<AxesSubplot:title={'center':'days_exposition'}>, <AxesSubplot:>,\n",
       "        <AxesSubplot:>, <AxesSubplot:>]], dtype=object)"
      ]
     },
     "execution_count": 5,
     "metadata": {},
     "output_type": "execute_result"
    },
    {
     "data": {
      "image/png": "[encoded data removed]",
      "text/plain": [
       "<Figure size 1080x1440 with 20 Axes>"
      ]
     },
     "metadata": {
      "needs_background": "light"
     },
     "output_type": "display_data"
    }
   ],
   "source": [
    "data.hist(figsize=(15,20))"
   ]
  },
  {
   "cell_type": "markdown",
   "metadata": {},
   "source": [
    "## Предобработка данных"
   ]
  },
  {
   "cell_type": "markdown",
   "metadata": {},
   "source": [
    "Поиск пропущенных значений"
   ]
  },
  {
   "cell_type": "code",
   "execution_count": 6,
   "metadata": {},
   "outputs": [
    {
     "name": "stdout",
     "output_type": "stream",
     "text": [
      "total_images                0\n",
      "last_price                  0\n",
      "total_area                  0\n",
      "first_day_exposition        0\n",
      "rooms                       0\n",
      "ceiling_height           9195\n",
      "floors_total               86\n",
      "living_area              1903\n",
      "floor                       0\n",
      "is_apartment            20924\n",
      "studio                      0\n",
      "open_plan                   0\n",
      "kitchen_area             2278\n",
      "balcony                 11519\n",
      "locality_name              49\n",
      "airports_nearest         5542\n",
      "cityCenters_nearest      5519\n",
      "parks_around3000         5518\n",
      "parks_nearest           15620\n",
      "ponds_around3000         5518\n",
      "ponds_nearest           14589\n",
      "days_exposition          3181\n",
      "dtype: int64\n"
     ]
    }
   ],
   "source": [
    "print(data.isna().sum())"
   ]
  },
  {
   "cell_type": "markdown",
   "metadata": {},
   "source": [
    "Заполнение пропусков"
   ]
  },
  {
   "cell_type": "markdown",
   "metadata": {},
   "source": [
    "Пропуски в столбцах с высотой потолков и количеством этажей в доме я решил заполнить медианным значением\n",
    "Скорей всего эти пропуски вызваны тем, что их просто не указали в анкете на сайте объявлений"
   ]
  },
  {
   "cell_type": "code",
   "execution_count": 7,
   "metadata": {},
   "outputs": [],
   "source": [
    "data['ceiling_height'] = data['ceiling_height'].fillna(data['ceiling_height'].median())\n",
    "data['floors_total'] = data['floors_total'].fillna(data['floors_total'].median())"
   ]
  },
  {
   "cell_type": "markdown",
   "metadata": {},
   "source": [
    "Пропуски в столбце с жилплощадью я заполню медианной жилплощадью квартитр с таким же количестовом комнат"
   ]
  },
  {
   "cell_type": "code",
   "execution_count": 8,
   "metadata": {},
   "outputs": [],
   "source": [
    "for t in data['rooms'].unique():\n",
    "    data.loc[(data['rooms'] == t) & (data['living_area'].isna()), 'living_area'] = \\\n",
    "    data.loc[(data['rooms'] == t), 'living_area'].median()"
   ]
  },
  {
   "cell_type": "markdown",
   "metadata": {},
   "source": [
    "Далее, я взялся за столбец is_apartment, который должен отвечать на вопрос о том, является ли данная квартира - апартаментами?\n",
    "Но в этом столбце есть проблемма - пропусков слишком много"
   ]
  },
  {
   "cell_type": "code",
   "execution_count": 9,
   "metadata": {},
   "outputs": [
    {
     "name": "stdout",
     "output_type": "stream",
     "text": [
      "is_apartment\n",
      "False    2725\n",
      "True       50\n",
      "Name: is_apartment, dtype: int64\n",
      "20924\n"
     ]
    }
   ],
   "source": [
    "#пытаюсь разобраться со столбцом is_apartment\n",
    "print(data.groupby('is_apartment')['is_apartment'].count())\n",
    "print(data['is_apartment'].isna().sum())\n",
    "#Видимо, пропуски означают то, что квартиры не являються апартаментами\n",
    "data['is_apartment'] = data['is_apartment'].fillna(False)"
   ]
  },
  {
   "cell_type": "markdown",
   "metadata": {},
   "source": [
    "Пропуски в столбце с площадью кухни я заполню медианным значением "
   ]
  },
  {
   "cell_type": "code",
   "execution_count": 10,
   "metadata": {},
   "outputs": [],
   "source": [
    "data['kitchen_area'] = data['kitchen_area'].fillna(data['kitchen_area'].median())"
   ]
  },
  {
   "cell_type": "code",
   "execution_count": 11,
   "metadata": {},
   "outputs": [],
   "source": [
    "#пропуски в стобце balcony скорей всего были вызваны отсутсвием балкона\n",
    "data['balcony'] = data['balcony'].fillna(0.0)"
   ]
  },
  {
   "cell_type": "markdown",
   "metadata": {},
   "source": [
    "Пропуски в столбце с названием населённого пункта я заменю словом 'неизвестно'"
   ]
  },
  {
   "cell_type": "code",
   "execution_count": 12,
   "metadata": {},
   "outputs": [],
   "source": [
    "data['locality_name'] = data['locality_name'].fillna('неизвестно')"
   ]
  },
  {
   "cell_type": "markdown",
   "metadata": {},
   "source": [
    "Следующими по очереди идут 7 столбцов с пропусками которые я разделил на две группы:\n",
    "\n",
    "1)Столбцы, количество пропусков в которых не превышает 5500 или 25% от общего, которые я хочу заменить медианными значениями\n",
    "Там я обратил внимание на то, что такие пропуски часто встречаются в маленьких населённых пунктах, отчего напрашиваеться вывод что скорей всего в этом насёлённом пункте вообще нету центра города/аэропорта/парка/пруда\n",
    "\n",
    "2)Столбцы, количество пропусков в которых превышает 14000.\n",
    "Я бы хотел обратить внимание на вторую группу:\n",
    "эти два столбца отвечают за расстояние до близжайшего парка/пруда, и при изучении таблицы, я заметил, что у этих столбцов есть очевидная корреляция со столбцами с количеством парков/прудов в радиусе 3км.\n",
    "И если значение в столбце с количестов прудов/парков в радиусе равно нулю, то в столбце с расстоянием обязательно будет пропуск. Отсюда идёт вывод - если расстояние до близжайшего парка/пруда неизвестно, то это значит что он находиться слишком далеко\n",
    "\n",
    "Поэтому я сделал вывод о том, что пропуски там вполне уместны"
   ]
  },
  {
   "cell_type": "markdown",
   "metadata": {},
   "source": [
    "## Изменение типов данных"
   ]
  },
  {
   "cell_type": "markdown",
   "metadata": {},
   "source": [
    "Характер данных, указанных в столбце first_day_exposition явно указывает на то, что в нём должны находиться дата и время и он должен принадлежать к типу datetime"
   ]
  },
  {
   "cell_type": "code",
   "execution_count": 13,
   "metadata": {},
   "outputs": [
    {
     "name": "stdout",
     "output_type": "stream",
     "text": [
      "    total_images  last_price  total_area first_day_exposition  rooms  \\\n",
      "0             20  13000000.0      108.00           2019-03-07      3   \n",
      "1              7   3350000.0       40.40           2018-12-04      1   \n",
      "2             10   5196000.0       56.00           2015-08-20      2   \n",
      "3              0  64900000.0      159.00           2015-07-24      3   \n",
      "4              2  10000000.0      100.00           2018-06-19      2   \n",
      "5             10   2890000.0       30.40           2018-09-10      1   \n",
      "6              6   3700000.0       37.30           2017-11-02      1   \n",
      "7              5   7915000.0       71.60           2019-04-18      2   \n",
      "8             20   2900000.0       33.16           2018-05-23      1   \n",
      "9             18   5400000.0       61.00           2017-02-26      3   \n",
      "10             5   5050000.0       39.60           2017-11-16      1   \n",
      "11             9   3300000.0       44.00           2018-08-27      2   \n",
      "12            10   3890000.0       54.00           2016-06-30      2   \n",
      "13            20   3550000.0       42.80           2017-07-01      2   \n",
      "14             1   4400000.0       36.00           2016-06-23      1   \n",
      "15            16   4650000.0       39.00           2017-11-18      1   \n",
      "16            11   6700000.0       82.00           2017-11-23      3   \n",
      "17             6   4180000.0       36.00           2016-09-09      1   \n",
      "18             8   3250000.0       31.00           2017-01-27      1   \n",
      "19            16  14200000.0      121.00           2019-01-09      3   \n",
      "\n",
      "    ceiling_height  floors_total  living_area  floor  is_apartment  ...  \\\n",
      "0             2.70          16.0        51.00      8         False  ...   \n",
      "1             2.65          11.0        18.60      1         False  ...   \n",
      "2             2.65           5.0        34.30      4         False  ...   \n",
      "3             2.65          14.0        45.00      9         False  ...   \n",
      "4             3.03          14.0        32.00     13         False  ...   \n",
      "5             2.65          12.0        14.40      5         False  ...   \n",
      "6             2.65          26.0        10.60      6         False  ...   \n",
      "7             2.65          24.0        30.50     22         False  ...   \n",
      "8             2.65          27.0        15.43     26         False  ...   \n",
      "9             2.50           9.0        43.60      7         False  ...   \n",
      "10            2.67          12.0        20.30      3         False  ...   \n",
      "11            2.65           5.0        31.00      4         False  ...   \n",
      "12            2.65           5.0        30.00      5         False  ...   \n",
      "13            2.56           5.0        27.00      5         False  ...   \n",
      "14            2.65           6.0        17.00      1         False  ...   \n",
      "15            2.65          14.0        20.50      5         False  ...   \n",
      "16            3.05           5.0        55.60      1         False  ...   \n",
      "17            2.65          17.0        16.50      7         False  ...   \n",
      "18            2.50           5.0        19.40      2         False  ...   \n",
      "19            2.75          16.0        76.00      8         False  ...   \n",
      "\n",
      "    kitchen_area  balcony              locality_name  airports_nearest  \\\n",
      "0          25.00      0.0            Санкт-Петербург           18863.0   \n",
      "1          11.00      2.0             посёлок Шушары           12817.0   \n",
      "2           8.30      0.0            Санкт-Петербург           21741.0   \n",
      "3           9.10      0.0            Санкт-Петербург           28098.0   \n",
      "4          41.00      0.0            Санкт-Петербург           31856.0   \n",
      "5           9.10      0.0  городской посёлок Янино-1               NaN   \n",
      "6          14.40      1.0          посёлок Парголово           52996.0   \n",
      "7          18.90      2.0            Санкт-Петербург           23982.0   \n",
      "8           8.81      0.0             посёлок Мурино               NaN   \n",
      "9           6.50      2.0            Санкт-Петербург           50898.0   \n",
      "10          8.50      0.0            Санкт-Петербург           38357.0   \n",
      "11          6.00      1.0                  Ломоносов           48252.0   \n",
      "12          9.00      0.0                  Сертолово               NaN   \n",
      "13          5.20      1.0                   Петергоф           37868.0   \n",
      "14          8.00      0.0                     Пушкин           20782.0   \n",
      "15          7.60      1.0            Санкт-Петербург           12900.0   \n",
      "16          9.00      0.0            Санкт-Петербург           22108.0   \n",
      "17         11.00      1.0            Санкт-Петербург           33564.0   \n",
      "18          5.60      1.0            Санкт-Петербург           44060.0   \n",
      "19         12.00      0.0            Санкт-Петербург           38900.0   \n",
      "\n",
      "   cityCenters_nearest  parks_around3000  parks_nearest  ponds_around3000  \\\n",
      "0              16028.0               1.0          482.0               2.0   \n",
      "1              18603.0               0.0            NaN               0.0   \n",
      "2              13933.0               1.0           90.0               2.0   \n",
      "3               6800.0               2.0           84.0               3.0   \n",
      "4               8098.0               2.0          112.0               1.0   \n",
      "5                  NaN               NaN            NaN               NaN   \n",
      "6              19143.0               0.0            NaN               0.0   \n",
      "7              11634.0               0.0            NaN               0.0   \n",
      "8                  NaN               NaN            NaN               NaN   \n",
      "9              15008.0               0.0            NaN               0.0   \n",
      "10             13878.0               1.0          310.0               2.0   \n",
      "11             51677.0               0.0            NaN               0.0   \n",
      "12                 NaN               NaN            NaN               NaN   \n",
      "13             33058.0               1.0          294.0               3.0   \n",
      "14             30759.0               0.0            NaN               1.0   \n",
      "15             14259.0               1.0          590.0               1.0   \n",
      "16             10698.0               3.0          420.0               0.0   \n",
      "17             14616.0               0.0            NaN               1.0   \n",
      "18             10842.0               1.0          759.0               0.0   \n",
      "19             12843.0               0.0            NaN               0.0   \n",
      "\n",
      "    ponds_nearest  days_exposition  \n",
      "0           755.0              NaN  \n",
      "1             NaN             81.0  \n",
      "2           574.0            558.0  \n",
      "3           234.0            424.0  \n",
      "4            48.0            121.0  \n",
      "5             NaN             55.0  \n",
      "6             NaN            155.0  \n",
      "7             NaN              NaN  \n",
      "8             NaN            189.0  \n",
      "9             NaN            289.0  \n",
      "10          553.0            137.0  \n",
      "11            NaN              7.0  \n",
      "12            NaN             90.0  \n",
      "13          298.0            366.0  \n",
      "14           96.0            203.0  \n",
      "15          296.0             19.0  \n",
      "16            NaN            397.0  \n",
      "17          859.0            571.0  \n",
      "18            NaN            168.0  \n",
      "19            NaN             97.0  \n",
      "\n",
      "[20 rows x 22 columns]\n"
     ]
    }
   ],
   "source": [
    "data['first_day_exposition'] = pd.to_datetime(data['first_day_exposition'], format='%Y-%m-%dT%H:%M:%S')\n",
    "print(data.head(20))"
   ]
  },
  {
   "cell_type": "markdown",
   "metadata": {},
   "source": [
    "Столбец floors_total указывает на количество этажей в доме, количество которых может быть только целым числом,\n",
    "но данный столбец имеет тип float64, что я и хочу исправить "
   ]
  },
  {
   "cell_type": "code",
   "execution_count": 14,
   "metadata": {},
   "outputs": [],
   "source": [
    "data['floors_total']=data['floors_total'].astype('int64')"
   ]
  },
  {
   "cell_type": "markdown",
   "metadata": {},
   "source": [
    "В столбце is_apartment может быть только два возможных значения : Да и Нет\n",
    "Поэтому я изменю его тип на логический"
   ]
  },
  {
   "cell_type": "code",
   "execution_count": 15,
   "metadata": {},
   "outputs": [],
   "source": [
    "data['is_apartment']=data['is_apartment'].astype('bool')"
   ]
  },
  {
   "cell_type": "markdown",
   "metadata": {},
   "source": [
    "Количество балконов может быть только целым числом"
   ]
  },
  {
   "cell_type": "code",
   "execution_count": 16,
   "metadata": {},
   "outputs": [],
   "source": [
    "data['balcony']=data['balcony'].astype('int64')"
   ]
  },
  {
   "cell_type": "markdown",
   "metadata": {},
   "source": [
    "В последнем столбце days_exposition, указаны только целые числа, да и количество дней должно быть целым\n",
    "Но там есть проблема в виде пропусков, которые не дают изменить тип столбца,\n",
    "Поэтому я сначала заполню их медианным значением"
   ]
  },
  {
   "cell_type": "code",
   "execution_count": 17,
   "metadata": {},
   "outputs": [],
   "source": [
    "data['days_exposition'] = data['days_exposition'].fillna(data['days_exposition'].median())\n",
    "data['days_exposition'] = data['days_exposition'].astype('int64')"
   ]
  },
  {
   "cell_type": "markdown",
   "metadata": {},
   "source": [
    "Проверка результатов обработки пропусков и изменения типов данных"
   ]
  },
  {
   "cell_type": "code",
   "execution_count": 18,
   "metadata": {
    "scrolled": true
   },
   "outputs": [
    {
     "name": "stdout",
     "output_type": "stream",
     "text": [
      "<class 'pandas.core.frame.DataFrame'>\n",
      "RangeIndex: 23699 entries, 0 to 23698\n",
      "Data columns (total 22 columns):\n",
      " #   Column                Non-Null Count  Dtype         \n",
      "---  ------                --------------  -----         \n",
      " 0   total_images          23699 non-null  int64         \n",
      " 1   last_price            23699 non-null  float64       \n",
      " 2   total_area            23699 non-null  float64       \n",
      " 3   first_day_exposition  23699 non-null  datetime64[ns]\n",
      " 4   rooms                 23699 non-null  int64         \n",
      " 5   ceiling_height        23699 non-null  float64       \n",
      " 6   floors_total          23699 non-null  int64         \n",
      " 7   living_area           23699 non-null  float64       \n",
      " 8   floor                 23699 non-null  int64         \n",
      " 9   is_apartment          23699 non-null  bool          \n",
      " 10  studio                23699 non-null  bool          \n",
      " 11  open_plan             23699 non-null  bool          \n",
      " 12  kitchen_area          23699 non-null  float64       \n",
      " 13  balcony               23699 non-null  int64         \n",
      " 14  locality_name         23699 non-null  object        \n",
      " 15  airports_nearest      18157 non-null  float64       \n",
      " 16  cityCenters_nearest   18180 non-null  float64       \n",
      " 17  parks_around3000      18181 non-null  float64       \n",
      " 18  parks_nearest         8079 non-null   float64       \n",
      " 19  ponds_around3000      18181 non-null  float64       \n",
      " 20  ponds_nearest         9110 non-null   float64       \n",
      " 21  days_exposition       23699 non-null  int64         \n",
      "dtypes: bool(3), datetime64[ns](1), float64(11), int64(6), object(1)\n",
      "memory usage: 3.5+ MB\n",
      "total_images                0\n",
      "last_price                  0\n",
      "total_area                  0\n",
      "first_day_exposition        0\n",
      "rooms                       0\n",
      "ceiling_height              0\n",
      "floors_total                0\n",
      "living_area                 0\n",
      "floor                       0\n",
      "is_apartment                0\n",
      "studio                      0\n",
      "open_plan                   0\n",
      "kitchen_area                0\n",
      "balcony                     0\n",
      "locality_name               0\n",
      "airports_nearest         5542\n",
      "cityCenters_nearest      5519\n",
      "parks_around3000         5518\n",
      "parks_nearest           15620\n",
      "ponds_around3000         5518\n",
      "ponds_nearest           14589\n",
      "days_exposition             0\n",
      "dtype: int64\n"
     ]
    }
   ],
   "source": [
    "data.info()\n",
    "print(data.isna().sum())"
   ]
  },
  {
   "cell_type": "markdown",
   "metadata": {},
   "source": [
    "Результаты соответсвуют ожиданиям"
   ]
  },
  {
   "cell_type": "markdown",
   "metadata": {},
   "source": [
    "## Обработка аномалий и неявных дупликатов"
   ]
  },
  {
   "cell_type": "markdown",
   "metadata": {},
   "source": [
    "Поиск неявных дупликатов"
   ]
  },
  {
   "cell_type": "code",
   "execution_count": 19,
   "metadata": {},
   "outputs": [
    {
     "name": "stdout",
     "output_type": "stream",
     "text": [
      "['Санкт-Петербург' 'посёлок Шушары' 'городской посёлок Янино-1'\n",
      " 'посёлок Парголово' 'посёлок Мурино' 'Ломоносов' 'Сертолово' 'Петергоф'\n",
      " 'Пушкин' 'деревня Кудрово' 'Коммунар' 'Колпино'\n",
      " 'поселок городского типа Красный Бор' 'Гатчина' 'поселок Мурино'\n",
      " 'деревня Фёдоровское' 'Выборг' 'Кронштадт' 'Кировск'\n",
      " 'деревня Новое Девяткино' 'посёлок Металлострой'\n",
      " 'посёлок городского типа Лебяжье' 'посёлок городского типа Сиверский'\n",
      " 'поселок Молодцово' 'поселок городского типа Кузьмоловский'\n",
      " 'садовое товарищество Новая Ропша' 'Павловск' 'деревня Пикколово'\n",
      " 'Всеволожск' 'Волхов' 'Кингисепп' 'Приозерск' 'Сестрорецк'\n",
      " 'деревня Куттузи' 'посёлок Аннино' 'поселок городского типа Ефимовский'\n",
      " 'посёлок Плодовое' 'деревня Заклинье' 'поселок Торковичи'\n",
      " 'поселок Первомайское' 'Красное Село' 'посёлок Понтонный' 'Сясьстрой'\n",
      " 'деревня Старая' 'деревня Лесколово' 'посёлок Новый Свет' 'Сланцы'\n",
      " 'село Путилово' 'Ивангород' 'Мурино' 'Шлиссельбург' 'Никольское'\n",
      " 'Зеленогорск' 'Сосновый Бор' 'поселок Новый Свет' 'деревня Оржицы'\n",
      " 'деревня Кальтино' 'Кудрово' 'поселок Романовка' 'посёлок Бугры'\n",
      " 'поселок Бугры' 'поселок городского типа Рощино' 'Кириши' 'Луга'\n",
      " 'Волосово' 'Отрадное' 'село Павлово' 'поселок Оредеж' 'село Копорье'\n",
      " 'посёлок городского типа Красный Бор' 'посёлок Молодёжное' 'Тихвин'\n",
      " 'посёлок Победа' 'деревня Нурма' 'поселок городского типа Синявино'\n",
      " 'Тосно' 'посёлок городского типа Кузьмоловский' 'посёлок Стрельна'\n",
      " 'Бокситогорск' 'посёлок Александровская' 'деревня Лопухинка' 'Пикалёво'\n",
      " 'поселок Терволово' 'поселок городского типа Советский' 'Подпорожье'\n",
      " 'посёлок Петровское' 'посёлок городского типа Токсово' 'поселок Сельцо'\n",
      " 'посёлок городского типа Вырица' 'деревня Кипень' 'деревня Келози'\n",
      " 'деревня Вартемяги' 'посёлок Тельмана' 'поселок Севастьяново'\n",
      " 'городской поселок Большая Ижора' 'неизвестно'\n",
      " 'городской посёлок Павлово' 'деревня Агалатово' 'посёлок Новогорелово'\n",
      " 'городской посёлок Лесогорский' 'деревня Лаголово' 'поселок Цвелодубово'\n",
      " 'поселок городского типа Рахья' 'поселок городского типа Вырица'\n",
      " 'деревня Белогорка' 'поселок Заводской' 'городской посёлок Новоселье'\n",
      " 'деревня Большие Колпаны' 'деревня Горбунки' 'деревня Батово'\n",
      " 'деревня Заневка' 'деревня Иссад' 'Приморск'\n",
      " 'городской посёлок Фёдоровское' 'деревня Мистолово' 'Новая Ладога'\n",
      " 'поселок Зимитицы' 'поселок Барышево' 'деревня Разметелево'\n",
      " 'поселок городского типа имени Свердлова' 'деревня Пеники'\n",
      " 'поселок Рябово' 'деревня Пудомяги' 'поселок станции Корнево'\n",
      " 'деревня Низино' 'деревня Бегуницы' 'посёлок Поляны'\n",
      " 'городской посёлок Мга' 'поселок Елизаветино'\n",
      " 'посёлок городского типа Кузнечное' 'деревня Колтуши'\n",
      " 'поселок Запорожское' 'посёлок городского типа Рощино'\n",
      " 'деревня Гостилицы' 'деревня Малое Карлино' 'посёлок Мичуринское'\n",
      " 'посёлок городского типа имени Морозова' 'посёлок Песочный'\n",
      " 'посёлок Сосново' 'деревня Аро' 'поселок Ильичёво'\n",
      " 'посёлок городского типа Тайцы' 'деревня Малое Верево' 'деревня Извара'\n",
      " 'поселок станции Вещево' 'село Паша' 'деревня Калитино'\n",
      " 'посёлок городского типа Ульяновка' 'деревня Чудской Бор'\n",
      " 'поселок городского типа Дубровка' 'деревня Мины' 'поселок Войсковицы'\n",
      " 'посёлок городского типа имени Свердлова' 'деревня Коркино'\n",
      " 'посёлок Ропша' 'поселок городского типа Приладожский' 'посёлок Щеглово'\n",
      " 'посёлок Гаврилово' 'Лодейное Поле' 'деревня Рабитицы'\n",
      " 'поселок городского типа Никольский' 'деревня Кузьмолово'\n",
      " 'деревня Малые Колпаны' 'поселок Тельмана' 'посёлок Петро-Славянка'\n",
      " 'городской посёлок Назия' 'посёлок Репино' 'посёлок Ильичёво'\n",
      " 'поселок Углово' 'поселок Старая Малукса' 'садовое товарищество Рахья'\n",
      " 'поселок Аннино' 'поселок Победа' 'деревня Меньково'\n",
      " 'деревня Старые Бегуницы' 'посёлок Сапёрный' 'поселок Семрино'\n",
      " 'поселок Гаврилово' 'поселок Глажево' 'поселок Кобринское'\n",
      " 'деревня Гарболово' 'деревня Юкки' 'поселок станции Приветнинское'\n",
      " 'деревня Мануйлово' 'деревня Пчева' 'поселок Поляны' 'поселок Цвылёво'\n",
      " 'поселок Мельниково' 'посёлок Пудость' 'посёлок Усть-Луга' 'Светогорск'\n",
      " 'Любань' 'поселок Селезнёво' 'поселок городского типа Рябово'\n",
      " 'Каменногорск' 'деревня Кривко' 'поселок Глебычево' 'деревня Парицы'\n",
      " 'поселок Жилпосёлок' 'посёлок городского типа Мга'\n",
      " 'городской поселок Янино-1' 'посёлок Войскорово' 'село Никольское'\n",
      " 'посёлок Терволово' 'поселок Стеклянный' 'посёлок городского типа Важины'\n",
      " 'посёлок Мыза-Ивановка' 'село Русско-Высоцкое'\n",
      " 'поселок городского типа Лебяжье' 'поселок городского типа Форносово'\n",
      " 'село Старая Ладога' 'поселок Житково' 'городской посёлок Виллози'\n",
      " 'деревня Лампово' 'деревня Шпаньково' 'деревня Лаврики' 'посёлок Сумино'\n",
      " 'посёлок Возрождение' 'деревня Старосиверская' 'посёлок Кикерино'\n",
      " 'поселок Возрождение' 'деревня Старое Хинколово' 'посёлок Пригородный'\n",
      " 'посёлок Торфяное' 'городской посёлок Будогощь' 'поселок Суходолье'\n",
      " 'поселок Красная Долина' 'деревня Хапо-Ое'\n",
      " 'поселок городского типа Дружная Горка' 'поселок Лисий Нос'\n",
      " 'деревня Яльгелево' 'посёлок Стеклянный' 'село Рождествено'\n",
      " 'деревня Старополье' 'посёлок Левашово' 'деревня Сяськелево'\n",
      " 'деревня Камышовка'\n",
      " 'садоводческое некоммерческое товарищество Лесная Поляна'\n",
      " 'деревня Хязельки' 'поселок Жилгородок' 'посёлок городского типа Павлово'\n",
      " 'деревня Ялгино' 'поселок Новый Учхоз' 'городской посёлок Рощино'\n",
      " 'поселок Гончарово' 'поселок Почап' 'посёлок Сапёрное'\n",
      " 'посёлок Платформа 69-й километр' 'поселок Каложицы' 'деревня Фалилеево'\n",
      " 'деревня Пельгора' 'поселок городского типа Лесогорский'\n",
      " 'деревня Торошковичи' 'посёлок Белоостров' 'посёлок Алексеевка'\n",
      " 'поселок Серебрянский' 'поселок Лукаши' 'поселок Петровское'\n",
      " 'деревня Щеглово' 'поселок Мичуринское' 'деревня Тарасово'\n",
      " 'поселок Кингисеппский' 'посёлок при железнодорожной станции Вещево'\n",
      " 'поселок Ушаки' 'деревня Котлы' 'деревня Сижно' 'деревня Торосово'\n",
      " 'посёлок Форт Красная Горка' 'поселок городского типа Токсово'\n",
      " 'деревня Новолисино' 'посёлок станции Громово' 'деревня Глинка'\n",
      " 'посёлок Мельниково' 'поселок городского типа Назия'\n",
      " 'деревня Старая Пустошь' 'поселок Коммунары' 'поселок Починок'\n",
      " 'посёлок городского типа Вознесенье' 'деревня Разбегаево'\n",
      " 'посёлок городского типа Рябово' 'поселок Гладкое'\n",
      " 'посёлок при железнодорожной станции Приветнинское' 'поселок Тёсово-4'\n",
      " 'посёлок Жилгородок' 'деревня Бор' 'посёлок Коробицыно'\n",
      " 'деревня Большая Вруда' 'деревня Курковицы' 'посёлок Лисий Нос'\n",
      " 'городской посёлок Советский' 'посёлок Кобралово' 'деревня Суоранда'\n",
      " 'поселок Кобралово' 'поселок городского типа Кондратьево'\n",
      " 'коттеджный поселок Счастье' 'поселок Любань' 'деревня Реброво'\n",
      " 'деревня Зимитицы' 'деревня Тойворово' 'поселок Семиозерье'\n",
      " 'поселок Лесное' 'поселок Совхозный' 'поселок Усть-Луга'\n",
      " 'посёлок Ленинское' 'посёлок Суйда' 'посёлок городского типа Форносово'\n",
      " 'деревня Нижние Осельки' 'посёлок станции Свирь' 'поселок Перово'\n",
      " 'Высоцк' 'поселок Гарболово' 'село Шум' 'поселок Котельский'\n",
      " 'поселок станции Лужайка' 'деревня Большая Пустомержа'\n",
      " 'поселок Красносельское' 'деревня Вахнова Кара' 'деревня Пижма'\n",
      " 'коттеджный поселок Кивеннапа Север' 'поселок Коробицыно'\n",
      " 'поселок Ромашки' 'посёлок Перово' 'деревня Каськово' 'деревня Куровицы'\n",
      " 'посёлок Плоское' 'поселок Сумино'\n",
      " 'поселок городского типа Большая Ижора' 'поселок Кирпичное'\n",
      " 'деревня Ям-Тесово' 'деревня Раздолье' 'деревня Терпилицы'\n",
      " 'посёлок Шугозеро' 'деревня Ваганово' 'поселок Пушное'\n",
      " 'садовое товарищество Садко' 'посёлок Усть-Ижора' 'деревня Выскатка'\n",
      " 'городской посёлок Свирьстрой' 'поселок Громово' 'деревня Кисельня'\n",
      " 'посёлок Старая Малукса' 'деревня Трубников Бор' 'поселок Калитино'\n",
      " 'посёлок Высокоключевой' 'садовое товарищество Приладожский'\n",
      " 'посёлок Пансионат Зелёный Бор' 'деревня Ненимяки'\n",
      " 'поселок Пансионат Зелёный Бор' 'деревня Снегирёвка' 'деревня Рапполово'\n",
      " 'деревня Пустынка' 'поселок Рабитицы' 'деревня Большой Сабск'\n",
      " 'деревня Русско' 'деревня Лупполово' 'деревня Большое Рейзино'\n",
      " 'деревня Малая Романовка' 'поселок Дружноселье' 'поселок Пчевжа'\n",
      " 'поселок Володарское' 'деревня Нижняя' 'коттеджный посёлок Лесное'\n",
      " 'деревня Тихковицы' 'деревня Борисова Грива' 'посёлок Дзержинского']\n"
     ]
    }
   ],
   "source": [
    "#получение списка уникальных значений\n",
    "print(data['locality_name'].unique())"
   ]
  },
  {
   "cell_type": "markdown",
   "metadata": {},
   "source": [
    "Замеченные проблемы:\n",
    "1)большие и маленькие буквы\n",
    "2)Путаница с буквами \"е\" и \"ё\"\n",
    "3)Тип населённого пункта перед его названием(Посёлок, деревня, ПГТ, и так далее)"
   ]
  },
  {
   "cell_type": "code",
   "execution_count": 20,
   "metadata": {},
   "outputs": [],
   "source": [
    "#решение первой проблемы\n",
    "data['locality_name'] = data['locality_name'].str.lower()\n",
    "#решение второй проблемы\n",
    "data['locality_name'] = data['locality_name'].str.replace('ё','е')"
   ]
  },
  {
   "cell_type": "markdown",
   "metadata": {},
   "source": [
    "Для того, чтобы решить третью проблему я решил вырезать все слова, которые указывают на тип насёлённого пункта. Но для того чтобы найти эти слова, мне нужно получить список названий населённых пунктов, отсортированный по алфавиту"
   ]
  },
  {
   "cell_type": "code",
   "execution_count": 21,
   "metadata": {},
   "outputs": [
    {
     "name": "stdout",
     "output_type": "stream",
     "text": [
      "['бокситогорск' 'волосово' 'волхов' 'всеволожск' 'выборг' 'высоцк'\n",
      " 'гатчина' 'городской поселок большая ижора' 'городской поселок будогощь'\n",
      " 'городской поселок виллози' 'городской поселок лесогорский'\n",
      " 'городской поселок мга' 'городской поселок назия'\n",
      " 'городской поселок новоселье' 'городской поселок павлово'\n",
      " 'городской поселок рощино' 'городской поселок свирьстрой'\n",
      " 'городской поселок советский' 'городской поселок федоровское'\n",
      " 'городской поселок янино-1' 'деревня агалатово' 'деревня аро'\n",
      " 'деревня батово' 'деревня бегуницы' 'деревня белогорка'\n",
      " 'деревня большая вруда' 'деревня большая пустомержа'\n",
      " 'деревня большие колпаны' 'деревня большое рейзино'\n",
      " 'деревня большой сабск' 'деревня бор' 'деревня борисова грива'\n",
      " 'деревня ваганово' 'деревня вартемяги' 'деревня вахнова кара'\n",
      " 'деревня выскатка' 'деревня гарболово' 'деревня глинка'\n",
      " 'деревня горбунки' 'деревня гостилицы' 'деревня заклинье'\n",
      " 'деревня заневка' 'деревня зимитицы' 'деревня извара' 'деревня иссад'\n",
      " 'деревня калитино' 'деревня кальтино' 'деревня камышовка'\n",
      " 'деревня каськово' 'деревня келози' 'деревня кипень' 'деревня кисельня'\n",
      " 'деревня колтуши' 'деревня коркино' 'деревня котлы' 'деревня кривко'\n",
      " 'деревня кудрово' 'деревня кузьмолово' 'деревня курковицы'\n",
      " 'деревня куровицы' 'деревня куттузи' 'деревня лаврики' 'деревня лаголово'\n",
      " 'деревня лампово' 'деревня лесколово' 'деревня лопухинка'\n",
      " 'деревня лупполово' 'деревня малая романовка' 'деревня малое верево'\n",
      " 'деревня малое карлино' 'деревня малые колпаны' 'деревня мануйлово'\n",
      " 'деревня меньково' 'деревня мины' 'деревня мистолово' 'деревня ненимяки'\n",
      " 'деревня нижние осельки' 'деревня нижняя' 'деревня низино'\n",
      " 'деревня новое девяткино' 'деревня новолисино' 'деревня нурма'\n",
      " 'деревня оржицы' 'деревня парицы' 'деревня пельгора' 'деревня пеники'\n",
      " 'деревня пижма' 'деревня пикколово' 'деревня пудомяги' 'деревня пустынка'\n",
      " 'деревня пчева' 'деревня рабитицы' 'деревня разбегаево'\n",
      " 'деревня раздолье' 'деревня разметелево' 'деревня рапполово'\n",
      " 'деревня реброво' 'деревня русско' 'деревня сижно' 'деревня снегиревка'\n",
      " 'деревня старая' 'деревня старая пустошь' 'деревня старое хинколово'\n",
      " 'деревня старополье' 'деревня старосиверская' 'деревня старые бегуницы'\n",
      " 'деревня суоранда' 'деревня сяськелево' 'деревня тарасово'\n",
      " 'деревня терпилицы' 'деревня тихковицы' 'деревня тойворово'\n",
      " 'деревня торосово' 'деревня торошковичи' 'деревня трубников бор'\n",
      " 'деревня фалилеево' 'деревня федоровское' 'деревня хапо-ое'\n",
      " 'деревня хязельки' 'деревня чудской бор' 'деревня шпаньково'\n",
      " 'деревня щеглово' 'деревня юкки' 'деревня ялгино' 'деревня яльгелево'\n",
      " 'деревня ям-тесово' 'зеленогорск' 'ивангород' 'каменногорск' 'кингисепп'\n",
      " 'кириши' 'кировск' 'колпино' 'коммунар'\n",
      " 'коттеджный поселок кивеннапа север' 'коттеджный поселок лесное'\n",
      " 'коттеджный поселок счастье' 'красное село' 'кронштадт' 'кудрово'\n",
      " 'лодейное поле' 'ломоносов' 'луга' 'любань' 'мурино' 'неизвестно'\n",
      " 'никольское' 'новая ладога' 'отрадное' 'павловск' 'петергоф' 'пикалево'\n",
      " 'подпорожье' 'поселок александровская' 'поселок алексеевка'\n",
      " 'поселок аннино' 'поселок барышево' 'поселок белоостров' 'поселок бугры'\n",
      " 'поселок возрождение' 'поселок войсковицы' 'поселок войскорово'\n",
      " 'поселок володарское' 'поселок высокоключевой' 'поселок гаврилово'\n",
      " 'поселок гарболово' 'поселок гладкое' 'поселок глажево'\n",
      " 'поселок глебычево' 'поселок гончарово'\n",
      " 'поселок городского типа большая ижора' 'поселок городского типа важины'\n",
      " 'поселок городского типа вознесенье' 'поселок городского типа вырица'\n",
      " 'поселок городского типа дружная горка'\n",
      " 'поселок городского типа дубровка' 'поселок городского типа ефимовский'\n",
      " 'поселок городского типа имени морозова'\n",
      " 'поселок городского типа имени свердлова'\n",
      " 'поселок городского типа кондратьево'\n",
      " 'поселок городского типа красный бор' 'поселок городского типа кузнечное'\n",
      " 'поселок городского типа кузьмоловский' 'поселок городского типа лебяжье'\n",
      " 'поселок городского типа лесогорский' 'поселок городского типа мга'\n",
      " 'поселок городского типа назия' 'поселок городского типа никольский'\n",
      " 'поселок городского типа павлово' 'поселок городского типа приладожский'\n",
      " 'поселок городского типа рахья' 'поселок городского типа рощино'\n",
      " 'поселок городского типа рябово' 'поселок городского типа сиверский'\n",
      " 'поселок городского типа синявино' 'поселок городского типа советский'\n",
      " 'поселок городского типа тайцы' 'поселок городского типа токсово'\n",
      " 'поселок городского типа ульяновка' 'поселок городского типа форносово'\n",
      " 'поселок громово' 'поселок дзержинского' 'поселок дружноселье'\n",
      " 'поселок елизаветино' 'поселок жилгородок' 'поселок жилпоселок'\n",
      " 'поселок житково' 'поселок заводской' 'поселок запорожское'\n",
      " 'поселок зимитицы' 'поселок ильичево' 'поселок калитино'\n",
      " 'поселок каложицы' 'поселок кикерино' 'поселок кингисеппский'\n",
      " 'поселок кирпичное' 'поселок кобралово' 'поселок кобринское'\n",
      " 'поселок коммунары' 'поселок коробицыно' 'поселок котельский'\n",
      " 'поселок красная долина' 'поселок красносельское' 'поселок левашово'\n",
      " 'поселок ленинское' 'поселок лесное' 'поселок лисий нос' 'поселок лукаши'\n",
      " 'поселок любань' 'поселок мельниково' 'поселок металлострой'\n",
      " 'поселок мичуринское' 'поселок молодежное' 'поселок молодцово'\n",
      " 'поселок мурино' 'поселок мыза-ивановка' 'поселок новогорелово'\n",
      " 'поселок новый свет' 'поселок новый учхоз' 'поселок оредеж'\n",
      " 'поселок пансионат зеленый бор' 'поселок парголово'\n",
      " 'поселок первомайское' 'поселок перово' 'поселок песочный'\n",
      " 'поселок петро-славянка' 'поселок петровское'\n",
      " 'поселок платформа 69-й километр' 'поселок плодовое' 'поселок плоское'\n",
      " 'поселок победа' 'поселок поляны' 'поселок понтонный' 'поселок почап'\n",
      " 'поселок починок' 'поселок при железнодорожной станции вещево'\n",
      " 'поселок при железнодорожной станции приветнинское' 'поселок пригородный'\n",
      " 'поселок пудость' 'поселок пушное' 'поселок пчевжа' 'поселок рабитицы'\n",
      " 'поселок репино' 'поселок романовка' 'поселок ромашки' 'поселок ропша'\n",
      " 'поселок рябово' 'поселок саперное' 'поселок саперный'\n",
      " 'поселок севастьяново' 'поселок селезнево' 'поселок сельцо'\n",
      " 'поселок семиозерье' 'поселок семрино' 'поселок серебрянский'\n",
      " 'поселок совхозный' 'поселок сосново' 'поселок станции вещево'\n",
      " 'поселок станции громово' 'поселок станции корнево'\n",
      " 'поселок станции лужайка' 'поселок станции приветнинское'\n",
      " 'поселок станции свирь' 'поселок старая малукса' 'поселок стеклянный'\n",
      " 'поселок стрельна' 'поселок суйда' 'поселок сумино' 'поселок суходолье'\n",
      " 'поселок тельмана' 'поселок терволово' 'поселок тесово-4'\n",
      " 'поселок торковичи' 'поселок торфяное' 'поселок углово'\n",
      " 'поселок усть-ижора' 'поселок усть-луга' 'поселок ушаки'\n",
      " 'поселок форт красная горка' 'поселок цвелодубово' 'поселок цвылево'\n",
      " 'поселок шугозеро' 'поселок шушары' 'поселок щеглово' 'приморск'\n",
      " 'приозерск' 'пушкин'\n",
      " 'садоводческое некоммерческое товарищество лесная поляна'\n",
      " 'садовое товарищество новая ропша' 'садовое товарищество приладожский'\n",
      " 'садовое товарищество рахья' 'садовое товарищество садко'\n",
      " 'санкт-петербург' 'светогорск' 'село копорье' 'село никольское'\n",
      " 'село павлово' 'село паша' 'село путилово' 'село рождествено'\n",
      " 'село русско-высоцкое' 'село старая ладога' 'село шум' 'сертолово'\n",
      " 'сестрорецк' 'сланцы' 'сосновый бор' 'сясьстрой' 'тихвин' 'тосно'\n",
      " 'шлиссельбург']\n"
     ]
    }
   ],
   "source": [
    "locality_list=data['locality_name'].sort_values().unique()\n",
    "print(locality_list)"
   ]
  },
  {
   "cell_type": "code",
   "execution_count": 22,
   "metadata": {},
   "outputs": [],
   "source": [
    "#решение третьей проблемы\n",
    "def cleaning_name_type(column):\n",
    "    clean_names_column = column.str.replace(\"|\".join([\"поселок\",\n",
    "                                                    \"деревня\",\n",
    "                                                    \"городского\",\n",
    "                                                    \"типа\",\"городской\",\"коттеджный\",\"садоводческое\",\"некоммерческое\",\"товарищество\",\"село\"]), \"\", regex=True).str.strip()\n",
    "    return clean_names_column\n",
    "\n",
    "data.insert(loc=15, column='locality_clean_name', value=cleaning_name_type(data['locality_name']))"
   ]
  },
  {
   "cell_type": "code",
   "execution_count": 23,
   "metadata": {
    "scrolled": true
   },
   "outputs": [
    {
     "name": "stdout",
     "output_type": "stream",
     "text": [
      "['санкт-петербург' 'шушары' 'янино-1' 'парголово' 'мурино' 'ломоносов'\n",
      " 'сертолово' 'петергоф' 'пушкин' 'кудрово' 'коммунар' 'колпино'\n",
      " 'красный бор' 'гатчина' 'федоровское' 'выборг' 'кронштадт' 'кировск'\n",
      " 'новое девяткино' 'металлострой' 'лебяжье' 'сиверский' 'молодцово'\n",
      " 'кузьмоловский' 'садовое  новая ропша' 'павловск' 'пикколово'\n",
      " 'всеволожск' 'волхов' 'кингисепп' 'приозерск' 'сестрорецк' 'куттузи'\n",
      " 'аннино' 'ефимовский' 'плодовое' 'заклинье' 'торковичи' 'первомайское'\n",
      " 'красное' 'понтонный' 'сясьстрой' 'старая' 'лесколово' 'новый свет'\n",
      " 'сланцы' 'путилово' 'ивангород' 'шлиссельбург' 'никольское' 'зеленогорск'\n",
      " 'сосновый бор' 'оржицы' 'кальтино' 'романовка' 'бугры' 'рощино' 'кириши'\n",
      " 'луга' 'волосово' 'отрадное' 'павлово' 'оредеж' 'копорье' 'молодежное'\n",
      " 'тихвин' 'победа' 'нурма' 'синявино' 'тосно' 'стрельна' 'бокситогорск'\n",
      " 'александровская' 'лопухинка' 'пикалево' 'терволово' 'советский'\n",
      " 'подпорожье' 'петровское' 'токсово' 'сельцо' 'вырица' 'кипень' 'келози'\n",
      " 'вартемяги' 'тельмана' 'севастьяново' 'большая ижора' 'неизвестно'\n",
      " 'агалатово' 'новогорелово' 'лесогорский' 'лаголово' 'цвелодубово' 'рахья'\n",
      " 'белогорка' 'заводской' 'новоселье' 'большие колпаны' 'горбунки' 'батово'\n",
      " 'заневка' 'иссад' 'приморск' 'мистолово' 'новая ладога' 'зимитицы'\n",
      " 'барышево' 'разметелево' 'имени свердлова' 'пеники' 'рябово' 'пудомяги'\n",
      " 'станции корнево' 'низино' 'бегуницы' 'поляны' 'мга' 'елизаветино'\n",
      " 'кузнечное' 'колтуши' 'запорожское' 'гостилицы' 'малое карлино'\n",
      " 'мичуринское' 'имени морозова' 'песочный' 'сосново' 'аро' 'ильичево'\n",
      " 'тайцы' 'малое верево' 'извара' 'станции вещево' 'паша' 'калитино'\n",
      " 'ульяновка' 'чудской бор' 'дубровка' 'мины' 'войсковицы' 'коркино'\n",
      " 'ропша' 'приладожский' 'щеглово' 'гаврилово' 'лодейное поле' 'рабитицы'\n",
      " 'никольский' 'кузьмолово' 'малые колпаны' 'петро-славянка' 'назия'\n",
      " 'репино' 'углово' 'старая малукса' 'садовое  рахья' 'меньково'\n",
      " 'старые бегуницы' 'саперный' 'семрино' 'глажево' 'кобринское' 'гарболово'\n",
      " 'юкки' 'станции приветнинское' 'мануйлово' 'пчева' 'цвылево' 'мельниково'\n",
      " 'пудость' 'усть-луга' 'светогорск' 'любань' 'селезнево' 'каменногорск'\n",
      " 'кривко' 'глебычево' 'парицы' 'жил' 'войскорово' 'стеклянный' 'важины'\n",
      " 'мыза-ивановка' 'русско-высоцкое' 'форносово' 'старая ладога' 'житково'\n",
      " 'виллози' 'лампово' 'шпаньково' 'лаврики' 'сумино' 'возрождение'\n",
      " 'старосиверская' 'кикерино' 'старое хинколово' 'пригородный' 'торфяное'\n",
      " 'будогощь' 'суходолье' 'красная долина' 'хапо-ое' 'дружная горка'\n",
      " 'лисий нос' 'яльгелево' 'рождествено' 'старополье' 'левашово'\n",
      " 'сяськелево' 'камышовка' 'лесная поляна' 'хязельки' 'жилгородок' 'ялгино'\n",
      " 'новый учхоз' 'гончарово' 'почап' 'саперное' 'платформа 69-й километр'\n",
      " 'каложицы' 'фалилеево' 'пельгора' 'торошковичи' 'белоостров' 'алексеевка'\n",
      " 'серебрянский' 'лукаши' 'тарасово' 'кингисеппский'\n",
      " 'при железнодорожной станции вещево' 'ушаки' 'котлы' 'сижно' 'торосово'\n",
      " 'форт красная горка' 'новолисино' 'станции громово' 'глинка'\n",
      " 'старая пустошь' 'коммунары' 'починок' 'вознесенье' 'разбегаево'\n",
      " 'гладкое' 'при железнодорожной станции приветнинское' 'тесово-4' 'бор'\n",
      " 'коробицыно' 'большая вруда' 'курковицы' 'кобралово' 'суоранда'\n",
      " 'кондратьево' 'счастье' 'реброво' 'тойворово' 'семиозерье' 'лесное'\n",
      " 'совхозный' 'ленинское' 'суйда' 'нижние осельки' 'станции свирь' 'перово'\n",
      " 'высоцк' 'шум' 'котельский' 'станции лужайка' 'большая пустомержа'\n",
      " 'красносельское' 'вахнова кара' 'пижма' 'кивеннапа север' 'ромашки'\n",
      " 'каськово' 'куровицы' 'плоское' 'кирпичное' 'ям-тесово' 'раздолье'\n",
      " 'терпилицы' 'шугозеро' 'ваганово' 'пушное' 'садовое  садко' 'усть-ижора'\n",
      " 'выскатка' 'свирьстрой' 'громово' 'кисельня' 'трубников бор'\n",
      " 'высокоключевой' 'садовое  приладожский' 'пансионат зеленый бор'\n",
      " 'ненимяки' 'снегиревка' 'рапполово' 'пустынка' 'большой сабск' 'русско'\n",
      " 'лупполово' 'большое рейзино' 'малая романовка' 'дружноселье' 'пчевжа'\n",
      " 'володарское' 'нижняя' 'тихковицы' 'борисова грива' 'дзержинского']\n",
      "['санкт-петербург' 'шушары' 'янино-1' 'парголово' 'мурино' 'ломоносов'\n",
      " 'сертолово' 'петергоф' 'пушкин' 'кудрово' 'коммунар' 'колпино'\n",
      " 'красный бор' 'гатчина' 'федоровское' 'выборг' 'кронштадт' 'кировск'\n",
      " 'новое девяткино' 'металлострой' 'лебяжье' 'сиверский' 'молодцово'\n",
      " 'кузьмоловский' 'садовое  новая ропша' 'павловск' 'пикколово'\n",
      " 'всеволожск' 'волхов' 'кингисепп' 'приозерск' 'сестрорецк' 'куттузи'\n",
      " 'аннино' 'ефимовский' 'плодовое' 'заклинье' 'торковичи' 'первомайское'\n",
      " 'красное' 'понтонный' 'сясьстрой' 'старая' 'лесколово' 'новый свет'\n",
      " 'сланцы' 'путилово' 'ивангород' 'шлиссельбург' 'никольское' 'зеленогорск'\n",
      " 'сосновый бор' 'оржицы' 'кальтино' 'романовка' 'бугры' 'рощино' 'кириши'\n",
      " 'луга' 'волосово' 'отрадное' 'павлово' 'оредеж' 'копорье' 'молодежное'\n",
      " 'тихвин' 'победа' 'нурма' 'синявино' 'тосно' 'стрельна' 'бокситогорск'\n",
      " 'александровская' 'лопухинка' 'пикалево' 'терволово' 'советский'\n",
      " 'подпорожье' 'петровское' 'токсово' 'сельцо' 'вырица' 'кипень' 'келози'\n",
      " 'вартемяги' 'тельмана' 'севастьяново' 'большая ижора' 'неизвестно'\n",
      " 'агалатово' 'новогорелово' 'лесогорский' 'лаголово' 'цвелодубово' 'рахья'\n",
      " 'белогорка' 'заводской' 'новоселье' 'большие колпаны' 'горбунки' 'батово'\n",
      " 'заневка' 'иссад' 'приморск' 'мистолово' 'новая ладога' 'зимитицы'\n",
      " 'барышево' 'разметелево' 'имени свердлова' 'пеники' 'рябово' 'пудомяги'\n",
      " 'станции корнево' 'низино' 'бегуницы' 'поляны' 'мга' 'елизаветино'\n",
      " 'кузнечное' 'колтуши' 'запорожское' 'гостилицы' 'малое карлино'\n",
      " 'мичуринское' 'имени морозова' 'песочный' 'сосново' 'аро' 'ильичево'\n",
      " 'тайцы' 'малое верево' 'извара' 'станции вещево' 'паша' 'калитино'\n",
      " 'ульяновка' 'чудской бор' 'дубровка' 'мины' 'войсковицы' 'коркино'\n",
      " 'ропша' 'приладожский' 'щеглово' 'гаврилово' 'лодейное поле' 'рабитицы'\n",
      " 'никольский' 'кузьмолово' 'малые колпаны' 'петро-славянка' 'назия'\n",
      " 'репино' 'углово' 'старая малукса' 'садовое  рахья' 'меньково'\n",
      " 'старые бегуницы' 'саперный' 'семрино' 'глажево' 'кобринское' 'гарболово'\n",
      " 'юкки' 'станции приветнинское' 'мануйлово' 'пчева' 'цвылево' 'мельниково'\n",
      " 'пудость' 'усть-луга' 'светогорск' 'любань' 'селезнево' 'каменногорск'\n",
      " 'кривко' 'глебычево' 'парицы' 'жил' 'войскорово' 'стеклянный' 'важины'\n",
      " 'мыза-ивановка' 'русско-высоцкое' 'форносово' 'старая ладога' 'житково'\n",
      " 'виллози' 'лампово' 'шпаньково' 'лаврики' 'сумино' 'возрождение'\n",
      " 'старосиверская' 'кикерино' 'старое хинколово' 'пригородный' 'торфяное'\n",
      " 'будогощь' 'суходолье' 'красная долина' 'хапо-ое' 'дружная горка'\n",
      " 'лисий нос' 'яльгелево' 'рождествено' 'старополье' 'левашово'\n",
      " 'сяськелево' 'камышовка' 'лесная поляна' 'хязельки' 'жилгородок' 'ялгино'\n",
      " 'новый учхоз' 'гончарово' 'почап' 'саперное' 'платформа 69-й километр'\n",
      " 'каложицы' 'фалилеево' 'пельгора' 'торошковичи' 'белоостров' 'алексеевка'\n",
      " 'серебрянский' 'лукаши' 'тарасово' 'кингисеппский'\n",
      " 'при железнодорожной станции вещево' 'ушаки' 'котлы' 'сижно' 'торосово'\n",
      " 'форт красная горка' 'новолисино' 'станции громово' 'глинка'\n",
      " 'старая пустошь' 'коммунары' 'починок' 'вознесенье' 'разбегаево'\n",
      " 'гладкое' 'при железнодорожной станции приветнинское' 'тесово-4' 'бор'\n",
      " 'коробицыно' 'большая вруда' 'курковицы' 'кобралово' 'суоранда'\n",
      " 'кондратьево' 'счастье' 'реброво' 'тойворово' 'семиозерье' 'лесное'\n",
      " 'совхозный' 'ленинское' 'суйда' 'нижние осельки' 'станции свирь' 'перово'\n",
      " 'высоцк' 'шум' 'котельский' 'станции лужайка' 'большая пустомержа'\n",
      " 'красносельское' 'вахнова кара' 'пижма' 'кивеннапа север' 'ромашки'\n",
      " 'каськово' 'куровицы' 'плоское' 'кирпичное' 'ям-тесово' 'раздолье'\n",
      " 'терпилицы' 'шугозеро' 'ваганово' 'пушное' 'садовое  садко' 'усть-ижора'\n",
      " 'выскатка' 'свирьстрой' 'громово' 'кисельня' 'трубников бор'\n",
      " 'высокоключевой' 'садовое  приладожский' 'пансионат зеленый бор'\n",
      " 'ненимяки' 'снегиревка' 'рапполово' 'пустынка' 'большой сабск' 'русско'\n",
      " 'лупполово' 'большое рейзино' 'малая романовка' 'дружноселье' 'пчевжа'\n",
      " 'володарское' 'нижняя' 'тихковицы' 'борисова грива' 'дзержинского']\n"
     ]
    }
   ],
   "source": [
    "#проверка результата\n",
    "print(data['locality_clean_name'].unique())\n",
    "print(data['locality_clean_name'].unique())"
   ]
  },
  {
   "cell_type": "markdown",
   "metadata": {},
   "source": [
    "**Поиск выбросов**"
   ]
  },
  {
   "cell_type": "code",
   "execution_count": 24,
   "metadata": {
    "scrolled": false
   },
   "outputs": [
    {
     "data": {
      "text/plain": [
       "count    2.369900e+04\n",
       "mean     6.541549e+06\n",
       "std      1.088701e+07\n",
       "min      1.219000e+04\n",
       "25%      3.400000e+06\n",
       "50%      4.650000e+06\n",
       "75%      6.800000e+06\n",
       "max      7.630000e+08\n",
       "Name: last_price, dtype: float64"
      ]
     },
     "execution_count": 24,
     "metadata": {},
     "output_type": "execute_result"
    }
   ],
   "source": [
    "#проверка last_price\n",
    "data['last_price'].describe()\n",
    "#всё в порядке\n",
    "#print(data['last_price'].sort_values().tail(20))\n",
    "#cамые крупные значения тоже выглядят уместно"
   ]
  },
  {
   "cell_type": "code",
   "execution_count": 25,
   "metadata": {
    "scrolled": true
   },
   "outputs": [
    {
     "name": "stdout",
     "output_type": "stream",
     "text": [
      "14991    413.50\n",
      "22131    422.20\n",
      "21955    431.00\n",
      "3676     441.98\n",
      "20273    460.80\n",
      "6221     470.30\n",
      "660      483.90\n",
      "6621     488.00\n",
      "22494    491.00\n",
      "9826     494.10\n",
      "12401    495.00\n",
      "15016    500.00\n",
      "5893     500.00\n",
      "8018     507.00\n",
      "4237     517.00\n",
      "5358     590.00\n",
      "15651    618.00\n",
      "3117     631.00\n",
      "12859    631.20\n",
      "19540    900.00\n",
      "Name: total_area, dtype: float64\n"
     ]
    }
   ],
   "source": [
    "#проверка total_area\n",
    "data['total_area'].describe()\n",
    "#максимальное значение выглядит подозрительно\n",
    "print(data['total_area'].sort_values().tail(20))\n",
    "#На фоне остальных крупнейших значений оно выглядит нормально"
   ]
  },
  {
   "cell_type": "code",
   "execution_count": 26,
   "metadata": {
    "scrolled": true
   },
   "outputs": [
    {
     "name": "stdout",
     "output_type": "stream",
     "text": [
      "9412     0\n",
      "8886     0\n",
      "18132    0\n",
      "20002    0\n",
      "21425    0\n",
      "12229    0\n",
      "3019     0\n",
      "2532     0\n",
      "22047    0\n",
      "2727     0\n",
      "20648    0\n",
      "1625     0\n",
      "22416    0\n",
      "7008     0\n",
      "15756    0\n",
      "7003     0\n",
      "23637    0\n",
      "2719     0\n",
      "19877    0\n",
      "9511     0\n",
      "Name: rooms, dtype: int64\n",
      "Empty DataFrame\n",
      "Columns: [total_images, last_price, total_area, first_day_exposition, rooms, ceiling_height, floors_total, living_area, floor, is_apartment, studio, open_plan, kitchen_area, balcony, locality_name, locality_clean_name, airports_nearest, cityCenters_nearest, parks_around3000, parks_nearest, ponds_around3000, ponds_nearest, days_exposition]\n",
      "Index: []\n",
      "\n",
      "[0 rows x 23 columns]\n"
     ]
    }
   ],
   "source": [
    "#проверка rooms\n",
    "data['rooms'].describe()\n",
    "#минимальное значение выглядит неадекватно\n",
    "print(data['rooms'].sort_values().head(20))\n",
    "#обнаружены неуместные нулевые значения, изучаю проблемные строки\n",
    "print(data.loc[data['rooms'].isna()])\n",
    "#квартиры с нулевым количеством комнат достаточно мальенькие, скорей всего они однокомнатные\n",
    "data['rooms'] = data['rooms'].replace(0,1)"
   ]
  },
  {
   "cell_type": "code",
   "execution_count": 27,
   "metadata": {
    "scrolled": true
   },
   "outputs": [
    {
     "name": "stdout",
     "output_type": "stream",
     "text": [
      "22590    1.00\n",
      "5712     1.20\n",
      "16934    1.75\n",
      "20520    2.00\n",
      "552      2.00\n",
      "4212     2.00\n",
      "5850     2.00\n",
      "16884    2.00\n",
      "19098    2.00\n",
      "16446    2.00\n",
      "11352    2.00\n",
      "2572     2.00\n",
      "22960    2.00\n",
      "19329    2.00\n",
      "12755    2.20\n",
      "17794    2.25\n",
      "17762    2.30\n",
      "5498     2.30\n",
      "23498    2.30\n",
      "1582     2.30\n",
      "Name: ceiling_height, dtype: float64\n",
      "355       25.0\n",
      "18545     25.0\n",
      "14382     25.0\n",
      "4643      25.0\n",
      "9379      25.0\n",
      "6246      25.0\n",
      "11285     25.0\n",
      "5669      26.0\n",
      "17857     27.0\n",
      "21824     27.0\n",
      "10773     27.0\n",
      "4876      27.0\n",
      "5807      27.0\n",
      "5246      27.0\n",
      "22938     27.0\n",
      "20478     27.0\n",
      "21377     27.5\n",
      "3148      32.0\n",
      "22336     32.0\n",
      "22869    100.0\n",
      "Name: ceiling_height, dtype: float64\n"
     ]
    }
   ],
   "source": [
    "#проверка ceiling_height\n",
    "data['ceiling_height'].describe()\n",
    "#минимальное и максимальное значение выглядит подозрительно\n",
    "print(data['ceiling_height'].sort_values().head(20))\n",
    "print(data['ceiling_height'].sort_values().tail(20))\n",
    "#потолоки редко бывают выше 10м, видимо там ошиблись точкой\n",
    "#нормы строительства говорят, что минимальная высота потолка равна 2.65м, я буду использовать это в функции\n",
    "def ceiling_fix(ceiling):\n",
    "    if ceiling > 20:\n",
    "        return ceiling * 0.1\n",
    "    elif ceiling < 2.65:\n",
    "        return data['ceiling_height'].median()\n",
    "    else:\n",
    "        return ceiling\n",
    "data['ceiling_height'] = data['ceiling_height'].apply(ceiling_fix)"
   ]
  },
  {
   "cell_type": "code",
   "execution_count": 28,
   "metadata": {},
   "outputs": [
    {
     "data": {
      "text/plain": [
       "count    23699.000000\n",
       "mean        10.667750\n",
       "std          6.585961\n",
       "min          1.000000\n",
       "25%          5.000000\n",
       "50%          9.000000\n",
       "75%         16.000000\n",
       "max         60.000000\n",
       "Name: floors_total, dtype: float64"
      ]
     },
     "execution_count": 28,
     "metadata": {},
     "output_type": "execute_result"
    }
   ],
   "source": [
    "#проверка floors_total\n",
    "data['floors_total'].describe()\n",
    "#всё в порядке"
   ]
  },
  {
   "cell_type": "code",
   "execution_count": 29,
   "metadata": {
    "scrolled": true
   },
   "outputs": [
    {
     "name": "stdout",
     "output_type": "stream",
     "text": [
      "13915    2.0\n",
      "21758    2.0\n",
      "3242     3.0\n",
      "23574    3.0\n",
      "17582    5.0\n",
      "21943    5.4\n",
      "16431    6.0\n",
      "19251    6.5\n",
      "23208    8.0\n",
      "20994    8.0\n",
      "114      8.3\n",
      "2309     8.4\n",
      "21505    8.5\n",
      "17248    8.9\n",
      "19620    9.0\n",
      "1326     9.0\n",
      "7312     9.0\n",
      "8325     9.0\n",
      "680      9.0\n",
      "22252    9.0\n",
      "Name: living_area, dtype: float64\n",
      "6221     248.7\n",
      "12971    250.0\n",
      "15701    250.0\n",
      "1494     250.0\n",
      "15151    250.0\n",
      "793      250.0\n",
      "1085     255.7\n",
      "15651    258.0\n",
      "19865    260.0\n",
      "14498    264.5\n",
      "22494    274.0\n",
      "20273    279.6\n",
      "14088    300.0\n",
      "8018     301.5\n",
      "660      312.5\n",
      "12859    322.3\n",
      "4237     332.0\n",
      "12401    347.5\n",
      "5358     409.0\n",
      "19540    409.7\n",
      "Name: living_area, dtype: float64\n"
     ]
    }
   ],
   "source": [
    "#проверка living_area\n",
    "data['living_area'].describe()\n",
    "#минимальное и максимальное значение выглядит подозрительно\n",
    "print(data['living_area'].sort_values().head(20))\n",
    "print(data['living_area'].sort_values().tail(20))\n",
    "#всё в порядке\n",
    "#остальные столбцы выглядят адекватно"
   ]
  },
  {
   "cell_type": "markdown",
   "metadata": {},
   "source": [
    "## Добавление новых столбцов"
   ]
  },
  {
   "cell_type": "code",
   "execution_count": 30,
   "metadata": {},
   "outputs": [],
   "source": [
    "import datetime as dt\n",
    "#создание дополнительных столбцов\n",
    "data['price_per_square'] = data['last_price']/data['total_area']\n",
    "data['publication_day'] = data['first_day_exposition'].dt.dayofweek\n",
    "data['publication_month'] = data['first_day_exposition'].dt.strftime(\"%m\")\n",
    "data['publication_year'] = data['first_day_exposition'].dt.strftime(\"%Y\")\n",
    "data['cityCenters_nearest_km'] = data['cityCenters_nearest'] / 1000"
   ]
  },
  {
   "cell_type": "code",
   "execution_count": 31,
   "metadata": {},
   "outputs": [],
   "source": [
    "#Определение типа этажа\n",
    "def floor_type(floor, floors_total):\n",
    "    if floor == 1:\n",
    "        return 'первый'\n",
    "    elif floor == floors_total:\n",
    "        return 'последний'\n",
    "    else:\n",
    "        return 'другой'\n",
    "data['floor_type'] = data.apply(lambda x: floor_type(x.floor, x.floors_total), axis=1)"
   ]
  },
  {
   "cell_type": "markdown",
   "metadata": {},
   "source": [
    "## Исследовательский анализ данных"
   ]
  },
  {
   "cell_type": "code",
   "execution_count": 32,
   "metadata": {
    "scrolled": true
   },
   "outputs": [
    {
     "data": {
      "image/png": "[encoded data removed]",
      "text/plain": [
       "<Figure size 864x432 with 1 Axes>"
      ]
     },
     "metadata": {
      "needs_background": "light"
     },
     "output_type": "display_data"
    }
   ],
   "source": [
    "#исследую столбец total_area\n",
    "data['total_area'].hist(figsize =(12,6))\n",
    "plt.title('Распределение квартир по общей площади')\n",
    "plt.xlabel('Площадь')\n",
    "plt.ylabel('Количество квартир')\n",
    "plt.show()"
   ]
  },
  {
   "cell_type": "markdown",
   "metadata": {},
   "source": [
    "Анализ столбца total_area указывает на то, что площадь большинства квартир не превышает 100 кв.м"
   ]
  },
  {
   "cell_type": "code",
   "execution_count": 33,
   "metadata": {
    "scrolled": true
   },
   "outputs": [
    {
     "data": {
      "image/png": "[encoded data removed]",
      "text/plain": [
       "<Figure size 864x432 with 1 Axes>"
      ]
     },
     "metadata": {
      "needs_background": "light"
     },
     "output_type": "display_data"
    }
   ],
   "source": [
    "#исследую столбец living_area\n",
    "data['living_area'].hist(figsize =(12,6))\n",
    "plt.title('Распределение квартир по жилой площадь')\n",
    "plt.xlabel('Площадь')\n",
    "plt.ylabel('Количество квартир')\n",
    "plt.show()"
   ]
  },
  {
   "cell_type": "markdown",
   "metadata": {},
   "source": [
    "Анализ столбца living_area говорит о том, что большинство квартир имеют жилплощадь меньше 50 кв.м\n",
    "Также есть доля квартир с жилплощадью больше 50 кв.м и ниже 100 кв.м"
   ]
  },
  {
   "cell_type": "code",
   "execution_count": 34,
   "metadata": {
    "scrolled": true
   },
   "outputs": [
    {
     "data": {
      "image/png": "[encoded data removed]",
      "text/plain": [
       "<Figure size 864x432 with 1 Axes>"
      ]
     },
     "metadata": {
      "needs_background": "light"
     },
     "output_type": "display_data"
    }
   ],
   "source": [
    "#исследую столбец kitchen_area\n",
    "data['kitchen_area'].hist(figsize=(12,6))\n",
    "plt.title('Распределение квартир по площади кухни')\n",
    "plt.xlabel('Площадь')\n",
    "plt.ylabel('Количество квартир')\n",
    "plt.show()"
   ]
  },
  {
   "cell_type": "markdown",
   "metadata": {},
   "source": [
    "Анализ столбца kitchen_area говорит о том, что большинство квартир имеют кухню с площадью меньше 20 кв.м"
   ]
  },
  {
   "cell_type": "code",
   "execution_count": 35,
   "metadata": {
    "scrolled": true
   },
   "outputs": [
    {
     "data": {
      "image/png": "[encoded data removed]",
      "text/plain": [
       "<Figure size 864x432 with 1 Axes>"
      ]
     },
     "metadata": {
      "needs_background": "light"
     },
     "output_type": "display_data"
    }
   ],
   "source": [
    "#исследую столбец last_price\n",
    "data['last_price'].hist(figsize=(12,6))\n",
    "plt.title('Распределение квартир по выставленной цене')\n",
    "plt.xlabel('Площадь')\n",
    "plt.ylabel('Количество квартир')\n",
    "plt.show()"
   ]
  },
  {
   "cell_type": "markdown",
   "metadata": {},
   "source": [
    "Анализ столбца last_price говорит о том, что большинство квартир было продано за цену ниже 10 млн"
   ]
  },
  {
   "cell_type": "code",
   "execution_count": 36,
   "metadata": {
    "scrolled": true
   },
   "outputs": [
    {
     "data": {
      "image/png": "[encoded data removed]",
      "text/plain": [
       "<Figure size 864x432 with 1 Axes>"
      ]
     },
     "metadata": {
      "needs_background": "light"
     },
     "output_type": "display_data"
    }
   ],
   "source": [
    "#исследую столбец rooms\n",
    "data['rooms'].hist(figsize=(12,6))\n",
    "plt.title('Распределение квартир по колиеству комнат')\n",
    "plt.xlabel('Количество комнат')\n",
    "plt.ylabel('Количество квартир')\n",
    "plt.show()"
   ]
  },
  {
   "cell_type": "markdown",
   "metadata": {},
   "source": [
    "Анализ столбца rooms говорит о том, что большинство квартир являються однокомнатными, при этом есть значительная доля квартир с числом комнат от 2 до 4"
   ]
  },
  {
   "cell_type": "code",
   "execution_count": 37,
   "metadata": {
    "scrolled": true
   },
   "outputs": [
    {
     "data": {
      "image/png": "[encoded data removed]",
      "text/plain": [
       "<Figure size 864x432 with 1 Axes>"
      ]
     },
     "metadata": {
      "needs_background": "light"
     },
     "output_type": "display_data"
    }
   ],
   "source": [
    "#исследую столбец ceiling_height\n",
    "data['ceiling_height'].hist(figsize=(12,6))\n",
    "plt.title('Распределение квартир по высоте потолка')\n",
    "plt.xlabel('высота потолка')\n",
    "plt.ylabel('Количество квартир')\n",
    "plt.show()"
   ]
  },
  {
   "cell_type": "markdown",
   "metadata": {},
   "source": [
    "Анализ столбца ceiling_height говорит о том, что большинство квартир имеют потолок, ниже 5м"
   ]
  },
  {
   "cell_type": "code",
   "execution_count": 38,
   "metadata": {
    "scrolled": true
   },
   "outputs": [
    {
     "data": {
      "image/png": "[encoded data removed]",
      "text/plain": [
       "<Figure size 864x432 with 1 Axes>"
      ]
     },
     "metadata": {
      "needs_background": "light"
     },
     "output_type": "display_data"
    }
   ],
   "source": [
    "#исследую столбец floor\n",
    "data['floor'].hist(figsize=(12,6))\n",
    "plt.title('Распределение квартир по этажу')\n",
    "plt.xlabel('Этаж квартиры')\n",
    "plt.ylabel('Количество квартир')\n",
    "plt.show()"
   ]
  },
  {
   "cell_type": "markdown",
   "metadata": {},
   "source": [
    "Анализ столбца floor говорит о том, что разброс в этом столбце сильнее чем в предыдущих, но большинство квартир находяться на первых пяти этажах"
   ]
  },
  {
   "cell_type": "code",
   "execution_count": 39,
   "metadata": {
    "scrolled": true
   },
   "outputs": [
    {
     "data": {
      "image/png": "[encoded data removed]",
      "text/plain": [
       "<Figure size 864x432 with 1 Axes>"
      ]
     },
     "metadata": {
      "needs_background": "light"
     },
     "output_type": "display_data"
    }
   ],
   "source": [
    "#исследую столбец floor_type\n",
    "data['floor_type'].hist(figsize=(12,6), bins = 3)\n",
    "plt.title('Распределение квартир по типу этажа')\n",
    "plt.xlabel('Тип этажа')\n",
    "plt.ylabel('Количество квартир')\n",
    "plt.show()"
   ]
  },
  {
   "cell_type": "markdown",
   "metadata": {},
   "source": [
    "Анализ столбца floor_type говорит о том, что большинство квартир находится между первым и последним этажом, а квартиры на последнем этаже продают чаще, чем квартиры на первом"
   ]
  },
  {
   "cell_type": "code",
   "execution_count": 40,
   "metadata": {
    "scrolled": true
   },
   "outputs": [
    {
     "data": {
      "image/png": "[encoded data removed]",
      "text/plain": [
       "<Figure size 864x432 with 1 Axes>"
      ]
     },
     "metadata": {
      "needs_background": "light"
     },
     "output_type": "display_data"
    }
   ],
   "source": [
    "#исследую столбец floors_total\n",
    "data['floors_total'].hist(figsize=(12,6))\n",
    "plt.title('Распределение квартир по количеству этажей в доме')\n",
    "plt.xlabel('Этажей в доме')\n",
    "plt.ylabel('Количество квартир')\n",
    "plt.show()"
   ]
  },
  {
   "cell_type": "markdown",
   "metadata": {},
   "source": [
    "Анализ столбца floor_type говорит о том, что почти все квартиры в таблице не находятся в домах, с числом этажей больше тридцати, а большинство квартир на продаже находяться в домах с чилом этажей не больше десяти"
   ]
  },
  {
   "cell_type": "code",
   "execution_count": 41,
   "metadata": {
    "scrolled": true
   },
   "outputs": [
    {
     "data": {
      "image/png": "[encoded data removed]",
      "text/plain": [
       "<Figure size 864x432 with 1 Axes>"
      ]
     },
     "metadata": {
      "needs_background": "light"
     },
     "output_type": "display_data"
    }
   ],
   "source": [
    "#исследую столбец cityCenters_nearest\n",
    "data['cityCenters_nearest'].hist(figsize=(12,6))\n",
    "plt.title('Распределение квартир по расстоянию до центра города')\n",
    "plt.xlabel('Расстояние')\n",
    "plt.ylabel('Количество квартир')\n",
    "plt.show()"
   ]
  },
  {
   "cell_type": "markdown",
   "metadata": {},
   "source": [
    "Анализ столбца cityCenters_nearest говорит о том, что большинство квартир находиться не дальше 20км от центра города"
   ]
  },
  {
   "cell_type": "code",
   "execution_count": 42,
   "metadata": {
    "scrolled": true
   },
   "outputs": [
    {
     "data": {
      "image/png": "[encoded data removed]",
      "text/plain": [
       "<Figure size 864x432 with 1 Axes>"
      ]
     },
     "metadata": {
      "needs_background": "light"
     },
     "output_type": "display_data"
    }
   ],
   "source": [
    "#исследую столбец airports_nearest\n",
    "data['airports_nearest'].hist(figsize=(12,6))\n",
    "plt.title('Распределение квартир по расстоянию до близжайшего аэропорта')\n",
    "plt.xlabel('Расстояние')\n",
    "plt.ylabel('Количество квартир')\n",
    "plt.show()"
   ]
  },
  {
   "cell_type": "markdown",
   "metadata": {},
   "source": [
    "Анализ столбца airports_nearest говорит о том, что большинство квартир находиться в диапазоне 10 000км - 50 000км от аэропорта"
   ]
  },
  {
   "cell_type": "code",
   "execution_count": 43,
   "metadata": {
    "scrolled": true
   },
   "outputs": [
    {
     "data": {
      "image/png": "[encoded data removed]",
      "text/plain": [
       "<Figure size 864x432 with 1 Axes>"
      ]
     },
     "metadata": {
      "needs_background": "light"
     },
     "output_type": "display_data"
    }
   ],
   "source": [
    "#исследую столбец parks_nearest\n",
    "data['parks_nearest'].hist(figsize=(12,6))\n",
    "plt.title('Распределение квартир по расстоянию до близжайшего парка')\n",
    "plt.xlabel('Расстояние')\n",
    "plt.ylabel('Количество квартир')\n",
    "plt.show()"
   ]
  },
  {
   "cell_type": "markdown",
   "metadata": {},
   "source": [
    "Анализ столбца parks_nearest говорит о том, что большинство квартир находиться не дальше чем на километр от близжайшего парка,\n",
    "но в этой также можно выделить то, что там больше квартир которые находятся примерно в 500 метрах от близжайшего парка"
   ]
  },
  {
   "cell_type": "code",
   "execution_count": 44,
   "metadata": {
    "scrolled": true
   },
   "outputs": [
    {
     "data": {
      "image/png": "[encoded data removed]",
      "text/plain": [
       "<Figure size 864x432 with 1 Axes>"
      ]
     },
     "metadata": {
      "needs_background": "light"
     },
     "output_type": "display_data"
    }
   ],
   "source": [
    "#исследую столбец publication_day\n",
    "data['publication_day'].hist(figsize=(12,6), bins=7)\n",
    "plt.title('Распределение объявлений по дню публикации')\n",
    "plt.xlabel('День публикации')\n",
    "plt.ylabel('Количество объявлений')\n",
    "plt.show()"
   ]
  },
  {
   "cell_type": "markdown",
   "metadata": {},
   "source": [
    "Анализ столбца publication_day говорит о том, что большинство объявлений было опубликовано в будние дни"
   ]
  },
  {
   "cell_type": "code",
   "execution_count": 45,
   "metadata": {
    "scrolled": true
   },
   "outputs": [
    {
     "data": {
      "image/png": "[encoded data removed]",
      "text/plain": [
       "<Figure size 864x432 with 1 Axes>"
      ]
     },
     "metadata": {
      "needs_background": "light"
     },
     "output_type": "display_data"
    }
   ],
   "source": [
    "#исследую столбец publication_month\n",
    "data['publication_month'].hist(figsize=(12,6), bins=12)\n",
    "plt.title('Распределение объявлений по месяцу публикации')\n",
    "plt.xlabel('Месяц публикации')\n",
    "plt.ylabel('Количество объявлений')\n",
    "plt.show()"
   ]
  },
  {
   "cell_type": "markdown",
   "metadata": {},
   "source": [
    "Анализ столбца publication_month говорит о том, что большинство объявлений было опубликовано в марте и феврале, меньше всего объявлений было в мае"
   ]
  },
  {
   "cell_type": "markdown",
   "metadata": {},
   "source": [
    "Промежуточный вывод\n",
    "Большинство квартир выставленных на продажу во многом схожи\n",
    "Общая площадь - не превышает 100 кв.м\n",
    "Площадь кухни - не превышает 20 кв.м\n",
    "Потолок - не превышает 5м\n",
    "Цена - не превышает 10 млн\n",
    "Не дальше 20км от центра города\n",
    "Не дальше километра от близжайшего парка"
   ]
  },
  {
   "cell_type": "markdown",
   "metadata": {},
   "source": [
    "## Изучение продаж квартир"
   ]
  },
  {
   "cell_type": "code",
   "execution_count": 46,
   "metadata": {
    "scrolled": true
   },
   "outputs": [
    {
     "name": "stdout",
     "output_type": "stream",
     "text": [
      "Медиана равна -  95.0 \n",
      "Среднее значение равно 169.36022616988058\n"
     ]
    },
    {
     "data": {
      "image/png": "[encoded data removed]",
      "text/plain": [
       "<Figure size 864x432 with 1 Axes>"
      ]
     },
     "metadata": {
      "needs_background": "light"
     },
     "output_type": "display_data"
    }
   ],
   "source": [
    "#изучение времени, которое уходит на продажу квартиры\n",
    "data['days_exposition'].hist(figsize=(12,6), bins = 30)\n",
    "print('Медиана равна - ',data['days_exposition'].median(),'\\nСреднее значение равно',data['days_exposition'].mean())\n",
    "plt.title('Распределение объявлий по скорости продажи')\n",
    "plt.xlabel('Количество дней, между публикацией объявления и совершением сделки')\n",
    "plt.ylabel('Количество объявлений')\n",
    "plt.show()"
   ]
  },
  {
   "cell_type": "markdown",
   "metadata": {},
   "source": [
    "Большинство квартир продаётся в течении 200 дней, если квартира не продаётся за это время, то вероятность продажи стремительно падает\n",
    "Я буду считать так: быстрые продажи - быстрее 70 дней, долгие продажи - более 180 дней"
   ]
  },
  {
   "cell_type": "code",
   "execution_count": 47,
   "metadata": {
    "scrolled": true
   },
   "outputs": [
    {
     "name": "stdout",
     "output_type": "stream",
     "text": [
      "            last_price\n",
      "floor_type            \n",
      "другой       4850000.0\n",
      "первый       3900000.0\n",
      "последний    4300000.0\n",
      "                 last_price\n",
      "publication_day            \n",
      "0                 4650000.0\n",
      "1                 4730000.0\n",
      "2                 4700000.0\n",
      "3                 4650000.0\n",
      "4                 4585000.0\n",
      "5                 4555000.0\n",
      "6                 4550000.0\n",
      "                   last_price\n",
      "publication_month            \n",
      "01                  4600000.0\n",
      "02                  4650000.0\n",
      "03                  4650000.0\n",
      "04                  4800000.0\n",
      "05                  4515000.0\n",
      "06                  4400000.0\n",
      "07                  4650000.0\n",
      "08                  4570000.0\n",
      "09                  4700000.0\n",
      "10                  4570000.0\n",
      "11                  4700000.0\n",
      "12                  4700000.0\n",
      "                  last_price\n",
      "publication_year            \n",
      "2014               7700000.0\n",
      "2015               5350000.0\n",
      "2016               4550000.0\n",
      "2017               4500000.0\n",
      "2018               4550000.0\n",
      "2019               5050000.0\n"
     ]
    },
    {
     "data": {
      "image/png": "[encoded data removed]",
      "text/plain": [
       "<Figure size 432x288 with 1 Axes>"
      ]
     },
     "metadata": {
      "needs_background": "light"
     },
     "output_type": "display_data"
    },
    {
     "data": {
      "image/png": "[encoded data removed]",
      "text/plain": [
       "<Figure size 432x288 with 1 Axes>"
      ]
     },
     "metadata": {
      "needs_background": "light"
     },
     "output_type": "display_data"
    },
    {
     "data": {
      "image/png": "[encoded data removed]",
      "text/plain": [
       "<Figure size 432x288 with 1 Axes>"
      ]
     },
     "metadata": {
      "needs_background": "light"
     },
     "output_type": "display_data"
    },
    {
     "data": {
      "image/png": "[encoded data removed]",
      "text/plain": [
       "<Figure size 432x288 with 1 Axes>"
      ]
     },
     "metadata": {
      "needs_background": "light"
     },
     "output_type": "display_data"
    }
   ],
   "source": [
    "#поиск столбца, который имеет максимальное влияние на цену\n",
    "data.plot.scatter(x = ['last_price'], y=['total_area'])\n",
    "data.plot.scatter(x = ['last_price'], y=['living_area'])\n",
    "data.plot.scatter(x = ['last_price'], y=['kitchen_area'])\n",
    "data.plot.scatter(x = ['last_price'], y=['rooms'])\n",
    "floor_stat = pd.pivot_table(data, values='last_price', index = 'floor_type', aggfunc='median')\n",
    "print(floor_stat)\n",
    "day_stat = pd.pivot_table(data, values='last_price', index = 'publication_day', aggfunc='median')\n",
    "print(day_stat)\n",
    "month_stat = pd.pivot_table(data, values='last_price', index = 'publication_month', aggfunc='median')\n",
    "print(month_stat)\n",
    "year_stat = pd.pivot_table(data, values='last_price', index = 'publication_year', aggfunc='median')\n",
    "print(year_stat)"
   ]
  },
  {
   "cell_type": "markdown",
   "metadata": {},
   "source": [
    "Промежуточный вывод:Больше всего на стоимость квартиры влияет её площадь"
   ]
  },
  {
   "cell_type": "markdown",
   "metadata": {},
   "source": [
    "### Поиск цены квадратного метра"
   ]
  },
  {
   "cell_type": "code",
   "execution_count": 48,
   "metadata": {},
   "outputs": [
    {
     "name": "stdout",
     "output_type": "stream",
     "text": [
      "                     price_per_square\n",
      "locality_clean_name                  \n",
      "зеленогорск             115122.799198\n",
      "санкт-петербург         114849.008794\n",
      "репино                  104238.614786\n",
      "пушкин                  103125.819291\n",
      "сестрорецк              101757.616875\n",
      "лисий нос               100660.814239\n",
      "мистолово                98549.976709\n",
      "левашово                 96997.690531\n",
      "кудрово                  95324.930544\n",
      "неизвестно               94309.994932\n"
     ]
    }
   ],
   "source": [
    "locality_stat = pd.pivot_table(data, values='price_per_square', index='locality_clean_name', aggfunc='mean').sort_values(by='price_per_square', ascending=False)\n",
    "print(locality_stat.head(10))"
   ]
  },
  {
   "cell_type": "markdown",
   "metadata": {},
   "source": [
    "Поиск влияния расстояния от центра города на цену"
   ]
  },
  {
   "cell_type": "code",
   "execution_count": 49,
   "metadata": {},
   "outputs": [
    {
     "data": {
      "text/plain": [
       "<AxesSubplot:xlabel='last_price', ylabel='cityCenters_nearest'>"
      ]
     },
     "execution_count": 49,
     "metadata": {},
     "output_type": "execute_result"
    },
    {
     "data": {
      "image/png": "[encoded data removed]",
      "text/plain": [
       "<Figure size 432x288 with 1 Axes>"
      ]
     },
     "metadata": {
      "needs_background": "light"
     },
     "output_type": "display_data"
    }
   ],
   "source": [
    "#создаю таблицу с питерскими квартирами и вычисляю \"цену за километр\"\n",
    "import warnings\n",
    "\n",
    "warnings.simplefilter('ignore')\n",
    "\n",
    "spb_stat = data.query('locality_clean_name == \"санкт-петербург\"')\n",
    "spb_stat['cost_per_km'] = spb_stat['last_price'] / spb_stat['cityCenters_nearest']\n",
    "spb_stat.plot.scatter(x='last_price',y='cityCenters_nearest')"
   ]
  },
  {
   "cell_type": "markdown",
   "metadata": {},
   "source": [
    "Чем ближе квартира к центру, тем она дороже, кто бы мог подумать"
   ]
  },
  {
   "cell_type": "markdown",
   "metadata": {},
   "source": [
    "### Общий вывод"
   ]
  },
  {
   "cell_type": "markdown",
   "metadata": {},
   "source": [
    "В данном проекте я занимался:\n",
    "\n",
    "-Предобработкой данных :\n",
    "заполнил нулевые значения, где это возможно.\n",
    "Создал столбец с названиями населённых пунктов, где это возможно\n",
    "Изменил тип данных некоторых столбцов, для возможности дальнейшего анализа\n",
    "\n",
    "-Провёл анализ столбцов, и пришёл к выводу о том, что большая часть объявлений похожа друг на друга и имеет общие черты(см.вывод пункта 7)\n",
    "\n",
    "-Провёл анализ продаж и ценообразования\n",
    "Оказалось, что сильнее всего на цену квартиры влияет площадь и близость к центру города"
   ]
  }
 ],
 "metadata": {
  "ExecuteTimeLog": [
   {
    "duration": 51,
    "start_time": "2022-11-28T09:43:57.233Z"
   },
   {
    "duration": 706,
    "start_time": "2022-11-28T09:44:03.504Z"
   },
   {
    "duration": 6,
    "start_time": "2022-11-28T09:44:05.430Z"
   },
   {
    "duration": 17,
    "start_time": "2022-11-28T09:44:21.630Z"
   },
   {
    "duration": 374,
    "start_time": "2022-11-28T09:44:24.991Z"
   },
   {
    "duration": 94,
    "start_time": "2022-11-28T09:49:24.938Z"
   },
   {
    "duration": 20,
    "start_time": "2022-11-28T09:49:26.687Z"
   },
   {
    "duration": 16,
    "start_time": "2022-11-28T09:49:32.973Z"
   },
   {
    "duration": 2068,
    "start_time": "2022-11-28T09:49:36.641Z"
   },
   {
    "duration": 51,
    "start_time": "2022-11-30T14:02:17.840Z"
   },
   {
    "duration": 1141,
    "start_time": "2022-11-30T14:02:26.689Z"
   },
   {
    "duration": 23,
    "start_time": "2022-11-30T14:02:27.832Z"
   },
   {
    "duration": 26,
    "start_time": "2022-11-30T14:02:27.857Z"
   },
   {
    "duration": 2671,
    "start_time": "2022-11-30T14:02:27.885Z"
   },
   {
    "duration": 11,
    "start_time": "2022-11-30T14:02:30.559Z"
   },
   {
    "duration": 36,
    "start_time": "2022-11-30T14:09:20.272Z"
   },
   {
    "duration": 10,
    "start_time": "2022-11-30T14:12:13.315Z"
   },
   {
    "duration": 9,
    "start_time": "2022-11-30T14:12:20.322Z"
   },
   {
    "duration": 73,
    "start_time": "2022-11-30T14:15:51.637Z"
   },
   {
    "duration": 9,
    "start_time": "2022-11-30T14:16:30.934Z"
   },
   {
    "duration": 9,
    "start_time": "2022-11-30T14:16:51.385Z"
   },
   {
    "duration": 14,
    "start_time": "2022-11-30T14:17:16.188Z"
   },
   {
    "duration": 269,
    "start_time": "2022-11-30T14:20:28.884Z"
   },
   {
    "duration": 7,
    "start_time": "2022-11-30T14:22:45.199Z"
   },
   {
    "duration": 9,
    "start_time": "2022-11-30T14:25:22.448Z"
   },
   {
    "duration": 8,
    "start_time": "2022-11-30T14:31:47.186Z"
   },
   {
    "duration": 19,
    "start_time": "2022-11-30T14:33:36.549Z"
   },
   {
    "duration": 7,
    "start_time": "2022-11-30T14:45:05.512Z"
   },
   {
    "duration": 53,
    "start_time": "2022-11-30T14:58:30.128Z"
   },
   {
    "duration": 34,
    "start_time": "2022-11-30T15:01:35.941Z"
   },
   {
    "duration": 37,
    "start_time": "2022-11-30T15:01:59.420Z"
   },
   {
    "duration": 36,
    "start_time": "2022-11-30T15:02:21.715Z"
   },
   {
    "duration": 39,
    "start_time": "2022-11-30T15:05:13.520Z"
   },
   {
    "duration": 40,
    "start_time": "2022-11-30T15:05:23.637Z"
   },
   {
    "duration": 44,
    "start_time": "2022-11-30T15:05:56.623Z"
   },
   {
    "duration": 53,
    "start_time": "2022-11-30T15:06:17.078Z"
   },
   {
    "duration": 6,
    "start_time": "2022-11-30T15:28:22.254Z"
   },
   {
    "duration": 17589,
    "start_time": "2022-11-30T15:30:51.973Z"
   },
   {
    "duration": 45,
    "start_time": "2022-11-30T15:32:07.972Z"
   },
   {
    "duration": 12,
    "start_time": "2022-11-30T15:32:51.812Z"
   },
   {
    "duration": 18,
    "start_time": "2022-11-30T15:33:15.572Z"
   },
   {
    "duration": 57,
    "start_time": "2022-11-30T15:33:30.975Z"
   },
   {
    "duration": 3288,
    "start_time": "2022-11-30T15:59:30.734Z"
   },
   {
    "duration": 55,
    "start_time": "2022-11-30T16:01:04.854Z"
   },
   {
    "duration": 76,
    "start_time": "2022-11-30T16:08:02.460Z"
   },
   {
    "duration": 51,
    "start_time": "2022-11-30T16:12:05.695Z"
   },
   {
    "duration": 49,
    "start_time": "2022-11-30T16:13:13.828Z"
   },
   {
    "duration": 55,
    "start_time": "2022-11-30T16:14:51.283Z"
   },
   {
    "duration": 56,
    "start_time": "2022-11-30T16:15:19.992Z"
   },
   {
    "duration": 3323,
    "start_time": "2022-11-30T16:15:34.192Z"
   },
   {
    "duration": 56,
    "start_time": "2022-11-30T16:17:40.996Z"
   },
   {
    "duration": 51,
    "start_time": "2022-11-30T16:18:13.518Z"
   },
   {
    "duration": 54,
    "start_time": "2022-11-30T16:18:19.615Z"
   },
   {
    "duration": 61,
    "start_time": "2022-11-30T16:19:01.884Z"
   },
   {
    "duration": 52,
    "start_time": "2022-12-01T09:34:29.221Z"
   },
   {
    "duration": 759,
    "start_time": "2022-12-01T09:34:37.923Z"
   },
   {
    "duration": 42,
    "start_time": "2022-12-01T09:34:38.684Z"
   },
   {
    "duration": 14,
    "start_time": "2022-12-01T09:34:38.727Z"
   },
   {
    "duration": 2667,
    "start_time": "2022-12-01T09:34:38.743Z"
   },
   {
    "duration": 10,
    "start_time": "2022-12-01T09:34:41.412Z"
   },
   {
    "duration": 47,
    "start_time": "2022-12-01T09:34:41.424Z"
   },
   {
    "duration": 134,
    "start_time": "2022-12-01T09:34:41.473Z"
   },
   {
    "duration": 5,
    "start_time": "2022-12-01T10:16:43.963Z"
   },
   {
    "duration": 483,
    "start_time": "2022-12-01T10:41:33.336Z"
   },
   {
    "duration": 487,
    "start_time": "2022-12-01T10:41:39.413Z"
   },
   {
    "duration": 36,
    "start_time": "2022-12-01T10:41:39.902Z"
   },
   {
    "duration": 15,
    "start_time": "2022-12-01T10:41:39.940Z"
   },
   {
    "duration": 2359,
    "start_time": "2022-12-01T10:41:39.958Z"
   },
   {
    "duration": 8,
    "start_time": "2022-12-01T10:41:42.320Z"
   },
   {
    "duration": 51,
    "start_time": "2022-12-01T10:41:42.330Z"
   },
   {
    "duration": 4,
    "start_time": "2022-12-01T10:41:42.383Z"
   },
   {
    "duration": 536,
    "start_time": "2022-12-01T10:41:42.389Z"
   },
   {
    "duration": 8,
    "start_time": "2022-12-01T10:42:40.541Z"
   },
   {
    "duration": 30,
    "start_time": "2022-12-01T10:43:12.039Z"
   },
   {
    "duration": 11,
    "start_time": "2022-12-01T10:43:41.369Z"
   },
   {
    "duration": 4,
    "start_time": "2022-12-01T10:43:45.970Z"
   },
   {
    "duration": 45,
    "start_time": "2022-12-01T10:44:32.980Z"
   },
   {
    "duration": 29,
    "start_time": "2022-12-01T10:44:36.309Z"
   },
   {
    "duration": 477,
    "start_time": "2022-12-01T10:44:53.041Z"
   },
   {
    "duration": 36,
    "start_time": "2022-12-01T10:44:53.520Z"
   },
   {
    "duration": 19,
    "start_time": "2022-12-01T10:44:53.560Z"
   },
   {
    "duration": 2429,
    "start_time": "2022-12-01T10:44:53.597Z"
   },
   {
    "duration": 11,
    "start_time": "2022-12-01T10:44:56.027Z"
   },
   {
    "duration": 45,
    "start_time": "2022-12-01T10:44:56.040Z"
   },
   {
    "duration": 4,
    "start_time": "2022-12-01T10:44:56.087Z"
   },
   {
    "duration": 31,
    "start_time": "2022-12-01T10:44:56.093Z"
   },
   {
    "duration": 16,
    "start_time": "2022-12-01T10:53:12.050Z"
   },
   {
    "duration": 17,
    "start_time": "2022-12-01T10:53:42.886Z"
   },
   {
    "duration": 4,
    "start_time": "2022-12-01T10:53:53.532Z"
   },
   {
    "duration": 4,
    "start_time": "2022-12-01T10:58:00.868Z"
   },
   {
    "duration": 6,
    "start_time": "2022-12-01T11:00:41.879Z"
   },
   {
    "duration": 114,
    "start_time": "2022-12-01T11:05:50.564Z"
   },
   {
    "duration": 14,
    "start_time": "2022-12-01T11:06:31.215Z"
   },
   {
    "duration": 8,
    "start_time": "2022-12-01T11:07:38.196Z"
   },
   {
    "duration": 8,
    "start_time": "2022-12-01T11:08:38.991Z"
   },
   {
    "duration": 5,
    "start_time": "2022-12-01T11:13:46.869Z"
   },
   {
    "duration": 7,
    "start_time": "2022-12-01T11:14:38.778Z"
   },
   {
    "duration": 21,
    "start_time": "2022-12-01T11:15:34.665Z"
   },
   {
    "duration": 5,
    "start_time": "2022-12-01T11:19:34.438Z"
   },
   {
    "duration": 5,
    "start_time": "2022-12-01T11:32:27.849Z"
   },
   {
    "duration": 12,
    "start_time": "2022-12-01T11:50:56.917Z"
   },
   {
    "duration": 1091,
    "start_time": "2022-12-01T11:52:05.998Z"
   },
   {
    "duration": 15,
    "start_time": "2022-12-01T11:55:37.578Z"
   },
   {
    "duration": 8,
    "start_time": "2022-12-01T11:56:37.414Z"
   },
   {
    "duration": 8,
    "start_time": "2022-12-01T11:59:48.122Z"
   },
   {
    "duration": 552,
    "start_time": "2022-12-01T12:14:59.906Z"
   },
   {
    "duration": 47,
    "start_time": "2022-12-01T12:15:00.460Z"
   },
   {
    "duration": 16,
    "start_time": "2022-12-01T12:15:00.509Z"
   },
   {
    "duration": 2699,
    "start_time": "2022-12-01T12:15:00.527Z"
   },
   {
    "duration": 11,
    "start_time": "2022-12-01T12:15:03.228Z"
   },
   {
    "duration": 10,
    "start_time": "2022-12-01T12:15:03.242Z"
   },
   {
    "duration": 31,
    "start_time": "2022-12-01T12:15:03.254Z"
   },
   {
    "duration": 12,
    "start_time": "2022-12-01T12:15:03.287Z"
   },
   {
    "duration": 6,
    "start_time": "2022-12-01T12:15:03.300Z"
   },
   {
    "duration": 6,
    "start_time": "2022-12-01T12:15:03.308Z"
   },
   {
    "duration": 9,
    "start_time": "2022-12-01T12:15:03.315Z"
   },
   {
    "duration": 29,
    "start_time": "2022-12-01T12:15:03.326Z"
   },
   {
    "duration": 6,
    "start_time": "2022-12-01T12:15:03.356Z"
   },
   {
    "duration": 5,
    "start_time": "2022-12-01T12:15:03.364Z"
   },
   {
    "duration": 7,
    "start_time": "2022-12-01T12:15:03.396Z"
   },
   {
    "duration": 7,
    "start_time": "2022-12-01T12:15:03.405Z"
   },
   {
    "duration": 19,
    "start_time": "2022-12-01T12:15:03.413Z"
   },
   {
    "duration": 8,
    "start_time": "2022-12-01T12:20:45.882Z"
   },
   {
    "duration": 68,
    "start_time": "2022-12-01T19:52:00.512Z"
   },
   {
    "duration": 779,
    "start_time": "2022-12-01T19:52:08.534Z"
   },
   {
    "duration": 51,
    "start_time": "2022-12-01T19:52:09.316Z"
   },
   {
    "duration": 23,
    "start_time": "2022-12-01T19:52:09.369Z"
   },
   {
    "duration": 2647,
    "start_time": "2022-12-01T19:52:09.394Z"
   },
   {
    "duration": 10,
    "start_time": "2022-12-01T19:52:12.044Z"
   },
   {
    "duration": 12,
    "start_time": "2022-12-01T19:52:12.056Z"
   },
   {
    "duration": 40,
    "start_time": "2022-12-01T19:52:12.070Z"
   },
   {
    "duration": 17,
    "start_time": "2022-12-01T19:52:12.112Z"
   },
   {
    "duration": 29,
    "start_time": "2022-12-01T19:52:12.131Z"
   },
   {
    "duration": 18,
    "start_time": "2022-12-01T19:52:12.163Z"
   },
   {
    "duration": 18,
    "start_time": "2022-12-01T19:52:12.183Z"
   },
   {
    "duration": 48,
    "start_time": "2022-12-01T19:52:12.204Z"
   },
   {
    "duration": 6,
    "start_time": "2022-12-01T19:52:12.254Z"
   },
   {
    "duration": 19,
    "start_time": "2022-12-01T19:52:12.262Z"
   },
   {
    "duration": 22,
    "start_time": "2022-12-01T19:52:12.283Z"
   },
   {
    "duration": 41,
    "start_time": "2022-12-01T19:52:12.307Z"
   },
   {
    "duration": 34,
    "start_time": "2022-12-01T19:52:12.349Z"
   },
   {
    "duration": 6,
    "start_time": "2022-12-01T19:52:12.388Z"
   },
   {
    "duration": 42,
    "start_time": "2022-12-01T19:52:12.396Z"
   },
   {
    "duration": 43,
    "start_time": "2022-12-02T08:47:15.099Z"
   },
   {
    "duration": 502,
    "start_time": "2022-12-02T08:47:21.271Z"
   },
   {
    "duration": 34,
    "start_time": "2022-12-02T08:47:21.775Z"
   },
   {
    "duration": 14,
    "start_time": "2022-12-02T08:47:21.811Z"
   },
   {
    "duration": 2310,
    "start_time": "2022-12-02T08:47:21.827Z"
   },
   {
    "duration": 9,
    "start_time": "2022-12-02T08:47:24.139Z"
   },
   {
    "duration": 11,
    "start_time": "2022-12-02T08:47:24.149Z"
   },
   {
    "duration": 30,
    "start_time": "2022-12-02T08:47:24.161Z"
   },
   {
    "duration": 12,
    "start_time": "2022-12-02T08:47:24.193Z"
   },
   {
    "duration": 7,
    "start_time": "2022-12-02T08:47:24.206Z"
   },
   {
    "duration": 6,
    "start_time": "2022-12-02T08:47:24.215Z"
   },
   {
    "duration": 11,
    "start_time": "2022-12-02T08:47:24.223Z"
   },
   {
    "duration": 28,
    "start_time": "2022-12-02T08:47:24.236Z"
   },
   {
    "duration": 5,
    "start_time": "2022-12-02T08:47:24.266Z"
   },
   {
    "duration": 7,
    "start_time": "2022-12-02T08:47:24.273Z"
   },
   {
    "duration": 9,
    "start_time": "2022-12-02T08:47:24.282Z"
   },
   {
    "duration": 20,
    "start_time": "2022-12-02T08:47:24.293Z"
   },
   {
    "duration": 17,
    "start_time": "2022-12-02T08:47:24.315Z"
   },
   {
    "duration": 6,
    "start_time": "2022-12-02T08:47:24.333Z"
   },
   {
    "duration": 19,
    "start_time": "2022-12-02T08:47:24.340Z"
   },
   {
    "duration": 93,
    "start_time": "2022-12-02T08:47:24.361Z"
   },
   {
    "duration": 20,
    "start_time": "2022-12-02T08:49:07.465Z"
   },
   {
    "duration": 24,
    "start_time": "2022-12-02T08:49:21.339Z"
   },
   {
    "duration": 439,
    "start_time": "2022-12-02T08:53:05.364Z"
   },
   {
    "duration": 32,
    "start_time": "2022-12-02T08:53:05.805Z"
   },
   {
    "duration": 15,
    "start_time": "2022-12-02T08:53:05.839Z"
   },
   {
    "duration": 2189,
    "start_time": "2022-12-02T08:53:05.856Z"
   },
   {
    "duration": 8,
    "start_time": "2022-12-02T08:53:08.047Z"
   },
   {
    "duration": 7,
    "start_time": "2022-12-02T08:53:08.057Z"
   },
   {
    "duration": 54,
    "start_time": "2022-12-02T08:53:08.065Z"
   },
   {
    "duration": 28,
    "start_time": "2022-12-02T08:53:08.120Z"
   },
   {
    "duration": 23,
    "start_time": "2022-12-02T08:53:08.149Z"
   },
   {
    "duration": 18,
    "start_time": "2022-12-02T08:53:08.175Z"
   },
   {
    "duration": 15,
    "start_time": "2022-12-02T08:53:08.195Z"
   },
   {
    "duration": 42,
    "start_time": "2022-12-02T08:53:08.212Z"
   },
   {
    "duration": 6,
    "start_time": "2022-12-02T08:53:08.256Z"
   },
   {
    "duration": 39,
    "start_time": "2022-12-02T08:53:08.263Z"
   },
   {
    "duration": 32,
    "start_time": "2022-12-02T08:53:08.305Z"
   },
   {
    "duration": 42,
    "start_time": "2022-12-02T08:53:08.339Z"
   },
   {
    "duration": 52,
    "start_time": "2022-12-02T08:53:08.383Z"
   },
   {
    "duration": 98,
    "start_time": "2022-12-02T08:53:08.437Z"
   },
   {
    "duration": 0,
    "start_time": "2022-12-02T08:53:08.537Z"
   },
   {
    "duration": 0,
    "start_time": "2022-12-02T08:53:08.538Z"
   },
   {
    "duration": 486,
    "start_time": "2022-12-02T08:56:08.808Z"
   },
   {
    "duration": 33,
    "start_time": "2022-12-02T08:56:09.296Z"
   },
   {
    "duration": 18,
    "start_time": "2022-12-02T08:56:09.331Z"
   },
   {
    "duration": 2173,
    "start_time": "2022-12-02T08:56:09.352Z"
   },
   {
    "duration": 8,
    "start_time": "2022-12-02T08:56:11.528Z"
   },
   {
    "duration": 7,
    "start_time": "2022-12-02T08:56:11.537Z"
   },
   {
    "duration": 29,
    "start_time": "2022-12-02T08:56:11.546Z"
   },
   {
    "duration": 11,
    "start_time": "2022-12-02T08:56:11.576Z"
   },
   {
    "duration": 5,
    "start_time": "2022-12-02T08:56:11.589Z"
   },
   {
    "duration": 19,
    "start_time": "2022-12-02T08:56:11.596Z"
   },
   {
    "duration": 5,
    "start_time": "2022-12-02T08:56:11.617Z"
   },
   {
    "duration": 24,
    "start_time": "2022-12-02T08:56:11.624Z"
   },
   {
    "duration": 5,
    "start_time": "2022-12-02T08:56:11.650Z"
   },
   {
    "duration": 5,
    "start_time": "2022-12-02T08:56:11.657Z"
   },
   {
    "duration": 9,
    "start_time": "2022-12-02T08:56:11.663Z"
   },
   {
    "duration": 5,
    "start_time": "2022-12-02T08:56:11.674Z"
   },
   {
    "duration": 41,
    "start_time": "2022-12-02T08:56:11.681Z"
   },
   {
    "duration": 5,
    "start_time": "2022-12-02T08:56:11.724Z"
   },
   {
    "duration": 16,
    "start_time": "2022-12-02T08:56:11.731Z"
   },
   {
    "duration": 27,
    "start_time": "2022-12-02T08:56:11.748Z"
   },
   {
    "duration": 21,
    "start_time": "2022-12-02T09:03:20.895Z"
   },
   {
    "duration": 19,
    "start_time": "2022-12-02T09:05:47.220Z"
   },
   {
    "duration": 78,
    "start_time": "2022-12-02T09:15:31.519Z"
   },
   {
    "duration": 479,
    "start_time": "2022-12-02T09:16:22.776Z"
   },
   {
    "duration": 33,
    "start_time": "2022-12-02T09:16:23.257Z"
   },
   {
    "duration": 23,
    "start_time": "2022-12-02T09:16:23.292Z"
   },
   {
    "duration": 2164,
    "start_time": "2022-12-02T09:16:23.317Z"
   },
   {
    "duration": 9,
    "start_time": "2022-12-02T09:16:25.483Z"
   },
   {
    "duration": 14,
    "start_time": "2022-12-02T09:16:25.493Z"
   },
   {
    "duration": 32,
    "start_time": "2022-12-02T09:16:25.509Z"
   },
   {
    "duration": 11,
    "start_time": "2022-12-02T09:16:25.543Z"
   },
   {
    "duration": 5,
    "start_time": "2022-12-02T09:16:25.555Z"
   },
   {
    "duration": 5,
    "start_time": "2022-12-02T09:16:25.562Z"
   },
   {
    "duration": 6,
    "start_time": "2022-12-02T09:16:25.569Z"
   },
   {
    "duration": 49,
    "start_time": "2022-12-02T09:16:25.577Z"
   },
   {
    "duration": 7,
    "start_time": "2022-12-02T09:16:25.628Z"
   },
   {
    "duration": 7,
    "start_time": "2022-12-02T09:16:25.636Z"
   },
   {
    "duration": 11,
    "start_time": "2022-12-02T09:16:25.644Z"
   },
   {
    "duration": 6,
    "start_time": "2022-12-02T09:16:25.657Z"
   },
   {
    "duration": 16,
    "start_time": "2022-12-02T09:16:25.665Z"
   },
   {
    "duration": 31,
    "start_time": "2022-12-02T09:16:25.682Z"
   },
   {
    "duration": 23,
    "start_time": "2022-12-02T09:16:40.820Z"
   },
   {
    "duration": 80,
    "start_time": "2022-12-02T09:16:40.845Z"
   },
   {
    "duration": 0,
    "start_time": "2022-12-02T09:16:40.927Z"
   },
   {
    "duration": 15087,
    "start_time": "2022-12-02T09:16:45.978Z"
   },
   {
    "duration": 17,
    "start_time": "2022-12-02T09:27:35.150Z"
   },
   {
    "duration": 11,
    "start_time": "2022-12-02T09:28:00.461Z"
   },
   {
    "duration": 11,
    "start_time": "2022-12-02T09:28:05.994Z"
   },
   {
    "duration": 474,
    "start_time": "2022-12-02T09:28:12.139Z"
   },
   {
    "duration": 33,
    "start_time": "2022-12-02T09:28:12.616Z"
   },
   {
    "duration": 16,
    "start_time": "2022-12-02T09:28:12.651Z"
   },
   {
    "duration": 2198,
    "start_time": "2022-12-02T09:28:12.669Z"
   },
   {
    "duration": 13,
    "start_time": "2022-12-02T09:28:14.869Z"
   },
   {
    "duration": 11,
    "start_time": "2022-12-02T09:28:14.884Z"
   },
   {
    "duration": 42,
    "start_time": "2022-12-02T09:28:14.897Z"
   },
   {
    "duration": 13,
    "start_time": "2022-12-02T09:28:14.941Z"
   },
   {
    "duration": 5,
    "start_time": "2022-12-02T09:28:14.955Z"
   },
   {
    "duration": 5,
    "start_time": "2022-12-02T09:28:14.963Z"
   },
   {
    "duration": 16,
    "start_time": "2022-12-02T09:28:14.970Z"
   },
   {
    "duration": 41,
    "start_time": "2022-12-02T09:28:14.988Z"
   },
   {
    "duration": 16,
    "start_time": "2022-12-02T09:28:15.030Z"
   },
   {
    "duration": 24,
    "start_time": "2022-12-02T09:28:15.048Z"
   },
   {
    "duration": 29,
    "start_time": "2022-12-02T09:28:15.074Z"
   },
   {
    "duration": 27,
    "start_time": "2022-12-02T09:28:15.105Z"
   },
   {
    "duration": 31,
    "start_time": "2022-12-02T09:28:15.133Z"
   },
   {
    "duration": 17,
    "start_time": "2022-12-02T09:28:15.165Z"
   },
   {
    "duration": 37,
    "start_time": "2022-12-02T09:28:15.183Z"
   },
   {
    "duration": 34,
    "start_time": "2022-12-02T09:28:15.221Z"
   },
   {
    "duration": 82,
    "start_time": "2022-12-02T09:28:15.256Z"
   },
   {
    "duration": 82,
    "start_time": "2022-12-02T10:04:49.958Z"
   },
   {
    "duration": 37,
    "start_time": "2022-12-02T10:05:09.311Z"
   },
   {
    "duration": 6,
    "start_time": "2022-12-02T10:06:32.821Z"
   },
   {
    "duration": 9,
    "start_time": "2022-12-02T10:06:46.007Z"
   },
   {
    "duration": 602,
    "start_time": "2022-12-02T10:15:53.943Z"
   },
   {
    "duration": 20,
    "start_time": "2022-12-02T10:16:14.127Z"
   },
   {
    "duration": 88,
    "start_time": "2022-12-02T10:17:07.959Z"
   },
   {
    "duration": 110,
    "start_time": "2022-12-02T10:17:44.841Z"
   },
   {
    "duration": 88,
    "start_time": "2022-12-02T10:18:16.253Z"
   },
   {
    "duration": 28,
    "start_time": "2022-12-02T11:04:14.797Z"
   },
   {
    "duration": 7,
    "start_time": "2022-12-02T11:04:39.202Z"
   },
   {
    "duration": 8,
    "start_time": "2022-12-02T11:04:51.968Z"
   },
   {
    "duration": 10,
    "start_time": "2022-12-02T11:05:42.079Z"
   },
   {
    "duration": 107,
    "start_time": "2022-12-02T11:12:57.039Z"
   },
   {
    "duration": 107,
    "start_time": "2022-12-02T11:13:07.269Z"
   },
   {
    "duration": 111,
    "start_time": "2022-12-02T11:13:21.358Z"
   },
   {
    "duration": 9,
    "start_time": "2022-12-02T11:13:55.342Z"
   },
   {
    "duration": 11,
    "start_time": "2022-12-02T11:15:41.052Z"
   },
   {
    "duration": 14,
    "start_time": "2022-12-02T11:17:13.976Z"
   },
   {
    "duration": 10,
    "start_time": "2022-12-02T11:17:24.924Z"
   },
   {
    "duration": 8,
    "start_time": "2022-12-02T11:17:47.850Z"
   },
   {
    "duration": 9,
    "start_time": "2022-12-02T11:18:10.822Z"
   },
   {
    "duration": 10,
    "start_time": "2022-12-02T11:18:25.485Z"
   },
   {
    "duration": 8,
    "start_time": "2022-12-02T11:20:48.655Z"
   },
   {
    "duration": 9,
    "start_time": "2022-12-02T11:21:22.367Z"
   },
   {
    "duration": 9,
    "start_time": "2022-12-02T11:21:28.609Z"
   },
   {
    "duration": 9,
    "start_time": "2022-12-02T11:22:05.851Z"
   },
   {
    "duration": 18,
    "start_time": "2022-12-02T11:25:28.171Z"
   },
   {
    "duration": 17,
    "start_time": "2022-12-02T11:25:41.949Z"
   },
   {
    "duration": 9,
    "start_time": "2022-12-02T11:26:35.266Z"
   },
   {
    "duration": 11,
    "start_time": "2022-12-02T11:26:43.349Z"
   },
   {
    "duration": 10,
    "start_time": "2022-12-02T11:27:41.006Z"
   },
   {
    "duration": 23,
    "start_time": "2022-12-02T11:28:26.916Z"
   },
   {
    "duration": 10,
    "start_time": "2022-12-02T11:28:35.383Z"
   },
   {
    "duration": 67,
    "start_time": "2022-12-02T11:29:25.953Z"
   },
   {
    "duration": 19,
    "start_time": "2022-12-02T11:29:32.538Z"
   },
   {
    "duration": 15,
    "start_time": "2022-12-02T11:30:04.464Z"
   },
   {
    "duration": 9,
    "start_time": "2022-12-02T11:31:47.309Z"
   },
   {
    "duration": 11,
    "start_time": "2022-12-02T11:32:06.241Z"
   },
   {
    "duration": 18,
    "start_time": "2022-12-02T11:33:21.447Z"
   },
   {
    "duration": 13,
    "start_time": "2022-12-02T11:34:32.597Z"
   },
   {
    "duration": 15,
    "start_time": "2022-12-02T11:34:45.847Z"
   },
   {
    "duration": 9,
    "start_time": "2022-12-02T11:36:15.512Z"
   },
   {
    "duration": 9,
    "start_time": "2022-12-02T11:37:51.120Z"
   },
   {
    "duration": 9,
    "start_time": "2022-12-02T11:38:06.168Z"
   },
   {
    "duration": 10,
    "start_time": "2022-12-02T11:38:15.146Z"
   },
   {
    "duration": 13,
    "start_time": "2022-12-02T11:44:38.699Z"
   },
   {
    "duration": 17,
    "start_time": "2022-12-02T11:44:51.193Z"
   },
   {
    "duration": 18,
    "start_time": "2022-12-02T11:45:14.062Z"
   },
   {
    "duration": 17,
    "start_time": "2022-12-02T11:45:28.346Z"
   },
   {
    "duration": 16,
    "start_time": "2022-12-02T11:46:29.299Z"
   },
   {
    "duration": 18,
    "start_time": "2022-12-02T11:47:48.237Z"
   },
   {
    "duration": 71,
    "start_time": "2022-12-02T11:53:19.543Z"
   },
   {
    "duration": 19,
    "start_time": "2022-12-02T11:53:44.387Z"
   },
   {
    "duration": 2690,
    "start_time": "2022-12-02T12:00:11.358Z"
   },
   {
    "duration": 73,
    "start_time": "2022-12-02T12:01:09.574Z"
   },
   {
    "duration": 78,
    "start_time": "2022-12-02T12:01:21.817Z"
   },
   {
    "duration": 13,
    "start_time": "2022-12-02T12:01:25.344Z"
   },
   {
    "duration": 70,
    "start_time": "2022-12-02T12:02:19.940Z"
   },
   {
    "duration": 17,
    "start_time": "2022-12-02T12:02:33.962Z"
   },
   {
    "duration": 18,
    "start_time": "2022-12-02T12:07:53.032Z"
   },
   {
    "duration": 18,
    "start_time": "2022-12-02T12:08:33.053Z"
   },
   {
    "duration": 9,
    "start_time": "2022-12-02T12:08:41.920Z"
   },
   {
    "duration": 454,
    "start_time": "2022-12-02T12:08:56.056Z"
   },
   {
    "duration": 34,
    "start_time": "2022-12-02T12:08:56.512Z"
   },
   {
    "duration": 20,
    "start_time": "2022-12-02T12:08:56.547Z"
   },
   {
    "duration": 2195,
    "start_time": "2022-12-02T12:08:56.570Z"
   },
   {
    "duration": 8,
    "start_time": "2022-12-02T12:08:58.767Z"
   },
   {
    "duration": 6,
    "start_time": "2022-12-02T12:08:58.777Z"
   },
   {
    "duration": 29,
    "start_time": "2022-12-02T12:08:58.785Z"
   },
   {
    "duration": 10,
    "start_time": "2022-12-02T12:08:58.816Z"
   },
   {
    "duration": 4,
    "start_time": "2022-12-02T12:08:58.828Z"
   },
   {
    "duration": 9,
    "start_time": "2022-12-02T12:08:58.834Z"
   },
   {
    "duration": 9,
    "start_time": "2022-12-02T12:08:58.844Z"
   },
   {
    "duration": 28,
    "start_time": "2022-12-02T12:08:58.855Z"
   },
   {
    "duration": 5,
    "start_time": "2022-12-02T12:08:58.885Z"
   },
   {
    "duration": 3,
    "start_time": "2022-12-02T12:08:58.892Z"
   },
   {
    "duration": 7,
    "start_time": "2022-12-02T12:08:58.914Z"
   },
   {
    "duration": 12,
    "start_time": "2022-12-02T12:08:58.922Z"
   },
   {
    "duration": 19,
    "start_time": "2022-12-02T12:08:58.936Z"
   },
   {
    "duration": 5,
    "start_time": "2022-12-02T12:08:58.956Z"
   },
   {
    "duration": 22,
    "start_time": "2022-12-02T12:08:58.963Z"
   },
   {
    "duration": 48,
    "start_time": "2022-12-02T12:08:58.987Z"
   },
   {
    "duration": 34,
    "start_time": "2022-12-02T12:08:59.037Z"
   },
   {
    "duration": 5,
    "start_time": "2022-12-02T12:08:59.073Z"
   },
   {
    "duration": 36,
    "start_time": "2022-12-02T12:08:59.080Z"
   },
   {
    "duration": 11,
    "start_time": "2022-12-02T12:08:59.117Z"
   },
   {
    "duration": 12,
    "start_time": "2022-12-02T12:08:59.130Z"
   },
   {
    "duration": 16,
    "start_time": "2022-12-02T12:08:59.143Z"
   },
   {
    "duration": 12,
    "start_time": "2022-12-02T12:10:07.933Z"
   },
   {
    "duration": 459,
    "start_time": "2022-12-02T12:10:14.354Z"
   },
   {
    "duration": 32,
    "start_time": "2022-12-02T12:10:14.814Z"
   },
   {
    "duration": 15,
    "start_time": "2022-12-02T12:10:14.848Z"
   },
   {
    "duration": 2123,
    "start_time": "2022-12-02T12:10:14.866Z"
   },
   {
    "duration": 9,
    "start_time": "2022-12-02T12:10:16.991Z"
   },
   {
    "duration": 15,
    "start_time": "2022-12-02T12:10:17.001Z"
   },
   {
    "duration": 35,
    "start_time": "2022-12-02T12:10:17.018Z"
   },
   {
    "duration": 11,
    "start_time": "2022-12-02T12:10:17.055Z"
   },
   {
    "duration": 8,
    "start_time": "2022-12-02T12:10:17.067Z"
   },
   {
    "duration": 3,
    "start_time": "2022-12-02T12:10:17.078Z"
   },
   {
    "duration": 7,
    "start_time": "2022-12-02T12:10:17.083Z"
   },
   {
    "duration": 45,
    "start_time": "2022-12-02T12:10:17.091Z"
   },
   {
    "duration": 8,
    "start_time": "2022-12-02T12:10:17.137Z"
   },
   {
    "duration": 3,
    "start_time": "2022-12-02T12:10:17.147Z"
   },
   {
    "duration": 8,
    "start_time": "2022-12-02T12:10:17.151Z"
   },
   {
    "duration": 6,
    "start_time": "2022-12-02T12:10:17.161Z"
   },
   {
    "duration": 47,
    "start_time": "2022-12-02T12:10:17.169Z"
   },
   {
    "duration": 5,
    "start_time": "2022-12-02T12:10:17.218Z"
   },
   {
    "duration": 24,
    "start_time": "2022-12-02T12:10:17.224Z"
   },
   {
    "duration": 23,
    "start_time": "2022-12-02T12:10:17.250Z"
   },
   {
    "duration": 56,
    "start_time": "2022-12-02T12:10:17.274Z"
   },
   {
    "duration": 6,
    "start_time": "2022-12-02T12:10:17.332Z"
   },
   {
    "duration": 11,
    "start_time": "2022-12-02T12:10:17.339Z"
   },
   {
    "duration": 10,
    "start_time": "2022-12-02T12:10:17.352Z"
   },
   {
    "duration": 13,
    "start_time": "2022-12-02T12:10:17.364Z"
   },
   {
    "duration": 43,
    "start_time": "2022-12-02T12:10:17.379Z"
   },
   {
    "duration": 11,
    "start_time": "2022-12-02T12:10:37.243Z"
   },
   {
    "duration": 21,
    "start_time": "2022-12-02T12:12:41.021Z"
   },
   {
    "duration": 9,
    "start_time": "2022-12-02T12:16:33.875Z"
   },
   {
    "duration": 8,
    "start_time": "2022-12-02T12:17:01.887Z"
   },
   {
    "duration": 10,
    "start_time": "2022-12-02T12:17:27.421Z"
   },
   {
    "duration": 8,
    "start_time": "2022-12-02T12:17:39.425Z"
   },
   {
    "duration": 9,
    "start_time": "2022-12-02T12:18:56.521Z"
   },
   {
    "duration": 17,
    "start_time": "2022-12-02T12:19:30.423Z"
   },
   {
    "duration": 501,
    "start_time": "2022-12-02T12:30:47.980Z"
   },
   {
    "duration": 33,
    "start_time": "2022-12-02T12:30:48.483Z"
   },
   {
    "duration": 15,
    "start_time": "2022-12-02T12:30:48.518Z"
   },
   {
    "duration": 2474,
    "start_time": "2022-12-02T12:30:48.535Z"
   },
   {
    "duration": 12,
    "start_time": "2022-12-02T12:30:51.011Z"
   },
   {
    "duration": 6,
    "start_time": "2022-12-02T12:30:51.025Z"
   },
   {
    "duration": 34,
    "start_time": "2022-12-02T12:30:51.033Z"
   },
   {
    "duration": 12,
    "start_time": "2022-12-02T12:30:51.068Z"
   },
   {
    "duration": 10,
    "start_time": "2022-12-02T12:30:51.082Z"
   },
   {
    "duration": 5,
    "start_time": "2022-12-02T12:30:51.114Z"
   },
   {
    "duration": 22,
    "start_time": "2022-12-02T12:30:51.120Z"
   },
   {
    "duration": 34,
    "start_time": "2022-12-02T12:30:51.144Z"
   },
   {
    "duration": 6,
    "start_time": "2022-12-02T12:30:51.179Z"
   },
   {
    "duration": 8,
    "start_time": "2022-12-02T12:30:51.186Z"
   },
   {
    "duration": 17,
    "start_time": "2022-12-02T12:30:51.196Z"
   },
   {
    "duration": 6,
    "start_time": "2022-12-02T12:30:51.214Z"
   },
   {
    "duration": 18,
    "start_time": "2022-12-02T12:30:51.221Z"
   },
   {
    "duration": 4,
    "start_time": "2022-12-02T12:30:51.241Z"
   },
   {
    "duration": 22,
    "start_time": "2022-12-02T12:30:51.247Z"
   },
   {
    "duration": 57,
    "start_time": "2022-12-02T12:30:51.271Z"
   },
   {
    "duration": 34,
    "start_time": "2022-12-02T12:30:51.329Z"
   },
   {
    "duration": 10,
    "start_time": "2022-12-02T12:30:51.364Z"
   },
   {
    "duration": 13,
    "start_time": "2022-12-02T12:30:51.376Z"
   },
   {
    "duration": 30,
    "start_time": "2022-12-02T12:30:51.390Z"
   },
   {
    "duration": 11,
    "start_time": "2022-12-02T12:30:51.422Z"
   },
   {
    "duration": 13,
    "start_time": "2022-12-02T12:30:51.435Z"
   },
   {
    "duration": 9,
    "start_time": "2022-12-02T12:30:51.449Z"
   },
   {
    "duration": 14,
    "start_time": "2022-12-02T12:30:51.461Z"
   },
   {
    "duration": 5,
    "start_time": "2022-12-02T12:30:51.512Z"
   },
   {
    "duration": 72,
    "start_time": "2022-12-02T12:33:16.818Z"
   },
   {
    "duration": 5,
    "start_time": "2022-12-02T12:37:52.854Z"
   },
   {
    "duration": 9,
    "start_time": "2022-12-02T12:38:08.861Z"
   },
   {
    "duration": 10,
    "start_time": "2022-12-02T12:39:40.469Z"
   },
   {
    "duration": 12,
    "start_time": "2022-12-02T12:39:51.815Z"
   },
   {
    "duration": 12,
    "start_time": "2022-12-02T12:41:15.482Z"
   },
   {
    "duration": 14,
    "start_time": "2022-12-02T12:41:29.158Z"
   },
   {
    "duration": 12,
    "start_time": "2022-12-02T12:41:53.075Z"
   },
   {
    "duration": 11,
    "start_time": "2022-12-02T12:42:50.839Z"
   },
   {
    "duration": 14,
    "start_time": "2022-12-02T12:44:50.240Z"
   },
   {
    "duration": 14,
    "start_time": "2022-12-02T12:46:57.402Z"
   },
   {
    "duration": 13,
    "start_time": "2022-12-02T12:47:11.617Z"
   },
   {
    "duration": 9,
    "start_time": "2022-12-02T12:47:22.537Z"
   },
   {
    "duration": 14,
    "start_time": "2022-12-02T12:49:23.959Z"
   },
   {
    "duration": 13,
    "start_time": "2022-12-02T12:49:49.438Z"
   },
   {
    "duration": 13,
    "start_time": "2022-12-02T12:50:01.661Z"
   },
   {
    "duration": 13,
    "start_time": "2022-12-02T12:50:20.748Z"
   },
   {
    "duration": 14,
    "start_time": "2022-12-02T12:51:32.810Z"
   },
   {
    "duration": 96,
    "start_time": "2022-12-02T12:52:50.411Z"
   },
   {
    "duration": 98,
    "start_time": "2022-12-02T12:53:03.510Z"
   },
   {
    "duration": 90,
    "start_time": "2022-12-02T12:53:10.006Z"
   },
   {
    "duration": 194,
    "start_time": "2022-12-02T12:54:06.809Z"
   },
   {
    "duration": 181,
    "start_time": "2022-12-02T12:54:17.819Z"
   },
   {
    "duration": 101,
    "start_time": "2022-12-02T13:03:36.446Z"
   },
   {
    "duration": 73,
    "start_time": "2022-12-02T13:03:45.618Z"
   },
   {
    "duration": 99,
    "start_time": "2022-12-02T13:03:53.497Z"
   },
   {
    "duration": 361,
    "start_time": "2022-12-02T13:04:06.994Z"
   },
   {
    "duration": 484,
    "start_time": "2022-12-02T13:04:26.699Z"
   },
   {
    "duration": 369,
    "start_time": "2022-12-02T13:04:46.086Z"
   },
   {
    "duration": 182,
    "start_time": "2022-12-02T13:06:23.885Z"
   },
   {
    "duration": 175,
    "start_time": "2022-12-02T13:06:28.564Z"
   },
   {
    "duration": 196,
    "start_time": "2022-12-02T13:06:44.623Z"
   },
   {
    "duration": 49,
    "start_time": "2022-12-02T18:37:13.157Z"
   },
   {
    "duration": 770,
    "start_time": "2022-12-02T18:37:19.892Z"
   },
   {
    "duration": 32,
    "start_time": "2022-12-02T18:37:20.664Z"
   },
   {
    "duration": 18,
    "start_time": "2022-12-02T18:37:20.698Z"
   },
   {
    "duration": 2337,
    "start_time": "2022-12-02T18:37:20.718Z"
   },
   {
    "duration": 10,
    "start_time": "2022-12-02T18:37:23.057Z"
   },
   {
    "duration": 10,
    "start_time": "2022-12-02T18:37:23.068Z"
   },
   {
    "duration": 32,
    "start_time": "2022-12-02T18:37:23.079Z"
   },
   {
    "duration": 11,
    "start_time": "2022-12-02T18:37:23.113Z"
   },
   {
    "duration": 8,
    "start_time": "2022-12-02T18:37:23.125Z"
   },
   {
    "duration": 4,
    "start_time": "2022-12-02T18:37:23.136Z"
   },
   {
    "duration": 27,
    "start_time": "2022-12-02T18:37:23.141Z"
   },
   {
    "duration": 30,
    "start_time": "2022-12-02T18:37:23.169Z"
   },
   {
    "duration": 6,
    "start_time": "2022-12-02T18:37:23.202Z"
   },
   {
    "duration": 13,
    "start_time": "2022-12-02T18:37:23.210Z"
   },
   {
    "duration": 18,
    "start_time": "2022-12-02T18:37:23.225Z"
   },
   {
    "duration": 21,
    "start_time": "2022-12-02T18:37:23.245Z"
   },
   {
    "duration": 25,
    "start_time": "2022-12-02T18:37:23.267Z"
   },
   {
    "duration": 7,
    "start_time": "2022-12-02T18:37:23.293Z"
   },
   {
    "duration": 32,
    "start_time": "2022-12-02T18:37:23.301Z"
   },
   {
    "duration": 27,
    "start_time": "2022-12-02T18:37:23.335Z"
   },
   {
    "duration": 40,
    "start_time": "2022-12-02T18:37:23.364Z"
   },
   {
    "duration": 14,
    "start_time": "2022-12-02T18:37:23.406Z"
   },
   {
    "duration": 14,
    "start_time": "2022-12-02T18:37:23.421Z"
   },
   {
    "duration": 12,
    "start_time": "2022-12-02T18:37:23.437Z"
   },
   {
    "duration": 11,
    "start_time": "2022-12-02T18:37:23.451Z"
   },
   {
    "duration": 14,
    "start_time": "2022-12-02T18:37:23.463Z"
   },
   {
    "duration": 37,
    "start_time": "2022-12-02T18:37:23.479Z"
   },
   {
    "duration": 14,
    "start_time": "2022-12-02T18:37:23.519Z"
   },
   {
    "duration": 199,
    "start_time": "2022-12-02T18:37:23.534Z"
   },
   {
    "duration": 396,
    "start_time": "2022-12-02T18:37:23.735Z"
   },
   {
    "duration": 11,
    "start_time": "2022-12-02T18:39:47.654Z"
   },
   {
    "duration": 485,
    "start_time": "2022-12-02T18:39:53.031Z"
   },
   {
    "duration": 53,
    "start_time": "2022-12-02T18:39:53.518Z"
   },
   {
    "duration": 16,
    "start_time": "2022-12-02T18:39:53.573Z"
   },
   {
    "duration": 2288,
    "start_time": "2022-12-02T18:39:53.592Z"
   },
   {
    "duration": 13,
    "start_time": "2022-12-02T18:39:55.883Z"
   },
   {
    "duration": 9,
    "start_time": "2022-12-02T18:39:55.899Z"
   },
   {
    "duration": 40,
    "start_time": "2022-12-02T18:39:55.910Z"
   },
   {
    "duration": 15,
    "start_time": "2022-12-02T18:39:55.952Z"
   },
   {
    "duration": 13,
    "start_time": "2022-12-02T18:39:55.969Z"
   },
   {
    "duration": 4,
    "start_time": "2022-12-02T18:39:55.986Z"
   },
   {
    "duration": 18,
    "start_time": "2022-12-02T18:39:55.992Z"
   },
   {
    "duration": 42,
    "start_time": "2022-12-02T18:39:56.012Z"
   },
   {
    "duration": 18,
    "start_time": "2022-12-02T18:39:56.056Z"
   },
   {
    "duration": 8,
    "start_time": "2022-12-02T18:39:56.076Z"
   },
   {
    "duration": 9,
    "start_time": "2022-12-02T18:39:56.087Z"
   },
   {
    "duration": 20,
    "start_time": "2022-12-02T18:39:56.098Z"
   },
   {
    "duration": 28,
    "start_time": "2022-12-02T18:39:56.120Z"
   },
   {
    "duration": 7,
    "start_time": "2022-12-02T18:39:56.150Z"
   },
   {
    "duration": 38,
    "start_time": "2022-12-02T18:39:56.161Z"
   },
   {
    "duration": 47,
    "start_time": "2022-12-02T18:39:56.201Z"
   },
   {
    "duration": 44,
    "start_time": "2022-12-02T18:39:56.250Z"
   },
   {
    "duration": 23,
    "start_time": "2022-12-02T18:39:56.296Z"
   },
   {
    "duration": 32,
    "start_time": "2022-12-02T18:39:56.321Z"
   },
   {
    "duration": 39,
    "start_time": "2022-12-02T18:39:56.355Z"
   },
   {
    "duration": 34,
    "start_time": "2022-12-02T18:39:56.397Z"
   },
   {
    "duration": 23,
    "start_time": "2022-12-02T18:39:56.433Z"
   },
   {
    "duration": 26,
    "start_time": "2022-12-02T18:39:56.458Z"
   },
   {
    "duration": 19,
    "start_time": "2022-12-02T18:39:56.488Z"
   },
   {
    "duration": 214,
    "start_time": "2022-12-02T18:39:56.512Z"
   },
   {
    "duration": 396,
    "start_time": "2022-12-02T18:39:56.728Z"
   },
   {
    "duration": 523,
    "start_time": "2022-12-03T15:14:02.844Z"
   },
   {
    "duration": 49,
    "start_time": "2022-12-03T15:14:03.369Z"
   },
   {
    "duration": 28,
    "start_time": "2022-12-03T15:14:03.419Z"
   },
   {
    "duration": 2268,
    "start_time": "2022-12-03T15:14:03.449Z"
   },
   {
    "duration": 8,
    "start_time": "2022-12-03T15:14:05.719Z"
   },
   {
    "duration": 6,
    "start_time": "2022-12-03T15:14:05.729Z"
   },
   {
    "duration": 31,
    "start_time": "2022-12-03T15:14:05.736Z"
   },
   {
    "duration": 10,
    "start_time": "2022-12-03T15:14:05.769Z"
   },
   {
    "duration": 23,
    "start_time": "2022-12-03T15:14:05.781Z"
   },
   {
    "duration": 4,
    "start_time": "2022-12-03T15:14:05.807Z"
   },
   {
    "duration": 7,
    "start_time": "2022-12-03T15:14:05.812Z"
   },
   {
    "duration": 26,
    "start_time": "2022-12-03T15:14:05.820Z"
   },
   {
    "duration": 5,
    "start_time": "2022-12-03T15:14:05.848Z"
   },
   {
    "duration": 7,
    "start_time": "2022-12-03T15:14:05.854Z"
   },
   {
    "duration": 8,
    "start_time": "2022-12-03T15:14:05.863Z"
   },
   {
    "duration": 7,
    "start_time": "2022-12-03T15:14:05.873Z"
   },
   {
    "duration": 17,
    "start_time": "2022-12-03T15:14:05.904Z"
   },
   {
    "duration": 6,
    "start_time": "2022-12-03T15:14:05.922Z"
   },
   {
    "duration": 23,
    "start_time": "2022-12-03T15:14:05.930Z"
   },
   {
    "duration": 53,
    "start_time": "2022-12-03T15:14:05.955Z"
   },
   {
    "duration": 38,
    "start_time": "2022-12-03T15:14:06.010Z"
   },
   {
    "duration": 6,
    "start_time": "2022-12-03T15:14:06.049Z"
   },
   {
    "duration": 12,
    "start_time": "2022-12-03T15:14:06.056Z"
   },
   {
    "duration": 39,
    "start_time": "2022-12-03T15:14:06.069Z"
   },
   {
    "duration": 12,
    "start_time": "2022-12-03T15:14:06.109Z"
   },
   {
    "duration": 23,
    "start_time": "2022-12-03T15:14:06.123Z"
   },
   {
    "duration": 8,
    "start_time": "2022-12-03T15:14:06.148Z"
   },
   {
    "duration": 46,
    "start_time": "2022-12-03T15:14:06.160Z"
   },
   {
    "duration": 183,
    "start_time": "2022-12-03T15:14:06.207Z"
   },
   {
    "duration": 364,
    "start_time": "2022-12-03T15:14:06.392Z"
   },
   {
    "duration": 55,
    "start_time": "2022-12-04T08:56:09.673Z"
   },
   {
    "duration": 46,
    "start_time": "2022-12-04T08:56:47.351Z"
   },
   {
    "duration": 703,
    "start_time": "2022-12-04T08:56:54.423Z"
   },
   {
    "duration": 36,
    "start_time": "2022-12-04T08:56:55.128Z"
   },
   {
    "duration": 14,
    "start_time": "2022-12-04T08:56:55.165Z"
   },
   {
    "duration": 2460,
    "start_time": "2022-12-04T08:56:55.182Z"
   },
   {
    "duration": 8,
    "start_time": "2022-12-04T08:56:57.644Z"
   },
   {
    "duration": 13,
    "start_time": "2022-12-04T08:56:57.653Z"
   },
   {
    "duration": 33,
    "start_time": "2022-12-04T08:56:57.667Z"
   },
   {
    "duration": 10,
    "start_time": "2022-12-04T08:56:57.702Z"
   },
   {
    "duration": 9,
    "start_time": "2022-12-04T08:56:57.714Z"
   },
   {
    "duration": 5,
    "start_time": "2022-12-04T08:56:57.726Z"
   },
   {
    "duration": 6,
    "start_time": "2022-12-04T08:56:57.732Z"
   },
   {
    "duration": 28,
    "start_time": "2022-12-04T08:56:57.740Z"
   },
   {
    "duration": 26,
    "start_time": "2022-12-04T08:56:57.770Z"
   },
   {
    "duration": 4,
    "start_time": "2022-12-04T08:56:57.798Z"
   },
   {
    "duration": 7,
    "start_time": "2022-12-04T08:56:57.804Z"
   },
   {
    "duration": 7,
    "start_time": "2022-12-04T08:56:57.812Z"
   },
   {
    "duration": 17,
    "start_time": "2022-12-04T08:56:57.821Z"
   },
   {
    "duration": 5,
    "start_time": "2022-12-04T08:56:57.842Z"
   },
   {
    "duration": 47,
    "start_time": "2022-12-04T08:56:57.849Z"
   },
   {
    "duration": 33,
    "start_time": "2022-12-04T08:56:57.901Z"
   },
   {
    "duration": 37,
    "start_time": "2022-12-04T08:56:57.937Z"
   },
   {
    "duration": 21,
    "start_time": "2022-12-04T08:56:57.976Z"
   },
   {
    "duration": 11,
    "start_time": "2022-12-04T08:56:57.999Z"
   },
   {
    "duration": 10,
    "start_time": "2022-12-04T08:56:58.011Z"
   },
   {
    "duration": 12,
    "start_time": "2022-12-04T08:56:58.022Z"
   },
   {
    "duration": 3177,
    "start_time": "2022-12-04T08:56:58.035Z"
   },
   {
    "duration": 9,
    "start_time": "2022-12-04T08:57:01.214Z"
   },
   {
    "duration": 33,
    "start_time": "2022-12-04T08:57:01.227Z"
   },
   {
    "duration": 219,
    "start_time": "2022-12-04T08:57:01.262Z"
   },
   {
    "duration": 423,
    "start_time": "2022-12-04T08:57:01.483Z"
   },
   {
    "duration": 220,
    "start_time": "2022-12-04T08:57:01.908Z"
   },
   {
    "duration": 211,
    "start_time": "2022-12-04T08:59:01.790Z"
   },
   {
    "duration": 285,
    "start_time": "2022-12-04T08:59:09.460Z"
   },
   {
    "duration": 203,
    "start_time": "2022-12-04T08:59:23.541Z"
   },
   {
    "duration": 227,
    "start_time": "2022-12-04T09:02:07.979Z"
   },
   {
    "duration": 222,
    "start_time": "2022-12-04T09:08:01.139Z"
   },
   {
    "duration": 66,
    "start_time": "2022-12-04T09:09:03.655Z"
   },
   {
    "duration": 73,
    "start_time": "2022-12-04T09:09:52.330Z"
   },
   {
    "duration": 9,
    "start_time": "2022-12-04T09:10:49.261Z"
   },
   {
    "duration": 47,
    "start_time": "2022-12-04T09:11:00.493Z"
   },
   {
    "duration": 251,
    "start_time": "2022-12-04T09:11:08.420Z"
   },
   {
    "duration": 233,
    "start_time": "2022-12-04T09:17:12.587Z"
   },
   {
    "duration": 208,
    "start_time": "2022-12-04T09:19:08.851Z"
   },
   {
    "duration": 209,
    "start_time": "2022-12-04T09:19:26.641Z"
   },
   {
    "duration": 227,
    "start_time": "2022-12-04T09:20:27.725Z"
   },
   {
    "duration": 1126,
    "start_time": "2022-12-04T09:24:22.435Z"
   },
   {
    "duration": 214,
    "start_time": "2022-12-04T09:24:52.446Z"
   },
   {
    "duration": 216,
    "start_time": "2022-12-04T09:28:48.297Z"
   },
   {
    "duration": 213,
    "start_time": "2022-12-04T09:29:06.286Z"
   },
   {
    "duration": 267,
    "start_time": "2022-12-04T09:32:52.732Z"
   },
   {
    "duration": 195,
    "start_time": "2022-12-04T09:33:08.611Z"
   },
   {
    "duration": 201,
    "start_time": "2022-12-04T09:36:35.506Z"
   },
   {
    "duration": 280,
    "start_time": "2022-12-04T09:40:55.904Z"
   },
   {
    "duration": 193,
    "start_time": "2022-12-04T09:43:48.777Z"
   },
   {
    "duration": 223,
    "start_time": "2022-12-04T09:47:35.641Z"
   },
   {
    "duration": 220,
    "start_time": "2022-12-04T09:53:46.793Z"
   },
   {
    "duration": 200,
    "start_time": "2022-12-04T09:54:03.110Z"
   },
   {
    "duration": 225,
    "start_time": "2022-12-04T09:55:28.623Z"
   },
   {
    "duration": 690,
    "start_time": "2022-12-04T09:58:59.579Z"
   },
   {
    "duration": 498,
    "start_time": "2022-12-04T09:59:09.766Z"
   },
   {
    "duration": 39,
    "start_time": "2022-12-04T09:59:10.266Z"
   },
   {
    "duration": 16,
    "start_time": "2022-12-04T09:59:10.307Z"
   },
   {
    "duration": 2212,
    "start_time": "2022-12-04T09:59:10.326Z"
   },
   {
    "duration": 8,
    "start_time": "2022-12-04T09:59:12.540Z"
   },
   {
    "duration": 16,
    "start_time": "2022-12-04T09:59:12.549Z"
   },
   {
    "duration": 30,
    "start_time": "2022-12-04T09:59:12.566Z"
   },
   {
    "duration": 13,
    "start_time": "2022-12-04T09:59:12.599Z"
   },
   {
    "duration": 5,
    "start_time": "2022-12-04T09:59:12.613Z"
   },
   {
    "duration": 4,
    "start_time": "2022-12-04T09:59:12.620Z"
   },
   {
    "duration": 6,
    "start_time": "2022-12-04T09:59:12.626Z"
   },
   {
    "duration": 27,
    "start_time": "2022-12-04T09:59:12.633Z"
   },
   {
    "duration": 35,
    "start_time": "2022-12-04T09:59:12.662Z"
   },
   {
    "duration": 3,
    "start_time": "2022-12-04T09:59:12.700Z"
   },
   {
    "duration": 9,
    "start_time": "2022-12-04T09:59:12.704Z"
   },
   {
    "duration": 7,
    "start_time": "2022-12-04T09:59:12.714Z"
   },
   {
    "duration": 18,
    "start_time": "2022-12-04T09:59:12.723Z"
   },
   {
    "duration": 7,
    "start_time": "2022-12-04T09:59:12.742Z"
   },
   {
    "duration": 61,
    "start_time": "2022-12-04T09:59:12.750Z"
   },
   {
    "duration": 25,
    "start_time": "2022-12-04T09:59:12.812Z"
   },
   {
    "duration": 57,
    "start_time": "2022-12-04T09:59:12.839Z"
   },
   {
    "duration": 8,
    "start_time": "2022-12-04T09:59:12.898Z"
   },
   {
    "duration": 12,
    "start_time": "2022-12-04T09:59:12.908Z"
   },
   {
    "duration": 12,
    "start_time": "2022-12-04T09:59:12.922Z"
   },
   {
    "duration": 12,
    "start_time": "2022-12-04T09:59:12.936Z"
   },
   {
    "duration": 3305,
    "start_time": "2022-12-04T09:59:12.949Z"
   },
   {
    "duration": 9,
    "start_time": "2022-12-04T09:59:16.256Z"
   },
   {
    "duration": 14,
    "start_time": "2022-12-04T09:59:16.266Z"
   },
   {
    "duration": 219,
    "start_time": "2022-12-04T09:59:16.282Z"
   },
   {
    "duration": 393,
    "start_time": "2022-12-04T09:59:16.503Z"
   },
   {
    "duration": 193,
    "start_time": "2022-12-04T09:59:16.898Z"
   },
   {
    "duration": 234,
    "start_time": "2022-12-04T09:59:17.096Z"
   },
   {
    "duration": 235,
    "start_time": "2022-12-04T09:59:17.331Z"
   },
   {
    "duration": 300,
    "start_time": "2022-12-04T09:59:17.567Z"
   },
   {
    "duration": 249,
    "start_time": "2022-12-04T09:59:17.869Z"
   },
   {
    "duration": 220,
    "start_time": "2022-12-04T09:59:18.120Z"
   },
   {
    "duration": 250,
    "start_time": "2022-12-04T09:59:18.342Z"
   },
   {
    "duration": 208,
    "start_time": "2022-12-04T09:59:18.594Z"
   },
   {
    "duration": 221,
    "start_time": "2022-12-04T09:59:18.804Z"
   },
   {
    "duration": 244,
    "start_time": "2022-12-04T09:59:19.026Z"
   },
   {
    "duration": 216,
    "start_time": "2022-12-04T09:59:19.274Z"
   },
   {
    "duration": 235,
    "start_time": "2022-12-04T09:59:19.492Z"
   },
   {
    "duration": 203,
    "start_time": "2022-12-04T09:59:19.729Z"
   },
   {
    "duration": 935,
    "start_time": "2022-12-04T09:59:19.935Z"
   },
   {
    "duration": 526,
    "start_time": "2022-12-04T10:00:30.983Z"
   },
   {
    "duration": 36,
    "start_time": "2022-12-04T10:00:31.512Z"
   },
   {
    "duration": 31,
    "start_time": "2022-12-04T10:00:31.550Z"
   },
   {
    "duration": 2334,
    "start_time": "2022-12-04T10:00:31.584Z"
   },
   {
    "duration": 12,
    "start_time": "2022-12-04T10:00:33.926Z"
   },
   {
    "duration": 8,
    "start_time": "2022-12-04T10:00:33.941Z"
   },
   {
    "duration": 49,
    "start_time": "2022-12-04T10:00:33.951Z"
   },
   {
    "duration": 18,
    "start_time": "2022-12-04T10:00:34.003Z"
   },
   {
    "duration": 5,
    "start_time": "2022-12-04T10:00:34.023Z"
   },
   {
    "duration": 4,
    "start_time": "2022-12-04T10:00:34.033Z"
   },
   {
    "duration": 6,
    "start_time": "2022-12-04T10:00:34.039Z"
   },
   {
    "duration": 69,
    "start_time": "2022-12-04T10:00:34.047Z"
   },
   {
    "duration": 7,
    "start_time": "2022-12-04T10:00:34.119Z"
   },
   {
    "duration": 5,
    "start_time": "2022-12-04T10:00:34.128Z"
   },
   {
    "duration": 8,
    "start_time": "2022-12-04T10:00:34.135Z"
   },
   {
    "duration": 8,
    "start_time": "2022-12-04T10:00:34.145Z"
   },
   {
    "duration": 46,
    "start_time": "2022-12-04T10:00:34.155Z"
   },
   {
    "duration": 6,
    "start_time": "2022-12-04T10:00:34.202Z"
   },
   {
    "duration": 26,
    "start_time": "2022-12-04T10:00:34.209Z"
   },
   {
    "duration": 25,
    "start_time": "2022-12-04T10:00:34.237Z"
   },
   {
    "duration": 62,
    "start_time": "2022-12-04T10:00:34.264Z"
   },
   {
    "duration": 11,
    "start_time": "2022-12-04T10:00:34.328Z"
   },
   {
    "duration": 13,
    "start_time": "2022-12-04T10:00:34.340Z"
   },
   {
    "duration": 13,
    "start_time": "2022-12-04T10:00:34.355Z"
   },
   {
    "duration": 30,
    "start_time": "2022-12-04T10:00:34.370Z"
   },
   {
    "duration": 3377,
    "start_time": "2022-12-04T10:00:34.402Z"
   },
   {
    "duration": 16,
    "start_time": "2022-12-04T10:00:37.781Z"
   },
   {
    "duration": 13,
    "start_time": "2022-12-04T10:00:37.800Z"
   },
   {
    "duration": 200,
    "start_time": "2022-12-04T10:00:37.815Z"
   },
   {
    "duration": 393,
    "start_time": "2022-12-04T10:00:38.017Z"
   },
   {
    "duration": 197,
    "start_time": "2022-12-04T10:00:38.412Z"
   },
   {
    "duration": 233,
    "start_time": "2022-12-04T10:00:38.611Z"
   },
   {
    "duration": 225,
    "start_time": "2022-12-04T10:00:38.846Z"
   },
   {
    "duration": 284,
    "start_time": "2022-12-04T10:00:39.073Z"
   },
   {
    "duration": 239,
    "start_time": "2022-12-04T10:00:39.359Z"
   },
   {
    "duration": 220,
    "start_time": "2022-12-04T10:00:39.600Z"
   },
   {
    "duration": 239,
    "start_time": "2022-12-04T10:00:39.821Z"
   },
   {
    "duration": 196,
    "start_time": "2022-12-04T10:00:40.061Z"
   },
   {
    "duration": 240,
    "start_time": "2022-12-04T10:00:40.259Z"
   },
   {
    "duration": 229,
    "start_time": "2022-12-04T10:00:40.500Z"
   },
   {
    "duration": 205,
    "start_time": "2022-12-04T10:00:40.731Z"
   },
   {
    "duration": 242,
    "start_time": "2022-12-04T10:00:40.938Z"
   },
   {
    "duration": 210,
    "start_time": "2022-12-04T10:00:41.181Z"
   },
   {
    "duration": 246,
    "start_time": "2022-12-04T10:00:41.393Z"
   },
   {
    "duration": 851,
    "start_time": "2022-12-04T10:07:50.398Z"
   },
   {
    "duration": 195,
    "start_time": "2022-12-04T10:08:39.215Z"
   },
   {
    "duration": 186,
    "start_time": "2022-12-04T10:09:58.078Z"
   },
   {
    "duration": 306,
    "start_time": "2022-12-04T10:10:08.335Z"
   },
   {
    "duration": 202,
    "start_time": "2022-12-04T10:25:38.764Z"
   },
   {
    "duration": 966,
    "start_time": "2022-12-04T10:30:47.008Z"
   },
   {
    "duration": 1107,
    "start_time": "2022-12-04T10:31:41.984Z"
   },
   {
    "duration": 815,
    "start_time": "2022-12-04T10:32:22.247Z"
   },
   {
    "duration": 1002,
    "start_time": "2022-12-04T10:40:08.153Z"
   },
   {
    "duration": 815,
    "start_time": "2022-12-04T10:40:22.403Z"
   },
   {
    "duration": 782,
    "start_time": "2022-12-04T10:42:41.777Z"
   },
   {
    "duration": 808,
    "start_time": "2022-12-04T10:43:30.504Z"
   },
   {
    "duration": 833,
    "start_time": "2022-12-04T10:44:11.279Z"
   },
   {
    "duration": 808,
    "start_time": "2022-12-04T10:44:30.612Z"
   },
   {
    "duration": 962,
    "start_time": "2022-12-04T10:45:24.199Z"
   },
   {
    "duration": 830,
    "start_time": "2022-12-04T10:46:11.450Z"
   },
   {
    "duration": 805,
    "start_time": "2022-12-04T10:46:24.228Z"
   },
   {
    "duration": 972,
    "start_time": "2022-12-04T10:48:42.974Z"
   },
   {
    "duration": 787,
    "start_time": "2022-12-04T10:48:51.984Z"
   },
   {
    "duration": 17,
    "start_time": "2022-12-04T10:55:37.857Z"
   },
   {
    "duration": 17,
    "start_time": "2022-12-04T10:56:29.873Z"
   },
   {
    "duration": 27,
    "start_time": "2022-12-04T10:56:50.478Z"
   },
   {
    "duration": 22,
    "start_time": "2022-12-04T10:57:20.138Z"
   },
   {
    "duration": 17,
    "start_time": "2022-12-04T10:57:33.329Z"
   },
   {
    "duration": 18,
    "start_time": "2022-12-04T10:57:48.580Z"
   },
   {
    "duration": 18,
    "start_time": "2022-12-04T10:58:04.333Z"
   },
   {
    "duration": 21,
    "start_time": "2022-12-04T10:59:01.997Z"
   },
   {
    "duration": 48,
    "start_time": "2022-12-04T11:02:37.540Z"
   },
   {
    "duration": 13,
    "start_time": "2022-12-04T11:02:46.155Z"
   },
   {
    "duration": 9,
    "start_time": "2022-12-04T11:03:09.437Z"
   },
   {
    "duration": 176,
    "start_time": "2022-12-04T11:03:58.297Z"
   },
   {
    "duration": 43,
    "start_time": "2022-12-04T11:05:06.210Z"
   },
   {
    "duration": 29,
    "start_time": "2022-12-04T11:06:19.355Z"
   },
   {
    "duration": 16,
    "start_time": "2022-12-04T11:28:31.117Z"
   },
   {
    "duration": 12,
    "start_time": "2022-12-04T11:29:25.086Z"
   },
   {
    "duration": 17,
    "start_time": "2022-12-04T11:29:53.236Z"
   },
   {
    "duration": 18,
    "start_time": "2022-12-04T12:24:52.270Z"
   },
   {
    "duration": 26,
    "start_time": "2022-12-04T12:25:01.888Z"
   },
   {
    "duration": 42,
    "start_time": "2022-12-04T12:26:33.734Z"
   },
   {
    "duration": 33,
    "start_time": "2022-12-04T12:26:57.243Z"
   },
   {
    "duration": 139,
    "start_time": "2022-12-04T12:30:39.367Z"
   },
   {
    "duration": 203,
    "start_time": "2022-12-04T12:31:08.292Z"
   },
   {
    "duration": 513,
    "start_time": "2022-12-04T12:53:12.869Z"
   },
   {
    "duration": 33,
    "start_time": "2022-12-04T12:53:13.384Z"
   },
   {
    "duration": 15,
    "start_time": "2022-12-04T12:53:13.419Z"
   },
   {
    "duration": 2366,
    "start_time": "2022-12-04T12:53:13.436Z"
   },
   {
    "duration": 9,
    "start_time": "2022-12-04T12:53:15.803Z"
   },
   {
    "duration": 8,
    "start_time": "2022-12-04T12:53:15.813Z"
   },
   {
    "duration": 33,
    "start_time": "2022-12-04T12:53:15.823Z"
   },
   {
    "duration": 11,
    "start_time": "2022-12-04T12:53:15.858Z"
   },
   {
    "duration": 27,
    "start_time": "2022-12-04T12:53:15.870Z"
   },
   {
    "duration": 4,
    "start_time": "2022-12-04T12:53:15.900Z"
   },
   {
    "duration": 7,
    "start_time": "2022-12-04T12:53:15.906Z"
   },
   {
    "duration": 32,
    "start_time": "2022-12-04T12:53:15.915Z"
   },
   {
    "duration": 5,
    "start_time": "2022-12-04T12:53:15.949Z"
   },
   {
    "duration": 4,
    "start_time": "2022-12-04T12:53:15.956Z"
   },
   {
    "duration": 10,
    "start_time": "2022-12-04T12:53:15.962Z"
   },
   {
    "duration": 27,
    "start_time": "2022-12-04T12:53:15.974Z"
   },
   {
    "duration": 20,
    "start_time": "2022-12-04T12:53:16.003Z"
   },
   {
    "duration": 5,
    "start_time": "2022-12-04T12:53:16.025Z"
   },
   {
    "duration": 23,
    "start_time": "2022-12-04T12:53:16.032Z"
   },
   {
    "duration": 57,
    "start_time": "2022-12-04T12:53:16.057Z"
   },
   {
    "duration": 43,
    "start_time": "2022-12-04T12:53:16.115Z"
   },
   {
    "duration": 7,
    "start_time": "2022-12-04T12:53:16.160Z"
   },
   {
    "duration": 36,
    "start_time": "2022-12-04T12:53:16.170Z"
   },
   {
    "duration": 14,
    "start_time": "2022-12-04T12:53:16.209Z"
   },
   {
    "duration": 14,
    "start_time": "2022-12-04T12:53:16.225Z"
   },
   {
    "duration": 3318,
    "start_time": "2022-12-04T12:53:16.241Z"
   },
   {
    "duration": 8,
    "start_time": "2022-12-04T12:53:19.560Z"
   },
   {
    "duration": 25,
    "start_time": "2022-12-04T12:53:19.571Z"
   },
   {
    "duration": 192,
    "start_time": "2022-12-04T12:53:19.598Z"
   },
   {
    "duration": 412,
    "start_time": "2022-12-04T12:53:19.792Z"
   },
   {
    "duration": 221,
    "start_time": "2022-12-04T12:53:20.205Z"
   },
   {
    "duration": 244,
    "start_time": "2022-12-04T12:53:20.427Z"
   },
   {
    "duration": 246,
    "start_time": "2022-12-04T12:53:20.673Z"
   },
   {
    "duration": 308,
    "start_time": "2022-12-04T12:53:20.921Z"
   },
   {
    "duration": 249,
    "start_time": "2022-12-04T12:53:21.231Z"
   },
   {
    "duration": 225,
    "start_time": "2022-12-04T12:53:21.482Z"
   },
   {
    "duration": 251,
    "start_time": "2022-12-04T12:53:21.708Z"
   },
   {
    "duration": 219,
    "start_time": "2022-12-04T12:53:21.961Z"
   },
   {
    "duration": 224,
    "start_time": "2022-12-04T12:53:22.182Z"
   },
   {
    "duration": 220,
    "start_time": "2022-12-04T12:53:22.408Z"
   },
   {
    "duration": 205,
    "start_time": "2022-12-04T12:53:22.630Z"
   },
   {
    "duration": 229,
    "start_time": "2022-12-04T12:53:22.837Z"
   },
   {
    "duration": 207,
    "start_time": "2022-12-04T12:53:23.068Z"
   },
   {
    "duration": 256,
    "start_time": "2022-12-04T12:53:23.277Z"
   },
   {
    "duration": 226,
    "start_time": "2022-12-04T12:53:23.535Z"
   },
   {
    "duration": 1002,
    "start_time": "2022-12-04T12:53:23.762Z"
   },
   {
    "duration": 32,
    "start_time": "2022-12-04T12:53:24.766Z"
   },
   {
    "duration": 231,
    "start_time": "2022-12-04T12:53:24.800Z"
   },
   {
    "duration": 713,
    "start_time": "2022-12-04T13:06:18.497Z"
   },
   {
    "duration": 30,
    "start_time": "2022-12-04T13:06:19.212Z"
   },
   {
    "duration": 13,
    "start_time": "2022-12-04T13:06:19.243Z"
   },
   {
    "duration": 2036,
    "start_time": "2022-12-04T13:06:19.258Z"
   },
   {
    "duration": 8,
    "start_time": "2022-12-04T13:06:21.296Z"
   },
   {
    "duration": 18,
    "start_time": "2022-12-04T13:06:21.306Z"
   },
   {
    "duration": 30,
    "start_time": "2022-12-04T13:06:21.325Z"
   },
   {
    "duration": 11,
    "start_time": "2022-12-04T13:06:21.357Z"
   },
   {
    "duration": 4,
    "start_time": "2022-12-04T13:06:21.369Z"
   },
   {
    "duration": 5,
    "start_time": "2022-12-04T13:06:21.375Z"
   },
   {
    "duration": 9,
    "start_time": "2022-12-04T13:06:21.381Z"
   },
   {
    "duration": 47,
    "start_time": "2022-12-04T13:06:21.391Z"
   },
   {
    "duration": 5,
    "start_time": "2022-12-04T13:06:21.439Z"
   },
   {
    "duration": 3,
    "start_time": "2022-12-04T13:06:21.448Z"
   },
   {
    "duration": 10,
    "start_time": "2022-12-04T13:06:21.453Z"
   },
   {
    "duration": 7,
    "start_time": "2022-12-04T13:06:21.465Z"
   },
   {
    "duration": 18,
    "start_time": "2022-12-04T13:06:21.473Z"
   },
   {
    "duration": 31,
    "start_time": "2022-12-04T13:06:21.492Z"
   },
   {
    "duration": 36,
    "start_time": "2022-12-04T13:06:21.524Z"
   },
   {
    "duration": 78,
    "start_time": "2022-12-04T13:06:21.563Z"
   },
   {
    "duration": 86,
    "start_time": "2022-12-04T13:06:21.643Z"
   },
   {
    "duration": 6,
    "start_time": "2022-12-04T13:06:21.731Z"
   },
   {
    "duration": 19,
    "start_time": "2022-12-04T13:06:21.739Z"
   },
   {
    "duration": 10,
    "start_time": "2022-12-04T13:06:21.759Z"
   },
   {
    "duration": 11,
    "start_time": "2022-12-04T13:06:21.821Z"
   },
   {
    "duration": 3840,
    "start_time": "2022-12-04T13:06:21.833Z"
   },
   {
    "duration": 8,
    "start_time": "2022-12-04T13:06:25.674Z"
   },
   {
    "duration": 16,
    "start_time": "2022-12-04T13:06:25.684Z"
   },
   {
    "duration": 201,
    "start_time": "2022-12-04T13:06:25.702Z"
   },
   {
    "duration": 390,
    "start_time": "2022-12-04T13:06:25.905Z"
   },
   {
    "duration": 182,
    "start_time": "2022-12-04T13:06:26.297Z"
   },
   {
    "duration": 226,
    "start_time": "2022-12-04T13:06:26.481Z"
   },
   {
    "duration": 206,
    "start_time": "2022-12-04T13:06:26.708Z"
   },
   {
    "duration": 266,
    "start_time": "2022-12-04T13:06:26.916Z"
   },
   {
    "duration": 219,
    "start_time": "2022-12-04T13:06:27.183Z"
   },
   {
    "duration": 212,
    "start_time": "2022-12-04T13:06:27.404Z"
   },
   {
    "duration": 210,
    "start_time": "2022-12-04T13:06:27.622Z"
   },
   {
    "duration": 189,
    "start_time": "2022-12-04T13:06:27.833Z"
   },
   {
    "duration": 192,
    "start_time": "2022-12-04T13:06:28.024Z"
   },
   {
    "duration": 206,
    "start_time": "2022-12-04T13:06:28.217Z"
   },
   {
    "duration": 194,
    "start_time": "2022-12-04T13:06:28.426Z"
   },
   {
    "duration": 211,
    "start_time": "2022-12-04T13:06:28.621Z"
   },
   {
    "duration": 197,
    "start_time": "2022-12-04T13:06:28.834Z"
   },
   {
    "duration": 231,
    "start_time": "2022-12-04T13:06:29.033Z"
   },
   {
    "duration": 204,
    "start_time": "2022-12-04T13:06:29.266Z"
   },
   {
    "duration": 859,
    "start_time": "2022-12-04T13:06:29.472Z"
   },
   {
    "duration": 15,
    "start_time": "2022-12-04T13:06:30.332Z"
   },
   {
    "duration": 208,
    "start_time": "2022-12-04T13:06:30.348Z"
   },
   {
    "duration": 44,
    "start_time": "2022-12-10T12:53:47.821Z"
   },
   {
    "duration": 516,
    "start_time": "2022-12-10T12:53:56.040Z"
   },
   {
    "duration": 33,
    "start_time": "2022-12-10T12:53:56.558Z"
   },
   {
    "duration": 14,
    "start_time": "2022-12-10T12:53:56.593Z"
   },
   {
    "duration": 2345,
    "start_time": "2022-12-10T12:53:56.609Z"
   },
   {
    "duration": 9,
    "start_time": "2022-12-10T12:53:58.956Z"
   },
   {
    "duration": 9,
    "start_time": "2022-12-10T12:53:58.966Z"
   },
   {
    "duration": 33,
    "start_time": "2022-12-10T12:53:58.976Z"
   },
   {
    "duration": 13,
    "start_time": "2022-12-10T12:53:59.011Z"
   },
   {
    "duration": 7,
    "start_time": "2022-12-10T12:53:59.026Z"
   },
   {
    "duration": 11,
    "start_time": "2022-12-10T12:53:59.036Z"
   },
   {
    "duration": 10,
    "start_time": "2022-12-10T12:53:59.049Z"
   },
   {
    "duration": 29,
    "start_time": "2022-12-10T12:53:59.062Z"
   },
   {
    "duration": 16,
    "start_time": "2022-12-10T12:53:59.092Z"
   },
   {
    "duration": 14,
    "start_time": "2022-12-10T12:53:59.110Z"
   },
   {
    "duration": 8,
    "start_time": "2022-12-10T12:53:59.125Z"
   },
   {
    "duration": 6,
    "start_time": "2022-12-10T12:53:59.135Z"
   },
   {
    "duration": 17,
    "start_time": "2022-12-10T12:53:59.142Z"
   },
   {
    "duration": 9,
    "start_time": "2022-12-10T12:53:59.161Z"
   },
   {
    "duration": 45,
    "start_time": "2022-12-10T12:53:59.171Z"
   },
   {
    "duration": 25,
    "start_time": "2022-12-10T12:53:59.217Z"
   },
   {
    "duration": 34,
    "start_time": "2022-12-10T12:53:59.244Z"
   },
   {
    "duration": 28,
    "start_time": "2022-12-10T12:53:59.280Z"
   },
   {
    "duration": 11,
    "start_time": "2022-12-10T12:53:59.309Z"
   },
   {
    "duration": 10,
    "start_time": "2022-12-10T12:53:59.322Z"
   },
   {
    "duration": 12,
    "start_time": "2022-12-10T12:53:59.333Z"
   },
   {
    "duration": 3165,
    "start_time": "2022-12-10T12:53:59.347Z"
   },
   {
    "duration": 8,
    "start_time": "2022-12-10T12:54:02.514Z"
   },
   {
    "duration": 14,
    "start_time": "2022-12-10T12:54:02.525Z"
   },
   {
    "duration": 197,
    "start_time": "2022-12-10T12:54:02.541Z"
   },
   {
    "duration": 375,
    "start_time": "2022-12-10T12:54:02.740Z"
   },
   {
    "duration": 134,
    "start_time": "2022-12-10T12:54:03.116Z"
   },
   {
    "duration": 222,
    "start_time": "2022-12-10T12:54:03.252Z"
   },
   {
    "duration": 296,
    "start_time": "2022-12-10T12:54:03.476Z"
   },
   {
    "duration": 221,
    "start_time": "2022-12-10T12:54:03.775Z"
   },
   {
    "duration": 236,
    "start_time": "2022-12-10T12:54:03.998Z"
   },
   {
    "duration": 209,
    "start_time": "2022-12-10T12:54:04.235Z"
   },
   {
    "duration": 221,
    "start_time": "2022-12-10T12:54:04.445Z"
   },
   {
    "duration": 200,
    "start_time": "2022-12-10T12:54:04.667Z"
   },
   {
    "duration": 202,
    "start_time": "2022-12-10T12:54:04.868Z"
   },
   {
    "duration": 207,
    "start_time": "2022-12-10T12:54:05.071Z"
   },
   {
    "duration": 190,
    "start_time": "2022-12-10T12:54:05.280Z"
   },
   {
    "duration": 219,
    "start_time": "2022-12-10T12:54:05.471Z"
   },
   {
    "duration": 185,
    "start_time": "2022-12-10T12:54:05.691Z"
   },
   {
    "duration": 225,
    "start_time": "2022-12-10T12:54:05.878Z"
   },
   {
    "duration": 202,
    "start_time": "2022-12-10T12:54:06.104Z"
   },
   {
    "duration": 864,
    "start_time": "2022-12-10T12:54:06.308Z"
   },
   {
    "duration": 14,
    "start_time": "2022-12-10T12:54:07.173Z"
   },
   {
    "duration": 229,
    "start_time": "2022-12-10T12:54:07.189Z"
   },
   {
    "duration": 76,
    "start_time": "2022-12-10T12:54:47.583Z"
   },
   {
    "duration": 9,
    "start_time": "2022-12-10T12:55:49.389Z"
   },
   {
    "duration": 14,
    "start_time": "2022-12-10T12:58:26.446Z"
   },
   {
    "duration": 680,
    "start_time": "2022-12-10T16:28:59.230Z"
   },
   {
    "duration": 39,
    "start_time": "2022-12-10T16:28:59.912Z"
   },
   {
    "duration": 23,
    "start_time": "2022-12-10T16:28:59.953Z"
   },
   {
    "duration": 2736,
    "start_time": "2022-12-10T16:28:59.978Z"
   },
   {
    "duration": 9,
    "start_time": "2022-12-10T16:29:02.716Z"
   },
   {
    "duration": 18,
    "start_time": "2022-12-10T16:29:02.727Z"
   },
   {
    "duration": 39,
    "start_time": "2022-12-10T16:29:02.746Z"
   },
   {
    "duration": 13,
    "start_time": "2022-12-10T16:29:02.787Z"
   },
   {
    "duration": 4,
    "start_time": "2022-12-10T16:29:02.802Z"
   },
   {
    "duration": 5,
    "start_time": "2022-12-10T16:29:02.809Z"
   },
   {
    "duration": 28,
    "start_time": "2022-12-10T16:29:02.815Z"
   },
   {
    "duration": 47,
    "start_time": "2022-12-10T16:29:02.847Z"
   },
   {
    "duration": 6,
    "start_time": "2022-12-10T16:29:02.896Z"
   },
   {
    "duration": 4,
    "start_time": "2022-12-10T16:29:02.904Z"
   },
   {
    "duration": 8,
    "start_time": "2022-12-10T16:29:02.910Z"
   },
   {
    "duration": 7,
    "start_time": "2022-12-10T16:29:02.920Z"
   },
   {
    "duration": 33,
    "start_time": "2022-12-10T16:29:02.928Z"
   },
   {
    "duration": 5,
    "start_time": "2022-12-10T16:29:02.966Z"
   },
   {
    "duration": 26,
    "start_time": "2022-12-10T16:29:02.973Z"
   },
   {
    "duration": 52,
    "start_time": "2022-12-10T16:29:03.001Z"
   },
   {
    "duration": 45,
    "start_time": "2022-12-10T16:29:03.055Z"
   },
   {
    "duration": 9,
    "start_time": "2022-12-10T16:29:03.102Z"
   },
   {
    "duration": 28,
    "start_time": "2022-12-10T16:29:03.113Z"
   },
   {
    "duration": 20,
    "start_time": "2022-12-10T16:29:03.148Z"
   },
   {
    "duration": 16,
    "start_time": "2022-12-10T16:29:03.170Z"
   },
   {
    "duration": 3735,
    "start_time": "2022-12-10T16:29:03.188Z"
   },
   {
    "duration": 24,
    "start_time": "2022-12-10T16:29:06.925Z"
   },
   {
    "duration": 16,
    "start_time": "2022-12-10T16:29:06.966Z"
   },
   {
    "duration": 228,
    "start_time": "2022-12-10T16:29:06.984Z"
   },
   {
    "duration": 466,
    "start_time": "2022-12-10T16:29:07.214Z"
   },
   {
    "duration": 172,
    "start_time": "2022-12-10T16:29:07.682Z"
   },
   {
    "duration": 260,
    "start_time": "2022-12-10T16:29:07.858Z"
   },
   {
    "duration": 329,
    "start_time": "2022-12-10T16:29:08.119Z"
   },
   {
    "duration": 257,
    "start_time": "2022-12-10T16:29:08.450Z"
   },
   {
    "duration": 293,
    "start_time": "2022-12-10T16:29:08.709Z"
   },
   {
    "duration": 272,
    "start_time": "2022-12-10T16:29:09.004Z"
   },
   {
    "duration": 244,
    "start_time": "2022-12-10T16:29:09.278Z"
   },
   {
    "duration": 220,
    "start_time": "2022-12-10T16:29:09.524Z"
   },
   {
    "duration": 239,
    "start_time": "2022-12-10T16:29:09.752Z"
   },
   {
    "duration": 256,
    "start_time": "2022-12-10T16:29:09.992Z"
   },
   {
    "duration": 232,
    "start_time": "2022-12-10T16:29:10.252Z"
   },
   {
    "duration": 256,
    "start_time": "2022-12-10T16:29:10.486Z"
   },
   {
    "duration": 239,
    "start_time": "2022-12-10T16:29:10.744Z"
   },
   {
    "duration": 280,
    "start_time": "2022-12-10T16:29:10.985Z"
   },
   {
    "duration": 228,
    "start_time": "2022-12-10T16:29:11.267Z"
   },
   {
    "duration": 994,
    "start_time": "2022-12-10T16:29:11.497Z"
   },
   {
    "duration": 15,
    "start_time": "2022-12-10T16:29:12.492Z"
   },
   {
    "duration": 234,
    "start_time": "2022-12-10T16:29:12.509Z"
   },
   {
    "duration": 12,
    "start_time": "2022-12-10T16:29:25.366Z"
   },
   {
    "duration": 503,
    "start_time": "2022-12-10T16:29:54.474Z"
   },
   {
    "duration": 34,
    "start_time": "2022-12-10T16:29:54.979Z"
   },
   {
    "duration": 33,
    "start_time": "2022-12-10T16:29:55.015Z"
   },
   {
    "duration": 2443,
    "start_time": "2022-12-10T16:29:55.051Z"
   },
   {
    "duration": 8,
    "start_time": "2022-12-10T16:29:57.496Z"
   },
   {
    "duration": 6,
    "start_time": "2022-12-10T16:29:57.506Z"
   },
   {
    "duration": 33,
    "start_time": "2022-12-10T16:29:57.514Z"
   },
   {
    "duration": 19,
    "start_time": "2022-12-10T16:29:57.549Z"
   },
   {
    "duration": 6,
    "start_time": "2022-12-10T16:29:57.570Z"
   },
   {
    "duration": 7,
    "start_time": "2022-12-10T16:29:57.579Z"
   },
   {
    "duration": 6,
    "start_time": "2022-12-10T16:29:57.588Z"
   },
   {
    "duration": 27,
    "start_time": "2022-12-10T16:29:57.596Z"
   },
   {
    "duration": 20,
    "start_time": "2022-12-10T16:29:57.625Z"
   },
   {
    "duration": 4,
    "start_time": "2022-12-10T16:29:57.646Z"
   },
   {
    "duration": 26,
    "start_time": "2022-12-10T16:29:57.654Z"
   },
   {
    "duration": 7,
    "start_time": "2022-12-10T16:29:57.681Z"
   },
   {
    "duration": 18,
    "start_time": "2022-12-10T16:29:57.690Z"
   },
   {
    "duration": 5,
    "start_time": "2022-12-10T16:29:57.710Z"
   },
   {
    "duration": 45,
    "start_time": "2022-12-10T16:29:57.716Z"
   },
   {
    "duration": 33,
    "start_time": "2022-12-10T16:29:57.766Z"
   },
   {
    "duration": 63,
    "start_time": "2022-12-10T16:29:57.801Z"
   },
   {
    "duration": 13,
    "start_time": "2022-12-10T16:29:57.866Z"
   },
   {
    "duration": 12,
    "start_time": "2022-12-10T16:29:57.881Z"
   },
   {
    "duration": 11,
    "start_time": "2022-12-10T16:29:57.895Z"
   },
   {
    "duration": 47,
    "start_time": "2022-12-10T16:29:57.908Z"
   },
   {
    "duration": 3672,
    "start_time": "2022-12-10T16:29:57.956Z"
   },
   {
    "duration": 23,
    "start_time": "2022-12-10T16:30:01.630Z"
   },
   {
    "duration": 17,
    "start_time": "2022-12-10T16:30:01.657Z"
   },
   {
    "duration": 218,
    "start_time": "2022-12-10T16:30:01.676Z"
   },
   {
    "duration": 477,
    "start_time": "2022-12-10T16:30:01.897Z"
   },
   {
    "duration": 151,
    "start_time": "2022-12-10T16:30:02.376Z"
   },
   {
    "duration": 260,
    "start_time": "2022-12-10T16:30:02.529Z"
   },
   {
    "duration": 264,
    "start_time": "2022-12-10T16:30:02.791Z"
   },
   {
    "duration": 312,
    "start_time": "2022-12-10T16:30:03.061Z"
   },
   {
    "duration": 250,
    "start_time": "2022-12-10T16:30:03.375Z"
   },
   {
    "duration": 247,
    "start_time": "2022-12-10T16:30:03.627Z"
   },
   {
    "duration": 250,
    "start_time": "2022-12-10T16:30:03.876Z"
   },
   {
    "duration": 255,
    "start_time": "2022-12-10T16:30:04.127Z"
   },
   {
    "duration": 229,
    "start_time": "2022-12-10T16:30:04.384Z"
   },
   {
    "duration": 253,
    "start_time": "2022-12-10T16:30:04.615Z"
   },
   {
    "duration": 236,
    "start_time": "2022-12-10T16:30:04.870Z"
   },
   {
    "duration": 260,
    "start_time": "2022-12-10T16:30:05.107Z"
   },
   {
    "duration": 222,
    "start_time": "2022-12-10T16:30:05.368Z"
   },
   {
    "duration": 289,
    "start_time": "2022-12-10T16:30:05.592Z"
   },
   {
    "duration": 234,
    "start_time": "2022-12-10T16:30:05.883Z"
   },
   {
    "duration": 982,
    "start_time": "2022-12-10T16:30:06.119Z"
   },
   {
    "duration": 15,
    "start_time": "2022-12-10T16:30:07.103Z"
   },
   {
    "duration": 240,
    "start_time": "2022-12-10T16:30:07.120Z"
   },
   {
    "duration": 10,
    "start_time": "2022-12-10T16:30:26.804Z"
   },
   {
    "duration": 520,
    "start_time": "2022-12-10T21:03:52.361Z"
   },
   {
    "duration": 37,
    "start_time": "2022-12-10T21:03:52.883Z"
   },
   {
    "duration": 21,
    "start_time": "2022-12-10T21:03:52.922Z"
   },
   {
    "duration": 2379,
    "start_time": "2022-12-10T21:03:52.945Z"
   },
   {
    "duration": 8,
    "start_time": "2022-12-10T21:03:55.329Z"
   },
   {
    "duration": 8,
    "start_time": "2022-12-10T21:03:55.339Z"
   },
   {
    "duration": 30,
    "start_time": "2022-12-10T21:03:55.348Z"
   },
   {
    "duration": 11,
    "start_time": "2022-12-10T21:03:55.380Z"
   },
   {
    "duration": 21,
    "start_time": "2022-12-10T21:03:55.393Z"
   },
   {
    "duration": 4,
    "start_time": "2022-12-10T21:03:55.431Z"
   },
   {
    "duration": 6,
    "start_time": "2022-12-10T21:03:55.436Z"
   },
   {
    "duration": 25,
    "start_time": "2022-12-10T21:03:55.443Z"
   },
   {
    "duration": 6,
    "start_time": "2022-12-10T21:03:55.469Z"
   },
   {
    "duration": 3,
    "start_time": "2022-12-10T21:03:55.476Z"
   },
   {
    "duration": 7,
    "start_time": "2022-12-10T21:03:55.481Z"
   },
   {
    "duration": 30,
    "start_time": "2022-12-10T21:03:55.490Z"
   },
   {
    "duration": 18,
    "start_time": "2022-12-10T21:03:55.525Z"
   },
   {
    "duration": 5,
    "start_time": "2022-12-10T21:03:55.545Z"
   },
   {
    "duration": 23,
    "start_time": "2022-12-10T21:03:55.552Z"
   },
   {
    "duration": 39,
    "start_time": "2022-12-10T21:03:55.576Z"
   },
   {
    "duration": 65,
    "start_time": "2022-12-10T21:03:55.621Z"
   },
   {
    "duration": 13,
    "start_time": "2022-12-10T21:03:55.688Z"
   },
   {
    "duration": 18,
    "start_time": "2022-12-10T21:03:55.714Z"
   },
   {
    "duration": 12,
    "start_time": "2022-12-10T21:03:55.734Z"
   },
   {
    "duration": 10,
    "start_time": "2022-12-10T21:03:55.748Z"
   },
   {
    "duration": 3000,
    "start_time": "2022-12-10T21:03:55.760Z"
   },
   {
    "duration": 7,
    "start_time": "2022-12-10T21:03:58.762Z"
   },
   {
    "duration": 13,
    "start_time": "2022-12-10T21:03:58.772Z"
   },
   {
    "duration": 215,
    "start_time": "2022-12-10T21:03:58.786Z"
   },
   {
    "duration": 389,
    "start_time": "2022-12-10T21:03:59.003Z"
   },
   {
    "duration": 136,
    "start_time": "2022-12-10T21:03:59.394Z"
   },
   {
    "duration": 248,
    "start_time": "2022-12-10T21:03:59.532Z"
   },
   {
    "duration": 295,
    "start_time": "2022-12-10T21:03:59.781Z"
   },
   {
    "duration": 216,
    "start_time": "2022-12-10T21:04:00.078Z"
   },
   {
    "duration": 291,
    "start_time": "2022-12-10T21:04:00.296Z"
   },
   {
    "duration": 217,
    "start_time": "2022-12-10T21:04:00.588Z"
   },
   {
    "duration": 229,
    "start_time": "2022-12-10T21:04:00.812Z"
   },
   {
    "duration": 195,
    "start_time": "2022-12-10T21:04:01.042Z"
   },
   {
    "duration": 207,
    "start_time": "2022-12-10T21:04:01.239Z"
   },
   {
    "duration": 226,
    "start_time": "2022-12-10T21:04:01.448Z"
   },
   {
    "duration": 202,
    "start_time": "2022-12-10T21:04:01.676Z"
   },
   {
    "duration": 222,
    "start_time": "2022-12-10T21:04:01.880Z"
   },
   {
    "duration": 204,
    "start_time": "2022-12-10T21:04:02.104Z"
   },
   {
    "duration": 234,
    "start_time": "2022-12-10T21:04:02.310Z"
   },
   {
    "duration": 199,
    "start_time": "2022-12-10T21:04:02.546Z"
   },
   {
    "duration": 899,
    "start_time": "2022-12-10T21:04:02.747Z"
   },
   {
    "duration": 14,
    "start_time": "2022-12-10T21:04:03.648Z"
   },
   {
    "duration": 214,
    "start_time": "2022-12-10T21:04:03.664Z"
   },
   {
    "duration": 1075,
    "start_time": "2023-06-06T16:38:35.727Z"
   },
   {
    "duration": 35,
    "start_time": "2023-06-06T16:38:36.804Z"
   },
   {
    "duration": 15,
    "start_time": "2023-06-06T16:38:36.841Z"
   },
   {
    "duration": 2382,
    "start_time": "2023-06-06T16:38:36.858Z"
   },
   {
    "duration": 9,
    "start_time": "2023-06-06T16:38:39.241Z"
   },
   {
    "duration": 35,
    "start_time": "2023-06-06T16:38:39.252Z"
   },
   {
    "duration": 63,
    "start_time": "2023-06-06T16:38:39.288Z"
   },
   {
    "duration": 26,
    "start_time": "2023-06-06T16:38:39.353Z"
   },
   {
    "duration": 30,
    "start_time": "2023-06-06T16:38:39.380Z"
   },
   {
    "duration": 33,
    "start_time": "2023-06-06T16:38:39.413Z"
   },
   {
    "duration": 31,
    "start_time": "2023-06-06T16:38:39.448Z"
   },
   {
    "duration": 68,
    "start_time": "2023-06-06T16:38:39.481Z"
   },
   {
    "duration": 24,
    "start_time": "2023-06-06T16:38:39.550Z"
   },
   {
    "duration": 26,
    "start_time": "2023-06-06T16:38:39.576Z"
   },
   {
    "duration": 43,
    "start_time": "2023-06-06T16:38:39.604Z"
   },
   {
    "duration": 60,
    "start_time": "2023-06-06T16:38:39.649Z"
   },
   {
    "duration": 59,
    "start_time": "2023-06-06T16:38:39.711Z"
   },
   {
    "duration": 26,
    "start_time": "2023-06-06T16:38:39.772Z"
   },
   {
    "duration": 30,
    "start_time": "2023-06-06T16:38:39.800Z"
   },
   {
    "duration": 37,
    "start_time": "2023-06-06T16:38:39.832Z"
   },
   {
    "duration": 37,
    "start_time": "2023-06-06T16:38:39.871Z"
   },
   {
    "duration": 9,
    "start_time": "2023-06-06T16:38:39.910Z"
   },
   {
    "duration": 29,
    "start_time": "2023-06-06T16:38:39.920Z"
   },
   {
    "duration": 35,
    "start_time": "2023-06-06T16:38:39.951Z"
   },
   {
    "duration": 25,
    "start_time": "2023-06-06T16:38:39.987Z"
   },
   {
    "duration": 3550,
    "start_time": "2023-06-06T16:38:40.014Z"
   },
   {
    "duration": 8,
    "start_time": "2023-06-06T16:38:43.566Z"
   },
   {
    "duration": 61,
    "start_time": "2023-06-06T16:38:43.577Z"
   },
   {
    "duration": 220,
    "start_time": "2023-06-06T16:38:43.640Z"
   },
   {
    "duration": 406,
    "start_time": "2023-06-06T16:38:43.862Z"
   },
   {
    "duration": 142,
    "start_time": "2023-06-06T16:38:44.270Z"
   },
   {
    "duration": 173,
    "start_time": "2023-06-06T16:38:44.414Z"
   },
   {
    "duration": 223,
    "start_time": "2023-06-06T16:38:44.589Z"
   },
   {
    "duration": 156,
    "start_time": "2023-06-06T16:38:44.813Z"
   },
   {
    "duration": 153,
    "start_time": "2023-06-06T16:38:44.971Z"
   },
   {
    "duration": 148,
    "start_time": "2023-06-06T16:38:45.125Z"
   },
   {
    "duration": 147,
    "start_time": "2023-06-06T16:38:45.275Z"
   },
   {
    "duration": 148,
    "start_time": "2023-06-06T16:38:45.424Z"
   },
   {
    "duration": 141,
    "start_time": "2023-06-06T16:38:45.573Z"
   },
   {
    "duration": 157,
    "start_time": "2023-06-06T16:38:45.716Z"
   },
   {
    "duration": 140,
    "start_time": "2023-06-06T16:38:45.875Z"
   },
   {
    "duration": 161,
    "start_time": "2023-06-06T16:38:46.017Z"
   },
   {
    "duration": 143,
    "start_time": "2023-06-06T16:38:46.180Z"
   },
   {
    "duration": 188,
    "start_time": "2023-06-06T16:38:46.325Z"
   },
   {
    "duration": 198,
    "start_time": "2023-06-06T16:38:46.515Z"
   },
   {
    "duration": 912,
    "start_time": "2023-06-06T16:38:46.714Z"
   },
   {
    "duration": 18,
    "start_time": "2023-06-06T16:38:47.628Z"
   },
   {
    "duration": 206,
    "start_time": "2023-06-06T16:38:47.648Z"
   },
   {
    "duration": 692,
    "start_time": "2023-06-06T16:43:40.838Z"
   },
   {
    "duration": 97,
    "start_time": "2023-06-06T16:43:41.532Z"
   },
   {
    "duration": 36,
    "start_time": "2023-06-06T16:43:41.631Z"
   },
   {
    "duration": 16,
    "start_time": "2023-06-06T16:43:41.670Z"
   },
   {
    "duration": 2210,
    "start_time": "2023-06-06T16:43:41.688Z"
   },
   {
    "duration": 8,
    "start_time": "2023-06-06T16:43:43.900Z"
   },
   {
    "duration": 34,
    "start_time": "2023-06-06T16:43:43.910Z"
   },
   {
    "duration": 44,
    "start_time": "2023-06-06T16:43:43.946Z"
   },
   {
    "duration": 12,
    "start_time": "2023-06-06T16:43:43.992Z"
   },
   {
    "duration": 21,
    "start_time": "2023-06-06T16:43:44.006Z"
   },
   {
    "duration": 24,
    "start_time": "2023-06-06T16:43:44.029Z"
   },
   {
    "duration": 16,
    "start_time": "2023-06-06T16:43:44.055Z"
   },
   {
    "duration": 46,
    "start_time": "2023-06-06T16:43:44.073Z"
   },
   {
    "duration": 32,
    "start_time": "2023-06-06T16:43:44.121Z"
   },
   {
    "duration": 22,
    "start_time": "2023-06-06T16:43:44.155Z"
   },
   {
    "duration": 22,
    "start_time": "2023-06-06T16:43:44.180Z"
   },
   {
    "duration": 32,
    "start_time": "2023-06-06T16:43:44.204Z"
   },
   {
    "duration": 28,
    "start_time": "2023-06-06T16:43:44.238Z"
   },
   {
    "duration": 24,
    "start_time": "2023-06-06T16:43:44.268Z"
   },
   {
    "duration": 48,
    "start_time": "2023-06-06T16:43:44.294Z"
   },
   {
    "duration": 41,
    "start_time": "2023-06-06T16:43:44.344Z"
   },
   {
    "duration": 48,
    "start_time": "2023-06-06T16:43:44.387Z"
   },
   {
    "duration": 21,
    "start_time": "2023-06-06T16:43:44.437Z"
   },
   {
    "duration": 9,
    "start_time": "2023-06-06T16:43:44.460Z"
   },
   {
    "duration": 14,
    "start_time": "2023-06-06T16:43:44.471Z"
   },
   {
    "duration": 20,
    "start_time": "2023-06-06T16:43:44.487Z"
   },
   {
    "duration": 3512,
    "start_time": "2023-06-06T16:43:44.508Z"
   },
   {
    "duration": 8,
    "start_time": "2023-06-06T16:43:48.023Z"
   },
   {
    "duration": 21,
    "start_time": "2023-06-06T16:43:48.033Z"
   },
   {
    "duration": 198,
    "start_time": "2023-06-06T16:43:48.056Z"
   },
   {
    "duration": 415,
    "start_time": "2023-06-06T16:43:48.256Z"
   },
   {
    "duration": 153,
    "start_time": "2023-06-06T16:43:48.673Z"
   },
   {
    "duration": 186,
    "start_time": "2023-06-06T16:43:48.828Z"
   },
   {
    "duration": 169,
    "start_time": "2023-06-06T16:43:49.016Z"
   },
   {
    "duration": 244,
    "start_time": "2023-06-06T16:43:49.187Z"
   },
   {
    "duration": 173,
    "start_time": "2023-06-06T16:43:49.433Z"
   },
   {
    "duration": 163,
    "start_time": "2023-06-06T16:43:49.609Z"
   },
   {
    "duration": 184,
    "start_time": "2023-06-06T16:43:49.774Z"
   },
   {
    "duration": 144,
    "start_time": "2023-06-06T16:43:49.960Z"
   },
   {
    "duration": 160,
    "start_time": "2023-06-06T16:43:50.106Z"
   },
   {
    "duration": 178,
    "start_time": "2023-06-06T16:43:50.268Z"
   },
   {
    "duration": 150,
    "start_time": "2023-06-06T16:43:50.448Z"
   },
   {
    "duration": 179,
    "start_time": "2023-06-06T16:43:50.600Z"
   },
   {
    "duration": 151,
    "start_time": "2023-06-06T16:43:50.781Z"
   },
   {
    "duration": 195,
    "start_time": "2023-06-06T16:43:50.935Z"
   },
   {
    "duration": 200,
    "start_time": "2023-06-06T16:43:51.133Z"
   },
   {
    "duration": 970,
    "start_time": "2023-06-06T16:43:51.335Z"
   },
   {
    "duration": 15,
    "start_time": "2023-06-06T16:43:52.307Z"
   },
   {
    "duration": 262,
    "start_time": "2023-06-06T16:43:52.324Z"
   },
   {
    "duration": 695,
    "start_time": "2023-06-06T16:57:17.070Z"
   },
   {
    "duration": 98,
    "start_time": "2023-06-06T16:57:17.767Z"
   },
   {
    "duration": 34,
    "start_time": "2023-06-06T16:57:17.867Z"
   },
   {
    "duration": 15,
    "start_time": "2023-06-06T16:57:17.903Z"
   },
   {
    "duration": 2076,
    "start_time": "2023-06-06T16:57:17.920Z"
   },
   {
    "duration": 9,
    "start_time": "2023-06-06T16:57:19.998Z"
   },
   {
    "duration": 12,
    "start_time": "2023-06-06T16:57:20.009Z"
   },
   {
    "duration": 59,
    "start_time": "2023-06-06T16:57:20.023Z"
   },
   {
    "duration": 12,
    "start_time": "2023-06-06T16:57:20.084Z"
   },
   {
    "duration": 10,
    "start_time": "2023-06-06T16:57:20.099Z"
   },
   {
    "duration": 17,
    "start_time": "2023-06-06T16:57:20.111Z"
   },
   {
    "duration": 9,
    "start_time": "2023-06-06T16:57:20.129Z"
   },
   {
    "duration": 54,
    "start_time": "2023-06-06T16:57:20.139Z"
   },
   {
    "duration": 13,
    "start_time": "2023-06-06T16:57:20.195Z"
   },
   {
    "duration": 10,
    "start_time": "2023-06-06T16:57:20.210Z"
   },
   {
    "duration": 23,
    "start_time": "2023-06-06T16:57:20.222Z"
   },
   {
    "duration": 8,
    "start_time": "2023-06-06T16:57:20.247Z"
   },
   {
    "duration": 22,
    "start_time": "2023-06-06T16:57:20.256Z"
   },
   {
    "duration": 8,
    "start_time": "2023-06-06T16:57:20.280Z"
   },
   {
    "duration": 32,
    "start_time": "2023-06-06T16:57:20.290Z"
   },
   {
    "duration": 45,
    "start_time": "2023-06-06T16:57:20.324Z"
   },
   {
    "duration": 41,
    "start_time": "2023-06-06T16:57:20.372Z"
   },
   {
    "duration": 17,
    "start_time": "2023-06-06T16:57:20.415Z"
   },
   {
    "duration": 13,
    "start_time": "2023-06-06T16:57:20.447Z"
   },
   {
    "duration": 12,
    "start_time": "2023-06-06T16:57:20.462Z"
   },
   {
    "duration": 16,
    "start_time": "2023-06-06T16:57:20.476Z"
   },
   {
    "duration": 3511,
    "start_time": "2023-06-06T16:57:20.493Z"
   },
   {
    "duration": 8,
    "start_time": "2023-06-06T16:57:24.007Z"
   },
   {
    "duration": 36,
    "start_time": "2023-06-06T16:57:24.017Z"
   },
   {
    "duration": 214,
    "start_time": "2023-06-06T16:57:24.055Z"
   },
   {
    "duration": 404,
    "start_time": "2023-06-06T16:57:24.271Z"
   },
   {
    "duration": 173,
    "start_time": "2023-06-06T16:57:24.677Z"
   },
   {
    "duration": 191,
    "start_time": "2023-06-06T16:57:24.852Z"
   },
   {
    "duration": 186,
    "start_time": "2023-06-06T16:57:25.045Z"
   },
   {
    "duration": 234,
    "start_time": "2023-06-06T16:57:25.233Z"
   },
   {
    "duration": 181,
    "start_time": "2023-06-06T16:57:25.468Z"
   },
   {
    "duration": 185,
    "start_time": "2023-06-06T16:57:25.651Z"
   },
   {
    "duration": 188,
    "start_time": "2023-06-06T16:57:25.838Z"
   },
   {
    "duration": 166,
    "start_time": "2023-06-06T16:57:26.027Z"
   },
   {
    "duration": 198,
    "start_time": "2023-06-06T16:57:26.194Z"
   },
   {
    "duration": 191,
    "start_time": "2023-06-06T16:57:26.395Z"
   },
   {
    "duration": 170,
    "start_time": "2023-06-06T16:57:26.588Z"
   },
   {
    "duration": 198,
    "start_time": "2023-06-06T16:57:26.760Z"
   },
   {
    "duration": 170,
    "start_time": "2023-06-06T16:57:26.960Z"
   },
   {
    "duration": 200,
    "start_time": "2023-06-06T16:57:27.131Z"
   },
   {
    "duration": 242,
    "start_time": "2023-06-06T16:57:27.332Z"
   },
   {
    "duration": 930,
    "start_time": "2023-06-06T16:57:27.576Z"
   },
   {
    "duration": 15,
    "start_time": "2023-06-06T16:57:28.508Z"
   },
   {
    "duration": 222,
    "start_time": "2023-06-06T16:57:28.524Z"
   }
  ],
  "kernelspec": {
   "display_name": "Python 3 (ipykernel)",
   "language": "python",
   "name": "python3"
  },
  "language_info": {
   "codemirror_mode": {
    "name": "ipython",
    "version": 3
   },
   "file_extension": ".py",
   "mimetype": "text/x-python",
   "name": "python",
   "nbconvert_exporter": "python",
   "pygments_lexer": "ipython3",
   "version": "3.9.13"
  },
  "toc": {
   "base_numbering": 1,
   "nav_menu": {},
   "number_sections": true,
   "sideBar": true,
   "skip_h1_title": true,
   "title_cell": "Table of Contents",
   "title_sidebar": "Contents",
   "toc_cell": false,
   "toc_position": {},
   "toc_section_display": true,
   "toc_window_display": false
  }
 },
 "nbformat": 4,
 "nbformat_minor": 2
}
